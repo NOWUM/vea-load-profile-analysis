{
 "cells": [
  {
   "cell_type": "code",
   "execution_count": 121,
   "id": "d0b0cf96",
   "metadata": {},
   "outputs": [],
   "source": [
    "import os\n",
    "\n",
    "import pandas as pd\n",
    "import numpy as np\n",
    "import plotly.express as px\n",
    "\n",
    "from scipy.stats import pearsonr"
   ]
  },
  {
   "cell_type": "markdown",
   "id": "36c95f92",
   "metadata": {},
   "source": [
    "# Table of Contents\n",
    "\n",
    "1. [Data loading](#data-loading)\n",
    "2. [General analysis](#general-analysis)\n",
    "    - [System sizes](#system-sizes)\n",
    "    - [System investments](#system-investments)\n",
    "3. [Comparison](#comparison)\n",
    "    - [Yearly savings](#yearly-savings)\n",
    "    - [Energy costs](#energy-costs)\n",
    "4. [Correlations](#correlations)\n",
    "    - [On absolute savings](#on-absolute-savings)\n",
    "    - [On relative savings](#on-relative-savings)"
   ]
  },
  {
   "cell_type": "markdown",
   "id": "6b866269",
   "metadata": {},
   "source": [
    "# Data loading"
   ]
  },
  {
   "cell_type": "code",
   "execution_count": 122,
   "id": "3e3524a2",
   "metadata": {},
   "outputs": [],
   "source": [
    "URI = os.getenv(\"DB_URI\")"
   ]
  },
  {
   "cell_type": "code",
   "execution_count": 123,
   "id": "0cbf57b0",
   "metadata": {},
   "outputs": [
    {
     "data": {
      "text/html": [
       "<div>\n",
       "<style scoped>\n",
       "    .dataframe tbody tr th:only-of-type {\n",
       "        vertical-align: middle;\n",
       "    }\n",
       "\n",
       "    .dataframe tbody tr th {\n",
       "        vertical-align: top;\n",
       "    }\n",
       "\n",
       "    .dataframe thead th {\n",
       "        text-align: right;\n",
       "    }\n",
       "</style>\n",
       "<table border=\"1\" class=\"dataframe\">\n",
       "  <thead>\n",
       "    <tr style=\"text-align: right;\">\n",
       "      <th></th>\n",
       "      <th>sector_group_id</th>\n",
       "      <th>sector_group</th>\n",
       "      <th>capacity_price_over_2500h_eur_per_kw</th>\n",
       "      <th>energy_price_over_2500h_eur_per_kwh</th>\n",
       "      <th>capacity_price_under_2500h_eur_per_kw</th>\n",
       "      <th>energy_price_under_2500h_eur_per_kwh</th>\n",
       "      <th>zip_code</th>\n",
       "      <th>grid_level</th>\n",
       "      <th>number_of_peak_load</th>\n",
       "      <th>peak_load_kw</th>\n",
       "      <th>mean_load_kw</th>\n",
       "      <th>variance_kw</th>\n",
       "      <th>total_energy_kwh</th>\n",
       "      <th>full_load_hours_h</th>\n",
       "      <th>is_over_2500h</th>\n",
       "      <th>std_kw</th>\n",
       "    </tr>\n",
       "    <tr>\n",
       "      <th>id</th>\n",
       "      <th></th>\n",
       "      <th></th>\n",
       "      <th></th>\n",
       "      <th></th>\n",
       "      <th></th>\n",
       "      <th></th>\n",
       "      <th></th>\n",
       "      <th></th>\n",
       "      <th></th>\n",
       "      <th></th>\n",
       "      <th></th>\n",
       "      <th></th>\n",
       "      <th></th>\n",
       "      <th></th>\n",
       "      <th></th>\n",
       "      <th></th>\n",
       "    </tr>\n",
       "  </thead>\n",
       "  <tbody>\n",
       "    <tr>\n",
       "      <th>0</th>\n",
       "      <td>B</td>\n",
       "      <td>Mining and quarrying</td>\n",
       "      <td>94.60</td>\n",
       "      <td>0.0060</td>\n",
       "      <td>14.67</td>\n",
       "      <td>0.0379</td>\n",
       "      <td>85</td>\n",
       "      <td>MS</td>\n",
       "      <td>1</td>\n",
       "      <td>2227.36</td>\n",
       "      <td>646.151302</td>\n",
       "      <td>423413.418622</td>\n",
       "      <td>5675793.04</td>\n",
       "      <td>2548.215394</td>\n",
       "      <td>True</td>\n",
       "      <td>650.702250</td>\n",
       "    </tr>\n",
       "    <tr>\n",
       "      <th>1</th>\n",
       "      <td>B</td>\n",
       "      <td>Mining and quarrying</td>\n",
       "      <td>96.11</td>\n",
       "      <td>0.0052</td>\n",
       "      <td>9.92</td>\n",
       "      <td>0.0397</td>\n",
       "      <td>91</td>\n",
       "      <td>MS</td>\n",
       "      <td>1</td>\n",
       "      <td>1096.00</td>\n",
       "      <td>208.694900</td>\n",
       "      <td>109792.561757</td>\n",
       "      <td>1833176.00</td>\n",
       "      <td>1672.605839</td>\n",
       "      <td>False</td>\n",
       "      <td>331.349607</td>\n",
       "    </tr>\n",
       "    <tr>\n",
       "      <th>2</th>\n",
       "      <td>B</td>\n",
       "      <td>Mining and quarrying</td>\n",
       "      <td>96.11</td>\n",
       "      <td>0.0052</td>\n",
       "      <td>9.92</td>\n",
       "      <td>0.0397</td>\n",
       "      <td>92</td>\n",
       "      <td>MS</td>\n",
       "      <td>1</td>\n",
       "      <td>816.00</td>\n",
       "      <td>129.444604</td>\n",
       "      <td>36662.220510</td>\n",
       "      <td>1137041.40</td>\n",
       "      <td>1393.433088</td>\n",
       "      <td>False</td>\n",
       "      <td>191.473812</td>\n",
       "    </tr>\n",
       "    <tr>\n",
       "      <th>3</th>\n",
       "      <td>B</td>\n",
       "      <td>Mining and quarrying</td>\n",
       "      <td>96.11</td>\n",
       "      <td>0.0052</td>\n",
       "      <td>9.92</td>\n",
       "      <td>0.0397</td>\n",
       "      <td>85</td>\n",
       "      <td>MS</td>\n",
       "      <td>1</td>\n",
       "      <td>701.60</td>\n",
       "      <td>114.201389</td>\n",
       "      <td>19954.089684</td>\n",
       "      <td>1003145.00</td>\n",
       "      <td>1429.796180</td>\n",
       "      <td>False</td>\n",
       "      <td>141.258946</td>\n",
       "    </tr>\n",
       "    <tr>\n",
       "      <th>4</th>\n",
       "      <td>C</td>\n",
       "      <td>Manufacturing industry</td>\n",
       "      <td>101.04</td>\n",
       "      <td>0.0078</td>\n",
       "      <td>12.60</td>\n",
       "      <td>0.0432</td>\n",
       "      <td>30</td>\n",
       "      <td>MS</td>\n",
       "      <td>2</td>\n",
       "      <td>3480.00</td>\n",
       "      <td>1845.483607</td>\n",
       "      <td>610080.465591</td>\n",
       "      <td>16210728.00</td>\n",
       "      <td>4658.255172</td>\n",
       "      <td>True</td>\n",
       "      <td>781.076479</td>\n",
       "    </tr>\n",
       "  </tbody>\n",
       "</table>\n",
       "</div>"
      ],
      "text/plain": [
       "   sector_group_id            sector_group  \\\n",
       "id                                           \n",
       "0                B    Mining and quarrying   \n",
       "1                B    Mining and quarrying   \n",
       "2                B    Mining and quarrying   \n",
       "3                B    Mining and quarrying   \n",
       "4                C  Manufacturing industry   \n",
       "\n",
       "    capacity_price_over_2500h_eur_per_kw  energy_price_over_2500h_eur_per_kwh  \\\n",
       "id                                                                              \n",
       "0                                  94.60                               0.0060   \n",
       "1                                  96.11                               0.0052   \n",
       "2                                  96.11                               0.0052   \n",
       "3                                  96.11                               0.0052   \n",
       "4                                 101.04                               0.0078   \n",
       "\n",
       "    capacity_price_under_2500h_eur_per_kw  \\\n",
       "id                                          \n",
       "0                                   14.67   \n",
       "1                                    9.92   \n",
       "2                                    9.92   \n",
       "3                                    9.92   \n",
       "4                                   12.60   \n",
       "\n",
       "    energy_price_under_2500h_eur_per_kwh  zip_code grid_level  \\\n",
       "id                                                              \n",
       "0                                 0.0379        85         MS   \n",
       "1                                 0.0397        91         MS   \n",
       "2                                 0.0397        92         MS   \n",
       "3                                 0.0397        85         MS   \n",
       "4                                 0.0432        30         MS   \n",
       "\n",
       "    number_of_peak_load  peak_load_kw  mean_load_kw    variance_kw  \\\n",
       "id                                                                   \n",
       "0                     1       2227.36    646.151302  423413.418622   \n",
       "1                     1       1096.00    208.694900  109792.561757   \n",
       "2                     1        816.00    129.444604   36662.220510   \n",
       "3                     1        701.60    114.201389   19954.089684   \n",
       "4                     2       3480.00   1845.483607  610080.465591   \n",
       "\n",
       "    total_energy_kwh  full_load_hours_h  is_over_2500h      std_kw  \n",
       "id                                                                  \n",
       "0         5675793.04        2548.215394           True  650.702250  \n",
       "1         1833176.00        1672.605839          False  331.349607  \n",
       "2         1137041.40        1393.433088          False  191.473812  \n",
       "3         1003145.00        1429.796180          False  141.258946  \n",
       "4        16210728.00        4658.255172           True  781.076479  "
      ]
     },
     "execution_count": 123,
     "metadata": {},
     "output_type": "execute_result"
    }
   ],
   "source": [
    "master = pd.read_sql(\"SELECT * FROM vea_industrial_load_profiles.master\", URI)\n",
    "master.set_index(\"id\", inplace=True)\n",
    "master.sort_index(inplace=True)\n",
    "\n",
    "# in the authors database, the following columns are already present in master\n",
    "# this will lead to problems later on, so we drop them here\n",
    "# if you have created your own features by the \"create_master_features.py\", you\n",
    "# do not need to worry about it\n",
    "cols_to_drop = [\"energy_costs_eur\", \"capacity_costs_eur\", \"total_costs_eur\"]\n",
    "for col_to_drop in cols_to_drop:\n",
    "    try:\n",
    "        master.drop(columns=col_to_drop, inplace=True)\n",
    "    except KeyError as e:\n",
    "        continue\n",
    "\n",
    "master.head()"
   ]
  },
  {
   "cell_type": "code",
   "execution_count": 124,
   "id": "f30b4853",
   "metadata": {},
   "outputs": [
    {
     "data": {
      "text/html": [
       "<div>\n",
       "<style scoped>\n",
       "    .dataframe tbody tr th:only-of-type {\n",
       "        vertical-align: middle;\n",
       "    }\n",
       "\n",
       "    .dataframe tbody tr th {\n",
       "        vertical-align: top;\n",
       "    }\n",
       "\n",
       "    .dataframe thead th {\n",
       "        text-align: right;\n",
       "    }\n",
       "</style>\n",
       "<table border=\"1\" class=\"dataframe\">\n",
       "  <thead>\n",
       "    <tr style=\"text-align: right;\">\n",
       "      <th></th>\n",
       "      <th>name</th>\n",
       "      <th>energy_costs_eur</th>\n",
       "      <th>grid_energy_costs_eur</th>\n",
       "      <th>grid_capacity_costs_eur</th>\n",
       "      <th>grid_capacity_kw</th>\n",
       "      <th>storage_invest_eur</th>\n",
       "      <th>storage_annuity_eur</th>\n",
       "      <th>storage_capacity_kwh</th>\n",
       "      <th>inverter_invest_eur</th>\n",
       "      <th>inverter_annuity_eur</th>\n",
       "      <th>inverter_capacity_kw</th>\n",
       "      <th>solar_invest_eur</th>\n",
       "      <th>solar_annuity_eur</th>\n",
       "      <th>solar_capacity_kwp</th>\n",
       "      <th>total_yearly_costs_eur</th>\n",
       "      <th>total_annuity_eur</th>\n",
       "      <th>total_invest_eur</th>\n",
       "    </tr>\n",
       "    <tr>\n",
       "      <th>id</th>\n",
       "      <th></th>\n",
       "      <th></th>\n",
       "      <th></th>\n",
       "      <th></th>\n",
       "      <th></th>\n",
       "      <th></th>\n",
       "      <th></th>\n",
       "      <th></th>\n",
       "      <th></th>\n",
       "      <th></th>\n",
       "      <th></th>\n",
       "      <th></th>\n",
       "      <th></th>\n",
       "      <th></th>\n",
       "      <th></th>\n",
       "      <th></th>\n",
       "      <th></th>\n",
       "    </tr>\n",
       "  </thead>\n",
       "  <tbody>\n",
       "    <tr>\n",
       "      <th>0</th>\n",
       "      <td>0_baseline</td>\n",
       "      <td>1.021643e+06</td>\n",
       "      <td>271558.090967</td>\n",
       "      <td>41249.388603</td>\n",
       "      <td>2227.36</td>\n",
       "      <td>0.0</td>\n",
       "      <td>0.0</td>\n",
       "      <td>0.0</td>\n",
       "      <td>0.0</td>\n",
       "      <td>0.0</td>\n",
       "      <td>0.0</td>\n",
       "      <td>0.0</td>\n",
       "      <td>0.0</td>\n",
       "      <td>0.0</td>\n",
       "      <td>1.334450e+06</td>\n",
       "      <td>0.0</td>\n",
       "      <td>0.0</td>\n",
       "    </tr>\n",
       "    <tr>\n",
       "      <th>1</th>\n",
       "      <td>1_baseline</td>\n",
       "      <td>3.299717e+05</td>\n",
       "      <td>12033.847188</td>\n",
       "      <td>132976.873344</td>\n",
       "      <td>1096.00</td>\n",
       "      <td>0.0</td>\n",
       "      <td>0.0</td>\n",
       "      <td>0.0</td>\n",
       "      <td>0.0</td>\n",
       "      <td>0.0</td>\n",
       "      <td>0.0</td>\n",
       "      <td>0.0</td>\n",
       "      <td>0.0</td>\n",
       "      <td>0.0</td>\n",
       "      <td>4.749824e+05</td>\n",
       "      <td>0.0</td>\n",
       "      <td>0.0</td>\n",
       "    </tr>\n",
       "    <tr>\n",
       "      <th>2</th>\n",
       "      <td>2_baseline</td>\n",
       "      <td>2.046675e+05</td>\n",
       "      <td>7464.085529</td>\n",
       "      <td>99004.679424</td>\n",
       "      <td>816.00</td>\n",
       "      <td>0.0</td>\n",
       "      <td>0.0</td>\n",
       "      <td>0.0</td>\n",
       "      <td>0.0</td>\n",
       "      <td>0.0</td>\n",
       "      <td>0.0</td>\n",
       "      <td>0.0</td>\n",
       "      <td>0.0</td>\n",
       "      <td>0.0</td>\n",
       "      <td>3.111362e+05</td>\n",
       "      <td>0.0</td>\n",
       "      <td>0.0</td>\n",
       "    </tr>\n",
       "    <tr>\n",
       "      <th>3</th>\n",
       "      <td>3_baseline</td>\n",
       "      <td>1.805661e+05</td>\n",
       "      <td>6585.125290</td>\n",
       "      <td>85124.611622</td>\n",
       "      <td>701.60</td>\n",
       "      <td>0.0</td>\n",
       "      <td>0.0</td>\n",
       "      <td>0.0</td>\n",
       "      <td>0.0</td>\n",
       "      <td>0.0</td>\n",
       "      <td>0.0</td>\n",
       "      <td>0.0</td>\n",
       "      <td>0.0</td>\n",
       "      <td>0.0</td>\n",
       "      <td>2.722758e+05</td>\n",
       "      <td>0.0</td>\n",
       "      <td>0.0</td>\n",
       "    </tr>\n",
       "    <tr>\n",
       "      <th>4</th>\n",
       "      <td>4_baseline</td>\n",
       "      <td>2.917931e+06</td>\n",
       "      <td>884063.074775</td>\n",
       "      <td>55353.715200</td>\n",
       "      <td>3480.00</td>\n",
       "      <td>0.0</td>\n",
       "      <td>0.0</td>\n",
       "      <td>0.0</td>\n",
       "      <td>0.0</td>\n",
       "      <td>0.0</td>\n",
       "      <td>0.0</td>\n",
       "      <td>0.0</td>\n",
       "      <td>0.0</td>\n",
       "      <td>0.0</td>\n",
       "      <td>3.857348e+06</td>\n",
       "      <td>0.0</td>\n",
       "      <td>0.0</td>\n",
       "    </tr>\n",
       "  </tbody>\n",
       "</table>\n",
       "</div>"
      ],
      "text/plain": [
       "          name  energy_costs_eur  grid_energy_costs_eur  \\\n",
       "id                                                        \n",
       "0   0_baseline      1.021643e+06          271558.090967   \n",
       "1   1_baseline      3.299717e+05           12033.847188   \n",
       "2   2_baseline      2.046675e+05            7464.085529   \n",
       "3   3_baseline      1.805661e+05            6585.125290   \n",
       "4   4_baseline      2.917931e+06          884063.074775   \n",
       "\n",
       "    grid_capacity_costs_eur  grid_capacity_kw  storage_invest_eur  \\\n",
       "id                                                                  \n",
       "0              41249.388603           2227.36                 0.0   \n",
       "1             132976.873344           1096.00                 0.0   \n",
       "2              99004.679424            816.00                 0.0   \n",
       "3              85124.611622            701.60                 0.0   \n",
       "4              55353.715200           3480.00                 0.0   \n",
       "\n",
       "    storage_annuity_eur  storage_capacity_kwh  inverter_invest_eur  \\\n",
       "id                                                                   \n",
       "0                   0.0                   0.0                  0.0   \n",
       "1                   0.0                   0.0                  0.0   \n",
       "2                   0.0                   0.0                  0.0   \n",
       "3                   0.0                   0.0                  0.0   \n",
       "4                   0.0                   0.0                  0.0   \n",
       "\n",
       "    inverter_annuity_eur  inverter_capacity_kw  solar_invest_eur  \\\n",
       "id                                                                 \n",
       "0                    0.0                   0.0               0.0   \n",
       "1                    0.0                   0.0               0.0   \n",
       "2                    0.0                   0.0               0.0   \n",
       "3                    0.0                   0.0               0.0   \n",
       "4                    0.0                   0.0               0.0   \n",
       "\n",
       "    solar_annuity_eur  solar_capacity_kwp  total_yearly_costs_eur  \\\n",
       "id                                                                  \n",
       "0                 0.0                 0.0            1.334450e+06   \n",
       "1                 0.0                 0.0            4.749824e+05   \n",
       "2                 0.0                 0.0            3.111362e+05   \n",
       "3                 0.0                 0.0            2.722758e+05   \n",
       "4                 0.0                 0.0            3.857348e+06   \n",
       "\n",
       "    total_annuity_eur  total_invest_eur  \n",
       "id                                       \n",
       "0                 0.0               0.0  \n",
       "1                 0.0               0.0  \n",
       "2                 0.0               0.0  \n",
       "3                 0.0               0.0  \n",
       "4                 0.0               0.0  "
      ]
     },
     "execution_count": 124,
     "metadata": {},
     "output_type": "execute_result"
    }
   ],
   "source": [
    "baseline = pd.read_sql(\"SELECT * FROM vea_results.overview WHERE name LIKE '%%base%%'\", URI)\n",
    "baseline[\"id\"] = baseline[\"name\"].str.split(\"_\").str[0].astype(int)\n",
    "baseline.set_index(\"id\", inplace=True)\n",
    "baseline.sort_index(inplace=True)\n",
    "baseline.head()"
   ]
  },
  {
   "cell_type": "code",
   "execution_count": 125,
   "id": "fe34cbb3",
   "metadata": {},
   "outputs": [
    {
     "data": {
      "text/html": [
       "<div>\n",
       "<style scoped>\n",
       "    .dataframe tbody tr th:only-of-type {\n",
       "        vertical-align: middle;\n",
       "    }\n",
       "\n",
       "    .dataframe tbody tr th {\n",
       "        vertical-align: top;\n",
       "    }\n",
       "\n",
       "    .dataframe thead th {\n",
       "        text-align: right;\n",
       "    }\n",
       "</style>\n",
       "<table border=\"1\" class=\"dataframe\">\n",
       "  <thead>\n",
       "    <tr style=\"text-align: right;\">\n",
       "      <th></th>\n",
       "      <th>name</th>\n",
       "      <th>energy_costs_eur</th>\n",
       "      <th>grid_energy_costs_eur</th>\n",
       "      <th>grid_capacity_costs_eur</th>\n",
       "      <th>grid_capacity_kw</th>\n",
       "      <th>storage_invest_eur</th>\n",
       "      <th>storage_annuity_eur</th>\n",
       "      <th>storage_capacity_kwh</th>\n",
       "      <th>inverter_invest_eur</th>\n",
       "      <th>inverter_annuity_eur</th>\n",
       "      <th>inverter_capacity_kw</th>\n",
       "      <th>solar_invest_eur</th>\n",
       "      <th>solar_annuity_eur</th>\n",
       "      <th>solar_capacity_kwp</th>\n",
       "      <th>total_yearly_costs_eur</th>\n",
       "      <th>total_annuity_eur</th>\n",
       "      <th>total_invest_eur</th>\n",
       "    </tr>\n",
       "    <tr>\n",
       "      <th>id</th>\n",
       "      <th></th>\n",
       "      <th></th>\n",
       "      <th></th>\n",
       "      <th></th>\n",
       "      <th></th>\n",
       "      <th></th>\n",
       "      <th></th>\n",
       "      <th></th>\n",
       "      <th></th>\n",
       "      <th></th>\n",
       "      <th></th>\n",
       "      <th></th>\n",
       "      <th></th>\n",
       "      <th></th>\n",
       "      <th></th>\n",
       "      <th></th>\n",
       "      <th></th>\n",
       "    </tr>\n",
       "  </thead>\n",
       "  <tbody>\n",
       "    <tr>\n",
       "      <th>0</th>\n",
       "      <td>0_pv_only</td>\n",
       "      <td>1.018851e+06</td>\n",
       "      <td>270816.128970</td>\n",
       "      <td>41249.388603</td>\n",
       "      <td>2227.360000</td>\n",
       "      <td>0.0</td>\n",
       "      <td>0.0</td>\n",
       "      <td>0.0</td>\n",
       "      <td>0.0</td>\n",
       "      <td>0.0</td>\n",
       "      <td>0.0</td>\n",
       "      <td>0.000000</td>\n",
       "      <td>0.000000</td>\n",
       "      <td>0.000000</td>\n",
       "      <td>1.330917e+06</td>\n",
       "      <td>0.000000</td>\n",
       "      <td>0.000000</td>\n",
       "    </tr>\n",
       "    <tr>\n",
       "      <th>1</th>\n",
       "      <td>1_pv_only</td>\n",
       "      <td>3.290701e+05</td>\n",
       "      <td>12000.967825</td>\n",
       "      <td>132976.873344</td>\n",
       "      <td>1096.000000</td>\n",
       "      <td>0.0</td>\n",
       "      <td>0.0</td>\n",
       "      <td>0.0</td>\n",
       "      <td>0.0</td>\n",
       "      <td>0.0</td>\n",
       "      <td>0.0</td>\n",
       "      <td>0.000000</td>\n",
       "      <td>0.000000</td>\n",
       "      <td>0.000000</td>\n",
       "      <td>4.740480e+05</td>\n",
       "      <td>0.000000</td>\n",
       "      <td>0.000000</td>\n",
       "    </tr>\n",
       "    <tr>\n",
       "      <th>2</th>\n",
       "      <td>2_pv_only</td>\n",
       "      <td>2.041083e+05</td>\n",
       "      <td>7443.691853</td>\n",
       "      <td>99004.679424</td>\n",
       "      <td>816.000000</td>\n",
       "      <td>0.0</td>\n",
       "      <td>0.0</td>\n",
       "      <td>0.0</td>\n",
       "      <td>0.0</td>\n",
       "      <td>0.0</td>\n",
       "      <td>0.0</td>\n",
       "      <td>0.000000</td>\n",
       "      <td>0.000000</td>\n",
       "      <td>0.000000</td>\n",
       "      <td>3.105566e+05</td>\n",
       "      <td>0.000000</td>\n",
       "      <td>0.000000</td>\n",
       "    </tr>\n",
       "    <tr>\n",
       "      <th>3</th>\n",
       "      <td>3_pv_only</td>\n",
       "      <td>1.800727e+05</td>\n",
       "      <td>6567.133144</td>\n",
       "      <td>85124.611622</td>\n",
       "      <td>701.600000</td>\n",
       "      <td>0.0</td>\n",
       "      <td>0.0</td>\n",
       "      <td>0.0</td>\n",
       "      <td>0.0</td>\n",
       "      <td>0.0</td>\n",
       "      <td>0.0</td>\n",
       "      <td>0.000000</td>\n",
       "      <td>0.000000</td>\n",
       "      <td>0.000000</td>\n",
       "      <td>2.717645e+05</td>\n",
       "      <td>0.000000</td>\n",
       "      <td>0.000000</td>\n",
       "    </tr>\n",
       "    <tr>\n",
       "      <th>4</th>\n",
       "      <td>4_pv_only</td>\n",
       "      <td>2.764451e+06</td>\n",
       "      <td>837562.247624</td>\n",
       "      <td>51356.823916</td>\n",
       "      <td>3228.721805</td>\n",
       "      <td>0.0</td>\n",
       "      <td>0.0</td>\n",
       "      <td>0.0</td>\n",
       "      <td>0.0</td>\n",
       "      <td>0.0</td>\n",
       "      <td>0.0</td>\n",
       "      <td>887819.548872</td>\n",
       "      <td>39641.073868</td>\n",
       "      <td>739.849624</td>\n",
       "      <td>3.693011e+06</td>\n",
       "      <td>39641.073868</td>\n",
       "      <td>887819.548872</td>\n",
       "    </tr>\n",
       "  </tbody>\n",
       "</table>\n",
       "</div>"
      ],
      "text/plain": [
       "         name  energy_costs_eur  grid_energy_costs_eur  \\\n",
       "id                                                       \n",
       "0   0_pv_only      1.018851e+06          270816.128970   \n",
       "1   1_pv_only      3.290701e+05           12000.967825   \n",
       "2   2_pv_only      2.041083e+05            7443.691853   \n",
       "3   3_pv_only      1.800727e+05            6567.133144   \n",
       "4   4_pv_only      2.764451e+06          837562.247624   \n",
       "\n",
       "    grid_capacity_costs_eur  grid_capacity_kw  storage_invest_eur  \\\n",
       "id                                                                  \n",
       "0              41249.388603       2227.360000                 0.0   \n",
       "1             132976.873344       1096.000000                 0.0   \n",
       "2              99004.679424        816.000000                 0.0   \n",
       "3              85124.611622        701.600000                 0.0   \n",
       "4              51356.823916       3228.721805                 0.0   \n",
       "\n",
       "    storage_annuity_eur  storage_capacity_kwh  inverter_invest_eur  \\\n",
       "id                                                                   \n",
       "0                   0.0                   0.0                  0.0   \n",
       "1                   0.0                   0.0                  0.0   \n",
       "2                   0.0                   0.0                  0.0   \n",
       "3                   0.0                   0.0                  0.0   \n",
       "4                   0.0                   0.0                  0.0   \n",
       "\n",
       "    inverter_annuity_eur  inverter_capacity_kw  solar_invest_eur  \\\n",
       "id                                                                 \n",
       "0                    0.0                   0.0          0.000000   \n",
       "1                    0.0                   0.0          0.000000   \n",
       "2                    0.0                   0.0          0.000000   \n",
       "3                    0.0                   0.0          0.000000   \n",
       "4                    0.0                   0.0     887819.548872   \n",
       "\n",
       "    solar_annuity_eur  solar_capacity_kwp  total_yearly_costs_eur  \\\n",
       "id                                                                  \n",
       "0            0.000000            0.000000            1.330917e+06   \n",
       "1            0.000000            0.000000            4.740480e+05   \n",
       "2            0.000000            0.000000            3.105566e+05   \n",
       "3            0.000000            0.000000            2.717645e+05   \n",
       "4        39641.073868          739.849624            3.693011e+06   \n",
       "\n",
       "    total_annuity_eur  total_invest_eur  \n",
       "id                                       \n",
       "0            0.000000          0.000000  \n",
       "1            0.000000          0.000000  \n",
       "2            0.000000          0.000000  \n",
       "3            0.000000          0.000000  \n",
       "4        39641.073868     887819.548872  "
      ]
     },
     "execution_count": 125,
     "metadata": {},
     "output_type": "execute_result"
    }
   ],
   "source": [
    "pv = pd.read_sql(\"SELECT * FROM vea_results.overview WHERE name LIKE '%%pv_only'\", URI)\n",
    "pv[\"id\"] = pv[\"name\"].str.split(\"_\").str[0].astype(int)\n",
    "pv.set_index(\"id\", inplace=True)\n",
    "pv.sort_index(inplace=True)\n",
    "pv.head()"
   ]
  },
  {
   "cell_type": "markdown",
   "id": "97a35e6f",
   "metadata": {},
   "source": [
    "# General analysis"
   ]
  },
  {
   "cell_type": "code",
   "execution_count": 126,
   "id": "d94b3265",
   "metadata": {},
   "outputs": [
    {
     "name": "stdout",
     "output_type": "stream",
     "text": [
      "total_profiles_analyzed=1773\n",
      "n_profiles_using_pv=1093\n",
      "Percentage of profiles using storage: 61.65 %\n"
     ]
    }
   ],
   "source": [
    "total_profiles_analyzed = len(pv)\n",
    "profiles_using_pv = pv[pv[\"solar_invest_eur\"] > 0]\n",
    "n_profiles_using_pv = len(profiles_using_pv)\n",
    "\n",
    "print(f\"{total_profiles_analyzed=}\")\n",
    "print(f\"{n_profiles_using_pv=}\")\n",
    "print(f\"Percentage of profiles using storage: {((n_profiles_using_pv / total_profiles_analyzed) * 100):.2f} %\")"
   ]
  },
  {
   "cell_type": "markdown",
   "id": "a7bf038d",
   "metadata": {},
   "source": [
    "## System sizes"
   ]
  },
  {
   "cell_type": "code",
   "execution_count": 127,
   "id": "1f3f1a50",
   "metadata": {},
   "outputs": [
    {
     "name": "stdout",
     "output_type": "stream",
     "text": [
      "\n",
      "|      |   PV system capacity |\n",
      "|:-----|---------------------:|\n",
      "| mean |          245.117     |\n",
      "| std  |          826.381     |\n",
      "| min  |            0.0916031 |\n",
      "| 25%  |           13.1805    |\n",
      "| 50%  |           47.8056    |\n",
      "| 75%  |          180.952     |\n",
      "| max  |        20148.2       |\n"
     ]
    },
    {
     "data": {
      "application/vnd.plotly.v1+json": {
       "config": {
        "plotlyServerURL": "https://plot.ly"
       },
       "data": [
        {
         "alignmentgroup": "True",
         "hovertemplate": "PV system=%{x}<extra></extra>",
         "legendgroup": "",
         "marker": {
          "color": "#636efa"
         },
         "name": "",
         "notched": false,
         "offsetgroup": "",
         "orientation": "h",
         "showlegend": false,
         "type": "box",
         "x": [
          739.8496240601503,
          133.9421613394216,
          17.699115044247787,
          5.09090909090909,
          769.054441260745,
          54.83405483405484,
          65.90257879656161,
          10.635879218472471,
          0.21699819168173595,
          80.25682182985554,
          2913.9784946236555,
          64.49612403100775,
          30.52482269503546,
          720.8237986270022,
          1411.764705882353,
          0.38300835654596105,
          239.20265780730898,
          73.15315315315316,
          33.935018050541515,
          54.98281786941581,
          10.555873925501434,
          30.303030303030305,
          3.571428571428571,
          464.74820143884887,
          1215.883361921098,
          22.50351617440225,
          36.618911174785104,
          486.2518089725037,
          8.045977011494253,
          41.73354735152488,
          20.05730659025788,
          30.22922636103152,
          1.82648401826484,
          344.9090909090909,
          39.04360056258791,
          25.002915451895042,
          90.9090909090909,
          154.21303656597775,
          205.12820512820514,
          98.07355516637479,
          68.89171974522293,
          164.39942112879885,
          152.94117647058823,
          697.6090014064698,
          2.3793103448275863,
          2.394822006472492,
          563.165905631659,
          14.545454545454545,
          316.70480549199084,
          14.769230769230768,
          37.698815566835876,
          20.068027210884356,
          1.4871794871794872,
          641.8338108882522,
          21.630615640599004,
          2.380952380952381,
          52.863436123348016,
          1.180952380952381,
          12.034782608695654,
          11.251758087201125,
          95.40636042402828,
          272.2480620155039,
          68.76790830945559,
          25.682182985553773,
          47.27793696275072,
          171.919770773639,
          15.757575757575758,
          11.461318051575931,
          0.4219409282700422,
          3.7822349570200577,
          18.075949367088608,
          329.22636103151865,
          1.721311475409836,
          14.106583072100314,
          1505.2441229656417,
          151.05740181268882,
          4.630372492836677,
          240.46692607003888,
          278.45884413309983,
          57.40181268882175,
          274.1702741702742,
          29.900332225913623,
          2266.099290780142,
          849.7109826589596,
          198.01980198019803,
          482.6254826254826,
          18.238341968911918,
          24.55696202531646,
          24.3312101910828,
          91.87279151943464,
          142.40549828178695,
          27.972027972027973,
          26.923076923076923,
          261.8181818181818,
          124.11899313501145,
          172.07062600321026,
          19.892134831460673,
          80,
          44.34383954154728,
          34.17721518987342,
          12.519561815336463,
          93.81186685962373,
          166.66666666666669,
          21.603927986906708,
          27.650429799426938,
          66.65248226950355,
          9.046052631578947,
          17.077363896848137,
          8.308157099697885,
          458.4527220630373,
          169.47535771065182,
          23.925233644859812,
          3.11178247734139,
          877.6371308016878,
          86.87679083094557,
          12.735166425470334,
          56.60377358490566,
          37.2093023255814,
          111.11111111111111,
          390.7172995780591,
          11.251758087201125,
          76.31160572337043,
          383.99426934097426,
          1168.7943262411347,
          1325.5302390998595,
          48.692810457516345,
          2526.011560693642,
          1141.6216216216217,
          140.80717488789236,
          16.574585635359117,
          50.19607843137255,
          86.02150537634408,
          17.391304347826086,
          16.918429003021146,
          47.13584288052373,
          492.0071047957372,
          8.51063829787234,
          47.80564263322884,
          31.168831168831172,
          2.643578643578644,
          108.15047021943573,
          108.28025477707007,
          1303.5460992907801,
          673.1319554848966,
          8.446455505279033,
          4.178932178932179,
          482.70042194092827,
          63.71681415929204,
          39.34072900158479,
          425.2148997134671,
          283.78378378378375,
          59.07172995780591,
          56.258790436005626,
          31.518624641833814,
          85.10028653295129,
          2.9147286821705425,
          817.1794871794872,
          22.570532915360502,
          44.6927374301676,
          40,
          860.093896713615,
          6.49090909090909,
          3.407643312101911,
          341.93548387096774,
          65.11627906976744,
          8.255319148936172,
          2.6131805157593124,
          333.3333333333333,
          15.317220543806647,
          11.088372093023256,
          41.18993135011441,
          27.0042194092827,
          46.17604617604618,
          20.49924812030075,
          21.276595744680854,
          35.74529667149059,
          524.3553008595989,
          61.33223684210526,
          111.28712871287128,
          78.54984894259819,
          148.99713467048713,
          1461.2716763005783,
          8.595988538681949,
          262.48062015503876,
          10.314685314685317,
          237.53205128205127,
          5.405405405405405,
          103.09278350515464,
          34.383954154727796,
          44.21052631578947,
          9.5249500998004,
          17.330316742081447,
          1108.5899513776337,
          354.43037974683546,
          28.170940170940174,
          21.705426356589147,
          453.9007092198582,
          185.53935860058309,
          408.5106382978724,
          82.80254777070064,
          107.93650793650794,
          148.8372093023256,
          217.3913043478261,
          755.5100775193798,
          69.9523052464229,
          649.6350364963504,
          115.26586620926244,
          29.789227166276348,
          15.423728813559322,
          241.5407854984894,
          17.772525849335302,
          47.05882352941177,
          12.718600953895072,
          49.38294573643411,
          306.8017366136035,
          28.213166144200628,
          1512.893982808023,
          1.21580547112462,
          199.02439024390245,
          11.864406779661017,
          46.60894660894661,
          1.818770226537217,
          147.64595103578154,
          320.6946454413893,
          16.1993769470405,
          1.5254237288135595,
          195.24617996604417,
          22.388059701492537,
          11.307420494699649,
          1470.5882352941176,
          36.87943262411348,
          1564.2458100558658,
          1.3753581661891119,
          84.38818565400844,
          9.471103327495623,
          38.31932773109244,
          409.4043887147335,
          202.60492040520987,
          17.241379310344826,
          745.4289732770745,
          113.47517730496455,
          46.846846846846844,
          18.4,
          154.71167369901548,
          64.25339366515837,
          75.90697674418604,
          80.96676737160121,
          7.575757575757575,
          1167.8832116788321,
          19.10828025477707,
          4.425531914893617,
          7.598784194528875,
          61.275488069414315,
          34.97615262321145,
          12.658227848101266,
          485.5491329479769,
          18.56733524355301,
          519.3798449612403,
          51.77993527508091,
          229.29936305732485,
          51.57593123209169,
          0.9001406469760901,
          155.60640732265446,
          9.30232558139535,
          22.50351617440225,
          1.9400855920114126,
          71.09717868338558,
          66.10407876230661,
          15.92356687898089,
          230.37249283667626,
          147.2268907563025,
          7.971056439942114,
          84.38818565400844,
          413.62763915547026,
          22.569444444444446,
          723.4383954154728,
          10.282776349614396,
          13.576642335766424,
          1622.390891840607,
          22.69503546099291,
          720.7207207207207,
          2391.5627240143367,
          5.74712643678161,
          40.96385542168675,
          59.23913043478261,
          537.2492836676219,
          6.269592476489028,
          133.0998248686515,
          30.075187969924812,
          194.80519480519482,
          109.82658959537574,
          74.81296758104737,
          143.26647564469914,
          686.3572433192687,
          59.418344519015655,
          685.141065830721,
          121.10552763819095,
          10.876132930513595,
          667.9389312977099,
          635.3111432706223,
          42.17054263565891,
          68.76790830945559,
          207.7922077922078,
          590.0977198697068,
          139.53488372093022,
          68.76790830945559,
          48.90282131661442,
          49.47899159663866,
          109.59247648902821,
          70.32348804500704,
          80.11251758087202,
          53.178294573643406,
          124.03100775193798,
          41.558441558441565,
          68.46846846846846,
          4620.947976878613,
          25.437201907790143,
          2.8129395218002813,
          3618.5492227979275,
          68.62595419847328,
          14.650088809946714,
          42.40282685512368,
          89.88764044943821,
          146.08695652173915,
          0.40483383685800606,
          252.03761755485894,
          6.003430531732419,
          519.6078431372549,
          260.6099290780142,
          394.93670886075955,
          1745.1476793248946,
          102.60521042084169,
          88.86297376093295,
          114.61318051575932,
          84.8137535816619,
          275.64102564102564,
          2680.628205128205,
          1.2587412587412588,
          1692.836676217765,
          145.46827794561932,
          432.60188087774293,
          32.25806451612903,
          1.6483516483516483,
          174.29834087481146,
          237.81388478581977,
          73.02970297029704,
          113.23308270676691,
          350.2409177820267,
          845.9610027855153,
          569.6509863429438,
          171.34416543574594,
          8.264462809917356,
          165.95744680851064,
          238.0487804878049,
          2335.8778625954196,
          773.5124760076775,
          181.8181818181818,
          28.69718309859155,
          66.07142857142857,
          60.91370558375635,
          538.728323699422,
          13.99416909620991,
          516.3323782234957,
          312.1311475409836,
          525.4777070063694,
          12.738853503184714,
          857.7777777777777,
          12.893982808022923,
          2.1031518624641836,
          67.23943661971832,
          80.80808080808082,
          2.8616852146263914,
          23.415340086830682,
          3.6075036075036078,
          5.730659025787966,
          3.4482758620689657,
          3.795066413662239,
          208.73925501432666,
          15.47277936962751,
          32.16494845360825,
          26.19607843137255,
          49.549549549549546,
          225.8823529411765,
          1368.2137834036569,
          7.437641723356008,
          32.29197080291971,
          74.47833065810593,
          32.76410998552822,
          294.3333333333333,
          146.11872146118722,
          279.0159189580319,
          167.36990154711674,
          23.1548480463097,
          4.31024531024531,
          16.207455429497568,
          258.29457364341084,
          84.27876823338735,
          33.00330033003301,
          25.078369905956112,
          1736.2318840579708,
          18.18181818181818,
          39.07380607814761,
          27.906976744186046,
          2.652639751552795,
          1.37221269296741,
          976.6617429837519,
          364.68885672937773,
          361.794500723589,
          78.76230661040788,
          808.4063047285465,
          649.3150684931506,
          97.40259740259741,
          31.007751937984494,
          2.7633851468048363,
          580.8291873963516,
          157.46835443037975,
          4583.291139240507,
          10.36717062634989,
          184.6153846153846,
          61.20996441281138,
          325.55984555984554,
          550.354609929078,
          4.473304473304474,
          6.872727272727272,
          352.8551336146273,
          150.39479606188468,
          53.77049180327869,
          49.90403071017274,
          1.4328358208955223,
          260.5633802816902,
          180.028129395218,
          48.02744425385935,
          372.09302325581393,
          206.99708454810494,
          242.94670846394985,
          24.7427701674277,
          95.75798319327731,
          1715.686274509804,
          240.1812688821752,
          2.1840873634945397,
          109.40609951845906,
          2493.4640522875816,
          5006.896551724138,
          22.922636103151863,
          6.732075471698113,
          1411.764705882353,
          22.471910112359552,
          1.5463917525773194,
          9.26193921852388,
          424.0687679083095,
          772.676217765043,
          3.0880230880230886,
          11.814345991561183,
          24.680851063829788,
          4.25531914893617,
          1.598746081504702,
          4.63096960926194,
          4.999999999999999,
          38.43226788432268,
          13.535816618911177,
          6.4576802507836994,
          526.7727930535456,
          3.0000000000000004,
          585.0914205344585,
          226.9503546099291,
          73.46938775510203,
          115.80817051509771,
          3.4732272069464547,
          802.6315789473684,
          64.33333333333333,
          726.7605633802817,
          845.3626373626373,
          341.07883817427387,
          65.21739130434783,
          8.157524613220815,
          28.333333333333332,
          680.590717299578,
          421.70542635658916,
          984.4444444444446,
          121.8902953586498,
          107.55148741418765,
          632.9113924050633,
          190.43600562587906,
          27.048710601719197,
          416.78726483357457,
          20148.220858895704,
          120.93023255813954,
          224.16812609457094,
          0.8022922636103154,
          67.51054852320675,
          16.074498567335244,
          6.303724928366763,
          6.609195402298851,
          2.4154929577464794,
          213.18051575931236,
          3785.2382310984312,
          1046.7084639498432,
          512.5858123569794,
          173.64341085271317,
          106.02409638554218,
          7.564102564102564,
          426.17960426179604,
          183.67346938775512,
          5.485232067510549,
          110.26722925457103,
          48.71060171919771,
          25.078369905956112,
          558.1395348837209,
          436.0576923076923,
          87.57961783439491,
          35.27426160337553,
          38.790977443609016,
          22.387596899224803,
          0.21560283687943263,
          29.780564263322884,
          58.28025477707006,
          162.426614481409,
          105.02431118314425,
          44.5141065830721,
          283.59885386819485,
          28.169014084507044,
          1323.1281198003328,
          647.5644699140402,
          3.510971786833856,
          34.74320241691843,
          247.8134110787172,
          34.23566878980892,
          38.395415472779376,
          23.791606367583217,
          33.33333333333333,
          62.4113475177305,
          13.673758865248228,
          17.142857142857146,
          355.94713656387665,
          163.69529983792546,
          87.77429467084639,
          3.6121562952243127,
          5.788712011577425,
          4.713178294573643,
          61.224489795918366,
          393.63241678726484,
          0.1416893732970027,
          24.472573839662445,
          5.8008658008658,
          178.1512605042017,
          31.832460732984295,
          56.131260794473235,
          28.585055643879173,
          9.340222575516693,
          31.34796238244514,
          79.9249530956848,
          76.36363636363636,
          962.7507163323783,
          139.62264150943395,
          6.382022471910112,
          8200.843881856541,
          20.40114613180516,
          10.85383502170767,
          0.0916030534351145,
          11.392550143266476,
          35.72821270310192,
          6.810495626822156,
          438.6724386724387,
          92.35209235209236,
          15.976911976911977,
          43.8567335243553,
          3.410852713178295,
          62.12765957446808,
          8.7697933227345,
          205.55555555555554,
          174.85113835376535,
          1118.387909319899,
          63.05732484076433,
          1.5283018867924527,
          124.52830188679245,
          646.1538461538462,
          60.14975041597338,
          178.8235294117647,
          27.149321266968325,
          543.2664756446992,
          75.81475128644941,
          23.1548480463097,
          49.63768115942028,
          128.36676217765043,
          175.04051863857376,
          236.36363636363637,
          64.46991404011462,
          187.90436005625878,
          101.97368421052632,
          96.67673716012084,
          7.854984894259819,
          197.86910197869102,
          47.482014388489205,
          1.865248226950355,
          162.07455429497568,
          28.129395218002813,
          21.634615384615383,
          13.390070921985815,
          146.34146341463415,
          8.23327615780446,
          18.995230524642288,
          3.5977496483825595,
          29.83783783783783,
          1147.8260869565217,
          15.18987341772152,
          215.8295281582953,
          188.1443298969072,
          214.17797888386121,
          116.48690292758089,
          120.00000000000001,
          91.26760563380282,
          96.93593314763231,
          336.25218914185643,
          2.6595744680851063,
          7.326732673267326,
          159.21237693389594,
          13.024602026049205,
          2.388535031847134,
          2.8083491461100567,
          5.736434108527132,
          584.5272206303725,
          11.329879101899827,
          19.2,
          9.124087591240874,
          213.33333333333331,
          7.425981873111783,
          170.19971870604783,
          23.492063492063494,
          3.4690799396681746,
          211.287988422576,
          2127.3516642547033,
          31.03692762186115,
          17.337979094076655,
          33.97027600849257,
          1688.0994671403198,
          180.6303724928367,
          129.47976878612718,
          24.69982847341338,
          2.8129395218002813,
          2.220630372492837,
          4753.860465116279,
          2983.3024118738404,
          72.86821705426357,
          34.383954154727796,
          20.382165605095544,
          2.865329512893983,
          97.42120343839542,
          6.3121783876500865,
          38.963531669865645,
          25.862068965517242,
          18.71345029239766,
          2.2092624356775303,
          370.65830721003135,
          1.3793103448275863,
          244.07894736842107,
          173.64341085271317,
          24.498567335243557,
          4.843881856540085,
          450.070323488045,
          243.25657894736844,
          18.495297805642632,
          107.6388888888889,
          25.284627092846268,
          17.777777777777775,
          23.80952380952381,
          50.459363957597176,
          51.57593123209169,
          19.041847041847042,
          4.702194357366771,
          66.9503546099291,
          16.243654822335024,
          16.705539358600582,
          50.1432664756447,
          11.603007518796993,
          116.21187800963082,
          10.045662100456621,
          47.64688856729378,
          3.018867924528302,
          844.7731755424063,
          24.31419939577039,
          22.575976845151956,
          8.22695035460993,
          2.8931698774080563,
          271.6763005780347,
          13.769363166953529,
          43.76012965964344,
          0.26223776223776224,
          14.627285513361464,
          15.337690631808279,
          2.651685393258427,
          1.0126582278481013,
          2.8129395218002813,
          1.6616314199395772,
          12.78972712680578,
          18.850987432675044,
          0.48753462603878117,
          343.839541547278,
          8.438818565400844,
          21.459227467811157,
          40.4,
          991.337099811676,
          3.3236151603498536,
          15.629522431259048,
          80.2547770700637,
          775.1937984496124,
          123.32378223495702,
          2.0491803278688523,
          38.81278538812785,
          10.194174757281553,
          36.676217765042985,
          2.401433691756272,
          50.65123010130247,
          51.724137931034484,
          343.1372549019608,
          18.79656160458453,
          0.13729977116704806,
          4.016713091922005,
          401.9077901430843,
          0.9063444108761328,
          17.82477341389728,
          202.07972270363953,
          3.308016877637131,
          18.26086956521739,
          40.24390243902439,
          46.989169675090245,
          23.121387283236995,
          25.243055555555557,
          8.438818565400844,
          341.08527131782944,
          73.46260387811634,
          146.27285513361463,
          93.02325581395348,
          48.19277108433735,
          32.32876712328767,
          159.71056439942114,
          133.15611814345993,
          151.09423347398032,
          26.89075630252101,
          5.335473515248796,
          3.6312056737588656,
          101.26582278481013,
          116.89497716894977,
          5.582922824302135,
          9.361702127659575,
          554.6391752577321,
          3.2188841201716736,
          104.12,
          39.18495297805642,
          7.017543859649123,
          54.06392694063927,
          39.408866995073886,
          2923.6363636363635,
          37.45318352059925,
          9.872340425531915,
          311.913357400722,
          1.808,
          42.99363057324841,
          494.8837209302325,
          19.23404255319149,
          1.3948717948717948,
          122.44642857142854,
          244.11764705882354,
          22.325581395348838,
          6.101694915254238,
          6.0894660894660895,
          761.7728531855956,
          39.07380607814761,
          136.150506512301,
          116.10044313146231,
          1.0169491525423728,
          46.312178387650086,
          0.17921146953405018,
          3.4383954154727796,
          161.03896103896105,
          159.16905444126076,
          101.52284263959392,
          256.89655172413796,
          0.5576208178438661,
          838.3763837638376,
          30.70332850940666,
          1230.661040787623,
          63.23404255319149,
          41.375358166189116,
          510.02865329512895,
          0.8438818565400844,
          414.9152542372882,
          5.128205128205129,
          86.69486404833837,
          4.7962382445141065,
          28.280254777070066,
          492.57923497267757,
          199.57522123893804,
          579.465541490858,
          12.624113475177307,
          50.755287009063444,
          15.78059071729958,
          22.857142857142858,
          7.814761215629524,
          5.065666041275797,
          6.259780907668231,
          46.08406304728547,
          51.236749116607776,
          139.56680731364276,
          6.494915254237288,
          25.641025641025642,
          0.8264462809917356,
          76.75276752767527,
          117.29323308270676,
          799.4269340974213,
          1.5292353823088456,
          1123.404255319149,
          195.48872180451127,
          883.6879432624114,
          5.739967897271268,
          78.62165963431787,
          410.9985528219971,
          1990.8466819221967,
          108.67924528301887,
          194.10458452722065,
          491.6905444126075,
          507.24637681159413,
          185.9782945736434,
          69.0846286701209,
          17.21518987341772,
          60.196905766526015,
          97.17868338557993,
          10.909090909090908,
          4.187234042553191,
          107.90697674418604,
          0.8558421851289831,
          976.7441860465116,
          592.4324324324324,
          390.1639344262295,
          108.88252148997135,
          154.60526315789474,
          696.5597667638483,
          2511.6279069767443,
          364.83516483516485,
          46.17604617604618,
          31.518624641833814,
          21.60337552742616,
          42.97994269340975,
          7.7355836849507735,
          70.22922636103152,
          453.5471167369902,
          13.180515759312321,
          7.462686567164178,
          48.614072494669514,
          150.43731778425655,
          29.38704028021016,
          1.3445378151260505,
          168.5575364667747,
          74.4186046511628,
          3.7085271317829456,
          27.124773960216995,
          7.092198581560284,
          23.394255874673632,
          8.77742946708464,
          2.3323615160349855,
          23.354231974921632,
          63.94316163410303,
          60.78147612156296,
          6.8789808917197455,
          4.106891701828411,
          24.56647398843931,
          5.279034690799397,
          32.28782287822878,
          36.407766990291265,
          2506.717850287908,
          1142.857142857143,
          7.988422575976845,
          128.1872340425532,
          2.8662420382165608,
          152.62321144674087,
          59.15492957746479,
          63.5774647887324,
          2.694736842105263,
          5.7496483825597755,
          19.81191222570533,
          5.04297994269341,
          63.4441087613293,
          19.116465863453815,
          0.9620253164556962,
          2.1785714285714284,
          10.914205344585092,
          23.076923076923077,
          69.56521739130434,
          212.18074656188605,
          15.10601719197708,
          35.673352435530084,
          20.115774240231552,
          120.56737588652483,
          1.6306156405990018,
          39.35860058309038,
          1.4126679462571976,
          47.988748241912795,
          15.563120567375886,
          16.412607449856733,
          12.520064205457464,
          3.1578947368421053,
          13.50210970464135,
          47.37764350453172,
          196.9057665260197,
          195.67567567567565,
          115.34883720930233,
          5.808580858085809,
          180.95238095238096,
          60.20618556701031,
          3.095823095823096,
          12.607449856733526,
          95.63994374120956,
          61.9690576652602,
          8.237986270022883,
          0.7490636704119851,
          187.7742946708464,
          7.786885245901639,
          2.5882352941176467,
          31.29890453834116,
          573.8396624472574,
          22.50351617440225,
          199.61612284069096,
          434.43037974683546,
          3962.275968992248,
          44.69914040114613,
          6.046511627906977,
          6.590257879656161,
          56.258790436005626,
          3.688421052631579,
          40.819484240687686,
          56.426332288401255,
          31.372549019607842,
          361.60714285714283,
          226.80412371134022,
          349.09090909090907,
          383.55140186915884,
          25.531914893617024,
          848.1012658227849,
          10.738095238095237,
          109.40665701881332,
          44.74522292993631,
          0.6269592476489029,
          6.486486486486487,
          3.3587786259541983,
          1.6555716353111432,
          870.8133971291866,
          436.8,
          26.607449856733524,
          88.27785817655572,
          3.835616438356164,
          63.67335243553009,
          169.054441260745,
          32.67045454545455,
          64.6067415730337,
          2.5893416927899686,
          2.714285714285714,
          136.03473227206948,
          67.68189509306261,
          372.0190779014308,
          9.767441860465116,
          16.484171322160147,
          2.3808,
          648.2982171799027,
          202.60492040520987,
          41.087613293051355,
          11.57706093189964,
          117.09473684210525,
          15.037593984962406,
          17.24137931034483,
          3.575277337559429,
          7.131280388978931,
          2.5747508305647844,
          1678.9667896678966,
          557.9896373056994,
          27.22063037249284,
          156.02836879432624,
          7.629427792915531,
          12.10966810966811,
          104.48717948717949,
          2.08955223880597,
          47.02194357366771,
          8.275862068965518,
          58.730158730158735,
          491.62011173184356,
          30.093457943925234,
          39.99999999999999,
          19.867549668874172,
          0.9676511954992968,
          104.26628075253257,
          25.812274368231044,
          642.6735218508998,
          22.65861027190332,
          75.76601671309193,
          16.78996865203762,
          84.53608247422682,
          10.983981693363845,
          3.531300160513644,
          234.9570200573066,
          47.35166425470333,
          46.54605263157895,
          5.029535864978904,
          8.769898697539798,
          6.128571428571428,
          832.6300984528833,
          15.238095238095237,
          3.186180422264875,
          3.3160621761658033,
          2.7979274611398965,
          435.95026642984016,
          624.9885583524027,
          105.91630591630593,
          206.99708454810494,
          20.694864048338367,
          21.489971346704873,
          415.50387596899225,
          56.15160349854227,
          85.26645768025078,
          65.48956661316211,
          21.645021645021647,
          34.41114982578397,
          47.16981132075472,
          50.955414012738856,
          86.83068017366136,
          39.07380607814761,
          32.57229832572298,
          7.392550143266476,
          26.17801047120419,
          0.5625879043600563,
          408.0229226361032,
          13.19060052219321,
          0.6879756468797564,
          1.557142857142857,
          100.84033613445379,
          3.2653061224489797,
          8.304597701149426,
          28.943560057887122,
          206.89655172413794,
          88.0195599022005,
          2.463018867924528,
          2.928571428571428,
          293.5860058309038,
          138.9290882778582,
          41.87965616045845,
          27.92321116928447,
          85.51336146272855,
          93.02325581395348,
          150.47021943573668,
          385.6623376623376,
          3.0131826741996233,
          17.482517482517483,
          83.85573770491804,
          99.29078014184398,
          105.42635658914729,
          99.33774834437087,
          331.6455696202532,
          266.00985221674875,
          18.002812939521803,
          91.53318077803203,
          4.38871473354232,
          4.702194357366771,
          12.1765601217656,
          33.08270676691729,
          2848.137535816619,
          4.88809946714032,
          1.4106583072100314,
          58.44748858447488,
          1.8662420382165603,
          0.5673758865248227,
          56.09001406469761,
          4.600484261501211,
          24.3531202435312,
          14.327927927927927,
          23.78378378378378,
          46.948356807511736,
          451.42857142857144,
          281.78694158075604,
          14.331210191082803,
          18.143459915611817,
          23.25581395348837,
          3.9399624765478425,
          17.434402332361515,
          729.3777134587555,
          0.6078147612156295,
          1.5451713395638629,
          13.892908827785819,
          23.565891472868216,
          6.8591065292096225,
          138.4928716904277,
          62.447257383966246,
          26.395173453996982,
          22.728551336146275,
          9.001447178002895,
          53.29323308270676,
          57.1383147853736
         ],
         "x0": " ",
         "xaxis": "x",
         "y0": " ",
         "yaxis": "y"
        }
       ],
       "layout": {
        "boxmode": "group",
        "legend": {
         "tracegroupgap": 0
        },
        "template": {
         "data": {
          "bar": [
           {
            "error_x": {
             "color": "#2a3f5f"
            },
            "error_y": {
             "color": "#2a3f5f"
            },
            "marker": {
             "line": {
              "color": "#E5ECF6",
              "width": 0.5
             },
             "pattern": {
              "fillmode": "overlay",
              "size": 10,
              "solidity": 0.2
             }
            },
            "type": "bar"
           }
          ],
          "barpolar": [
           {
            "marker": {
             "line": {
              "color": "#E5ECF6",
              "width": 0.5
             },
             "pattern": {
              "fillmode": "overlay",
              "size": 10,
              "solidity": 0.2
             }
            },
            "type": "barpolar"
           }
          ],
          "carpet": [
           {
            "aaxis": {
             "endlinecolor": "#2a3f5f",
             "gridcolor": "white",
             "linecolor": "white",
             "minorgridcolor": "white",
             "startlinecolor": "#2a3f5f"
            },
            "baxis": {
             "endlinecolor": "#2a3f5f",
             "gridcolor": "white",
             "linecolor": "white",
             "minorgridcolor": "white",
             "startlinecolor": "#2a3f5f"
            },
            "type": "carpet"
           }
          ],
          "choropleth": [
           {
            "colorbar": {
             "outlinewidth": 0,
             "ticks": ""
            },
            "type": "choropleth"
           }
          ],
          "contour": [
           {
            "colorbar": {
             "outlinewidth": 0,
             "ticks": ""
            },
            "colorscale": [
             [
              0,
              "#0d0887"
             ],
             [
              0.1111111111111111,
              "#46039f"
             ],
             [
              0.2222222222222222,
              "#7201a8"
             ],
             [
              0.3333333333333333,
              "#9c179e"
             ],
             [
              0.4444444444444444,
              "#bd3786"
             ],
             [
              0.5555555555555556,
              "#d8576b"
             ],
             [
              0.6666666666666666,
              "#ed7953"
             ],
             [
              0.7777777777777778,
              "#fb9f3a"
             ],
             [
              0.8888888888888888,
              "#fdca26"
             ],
             [
              1,
              "#f0f921"
             ]
            ],
            "type": "contour"
           }
          ],
          "contourcarpet": [
           {
            "colorbar": {
             "outlinewidth": 0,
             "ticks": ""
            },
            "type": "contourcarpet"
           }
          ],
          "heatmap": [
           {
            "colorbar": {
             "outlinewidth": 0,
             "ticks": ""
            },
            "colorscale": [
             [
              0,
              "#0d0887"
             ],
             [
              0.1111111111111111,
              "#46039f"
             ],
             [
              0.2222222222222222,
              "#7201a8"
             ],
             [
              0.3333333333333333,
              "#9c179e"
             ],
             [
              0.4444444444444444,
              "#bd3786"
             ],
             [
              0.5555555555555556,
              "#d8576b"
             ],
             [
              0.6666666666666666,
              "#ed7953"
             ],
             [
              0.7777777777777778,
              "#fb9f3a"
             ],
             [
              0.8888888888888888,
              "#fdca26"
             ],
             [
              1,
              "#f0f921"
             ]
            ],
            "type": "heatmap"
           }
          ],
          "heatmapgl": [
           {
            "colorbar": {
             "outlinewidth": 0,
             "ticks": ""
            },
            "colorscale": [
             [
              0,
              "#0d0887"
             ],
             [
              0.1111111111111111,
              "#46039f"
             ],
             [
              0.2222222222222222,
              "#7201a8"
             ],
             [
              0.3333333333333333,
              "#9c179e"
             ],
             [
              0.4444444444444444,
              "#bd3786"
             ],
             [
              0.5555555555555556,
              "#d8576b"
             ],
             [
              0.6666666666666666,
              "#ed7953"
             ],
             [
              0.7777777777777778,
              "#fb9f3a"
             ],
             [
              0.8888888888888888,
              "#fdca26"
             ],
             [
              1,
              "#f0f921"
             ]
            ],
            "type": "heatmapgl"
           }
          ],
          "histogram": [
           {
            "marker": {
             "pattern": {
              "fillmode": "overlay",
              "size": 10,
              "solidity": 0.2
             }
            },
            "type": "histogram"
           }
          ],
          "histogram2d": [
           {
            "colorbar": {
             "outlinewidth": 0,
             "ticks": ""
            },
            "colorscale": [
             [
              0,
              "#0d0887"
             ],
             [
              0.1111111111111111,
              "#46039f"
             ],
             [
              0.2222222222222222,
              "#7201a8"
             ],
             [
              0.3333333333333333,
              "#9c179e"
             ],
             [
              0.4444444444444444,
              "#bd3786"
             ],
             [
              0.5555555555555556,
              "#d8576b"
             ],
             [
              0.6666666666666666,
              "#ed7953"
             ],
             [
              0.7777777777777778,
              "#fb9f3a"
             ],
             [
              0.8888888888888888,
              "#fdca26"
             ],
             [
              1,
              "#f0f921"
             ]
            ],
            "type": "histogram2d"
           }
          ],
          "histogram2dcontour": [
           {
            "colorbar": {
             "outlinewidth": 0,
             "ticks": ""
            },
            "colorscale": [
             [
              0,
              "#0d0887"
             ],
             [
              0.1111111111111111,
              "#46039f"
             ],
             [
              0.2222222222222222,
              "#7201a8"
             ],
             [
              0.3333333333333333,
              "#9c179e"
             ],
             [
              0.4444444444444444,
              "#bd3786"
             ],
             [
              0.5555555555555556,
              "#d8576b"
             ],
             [
              0.6666666666666666,
              "#ed7953"
             ],
             [
              0.7777777777777778,
              "#fb9f3a"
             ],
             [
              0.8888888888888888,
              "#fdca26"
             ],
             [
              1,
              "#f0f921"
             ]
            ],
            "type": "histogram2dcontour"
           }
          ],
          "mesh3d": [
           {
            "colorbar": {
             "outlinewidth": 0,
             "ticks": ""
            },
            "type": "mesh3d"
           }
          ],
          "parcoords": [
           {
            "line": {
             "colorbar": {
              "outlinewidth": 0,
              "ticks": ""
             }
            },
            "type": "parcoords"
           }
          ],
          "pie": [
           {
            "automargin": true,
            "type": "pie"
           }
          ],
          "scatter": [
           {
            "fillpattern": {
             "fillmode": "overlay",
             "size": 10,
             "solidity": 0.2
            },
            "type": "scatter"
           }
          ],
          "scatter3d": [
           {
            "line": {
             "colorbar": {
              "outlinewidth": 0,
              "ticks": ""
             }
            },
            "marker": {
             "colorbar": {
              "outlinewidth": 0,
              "ticks": ""
             }
            },
            "type": "scatter3d"
           }
          ],
          "scattercarpet": [
           {
            "marker": {
             "colorbar": {
              "outlinewidth": 0,
              "ticks": ""
             }
            },
            "type": "scattercarpet"
           }
          ],
          "scattergeo": [
           {
            "marker": {
             "colorbar": {
              "outlinewidth": 0,
              "ticks": ""
             }
            },
            "type": "scattergeo"
           }
          ],
          "scattergl": [
           {
            "marker": {
             "colorbar": {
              "outlinewidth": 0,
              "ticks": ""
             }
            },
            "type": "scattergl"
           }
          ],
          "scattermapbox": [
           {
            "marker": {
             "colorbar": {
              "outlinewidth": 0,
              "ticks": ""
             }
            },
            "type": "scattermapbox"
           }
          ],
          "scatterpolar": [
           {
            "marker": {
             "colorbar": {
              "outlinewidth": 0,
              "ticks": ""
             }
            },
            "type": "scatterpolar"
           }
          ],
          "scatterpolargl": [
           {
            "marker": {
             "colorbar": {
              "outlinewidth": 0,
              "ticks": ""
             }
            },
            "type": "scatterpolargl"
           }
          ],
          "scatterternary": [
           {
            "marker": {
             "colorbar": {
              "outlinewidth": 0,
              "ticks": ""
             }
            },
            "type": "scatterternary"
           }
          ],
          "surface": [
           {
            "colorbar": {
             "outlinewidth": 0,
             "ticks": ""
            },
            "colorscale": [
             [
              0,
              "#0d0887"
             ],
             [
              0.1111111111111111,
              "#46039f"
             ],
             [
              0.2222222222222222,
              "#7201a8"
             ],
             [
              0.3333333333333333,
              "#9c179e"
             ],
             [
              0.4444444444444444,
              "#bd3786"
             ],
             [
              0.5555555555555556,
              "#d8576b"
             ],
             [
              0.6666666666666666,
              "#ed7953"
             ],
             [
              0.7777777777777778,
              "#fb9f3a"
             ],
             [
              0.8888888888888888,
              "#fdca26"
             ],
             [
              1,
              "#f0f921"
             ]
            ],
            "type": "surface"
           }
          ],
          "table": [
           {
            "cells": {
             "fill": {
              "color": "#EBF0F8"
             },
             "line": {
              "color": "white"
             }
            },
            "header": {
             "fill": {
              "color": "#C8D4E3"
             },
             "line": {
              "color": "white"
             }
            },
            "type": "table"
           }
          ]
         },
         "layout": {
          "annotationdefaults": {
           "arrowcolor": "#2a3f5f",
           "arrowhead": 0,
           "arrowwidth": 1
          },
          "autotypenumbers": "strict",
          "coloraxis": {
           "colorbar": {
            "outlinewidth": 0,
            "ticks": ""
           }
          },
          "colorscale": {
           "diverging": [
            [
             0,
             "#8e0152"
            ],
            [
             0.1,
             "#c51b7d"
            ],
            [
             0.2,
             "#de77ae"
            ],
            [
             0.3,
             "#f1b6da"
            ],
            [
             0.4,
             "#fde0ef"
            ],
            [
             0.5,
             "#f7f7f7"
            ],
            [
             0.6,
             "#e6f5d0"
            ],
            [
             0.7,
             "#b8e186"
            ],
            [
             0.8,
             "#7fbc41"
            ],
            [
             0.9,
             "#4d9221"
            ],
            [
             1,
             "#276419"
            ]
           ],
           "sequential": [
            [
             0,
             "#0d0887"
            ],
            [
             0.1111111111111111,
             "#46039f"
            ],
            [
             0.2222222222222222,
             "#7201a8"
            ],
            [
             0.3333333333333333,
             "#9c179e"
            ],
            [
             0.4444444444444444,
             "#bd3786"
            ],
            [
             0.5555555555555556,
             "#d8576b"
            ],
            [
             0.6666666666666666,
             "#ed7953"
            ],
            [
             0.7777777777777778,
             "#fb9f3a"
            ],
            [
             0.8888888888888888,
             "#fdca26"
            ],
            [
             1,
             "#f0f921"
            ]
           ],
           "sequentialminus": [
            [
             0,
             "#0d0887"
            ],
            [
             0.1111111111111111,
             "#46039f"
            ],
            [
             0.2222222222222222,
             "#7201a8"
            ],
            [
             0.3333333333333333,
             "#9c179e"
            ],
            [
             0.4444444444444444,
             "#bd3786"
            ],
            [
             0.5555555555555556,
             "#d8576b"
            ],
            [
             0.6666666666666666,
             "#ed7953"
            ],
            [
             0.7777777777777778,
             "#fb9f3a"
            ],
            [
             0.8888888888888888,
             "#fdca26"
            ],
            [
             1,
             "#f0f921"
            ]
           ]
          },
          "colorway": [
           "#636efa",
           "#EF553B",
           "#00cc96",
           "#ab63fa",
           "#FFA15A",
           "#19d3f3",
           "#FF6692",
           "#B6E880",
           "#FF97FF",
           "#FECB52"
          ],
          "font": {
           "color": "#2a3f5f"
          },
          "geo": {
           "bgcolor": "white",
           "lakecolor": "white",
           "landcolor": "#E5ECF6",
           "showlakes": true,
           "showland": true,
           "subunitcolor": "white"
          },
          "hoverlabel": {
           "align": "left"
          },
          "hovermode": "closest",
          "mapbox": {
           "style": "light"
          },
          "paper_bgcolor": "white",
          "plot_bgcolor": "#E5ECF6",
          "polar": {
           "angularaxis": {
            "gridcolor": "white",
            "linecolor": "white",
            "ticks": ""
           },
           "bgcolor": "#E5ECF6",
           "radialaxis": {
            "gridcolor": "white",
            "linecolor": "white",
            "ticks": ""
           }
          },
          "scene": {
           "xaxis": {
            "backgroundcolor": "#E5ECF6",
            "gridcolor": "white",
            "gridwidth": 2,
            "linecolor": "white",
            "showbackground": true,
            "ticks": "",
            "zerolinecolor": "white"
           },
           "yaxis": {
            "backgroundcolor": "#E5ECF6",
            "gridcolor": "white",
            "gridwidth": 2,
            "linecolor": "white",
            "showbackground": true,
            "ticks": "",
            "zerolinecolor": "white"
           },
           "zaxis": {
            "backgroundcolor": "#E5ECF6",
            "gridcolor": "white",
            "gridwidth": 2,
            "linecolor": "white",
            "showbackground": true,
            "ticks": "",
            "zerolinecolor": "white"
           }
          },
          "shapedefaults": {
           "line": {
            "color": "#2a3f5f"
           }
          },
          "ternary": {
           "aaxis": {
            "gridcolor": "white",
            "linecolor": "white",
            "ticks": ""
           },
           "baxis": {
            "gridcolor": "white",
            "linecolor": "white",
            "ticks": ""
           },
           "bgcolor": "#E5ECF6",
           "caxis": {
            "gridcolor": "white",
            "linecolor": "white",
            "ticks": ""
           }
          },
          "title": {
           "x": 0.05
          },
          "xaxis": {
           "automargin": true,
           "gridcolor": "white",
           "linecolor": "white",
           "ticks": "",
           "title": {
            "standoff": 15
           },
           "zerolinecolor": "white",
           "zerolinewidth": 2
          },
          "yaxis": {
           "automargin": true,
           "gridcolor": "white",
           "linecolor": "white",
           "ticks": "",
           "title": {
            "standoff": 15
           },
           "zerolinecolor": "white",
           "zerolinewidth": 2
          }
         }
        },
        "title": {
         "text": "System sizes"
        },
        "xaxis": {
         "anchor": "y",
         "domain": [
          0,
          1
         ],
         "range": [
          0,
          1000
         ],
         "title": {
          "text": "Capacity in kWh (storage) / kW (inverter, PV)"
         }
        },
        "yaxis": {
         "anchor": "x",
         "domain": [
          0,
          1
         ],
         "title": {
          "text": ""
         }
        }
       }
      }
     },
     "metadata": {},
     "output_type": "display_data"
    }
   ],
   "source": [
    "print(\"\")\n",
    "solar_size = profiles_using_pv[\"solar_capacity_kwp\"].copy()\n",
    "solar_size.name = \"PV system capacity\"\n",
    "print(solar_size.describe().drop(\"count\").to_markdown())\n",
    "\n",
    "system_size_fig_df = profiles_using_pv.copy()\n",
    "system_size_fig_df = system_size_fig_df.rename(columns={\n",
    "    \"storage_capacity_kwh\": \"Storage\",\n",
    "    \"inverter_capacity_kw\": \"Inverter\",\n",
    "    \"solar_capacity_kwp\": \"PV system\"})\n",
    "system_size_fig = px.box(\n",
    "    data_frame=system_size_fig_df,\n",
    "    x=\"PV system\",\n",
    "    title=\"System sizes\")\n",
    "system_size_fig.update_layout(xaxis_title=\"Capacity in kWh (storage) / kW (inverter, PV)\", yaxis_title=\"\")\n",
    "system_size_fig.update_xaxes(range=[0, 1000])\n",
    "system_size_fig.show()"
   ]
  },
  {
   "cell_type": "markdown",
   "id": "3c0c0883",
   "metadata": {},
   "source": [
    "## System investments"
   ]
  },
  {
   "cell_type": "code",
   "execution_count": 128,
   "id": "00b3603a",
   "metadata": {},
   "outputs": [
    {
     "name": "stdout",
     "output_type": "stream",
     "text": [
      "|      |   Absolute PV system investment |\n",
      "|:-----|--------------------------------:|\n",
      "| mean |                294141           |\n",
      "| std  |                991657           |\n",
      "| min  |                   109.924       |\n",
      "| 25%  |                 15816.6         |\n",
      "| 50%  |                 57366.8         |\n",
      "| 75%  |                217143           |\n",
      "| max  |                     2.41779e+07 |\n"
     ]
    },
    {
     "data": {
      "application/vnd.plotly.v1+json": {
       "config": {
        "plotlyServerURL": "https://plot.ly"
       },
       "data": [
        {
         "alignmentgroup": "True",
         "hovertemplate": "PV system=%{x}<extra></extra>",
         "legendgroup": "",
         "marker": {
          "color": "#636efa"
         },
         "name": "",
         "notched": false,
         "offsetgroup": "",
         "orientation": "h",
         "showlegend": false,
         "type": "box",
         "x": [
          887819.5488721804,
          160730.59360730593,
          21238.938053097343,
          6109.090909090909,
          922865.3295128939,
          65800.86580086581,
          79083.09455587392,
          12763.055062166966,
          260.39783001808314,
          96308.18619582665,
          3496774.1935483865,
          77395.3488372093,
          36629.78723404255,
          864988.5583524029,
          1694117.6470588238,
          459.61002785515325,
          287043.18936877075,
          87783.78378378377,
          40722.02166064982,
          65979.38144329897,
          12667.04871060172,
          36363.63636363637,
          4285.714285714285,
          557697.8417266186,
          1459060.0343053176,
          27004.2194092827,
          43942.69340974212,
          583502.1707670044,
          9655.172413793103,
          50080.25682182986,
          24068.767908309455,
          36275.07163323783,
          2191.780821917808,
          413890.90909090906,
          46852.32067510548,
          30003.49854227405,
          109090.90909090909,
          185055.6438791733,
          246153.84615384616,
          117688.26619964975,
          82670.06369426753,
          197279.30535455863,
          183529.41176470587,
          837130.8016877638,
          2855.1724137931037,
          2873.78640776699,
          675799.0867579909,
          17454.545454545452,
          380045.7665903891,
          17723.07692307692,
          45238.57868020305,
          24081.632653061228,
          1784.6153846153848,
          770200.5730659026,
          25956.738768718806,
          2857.1428571428573,
          63436.12334801761,
          1417.142857142857,
          14441.739130434784,
          13502.10970464135,
          114487.63250883394,
          326697.6744186046,
          82521.48997134672,
          30818.619582664527,
          56733.524355300855,
          206303.72492836675,
          18909.090909090908,
          13753.581661891118,
          506.32911392405066,
          4538.68194842407,
          21691.13924050633,
          395071.6332378224,
          2065.573770491803,
          16927.899686520377,
          1806292.9475587702,
          181268.88217522655,
          5556.446991404012,
          288560.3112840467,
          334150.6129597198,
          68882.1752265861,
          329004.32900432905,
          35880.39867109634,
          2719319.14893617,
          1019653.1791907515,
          237623.76237623763,
          579150.5791505792,
          21886.010362694306,
          29468.354430379746,
          29197.452229299364,
          110247.34982332155,
          170886.59793814435,
          33566.43356643357,
          32307.692307692312,
          314181.8181818182,
          148942.79176201375,
          206484.75120385236,
          23870.561797752813,
          95999.99999999999,
          53212.60744985674,
          41012.6582278481,
          15023.474178403756,
          112574.24023154848,
          200000.00000000003,
          25924.71358428805,
          33180.51575931232,
          79982.97872340426,
          10855.263157894738,
          20492.836676217765,
          9969.788519637463,
          550143.2664756447,
          203370.4292527822,
          28710.280373831778,
          3734.1389728096674,
          1053164.5569620254,
          104252.14899713467,
          15282.199710564402,
          67924.52830188678,
          44651.16279069767,
          133333.33333333334,
          468860.75949367095,
          13502.10970464135,
          91573.92686804452,
          460793.12320916913,
          1402553.1914893617,
          1590636.286919831,
          58431.37254901961,
          3031213.87283237,
          1369945.9459459458,
          168968.60986547082,
          19889.50276243094,
          60235.294117647056,
          103225.8064516129,
          20869.565217391304,
          20302.114803625376,
          56563.011456628476,
          590408.5257548846,
          10212.765957446809,
          57366.77115987461,
          37402.59740259741,
          3172.294372294373,
          129780.56426332289,
          129936.30573248408,
          1564255.319148936,
          807758.3465818759,
          10135.74660633484,
          5014.718614718615,
          579240.506329114,
          76460.17699115045,
          47208.87480190175,
          510257.8796561605,
          340540.5405405405,
          70886.07594936709,
          67510.54852320674,
          37822.349570200575,
          102120.34383954154,
          3497.6744186046503,
          980615.3846153847,
          27084.639498432603,
          53631.28491620112,
          48000,
          1032112.676056338,
          7789.090909090908,
          4089.1719745222936,
          410322.5806451613,
          78139.53488372092,
          9906.382978723404,
          3135.816618911175,
          400000,
          18380.664652567975,
          13306.046511627905,
          49427.917620137305,
          32405.063291139242,
          55411.25541125541,
          24599.097744360897,
          25531.914893617024,
          42894.35600578872,
          629226.3610315187,
          73598.68421052632,
          133544.55445544553,
          94259.8187311178,
          178796.5616045845,
          1753526.0115606936,
          10315.18624641834,
          314976.74418604653,
          12377.622377622378,
          285038.46153846156,
          6486.486486486487,
          123711.34020618557,
          41260.74498567336,
          53052.63157894737,
          11429.94011976048,
          20796.380090497736,
          1330307.9416531604,
          425316.4556962025,
          33805.12820512821,
          26046.511627906977,
          544680.8510638298,
          222647.23032069972,
          490212.7659574468,
          99363.05732484077,
          129523.80952380953,
          178604.6511627907,
          260869.56521739133,
          906612.0930232557,
          83942.76629570748,
          779562.0437956204,
          138319.03945111495,
          35747.07259953162,
          18508.47457627119,
          289848.9425981873,
          21327.031019202364,
          56470.58823529412,
          15262.321144674086,
          59259.534883720924,
          368162.0839363242,
          33855.799373040754,
          1815472.7793696274,
          1458.966565349544,
          238829.26829268294,
          14237.28813559322,
          55930.73593073593,
          2182.5242718446607,
          177175.14124293785,
          384833.57452966715,
          19439.252336448597,
          1830.5084745762713,
          234295.41595925298,
          26865.671641791043,
          13568.904593639578,
          1764705.882352941,
          44255.31914893617,
          1877094.972067039,
          1650.429799426934,
          101265.82278481012,
          11365.323992994747,
          45983.19327731092,
          491285.2664576802,
          243125.90448625185,
          20689.65517241379,
          894514.7679324894,
          136170.21276595746,
          56216.21621621621,
          22080,
          185654.00843881856,
          77104.07239819004,
          91088.37209302325,
          97160.12084592145,
          9090.909090909092,
          1401459.8540145985,
          22929.936305732484,
          5310.63829787234,
          9118.54103343465,
          73530.58568329719,
          41971.38314785374,
          15189.87341772152,
          582658.9595375722,
          22280.802292263612,
          623255.8139534883,
          62135.92233009709,
          275159.2356687898,
          61891.11747851003,
          1080.168776371308,
          186727.68878718535,
          11162.790697674418,
          27004.2194092827,
          2328.1027104136947,
          85316.61442006269,
          79324.89451476793,
          19108.28025477707,
          276446.9914040115,
          176672.268907563,
          9565.267727930537,
          101265.82278481012,
          496353.1669865643,
          27083.333333333336,
          868126.0744985673,
          12339.331619537275,
          16291.970802919708,
          1946869.0702087285,
          27234.04255319149,
          864864.8648648649,
          2869875.268817204,
          6896.551724137932,
          49156.626506024106,
          71086.95652173914,
          644699.1404011461,
          7523.510971786834,
          159719.78984238178,
          36090.22556390977,
          233766.23376623378,
          131791.90751445087,
          89775.56109725685,
          171919.77077363897,
          823628.6919831224,
          71302.01342281878,
          822169.2789968651,
          145326.63316582915,
          13051.359516616314,
          801526.7175572518,
          762373.3719247468,
          50604.651162790695,
          82521.48997134672,
          249350.64935064936,
          708117.2638436481,
          167441.86046511628,
          82521.48997134672,
          58683.385579937305,
          59374.78991596639,
          131510.97178683386,
          84388.18565400843,
          96135.02109704641,
          63813.95348837208,
          148837.20930232556,
          49870.12987012987,
          82162.16216216215,
          5545137.5722543355,
          30524.642289348172,
          3375.5274261603377,
          4342259.067357512,
          82351.14503816793,
          17580.106571936056,
          50883.39222614841,
          107865.16853932585,
          175304.34782608697,
          485.8006042296072,
          302445.1410658307,
          7204.116638078903,
          623529.4117647059,
          312731.91489361704,
          473924.0506329114,
          2094177.2151898732,
          123126.25250501001,
          106635.56851311954,
          137535.81661891117,
          101776.50429799428,
          330769.23076923075,
          3216753.846153846,
          1510.4895104895104,
          2031404.011461318,
          174561.93353474318,
          519122.25705329154,
          38709.67741935484,
          1978.021978021978,
          209158.00904977374,
          285376.66174298374,
          87635.64356435643,
          135879.69924812028,
          420289.10133843205,
          1015153.2033426184,
          683581.1836115324,
          205612.9985228951,
          9917.355371900827,
          199148.93617021278,
          285658.53658536583,
          2803053.4351145034,
          928214.971209213,
          218181.81818181818,
          34436.61971830986,
          79285.71428571429,
          73096.44670050761,
          646473.9884393065,
          16793.002915451892,
          619598.8538681947,
          374557.3770491804,
          630573.2484076433,
          15286.624203821657,
          1029333.3333333334,
          15472.779369627508,
          2523.7822349570197,
          80687.32394366198,
          96969.69696969698,
          3434.0222575516696,
          28098.408104196817,
          4329.0043290043295,
          6876.790830945559,
          4137.931034482759,
          4554.079696394687,
          250487.10601719195,
          18567.33524355301,
          38597.9381443299,
          31435.29411764706,
          59459.45945945945,
          271058.8235294118,
          1641856.5400843883,
          8925.170068027212,
          38750.36496350365,
          89373.99678972711,
          39316.93198263387,
          353200,
          175342.46575342462,
          334819.10274963826,
          200843.8818565401,
          27785.817655571638,
          5172.294372294373,
          19448.94651539708,
          309953.488372093,
          101134.52188006483,
          39603.9603960396,
          30094.043887147334,
          2083478.260869565,
          21818.181818181816,
          46888.567293777145,
          33488.37209302325,
          3183.1677018633536,
          1646.6552315608922,
          1171994.0915805022,
          437626.6280752533,
          434153.40086830687,
          94514.76793248946,
          970087.5656742558,
          779178.0821917808,
          116883.11688311689,
          37209.30232558139,
          3316.0621761658035,
          696995.0248756219,
          188962.0253164557,
          5499949.367088607,
          12440.604751619869,
          221538.46153846153,
          73451.95729537366,
          390671.8146718147,
          660425.5319148937,
          5367.965367965368,
          8247.272727272726,
          423426.1603375527,
          180473.7552742616,
          64524.59016393442,
          59884.8368522073,
          1719.4029850746267,
          312676.0563380282,
          216033.7552742616,
          57632.93310463122,
          446511.62790697673,
          248396.5014577259,
          291536.05015673983,
          29691.32420091324,
          114909.57983193277,
          2058823.5294117648,
          288217.52265861025,
          2620.9048361934474,
          131287.31942215087,
          2992156.862745098,
          6008275.862068965,
          27507.163323782235,
          8078.490566037735,
          1694117.6470588238,
          26966.292134831463,
          1855.6701030927834,
          11114.327062228656,
          508882.5214899713,
          927211.4613180514,
          3705.627705627706,
          14177.215189873417,
          29617.02127659574,
          5106.382978723404,
          1918.4952978056426,
          5557.163531114328,
          5999.999999999999,
          46118.72146118721,
          16242.97994269341,
          7749.216300940439,
          632127.3516642548,
          3600.0000000000005,
          702109.7046413502,
          272340.4255319149,
          88163.26530612244,
          138969.80461811725,
          4167.872648335746,
          963157.8947368421,
          77200,
          872112.6760563381,
          1014435.1648351647,
          409294.6058091287,
          78260.86956521739,
          9789.029535864978,
          34000,
          816708.8607594937,
          506046.51162790693,
          1181333.3333333335,
          146268.35443037975,
          129061.78489702518,
          759493.670886076,
          228523.20675105488,
          32458.452722063037,
          500144.7178002895,
          24177865.030674845,
          145116.27906976742,
          269001.75131348515,
          962.7507163323783,
          81012.65822784811,
          19289.398280802292,
          7564.469914040115,
          7931.034482758621,
          2898.5915492957747,
          255816.6189111748,
          4542285.877318118,
          1256050.1567398119,
          615102.9748283753,
          208372.09302325582,
          127228.91566265062,
          9076.923076923076,
          511415.52511415526,
          220408.16326530615,
          6582.278481012658,
          132320.67510548525,
          58452.722063037254,
          30094.043887147334,
          669767.4418604651,
          523269.23076923087,
          105095.54140127389,
          42329.11392405063,
          46549.17293233082,
          26865.116279069764,
          258.72340425531917,
          35736.67711598746,
          69936.30573248408,
          194911.93737769077,
          126029.17341977308,
          53416.92789968652,
          340318.6246418338,
          33802.816901408456,
          1587753.7437603995,
          777077.3638968482,
          4213.166144200627,
          41691.842900302116,
          297376.0932944606,
          41082.802547770705,
          46074.49856733524,
          28549.92764109986,
          39999.99999999999,
          74893.6170212766,
          16408.510638297874,
          20571.428571428576,
          427136.5638766519,
          196434.35980551052,
          105329.15360501567,
          4334.587554269176,
          6946.4544138929095,
          5655.813953488371,
          73469.38775510204,
          472358.9001447179,
          170.02724795640327,
          29367.088607594935,
          6961.03896103896,
          213781.51260504205,
          38198.95287958116,
          67357.51295336788,
          34302.06677265501,
          11208.267090620031,
          37617.55485893417,
          95909.94371482175,
          91636.36363636363,
          1155300.8595988539,
          167547.16981132072,
          7658.426966292135,
          9841012.65822785,
          24481.37535816619,
          13024.602026049204,
          109.92366412213741,
          13671.060171919771,
          42873.8552437223,
          8172.594752186587,
          526406.9264069265,
          110822.51082251083,
          19172.29437229437,
          52628.08022922636,
          4093.0232558139533,
          74553.1914893617,
          10523.751987281401,
          246666.66666666666,
          209821.36602451841,
          1342065.4911838789,
          75668.78980891721,
          1833.9622641509432,
          149433.96226415093,
          775384.6153846154,
          72179.70049916806,
          214588.23529411762,
          32579.18552036199,
          651919.7707736389,
          90977.70154373928,
          27785.817655571638,
          59565.21739130434,
          154040.1146131805,
          210048.62236628847,
          283636.36363636365,
          77363.89684813753,
          225485.23206751054,
          122368.4210526316,
          116012.08459214501,
          9425.981873111781,
          237442.9223744292,
          56978.41726618705,
          2238.297872340426,
          194489.4651539708,
          33755.27426160337,
          25961.538461538465,
          16068.085106382978,
          175609.75609756098,
          9879.93138936535,
          22794.27662957075,
          4317.299578059072,
          35805.4054054054,
          1377391.3043478262,
          18227.848101265823,
          258995.43378995435,
          225773.19587628866,
          257013.5746606335,
          139784.28351309703,
          144000.00000000003,
          109521.12676056338,
          116323.11977715878,
          403502.6269702277,
          3191.4893617021276,
          8792.079207920793,
          191054.8523206751,
          15629.522431259047,
          2866.2420382165606,
          3370.018975332068,
          6883.720930232557,
          701432.6647564471,
          13595.854922279792,
          23039.999999999996,
          10948.90510948905,
          255999.99999999997,
          8911.178247734138,
          204239.6624472574,
          28190.47619047619,
          4162.8959276018095,
          253545.58610709122,
          2552821.997105644,
          37244.31314623338,
          20805.574912891985,
          40764.331210191085,
          2025719.360568384,
          216756.446991404,
          155375.72254335257,
          29639.79416809606,
          3375.5274261603377,
          2664.756446991404,
          5704632.558139535,
          3579962.8942486085,
          87441.86046511626,
          41260.74498567336,
          24458.59872611465,
          3438.3954154727794,
          116905.44412607451,
          7574.614065180104,
          46756.23800383877,
          31034.482758620696,
          22456.14035087719,
          2651.114922813036,
          444789.96865203755,
          1655.1724137931033,
          292894.7368421053,
          208372.09302325582,
          29398.28080229227,
          5812.658227848102,
          540084.388185654,
          291907.89473684214,
          22194.35736677116,
          129166.66666666666,
          30341.55251141552,
          21333.333333333336,
          28571.428571428572,
          60551.236749116615,
          61891.11747851003,
          22850.21645021645,
          5642.633228840125,
          80340.4255319149,
          19492.385786802028,
          20046.647230320697,
          60171.91977077364,
          13923.609022556391,
          139454.253611557,
          12054.794520547943,
          57176.266280752534,
          3622.641509433962,
          1013727.8106508877,
          29177.039274924467,
          27091.17221418235,
          9872.340425531915,
          3471.803852889667,
          326011.5606936416,
          16523.235800344235,
          52512.15559157212,
          314.68531468531467,
          17552.742616033756,
          18405.228758169935,
          3182.022471910112,
          1215.1898734177216,
          3375.5274261603377,
          1993.9577039274923,
          15347.672552166936,
          22621.184919210053,
          585.0415512465374,
          412607.4498567335,
          10126.582278481013,
          25751.07296137339,
          48480,
          1189604.519774011,
          3988.3381924198243,
          18755.426917510857,
          96305.73248407643,
          930232.5581395348,
          147988.53868194844,
          2459.0163934426228,
          46575.34246575342,
          12233.009708737864,
          44011.46131805158,
          2881.7204301075267,
          60781.47612156296,
          62068.965517241384,
          411764.70588235295,
          22555.87392550143,
          164.75972540045768,
          4820.055710306407,
          482289.34817170113,
          1087.6132930513593,
          21389.728096676736,
          242495.66724436742,
          3969.620253164557,
          21913.043478260868,
          48292.682926829264,
          56387.0036101083,
          27745.664739884392,
          30291.666666666664,
          10126.582278481013,
          409302.3255813953,
          88155.12465373962,
          175527.42616033755,
          111627.90697674418,
          57831.32530120482,
          38794.52054794521,
          191652.67727930538,
          159787.34177215194,
          181313.08016877636,
          32268.907563025212,
          6402.568218298556,
          4357.446808510639,
          121518.98734177215,
          140273.97260273973,
          6699.507389162561,
          11234.04255319149,
          665567.0103092785,
          3862.6609442060085,
          124944,
          47021.943573667704,
          8421.052631578948,
          64876.71232876713,
          47290.64039408867,
          3508363.6363636362,
          44943.82022471909,
          11846.808510638299,
          374296.0288808664,
          2169.6,
          51592.35668789809,
          593860.465116279,
          23080.85106382979,
          1673.8461538461538,
          146935.71428571426,
          292941.17647058825,
          26790.6976744186,
          7322.033898305085,
          7307.359307359307,
          914127.4238227147,
          46888.567293777145,
          163380.60781476123,
          139320.53175775477,
          1220.3389830508474,
          55574.61406518011,
          215.05376344086022,
          4126.074498567335,
          193246.75324675324,
          191002.86532951286,
          121827.41116751269,
          308275.86206896557,
          669.1449814126395,
          1006051.6605166051,
          36843.994211287994,
          1476793.2489451477,
          75880.85106382979,
          49650.42979942693,
          612034.3839541548,
          1012.6582278481013,
          497898.3050847458,
          6153.846153846154,
          104033.83685800603,
          5755.485893416928,
          33936.30573248408,
          591095.0819672131,
          239490.26548672566,
          695358.6497890295,
          15148.936170212768,
          60906.34441087613,
          18936.708860759492,
          27428.571428571428,
          9377.713458755428,
          6078.799249530956,
          7511.737089201878,
          55300.87565674256,
          61484.09893992933,
          167480.1687763713,
          7793.898305084746,
          30769.23076923077,
          991.7355371900828,
          92103.32103321033,
          140751.87969924812,
          959312.3209169054,
          1835.0824587706147,
          1348085.1063829786,
          234586.46616541353,
          1060425.5319148938,
          6887.961476725522,
          94345.99156118144,
          493198.2633863966,
          2389016.0183066363,
          130415.09433962264,
          232925.50143266478,
          590028.653295129,
          608695.652173913,
          223173.9534883721,
          82901.55440414509,
          20658.227848101265,
          72236.28691983121,
          116614.42006269592,
          13090.90909090909,
          5024.680851063829,
          129488.37209302322,
          1027.0106221547799,
          1172093.0232558139,
          710918.9189189188,
          468196.7213114754,
          130659.02578796563,
          185526.31578947368,
          835871.720116618,
          3013953.4883720926,
          437802.19780219777,
          55411.25541125541,
          37822.349570200575,
          25924.050632911392,
          51575.93123209169,
          9282.700421940928,
          84275.07163323782,
          544256.5400843881,
          15816.618911174783,
          8955.223880597014,
          58336.88699360342,
          180524.78134110785,
          35264.44833625219,
          1613.4453781512607,
          202269.04376012966,
          89302.32558139534,
          4450.232558139534,
          32549.728752260395,
          8510.638297872341,
          28073.10704960836,
          10532.915360501567,
          2798.833819241983,
          28025.078369905958,
          76731.79396092363,
          72937.77134587555,
          8254.777070063696,
          4928.270042194093,
          29479.768786127166,
          6334.841628959276,
          38745.38745387454,
          43689.320388349515,
          3008061.4203454894,
          1371428.5714285714,
          9586.107091172214,
          153824.68085106384,
          3439.490445859873,
          183147.85373608905,
          70985.91549295775,
          76292.95774647887,
          3233.684210526316,
          6899.5780590717295,
          23774.294670846397,
          6051.5759312320915,
          76132.93051359516,
          22939.759036144576,
          1154.4303797468353,
          2614.285714285714,
          13097.04641350211,
          27692.307692307688,
          83478.26086956522,
          254616.89587426325,
          18127.220630372496,
          42808.022922636104,
          24138.929088277862,
          144680.8510638298,
          1956.738768718802,
          47230.320699708456,
          1695.201535508637,
          57586.49789029535,
          18675.744680851065,
          19695.12893982808,
          15024.077046548957,
          3789.4736842105262,
          16202.531645569621,
          56853.17220543806,
          236286.91983122364,
          234810.8108108108,
          138418.6046511628,
          6970.297029702971,
          217142.85714285716,
          72247.42268041238,
          3714.9877149877157,
          15128.93982808023,
          114767.93248945147,
          74362.86919831224,
          9885.583524027461,
          898.8764044943821,
          225329.15360501566,
          9344.262295081966,
          3105.882352941176,
          37558.68544600939,
          688607.5949367089,
          27004.2194092827,
          239539.3474088292,
          521316.4556962025,
          4754731.162790697,
          53638.968481375356,
          7255.813953488371,
          7908.309455587391,
          67510.54852320674,
          4426.105263157894,
          48983.38108882521,
          67711.59874608151,
          37647.05882352941,
          433928.5714285715,
          272164.94845360826,
          418909.09090909094,
          460261.6822429906,
          30638.297872340427,
          1017721.5189873418,
          12885.714285714284,
          131287.988422576,
          53694.26751592357,
          752.3510971786834,
          7783.783783783784,
          4030.534351145038,
          1986.6859623733721,
          1044976.0765550239,
          524160,
          31928.939828080227,
          105933.42981186687,
          4602.739726027397,
          76408.02292263611,
          202865.32951289398,
          39204.545454545456,
          77528.08988764044,
          3107.2100313479623,
          3257.142857142857,
          163241.67872648337,
          81218.27411167513,
          446422.89348171704,
          11720.93023255814,
          19781.00558659218,
          2856.9600000000005,
          777957.8606158833,
          243125.90448625185,
          49305.13595166163,
          13892.473118279568,
          140513.6842105263,
          18045.112781954886,
          20689.655172413793,
          4290.332805071315,
          8557.536466774716,
          3089.700996677741,
          2014760.147601476,
          669587.5647668393,
          32664.756446991407,
          187234.04255319148,
          9155.313351498637,
          14531.601731601731,
          125384.6153846154,
          2507.462686567164,
          56426.33228840125,
          9931.034482758621,
          70476.19047619049,
          589944.1340782122,
          36112.14953271028,
          48000,
          23841.059602649006,
          1161.181434599156,
          125119.5369030391,
          30974.729241877256,
          771208.2262210797,
          27190.332326283984,
          90919.22005571032,
          20147.962382445137,
          101443.29896907217,
          13180.778032036613,
          4237.560192616373,
          281948.4240687679,
          56821.997105644,
          55855.26315789474,
          6035.443037974684,
          10523.878437047757,
          7354.285714285714,
          999156.1181434599,
          18285.714285714286,
          3823.4165067178496,
          3979.274611398964,
          3357.5129533678764,
          523140.31971580826,
          749986.2700228834,
          127099.56709956711,
          248396.5014577259,
          24833.83685800604,
          25787.965616045843,
          498604.6511627906,
          67381.92419825072,
          102319.74921630093,
          78587.47993579453,
          25974.025974025975,
          41293.379790940766,
          56603.773584905655,
          61146.49681528663,
          104196.81620839363,
          46888.567293777145,
          39086.757990867576,
          8871.060171919771,
          31413.61256544503,
          675.1054852320675,
          489627.50716332375,
          15828.720626631854,
          825.5707762557078,
          1868.5714285714284,
          121008.40336134455,
          3918.3673469387754,
          9965.517241379312,
          34732.27206946455,
          248275.86206896554,
          105623.4718826406,
          2955.6226415094334,
          3514.285714285714,
          352303.20699708455,
          166714.90593342984,
          50255.587392550144,
          33507.853403141366,
          102616.03375527427,
          111627.90697674418,
          180564.263322884,
          462794.80519480514,
          3615.819209039548,
          20979.02097902098,
          100626.88524590165,
          119148.93617021278,
          126511.62790697673,
          119205.29801324503,
          397974.6835443038,
          319211.8226600985,
          21603.37552742616,
          109839.81693363846,
          5266.457680250784,
          5642.633228840125,
          14611.872146118722,
          39699.24812030075,
          3417765.0429799426,
          5865.719360568383,
          1692.7899686520377,
          70136.98630136986,
          2239.4904458598726,
          680.8510638297873,
          67308.01687763713,
          5520.581113801453,
          29223.744292237443,
          17193.51351351351,
          28540.540540540536,
          56338.028169014084,
          541714.2857142857,
          338144.32989690726,
          17197.452229299364,
          21772.151898734177,
          27906.976744186046,
          4727.954971857411,
          20921.282798833818,
          875253.2561505066,
          729.3777134587556,
          1854.2056074766354,
          16671.490593342984,
          28279.069767441855,
          8230.927835051547,
          166191.44602851325,
          74936.70886075949,
          31674.20814479638,
          27274.261603375526,
          10801.736613603474,
          63951.879699248115,
          68565.97774244833
         ],
         "x0": " ",
         "xaxis": "x",
         "y0": " ",
         "yaxis": "y"
        }
       ],
       "layout": {
        "boxmode": "group",
        "legend": {
         "tracegroupgap": 0
        },
        "template": {
         "data": {
          "bar": [
           {
            "error_x": {
             "color": "#2a3f5f"
            },
            "error_y": {
             "color": "#2a3f5f"
            },
            "marker": {
             "line": {
              "color": "#E5ECF6",
              "width": 0.5
             },
             "pattern": {
              "fillmode": "overlay",
              "size": 10,
              "solidity": 0.2
             }
            },
            "type": "bar"
           }
          ],
          "barpolar": [
           {
            "marker": {
             "line": {
              "color": "#E5ECF6",
              "width": 0.5
             },
             "pattern": {
              "fillmode": "overlay",
              "size": 10,
              "solidity": 0.2
             }
            },
            "type": "barpolar"
           }
          ],
          "carpet": [
           {
            "aaxis": {
             "endlinecolor": "#2a3f5f",
             "gridcolor": "white",
             "linecolor": "white",
             "minorgridcolor": "white",
             "startlinecolor": "#2a3f5f"
            },
            "baxis": {
             "endlinecolor": "#2a3f5f",
             "gridcolor": "white",
             "linecolor": "white",
             "minorgridcolor": "white",
             "startlinecolor": "#2a3f5f"
            },
            "type": "carpet"
           }
          ],
          "choropleth": [
           {
            "colorbar": {
             "outlinewidth": 0,
             "ticks": ""
            },
            "type": "choropleth"
           }
          ],
          "contour": [
           {
            "colorbar": {
             "outlinewidth": 0,
             "ticks": ""
            },
            "colorscale": [
             [
              0,
              "#0d0887"
             ],
             [
              0.1111111111111111,
              "#46039f"
             ],
             [
              0.2222222222222222,
              "#7201a8"
             ],
             [
              0.3333333333333333,
              "#9c179e"
             ],
             [
              0.4444444444444444,
              "#bd3786"
             ],
             [
              0.5555555555555556,
              "#d8576b"
             ],
             [
              0.6666666666666666,
              "#ed7953"
             ],
             [
              0.7777777777777778,
              "#fb9f3a"
             ],
             [
              0.8888888888888888,
              "#fdca26"
             ],
             [
              1,
              "#f0f921"
             ]
            ],
            "type": "contour"
           }
          ],
          "contourcarpet": [
           {
            "colorbar": {
             "outlinewidth": 0,
             "ticks": ""
            },
            "type": "contourcarpet"
           }
          ],
          "heatmap": [
           {
            "colorbar": {
             "outlinewidth": 0,
             "ticks": ""
            },
            "colorscale": [
             [
              0,
              "#0d0887"
             ],
             [
              0.1111111111111111,
              "#46039f"
             ],
             [
              0.2222222222222222,
              "#7201a8"
             ],
             [
              0.3333333333333333,
              "#9c179e"
             ],
             [
              0.4444444444444444,
              "#bd3786"
             ],
             [
              0.5555555555555556,
              "#d8576b"
             ],
             [
              0.6666666666666666,
              "#ed7953"
             ],
             [
              0.7777777777777778,
              "#fb9f3a"
             ],
             [
              0.8888888888888888,
              "#fdca26"
             ],
             [
              1,
              "#f0f921"
             ]
            ],
            "type": "heatmap"
           }
          ],
          "heatmapgl": [
           {
            "colorbar": {
             "outlinewidth": 0,
             "ticks": ""
            },
            "colorscale": [
             [
              0,
              "#0d0887"
             ],
             [
              0.1111111111111111,
              "#46039f"
             ],
             [
              0.2222222222222222,
              "#7201a8"
             ],
             [
              0.3333333333333333,
              "#9c179e"
             ],
             [
              0.4444444444444444,
              "#bd3786"
             ],
             [
              0.5555555555555556,
              "#d8576b"
             ],
             [
              0.6666666666666666,
              "#ed7953"
             ],
             [
              0.7777777777777778,
              "#fb9f3a"
             ],
             [
              0.8888888888888888,
              "#fdca26"
             ],
             [
              1,
              "#f0f921"
             ]
            ],
            "type": "heatmapgl"
           }
          ],
          "histogram": [
           {
            "marker": {
             "pattern": {
              "fillmode": "overlay",
              "size": 10,
              "solidity": 0.2
             }
            },
            "type": "histogram"
           }
          ],
          "histogram2d": [
           {
            "colorbar": {
             "outlinewidth": 0,
             "ticks": ""
            },
            "colorscale": [
             [
              0,
              "#0d0887"
             ],
             [
              0.1111111111111111,
              "#46039f"
             ],
             [
              0.2222222222222222,
              "#7201a8"
             ],
             [
              0.3333333333333333,
              "#9c179e"
             ],
             [
              0.4444444444444444,
              "#bd3786"
             ],
             [
              0.5555555555555556,
              "#d8576b"
             ],
             [
              0.6666666666666666,
              "#ed7953"
             ],
             [
              0.7777777777777778,
              "#fb9f3a"
             ],
             [
              0.8888888888888888,
              "#fdca26"
             ],
             [
              1,
              "#f0f921"
             ]
            ],
            "type": "histogram2d"
           }
          ],
          "histogram2dcontour": [
           {
            "colorbar": {
             "outlinewidth": 0,
             "ticks": ""
            },
            "colorscale": [
             [
              0,
              "#0d0887"
             ],
             [
              0.1111111111111111,
              "#46039f"
             ],
             [
              0.2222222222222222,
              "#7201a8"
             ],
             [
              0.3333333333333333,
              "#9c179e"
             ],
             [
              0.4444444444444444,
              "#bd3786"
             ],
             [
              0.5555555555555556,
              "#d8576b"
             ],
             [
              0.6666666666666666,
              "#ed7953"
             ],
             [
              0.7777777777777778,
              "#fb9f3a"
             ],
             [
              0.8888888888888888,
              "#fdca26"
             ],
             [
              1,
              "#f0f921"
             ]
            ],
            "type": "histogram2dcontour"
           }
          ],
          "mesh3d": [
           {
            "colorbar": {
             "outlinewidth": 0,
             "ticks": ""
            },
            "type": "mesh3d"
           }
          ],
          "parcoords": [
           {
            "line": {
             "colorbar": {
              "outlinewidth": 0,
              "ticks": ""
             }
            },
            "type": "parcoords"
           }
          ],
          "pie": [
           {
            "automargin": true,
            "type": "pie"
           }
          ],
          "scatter": [
           {
            "fillpattern": {
             "fillmode": "overlay",
             "size": 10,
             "solidity": 0.2
            },
            "type": "scatter"
           }
          ],
          "scatter3d": [
           {
            "line": {
             "colorbar": {
              "outlinewidth": 0,
              "ticks": ""
             }
            },
            "marker": {
             "colorbar": {
              "outlinewidth": 0,
              "ticks": ""
             }
            },
            "type": "scatter3d"
           }
          ],
          "scattercarpet": [
           {
            "marker": {
             "colorbar": {
              "outlinewidth": 0,
              "ticks": ""
             }
            },
            "type": "scattercarpet"
           }
          ],
          "scattergeo": [
           {
            "marker": {
             "colorbar": {
              "outlinewidth": 0,
              "ticks": ""
             }
            },
            "type": "scattergeo"
           }
          ],
          "scattergl": [
           {
            "marker": {
             "colorbar": {
              "outlinewidth": 0,
              "ticks": ""
             }
            },
            "type": "scattergl"
           }
          ],
          "scattermapbox": [
           {
            "marker": {
             "colorbar": {
              "outlinewidth": 0,
              "ticks": ""
             }
            },
            "type": "scattermapbox"
           }
          ],
          "scatterpolar": [
           {
            "marker": {
             "colorbar": {
              "outlinewidth": 0,
              "ticks": ""
             }
            },
            "type": "scatterpolar"
           }
          ],
          "scatterpolargl": [
           {
            "marker": {
             "colorbar": {
              "outlinewidth": 0,
              "ticks": ""
             }
            },
            "type": "scatterpolargl"
           }
          ],
          "scatterternary": [
           {
            "marker": {
             "colorbar": {
              "outlinewidth": 0,
              "ticks": ""
             }
            },
            "type": "scatterternary"
           }
          ],
          "surface": [
           {
            "colorbar": {
             "outlinewidth": 0,
             "ticks": ""
            },
            "colorscale": [
             [
              0,
              "#0d0887"
             ],
             [
              0.1111111111111111,
              "#46039f"
             ],
             [
              0.2222222222222222,
              "#7201a8"
             ],
             [
              0.3333333333333333,
              "#9c179e"
             ],
             [
              0.4444444444444444,
              "#bd3786"
             ],
             [
              0.5555555555555556,
              "#d8576b"
             ],
             [
              0.6666666666666666,
              "#ed7953"
             ],
             [
              0.7777777777777778,
              "#fb9f3a"
             ],
             [
              0.8888888888888888,
              "#fdca26"
             ],
             [
              1,
              "#f0f921"
             ]
            ],
            "type": "surface"
           }
          ],
          "table": [
           {
            "cells": {
             "fill": {
              "color": "#EBF0F8"
             },
             "line": {
              "color": "white"
             }
            },
            "header": {
             "fill": {
              "color": "#C8D4E3"
             },
             "line": {
              "color": "white"
             }
            },
            "type": "table"
           }
          ]
         },
         "layout": {
          "annotationdefaults": {
           "arrowcolor": "#2a3f5f",
           "arrowhead": 0,
           "arrowwidth": 1
          },
          "autotypenumbers": "strict",
          "coloraxis": {
           "colorbar": {
            "outlinewidth": 0,
            "ticks": ""
           }
          },
          "colorscale": {
           "diverging": [
            [
             0,
             "#8e0152"
            ],
            [
             0.1,
             "#c51b7d"
            ],
            [
             0.2,
             "#de77ae"
            ],
            [
             0.3,
             "#f1b6da"
            ],
            [
             0.4,
             "#fde0ef"
            ],
            [
             0.5,
             "#f7f7f7"
            ],
            [
             0.6,
             "#e6f5d0"
            ],
            [
             0.7,
             "#b8e186"
            ],
            [
             0.8,
             "#7fbc41"
            ],
            [
             0.9,
             "#4d9221"
            ],
            [
             1,
             "#276419"
            ]
           ],
           "sequential": [
            [
             0,
             "#0d0887"
            ],
            [
             0.1111111111111111,
             "#46039f"
            ],
            [
             0.2222222222222222,
             "#7201a8"
            ],
            [
             0.3333333333333333,
             "#9c179e"
            ],
            [
             0.4444444444444444,
             "#bd3786"
            ],
            [
             0.5555555555555556,
             "#d8576b"
            ],
            [
             0.6666666666666666,
             "#ed7953"
            ],
            [
             0.7777777777777778,
             "#fb9f3a"
            ],
            [
             0.8888888888888888,
             "#fdca26"
            ],
            [
             1,
             "#f0f921"
            ]
           ],
           "sequentialminus": [
            [
             0,
             "#0d0887"
            ],
            [
             0.1111111111111111,
             "#46039f"
            ],
            [
             0.2222222222222222,
             "#7201a8"
            ],
            [
             0.3333333333333333,
             "#9c179e"
            ],
            [
             0.4444444444444444,
             "#bd3786"
            ],
            [
             0.5555555555555556,
             "#d8576b"
            ],
            [
             0.6666666666666666,
             "#ed7953"
            ],
            [
             0.7777777777777778,
             "#fb9f3a"
            ],
            [
             0.8888888888888888,
             "#fdca26"
            ],
            [
             1,
             "#f0f921"
            ]
           ]
          },
          "colorway": [
           "#636efa",
           "#EF553B",
           "#00cc96",
           "#ab63fa",
           "#FFA15A",
           "#19d3f3",
           "#FF6692",
           "#B6E880",
           "#FF97FF",
           "#FECB52"
          ],
          "font": {
           "color": "#2a3f5f"
          },
          "geo": {
           "bgcolor": "white",
           "lakecolor": "white",
           "landcolor": "#E5ECF6",
           "showlakes": true,
           "showland": true,
           "subunitcolor": "white"
          },
          "hoverlabel": {
           "align": "left"
          },
          "hovermode": "closest",
          "mapbox": {
           "style": "light"
          },
          "paper_bgcolor": "white",
          "plot_bgcolor": "#E5ECF6",
          "polar": {
           "angularaxis": {
            "gridcolor": "white",
            "linecolor": "white",
            "ticks": ""
           },
           "bgcolor": "#E5ECF6",
           "radialaxis": {
            "gridcolor": "white",
            "linecolor": "white",
            "ticks": ""
           }
          },
          "scene": {
           "xaxis": {
            "backgroundcolor": "#E5ECF6",
            "gridcolor": "white",
            "gridwidth": 2,
            "linecolor": "white",
            "showbackground": true,
            "ticks": "",
            "zerolinecolor": "white"
           },
           "yaxis": {
            "backgroundcolor": "#E5ECF6",
            "gridcolor": "white",
            "gridwidth": 2,
            "linecolor": "white",
            "showbackground": true,
            "ticks": "",
            "zerolinecolor": "white"
           },
           "zaxis": {
            "backgroundcolor": "#E5ECF6",
            "gridcolor": "white",
            "gridwidth": 2,
            "linecolor": "white",
            "showbackground": true,
            "ticks": "",
            "zerolinecolor": "white"
           }
          },
          "shapedefaults": {
           "line": {
            "color": "#2a3f5f"
           }
          },
          "ternary": {
           "aaxis": {
            "gridcolor": "white",
            "linecolor": "white",
            "ticks": ""
           },
           "baxis": {
            "gridcolor": "white",
            "linecolor": "white",
            "ticks": ""
           },
           "bgcolor": "#E5ECF6",
           "caxis": {
            "gridcolor": "white",
            "linecolor": "white",
            "ticks": ""
           }
          },
          "title": {
           "x": 0.05
          },
          "xaxis": {
           "automargin": true,
           "gridcolor": "white",
           "linecolor": "white",
           "ticks": "",
           "title": {
            "standoff": 15
           },
           "zerolinecolor": "white",
           "zerolinewidth": 2
          },
          "yaxis": {
           "automargin": true,
           "gridcolor": "white",
           "linecolor": "white",
           "ticks": "",
           "title": {
            "standoff": 15
           },
           "zerolinecolor": "white",
           "zerolinewidth": 2
          }
         }
        },
        "title": {
         "text": "System investments"
        },
        "xaxis": {
         "anchor": "y",
         "domain": [
          0,
          1
         ],
         "range": [
          0,
          800000
         ],
         "title": {
          "text": "System investments in €"
         }
        },
        "yaxis": {
         "anchor": "x",
         "domain": [
          0,
          1
         ],
         "title": {
          "text": ""
         }
        }
       }
      }
     },
     "metadata": {},
     "output_type": "display_data"
    }
   ],
   "source": [
    "solar_invest = profiles_using_pv[\"solar_invest_eur\"]\n",
    "solar_invest.name = \"Absolute PV system investment\"\n",
    "print(solar_invest.describe().drop(\"count\").to_markdown())\n",
    "\n",
    "system_invest_fig_df = profiles_using_pv.copy()\n",
    "system_invest_fig_df = system_invest_fig_df.rename(columns={\n",
    "    \"storage_invest_eur\": \"Storage\",\n",
    "    \"inverter_invest_eur\": \"Inverter\",\n",
    "    \"solar_invest_eur\": \"PV system\"})\n",
    "system_invest_fig = px.box(\n",
    "    data_frame=system_invest_fig_df,\n",
    "    x=\"PV system\",\n",
    "    title=\"System investments\")\n",
    "system_invest_fig.update_layout(xaxis_title=\"System investments in €\", yaxis_title=\"\")\n",
    "system_invest_fig.update_xaxes(range=[0, 800e3])\n",
    "system_invest_fig.show()"
   ]
  },
  {
   "cell_type": "markdown",
   "id": "df3bbebe",
   "metadata": {},
   "source": [
    "# Comparison"
   ]
  },
  {
   "cell_type": "code",
   "execution_count": 129,
   "id": "a7978fe8",
   "metadata": {},
   "outputs": [
    {
     "data": {
      "text/html": [
       "<div>\n",
       "<style scoped>\n",
       "    .dataframe tbody tr th:only-of-type {\n",
       "        vertical-align: middle;\n",
       "    }\n",
       "\n",
       "    .dataframe tbody tr th {\n",
       "        vertical-align: top;\n",
       "    }\n",
       "\n",
       "    .dataframe thead th {\n",
       "        text-align: right;\n",
       "    }\n",
       "</style>\n",
       "<table border=\"1\" class=\"dataframe\">\n",
       "  <thead>\n",
       "    <tr style=\"text-align: right;\">\n",
       "      <th></th>\n",
       "      <th>energy_costs_eur</th>\n",
       "      <th>grid_energy_costs_eur</th>\n",
       "      <th>grid_capacity_costs_eur</th>\n",
       "      <th>grid_capacity_kw</th>\n",
       "      <th>storage_invest_eur</th>\n",
       "      <th>storage_annuity_eur</th>\n",
       "      <th>storage_capacity_kwh</th>\n",
       "      <th>inverter_invest_eur</th>\n",
       "      <th>inverter_annuity_eur</th>\n",
       "      <th>inverter_capacity_kw</th>\n",
       "      <th>solar_invest_eur</th>\n",
       "      <th>solar_annuity_eur</th>\n",
       "      <th>solar_capacity_kwp</th>\n",
       "      <th>total_yearly_costs_eur</th>\n",
       "      <th>total_annuity_eur</th>\n",
       "      <th>total_invest_eur</th>\n",
       "    </tr>\n",
       "    <tr>\n",
       "      <th>id</th>\n",
       "      <th></th>\n",
       "      <th></th>\n",
       "      <th></th>\n",
       "      <th></th>\n",
       "      <th></th>\n",
       "      <th></th>\n",
       "      <th></th>\n",
       "      <th></th>\n",
       "      <th></th>\n",
       "      <th></th>\n",
       "      <th></th>\n",
       "      <th></th>\n",
       "      <th></th>\n",
       "      <th></th>\n",
       "      <th></th>\n",
       "      <th></th>\n",
       "    </tr>\n",
       "  </thead>\n",
       "  <tbody>\n",
       "    <tr>\n",
       "      <th>0</th>\n",
       "      <td>2791.373626</td>\n",
       "      <td>741.961997</td>\n",
       "      <td>0.000000</td>\n",
       "      <td>0.000000</td>\n",
       "      <td>0.0</td>\n",
       "      <td>0.0</td>\n",
       "      <td>0.0</td>\n",
       "      <td>0.0</td>\n",
       "      <td>0.0</td>\n",
       "      <td>0.0</td>\n",
       "      <td>0.000000</td>\n",
       "      <td>0.000000</td>\n",
       "      <td>0.000000</td>\n",
       "      <td>3533.335623</td>\n",
       "      <td>0.000000</td>\n",
       "      <td>0.000000</td>\n",
       "    </tr>\n",
       "    <tr>\n",
       "      <th>1</th>\n",
       "      <td>901.561967</td>\n",
       "      <td>32.879364</td>\n",
       "      <td>0.000000</td>\n",
       "      <td>0.000000</td>\n",
       "      <td>0.0</td>\n",
       "      <td>0.0</td>\n",
       "      <td>0.0</td>\n",
       "      <td>0.0</td>\n",
       "      <td>0.0</td>\n",
       "      <td>0.0</td>\n",
       "      <td>0.000000</td>\n",
       "      <td>0.000000</td>\n",
       "      <td>0.000000</td>\n",
       "      <td>934.441331</td>\n",
       "      <td>0.000000</td>\n",
       "      <td>0.000000</td>\n",
       "    </tr>\n",
       "    <tr>\n",
       "      <th>2</th>\n",
       "      <td>559.200689</td>\n",
       "      <td>20.393676</td>\n",
       "      <td>0.000000</td>\n",
       "      <td>0.000000</td>\n",
       "      <td>0.0</td>\n",
       "      <td>0.0</td>\n",
       "      <td>0.0</td>\n",
       "      <td>0.0</td>\n",
       "      <td>0.0</td>\n",
       "      <td>0.0</td>\n",
       "      <td>0.000000</td>\n",
       "      <td>0.000000</td>\n",
       "      <td>0.000000</td>\n",
       "      <td>579.594365</td>\n",
       "      <td>0.000000</td>\n",
       "      <td>0.000000</td>\n",
       "    </tr>\n",
       "    <tr>\n",
       "      <th>3</th>\n",
       "      <td>493.350000</td>\n",
       "      <td>17.992146</td>\n",
       "      <td>0.000000</td>\n",
       "      <td>0.000000</td>\n",
       "      <td>0.0</td>\n",
       "      <td>0.0</td>\n",
       "      <td>0.0</td>\n",
       "      <td>0.0</td>\n",
       "      <td>0.0</td>\n",
       "      <td>0.0</td>\n",
       "      <td>0.000000</td>\n",
       "      <td>0.000000</td>\n",
       "      <td>0.000000</td>\n",
       "      <td>511.342146</td>\n",
       "      <td>0.000000</td>\n",
       "      <td>0.000000</td>\n",
       "    </tr>\n",
       "    <tr>\n",
       "      <th>4</th>\n",
       "      <td>153480.233255</td>\n",
       "      <td>46500.827151</td>\n",
       "      <td>3996.891284</td>\n",
       "      <td>251.278195</td>\n",
       "      <td>0.0</td>\n",
       "      <td>0.0</td>\n",
       "      <td>0.0</td>\n",
       "      <td>0.0</td>\n",
       "      <td>0.0</td>\n",
       "      <td>0.0</td>\n",
       "      <td>-887819.548872</td>\n",
       "      <td>-39641.073868</td>\n",
       "      <td>-739.849624</td>\n",
       "      <td>164336.877823</td>\n",
       "      <td>-39641.073868</td>\n",
       "      <td>-887819.548872</td>\n",
       "    </tr>\n",
       "  </tbody>\n",
       "</table>\n",
       "</div>"
      ],
      "text/plain": [
       "    energy_costs_eur  grid_energy_costs_eur  grid_capacity_costs_eur  \\\n",
       "id                                                                     \n",
       "0        2791.373626             741.961997                 0.000000   \n",
       "1         901.561967              32.879364                 0.000000   \n",
       "2         559.200689              20.393676                 0.000000   \n",
       "3         493.350000              17.992146                 0.000000   \n",
       "4      153480.233255           46500.827151              3996.891284   \n",
       "\n",
       "    grid_capacity_kw  storage_invest_eur  storage_annuity_eur  \\\n",
       "id                                                              \n",
       "0           0.000000                 0.0                  0.0   \n",
       "1           0.000000                 0.0                  0.0   \n",
       "2           0.000000                 0.0                  0.0   \n",
       "3           0.000000                 0.0                  0.0   \n",
       "4         251.278195                 0.0                  0.0   \n",
       "\n",
       "    storage_capacity_kwh  inverter_invest_eur  inverter_annuity_eur  \\\n",
       "id                                                                    \n",
       "0                    0.0                  0.0                   0.0   \n",
       "1                    0.0                  0.0                   0.0   \n",
       "2                    0.0                  0.0                   0.0   \n",
       "3                    0.0                  0.0                   0.0   \n",
       "4                    0.0                  0.0                   0.0   \n",
       "\n",
       "    inverter_capacity_kw  solar_invest_eur  solar_annuity_eur  \\\n",
       "id                                                              \n",
       "0                    0.0          0.000000           0.000000   \n",
       "1                    0.0          0.000000           0.000000   \n",
       "2                    0.0          0.000000           0.000000   \n",
       "3                    0.0          0.000000           0.000000   \n",
       "4                    0.0    -887819.548872      -39641.073868   \n",
       "\n",
       "    solar_capacity_kwp  total_yearly_costs_eur  total_annuity_eur  \\\n",
       "id                                                                  \n",
       "0             0.000000             3533.335623           0.000000   \n",
       "1             0.000000              934.441331           0.000000   \n",
       "2             0.000000              579.594365           0.000000   \n",
       "3             0.000000              511.342146           0.000000   \n",
       "4          -739.849624           164336.877823      -39641.073868   \n",
       "\n",
       "    total_invest_eur  \n",
       "id                    \n",
       "0           0.000000  \n",
       "1           0.000000  \n",
       "2           0.000000  \n",
       "3           0.000000  \n",
       "4     -887819.548872  "
      ]
     },
     "execution_count": 129,
     "metadata": {},
     "output_type": "execute_result"
    }
   ],
   "source": [
    "abs_diff = baseline.drop(columns=\"name\") - pv.drop(columns=\"name\")\n",
    "\n",
    "# drop those that could not be optimized\n",
    "abs_diff.dropna(subset=\"total_yearly_costs_eur\", inplace=True)\n",
    "\n",
    "abs_diff.head()"
   ]
  },
  {
   "cell_type": "code",
   "execution_count": 130,
   "id": "218800a1",
   "metadata": {},
   "outputs": [
    {
     "data": {
      "text/html": [
       "<div>\n",
       "<style scoped>\n",
       "    .dataframe tbody tr th:only-of-type {\n",
       "        vertical-align: middle;\n",
       "    }\n",
       "\n",
       "    .dataframe tbody tr th {\n",
       "        vertical-align: top;\n",
       "    }\n",
       "\n",
       "    .dataframe thead th {\n",
       "        text-align: right;\n",
       "    }\n",
       "</style>\n",
       "<table border=\"1\" class=\"dataframe\">\n",
       "  <thead>\n",
       "    <tr style=\"text-align: right;\">\n",
       "      <th></th>\n",
       "      <th>energy_costs_eur</th>\n",
       "      <th>grid_energy_costs_eur</th>\n",
       "      <th>grid_capacity_costs_eur</th>\n",
       "      <th>grid_capacity_kw</th>\n",
       "      <th>storage_invest_eur</th>\n",
       "      <th>storage_annuity_eur</th>\n",
       "      <th>storage_capacity_kwh</th>\n",
       "      <th>inverter_invest_eur</th>\n",
       "      <th>inverter_annuity_eur</th>\n",
       "      <th>inverter_capacity_kw</th>\n",
       "      <th>solar_invest_eur</th>\n",
       "      <th>solar_annuity_eur</th>\n",
       "      <th>solar_capacity_kwp</th>\n",
       "      <th>total_yearly_costs_eur</th>\n",
       "      <th>total_annuity_eur</th>\n",
       "      <th>total_invest_eur</th>\n",
       "    </tr>\n",
       "    <tr>\n",
       "      <th>id</th>\n",
       "      <th></th>\n",
       "      <th></th>\n",
       "      <th></th>\n",
       "      <th></th>\n",
       "      <th></th>\n",
       "      <th></th>\n",
       "      <th></th>\n",
       "      <th></th>\n",
       "      <th></th>\n",
       "      <th></th>\n",
       "      <th></th>\n",
       "      <th></th>\n",
       "      <th></th>\n",
       "      <th></th>\n",
       "      <th></th>\n",
       "      <th></th>\n",
       "    </tr>\n",
       "  </thead>\n",
       "  <tbody>\n",
       "    <tr>\n",
       "      <th>0</th>\n",
       "      <td>0.002732</td>\n",
       "      <td>0.002732</td>\n",
       "      <td>0.000000</td>\n",
       "      <td>0.000000</td>\n",
       "      <td>NaN</td>\n",
       "      <td>NaN</td>\n",
       "      <td>NaN</td>\n",
       "      <td>NaN</td>\n",
       "      <td>NaN</td>\n",
       "      <td>NaN</td>\n",
       "      <td>NaN</td>\n",
       "      <td>NaN</td>\n",
       "      <td>NaN</td>\n",
       "      <td>0.002648</td>\n",
       "      <td>NaN</td>\n",
       "      <td>NaN</td>\n",
       "    </tr>\n",
       "    <tr>\n",
       "      <th>1</th>\n",
       "      <td>0.002732</td>\n",
       "      <td>0.002732</td>\n",
       "      <td>0.000000</td>\n",
       "      <td>0.000000</td>\n",
       "      <td>NaN</td>\n",
       "      <td>NaN</td>\n",
       "      <td>NaN</td>\n",
       "      <td>NaN</td>\n",
       "      <td>NaN</td>\n",
       "      <td>NaN</td>\n",
       "      <td>NaN</td>\n",
       "      <td>NaN</td>\n",
       "      <td>NaN</td>\n",
       "      <td>0.001967</td>\n",
       "      <td>NaN</td>\n",
       "      <td>NaN</td>\n",
       "    </tr>\n",
       "    <tr>\n",
       "      <th>2</th>\n",
       "      <td>0.002732</td>\n",
       "      <td>0.002732</td>\n",
       "      <td>0.000000</td>\n",
       "      <td>0.000000</td>\n",
       "      <td>NaN</td>\n",
       "      <td>NaN</td>\n",
       "      <td>NaN</td>\n",
       "      <td>NaN</td>\n",
       "      <td>NaN</td>\n",
       "      <td>NaN</td>\n",
       "      <td>NaN</td>\n",
       "      <td>NaN</td>\n",
       "      <td>NaN</td>\n",
       "      <td>0.001863</td>\n",
       "      <td>NaN</td>\n",
       "      <td>NaN</td>\n",
       "    </tr>\n",
       "    <tr>\n",
       "      <th>3</th>\n",
       "      <td>0.002732</td>\n",
       "      <td>0.002732</td>\n",
       "      <td>0.000000</td>\n",
       "      <td>0.000000</td>\n",
       "      <td>NaN</td>\n",
       "      <td>NaN</td>\n",
       "      <td>NaN</td>\n",
       "      <td>NaN</td>\n",
       "      <td>NaN</td>\n",
       "      <td>NaN</td>\n",
       "      <td>NaN</td>\n",
       "      <td>NaN</td>\n",
       "      <td>NaN</td>\n",
       "      <td>0.001878</td>\n",
       "      <td>NaN</td>\n",
       "      <td>NaN</td>\n",
       "    </tr>\n",
       "    <tr>\n",
       "      <th>4</th>\n",
       "      <td>0.052599</td>\n",
       "      <td>0.052599</td>\n",
       "      <td>0.072206</td>\n",
       "      <td>0.072206</td>\n",
       "      <td>NaN</td>\n",
       "      <td>NaN</td>\n",
       "      <td>NaN</td>\n",
       "      <td>NaN</td>\n",
       "      <td>NaN</td>\n",
       "      <td>NaN</td>\n",
       "      <td>-inf</td>\n",
       "      <td>-inf</td>\n",
       "      <td>-inf</td>\n",
       "      <td>0.042604</td>\n",
       "      <td>-inf</td>\n",
       "      <td>-inf</td>\n",
       "    </tr>\n",
       "    <tr>\n",
       "      <th>...</th>\n",
       "      <td>...</td>\n",
       "      <td>...</td>\n",
       "      <td>...</td>\n",
       "      <td>...</td>\n",
       "      <td>...</td>\n",
       "      <td>...</td>\n",
       "      <td>...</td>\n",
       "      <td>...</td>\n",
       "      <td>...</td>\n",
       "      <td>...</td>\n",
       "      <td>...</td>\n",
       "      <td>...</td>\n",
       "      <td>...</td>\n",
       "      <td>...</td>\n",
       "      <td>...</td>\n",
       "      <td>...</td>\n",
       "    </tr>\n",
       "    <tr>\n",
       "      <th>2736</th>\n",
       "      <td>0.011529</td>\n",
       "      <td>0.011529</td>\n",
       "      <td>0.000582</td>\n",
       "      <td>0.000582</td>\n",
       "      <td>NaN</td>\n",
       "      <td>NaN</td>\n",
       "      <td>NaN</td>\n",
       "      <td>NaN</td>\n",
       "      <td>NaN</td>\n",
       "      <td>NaN</td>\n",
       "      <td>-inf</td>\n",
       "      <td>-inf</td>\n",
       "      <td>-inf</td>\n",
       "      <td>0.009477</td>\n",
       "      <td>-inf</td>\n",
       "      <td>-inf</td>\n",
       "    </tr>\n",
       "    <tr>\n",
       "      <th>2748</th>\n",
       "      <td>0.070263</td>\n",
       "      <td>0.070263</td>\n",
       "      <td>0.025722</td>\n",
       "      <td>0.025722</td>\n",
       "      <td>NaN</td>\n",
       "      <td>NaN</td>\n",
       "      <td>NaN</td>\n",
       "      <td>NaN</td>\n",
       "      <td>NaN</td>\n",
       "      <td>NaN</td>\n",
       "      <td>-inf</td>\n",
       "      <td>-inf</td>\n",
       "      <td>-inf</td>\n",
       "      <td>0.054460</td>\n",
       "      <td>-inf</td>\n",
       "      <td>-inf</td>\n",
       "    </tr>\n",
       "    <tr>\n",
       "      <th>2772</th>\n",
       "      <td>0.064696</td>\n",
       "      <td>0.064696</td>\n",
       "      <td>0.025558</td>\n",
       "      <td>0.025558</td>\n",
       "      <td>NaN</td>\n",
       "      <td>NaN</td>\n",
       "      <td>NaN</td>\n",
       "      <td>NaN</td>\n",
       "      <td>NaN</td>\n",
       "      <td>NaN</td>\n",
       "      <td>-inf</td>\n",
       "      <td>-inf</td>\n",
       "      <td>-inf</td>\n",
       "      <td>0.049909</td>\n",
       "      <td>-inf</td>\n",
       "      <td>-inf</td>\n",
       "    </tr>\n",
       "    <tr>\n",
       "      <th>2784</th>\n",
       "      <td>0.168438</td>\n",
       "      <td>0.168438</td>\n",
       "      <td>0.081375</td>\n",
       "      <td>0.081375</td>\n",
       "      <td>NaN</td>\n",
       "      <td>NaN</td>\n",
       "      <td>NaN</td>\n",
       "      <td>NaN</td>\n",
       "      <td>NaN</td>\n",
       "      <td>NaN</td>\n",
       "      <td>-inf</td>\n",
       "      <td>-inf</td>\n",
       "      <td>-inf</td>\n",
       "      <td>0.132116</td>\n",
       "      <td>-inf</td>\n",
       "      <td>-inf</td>\n",
       "    </tr>\n",
       "    <tr>\n",
       "      <th>2808</th>\n",
       "      <td>0.125234</td>\n",
       "      <td>0.125234</td>\n",
       "      <td>0.034425</td>\n",
       "      <td>0.034425</td>\n",
       "      <td>NaN</td>\n",
       "      <td>NaN</td>\n",
       "      <td>NaN</td>\n",
       "      <td>NaN</td>\n",
       "      <td>NaN</td>\n",
       "      <td>NaN</td>\n",
       "      <td>-inf</td>\n",
       "      <td>-inf</td>\n",
       "      <td>-inf</td>\n",
       "      <td>0.097557</td>\n",
       "      <td>-inf</td>\n",
       "      <td>-inf</td>\n",
       "    </tr>\n",
       "  </tbody>\n",
       "</table>\n",
       "<p>1772 rows × 16 columns</p>\n",
       "</div>"
      ],
      "text/plain": [
       "      energy_costs_eur  grid_energy_costs_eur  grid_capacity_costs_eur  \\\n",
       "id                                                                       \n",
       "0             0.002732               0.002732                 0.000000   \n",
       "1             0.002732               0.002732                 0.000000   \n",
       "2             0.002732               0.002732                 0.000000   \n",
       "3             0.002732               0.002732                 0.000000   \n",
       "4             0.052599               0.052599                 0.072206   \n",
       "...                ...                    ...                      ...   \n",
       "2736          0.011529               0.011529                 0.000582   \n",
       "2748          0.070263               0.070263                 0.025722   \n",
       "2772          0.064696               0.064696                 0.025558   \n",
       "2784          0.168438               0.168438                 0.081375   \n",
       "2808          0.125234               0.125234                 0.034425   \n",
       "\n",
       "      grid_capacity_kw  storage_invest_eur  storage_annuity_eur  \\\n",
       "id                                                                \n",
       "0             0.000000                 NaN                  NaN   \n",
       "1             0.000000                 NaN                  NaN   \n",
       "2             0.000000                 NaN                  NaN   \n",
       "3             0.000000                 NaN                  NaN   \n",
       "4             0.072206                 NaN                  NaN   \n",
       "...                ...                 ...                  ...   \n",
       "2736          0.000582                 NaN                  NaN   \n",
       "2748          0.025722                 NaN                  NaN   \n",
       "2772          0.025558                 NaN                  NaN   \n",
       "2784          0.081375                 NaN                  NaN   \n",
       "2808          0.034425                 NaN                  NaN   \n",
       "\n",
       "      storage_capacity_kwh  inverter_invest_eur  inverter_annuity_eur  \\\n",
       "id                                                                      \n",
       "0                      NaN                  NaN                   NaN   \n",
       "1                      NaN                  NaN                   NaN   \n",
       "2                      NaN                  NaN                   NaN   \n",
       "3                      NaN                  NaN                   NaN   \n",
       "4                      NaN                  NaN                   NaN   \n",
       "...                    ...                  ...                   ...   \n",
       "2736                   NaN                  NaN                   NaN   \n",
       "2748                   NaN                  NaN                   NaN   \n",
       "2772                   NaN                  NaN                   NaN   \n",
       "2784                   NaN                  NaN                   NaN   \n",
       "2808                   NaN                  NaN                   NaN   \n",
       "\n",
       "      inverter_capacity_kw  solar_invest_eur  solar_annuity_eur  \\\n",
       "id                                                                \n",
       "0                      NaN               NaN                NaN   \n",
       "1                      NaN               NaN                NaN   \n",
       "2                      NaN               NaN                NaN   \n",
       "3                      NaN               NaN                NaN   \n",
       "4                      NaN              -inf               -inf   \n",
       "...                    ...               ...                ...   \n",
       "2736                   NaN              -inf               -inf   \n",
       "2748                   NaN              -inf               -inf   \n",
       "2772                   NaN              -inf               -inf   \n",
       "2784                   NaN              -inf               -inf   \n",
       "2808                   NaN              -inf               -inf   \n",
       "\n",
       "      solar_capacity_kwp  total_yearly_costs_eur  total_annuity_eur  \\\n",
       "id                                                                    \n",
       "0                    NaN                0.002648                NaN   \n",
       "1                    NaN                0.001967                NaN   \n",
       "2                    NaN                0.001863                NaN   \n",
       "3                    NaN                0.001878                NaN   \n",
       "4                   -inf                0.042604               -inf   \n",
       "...                  ...                     ...                ...   \n",
       "2736                -inf                0.009477               -inf   \n",
       "2748                -inf                0.054460               -inf   \n",
       "2772                -inf                0.049909               -inf   \n",
       "2784                -inf                0.132116               -inf   \n",
       "2808                -inf                0.097557               -inf   \n",
       "\n",
       "      total_invest_eur  \n",
       "id                      \n",
       "0                  NaN  \n",
       "1                  NaN  \n",
       "2                  NaN  \n",
       "3                  NaN  \n",
       "4                 -inf  \n",
       "...                ...  \n",
       "2736              -inf  \n",
       "2748              -inf  \n",
       "2772              -inf  \n",
       "2784              -inf  \n",
       "2808              -inf  \n",
       "\n",
       "[1772 rows x 16 columns]"
      ]
     },
     "execution_count": 130,
     "metadata": {},
     "output_type": "execute_result"
    }
   ],
   "source": [
    "rel_diff = (baseline.drop(columns=\"name\") - pv.drop(columns=\"name\")) / baseline.drop(columns=\"name\")\n",
    "\n",
    "# drop those that could not be optimized\n",
    "rel_diff.dropna(subset=\"total_yearly_costs_eur\", inplace=True)\n",
    "\n",
    "rel_diff"
   ]
  },
  {
   "cell_type": "markdown",
   "id": "743b0a5d",
   "metadata": {},
   "source": [
    "## Yearly savings"
   ]
  },
  {
   "cell_type": "code",
   "execution_count": 131,
   "id": "a0440903",
   "metadata": {},
   "outputs": [
    {
     "name": "stdout",
     "output_type": "stream",
     "text": [
      "|      |   Total yearly savings in Eur |\n",
      "|:-----|------------------------------:|\n",
      "| mean |               31270.1         |\n",
      "| std  |              129966           |\n",
      "| min  |                   0           |\n",
      "| 25%  |                 869.656       |\n",
      "| 50%  |                3988.29        |\n",
      "| 75%  |               16788.5         |\n",
      "| max  |                   4.04296e+06 |\n"
     ]
    },
    {
     "data": {
      "application/vnd.plotly.v1+json": {
       "config": {
        "plotlyServerURL": "https://plot.ly"
       },
       "data": [
        {
         "alignmentgroup": "True",
         "hovertemplate": "Savings=%{x}<extra></extra>",
         "legendgroup": "",
         "marker": {
          "color": "#636efa"
         },
         "name": "",
         "notched": false,
         "offsetgroup": "",
         "orientation": "h",
         "showlegend": false,
         "type": "box",
         "x": [
          3533.3356234119274,
          934.4413312008837,
          579.5943648566026,
          511.34214560117107,
          164336.87782255094,
          26156.787018705625,
          11095.789932426997,
          360.2124368386867,
          3099.698203715612,
          146213.5635152175,
          13822.902469203807,
          2070.8235690779984,
          1963.898076304933,
          1253.8586341168848,
          11928.588472208008,
          11707.11525585418,
          420.4465871026623,
          11713.908196426928,
          1861.4743113156655,
          116.27410184777546,
          3714.905270036543,
          2828.3724680955056,
          15666.967615441245,
          1453.6578179956414,
          537148.6362021016,
          11535.459233309142,
          5913.730195223572,
          146739.77722813003,
          279472.3469002694,
          77.23282743641903,
          43167.65767039219,
          13670.860173558583,
          60391.44833769649,
          12465.42554369918,
          2049.6911322344095,
          2517.422276373167,
          6623.183564161067,
          1090.7805800450733,
          89842.03080616472,
          2384.3386061924975,
          9689.221249004826,
          225915.4101967602,
          4930.905947800682,
          108.52592121824273,
          1960.9521543012233,
          5389.954533530399,
          7776.523940899409,
          7807.838515056297,
          1462.2719171300996,
          1208.0392402615398,
          92388.35986186971,
          948.3861101237126,
          1618.7223295333097,
          197.98077919369098,
          517.3319442637148,
          1711.3490657077054,
          3033.241939317668,
          1041.2224421696737,
          9672.358175395639,
          5572.433138068649,
          6461.211349072109,
          421.4816458173009,
          58013.78581582988,
          7485.754007853917,
          1074.7992425516713,
          5214.469694171807,
          356.1466384351661,
          19050.725249835814,
          31427.428168789833,
          38080.22177215747,
          18128.687894979143,
          15391.831236116705,
          38298.139385978924,
          29819.250635811826,
          3590.627937475685,
          137514.60286002094,
          426.8269500405586,
          12078.97546484787,
          434.41696002336175,
          2718.27357339242,
          118728.00910169422,
          122.69309367267124,
          1405.0136340444442,
          2267.4741971928597,
          66203.84783798596,
          7343.80732595874,
          3293.7045896431373,
          1987.1586176061537,
          598.7019618715858,
          2334.0776114881737,
          7784.1884273627,
          4199.819453573349,
          393.66857720400003,
          130563.88923891494,
          4474.555988705077,
          426.4585395045433,
          12298.631945877918,
          341.14236248258385,
          2575.5724608663877,
          639.7859033028362,
          434.6286851329787,
          2281.7263640654273,
          19473.299639550736,
          60290.34174697846,
          14536.463972709607,
          218.19770736414648,
          6172.912579355063,
          9430.148246436554,
          34433.17781505245,
          5595.114772321889,
          3184.0761598347017,
          436.481656926655,
          3988.294978706399,
          162.91613075621717,
          103.82433130541904,
          797.3983581447683,
          3533.3584995649653,
          7403.152456313372,
          4195.368899694178,
          69417.40257197572,
          690.8064754729712,
          10178.301843916997,
          2612.813446591317,
          278674.4670500448,
          28885.06451910158,
          1567.59419978605,
          45325.9632481095,
          48764.022232453455,
          10661.960438999347,
          1451.3288730810164,
          48072.68782191555,
          6418.302784908214,
          450309.95802189456,
          157138.60228944756,
          9421.751963554882,
          11183.819459059276,
          41238.03892664879,
          647.9624463246437,
          2107.8816991782514,
          6175.9546897248365,
          103321.36556905694,
          5993.3975001666695,
          4242.495915221312,
          5188.866771389963,
          434.64024888016866,
          2790.699680287391,
          3387.4983269972727,
          5086.7111910300155,
          18622.908199959667,
          1619.5119010464987,
          25444.612982296734,
          307.879347032489,
          6268.07279335754,
          7200.192912206287,
          83274.55879500508,
          24799.061201639066,
          9214.857401846908,
          39605.66060874355,
          9932.055183852091,
          19563.431584732374,
          9452.649096404202,
          7136.114857955778,
          2058.1516855110385,
          124.54398321793997,
          19281.103988922638,
          33942.45546288148,
          4957.307727834355,
          6799.117996330329,
          13922.583767679316,
          98.58738781447028,
          2102.8273206705926,
          2065.2416389574355,
          4184.031546863378,
          4155.1689846268855,
          1312.4248795196763,
          1864.9513860580628,
          95123.91364188725,
          32331.81591687072,
          7580.19187290757,
          3990.0158990791533,
          307.297983753233,
          605.9382484831076,
          188564.20969785005,
          143.68620297074085,
          18642.06402460835,
          153.46460508681776,
          4894.233030137024,
          2147.036961150705,
          7106.5945470118895,
          2230.1462120364886,
          3290.7589842970483,
          11082.21090826887,
          31.060168400235852,
          7416.103122153014,
          4615.811846037395,
          2026.9518166505732,
          7649.854282218497,
          23981.787102250615,
          591.7061172853573,
          72364.80642737215,
          2412.0837402984616,
          88.37121090896107,
          19744.117525085574,
          74140.66581560718,
          228117.4014734174,
          10427.06576495152,
          255082.4985126285,
          10159.793005984684,
          523700.8093250189,
          220447.22996692546,
          1326.9687303296523,
          31178.952667835867,
          606.5212317776168,
          4376.131485034595,
          9794.593786301906,
          448.3152980678424,
          24253.670281921513,
          18465.791553309187,
          2623.4262528787367,
          6262.223433289677,
          539.0317787696549,
          3016.9354258801322,
          8665.61646300531,
          97676.92383706756,
          2522.00284287089,
          9141.558842447237,
          6698.2343744566315,
          572.3665991564012,
          2369.92812595563,
          20859.23077297263,
          20946.649419632624,
          1253.3131089365343,
          232373.59646763233,
          133679.41248528683,
          11851.63438830804,
          747.6180605968693,
          8072.981563379988,
          1917.8482439537183,
          890.1701015049002,
          85152.6550555192,
          12601.569523612154,
          9282.307884814683,
          100560.6630552914,
          62741.59192217095,
          7689.035364149604,
          15203.023243556032,
          5357.797255727928,
          17310.864580153022,
          7807.718995215837,
          8766.546205091174,
          22528.07596454583,
          3140.4544149741996,
          719.612644098328,
          165541.1751829395,
          5921.8715589931235,
          8665.740878765238,
          7905.65424310822,
          170737.53089007316,
          1722.5502807038138,
          1339.6827500200507,
          686.1642292002289,
          5202.330829563551,
          76008.77776350453,
          2064.812817655038,
          12032.25663468297,
          2266.9793984792777,
          527.2416065868456,
          515.4784289422387,
          984.6314210647251,
          67962.67223736423,
          2922.3879241028044,
          1979.1902691567593,
          501.20609085296746,
          3607.939054771792,
          8432.587950765446,
          5651.941861344836,
          10159.174874095072,
          61.34263676152477,
          4131.292928275623,
          99.78610417091113,
          4878.801238083164,
          8927.397125976044,
          94288.08450930566,
          1362.918813348515,
          12475.361434239021,
          1167.9273806015262,
          21950.23863436762,
          15460.741173143964,
          29390.458681735676,
          288529.84267209657,
          1917.4447879969375,
          2272.8938828245155,
          49307.35077526269,
          2503.9730566241487,
          4223.968930824427,
          52615.82794477744,
          2000.3855632125633,
          3208.8135831430554,
          1230.159095663359,
          22689.662501567742,
          7532.549974770838,
          2325.1379781068536,
          115.66007046825689,
          9742.726543203054,
          62.75506366424088,
          318.66893630861887,
          1673.2854082656268,
          4071.309078303595,
          228737.28063880838,
          75622.22575589828,
          6030.443974872702,
          4835.315082727873,
          86021.48778530431,
          38.24278465480529,
          41014.93649717234,
          268.51578318425163,
          4580.560895574978,
          94391.1778088985,
          23003.41578127863,
          24362.257465434144,
          19172.79314678535,
          27423.38385991275,
          46261.10252872598,
          143891.2462577538,
          15000.221297825803,
          138374.69114871696,
          8318.184654352255,
          29288.520376442,
          10370.480037513655,
          10339.370072490536,
          2719.7914868114603,
          5913.088389961049,
          10150.555266940966,
          50066.49609544175,
          4550.435151121172,
          43.298429948614285,
          6328.95289317891,
          2550.8229183494113,
          10856.770890973508,
          2269.108532316779,
          1184.4831083860481,
          10115.618640399072,
          8962.191864654887,
          216.0495583640004,
          64993.797227999195,
          201.85951231551007,
          7129.38536058506,
          1198.7201887248084,
          289543.4831665291,
          299.42668143501214,
          1400.052896594978,
          622.8815285265737,
          1159.3478846970247,
          6382.977226454299,
          41665.641265644284,
          3955.0691177556873,
          10437.252049265197,
          761.2917393444804,
          596.4636208815646,
          25698.981172784697,
          868.7663569976576,
          65004.753406231,
          3902.2532058084907,
          1119.8313942207024,
          1322.9959247910883,
          45689.01059346297,
          475.90349022939336,
          5456.389957565232,
          2821.857532628055,
          5344.570884352783,
          299029.3505385732,
          7440.645957724453,
          328316.49514472764,
          15347.841479266062,
          1902.6280402538832,
          631.5232827327563,
          529.419683641725,
          17587.34709770503,
          2865.8303064575884,
          77.10101123839922,
          1875.2480908903308,
          376.51995776212425,
          995.6923881349503,
          1238.1903906076914,
          8402.237883241367,
          91094.55539072026,
          35423.12110060919,
          78.52781679772306,
          3413.6598326229723,
          3569.8785801802296,
          2731.7548640397144,
          155850.07182107028,
          22531.34666041506,
          11027.085152910615,
          3000.826477707189,
          36297.845166430576,
          109.44385537700146,
          531.0498909967719,
          13490.767833992184,
          9646.328166171443,
          15853.163670179056,
          15643.589571841178,
          224.15778601024067,
          1211.2718611434684,
          1502.1363611465786,
          1584.4345556898334,
          222093.56451394316,
          3537.1737172762514,
          1411.624964778166,
          235.38458784973773,
          5183.9870611839,
          1650.5347653253339,
          12976.33585877411,
          681.925610600505,
          8790.953543729498,
          2961.4998576058715,
          574.1103614593158,
          4873.500874128658,
          106459.65940789995,
          3888.561833169144,
          11155.472532521933,
          100514.86645362503,
          11343.677428532945,
          42137.60574745049,
          193.84663070937677,
          10976.718068940216,
          52161.78126427904,
          2659.1470596704166,
          369.118977708451,
          849.1272776866681,
          225.97394110836467,
          2122.3787067158846,
          256.98967088680365,
          32313.32474933332,
          12398.49946460966,
          3615.619402221404,
          6336.346885246574,
          1605.422057789052,
          425.43602150761217,
          15790.963544853614,
          2511.029918655753,
          511.16683446013485,
          1189.7889021463343,
          12166.87391462877,
          2703.3399330298416,
          2038.8620835097972,
          4908.791198017076,
          51495.83767604409,
          35306.618970626034,
          627.0669389994582,
          2178.006357483566,
          11586.179648762569,
          1620.4920436419343,
          183.4688397294085,
          19778.588773563737,
          96870.90979935462,
          2460.717552242684,
          436.63679542101454,
          4011.5980790171307,
          4567.053513114966,
          146946.65692564426,
          4416.397638034774,
          2707.9806631137544,
          468.27513702612487,
          304352.2817650046,
          6823.661735665984,
          268.8861976141343,
          4557.2924749029335,
          362.8942602367606,
          6051.155474855099,
          155313.88585909223,
          470355.3000626303,
          109.67411731927132,
          1279.919721818762,
          1401.6678703780635,
          7129.325962318515,
          23579.35831584595,
          589.3925791766669,
          12692.181715567873,
          1770.7348234544042,
          4165.3666416800115,
          116770.09351715958,
          1785.4769143574813,
          3465.5097541669384,
          26219.6343084455,
          3905.8330177541357,
          6523.829289216665,
          42416.07008266845,
          22004.19178815541,
          583.2156530842185,
          113.64623254333856,
          14510.368228680396,
          28777.358808643534,
          869.6563566875411,
          131730.53595585562,
          11992.385233265173,
          148140.74417304294,
          25024.18355558801,
          2873.9786939047626,
          133220.14240304288,
          127636.43691389076,
          511.8650408097019,
          7598.072472396074,
          13169.750724484722,
          52602.22099848278,
          552.8504275380401,
          99.55205954951816,
          126430.37238563085,
          505.1550064504845,
          5427.302268464351,
          1785.1568993215915,
          150.24288356132456,
          31012.965806663502,
          14980.39111031883,
          1535.9655313481344,
          9802.537058642818,
          9245.90259823444,
          23942.205471991096,
          3316.0154569551814,
          19749.154161921237,
          16667.70293067966,
          10121.09991976792,
          25657.821665274387,
          1500.2457474769326,
          8130.5915317172185,
          17927.548028459772,
          4069.295316980686,
          283.94401724502677,
          292.45608306746,
          928520.5250093415,
          11334.746042944491,
          194.9197756464564,
          4356.466625821777,
          623.0206262829452,
          775152.3713204488,
          14313.782212252408,
          3059.213260594064,
          1716.785859955824,
          1688.9784287628718,
          562.4659316297912,
          3159.979073535884,
          7774.438878300833,
          21092.549363648053,
          28116.941120074713,
          108.69672644771526,
          50481.88350379467,
          3293.483691665111,
          3136.669299536152,
          2539.277293727151,
          185.62215120384644,
          975.7885190029483,
          8745.431740101893,
          94803.91002507624,
          729.9409304435248,
          497.24971708416706,
          230.3165676869976,
          48606.06378196349,
          72960.08488747792,
          2.3539277851577936,
          326271.57233761065,
          21977.588420013548,
          115.67422167577752,
          19540.754851868376,
          28716.166797860526,
          123.08254820102593,
          2113.1848214148777,
          17939.77083220845,
          227.19292110604874,
          57099.30994145782,
          531398.4017480612,
          5965.787252732553,
          5783.908926280681,
          1740.6254602678819,
          336596.99607267673,
          28156.486028259445,
          96.33827162272064,
          56.044952092604944,
          99.97456471589248,
          88191.38287457917,
          6179.717792611715,
          3241.014867695514,
          51.49072488789898,
          2247.3811288418947,
          471.6064506380644,
          32490.894924182503,
          46650.665249187325,
          15007.99020941867,
          24192.2907772763,
          69544.51620083442,
          156925.38596485625,
          107.00893416971667,
          110925.45571153495,
          437.4909977244679,
          33594.3591327357,
          192.24644587634248,
          2865.347233726294,
          557.8942986663315,
          33200.54354966717,
          45012.95769015048,
          418694.7995299529,
          150551.17242753715,
          494.3892495056498,
          2364.994853936485,
          40287.96965345717,
          6218.742995234701,
          16586.97085646959,
          595.2714218326728,
          279.1712485787284,
          370.05989004229195,
          14966.967635497684,
          106903.05910515017,
          2865.6196802807244,
          106201.89679736784,
          60907.40775625082,
          110022.99863474024,
          2816.112564826675,
          160769.9196228534,
          2685.117693567765,
          389.5899620692653,
          217.22207133371558,
          184.4345350819931,
          16739.56427607755,
          18603.839439635864,
          3283.159430198837,
          1806.597250415478,
          471.0076345705893,
          574.1796720593029,
          4833.13006943497,
          783.3216996197953,
          2670.493611374637,
          381.01178548278403,
          2339.666164006456,
          2912.905640504672,
          143.74755330290645,
          1375.6499601226533,
          31.723045828566683,
          1513.1901688530925,
          90.72533436961385,
          3497.757822921267,
          42087.398023513844,
          2708.5828343133326,
          6860.081272500509,
          5689.462963583705,
          9708.978964698937,
          48842.94299319736,
          284569.09191354085,
          1496.061944811212,
          6554.093962938481,
          4520.348766269628,
          17430.424758716486,
          76.15501149745978,
          2272.366658110055,
          6713.028500612287,
          55620.716524090734,
          2598.8252511969768,
          32157.763417108683,
          58907.234083282994,
          33693.876253156224,
          6115.967632876709,
          873.8366013150371,
          10009.669611233752,
          3493.1909475129796,
          52196.061398623395,
          4440.106479424285,
          22148.329062971752,
          3575.144952475559,
          7575.239739894983,
          5592.828017643129,
          2001.446313236258,
          322517.7474544551,
          3187.808833081057,
          3539.97095293086,
          160.72969179569918,
          119.56677773928095,
          9198.998212332372,
          5597.744883786043,
          2375.3606606166577,
          229.01530192954397,
          5800.859034777619,
          188345.96141722007,
          72788.72480838746,
          67547.14941089775,
          16030.825610181666,
          163458.62504551,
          118.02632760963752,
          124009.7556761161,
          20222.728795343835,
          5998.805210308608,
          2466.7462149633793,
          1103.9262683633715,
          114938.41960545571,
          30910.777952126606,
          904.6547277277568,
          853160.3470519334,
          2074.762025178119,
          34639.4883166838,
          12089.027684372559,
          70393.99236605922,
          430.16174077425967,
          115684.38353224518,
          1141.3079033390968,
          1343.2652327069663,
          1461.5809936341539,
          1350.357422710862,
          71486.34812621516,
          1080.9988455790444,
          30685.302556283423,
          11041.538998597971,
          785.1130041486467,
          9184.65979143465,
          8090.094111348968,
          158.51182438823162,
          449.0219651125517,
          55173.9130610663,
          228.1113890155102,
          2973.5280134349596,
          475.6082718722755,
          423.1593967657536,
          36688.51883384597,
          9966.469134865736,
          81376.54421324143,
          40237.66715902218,
          13212.347086015157,
          52426.08619829221,
          5560.674571473151,
          20480.503314551024,
          330168.6843472095,
          47165.63388144155,
          110.92483985419676,
          552.9561862350747,
          26947.659800622147,
          37.99030408912222,
          2459.234649713617,
          599775.2348852232,
          7486.129621506203,
          1690.93959491211,
          616.4556404968898,
          3235.5358263887465,
          2627.5792875511106,
          954914.6406771243,
          5169.592792758223,
          2158.516942183196,
          276826.35467813164,
          618.2469376155641,
          4541.819080724119,
          13973.352543270215,
          4181.1887457168195,
          1566.0613013477596,
          86442.84852796118,
          157710.06742014177,
          651.5269931139337,
          2556.952299109558,
          4272.012020220471,
          932.7546376704995,
          408.9676204978314,
          970.8051823435817,
          1173.6699202641612,
          2664.3928315798985,
          8435.934401608174,
          2998.802308086015,
          145.83929857084877,
          1436.0318488296725,
          2316.537778595928,
          104392.20541709173,
          1136.8692653172766,
          115372.8434434901,
          45345.508012789534,
          590.6721111620136,
          12902.387314204389,
          26598.70920985844,
          770.4372353560102,
          147870.54748776276,
          12073.230354579748,
          154133.67511535157,
          167567.35691677453,
          1198.833434278611,
          61793.224680106854,
          3462.7810710587073,
          12916.485596470127,
          1421.745121228174,
          2083.8226121551124,
          99.74320272883779,
          83.62858654443698,
          684.2863962967531,
          5701.4895433043275,
          1460.5416464469163,
          126014.91520001413,
          671.9058226696798,
          413.5037392786762,
          84055.06092965347,
          201862.05498804222,
          222.97227840255073,
          2211.695328338188,
          22427.346052069013,
          23134.959792970156,
          129314.79658610141,
          37180.62147266348,
          5286.731271806617,
          1525.8156003983459,
          96265.2148084715,
          4042961.0129840933,
          0,
          25676.947940504062,
          1453.8314672249835,
          10884.50373288989,
          9303.26868105214,
          422.9739963868924,
          458.69688268681057,
          51663.23818235565,
          1151.1478255056427,
          148.18453748503816,
          2449.048833563691,
          1042.8888087096275,
          306.0455643845344,
          15461.798250219435,
          2172.043364418787,
          3774.913160604512,
          2065.877757936192,
          2676.6023838885594,
          2641.320416767965,
          456.4849337549058,
          46088.370993080316,
          4202.679276429582,
          766229.2629757272,
          3101.113097373396,
          4933.781933197752,
          26.010272662286297,
          224929.93085661344,
          120630.22118197288,
          3191.305192783475,
          1180.0664815360215,
          3318.4741232017986,
          2080.939204432303,
          8292.884048933629,
          33267.61789858923,
          24655.95529148844,
          1409.1620410759933,
          1741.150883757582,
          88798.54000071797,
          5538.161707577761,
          38573.77230917162,
          1398.3608274682483,
          2437.1663225062657,
          23483.311733650393,
          3891.107669055229,
          9966.436654828838,
          6801.859446844668,
          1073.286891057738,
          109759.66151284426,
          93162.73500215588,
          17989.630860818288,
          1056.706142850162,
          7229.857332375221,
          8261.309441270714,
          4765.720355109443,
          140.49197087772336,
          6290.692208141205,
          12595.632964950055,
          13204.01781785069,
          32082.989269384416,
          21889.032653356087,
          10737.404193631955,
          62905.49323190283,
          6678.688526209095,
          273634.0524183619,
          36.82817729851013,
          141.4962489574391,
          2306.289154673228,
          119926.43676104769,
          1.4056379086832749,
          2559.4873719403986,
          884.69077035386,
          7207.631421554455,
          47779.176550329896,
          7413.121042586994,
          3152.1332390673924,
          8495.95080785855,
          4971.68355575655,
          15297.787825715728,
          6972.179891011445,
          13401.752244682517,
          3116.4917615747836,
          712.219746973482,
          5255.898760544835,
          4276.022392287516,
          4336.965549493441,
          73128.29719908163,
          32828.3873110516,
          19158.738762393245,
          674.1843874132101,
          1156.750946808539,
          2604.6863495963626,
          8049.117449673358,
          1849.7833508672193,
          1029.476268892171,
          9989.405214814004,
          15071.024721882306,
          75172.91083070496,
          73.64434588963195,
          7176.56924452493,
          2241.285378966015,
          1581.416650491843,
          41331.28548302641,
          5903.366107616574,
          11614.118638828513,
          5509.145563867467,
          2105.9853076460276,
          190.81774159308407,
          6752.855386796233,
          21674.116996468627,
          8.278609212326955,
          16788.48464265582,
          3552.3408569598105,
          15.207506486438433,
          79.4083547412738,
          24.699353274267196,
          357.7405089638487,
          2314.9836417494807,
          210711.5611140253,
          4262.9275351359975,
          32054.140262356144,
          1323.4078557192988,
          1496963.590555003,
          961.0172733709333,
          1278.6365775208105,
          4154.5677539334865,
          867.5672046561958,
          2694.5403168822595,
          78.34591638882193,
          2831.5022442156514,
          7504.458811518365,
          1234.263572160071,
          1083.798627456068,
          90799.04640060547,
          2406.489787753555,
          3085.6628480292857,
          19197.33664484718,
          2638.902387813061,
          1404.9558278409531,
          9763.164301822195,
          1208.3072476043599,
          643.7939691600113,
          12262.148553723702,
          147.1329194681457,
          2103.0054634492844,
          38395.387869956554,
          9645.49918538006,
          1050.6516700453358,
          40802.08095745277,
          2127.5002499977127,
          223000.8823811207,
          2229.919664666755,
          13071.408163463988,
          279.81905554508376,
          24933.46568851493,
          130120.8776974976,
          11538.984917763388,
          35337.137273242,
          6965.211381778703,
          122087.22927835118,
          16003.940809064487,
          4027.643394135841,
          9474.007974124921,
          28029.7948399873,
          11973.534799519926,
          34178.46989367588,
          39232.72180898965,
          12696.076144379214,
          45805.29904257739,
          20071.707189033885,
          22851.573027222184,
          660.0399599108205,
          2298.334571366693,
          887.4787692194805,
          1779.808415620122,
          43277.56978482078,
          11397.927113908576,
          6456.081738474779,
          3632.122951817466,
          144.4324282480011,
          339.37929286536746,
          103.10315283757518,
          34001.66246598377,
          1895.056300940807,
          5244.908120030654,
          4608.316296113888,
          2787.7534132801666,
          35908.7355987099,
          2526.0914863450453,
          5203.917149521643,
          4815.4443065230735,
          14580.287979767658,
          3305.887408203911,
          3417.7511608272325,
          202.40271728638618,
          3704.7201334771235,
          541.7534109021362,
          569.236734111988,
          5006.4209548168,
          60.156647047224396,
          263420.50561350584,
          1424.601741795428,
          3398.23050123929,
          218.87597988691414,
          269.6535708341398,
          338.1382820152212,
          360.2294025210431,
          374.6061836582958,
          310.37998513839557,
          1229.6048536669114,
          1558.8407778276596,
          44180.86496590939,
          40398.86758727487,
          42981.32812798236,
          27202.610595673003,
          27778.947991745517,
          20352.633883854607,
          1124.3607804828207,
          19902.76199759933,
          415.5922995287692,
          67144.41218128405,
          593.6521460765434,
          4343.584644781426,
          29941.21043203611,
          4395.941246147733,
          2909.2182135047624,
          572.9922546178932,
          592.5103826682353,
          1227.2718770663196,
          124943.03951945668,
          3163.659222327464,
          165.0977353094786,
          4168.121996960923,
          1666.1044522017983,
          45876.44080885837,
          1196.1434035432721,
          605.5505673804437,
          34755.08307834703,
          5089.8901621956975,
          759.9516462558604,
          703.9624467674876,
          45477.61544487742,
          391464.32846699655,
          2755.8500905515393,
          7938.157383067999,
          1299.0403460395755,
          6633.623292295539,
          2988.109120474801,
          8304.165254388237,
          158.628675927539,
          342284.2950571012,
          38755.882624975406,
          27268.168772684818,
          4346.061256801011,
          1057.4552171773976,
          449.25949457511524,
          549.0335393007863,
          891133.0572323874,
          602434.4953851579,
          430.13646861724555,
          14846.137265272671,
          787.6918512262055,
          829.610681461636,
          890.5763053833507,
          7919.032736239606,
          197.19020174694015,
          31.177024331806024,
          5564.966043476947,
          549.9861972078506,
          18427.935237928003,
          1716.3153987673286,
          154.57473880817997,
          927.6870608092868,
          515.0255748687778,
          9132.26945139718,
          1206.976853418455,
          4743.651369665968,
          4055.5534915302997,
          519.2890410297332,
          4928.610569593031,
          77537.3862783513,
          520.0219063384866,
          258.9106731481734,
          313.3525539258844,
          338.7471945619618,
          50548.76641972468,
          265.12044560251525,
          37034.12329418247,
          5031.473244297536,
          884.6320526221898,
          84931.02435736614,
          52100.30939032347,
          3995.1293208305287,
          23267.9752492393,
          5550.207077182975,
          331.6974754000112,
          3865.949329985684,
          240.5526419119269,
          326.25584676276776,
          230.79583618846664,
          5020.56450288152,
          10803.84269146822,
          11444.806535381562,
          4158.417169886699,
          856.0720297951921,
          14968.92895527152,
          3590.3839604023233,
          3583.2889871724183,
          10692.097038595588,
          2731.302372620208,
          765.9799019210041,
          23352.211910078302,
          929.508110762923,
          944.249701705412,
          447.43529213254806,
          2549.2574695252115,
          8898.469334007197,
          1337.6707134039607,
          356.81284709475585,
          1765.7757079926087,
          164234.49847140303,
          437.70166514479206,
          5653.045615601644,
          5551.511161109229,
          1759.7889031211453,
          816.9399990658567,
          58026.806031008484,
          687.2148046533694,
          2270.558869869579,
          12508.04138262337,
          99.06820573015284,
          3385.505091605897,
          565.3017035331868,
          2586.5833963232,
          605.127476007212,
          244.8626824379171,
          567.2571154878169,
          1167.0166770991054,
          344.16890735112975,
          1211.5543293564697,
          66.16057073400589,
          281.36477640867815,
          2797.960826827446,
          4985.75886921474,
          173.64248851956654,
          70281.0982855662,
          147.44914290342422,
          3272.5813520362135,
          462.66576264437754,
          6353.387012465275,
          9755.12801582535,
          193728.35286427825,
          673.5602992690619,
          109.7621165044693,
          6467.143773757154,
          21198.927002867684,
          17.104714909019094,
          149394.2633777163,
          27932.86528887169,
          2845.4147385817487,
          436.9611966849807,
          8496.226437579608,
          2428.4990427294397,
          7467.276901544654,
          734.7538232736115,
          10522.355637838511,
          12130.576339163235,
          69.45398803355056,
          166.59377703862992,
          107.27781020414113,
          21981.53628230747,
          206.92231509063276,
          80.9095016435167,
          71630.05195337231,
          3121.056539550278,
          83.85401344974525,
          170.6855701017921,
          708.354065536696,
          877.1106399657656,
          85467.0460303179,
          264.46464708157873,
          26.070192777000557,
          3916.1057731392793,
          41643.8924079258,
          627.7475655931048,
          8616.59817640693,
          8037.252745553298,
          1966.1904539292445,
          580.0283785753418,
          8968.961868721206,
          46.865985893011384,
          4088.400937820552,
          6497.064514810336,
          5642.199363189924,
          171.11258732521674,
          122.94930830087105,
          1703.9701810136612,
          74282.87168832961,
          3504.0705163516104,
          14472.88344148072,
          27218.619883353356,
          18918.920749651094,
          10350.679520727892,
          9733.611649282044,
          32731.04925566388,
          30278.218366751447,
          31639.052459770523,
          2.6444018534898532,
          4928.546938305546,
          1271.148367493719,
          34.69753316516653,
          664.9095938353857,
          2557.5547609633068,
          22424.882000265643,
          20879.573567340354,
          1555.8019260000437,
          501.27426217804896,
          223.24041777251114,
          1793.1849862057206,
          2897.1574452978093,
          239.67272836974007,
          111921.11348574981,
          870.533974781094,
          19993.109647624893,
          47.592202489577176,
          1823.630541883991,
          8814.714573938632,
          3169.787333642016,
          10404.992411436193,
          746.4617656928021,
          1018.3764862248208,
          60.79897311954119,
          7877.07995243778,
          535049.8238721192,
          7649.5315638991015,
          6867.507208572235,
          1751.0638296757825,
          3452.099105713656,
          57177.850718455506,
          354.2519551396181,
          296.33471639829804,
          8763.28496313718,
          109072.10523577128,
          4109.394133714246,
          888.5651138768881,
          632.4511382491328,
          495.78395950514823,
          266.4248554046462,
          24748.260241706623,
          49410.048206038075,
          0.10457480163933042,
          966.4495537964976,
          4675.027039448178,
          1398.1961779183184,
          1318.3125293640187,
          928.8289093930507,
          140924.59513445082,
          2760.484248519293,
          926.2709609305602,
          302.01964514216525,
          28.36652487154788,
          74.32973502952518,
          1755.833438419737,
          7764.902952019111,
          30304.184551099315,
          371.75173397999606,
          2870.4999225407373,
          22777.949792585976,
          4555.903725072276,
          2608.9535909018014,
          111.19754056227976,
          266.8753709618177,
          275.81613065922284,
          8729.386910342611,
          1175.0139269552892,
          14.12654171288159,
          166.8163940120794,
          6094.978921180125,
          1316.2943888611626,
          28035.622261365002,
          34755.27656914975,
          22816.390909280162,
          56155.51632655552,
          190.0615802599168,
          173936.77538098302,
          148.48953578894725,
          6343.741154165851,
          256023.78442188678,
          13330.977105598358,
          8786.975060501049,
          104171.11814654153,
          616.6303951754526,
          81049.35791724245,
          1143.1489855528343,
          14508.842440361856,
          995.3284809072866,
          6793.055468272534,
          92109.95892118989,
          46941.49184929347,
          1018.0942191295326,
          121474.84691646858,
          121.60941731360799,
          2188.9846369567604,
          11226.085371130655,
          3519.1949889116804,
          4485.066154136002,
          1963.9222142542712,
          1117.261411736683,
          1217.5081649941567,
          1344.8927040828858,
          10457.995982660446,
          4077.3702999842353,
          11793.422974066809,
          26906.484911709093,
          249.96163346918183,
          1346.3575158661188,
          4269.3770639440045,
          6190.221560736536,
          263.7459091899582,
          41.3564693778535,
          13662.225294764357,
          21835.340535719064,
          149653.28700101096,
          528.6446737828664,
          1988.5055189386476,
          253.69941218423173,
          230174.47780057276,
          40001.39923296956,
          182488.60634919372,
          1142.200702505761,
          16609.190316093853,
          53.05186190712993,
          88507.31635606475,
          546.8689402149466,
          7684.143355194479,
          430077.16700492613,
          21078.520955392974,
          48203.28853695374,
          105857.12337883096,
          107663.82736617466,
          39877.650375914294,
          12217.584048053715,
          3966.3685012843052,
          12187.038726662198,
          4760.877123035723,
          19629.749965764175,
          153.30596286991204,
          7918.849319769535,
          893.2159496805043,
          300.60543672254425,
          21590.19046990003,
          283.3312821125437,
          202146.13732488826,
          248.45724081958178,
          124085.53967676032,
          91251.89460862242,
          21873.201388788526,
          33366.045769798104,
          1135.5931669495185,
          215.8381791513675,
          167140.71246697567,
          448726.7080124314,
          70246.88634018449,
          9448.460466730088,
          6466.505183594592,
          4048.3928831862286,
          3411.602406485239,
          7769.366834395943,
          362.8224553722248,
          1352.9522491961106,
          4697.0766635155305,
          1436.6365951537155,
          194.51524030725705,
          13390.302525263236,
          91061.65445976797,
          3034.116590064863,
          526.2711519619043,
          4970.768868622836,
          10746.807367439324,
          31303.32331764704,
          1939.0910612387815,
          5278.533727627917,
          256.48527229277533,
          589.4329502672626,
          1491.7511799987406,
          41481.59907613136,
          18081.92886977899,
          818.3504229953978,
          5889.970647662238,
          1915.051439042727,
          89.94749038325972,
          4737.315590090257,
          352.0700397256878,
          1867.4859711781755,
          533.4303132080677,
          708.8036979087046,
          4267.980282903707,
          13332.751978388405,
          14149.114329006756,
          791.6405269665411,
          1177.5700633496963,
          912.8594682208131,
          706.5705349722411,
          4974.863160859284,
          1086.5639918558118,
          6569.7785981925845,
          7284.827243376771,
          503114.54495499656,
          224329.36118126474,
          1715.8287835400988,
          25997.747220593155,
          392.18212398176547,
          660.4113903077414,
          31538.92773156974,
          13545.905353075548,
          14498.533152631542,
          622.1954716494656,
          938.680528413588,
          657.8304039846116,
          1262.0627985078609,
          534.5917009914701,
          3771.3246255370323,
          154.1361948545382,
          879.7762423920867,
          12684.687957574468,
          3151.641359453686,
          234.77147989965852,
          410.45530869298454,
          2266.553630391296,
          606.4932331028976,
          4286.673725297907,
          6327.184667177498,
          16065.20909710438,
          4411.769971365109,
          555.3849258346308,
          43967.05812074349,
          350.05259058489173,
          3194.145325812031,
          476.97054028196726,
          6785.738603939455,
          4813.504703433078,
          589.454684218741,
          23210.510365058988,
          1795.373706321814,
          329.32729216914595,
          7676.904501118966,
          91.65022711428173,
          354.4418963300486,
          9751.828868741846,
          233.0903382514516,
          91.82885555339453,
          2579.8025842828065,
          1144.0548197419848,
          155.37904192056158,
          495.3747362079448,
          3842.4526523495733,
          2525.9551314986747,
          244.8461793072347,
          634.3955931550154,
          4843.339745837147,
          134.2684951887568,
          295.3129893459263,
          9598.645864728227,
          37718.75065236335,
          1259.6145647281082,
          40264.18122466124,
          22542.21191258775,
          579.1298289892147,
          1005.5041381506308,
          1498.0841203138698,
          3950.267207923578,
          14882.807231336832,
          39485.68023414211,
          11599.733373487892,
          4104.033530729357,
          852.8594965918855,
          108.41918945292127,
          278.8812630205066,
          2591.2492374191497,
          19559.235158155265,
          189.53045425041637,
          284.1066599317128,
          12073.232252651636,
          2452.2321890791063,
          313.61499464229564,
          38243.472205461236,
          2435.32301398227,
          1763.7575394124724,
          5951.26321590849,
          1824.7597447873559,
          106386.36446995451,
          6805.026042464073,
          41161.58248034114,
          457.666181591223,
          96733.75760285929,
          673136.6300212955,
          7852.15146098072,
          1011.1984576758259,
          1979.092470757023,
          12031.594023912447,
          217.8652724380081,
          121.38409955074894,
          1388.7562303803861,
          8332.538752207329,
          15630.10061960644,
          5233.964124883147,
          1663.608866281109,
          70169.7541743624,
          298.1114480155811,
          1390.9694851741078,
          47715.4406404061,
          76313.11251723487,
          11511.213182966225,
          77283.9163779812,
          165.27121443202486,
          5412.033223476814,
          181702.91962717008,
          668.3682251322898,
          2545.1585912662413,
          22136.224821438955,
          9237.687155867869,
          160.4595076013793,
          387.63650583077106,
          344.5030171397666,
          1074.6842291541543,
          5462.195490614045,
          2225.509463715018,
          244.45319336293323,
          84.84206082790479,
          1980.1230896448833,
          364.46886562252257,
          104.43157398322364,
          156197.0843377018,
          76804.45661824755,
          5716.385336216568,
          17336.594632172142,
          1250.1039463359048,
          8.655687161041897,
          849.0301343833853,
          13295.01312146426,
          815.4449877751758,
          29631.480659261753,
          891.973488507967,
          6870.213096058593,
          13685.850794146914,
          506.45057943059146,
          544.4462823878566,
          28501.699306100083,
          15011.807460633398,
          73620.62097353325,
          71.19516250863671,
          2051.4943791051774,
          3074.424873488737,
          626.6070226426236,
          265.7307799359114,
          512.143169291865,
          715.8690799343167,
          245.30091152049135,
          133962.07948553236,
          38833.22313700698,
          1042.9279397506616,
          7360.075604793325,
          838.039946193574,
          2400.6354598273756,
          247.98487913107965,
          311.2883714222844,
          21249.87627686764,
          3539.4539470324817,
          23589.73681818694,
          3521.984706267889,
          60.32320613212141,
          3370.0643995746505,
          128.9870787190448,
          826.5884574806623,
          1434.1008081521431,
          573.2746001891646,
          5336.816926575033,
          312986.1166821923,
          296.7754542774637,
          544.4449229638558,
          120788.36607557815,
          5579.891750050869,
          32524.008386951813,
          1904.135508217747,
          699.8192133952398,
          2869.5462319947983,
          21330.5213519315,
          422.8823265641331,
          419.43874066282297,
          9511.727014081931,
          2168.358241093665,
          244.1389274993271,
          6517.292408151086,
          14133.913933437667,
          893.6646389553789,
          1139.9534662078368,
          98422.2443499415,
          6239.127621388048,
          7934.687942638775,
          4540.061118970887,
          250.63131652545417,
          20360.478631823207,
          5850.222227671242,
          228.28055713004142,
          434.3161322706437,
          126881.80660676863,
          3992.7230038804846,
          15117.636415654051,
          111.58716372082563,
          3479.873914462514,
          16019.775092146127,
          3124.6660457682447,
          159.53507231472759,
          1569.0640400160337,
          135.08668816977297,
          911.2813493814319,
          2647.3980669811135,
          585.8385667875118,
          1025.5750021482381,
          313.30617609314504,
          49886.784044799744,
          9817.329494136677,
          4272.168936222559,
          8744.032681607816,
          984.146495333378,
          1600.3167592347854,
          1276.432230315957,
          172382.31826030836,
          5104.773315499886,
          383.47969698975794,
          621.7039936379988,
          563.012941545061,
          552.5659960534722,
          230.53051520709414,
          93480.37716907496,
          132246.11873039464,
          21605.18184118846,
          43951.95423038665,
          4372.543084222809,
          285.5423596506298,
          4793.284847891016,
          82539.46107046469,
          11632.177949125893,
          19461.307934143348,
          15931.493685697205,
          3886.0120589190046,
          108.02809225855162,
          7853.655483769835,
          10132.04928495537,
          10865.155671887682,
          17700.940034867905,
          2265.460101928329,
          156.30110468249768,
          6958.6975988834165,
          6493.547286882225,
          1590.3722752808244,
          326.9992186262825,
          5910.296305221273,
          1407.9320924116764,
          244.5869183398754,
          539.5635320619622,
          36.76343788395752,
          79172.53816776583,
          2959.9889535003385,
          188.62793103142758,
          725.910589151259,
          54.42255961900446,
          1210.1105206282227,
          479.5529654243437,
          19792.02777016221,
          273.2527971268428,
          768.5514912841463,
          1992.412610137777,
          389.1636981361662,
          6087.283569643871,
          42311.895181252854,
          6321.744393336121,
          19143.170510230935,
          9288.336789696012,
          711.9911152550485,
          531.4901804252586,
          175.63271969239577,
          564.3485570162302,
          651.1138637924851,
          555.7897966737219,
          57744.48354316049,
          33717.42750553589,
          4373.120281110518,
          717.8725955666159,
          9482.21409629652,
          76.68977556507161,
          2692.3887165450724,
          9199.638818380656,
          18570.485885070055,
          100.94202880002558,
          141.21886298563913,
          22668.485458967974,
          31241.79723266617,
          141.19412295864458,
          1929.8123070875881,
          83760.94932708656,
          1707.6063255468616,
          9731.588458541315,
          5988.261264845845,
          1690.3364852272207,
          452.97969027847284,
          1655.5916269877926,
          3801.193465300603,
          15502.0695566777,
          1340.0872246552026,
          286.9847000649024,
          1302.265424676938,
          19499.230301228352,
          87.87910699946224,
          23330.201971119503,
          1926.2868923567003,
          234.15921188468928,
          1868.7421578899957,
          889.3307383048814,
          1068.2600954754162,
          18026.216290622804,
          64290.97822810075,
          2246.0780956730014,
          53391.91762513132,
          3829.4373316864076,
          19282.691817586252,
          917.1113922054137,
          794.9380631135355,
          2511.6631162005797,
          6096.043042229663,
          571399.7120535527,
          1173.6350823216708,
          360.2575975735781,
          413.58340584498364,
          18804.250657331664,
          902.3828298028093,
          619.5009119283641,
          413.4853396405888,
          121.83825456965496,
          11603.81180179269,
          1152.5439077769333,
          4105.844720621331,
          2952.9949296598643,
          5169.310102394869,
          10037.406220467441,
          94268.86901409342,
          54596.59098580654,
          1307.4239660729654,
          4539.053730914835,
          4169.831179906934,
          2116.022978003137,
          246.20902404411754,
          4283.019834039907,
          1191.8591383918247,
          3796.7824788622966,
          394.01794924098067,
          142734.0120090833,
          2927.74836369697,
          113.13914318889147,
          123.13729972069723,
          275.67384277009023,
          2775.7324123780563,
          4801.424666766528,
          1624.0674364461665,
          22880.83289775974,
          439.508497401519,
          425.0272573523689,
          11385.453574223822,
          7413.102384222555,
          5771.58031178973,
          1713.1671853805128,
          10855.827385198645,
          11464.028748048804
         ],
         "x0": " ",
         "xaxis": "x",
         "y0": " ",
         "yaxis": "y"
        }
       ],
       "layout": {
        "boxmode": "group",
        "legend": {
         "tracegroupgap": 0
        },
        "template": {
         "data": {
          "bar": [
           {
            "error_x": {
             "color": "#2a3f5f"
            },
            "error_y": {
             "color": "#2a3f5f"
            },
            "marker": {
             "line": {
              "color": "#E5ECF6",
              "width": 0.5
             },
             "pattern": {
              "fillmode": "overlay",
              "size": 10,
              "solidity": 0.2
             }
            },
            "type": "bar"
           }
          ],
          "barpolar": [
           {
            "marker": {
             "line": {
              "color": "#E5ECF6",
              "width": 0.5
             },
             "pattern": {
              "fillmode": "overlay",
              "size": 10,
              "solidity": 0.2
             }
            },
            "type": "barpolar"
           }
          ],
          "carpet": [
           {
            "aaxis": {
             "endlinecolor": "#2a3f5f",
             "gridcolor": "white",
             "linecolor": "white",
             "minorgridcolor": "white",
             "startlinecolor": "#2a3f5f"
            },
            "baxis": {
             "endlinecolor": "#2a3f5f",
             "gridcolor": "white",
             "linecolor": "white",
             "minorgridcolor": "white",
             "startlinecolor": "#2a3f5f"
            },
            "type": "carpet"
           }
          ],
          "choropleth": [
           {
            "colorbar": {
             "outlinewidth": 0,
             "ticks": ""
            },
            "type": "choropleth"
           }
          ],
          "contour": [
           {
            "colorbar": {
             "outlinewidth": 0,
             "ticks": ""
            },
            "colorscale": [
             [
              0,
              "#0d0887"
             ],
             [
              0.1111111111111111,
              "#46039f"
             ],
             [
              0.2222222222222222,
              "#7201a8"
             ],
             [
              0.3333333333333333,
              "#9c179e"
             ],
             [
              0.4444444444444444,
              "#bd3786"
             ],
             [
              0.5555555555555556,
              "#d8576b"
             ],
             [
              0.6666666666666666,
              "#ed7953"
             ],
             [
              0.7777777777777778,
              "#fb9f3a"
             ],
             [
              0.8888888888888888,
              "#fdca26"
             ],
             [
              1,
              "#f0f921"
             ]
            ],
            "type": "contour"
           }
          ],
          "contourcarpet": [
           {
            "colorbar": {
             "outlinewidth": 0,
             "ticks": ""
            },
            "type": "contourcarpet"
           }
          ],
          "heatmap": [
           {
            "colorbar": {
             "outlinewidth": 0,
             "ticks": ""
            },
            "colorscale": [
             [
              0,
              "#0d0887"
             ],
             [
              0.1111111111111111,
              "#46039f"
             ],
             [
              0.2222222222222222,
              "#7201a8"
             ],
             [
              0.3333333333333333,
              "#9c179e"
             ],
             [
              0.4444444444444444,
              "#bd3786"
             ],
             [
              0.5555555555555556,
              "#d8576b"
             ],
             [
              0.6666666666666666,
              "#ed7953"
             ],
             [
              0.7777777777777778,
              "#fb9f3a"
             ],
             [
              0.8888888888888888,
              "#fdca26"
             ],
             [
              1,
              "#f0f921"
             ]
            ],
            "type": "heatmap"
           }
          ],
          "heatmapgl": [
           {
            "colorbar": {
             "outlinewidth": 0,
             "ticks": ""
            },
            "colorscale": [
             [
              0,
              "#0d0887"
             ],
             [
              0.1111111111111111,
              "#46039f"
             ],
             [
              0.2222222222222222,
              "#7201a8"
             ],
             [
              0.3333333333333333,
              "#9c179e"
             ],
             [
              0.4444444444444444,
              "#bd3786"
             ],
             [
              0.5555555555555556,
              "#d8576b"
             ],
             [
              0.6666666666666666,
              "#ed7953"
             ],
             [
              0.7777777777777778,
              "#fb9f3a"
             ],
             [
              0.8888888888888888,
              "#fdca26"
             ],
             [
              1,
              "#f0f921"
             ]
            ],
            "type": "heatmapgl"
           }
          ],
          "histogram": [
           {
            "marker": {
             "pattern": {
              "fillmode": "overlay",
              "size": 10,
              "solidity": 0.2
             }
            },
            "type": "histogram"
           }
          ],
          "histogram2d": [
           {
            "colorbar": {
             "outlinewidth": 0,
             "ticks": ""
            },
            "colorscale": [
             [
              0,
              "#0d0887"
             ],
             [
              0.1111111111111111,
              "#46039f"
             ],
             [
              0.2222222222222222,
              "#7201a8"
             ],
             [
              0.3333333333333333,
              "#9c179e"
             ],
             [
              0.4444444444444444,
              "#bd3786"
             ],
             [
              0.5555555555555556,
              "#d8576b"
             ],
             [
              0.6666666666666666,
              "#ed7953"
             ],
             [
              0.7777777777777778,
              "#fb9f3a"
             ],
             [
              0.8888888888888888,
              "#fdca26"
             ],
             [
              1,
              "#f0f921"
             ]
            ],
            "type": "histogram2d"
           }
          ],
          "histogram2dcontour": [
           {
            "colorbar": {
             "outlinewidth": 0,
             "ticks": ""
            },
            "colorscale": [
             [
              0,
              "#0d0887"
             ],
             [
              0.1111111111111111,
              "#46039f"
             ],
             [
              0.2222222222222222,
              "#7201a8"
             ],
             [
              0.3333333333333333,
              "#9c179e"
             ],
             [
              0.4444444444444444,
              "#bd3786"
             ],
             [
              0.5555555555555556,
              "#d8576b"
             ],
             [
              0.6666666666666666,
              "#ed7953"
             ],
             [
              0.7777777777777778,
              "#fb9f3a"
             ],
             [
              0.8888888888888888,
              "#fdca26"
             ],
             [
              1,
              "#f0f921"
             ]
            ],
            "type": "histogram2dcontour"
           }
          ],
          "mesh3d": [
           {
            "colorbar": {
             "outlinewidth": 0,
             "ticks": ""
            },
            "type": "mesh3d"
           }
          ],
          "parcoords": [
           {
            "line": {
             "colorbar": {
              "outlinewidth": 0,
              "ticks": ""
             }
            },
            "type": "parcoords"
           }
          ],
          "pie": [
           {
            "automargin": true,
            "type": "pie"
           }
          ],
          "scatter": [
           {
            "fillpattern": {
             "fillmode": "overlay",
             "size": 10,
             "solidity": 0.2
            },
            "type": "scatter"
           }
          ],
          "scatter3d": [
           {
            "line": {
             "colorbar": {
              "outlinewidth": 0,
              "ticks": ""
             }
            },
            "marker": {
             "colorbar": {
              "outlinewidth": 0,
              "ticks": ""
             }
            },
            "type": "scatter3d"
           }
          ],
          "scattercarpet": [
           {
            "marker": {
             "colorbar": {
              "outlinewidth": 0,
              "ticks": ""
             }
            },
            "type": "scattercarpet"
           }
          ],
          "scattergeo": [
           {
            "marker": {
             "colorbar": {
              "outlinewidth": 0,
              "ticks": ""
             }
            },
            "type": "scattergeo"
           }
          ],
          "scattergl": [
           {
            "marker": {
             "colorbar": {
              "outlinewidth": 0,
              "ticks": ""
             }
            },
            "type": "scattergl"
           }
          ],
          "scattermapbox": [
           {
            "marker": {
             "colorbar": {
              "outlinewidth": 0,
              "ticks": ""
             }
            },
            "type": "scattermapbox"
           }
          ],
          "scatterpolar": [
           {
            "marker": {
             "colorbar": {
              "outlinewidth": 0,
              "ticks": ""
             }
            },
            "type": "scatterpolar"
           }
          ],
          "scatterpolargl": [
           {
            "marker": {
             "colorbar": {
              "outlinewidth": 0,
              "ticks": ""
             }
            },
            "type": "scatterpolargl"
           }
          ],
          "scatterternary": [
           {
            "marker": {
             "colorbar": {
              "outlinewidth": 0,
              "ticks": ""
             }
            },
            "type": "scatterternary"
           }
          ],
          "surface": [
           {
            "colorbar": {
             "outlinewidth": 0,
             "ticks": ""
            },
            "colorscale": [
             [
              0,
              "#0d0887"
             ],
             [
              0.1111111111111111,
              "#46039f"
             ],
             [
              0.2222222222222222,
              "#7201a8"
             ],
             [
              0.3333333333333333,
              "#9c179e"
             ],
             [
              0.4444444444444444,
              "#bd3786"
             ],
             [
              0.5555555555555556,
              "#d8576b"
             ],
             [
              0.6666666666666666,
              "#ed7953"
             ],
             [
              0.7777777777777778,
              "#fb9f3a"
             ],
             [
              0.8888888888888888,
              "#fdca26"
             ],
             [
              1,
              "#f0f921"
             ]
            ],
            "type": "surface"
           }
          ],
          "table": [
           {
            "cells": {
             "fill": {
              "color": "#EBF0F8"
             },
             "line": {
              "color": "white"
             }
            },
            "header": {
             "fill": {
              "color": "#C8D4E3"
             },
             "line": {
              "color": "white"
             }
            },
            "type": "table"
           }
          ]
         },
         "layout": {
          "annotationdefaults": {
           "arrowcolor": "#2a3f5f",
           "arrowhead": 0,
           "arrowwidth": 1
          },
          "autotypenumbers": "strict",
          "coloraxis": {
           "colorbar": {
            "outlinewidth": 0,
            "ticks": ""
           }
          },
          "colorscale": {
           "diverging": [
            [
             0,
             "#8e0152"
            ],
            [
             0.1,
             "#c51b7d"
            ],
            [
             0.2,
             "#de77ae"
            ],
            [
             0.3,
             "#f1b6da"
            ],
            [
             0.4,
             "#fde0ef"
            ],
            [
             0.5,
             "#f7f7f7"
            ],
            [
             0.6,
             "#e6f5d0"
            ],
            [
             0.7,
             "#b8e186"
            ],
            [
             0.8,
             "#7fbc41"
            ],
            [
             0.9,
             "#4d9221"
            ],
            [
             1,
             "#276419"
            ]
           ],
           "sequential": [
            [
             0,
             "#0d0887"
            ],
            [
             0.1111111111111111,
             "#46039f"
            ],
            [
             0.2222222222222222,
             "#7201a8"
            ],
            [
             0.3333333333333333,
             "#9c179e"
            ],
            [
             0.4444444444444444,
             "#bd3786"
            ],
            [
             0.5555555555555556,
             "#d8576b"
            ],
            [
             0.6666666666666666,
             "#ed7953"
            ],
            [
             0.7777777777777778,
             "#fb9f3a"
            ],
            [
             0.8888888888888888,
             "#fdca26"
            ],
            [
             1,
             "#f0f921"
            ]
           ],
           "sequentialminus": [
            [
             0,
             "#0d0887"
            ],
            [
             0.1111111111111111,
             "#46039f"
            ],
            [
             0.2222222222222222,
             "#7201a8"
            ],
            [
             0.3333333333333333,
             "#9c179e"
            ],
            [
             0.4444444444444444,
             "#bd3786"
            ],
            [
             0.5555555555555556,
             "#d8576b"
            ],
            [
             0.6666666666666666,
             "#ed7953"
            ],
            [
             0.7777777777777778,
             "#fb9f3a"
            ],
            [
             0.8888888888888888,
             "#fdca26"
            ],
            [
             1,
             "#f0f921"
            ]
           ]
          },
          "colorway": [
           "#636efa",
           "#EF553B",
           "#00cc96",
           "#ab63fa",
           "#FFA15A",
           "#19d3f3",
           "#FF6692",
           "#B6E880",
           "#FF97FF",
           "#FECB52"
          ],
          "font": {
           "color": "#2a3f5f"
          },
          "geo": {
           "bgcolor": "white",
           "lakecolor": "white",
           "landcolor": "#E5ECF6",
           "showlakes": true,
           "showland": true,
           "subunitcolor": "white"
          },
          "hoverlabel": {
           "align": "left"
          },
          "hovermode": "closest",
          "mapbox": {
           "style": "light"
          },
          "paper_bgcolor": "white",
          "plot_bgcolor": "#E5ECF6",
          "polar": {
           "angularaxis": {
            "gridcolor": "white",
            "linecolor": "white",
            "ticks": ""
           },
           "bgcolor": "#E5ECF6",
           "radialaxis": {
            "gridcolor": "white",
            "linecolor": "white",
            "ticks": ""
           }
          },
          "scene": {
           "xaxis": {
            "backgroundcolor": "#E5ECF6",
            "gridcolor": "white",
            "gridwidth": 2,
            "linecolor": "white",
            "showbackground": true,
            "ticks": "",
            "zerolinecolor": "white"
           },
           "yaxis": {
            "backgroundcolor": "#E5ECF6",
            "gridcolor": "white",
            "gridwidth": 2,
            "linecolor": "white",
            "showbackground": true,
            "ticks": "",
            "zerolinecolor": "white"
           },
           "zaxis": {
            "backgroundcolor": "#E5ECF6",
            "gridcolor": "white",
            "gridwidth": 2,
            "linecolor": "white",
            "showbackground": true,
            "ticks": "",
            "zerolinecolor": "white"
           }
          },
          "shapedefaults": {
           "line": {
            "color": "#2a3f5f"
           }
          },
          "ternary": {
           "aaxis": {
            "gridcolor": "white",
            "linecolor": "white",
            "ticks": ""
           },
           "baxis": {
            "gridcolor": "white",
            "linecolor": "white",
            "ticks": ""
           },
           "bgcolor": "#E5ECF6",
           "caxis": {
            "gridcolor": "white",
            "linecolor": "white",
            "ticks": ""
           }
          },
          "title": {
           "x": 0.05
          },
          "xaxis": {
           "automargin": true,
           "gridcolor": "white",
           "linecolor": "white",
           "ticks": "",
           "title": {
            "standoff": 15
           },
           "zerolinecolor": "white",
           "zerolinewidth": 2
          },
          "yaxis": {
           "automargin": true,
           "gridcolor": "white",
           "linecolor": "white",
           "ticks": "",
           "title": {
            "standoff": 15
           },
           "zerolinecolor": "white",
           "zerolinewidth": 2
          }
         }
        },
        "title": {
         "text": "Total yearly savings"
        },
        "xaxis": {
         "anchor": "y",
         "domain": [
          0,
          1
         ],
         "range": [
          0,
          60000
         ],
         "title": {
          "text": "Total yearly savings in €"
         }
        },
        "yaxis": {
         "anchor": "x",
         "domain": [
          0,
          1
         ],
         "title": {
          "text": ""
         }
        }
       }
      }
     },
     "metadata": {},
     "output_type": "display_data"
    }
   ],
   "source": [
    "abs_yearly_savings = abs_diff[\"total_yearly_costs_eur\"]\n",
    "abs_yearly_savings.name = \"Total yearly savings in Eur\"\n",
    "print(abs_yearly_savings.describe().drop(\"count\").to_markdown())\n",
    "\n",
    "abs_tot_yearly_savings_fig_df = abs_diff.copy()\n",
    "abs_tot_yearly_savings_fig_df = abs_tot_yearly_savings_fig_df.rename(columns={\"total_yearly_costs_eur\": \"Savings\"})\n",
    "abs_tot_yearly_savings_fig = px.box(\n",
    "    data_frame=abs_tot_yearly_savings_fig_df,\n",
    "    x=\"Savings\",\n",
    "    title=\"Total yearly savings\")\n",
    "abs_tot_yearly_savings_fig.update_layout(xaxis_title=\"Total yearly savings in €\", yaxis_title=\"\")\n",
    "abs_tot_yearly_savings_fig.update_xaxes(range=[0, 60e3])\n",
    "abs_tot_yearly_savings_fig.show()"
   ]
  },
  {
   "cell_type": "code",
   "execution_count": 132,
   "id": "84f4bf5f",
   "metadata": {},
   "outputs": [
    {
     "name": "stdout",
     "output_type": "stream",
     "text": [
      "|      |   Relative yearly savings in % |\n",
      "|:-----|-------------------------------:|\n",
      "| mean |                      2.80658   |\n",
      "| std  |                      3.37228   |\n",
      "| min  |                      0.0160091 |\n",
      "| 25%  |                      0.2682    |\n",
      "| 50%  |                      1.37999   |\n",
      "| 75%  |                      4.21152   |\n",
      "| max  |                     16.2929    |\n"
     ]
    },
    {
     "data": {
      "application/vnd.plotly.v1+json": {
       "config": {
        "plotlyServerURL": "https://plot.ly"
       },
       "data": [
        {
         "alignmentgroup": "True",
         "hovertemplate": "Savings=%{x}<extra></extra>",
         "legendgroup": "",
         "marker": {
          "color": "#636efa"
         },
         "name": "",
         "notched": false,
         "offsetgroup": "",
         "orientation": "h",
         "showlegend": false,
         "type": "box",
         "x": [
          0.2647783748341352,
          0.19673177998875876,
          0.18628315614677426,
          0.18780298369496437,
          4.260359321124907,
          7.519642436380537,
          0.3897185414819253,
          0.26794087239861253,
          0.39403608205368307,
          3.8327250623673272,
          0.27079688060249196,
          0.18118169803243922,
          0.2698020029721077,
          0.2676612690787667,
          0.2657852192197088,
          7.38791813056878,
          0.26612848699133046,
          5.954756717348711,
          3.6184579393097405,
          0.2686769601561504,
          0.26709376289196696,
          0.26693052025450764,
          3.1687269651715413,
          0.2659521847177193,
          13.003976979525206,
          7.833954364098439,
          6.272426104332156,
          4.8093234057215355,
          7.582485577003404,
          0.519481249949724,
          1.9586788028663742,
          8.663190481999393,
          0.3025051491483396,
          1.4775276722360229,
          0.2695727560348335,
          3.3834418893691653,
          2.374598568427,
          0.7131383028271485,
          3.7743034259860364,
          0.20983659508237718,
          0.26998060589575257,
          6.005332611005196,
          3.6356816619193584,
          0.18153759298907424,
          0.2670827752221098,
          0.26922387911561046,
          3.8318924679402038,
          0.26981894463666545,
          0.2694677837883144,
          0.2689520859072569,
          9.220541015310063,
          0.2691080853913197,
          0.18964529184991025,
          0.16711086051855886,
          0.2691343097550557,
          4.54829016271269,
          0.26895434027757853,
          0.2384564480641733,
          1.582422693711603,
          0.8321608642730383,
          5.850779999287203,
          1.2660190648520948,
          5.80134405533389,
          2.7246327868335913,
          0.268227017729247,
          9.338405522778578,
          0.20024056930926978,
          4.318951445649027,
          12.102706369391615,
          5.137860807590987,
          2.8173679360372237,
          2.2072708826546124,
          2.0863359132766934,
          5.520033913155768,
          0.2711435649875933,
          7.565471992810034,
          1.8296954147895794,
          0.2664392402104301,
          2.591665077704241,
          0.2653556252723244,
          9.234161964918373,
          0.22421854914873754,
          0.23443354809950787,
          5.100419079838462,
          1.8732584924136124,
          0.26837579172106385,
          1.9926276174804243,
          0.2236011665789672,
          0.19380350312630581,
          0.27075401081651806,
          10.806713853689118,
          7.411478714178281,
          0.7996631876782792,
          7.562748103455489,
          4.203316983548536,
          2.997918569414541,
          2.247897356043894,
          0.4748534355433959,
          1.7256963094183275,
          0.20489446553322707,
          0.19414525318734754,
          1.4745346475242946,
          1.5971675333254727,
          1.9933235819237658,
          3.7370826347593207,
          0.2670064044436993,
          1.493027039554797,
          4.037742536732402,
          2.514467586331098,
          0.2698463852259105,
          4.187962361189975,
          0.23664229905148454,
          0.5566364037619473,
          0.2079575244056098,
          0.5810746750847536,
          1.8876469673453453,
          8.548505424831644,
          0.22775130404130675,
          0.21417437669148734,
          2.4529589253459623,
          0.5284382438450046,
          0.26825829357103614,
          1.8708058348720695,
          5.770822182431891,
          6.218898789469028,
          0.7395982631055142,
          8.658739708113746,
          4.8960183923793865,
          1.1870317928817664,
          0.26935675231902,
          11.49792636877125,
          3.2331000906596166,
          11.409697282632395,
          6.224799103049899,
          0.2653330781659449,
          0.2716264019774231,
          11.401871790378987,
          0.2686244360437705,
          0.26548380337750915,
          0.2710749056562053,
          2.6033289049089507,
          0.2694359557247392,
          2.3118911860960165,
          10.032612157001926,
          0.26828299476362083,
          0.26975323218826186,
          0.2701872855532106,
          2.335117575689108,
          2.2202646402450505,
          0.2375215212347647,
          6.740081962728883,
          0.2318978441409035,
          1.8503534052482264,
          1.3314664439237758,
          0.7158749646498926,
          9.291073243862998,
          0.2710115974332773,
          1.9269919176762202,
          0.43647628035605823,
          1.2758939744021374,
          6.1273164475906885,
          4.882295536469577,
          3.653404423709175,
          0.16927279883393015,
          7.215394200941941,
          7.740986157404466,
          2.5677537829865904,
          7.086398994508129,
          6.667543640525227,
          0.19903538411566232,
          0.270218050354127,
          1.2365171173534308,
          1.275441249927964,
          0.26817719259594675,
          0.2689236746631122,
          1.8063874819863406,
          4.803172002974708,
          4.7760594633350255,
          0.7542341156888654,
          0.2648709245502358,
          0.20431908690792527,
          0.9765097293178702,
          3.879738852770659,
          0.18019436664396582,
          3.2301016868557726,
          0.21268534767551447,
          0.5156240924095067,
          0.23130126755233593,
          0.26988636693292534,
          0.1902048653841765,
          0.2717682065647876,
          3.784272802790139,
          0.19840266046661226,
          7.550719763749654,
          0.2680591970610139,
          0.2689523079544874,
          0.2693750181954529,
          2.6598854233148246,
          0.21637714932882687,
          11.971698010929794,
          1.2527280146270636,
          0.20977949788878944,
          1.5513803954810956,
          7.777893270170011,
          6.251785471514486,
          0.2696795538166204,
          3.29316207664669,
          3.2968748623694393,
          4.429601408307738,
          3.4800413509274883,
          0.26914406836336696,
          1.495197130270685,
          0.19868826562872213,
          0.5769365142555981,
          1.712596584466346,
          0.211627411398959,
          0.8636140939895479,
          0.2682450259047137,
          0.18046298093912835,
          0.37157403970817143,
          0.27183856969335435,
          2.1529272749369213,
          1.4118710669956225,
          2.704711295651959,
          0.7243632716809253,
          10.867774738567103,
          2.8644086854764157,
          3.1828273217908314,
          0.2680666631416417,
          6.121584274307016,
          4.694341940396878,
          0.17388175405232603,
          6.641584458054864,
          7.355718046900036,
          0.26897037815445934,
          0.1266517746366117,
          0.268696718541682,
          1.380201572637606,
          6.18512266396963,
          9.651278047167072,
          2.816679966805286,
          1.8826488616647314,
          1.0998132112002066,
          2.3132834240162135,
          0.26879775964368374,
          0.9988634662164186,
          0.26943488193440296,
          0.6194961242873949,
          0.2665780025675709,
          1.2222773776456863,
          0.9796969071285572,
          0.26011342581120633,
          1.2079320386631542,
          5.209311647374181,
          0.9052677497808754,
          2.7628029661803635,
          10.465411955793986,
          8.114386171217044,
          0.2708374288945389,
          7.78103836611931,
          5.317701612841659,
          0.2697153092756044,
          1.081470211634183,
          0.22922212254523114,
          6.623950722557274,
          1.0432296913981798,
          2.5911709980878794,
          0.2679374926833671,
          0.20603511913579514,
          14.616965209086343,
          3.1375632974990353,
          4.8360892481929465,
          0.2717893057671502,
          0.27009896702895797,
          4.343860017379086,
          4.337443559013419,
          2.765700900283819,
          0.19507677044183486,
          1.992486608842741,
          0.2332905232661013,
          1.2029012386019942,
          1.1480003789770699,
          5.388561747251633,
          0.2220826383367265,
          5.42452896111731,
          0.26675705037843406,
          13.365534801767865,
          3.7946702615951478,
          3.818407357140713,
          2.6577466299272676,
          0.2670606659839871,
          0.808382881248536,
          5.886022685097602,
          1.2659693265899286,
          0.2672547572645414,
          2.413369225920675,
          0.26712001918752043,
          0.26888372979049346,
          1.6634702955685845,
          3.076809652918024,
          3.729357772050628,
          0.26942130892828103,
          0.19524657978411308,
          2.338409113985512,
          0.16303945275148063,
          0.22885183759126848,
          5.634339615260323,
          7.361187920077751,
          4.629747040778198,
          3.50636591219105,
          3.0472236314022916,
          1.5339542884312733,
          14.108352422497248,
          0.1952215329783405,
          3.521123536614301,
          0.2686120515199781,
          0.27152232859536873,
          1.6243543947202552,
          0.9914193622330616,
          2.4810470948019208,
          0.2719600329044662,
          5.995121741410923,
          3.1939652321566268,
          13.70182762833483,
          2.8188189863801676,
          5.564988965515966,
          0.26845082844699675,
          1.4451085478613375,
          0.27216107896181513,
          0.6112652038814547,
          3.8375041128288196,
          0.26694542764876705,
          0.26666033157269564,
          2.5083995661184524,
          2.0498839141805205,
          0.26817143888436035,
          0.2661358046630677,
          0.20029385785739323,
          2.0247408743957376,
          1.3282998248480817,
          0.26533788197923014,
          2.739546570111615,
          0.27156330610520957,
          0.2700891133266878,
          3.834036472833712,
          0.26485567028827584,
          1.134061753496786,
          0.269685915506139,
          12.479094974713954,
          0.27076426774432694,
          0.27133812254724526,
          0.2697631786898097,
          0.343451618424712,
          0.27055324529572017,
          12.82108573160104,
          0.7651521838559752,
          13.384080318613611,
          0.2711760492173041,
          0.7312993469297807,
          5.088465638437505,
          0.2704208658197462,
          13.259091186174429,
          1.5897515700194715,
          0.3597370411036379,
          0.2686058144760218,
          7.668815967429538,
          0.26894101642782675,
          1.4891462171968028,
          0.9466843095066444,
          0.26914302601515255,
          6.204995086169985,
          7.320205438129228,
          5.831583683613495,
          0.271688665470055,
          0.2667810215123144,
          0.26798350600174303,
          0.596482848798427,
          10.081114722754439,
          0.26654471349476916,
          0.26363493640788405,
          2.8663385380039004,
          0.26554122760754023,
          0.2654681724676389,
          0.2672897339638369,
          8.616404807153542,
          1.9714917529001303,
          1.3514638284423433,
          0.19821786927475396,
          4.828747608814292,
          0.2693157212140547,
          0.26824910055356094,
          3.764558429620253,
          3.342509913290897,
          2.0774589188774777,
          2.7762038107739895,
          1.716124726330274,
          0.14962001984382067,
          0.20331453833284086,
          11.555143701262892,
          0.2717412141608685,
          7.9376192993574195,
          5.9006473237899755,
          0.2153241294169335,
          0.2679593106869301,
          0.21450071870303447,
          0.7587082007765859,
          9.0355810169425,
          2.5443723113177534,
          0.7290934813230193,
          0.268540988401302,
          0.27034628428862967,
          2.6484917952538134,
          7.033029039766739,
          0.19776542187250676,
          1.3212429090343354,
          1.405241423957596,
          0.23296368059709166,
          0.2684191638489245,
          5.216605882049119,
          5.7169955544986575,
          0.2686182664905599,
          7.710761844392251,
          4.8210778617321415,
          3.866421669792324,
          0.21196553008560057,
          2.0230570644404295,
          0.2707668996010683,
          0.2652915570293434,
          0.21000081933595496,
          0.2651036241290289,
          0.9869387721498429,
          0.2670395833262683,
          0.20545405811446374,
          1.9482686433965408,
          0.21561935109179103,
          0.5541632984202918,
          0.8413663934602794,
          0.2308271563587479,
          1.683681561877194,
          4.048879804518844,
          0.265759919709028,
          0.26515100273158737,
          0.2675506361781544,
          9.947409464423117,
          2.113114394829618,
          0.27244512939114524,
          0.26830317805608217,
          1.873112572106066,
          1.4942445512005373,
          0.267742601493899,
          0.20211609302067832,
          0.24202095869869586,
          3.4398340057194674,
          0.26776159954366285,
          1.650698201116284,
          2.3126642414943355,
          0.26903843550673634,
          0.26962278380990373,
          0.27004609552188463,
          5.873611564954398,
          6.598109530955649,
          0.49382945070396395,
          8.881748509863051,
          0.26686569179719105,
          3.493465942355483,
          0.2695958527107547,
          0.17849512206850876,
          8.22206168823169,
          0.2683770593527517,
          0.2684790945400156,
          4.590047511842348,
          5.071419387771793,
          0.20242903696804349,
          0.21226451282637507,
          0.5564180877294126,
          2.429112846711748,
          0.2719704025028101,
          0.2629189411599143,
          9.614922663896722,
          0.2684734435507893,
          0.26757211148952825,
          3.4111280602029788,
          1.1800727969227134,
          0.26923351062303535,
          2.8081887705375674,
          0.2719950161745222,
          9.307673195709185,
          3.809446081388288,
          5.825373138894089,
          0.166434351661931,
          0.26546396174157383,
          4.466615311310778,
          2.772452246101249,
          0.18533776117090203,
          5.390231618466338,
          6.02602655864397,
          3.5516320743440035,
          3.913984871866049,
          0.9617753044175302,
          2.324716412897713,
          6.066577553332298,
          0.21295196288898632,
          2.5288477910911293,
          9.221445195352995,
          1.4016756342082584,
          0.2689626480559195,
          0.19627006511930353,
          3.0575109183383367,
          0.26929213117495987,
          0.2654533168170947,
          0.2288483889394428,
          0.22718054259123263,
          2.81884468527807,
          1.908749259139158,
          0.26871998256109286,
          9.432099492446115,
          12.598594964793216,
          2.4083133094986846,
          0.2691602348171314,
          0.8495628135370187,
          3.4366814508110064,
          7.8055372218181835,
          5.988652109650304,
          0.2687489516877952,
          4.453685503743656,
          1.4264571547199818,
          0.26807879743620244,
          0.2666929598741387,
          0.1671336974778412,
          2.089581159741006,
          0.26894392035699155,
          0.23298971770612525,
          1.9830998988817672,
          1.1995531938952289,
          4.2980262052401885,
          7.197055065028934,
          5.994898005966858,
          0.27168911810440516,
          0.16182907197334925,
          0.22476406233405932,
          0.2187555592893913,
          2.664468153445634,
          1.6993709534240244,
          4.087692865459252,
          0.8733473405588603,
          3.2012417699878464,
          0.2698810292538768,
          0.2695921507580759,
          0.2608374711438466,
          0.23111887206787857,
          3.0504202078932163,
          0.2712330647083857,
          8.01935577679203,
          0.2703319678262359,
          0.2653254134018919,
          0.20640470814009895,
          10.367865079760433,
          8.543891152909618,
          0.025245349711026766,
          5.77635008008443,
          3.5308834504028983,
          0.26680855729607744,
          2.36252564371779,
          1.1769715682642938,
          0.18806080233981534,
          0.27076540506443914,
          2.954975080124065,
          0.19916604105825025,
          4.7355768840413495,
          2.483179945323822,
          0.26892214670202685,
          0.2702923302118319,
          0.3061455989556162,
          14.046041133660003,
          10.178267522048174,
          0.17890653554500294,
          0.21577708741991145,
          0.2095412037130956,
          4.660820599696616,
          3.520008642998841,
          0.26452378265898396,
          0.18400611594721594,
          0.319265115831589,
          0.2685742222385392,
          12.86934351767483,
          12.313577959736007,
          9.699509672173619,
          11.48076866858921,
          8.765381991184446,
          14.384360735147872,
          0.2696350334516221,
          16.29293460966727,
          0.2676777327450198,
          12.215459989262767,
          0.21216037531612306,
          0.6201595722738755,
          0.2704061524754955,
          11.186379173956523,
          9.106551570230826,
          9.890585631084416,
          7.189275723073154,
          0.22230140151660283,
          0.2689448597196792,
          2.0577923744544693,
          8.193188607606578,
          1.1235474322069683,
          0.27024523587922405,
          0.15582446942011433,
          0.20725679229342647,
          1.063831950547116,
          7.444018549063783,
          2.5739538453381043,
          3.5955318362761766,
          2.6128022043830175,
          3.897599025366371,
          1.5534067543426473,
          2.750339110981565,
          0.8369405228032074,
          1.1240050615448893,
          0.206388293615958,
          0.20726826799635595,
          1.19006967733282,
          2.794877001492331,
          0.21360937915497386,
          0.2674283455692243,
          0.2234258635600313,
          3.9363128053869483,
          7.820134960074252,
          3.323640419441096,
          0.21252855265686713,
          0.21751389826990428,
          0.2717193920401273,
          0.42040304526837924,
          0.1849092250807707,
          0.4987331103536632,
          0.18650344786623874,
          0.40681802001985706,
          0.2025849750827776,
          0.26979229258095966,
          3.6226960772029435,
          1.7565804824410114,
          2.7108654992727432,
          2.7583954070546697,
          5.656523418413666,
          3.9379094055444304,
          5.555380464158962,
          3.2920484695398393,
          5.945839565371057,
          0.2642001441830757,
          1.435543949966782,
          0.2111368932699652,
          0.26796687584556556,
          5.503479861640986,
          8.853226040590048,
          0.266855454468415,
          2.9841919417958733,
          4.366374503197459,
          3.0974435604299257,
          1.0441595714421654,
          0.9159687653438281,
          0.2718298861678595,
          2.883830766838341,
          8.996797174894212,
          0.26899723550820315,
          1.0418640273443884,
          0.264927473087538,
          1.3076077068284195,
          3.503960995772818,
          0.26331106338381743,
          7.1336155261051175,
          2.387987107640912,
          0.2686954859524973,
          0.22835473754890748,
          0.22149106464302015,
          0.9845397460653289,
          2.865654413025574,
          0.33331224874193927,
          2.894122305770069,
          0.26926421791878624,
          7.7555550152344725,
          2.550352041174611,
          8.153028380872348,
          2.725697206812522,
          10.03281049273863,
          0.17973642916988153,
          12.40667625975663,
          5.579573091485524,
          2.952486211460492,
          0.26958065608334364,
          0.5417988876196592,
          10.021145288080103,
          13.934565416180567,
          0.22194725678291025,
          10.623199470492109,
          1.0259662007710901,
          5.260273896591018,
          8.7751799254376,
          3.0919050045452594,
          0.2685873791131466,
          3.4943530137691483,
          0.2685256507947151,
          0.9535249415966998,
          0.9720599840654973,
          0.2633657219202512,
          6.107895806932379,
          0.26950431910948575,
          11.520504066725042,
          11.035006737925038,
          0.2699206353212635,
          0.2673618784528632,
          3.6663310685671453,
          0.20636637440332742,
          0.5146176201450848,
          9.502363861061744,
          0.19118738312729544,
          0.26758513831663294,
          0.26732483862557993,
          0.2686791963331158,
          3.9062029634445605,
          2.5571375726426746,
          3.2853059327958762,
          4.3413007983806775,
          0.2697633523749692,
          2.392036668449695,
          2.6250440928158625,
          5.3995622897748925,
          5.485634367994076,
          12.244700497097678,
          0.14430521019372206,
          2.0552737661567964,
          1.3317671198833525,
          0.0536144883098812,
          0.2690181661023261,
          3.0807450921320543,
          0.26471858895251077,
          0.2711099953767949,
          0.2647947166170043,
          0.2264289649894923,
          0.2704108974558946,
          3.291993068188955,
          5.33964574466556,
          0.685448906753438,
          3.3761911579290933,
          0.2026545749527126,
          2.6974373983243525,
          0.27580173652146506,
          0.26897908217753846,
          6.599082961723086,
          6.9669432591572225,
          10.166567304797312,
          0.8505932835337728,
          1.955181580621123,
          3.3292739737068215,
          1.3746888612253745,
          0.525768146746293,
          1.0971683847626763,
          0.8341836306205177,
          0.26974736031395896,
          8.343688259633472,
          3.650755791637842,
          0.25732500116138723,
          6.952326135801849,
          0.2648873905960921,
          13.615122568703944,
          0.4370335022911785,
          3.139360704778048,
          4.396584495197534,
          0.2674527795540549,
          5.033736319720398,
          1.8414476268155875,
          1.7189372099749203,
          6.140899921729293,
          9.48041324866856,
          2.9163188745592494,
          8.054354857900536,
          0.27154212108533643,
          9.705284578708365,
          0.2716180021897553,
          3.4212116764823053,
          2.303194683517325,
          0.27179302206860617,
          0.26960658347287586,
          0.26550967448648954,
          0.26667672614082605,
          6.669521868551465,
          0.26837838058963287,
          6.6747493691183175,
          0.19527477586782696,
          0.23619904234541433,
          4.483263753308834,
          10.865593029410016,
          0.2714274456582662,
          0.2662976736493636,
          10.494347550398487,
          6.225691742065088,
          3.944850992389634,
          8.31328613342749,
          8.619709050383612,
          0.2122804437684999,
          1.817985437223448,
          13.286231927959735,
          6.567123258300997,
          0.26294646527444165,
          0.257410454664046,
          0.26552450760317003,
          0.2607114951504277,
          0.1825202454584758,
          2.360184505185019,
          0.2682761686497066,
          0.16839061305806363,
          0.26731916872870687,
          0.27255883304727324,
          0.5982111742952468,
          1.5615513155926513,
          0.26041923265979366,
          1.5386533921371928,
          0.6962699706948328,
          0.2065021829726335,
          0.49697862055144515,
          2.3790315790335264,
          5.792251608218759,
          0.16335945831074747,
          12.838597973345603,
          0.2569249741171605,
          0.2654738425333411,
          0.1953554799627257,
          4.956979857462902,
          1.5364536608738109,
          0.26223304840886097,
          0.2666013131543449,
          0.26141003605587015,
          0.2622507498572062,
          0.2644293659317431,
          6.624610754883628,
          1.7364073685601593,
          0.2669426272612334,
          1.6746936204523981,
          10.679811705735016,
          0.27104794321079456,
          8.078121966613311,
          0.7306830120229827,
          0.2639999872235863,
          7.25579124164619,
          0.26583031422285885,
          5.656805140319629,
          0.8555823211654816,
          0.2580650094739471,
          5.100426811842441,
          3.7963463552970236,
          7.854879031747802,
          0.26666587779585044,
          7.418535154619973,
          3.4835115737247997,
          5.175736860630646,
          0.3894253831179305,
          3.5153934805485876,
          0.26408139925704743,
          1.4530461079550603,
          9.110846169017583,
          2.979811522872618,
          1.4186578201137792,
          2.335434962908509,
          1.2593116459228364,
          7.189430726159025,
          0.16725130237650596,
          0.2349449358608825,
          0.26963422468366,
          7.703585656896146,
          0.12209191969469867,
          0.26231362067840813,
          0.909794761056119,
          4.905842966334971,
          5.176767385178889,
          6.627564339855583,
          0.2689884531315253,
          1.9865276462439037,
          3.4489817798416396,
          0.2708190449836059,
          5.28549957463907,
          3.046193164344849,
          4.1054387889654365,
          0.2695980397193323,
          0.2684505660952153,
          7.5617122866066975,
          0.2711471661746444,
          3.117666738207479,
          3.736235575678591,
          4.738403171376429,
          2.962110044950106,
          7.49214832660602,
          0.26942284459424376,
          0.26911895187839957,
          0.259709336463322,
          6.6297759588763645,
          0.2677049095809222,
          1.210276867881712,
          5.631698321212612,
          0.2350461001956669,
          0.9361648465823373,
          0.2582422325060322,
          5.699048993493793,
          1.1598547639131418,
          8.250656858622408,
          2.197252817724704,
          4.569185962370025,
          1.8531339791573624,
          0.27046307573153716,
          1.9278858192010684,
          2.454888223239212,
          0.1466636982310371,
          1.6803958803937775,
          0.2069752734700025,
          0.15423298767316665,
          0.22757660811520927,
          0.13434316658655907,
          0.20879608259900406,
          0.21295362614975288,
          4.1284660612988695,
          0.24173381133665517,
          5.950771019773446,
          4.136552049474838,
          12.956252465510337,
          0.2578018937592865,
          0.2698186820379401,
          7.585863921676269,
          0.2637815380520997,
          5.739875341965957,
          0.32844221194827516,
          8.012875555258777,
          10.506153986383381,
          5.7480306078425505,
          0.26432147935502187,
          5.670055957691108,
          0.2693885325956851,
          0.2696206928227833,
          2.247344628276738,
          3.9064588187506155,
          0.26918159817612863,
          1.9898787727623868,
          0.27227049871346354,
          1.5614498031995934,
          3.831127557309581,
          0.20534875492767812,
          1.5267773776507336,
          5.125640310564741,
          0.26806064395840307,
          0.2533684508386409,
          1.930144053118973,
          0.2698958895141479,
          2.370006845266595,
          0.2584742616302869,
          4.4838253532691805,
          2.53721582720324,
          4.969939144747759,
          3.811043377980946,
          10.103339730983288,
          2.330407096667737,
          0.8639463689509272,
          2.1552333478498995,
          5.990344447789094,
          2.872125248047484,
          3.429640108111044,
          3.644947789896362,
          0.27058342588256046,
          5.6686924789668085,
          4.305241802728839,
          2.144335227899951,
          2.114288681897315,
          12.635939301560246,
          1.8322185135504685,
          0.25455053189377813,
          0.9095652355416027,
          0.26560846458273246,
          0.20926643706742964,
          2.8767084800430593,
          1.4085782741862973,
          0.2695394801290786,
          0.27056748656921176,
          0.22371963888968474,
          2.762961416354374,
          0.19027929847816508,
          2.2089985971739803,
          0.26928366258686315,
          2.152235670454875,
          2.4312934946102103,
          3.96181930324112,
          1.7821692482815912,
          0.26101691596420756,
          0.2691903112016368,
          0.2689939200138924,
          0.2655683597647535,
          0.11568801555643578,
          0.49868581724835687,
          0.19038773629661776,
          1.9188228853813998,
          0.2685762790092048,
          3.876013070418064,
          2.495406367487029,
          0.21458648030935784,
          2.4611688622325576,
          0.2684056934680212,
          2.8065970677229517,
          0.1998523864896119,
          0.19349038398182647,
          0.16492542897822277,
          0.1841982938373999,
          0.16377391934026847,
          0.17566329304670047,
          0.2689317056628378,
          0.2651951111725733,
          15.483113459249845,
          3.8783819823501013,
          14.555570947062794,
          13.556459469611534,
          13.33852589057886,
          11.431221696866613,
          0.27162051347994076,
          9.825982969103926,
          0.2653032842541325,
          3.2997207211417816,
          1.4401488873121047,
          0.40062077838405347,
          10.564214884810463,
          0.27005261591643065,
          1.6063964656813923,
          1.760892568502792,
          2.4932869864733433,
          3.457593712272469,
          5.116710096555358,
          0.6517906777629787,
          0.23072765644559873,
          4.318487602642299,
          2.711399197884815,
          4.694185564032173,
          3.5239527282614356,
          0.2127823533736549,
          11.366055328830637,
          11.05235950359313,
          2.125459346734844,
          0.22420197239929954,
          2.368901921484811,
          8.273652559761102,
          0.27071714172018757,
          0.2692650208658007,
          0.2656467650159382,
          5.299300843078769,
          5.997378383942623,
          0.7013407677354452,
          0.1985127954284215,
          6.269407754156488,
          5.863797028375238,
          5.040384118802557,
          1.930454494710926,
          0.2685946552482765,
          4.247492735885575,
          5.531306908549985,
          6.598783192238542,
          10.906776370841104,
          0.18908569410027376,
          5.403927024032766,
          0.26447607382970134,
          0.2685382358135672,
          0.26808110760511117,
          2.5037059123691057,
          0.21172419544569654,
          0.1547504479391678,
          0.9867133376306776,
          1.299214533543332,
          4.882564104499527,
          0.8214593649244625,
          0.19906335266393388,
          0.26970946057219597,
          0.22666060891020473,
          2.5913804825789892,
          0.2705831762436234,
          4.168809849434658,
          2.4423268652364656,
          0.8975666071177082,
          0.2690994011806243,
          5.264790946584886,
          0.27089277767562503,
          0.26687391634283614,
          1.2622636453339993,
          0.21272576259657772,
          5.378107121044687,
          0.18443235549647471,
          5.253080794769298,
          3.8441338616942358,
          2.223849874953421,
          5.43189874385238,
          2.437173605561126,
          4.036894476720959,
          4.732801952018078,
          6.181430384835462,
          0.2619509537150938,
          3.377393475236777,
          0.21180976834893006,
          0.22899551948491503,
          0.2683838071626157,
          5.2838889964729745,
          6.839211243719462,
          10.27959706371271,
          4.056836567615186,
          1.313881422115988,
          7.364973652743763,
          2.704282576413167,
          5.0538213688911595,
          6.903119623532442,
          3.3240386309011285,
          0.27084055913263233,
          6.579805001466845,
          0.27006347965580046,
          0.26359163786935175,
          0.2640343958771593,
          1.5605886975728178,
          8.660028768039714,
          0.27146642219053785,
          0.26729104735482406,
          0.4002663526267794,
          6.418529266706898,
          0.25580173516978916,
          1.6920786313797707,
          2.6006944389687825,
          3.1263337560920714,
          0.8753595623628003,
          2.7779643157962557,
          0.2639689422757966,
          2.329808358798972,
          0.9065676958850424,
          0.5398158197413969,
          2.6107600096441095,
          0.27015612765689745,
          2.041210433320057,
          0.819021542791818,
          0.4745249701031861,
          1.8026015341019195,
          0.2710722968690412,
          0.7741025665787765,
          0.2667150946919677,
          0.19107523685517605,
          0.2712620338661494,
          3.987881813135788,
          1.106099583351262,
          0.3205316996081625,
          11.966971251329554,
          0.21735071020203195,
          0.5871392211374269,
          0.18322725558338704,
          0.8115173884171392,
          2.058213599830379,
          10.510188167895942,
          1.7497807681180773,
          0.2631234879414158,
          0.4963721538502013,
          1.4240428017361524,
          0.17555323572970108,
          4.12381791356953,
          2.7865644468514557,
          0.26813191776058737,
          1.3364711923106465,
          4.430435573940502,
          0.6069180618992441,
          3.5405610902846933,
          0.6391627193381563,
          7.317278826750879,
          2.2713702672548917,
          0.17300821825535984,
          0.26024812396611535,
          0.26011205793095427,
          0.2681974126256287,
          0.27269238395345125,
          0.21176983992513398,
          3.9958391454288997,
          3.7170128914318754,
          0.22731366902220565,
          0.22407526596297722,
          0.2650775442277003,
          8.370502453388706,
          4.368492970894628,
          0.6331820821825084,
          0.20462477553783412,
          1.5693941629997952,
          4.219751774362787,
          1.4648083455631125,
          0.445538561388154,
          5.798259415207795,
          0.2677558237719062,
          0.21651427327236045,
          3.714850162032749,
          0.12651536653846407,
          0.26701451779931784,
          0.7935851322434714,
          1.9651521047183453,
          0.21085966845088627,
          0.26771984923119935,
          1.0558815661616312,
          3.100588535440803,
          0.26871720271414923,
          9.160286086823895,
          3.440774463454833,
          4.411764308468868,
          2.1100312048034207,
          0.8980101533080551,
          4.640338546951645,
          3.2419856917790915,
          9.141661439821167,
          0.20827213394305957,
          2.530383363656758,
          1.7944384784324598,
          0.1546504834420594,
          1.3276746917487081,
          0.2687541336480323,
          3.104086685948867,
          8.142668946913396,
          0.9121574202782738,
          0.2297553762049856,
          0.2692853876963538,
          9.201930485337066,
          0.26760510564847056,
          0.2313271294302407,
          6.19535098460397,
          0.9306066934195839,
          4.331098347824072,
          0.10273655991179548,
          0.22416536597296774,
          1.8968851880156539,
          0.46263049851270777,
          11.131422955963444,
          0.2694457489707677,
          0.25347610092712053,
          0.14370743924266144,
          2.679379153927255,
          5.542250274599233,
          4.168962741410161,
          0.2692481382599758,
          3.6035317073301565,
          0.264372721271544,
          7.283323294586813,
          1.0520949765085854,
          0.20004760145664757,
          3.0599176350366313,
          3.6701093304495993,
          7.3862545275085445,
          0.2700369623598544,
          0.27006811160032207,
          0.17910040913555292,
          2.050655708812001,
          3.0299595722734156,
          6.899304371962191,
          0.022867256782663728,
          0.26731268463856644,
          2.5416757224706976,
          1.3201892016786294,
          0.9184949973953825,
          0.2690720620081884,
          15.993925255036178,
          0.26880741372700934,
          0.21502200374999414,
          0.19797077840576302,
          0.1982229543336556,
          0.19588858401805784,
          0.27044215478137196,
          11.150921790312214,
          2.381177292225482,
          0.27049727981817706,
          0.26985194613983615,
          13.899918198913275,
          0.27040969523550196,
          0.26913055058880875,
          0.22717927849966682,
          0.5459852867005243,
          0.20986497647766766,
          3.866556680298489,
          0.26820068390364055,
          0.1929585402927341,
          0.28157736217477414,
          0.2725392563656592,
          0.3318724361001243,
          12.388139530780421,
          14.669064021463527,
          1.8380677474048823,
          2.165769312321444,
          0.6907929734472597,
          3.6663040254436616,
          0.21371142979519944,
          2.6290710923366007,
          12.935243664714319,
          11.344870022948045,
          10.53149403598819,
          2.532548474293761,
          0.3571802431936929,
          12.716874773290371,
          1.5562164378652463,
          2.2671859206927447,
          5.899728030804729,
          1.3234204594402177,
          3.486838493084539,
          2.350691277225951,
          0.26921340564433693,
          8.868592297903941,
          0.20234779014572596,
          5.270311678660584,
          11.665856630055845,
          2.3072286069062145,
          2.236651731659492,
          1.3061446070482947,
          4.196983950821673,
          1.111982423965347,
          0.22178589738128562,
          1.8643420530608061,
          0.2675712390566958,
          1.1024484831664312,
          4.49963324071706,
          0.21277360760166547,
          4.191521109591083,
          0.26864335147865176,
          1.5533509115570228,
          0.6126153299504343,
          0.2324057050942075,
          6.222528753032447,
          3.7584759049912577,
          5.172489460956242,
          0.2693741224857496,
          0.215878837893253,
          3.6974089598845032,
          13.63003700631952,
          12.305769891883507,
          10.242290285327037,
          6.490492586519528,
          9.941680267741178,
          0.1574103497351368,
          3.881442961338842,
          0.2110910453187158,
          0.2715017482192447,
          6.091134739799927,
          2.2172785750618313,
          1.2021097561653125,
          2.83610177045902,
          2.8723783390826365,
          2.8994607668663606,
          4.966579489028466,
          2.0366721185171133,
          8.337346137290794,
          0.27050489597310845,
          5.265531157623377,
          0.2230675955356534,
          0.3688211672325768,
          10.370298707426349,
          0.26634837945118905,
          2.9101939040824245,
          0.43468068620319683,
          4.477200830498691,
          0.21535625145706647,
          3.3244661044237898,
          1.6008213572230243,
          5.908340051051691,
          4.876801765232536,
          0.22107226539405117,
          0.21220505660541084,
          1.8790129826484654,
          12.588459874053557,
          8.055700413845896,
          6.037691026134919,
          4.513444727378732,
          2.180915388881095,
          0.27087063292830993,
          5.246680656148889,
          0.21552705640477005,
          3.134762665137759,
          0.2668435869187853,
          0.2681713836344084,
          0.2588028645642977,
          9.696701879609257,
          11.444900881772547,
          1.760837012965812,
          0.26861020169153194,
          0.3763967169095672,
          4.467520522867783,
          7.552938076448655,
          0.2688158476603077,
          4.208773123091426,
          0.268269696292718,
          0.4915937364690398,
          0.2688863343536354,
          1.5068596766747098,
          1.9085573330658796,
          0.8584225081606393,
          5.378414202512202,
          1.1621344038230077,
          0.11559065551941074,
          11.13535926151619,
          0.20767188861331726,
          2.803785993961191,
          0.9076074323986836,
          0.2677297638383209,
          7.54665290625738,
          2.1765288867344874,
          2.2033875858283225,
          0.2537524345487397,
          3.237504673985584,
          2.2255636393271945,
          0.21989591654043372,
          5.697140884618324,
          4.242934718179117,
          5.122772009509282,
          7.359841743582919,
          7.121809270720099,
          2.946660470116957,
          3.6730458796677015,
          7.7556935114957035,
          0.26414209239154135,
          2.077978980390148,
          4.777654156006221,
          9.884250580103867,
          11.11328604563402,
          1.6132947404348317,
          4.835194083817884,
          0.27142014329335007,
          0.2688489234549306,
          0.2690711828421585,
          3.3379564846707157,
          0.21388001312740595,
          3.0006267768255332,
          10.466129104884688,
          3.7411360449742888,
          1.4142319212081857,
          4.174710094435284,
          4.2927082062007935,
          0.267009733868995,
          0.260780443719488,
          0.9389859506590942,
          1.7576345567134708,
          0.27030708566980893,
          0.2647420621639197,
          7.039448684565204,
          0.26700546081008036,
          2.8313206219574867,
          0.26806109655930904,
          13.293378473164413,
          1.5172106743151004,
          0.2670605407176494,
          10.422931483776859,
          0.26922007902711426,
          0.7959993607824644,
          14.692026795313156,
          0.21182768111126224,
          0.6826985308590896,
          13.415073310662834,
          0.26270473219748497,
          0.20808581127704767,
          4.811473509550717,
          0.26904998724980284,
          0.18986749775949957,
          0.16284432359948478,
          1.6780927875441825,
          3.2556026958949067,
          0.1759887510025981,
          2.329221825075233,
          0.5352472368956763,
          0.26717910379988974,
          0.21234285161851751,
          9.452824312592092,
          10.244195315129742,
          0.2618498491317766,
          8.130742001468082,
          10.160592669432043,
          0.20813698052358212,
          3.8202027487464902,
          0.2131187599758269,
          0.26937499714691737,
          0.2699492293972651,
          2.5613956572534113,
          6.744287410250585,
          0.2671747354336492,
          2.890007703194616,
          0.21580206869652835,
          0.20681175849613906,
          3.2646256688485478,
          3.7981563821874245,
          0.2674435039341056,
          0.26870872929347417,
          11.660663736564842,
          0.72016173513264,
          0.41586619218220144,
          2.9007579124487632,
          0.6926896958768441,
          0.37998888501444533,
          1.6775506250361438,
          0.26630027707585685,
          7.295769253491197,
          0.8104462764105458,
          11.539359748172068,
          0.2676473584364214,
          1.9085069249118045,
          12.467323764314045,
          9.108644640244014,
          5.317417793492128,
          0.674211707805428,
          2.198383944389465,
          0.2703685292036425,
          0.2710893999014952,
          0.5643999076229397,
          9.177967669181609,
          0.9222338545861378,
          3.701641415141387,
          0.26331185388091566,
          4.740825614788805,
          0.20633382763392874,
          0.2686935068673823,
          7.352720511064905,
          5.911039549131799,
          0.27010028204446235,
          3.4142038744562035,
          0.22479415670104458,
          6.285766614821569,
          3.135775068337904,
          0.2629184904098898,
          2.4427502935894663,
          5.229824701030749,
          4.176605392857388,
          0.7928658508140134,
          0.26169204763787035,
          0.26813650614661555,
          1.7320122576274637,
          0.26591514953466455,
          0.2654082557401847,
          0.2102413706955965,
          0.26967865044612127,
          0.4030696629850027,
          1.3653243301890285,
          0.22932407243521868,
          9.871553827807126,
          6.756423282388288,
          2.7488725009622956,
          10.71145528337506,
          0.26917880559280194,
          0.1576416010588939,
          1.6369381643258816,
          6.047974745077391,
          0.27054090615943793,
          8.112711762288315,
          0.2701808941984357,
          7.868464987629071,
          8.959929506697707,
          3.242479002653129,
          0.6783066502159772,
          9.498868456313236,
          4.4114842393416,
          10.074183735682618,
          0.2201795093227228,
          1.8397268197548624,
          4.293762476373962,
          0.267447445553512,
          0.2699336611005501,
          3.3223095286931223,
          0.26845092958077565,
          0.2599846167396174,
          8.87437342013444,
          9.466192176322558,
          0.26494172675484895,
          2.5555418427657903,
          0.2684494320256838,
          0.8041938963099416,
          0.2694203611197927,
          0.2681586505982483,
          11.075823614990117,
          1.974499060598921,
          0.271510079095283,
          2.4913120930454906,
          0.20197286547382434,
          0.2700305627625302,
          0.2626563762683494,
          2.521866848665062,
          3.129120481825862,
          1.1078710902995705,
          0.2704415046353551,
          5.130185614056951,
          0.2650023472593672,
          0.20583811268067945,
          2.5566769905148488,
          6.356691133256966,
          7.2026237476007084,
          1.4663750142623801,
          0.2579838486834514,
          2.369335858995807,
          3.149424067845895,
          2.452522130035983,
          0.26798953000512377,
          5.822539183063788,
          1.8726183271827144,
          0.18978456227725782,
          0.26907371739856045,
          1.5648650661026546,
          0.269694366249033,
          0.25983472537634944,
          9.701078890842197,
          7.090066102189104,
          11.710357682526514,
          1.7300648995704186,
          1.2295085167685156,
          5.989853469917908,
          7.324639333164354,
          0.22832397401755666,
          0.26140221762669713,
          3.7872827277486505,
          5.241923334150921,
          11.438241298604444,
          0.2438189055543324,
          3.2464032307447446,
          6.71159800766482,
          0.8933556701263742,
          0.20446645991657766,
          0.26804345652384115,
          0.22579782023699613,
          0.26854283985479066,
          0.2695954795700825,
          0.26373229053346925,
          0.8325225638847753,
          0.2221683171585242,
          7.098557227177459,
          3.472837803926899,
          0.26960830302546784,
          5.825497819503604,
          5.644088601506201,
          4.860928272774099,
          1.8766284468277181,
          5.828030214079417,
          0.7075722760844944,
          0.2695779984409557,
          2.598995508802687,
          2.484402379460429,
          1.79066229649686,
          0.26868246498783893,
          3.735842990283634,
          3.110961104453356,
          4.285820827350116,
          6.023849550615275,
          6.01219484507865,
          0.19333363078889612,
          2.1214725148092026,
          4.0024835658540185,
          8.793099508323502,
          1.6785686718896142,
          1.3051891952218735,
          4.087425446005604,
          0.23133768517917427,
          9.761200272829216,
          2.3011550105348935,
          4.540926738654048,
          6.728905135005587,
          0.23558292211677784,
          0.21419291833677653,
          7.958123806861243,
          8.052784755715962,
          1.192171604418006,
          0.26667701184110265,
          2.9207677155679885,
          0.20000057318010464,
          0.35940572736688925,
          0.2653551448773809,
          0.21956656748626838,
          7.173475661328381,
          6.736235952039809,
          0.7518959784620134,
          0.26799552368880003,
          0.26943466286795126,
          0.26466609882512454,
          0.8892217014822598,
          2.2054443664705707,
          0.26941372788770834,
          1.7880750684661586,
          1.6254663091798318,
          0.25897198482163414,
          5.837743801390791,
          5.059770355893833,
          0.2678258612977569,
          2.904479655634742,
          0.25692895907352475,
          0.19678129672471514,
          1.232701419536684,
          0.262412929822182,
          0.2643229223230438,
          2.5012270980673224,
          0.21380776737430213,
          12.942932195154997,
          3.224195972015283,
          0.27076153986288376,
          0.20516034262353303,
          2.2082918568137466,
          0.15493715171090103,
          0.2665055424588422,
          0.6971366625948655,
          2.407690672665944,
          0.01600908888908059,
          0.17690721367370965,
          1.6875282175598048,
          3.1560801382283925,
          0.24372261944655046,
          0.26949251386279643,
          5.216445214206042,
          0.26728021215799996,
          0.2875757922219519,
          0.6086812088950375,
          0.22237157017960937,
          0.2651040432877781,
          0.23028941850057744,
          0.27177983995298055,
          15.086264641023813,
          0.2656669209640315,
          0.26923140492072895,
          0.25959151049219753,
          1.9698806059442995,
          0.18200518920237868,
          6.313197525682268,
          0.2709541633743989,
          0.24090320316870795,
          0.2695251348524613,
          0.26490631634214096,
          0.26718914130478977,
          9.584552627782438,
          12.323779217329264,
          0.26806563231785724,
          9.029790844838818,
          1.5546491404266174,
          5.0074544304106965,
          2.1417746688972055,
          1.9958441787531378,
          5.296249416387861,
          1.379772056833247,
          12.507424974013404,
          2.0555997047265464,
          1.5779851499066109,
          0.2702782549110221,
          0.734147497897262,
          0.16253293535007446,
          0.23151797724678377,
          1.2527043423534483,
          0.8376784276105805,
          13.468461732066825,
          2.1954765533087657,
          2.256103428454053,
          3.314695565227336,
          3.2635498950350845,
          5.443386688176216,
          4.495595353771296,
          9.1714623264677,
          0.25975867469893554,
          0.685020839160076,
          3.3620190049170864,
          0.2670689602688873,
          0.26605092269076414,
          4.962274682007646,
          0.8185262386387676,
          3.5346220926161354,
          0.2669706629176226,
          7.2345732921365675,
          0.2672170184049409,
          0.2638459347270506,
          3.169538614109668,
          5.091568068453228,
          7.651775900083813,
          6.154191876608847,
          6.222100575704462,
          3.9155796222067356,
          0.2218595747878678,
          0.22206386984034784,
          5.4466399492912565,
          0.9476660899446101,
          5.445979322135168,
          4.990902985876556,
          13.211589135834409,
          9.755675743510196
         ],
         "x0": " ",
         "xaxis": "x",
         "y0": " ",
         "yaxis": "y"
        }
       ],
       "layout": {
        "boxmode": "group",
        "legend": {
         "tracegroupgap": 0
        },
        "template": {
         "data": {
          "bar": [
           {
            "error_x": {
             "color": "#2a3f5f"
            },
            "error_y": {
             "color": "#2a3f5f"
            },
            "marker": {
             "line": {
              "color": "#E5ECF6",
              "width": 0.5
             },
             "pattern": {
              "fillmode": "overlay",
              "size": 10,
              "solidity": 0.2
             }
            },
            "type": "bar"
           }
          ],
          "barpolar": [
           {
            "marker": {
             "line": {
              "color": "#E5ECF6",
              "width": 0.5
             },
             "pattern": {
              "fillmode": "overlay",
              "size": 10,
              "solidity": 0.2
             }
            },
            "type": "barpolar"
           }
          ],
          "carpet": [
           {
            "aaxis": {
             "endlinecolor": "#2a3f5f",
             "gridcolor": "white",
             "linecolor": "white",
             "minorgridcolor": "white",
             "startlinecolor": "#2a3f5f"
            },
            "baxis": {
             "endlinecolor": "#2a3f5f",
             "gridcolor": "white",
             "linecolor": "white",
             "minorgridcolor": "white",
             "startlinecolor": "#2a3f5f"
            },
            "type": "carpet"
           }
          ],
          "choropleth": [
           {
            "colorbar": {
             "outlinewidth": 0,
             "ticks": ""
            },
            "type": "choropleth"
           }
          ],
          "contour": [
           {
            "colorbar": {
             "outlinewidth": 0,
             "ticks": ""
            },
            "colorscale": [
             [
              0,
              "#0d0887"
             ],
             [
              0.1111111111111111,
              "#46039f"
             ],
             [
              0.2222222222222222,
              "#7201a8"
             ],
             [
              0.3333333333333333,
              "#9c179e"
             ],
             [
              0.4444444444444444,
              "#bd3786"
             ],
             [
              0.5555555555555556,
              "#d8576b"
             ],
             [
              0.6666666666666666,
              "#ed7953"
             ],
             [
              0.7777777777777778,
              "#fb9f3a"
             ],
             [
              0.8888888888888888,
              "#fdca26"
             ],
             [
              1,
              "#f0f921"
             ]
            ],
            "type": "contour"
           }
          ],
          "contourcarpet": [
           {
            "colorbar": {
             "outlinewidth": 0,
             "ticks": ""
            },
            "type": "contourcarpet"
           }
          ],
          "heatmap": [
           {
            "colorbar": {
             "outlinewidth": 0,
             "ticks": ""
            },
            "colorscale": [
             [
              0,
              "#0d0887"
             ],
             [
              0.1111111111111111,
              "#46039f"
             ],
             [
              0.2222222222222222,
              "#7201a8"
             ],
             [
              0.3333333333333333,
              "#9c179e"
             ],
             [
              0.4444444444444444,
              "#bd3786"
             ],
             [
              0.5555555555555556,
              "#d8576b"
             ],
             [
              0.6666666666666666,
              "#ed7953"
             ],
             [
              0.7777777777777778,
              "#fb9f3a"
             ],
             [
              0.8888888888888888,
              "#fdca26"
             ],
             [
              1,
              "#f0f921"
             ]
            ],
            "type": "heatmap"
           }
          ],
          "heatmapgl": [
           {
            "colorbar": {
             "outlinewidth": 0,
             "ticks": ""
            },
            "colorscale": [
             [
              0,
              "#0d0887"
             ],
             [
              0.1111111111111111,
              "#46039f"
             ],
             [
              0.2222222222222222,
              "#7201a8"
             ],
             [
              0.3333333333333333,
              "#9c179e"
             ],
             [
              0.4444444444444444,
              "#bd3786"
             ],
             [
              0.5555555555555556,
              "#d8576b"
             ],
             [
              0.6666666666666666,
              "#ed7953"
             ],
             [
              0.7777777777777778,
              "#fb9f3a"
             ],
             [
              0.8888888888888888,
              "#fdca26"
             ],
             [
              1,
              "#f0f921"
             ]
            ],
            "type": "heatmapgl"
           }
          ],
          "histogram": [
           {
            "marker": {
             "pattern": {
              "fillmode": "overlay",
              "size": 10,
              "solidity": 0.2
             }
            },
            "type": "histogram"
           }
          ],
          "histogram2d": [
           {
            "colorbar": {
             "outlinewidth": 0,
             "ticks": ""
            },
            "colorscale": [
             [
              0,
              "#0d0887"
             ],
             [
              0.1111111111111111,
              "#46039f"
             ],
             [
              0.2222222222222222,
              "#7201a8"
             ],
             [
              0.3333333333333333,
              "#9c179e"
             ],
             [
              0.4444444444444444,
              "#bd3786"
             ],
             [
              0.5555555555555556,
              "#d8576b"
             ],
             [
              0.6666666666666666,
              "#ed7953"
             ],
             [
              0.7777777777777778,
              "#fb9f3a"
             ],
             [
              0.8888888888888888,
              "#fdca26"
             ],
             [
              1,
              "#f0f921"
             ]
            ],
            "type": "histogram2d"
           }
          ],
          "histogram2dcontour": [
           {
            "colorbar": {
             "outlinewidth": 0,
             "ticks": ""
            },
            "colorscale": [
             [
              0,
              "#0d0887"
             ],
             [
              0.1111111111111111,
              "#46039f"
             ],
             [
              0.2222222222222222,
              "#7201a8"
             ],
             [
              0.3333333333333333,
              "#9c179e"
             ],
             [
              0.4444444444444444,
              "#bd3786"
             ],
             [
              0.5555555555555556,
              "#d8576b"
             ],
             [
              0.6666666666666666,
              "#ed7953"
             ],
             [
              0.7777777777777778,
              "#fb9f3a"
             ],
             [
              0.8888888888888888,
              "#fdca26"
             ],
             [
              1,
              "#f0f921"
             ]
            ],
            "type": "histogram2dcontour"
           }
          ],
          "mesh3d": [
           {
            "colorbar": {
             "outlinewidth": 0,
             "ticks": ""
            },
            "type": "mesh3d"
           }
          ],
          "parcoords": [
           {
            "line": {
             "colorbar": {
              "outlinewidth": 0,
              "ticks": ""
             }
            },
            "type": "parcoords"
           }
          ],
          "pie": [
           {
            "automargin": true,
            "type": "pie"
           }
          ],
          "scatter": [
           {
            "fillpattern": {
             "fillmode": "overlay",
             "size": 10,
             "solidity": 0.2
            },
            "type": "scatter"
           }
          ],
          "scatter3d": [
           {
            "line": {
             "colorbar": {
              "outlinewidth": 0,
              "ticks": ""
             }
            },
            "marker": {
             "colorbar": {
              "outlinewidth": 0,
              "ticks": ""
             }
            },
            "type": "scatter3d"
           }
          ],
          "scattercarpet": [
           {
            "marker": {
             "colorbar": {
              "outlinewidth": 0,
              "ticks": ""
             }
            },
            "type": "scattercarpet"
           }
          ],
          "scattergeo": [
           {
            "marker": {
             "colorbar": {
              "outlinewidth": 0,
              "ticks": ""
             }
            },
            "type": "scattergeo"
           }
          ],
          "scattergl": [
           {
            "marker": {
             "colorbar": {
              "outlinewidth": 0,
              "ticks": ""
             }
            },
            "type": "scattergl"
           }
          ],
          "scattermapbox": [
           {
            "marker": {
             "colorbar": {
              "outlinewidth": 0,
              "ticks": ""
             }
            },
            "type": "scattermapbox"
           }
          ],
          "scatterpolar": [
           {
            "marker": {
             "colorbar": {
              "outlinewidth": 0,
              "ticks": ""
             }
            },
            "type": "scatterpolar"
           }
          ],
          "scatterpolargl": [
           {
            "marker": {
             "colorbar": {
              "outlinewidth": 0,
              "ticks": ""
             }
            },
            "type": "scatterpolargl"
           }
          ],
          "scatterternary": [
           {
            "marker": {
             "colorbar": {
              "outlinewidth": 0,
              "ticks": ""
             }
            },
            "type": "scatterternary"
           }
          ],
          "surface": [
           {
            "colorbar": {
             "outlinewidth": 0,
             "ticks": ""
            },
            "colorscale": [
             [
              0,
              "#0d0887"
             ],
             [
              0.1111111111111111,
              "#46039f"
             ],
             [
              0.2222222222222222,
              "#7201a8"
             ],
             [
              0.3333333333333333,
              "#9c179e"
             ],
             [
              0.4444444444444444,
              "#bd3786"
             ],
             [
              0.5555555555555556,
              "#d8576b"
             ],
             [
              0.6666666666666666,
              "#ed7953"
             ],
             [
              0.7777777777777778,
              "#fb9f3a"
             ],
             [
              0.8888888888888888,
              "#fdca26"
             ],
             [
              1,
              "#f0f921"
             ]
            ],
            "type": "surface"
           }
          ],
          "table": [
           {
            "cells": {
             "fill": {
              "color": "#EBF0F8"
             },
             "line": {
              "color": "white"
             }
            },
            "header": {
             "fill": {
              "color": "#C8D4E3"
             },
             "line": {
              "color": "white"
             }
            },
            "type": "table"
           }
          ]
         },
         "layout": {
          "annotationdefaults": {
           "arrowcolor": "#2a3f5f",
           "arrowhead": 0,
           "arrowwidth": 1
          },
          "autotypenumbers": "strict",
          "coloraxis": {
           "colorbar": {
            "outlinewidth": 0,
            "ticks": ""
           }
          },
          "colorscale": {
           "diverging": [
            [
             0,
             "#8e0152"
            ],
            [
             0.1,
             "#c51b7d"
            ],
            [
             0.2,
             "#de77ae"
            ],
            [
             0.3,
             "#f1b6da"
            ],
            [
             0.4,
             "#fde0ef"
            ],
            [
             0.5,
             "#f7f7f7"
            ],
            [
             0.6,
             "#e6f5d0"
            ],
            [
             0.7,
             "#b8e186"
            ],
            [
             0.8,
             "#7fbc41"
            ],
            [
             0.9,
             "#4d9221"
            ],
            [
             1,
             "#276419"
            ]
           ],
           "sequential": [
            [
             0,
             "#0d0887"
            ],
            [
             0.1111111111111111,
             "#46039f"
            ],
            [
             0.2222222222222222,
             "#7201a8"
            ],
            [
             0.3333333333333333,
             "#9c179e"
            ],
            [
             0.4444444444444444,
             "#bd3786"
            ],
            [
             0.5555555555555556,
             "#d8576b"
            ],
            [
             0.6666666666666666,
             "#ed7953"
            ],
            [
             0.7777777777777778,
             "#fb9f3a"
            ],
            [
             0.8888888888888888,
             "#fdca26"
            ],
            [
             1,
             "#f0f921"
            ]
           ],
           "sequentialminus": [
            [
             0,
             "#0d0887"
            ],
            [
             0.1111111111111111,
             "#46039f"
            ],
            [
             0.2222222222222222,
             "#7201a8"
            ],
            [
             0.3333333333333333,
             "#9c179e"
            ],
            [
             0.4444444444444444,
             "#bd3786"
            ],
            [
             0.5555555555555556,
             "#d8576b"
            ],
            [
             0.6666666666666666,
             "#ed7953"
            ],
            [
             0.7777777777777778,
             "#fb9f3a"
            ],
            [
             0.8888888888888888,
             "#fdca26"
            ],
            [
             1,
             "#f0f921"
            ]
           ]
          },
          "colorway": [
           "#636efa",
           "#EF553B",
           "#00cc96",
           "#ab63fa",
           "#FFA15A",
           "#19d3f3",
           "#FF6692",
           "#B6E880",
           "#FF97FF",
           "#FECB52"
          ],
          "font": {
           "color": "#2a3f5f"
          },
          "geo": {
           "bgcolor": "white",
           "lakecolor": "white",
           "landcolor": "#E5ECF6",
           "showlakes": true,
           "showland": true,
           "subunitcolor": "white"
          },
          "hoverlabel": {
           "align": "left"
          },
          "hovermode": "closest",
          "mapbox": {
           "style": "light"
          },
          "paper_bgcolor": "white",
          "plot_bgcolor": "#E5ECF6",
          "polar": {
           "angularaxis": {
            "gridcolor": "white",
            "linecolor": "white",
            "ticks": ""
           },
           "bgcolor": "#E5ECF6",
           "radialaxis": {
            "gridcolor": "white",
            "linecolor": "white",
            "ticks": ""
           }
          },
          "scene": {
           "xaxis": {
            "backgroundcolor": "#E5ECF6",
            "gridcolor": "white",
            "gridwidth": 2,
            "linecolor": "white",
            "showbackground": true,
            "ticks": "",
            "zerolinecolor": "white"
           },
           "yaxis": {
            "backgroundcolor": "#E5ECF6",
            "gridcolor": "white",
            "gridwidth": 2,
            "linecolor": "white",
            "showbackground": true,
            "ticks": "",
            "zerolinecolor": "white"
           },
           "zaxis": {
            "backgroundcolor": "#E5ECF6",
            "gridcolor": "white",
            "gridwidth": 2,
            "linecolor": "white",
            "showbackground": true,
            "ticks": "",
            "zerolinecolor": "white"
           }
          },
          "shapedefaults": {
           "line": {
            "color": "#2a3f5f"
           }
          },
          "ternary": {
           "aaxis": {
            "gridcolor": "white",
            "linecolor": "white",
            "ticks": ""
           },
           "baxis": {
            "gridcolor": "white",
            "linecolor": "white",
            "ticks": ""
           },
           "bgcolor": "#E5ECF6",
           "caxis": {
            "gridcolor": "white",
            "linecolor": "white",
            "ticks": ""
           }
          },
          "title": {
           "x": 0.05
          },
          "xaxis": {
           "automargin": true,
           "gridcolor": "white",
           "linecolor": "white",
           "ticks": "",
           "title": {
            "standoff": 15
           },
           "zerolinecolor": "white",
           "zerolinewidth": 2
          },
          "yaxis": {
           "automargin": true,
           "gridcolor": "white",
           "linecolor": "white",
           "ticks": "",
           "title": {
            "standoff": 15
           },
           "zerolinecolor": "white",
           "zerolinewidth": 2
          }
         }
        },
        "title": {
         "text": "Relative yearly savings"
        },
        "xaxis": {
         "anchor": "y",
         "domain": [
          0,
          1
         ],
         "range": [
          0,
          15
         ],
         "title": {
          "text": "Relative yearly savings in %"
         }
        },
        "yaxis": {
         "anchor": "x",
         "domain": [
          0,
          1
         ],
         "title": {
          "text": ""
         }
        }
       }
      }
     },
     "metadata": {},
     "output_type": "display_data"
    }
   ],
   "source": [
    "rel_yearly_savings = 100 * rel_diff[\"total_yearly_costs_eur\"]\n",
    "rel_yearly_savings.name = \"Relative yearly savings in %\"\n",
    "print(rel_yearly_savings.describe().drop(\"count\").to_markdown())\n",
    "\n",
    "rel_yearly_savings_fig_df = rel_diff.copy() * 100\n",
    "rel_yearly_savings_fig_df = rel_yearly_savings_fig_df.rename(columns={\"total_yearly_costs_eur\": \"Savings\"})\n",
    "rel_yearly_savings_fig = px.box(\n",
    "    data_frame=rel_yearly_savings_fig_df,\n",
    "    x=\"Savings\",\n",
    "    title=\"Relative yearly savings\")\n",
    "rel_yearly_savings_fig.update_layout(xaxis_title=\"Relative yearly savings in %\", yaxis_title=\"\")\n",
    "rel_yearly_savings_fig.update_xaxes(range=[0, 15])\n",
    "rel_yearly_savings_fig.write_image(\"images/rel_yearly_savings_box.pdf\")\n",
    "rel_yearly_savings_fig.show()"
   ]
  },
  {
   "cell_type": "markdown",
   "id": "6aabaad2",
   "metadata": {},
   "source": [
    "## Energy costs"
   ]
  },
  {
   "cell_type": "code",
   "execution_count": 133,
   "id": "89f7f99c",
   "metadata": {},
   "outputs": [
    {
     "name": "stdout",
     "output_type": "stream",
     "text": [
      "|      |   Relative yearly energy savings savings in % |\n",
      "|:-----|----------------------------------------------:|\n",
      "| mean |                                      3.64824  |\n",
      "| std  |                                      4.35313  |\n",
      "| min  |                                      0.273224 |\n",
      "| 25%  |                                      0.273224 |\n",
      "| 50%  |                                      1.8562   |\n",
      "| 75%  |                                      5.64572  |\n",
      "| max  |                                     21.0772   |\n"
     ]
    },
    {
     "data": {
      "application/vnd.plotly.v1+json": {
       "config": {
        "plotlyServerURL": "https://plot.ly"
       },
       "data": [
        {
         "alignmentgroup": "True",
         "hovertemplate": "Savings=%{x}<extra></extra>",
         "legendgroup": "",
         "marker": {
          "color": "#636efa"
         },
         "name": "",
         "notched": false,
         "offsetgroup": "",
         "orientation": "h",
         "showlegend": false,
         "type": "box",
         "x": [
          0.2732240437161509,
          0.27322404374080766,
          0.27322404372673414,
          0.2732240437165272,
          5.259899262571658,
          9.689063112805007,
          0.42838793742113873,
          0.27322404371558884,
          0.4339991458990538,
          4.9512495531222225,
          0.2732240437159507,
          0.273224043715696,
          0.2732240437220803,
          0.2732240437170095,
          0.2732240437159595,
          9.330683849813713,
          0.2732240437147674,
          7.776547871262056,
          5.493943159308986,
          0.41887372147463975,
          0.27322404371650194,
          0.27322404371467657,
          4.102945293205991,
          0.27322404371628023,
          16.79180540738589,
          10.21935049222804,
          8.152351111022911,
          6.077536980954704,
          9.677792130871582,
          2.9304202219040976,
          3.424049245234178,
          11.181382998431948,
          0.31261197192868967,
          1.8590519405408548,
          0.2732240437156208,
          4.183263655076062,
          3.0739663293573747,
          0.8347919781903513,
          4.927560236976912,
          0.27322404371595294,
          0.27322404371694514,
          7.868541142648307,
          4.649656593538279,
          0.2732240437193948,
          0.2732240437156559,
          0.27322404371600545,
          5.001421800070785,
          0.2732240437167371,
          0.2732240437157238,
          0.27322404371584846,
          11.907005579952424,
          0.27322404371648595,
          0.27322404371654285,
          0.2732240437302894,
          0.27322404371534,
          6.854632303764056,
          0.2732240437129432,
          0.2732240437156868,
          1.9533199811551956,
          0.9976880359594712,
          7.39861727577881,
          1.8031165412852115,
          9.17440698841846,
          3.89001291776136,
          0.27322404371502973,
          12.108007408003198,
          0.27322404371372494,
          5.4387177799333175,
          15.415868640507405,
          6.723710378203881,
          4.152055458466203,
          2.7607739944046243,
          2.6024061935033727,
          7.00492915970403,
          0.2732240437162539,
          9.791634908176317,
          5.11824536163509,
          0.2732240437167565,
          4.777957469372464,
          0.2732240437204695,
          11.407029640812082,
          0.2732240437151177,
          0.2732240437159433,
          8.336036929731048,
          2.353729986380482,
          0.27322404371549497,
          2.5052788882160204,
          0.2732240437209642,
          0.2732240437136513,
          0.27322404371589665,
          13.780910668275734,
          9.41859221237166,
          1.1216221643964055,
          9.543200385908278,
          5.419920024941137,
          4.529004805083375,
          2.83183875668548,
          0.837764863112951,
          2.510037560582873,
          0.2732240437186427,
          0.27322404371783404,
          2.0327805028470536,
          2.038178624394337,
          2.505788272667776,
          4.7335305735889355,
          0.2732240437179942,
          1.8451368838703024,
          5.098033958662526,
          3.249125558289197,
          0.27322404371622944,
          5.5383703216810956,
          0.27322404370873526,
          0.6474603094246881,
          0.27322404372627396,
          0.8808445135762054,
          3.342910126545999,
          11.189533686061587,
          0.27322404371356396,
          0.2732240437159422,
          3.089206461838048,
          0.6024946068750656,
          0.27322404371740916,
          2.930417506641975,
          7.463333015835091,
          8.010391664075522,
          0.8597244876334308,
          11.221483754113393,
          6.514510659669346,
          1.9332750843166386,
          0.27322404371620884,
          15.10477662803193,
          4.07813414158047,
          14.485387677289893,
          8.078978647262097,
          0.2732240437163496,
          0.2732240437158927,
          14.527449287628524,
          0.2732240437168704,
          0.2732240437162106,
          0.27322404371580095,
          3.290571071436353,
          0.27322404371596676,
          2.8774463021740733,
          12.673611182360162,
          0.2732240437155102,
          0.27322404371637854,
          0.2732240437156177,
          3.4714717174021787,
          2.902461993433862,
          0.2732240437155571,
          8.837458107401568,
          0.2732240437169992,
          2.3380067739276233,
          1.5743839012994425,
          0.8386009158753358,
          11.839885060350243,
          0.27322404371497716,
          2.4012563388452395,
          0.4903475129854528,
          1.5596109770690108,
          7.707891134533957,
          6.0353167659923415,
          6.129440386300682,
          0.273224043715,
          9.10091037919876,
          9.828282263706548,
          3.1188491235220512,
          8.64808741103373,
          8.38590015191388,
          0.2732240437179035,
          0.27322404371629566,
          1.8703130598470241,
          1.5678003675376708,
          0.27322404371113934,
          0.2732240437153867,
          2.385982605783563,
          6.068898142187298,
          6.198905585413311,
          0.8813966019196474,
          0.27322404371521963,
          0.2732240437077531,
          1.8533429236401715,
          4.827973497551188,
          0.27322404371524545,
          4.084874821478512,
          0.2732240437182775,
          0.591070780923405,
          0.2732240437130915,
          0.2732240437160386,
          0.2732240437216209,
          0.27322404371579506,
          4.856670092277459,
          0.2732240437175266,
          9.7621324379785,
          0.27322404371608733,
          0.2732240437164893,
          0.2732240437151957,
          3.3029013302918617,
          0.27322404371638037,
          15.432570542607435,
          1.5948898866419505,
          0.27322404371740117,
          1.848099155806664,
          9.999387030410674,
          7.972161865975156,
          0.27322404371616654,
          4.263094709701354,
          4.2293190272229095,
          5.63612304030126,
          4.501350666230094,
          0.2732240437203278,
          1.8784217868587847,
          0.273224043717301,
          0.8689640174418258,
          2.5921289220800565,
          0.2732240437162885,
          1.0434081591343818,
          0.273224043715608,
          0.2732240437187788,
          0.5702833158566859,
          0.27322404371584236,
          3.249881718013366,
          2.263705798828088,
          3.4623270495869862,
          0.9516132583953266,
          14.079270864578897,
          3.5947303945714832,
          4.074869109524923,
          0.2732240437149246,
          7.847037342943978,
          6.048669141186116,
          0.27322404371283293,
          8.790421411303942,
          9.475287411655263,
          0.2732240437135668,
          0.27322404371707576,
          0.2732240437164255,
          1.7259337734918963,
          9.174588986853042,
          12.647735450787275,
          3.5948992349937114,
          2.3190427178108117,
          1.3560918007491738,
          2.884128790442963,
          0.27322404371638803,
          1.2082938818886542,
          0.27322404371667913,
          0.7330745597466418,
          0.27322404371587977,
          1.4502143272742056,
          1.2422577273674358,
          0.27322404371703196,
          1.4916864277670703,
          6.6487292003874,
          1.0953006752849437,
          3.595958949700077,
          13.431346330222702,
          10.396429661859681,
          0.2732240437160453,
          9.916436604482142,
          6.876395344350662,
          0.27322404371721853,
          1.3793271179503275,
          0.2732240437102769,
          8.849785947796942,
          1.273020587215022,
          3.9816120894565135,
          0.2732240437128437,
          0.27322404371624115,
          18.553122294424064,
          4.522305074554044,
          7.172857010707235,
          0.27322404371173337,
          0.27322404371578024,
          5.51529267325106,
          5.52920814584334,
          3.447765517547053,
          0.2732240437151884,
          2.700217180203625,
          0.2732240437096545,
          1.5019080198332735,
          1.4164843879874969,
          7.0301133777037395,
          0.2732240437103425,
          6.993064546299813,
          0.2732240437168802,
          17.09806510756416,
          4.847796258215015,
          4.869610627265419,
          3.396721261086808,
          0.2732240437165433,
          0.9869210558480668,
          7.692404909336095,
          1.542795876166908,
          0.2732240437133165,
          3.0182060112042257,
          0.273224043715979,
          0.27322404371392006,
          2.0896107461738223,
          3.8451307004725024,
          4.632981320555228,
          0.27322404371512266,
          0.27322404370421877,
          2.938717752073903,
          0.27322404372180903,
          0.27322404371903314,
          8.342555548975454,
          9.149882468818983,
          5.856251167086454,
          4.43916556333995,
          3.829391437225798,
          1.912041925639379,
          18.114910030116445,
          0.2732240437175307,
          4.33647234052997,
          0.2732240437170227,
          0.2732240437162262,
          2.0225584449361858,
          1.1643231401846128,
          3.118032976828621,
          0.2732240437162012,
          8.035915110931693,
          4.043899847750798,
          17.597254555801467,
          3.583169804809049,
          6.863954631389508,
          0.27322404371626646,
          1.7583189321196007,
          0.2732240437176433,
          0.7105088077446731,
          6.151966540971848,
          0.2732240437173195,
          0.2732240437299291,
          3.1579596360056437,
          2.3837931545193323,
          0.27322404368055864,
          0.27322404372057296,
          0.27322404371640324,
          2.5200050783394192,
          2.347524356516932,
          0.27322404371735226,
          3.4598613874166366,
          0.2732240437136553,
          0.2732240437191663,
          4.8960014495987965,
          0.27322404371906844,
          1.399105051058802,
          0.2732240437167407,
          15.960389635162114,
          0.27322404371807596,
          0.2732240437204413,
          0.2732240437200281,
          0.36449077788955314,
          0.2732240437171142,
          16.320878442311244,
          0.8877841801682339,
          16.61523654907152,
          0.2732240437141269,
          0.857362395301533,
          6.6678239144063385,
          0.2732240437316984,
          16.844576077225902,
          1.9443144875886524,
          0.38766614535333926,
          0.27322404371404235,
          9.441851384974521,
          0.27322404369672254,
          1.8191721617713035,
          1.164082458570108,
          0.2732240437155866,
          7.85864202655586,
          9.04004781209956,
          7.4275119401657275,
          0.27322404371575465,
          0.273224043715374,
          0.2732240437224954,
          0.680503785560769,
          12.52893657049825,
          0.2732240437160294,
          0.27322404371570436,
          3.71513768150526,
          0.2732240437110745,
          0.27322404371575887,
          0.2732240437158155,
          10.817726468715009,
          2.47998485921978,
          2.7230921816765337,
          0.2732240437138645,
          6.246044083318588,
          0.27322404371555004,
          0.2732240437167978,
          4.746765221323733,
          4.278028220345238,
          2.55778296389506,
          4.70969503089557,
          2.094025778866059,
          0.2732240437157004,
          0.2732240437190465,
          14.678892852188044,
          0.27322404371600917,
          10.13404987378686,
          7.664023207135879,
          0.27322404372007686,
          0.27322404371603465,
          0.27322404371593373,
          1.3968890296603445,
          11.639449920771682,
          3.5921371304595544,
          0.8774719202141167,
          0.27322404372133824,
          0.27322404371588743,
          3.3272177968997103,
          8.813223020668914,
          0.2732240437170461,
          1.584903163254012,
          1.752055580221575,
          0.2732240437156659,
          0.27322404371723874,
          6.505271398126701,
          9.189560719373112,
          0.27322404371582265,
          9.941570134620026,
          6.155475653824174,
          5.8592542983836005,
          0.2732240437173455,
          2.5629986106291183,
          0.27322404371617676,
          0.2732240437201991,
          0.2732240437254142,
          0.27322404371613174,
          1.9447892584411985,
          0.27322404371735565,
          0.2732240437170629,
          2.486491169301934,
          0.27322404371601616,
          0.6446152634090725,
          0.9977120669358731,
          0.27322404371690384,
          2.700994924436602,
          5.194165445417624,
          0.27322404371552267,
          0.2732240437171768,
          0.27322404371636205,
          12.91831202695457,
          3.7363494488511964,
          0.27322404371907755,
          0.2732240437188917,
          2.349831528923648,
          1.8205765107604779,
          0.27322404371530556,
          0.2732240437151981,
          0.2732240437147883,
          4.334446026149419,
          0.2732240437252292,
          2.047120052761747,
          2.8021849768120397,
          0.27322404371765746,
          0.27322404371463965,
          0.273224043714677,
          8.351788660361048,
          8.443001770962724,
          0.56220512684078,
          12.033414273738497,
          0.27322404371658904,
          4.569494840603696,
          0.27322404371517894,
          0.27322404371970405,
          13.444534905666265,
          0.27322404371766024,
          0.27322404371561737,
          5.772979113005587,
          6.4666539593194825,
          0.27322404372421366,
          0.27322404372293274,
          0.8557628997556367,
          3.693167460884264,
          0.27322404371563874,
          0.27322404371882636,
          12.227449557063348,
          0.2732240437273172,
          0.2732240437149489,
          4.2699770832221535,
          1.4004809222281696,
          0.273224043715111,
          3.6029054701926695,
          0.2732240437188218,
          11.835803425712307,
          4.716331997049701,
          7.362636119241459,
          0.2732240437202605,
          0.27322404373521764,
          5.7299758265297,
          3.5619788232269167,
          0.27322404372114106,
          6.9069722181810285,
          7.71962222731053,
          4.428422092278046,
          4.9670890237909155,
          1.135654747683098,
          3.0168525500206202,
          7.694433910576444,
          0.27322404371747006,
          3.8883396041944693,
          11.757117690374388,
          1.6720914388600003,
          0.27322404372737275,
          0.27322404367499475,
          3.832441892955775,
          0.27322404370347064,
          0.2732240437160185,
          0.2732240437151086,
          0.27322404375338305,
          3.61659835945976,
          3.151716223161248,
          0.2732240437151515,
          12.133928766484644,
          16.28627318462778,
          3.079068284515562,
          0.2732240437156326,
          1.0253498261455902,
          4.57794903670909,
          10.151920297426136,
          7.440716211451774,
          0.27322404371622966,
          6.270384047713288,
          1.7211865149423202,
          0.27322404371625836,
          0.27322404367842756,
          0.273224043708548,
          2.671620268217113,
          0.27322404371589015,
          0.2732240437117665,
          4.367883635164237,
          1.6566249538690987,
          5.395207971555785,
          9.071186201804087,
          7.613988410368116,
          0.27322404371722925,
          0.2732240437168878,
          0.2732240437155086,
          0.27322404371621595,
          4.196719588824722,
          2.124398473312595,
          5.229124968726399,
          1.0838372751424137,
          4.09756911584834,
          0.2732240437157224,
          0.2732240437197078,
          0.27322404371441805,
          0.2732240437271976,
          4.757477256303426,
          0.2732240437159463,
          10.671942201205322,
          0.2732240437162209,
          0.27322404371933234,
          0.2732240437164381,
          13.306624731322014,
          11.257597503131574,
          0.2732240437105871,
          7.49629135006363,
          4.476365562992052,
          0.2732240436737739,
          2.952926407564662,
          1.442285134408384,
          0.2732240437120822,
          0.2732240437170781,
          3.754924537209172,
          0.2732240436950878,
          5.974143437832248,
          3.1813541589827574,
          0.2732240437157828,
          0.27322404371597214,
          0.3257419637232093,
          17.782468678509517,
          12.921173578648263,
          0.2732240437220637,
          0.27322404372045384,
          0.27322404370722175,
          5.935298651906307,
          4.919405694027271,
          0.27322404371642905,
          0.2732240437134648,
          0.3332582757786346,
          0.2732240437170791,
          16.64866520335451,
          15.852675873923214,
          12.464671764610769,
          14.519776968621423,
          11.22462521690838,
          18.662306825382302,
          0.2732240437082453,
          21.07720989295401,
          0.2732240437144085,
          15.820686138984069,
          0.27322404372030434,
          0.7180465004271313,
          0.27322404371346976,
          14.275975706052929,
          11.72418741817468,
          12.977527705714115,
          9.220415203076731,
          0.27322404371697795,
          0.27322404371565645,
          2.577926160695331,
          10.313520544387451,
          1.3681840994108785,
          0.27322404371647113,
          0.27322404372758485,
          0.2732240437182495,
          1.29764782357275,
          9.556421795165535,
          3.6774176786370174,
          4.608144742374324,
          3.9106641432317812,
          4.908762655071569,
          1.9782855558442818,
          4.425124054498996,
          1.2767316555792283,
          1.9084012968164854,
          0.2732240437147061,
          0.27322404371626824,
          1.4634561646394038,
          3.451160237044652,
          0.2732240437166776,
          0.2732240437166293,
          0.27322404371562586,
          5.558846524934732,
          9.96806382840376,
          4.197705478110219,
          0.2732240437160488,
          0.2732240437272329,
          0.2732240437166454,
          0.4815283781945386,
          0.27322404370182035,
          0.5707539101295426,
          0.2732240437335057,
          0.5135323447158333,
          0.2732240436874994,
          0.27322404371654474,
          4.6634674461680765,
          3.1223077409707143,
          3.452979641303336,
          3.4440964387418025,
          7.3004802562595765,
          4.91333678118868,
          7.051811096841735,
          4.48679783507114,
          7.692297798032833,
          0.27322404371804404,
          1.8026116887047015,
          0.27322404372479947,
          0.2732240437147368,
          7.001663647706464,
          11.274940077613723,
          0.27322404371745174,
          3.7867066285413933,
          5.544195882806215,
          3.9660841619731366,
          1.2612269279485568,
          1.8616393349811096,
          0.27322404371636105,
          3.614256059339274,
          11.341276054811825,
          0.273224043714659,
          1.2560451136450301,
          0.27322404371542874,
          1.6337995491454333,
          4.480097179060662,
          0.2732240437147747,
          9.321255145395435,
          3.9577844658836665,
          0.27322404371602493,
          0.2732240437188171,
          0.2732240437185397,
          1.2195291201240555,
          3.705973417511954,
          0.35750525443373604,
          4.36254356710338,
          0.2732240437161687,
          9.900505297146864,
          3.2703838441881525,
          10.569607865447885,
          3.4685004735301117,
          12.584669987946723,
          0.27322404371773634,
          16.177317615009564,
          6.997021795243411,
          4.009531136017996,
          0.2732240437154608,
          0.628108824556888,
          12.825329909353064,
          17.885330581700504,
          0.27322404371276365,
          13.862790129441235,
          1.5448214889041423,
          6.864641881497811,
          11.444114716273763,
          3.8652569028382087,
          0.27322404371562325,
          4.464368359655024,
          0.2732240437162879,
          1.170632189011324,
          1.5238546405776263,
          0.2732240437161117,
          7.754796519692476,
          0.2732240437251923,
          14.660821568096043,
          13.999495583344407,
          0.27322404371608167,
          0.2732240437161875,
          6.1363234491805345,
          0.27322404371782727,
          0.870366252419651,
          11.974915565150324,
          0.2732240437134627,
          0.27322404371545905,
          0.27322404371078085,
          0.2732240437161613,
          4.941670262754587,
          3.2772556976068965,
          4.107837423694524,
          5.559552642426326,
          0.27322404371681797,
          3.0304021791254465,
          3.2647528818037896,
          6.742366734879076,
          7.075638914834643,
          15.834523260833212,
          0.27322404372012715,
          3.425239920598881,
          1.6360942708572894,
          0.27322404371105996,
          0.2732240437159128,
          3.7711525836902196,
          0.27322404371511005,
          0.27322404371713005,
          0.2732240437182488,
          0.27322404371577347,
          0.273224043714668,
          4.250263558138935,
          6.392605840379212,
          0.8191224218204243,
          4.330705908429298,
          0.2732240437235207,
          3.4492600339847588,
          0.2812048107169886,
          0.27322404371569614,
          10.353512622798663,
          8.827479859523857,
          12.97990661752156,
          1.4162396890603355,
          2.777291000543274,
          4.794672710634368,
          1.8904170916134988,
          0.8213327351461821,
          1.7080294863068466,
          1.2005574855397771,
          0.2732240437171164,
          10.334328071663966,
          4.544685381706591,
          0.2732240437135132,
          8.620060230570687,
          0.27322404371671544,
          17.433001228952268,
          0.5690390994864714,
          4.0318952190545865,
          5.621564391205941,
          0.2732240437165957,
          6.893786684738784,
          2.2647716398764324,
          2.1456617997432095,
          8.085438472391198,
          12.313524232460999,
          3.710199025940896,
          10.335871917307035,
          0.27322404371572806,
          12.895091463711147,
          0.27322404371552067,
          4.347953348848475,
          4.285998120236576,
          0.2732240437154186,
          0.27322404368841824,
          0.2732240437253733,
          0.2732240437105342,
          8.420495711919123,
          0.2732240437188468,
          8.505472948225384,
          0.27322404372521114,
          0.2732240437165801,
          5.736706190477115,
          13.753424474867016,
          0.27322404371402376,
          0.27322404371618253,
          13.60772005191207,
          7.754161031145403,
          4.960235268752058,
          10.848613017503315,
          11.15495538176223,
          0.2732240437155845,
          2.281020073794086,
          17.01951940311926,
          8.265751589916198,
          0.2732240437178529,
          0.27322404371506726,
          0.2732240437005296,
          0.2732240437166286,
          0.27322404371312875,
          2.9710943499560742,
          0.27322404371577,
          0.2732240437159409,
          0.2732240437162231,
          0.27322404371684783,
          0.7261218265396877,
          1.9257376036240659,
          0.27322404371580744,
          2.030127830774845,
          0.8330266915642539,
          0.27322404371572556,
          0.6048458970444737,
          4.145131956236655,
          7.2891984196174056,
          0.2732240437155191,
          16.562156177131868,
          0.27322404371526376,
          0.27322404371427095,
          0.2732240436977149,
          6.365303041823996,
          1.9532093276884863,
          0.2732240437154374,
          0.2732240437090626,
          0.2732240437140086,
          0.2732240437171676,
          0.2732240437153549,
          8.50889428156221,
          2.1920251209705017,
          0.273224043716266,
          2.183555177409569,
          13.476631880968219,
          0.273224043715417,
          10.321663148851322,
          1.0383819430962216,
          0.27322404371481446,
          9.13902176115078,
          0.27322404371701026,
          8.002653437278909,
          1.1287351711185671,
          0.2732240437150487,
          6.504106111333995,
          4.827910357391906,
          10.065947941393132,
          0.2732240437203711,
          9.370031528886619,
          4.357382231975942,
          6.513728791257112,
          0.45787931417923133,
          4.42516395158838,
          0.2732240437155845,
          1.801797711229396,
          11.791113167048511,
          3.731013203913495,
          1.7492415108018304,
          2.921055124837559,
          1.5642451869153917,
          9.102975360838117,
          0.27322404373097786,
          0.2732240437228477,
          0.2732240437163361,
          10.0629978650803,
          0.2732240436841502,
          0.27322404371679054,
          1.3374174188491739,
          6.331848496721841,
          6.650576651812622,
          8.335841423082488,
          0.2732240437159626,
          2.515217217854726,
          4.4035045191994735,
          0.27322404371591363,
          6.751034723173239,
          3.8040372665343347,
          5.164057310691967,
          0.27322404371561365,
          0.27322404371593123,
          9.551202604067688,
          0.27322404371621717,
          3.9542571832910616,
          4.762671127993776,
          5.905142553815806,
          4.503464025248208,
          9.720071713407307,
          0.27322404371559716,
          0.273224043713869,
          0.2732240437148197,
          8.211485295131132,
          0.2732240437155256,
          1.4705942414582867,
          7.151252315053279,
          0.4537708252616901,
          1.098821986063823,
          0.2732240437156263,
          7.311330509768838,
          1.4483337795545932,
          10.795088062138458,
          2.7899871315603115,
          5.859249479356605,
          2.3307178146640233,
          0.273224043720979,
          2.4036018136501935,
          2.821897977034068,
          0.2732240437008585,
          2.1200010577603132,
          0.2732240437156841,
          0.27322404367259134,
          0.2732240437193781,
          0.27322404370549985,
          0.27322404372033826,
          0.27322404371214165,
          5.1651306190879485,
          0.2732240437102396,
          7.3296366196005325,
          5.848391378094156,
          16.75409595594029,
          0.27322404371558284,
          0.27322404371614456,
          9.619426310654257,
          0.27322404372060805,
          6.981121142627505,
          0.37983835099705976,
          9.68331969710539,
          13.726105098448416,
          8.899950859521773,
          0.2732240437136749,
          7.158990270027736,
          0.2732240437165865,
          0.27322404371623843,
          2.858590539036786,
          6.365435081006406,
          0.27322404371712844,
          2.4586299741587645,
          0.2732240437146896,
          2.526324414744337,
          4.915067335986556,
          0.27322404371637826,
          1.9517256565285963,
          6.72563168917806,
          0.27322404371628056,
          0.2732240437148904,
          2.3782968664314272,
          0.2732240437157767,
          3.033502526382696,
          0.27322404371114223,
          5.6745255621583865,
          4.387569914750723,
          6.3305243540648215,
          4.863701200564235,
          12.956009721912048,
          2.9711985022216365,
          1.072682006141112,
          2.6283947382060995,
          7.59424519846952,
          4.516345947925295,
          4.553531394243268,
          4.657147204545034,
          0.27322404371625336,
          7.222350983418971,
          6.665849147261491,
          2.7559635910918776,
          2.5563678916146833,
          16.204292721838463,
          2.332256617749948,
          0.2732240437161796,
          1.0973089232117743,
          0.27322404371675335,
          0.27322404371943343,
          3.5867200249180886,
          1.7427575718700878,
          0.27322404371622966,
          0.27322404371639364,
          0.27322404372781767,
          5.705812953306007,
          0.2732240437199491,
          2.766444689323478,
          0.2732240437154119,
          3.3063463691432515,
          3.092736668928863,
          5.249056182731785,
          2.160536917178344,
          0.27322404372767906,
          0.2732240437168121,
          0.2732240437161349,
          0.27322404371677483,
          0.27322404371571846,
          0.5733079421016254,
          0.27322404371529563,
          2.870089397329013,
          0.27322404371552095,
          6.811709015672735,
          4.164760500851607,
          0.2732240436990008,
          3.052342133808416,
          0.2732240437160921,
          3.5547239302468094,
          0.2732240437149375,
          0.27322404371278736,
          0.27322404369767106,
          0.27322404373014986,
          0.2732240437076099,
          0.2732240437196332,
          0.2732240437175075,
          0.27322404371550474,
          19.699832442576557,
          4.82910215248266,
          18.641286451617326,
          16.830945585735872,
          16.687329608048362,
          14.438464520520435,
          0.27322404371585673,
          12.509829950023772,
          0.273224043676799,
          4.162096477864871,
          1.804048739204243,
          0.44100933997832564,
          13.67536926885768,
          0.27322404371628267,
          1.9851379516597798,
          2.2290422090817006,
          3.2112581944632645,
          4.391690024615276,
          6.367739700559265,
          0.8908426478326434,
          0.27322404371620806,
          5.431741890809983,
          4.111002054963371,
          5.9348619450379365,
          6.312422918608278,
          0.2732240437183946,
          14.469330549610007,
          13.990725801712514,
          3.279905553521678,
          0.27322404371480535,
          2.960839995350195,
          10.648049889495752,
          0.2732240437057287,
          0.2732240437171861,
          0.273224043715526,
          6.805396200024444,
          9.75528654900496,
          1.0874661356734352,
          0.27322404372903925,
          7.926650199105752,
          7.244227629174341,
          6.36422745503997,
          2.9179200356110786,
          0.27322404371776154,
          7.4790878291413785,
          7.591042601208995,
          8.51799424371389,
          13.835081581630467,
          0.273224043750638,
          6.776638873179971,
          0.27322404371523734,
          0.2732240437185389,
          0.27322404371633136,
          3.1145448480368625,
          0.2732240437233724,
          0.2732240437337107,
          1.1987116934481543,
          2.147417240242088,
          6.353998776843859,
          0.9844155304988764,
          0.2732240437160962,
          0.27322404371628695,
          0.27322404372727255,
          3.196797191413761,
          0.27322404371712156,
          6.258405648880602,
          3.3563612659378297,
          1.309513777863415,
          0.27322404371514364,
          6.64121171229045,
          0.2732240437187905,
          0.27322404371733344,
          2.1112850286722327,
          0.27322404371446946,
          6.826574103772194,
          0.273224043715746,
          6.550289875364452,
          4.849867189800717,
          3.9044018591563625,
          6.994724917174505,
          3.077050632965573,
          5.058342617930497,
          5.964831518503965,
          7.776063165180711,
          0.27322404371561365,
          4.468190428118823,
          0.2732240437158823,
          0.27322404369374426,
          0.27322404370388137,
          6.697088872187716,
          8.711003711143535,
          13.077672351505196,
          5.324354252946437,
          2.357888546404508,
          9.377170328695424,
          3.404251087451835,
          6.4226405428829185,
          8.735684557724326,
          4.112332435116165,
          0.2732240437236458,
          8.394842007269116,
          0.2732240437173442,
          0.2732240437169278,
          0.27322404371739345,
          1.8856934616009444,
          11.224176175791913,
          0.2732240437164589,
          0.27322404372164216,
          0.44469632355983907,
          8.316385792990124,
          0.2732240437159172,
          2.1605535557043707,
          3.1691537840964097,
          4.002183641502391,
          1.1226877880550383,
          3.5260373562880485,
          0.2732240437162726,
          3.6644691229835438,
          1.0786981749607583,
          0.6395658182498201,
          3.2483763123240355,
          0.27322404371575343,
          3.5455201379272996,
          1.1757781818511452,
          1.0794549078755,
          2.666466586978048,
          0.27322404371604964,
          1.3132215684149517,
          0.2732240437182928,
          0.2732240437184103,
          0.27322404371653364,
          5.156003668276831,
          1.3506384456041611,
          0.5934118186644016,
          15.190740000856696,
          0.27322404372525283,
          0.6725446100457136,
          0.27322404371169423,
          0.96042632591847,
          2.505874958974423,
          13.557225499444344,
          2.4703924434457623,
          0.2732240437360721,
          0.5847511943743658,
          1.6733314889988433,
          0.27322404367521097,
          5.290968863794505,
          3.4827616675217805,
          0.27322404371507913,
          2.2727878338687493,
          5.695923139634309,
          0.9227323611262227,
          4.61120307653754,
          0.8328174869958367,
          9.263422756384536,
          2.8096955878025995,
          0.27322404374655934,
          0.2732240437173938,
          0.27322404371515585,
          0.2732240437155266,
          0.2732240437157727,
          0.2732240437197683,
          5.085892603282248,
          5.687177763584604,
          0.41818812720107224,
          0.2732240437236205,
          0.27322404371868636,
          10.475213395976416,
          5.4997195801235055,
          0.9133685653861535,
          0.2732240436901606,
          2.1090257622171427,
          5.276870652251614,
          2.7381491639741258,
          0.4963011611774426,
          7.544871469868192,
          0.2732240437198004,
          0.2732240437150236,
          4.822628286587213,
          0.27322404367452013,
          0.27322404371599934,
          0.9649728026360289,
          2.4627184481390074,
          0.27322404371443776,
          0.27322404372043896,
          1.7525773716797162,
          3.946060155980423,
          0.2732240437151385,
          11.846426539108293,
          4.477846327453778,
          5.565354612540667,
          2.6759841925527743,
          1.0525265339021725,
          5.910212310130899,
          3.991589716751087,
          11.677795163025985,
          0.2732240436883641,
          3.821039400413368,
          2.22186134109733,
          0.27322404371685455,
          2.3635714500951037,
          0.2732240437157032,
          3.9460964457196406,
          10.603404598017088,
          1.0851562217077442,
          0.27322404371297127,
          0.2732240437156446,
          11.852059030453201,
          0.2732240437155141,
          0.2732240437366823,
          7.896120713709455,
          1.1222610101236687,
          5.595889475903283,
          0.273224043703907,
          0.2732240437162124,
          2.404327395584426,
          0.5176693726876809,
          14.245853495732314,
          0.27322404371587705,
          0.2732240437155209,
          0.2732240437190723,
          3.4161410101031424,
          7.278360968689674,
          5.312573879609558,
          0.2732240437148933,
          5.568914676572452,
          0.27322404371690284,
          9.444584790353344,
          1.8943787770276277,
          0.2732240437205608,
          3.8928538275262756,
          4.584669699427746,
          9.191673273981166,
          0.27322404371652653,
          0.2732240437173948,
          0.27322404371491604,
          3.391808905512559,
          3.760134249397235,
          8.670493404290717,
          0.2732240437158077,
          0.27322404371644654,
          3.253794153399968,
          1.6446546561098125,
          1.4436037506710087,
          0.2732240437155927,
          20.730794611210676,
          0.2732240437164019,
          0.27322404371907444,
          0.27322404371918196,
          0.2732240436996465,
          0.27322404371794223,
          0.2732240437135726,
          14.32383444664899,
          3.011021644893991,
          0.273224043719729,
          0.2732240437164395,
          17.82376976931116,
          0.27322404371702763,
          0.2732240437159193,
          0.27322404371340137,
          0.8747776459223604,
          0.2732240437210022,
          5.0275080687074185,
          0.2732240437154741,
          0.273224043712381,
          0.3453175627789186,
          0.2732240437158287,
          0.5559292414507846,
          16.34068720740022,
          18.331661107031703,
          2.317797846287812,
          2.717849760304398,
          0.819397139235162,
          4.610204270069646,
          0.2732240437141436,
          3.2962221620167598,
          16.30934708431363,
          14.300265986706131,
          13.291805916990556,
          3.211143866818074,
          0.39180170682729454,
          16.209038544988246,
          2.1948467449630567,
          4.171748169950136,
          7.835372688342063,
          1.6426805829918092,
          4.479279758781008,
          2.9374004388731936,
          0.2732240437166444,
          11.251556096066654,
          0.2732240437039488,
          8.695075603700003,
          14.65637273521318,
          2.918383760206285,
          2.8659616712959677,
          1.5856972806292988,
          5.559946160484545,
          1.7966721829299432,
          0.2732240437163855,
          2.317529597725112,
          0.2732240437161253,
          1.4859622825214973,
          5.889755145961309,
          0.27322404371137576,
          5.323167010986161,
          0.27322404371709336,
          1.885842842624932,
          0.7234207797662267,
          0.2732240437429429,
          8.20562338561778,
          4.860133882484521,
          6.695813184342517,
          0.2732240437159475,
          0.2732240437156411,
          6.008943445088553,
          17.205359123245476,
          15.61519570286927,
          12.905070605061786,
          8.737374479938198,
          12.15016668181589,
          0.27322404370969067,
          4.808372487268764,
          0.27322404371661724,
          0.27322404371535236,
          7.628635115651912,
          2.859424924468243,
          1.4732411875452305,
          3.5935492463411505,
          3.599294321796947,
          3.6722472220572544,
          7.7156565709131915,
          2.515145354009033,
          10.659610521966718,
          0.27322404371603154,
          6.753215981292255,
          0.27322404371635295,
          0.39941900430125066,
          13.193706037813799,
          0.2732240437174919,
          3.736433024560958,
          0.6316552075169177,
          5.796783521432748,
          0.27322404371630604,
          4.194871726275559,
          1.9634683776346984,
          7.6078911915278615,
          6.008001820499266,
          0.2732240437091,
          0.273224043722611,
          2.361440586910809,
          16.449477001039188,
          10.337439389999439,
          7.847036214354315,
          5.790838941087407,
          3.5067080734382743,
          0.2732240437161947,
          6.9908325588288704,
          0.27322404371602865,
          5.333736849272525,
          0.27322404371497866,
          0.27322404371581166,
          0.2732240437170532,
          12.474973222551988,
          15.041829413561656,
          2.2272258013254342,
          0.2732240437070225,
          0.40937742698065205,
          5.564676454215119,
          9.622881282669333,
          0.2732240437187712,
          5.929998988726556,
          0.2732240437102156,
          0.5516830043147698,
          0.27322404371549497,
          1.8313529031355253,
          2.3312443463627464,
          1.237348517522843,
          6.846313476861164,
          1.410794169017207,
          0.2732240437470503,
          14.192415616609777,
          0.2732240437148581,
          3.7536091875825432,
          1.3091850179744389,
          0.2732240437160792,
          9.908516593582512,
          2.744177010024682,
          2.7499368676968925,
          0.27322404371621756,
          4.948748856776496,
          2.8061036202650236,
          0.27322404372801296,
          7.292386480505164,
          5.419334481441769,
          6.547056362058881,
          9.440008748616838,
          9.144015354059169,
          3.7622803426507345,
          4.735650422169314,
          9.808388880154867,
          0.2732240437230625,
          2.6023984633269093,
          6.161853123507191,
          12.281453685682962,
          13.805623868999712,
          2.06752196920439,
          8.548268362512086,
          0.2732240437136188,
          0.273224043715932,
          0.2732240437157485,
          4.8195034827243095,
          0.27322404371420006,
          5.025570102809892,
          13.46776115947449,
          7.471939806373518,
          1.7576647289862104,
          6.104693318477115,
          5.429707087411857,
          0.2732240437144826,
          0.27322404371627157,
          1.1517871466167027,
          2.161654982598061,
          0.27322404371458964,
          0.2732240437150489,
          8.933989961046784,
          0.2732240437142167,
          3.6251614468550986,
          0.2732240437158217,
          17.080116866441163,
          1.8499684762236428,
          0.2732240437129826,
          13.305956273581959,
          0.27322404372520337,
          1.759228685101268,
          18.870137489175296,
          0.2732240437138264,
          1.0656501753093603,
          17.09001110105756,
          0.27322404372004266,
          0.27322404371036435,
          8.593930868875416,
          0.2732240437145949,
          0.27322404371696796,
          0.2732240437075086,
          2.1281091488855717,
          5.348832591316606,
          0.2732240437342065,
          3.2842020474033085,
          0.6257152720920162,
          0.2732240437156658,
          0.2732240437148795,
          12.108405257339227,
          13.145749895789264,
          0.2732240437172621,
          10.338032625775782,
          13.290781454256953,
          0.2732240437161888,
          6.58321483904683,
          0.27322404371861986,
          0.27322404371617526,
          0.2732240437165223,
          3.3201720291675576,
          8.656480932767298,
          0.27322404371572917,
          3.403689016565031,
          0.27322404370348713,
          0.273224043718531,
          4.466858557659488,
          4.861040881881235,
          0.2732240437059546,
          0.27322404370936604,
          15.120857982403587,
          0.8729820129276677,
          0.5117541458430438,
          3.6881342164090105,
          0.8236706914864023,
          0.41199011297459653,
          2.747520001645614,
          0.2732240437157234,
          9.53680346322939,
          0.9505181453312708,
          14.414110282931256,
          0.27322404371627723,
          2.4008859963348574,
          16.434483150063322,
          12.04221758093373,
          7.561851043099692,
          0.8086682601682151,
          2.746391839218522,
          0.2732240437112935,
          0.2732240436977246,
          0.6431684643628217,
          11.71861207552943,
          1.1026690012936187,
          6.363625970883207,
          0.2732240437161812,
          6.028670736684577,
          0.2732240437211422,
          0.27322404371529024,
          9.303502402962128,
          7.356102917047756,
          0.27322404371657283,
          4.3323526698574835,
          0.2732240437165199,
          7.760996622292036,
          4.015347647181624,
          0.2732240437146644,
          3.0389407815806866,
          6.719436046565732,
          5.321796957001746,
          1.2757846171475147,
          0.27322404371812387,
          0.2732240437293689,
          3.7364661555644636,
          0.2732240437163275,
          0.27322404371879444,
          0.2732240437173925,
          0.27322404370504255,
          0.445709432983087,
          1.8853184847177056,
          0.2732240437162275,
          12.808018294605825,
          8.889632662119457,
          3.6373928570519944,
          13.761330321745715,
          0.27322404371560116,
          0.2732240436692807,
          2.3166024481051863,
          7.664333788082256,
          0.27322404371703973,
          10.908314007163849,
          0.2732240437152178,
          10.010673388232739,
          11.337402879714077,
          4.784967812466405,
          1.2284945643010101,
          11.995154929634747,
          5.455356232338009,
          12.888644613990738,
          0.273224043718936,
          2.3216593301518222,
          5.944184250562782,
          0.27322404371670383,
          0.2732240437123569,
          4.774033867135414,
          0.27322404372616693,
          0.27322404371581566,
          11.093738855416898,
          12.398288533784353,
          0.2732240437180673,
          3.9865445566795574,
          0.2732240437127832,
          1.2608615487243287,
          0.27322404373285053,
          0.27322404372145076,
          14.74770066752306,
          2.4429931387292605,
          0.2732240437156987,
          3.8731731662164806,
          0.27322404364032565,
          0.27322404371587183,
          0.2732240437081026,
          3.209795283240563,
          4.675903693250849,
          1.6634272233282257,
          0.2732240437157941,
          6.619536827920043,
          0.2732240437154954,
          0.2732240437226461,
          3.3858957020049334,
          8.150092452426804,
          8.937946732081596,
          1.8307589455481148,
          0.27322404371489034,
          2.9471116870528324,
          3.9400176966234657,
          3.9232801690009746,
          0.2732240437192641,
          7.452070355352049,
          2.248512692449205,
          0.27322404371658293,
          0.2732240437141022,
          1.8985263311788354,
          0.2732240437171378,
          0.27322404371657605,
          12.294206620490145,
          8.962106904238683,
          14.981474949199324,
          2.1559602600342953,
          1.4915615950586936,
          7.674263462161051,
          9.15929653411663,
          0.27322404372045417,
          0.2732240437157239,
          4.877904541153566,
          8.273177419000092,
          14.612337313023586,
          0.27322404371393344,
          4.26097225809211,
          8.680688096488277,
          1.078297698881539,
          0.2732240437161615,
          0.2732240437144948,
          0.27322404371690034,
          0.2732240437153539,
          0.27322404371610454,
          0.27322404372271325,
          0.9974765431576167,
          0.27322404371599956,
          8.78514028034493,
          4.42842929702556,
          0.2732240437160292,
          7.602147229209807,
          7.290757929480073,
          7.135056240316835,
          2.4400666936413287,
          7.347467456694876,
          0.8283864103019462,
          0.27322404371638387,
          3.8719521815689357,
          4.358652369190224,
          2.6355990726978655,
          0.2732240437165897,
          4.6554914146668835,
          3.9596010192459468,
          5.468516419878906,
          7.546145495262925,
          7.631095207809125,
          0.27322404371493464,
          2.66427512847525,
          5.1403411448328225,
          11.097629995020016,
          2.111174872927034,
          1.6148636497000681,
          6.1444674048267585,
          0.27322404371796993,
          12.709595159865675,
          2.878853543739608,
          5.728310512614125,
          8.445304576065839,
          0.2732240437173229,
          0.2732240437149715,
          10.602247149341903,
          10.445118643100198,
          2.2453933827976282,
          0.27322404371434883,
          3.6639000975245577,
          0.27322404370925746,
          0.4928383872765233,
          0.2732240437159649,
          0.27322404373371556,
          9.12179663451801,
          8.322889068120427,
          1.1067420710826545,
          0.27322404371541315,
          0.2732240437153939,
          0.27322404372262804,
          1.0537500321507276,
          2.812385915302712,
          0.2732240437149283,
          2.47638246525355,
          2.0795053749041683,
          0.27322404371606807,
          7.441780736372058,
          6.548928425856386,
          0.27322404371556824,
          3.6049211668228596,
          0.27322404371516046,
          0.27322404371443726,
          2.325914504227096,
          0.2732240437154391,
          0.27322404371802483,
          3.1481584057647276,
          0.27322404371664333,
          16.77268988001478,
          3.96233639771726,
          0.273224043716553,
          0.2732240437130418,
          2.774727349274226,
          0.2732240436994744,
          0.2732240437142981,
          0.8254755773223965,
          3.019370006408315,
          0.27322404371582687,
          0.2732240437189369,
          2.0891435637756306,
          4.0147604235889265,
          0.27322404372071607,
          0.27322404371673537,
          6.524282312270721,
          0.27322404371512965,
          0.2952743484163503,
          0.7153196050479796,
          0.2732240437149511,
          0.27322404371459946,
          0.2732240437158498,
          0.27322404371513853,
          19.68759374819246,
          0.2732240437162316,
          0.27322404371722014,
          0.27322404371518605,
          2.535348816266976,
          0.273224043729111,
          7.675653970228577,
          0.27322404371144005,
          0.2732240437165286,
          0.2732240437152661,
          0.27322404371466186,
          0.2732240437162243,
          12.718102084208812,
          15.910605911815685,
          0.2732240437159251,
          11.458053126809752,
          1.9343457272215097,
          6.247761274505856,
          4.071520329532655,
          3.2659360763577485,
          6.851346251626943,
          2.178300953020779,
          16.018647715449948,
          2.5210707449394376,
          1.8922054871276992,
          0.27322404371356507,
          0.8574778490001446,
          0.2732240437160748,
          0.27322404371731374,
          1.8104899898606284,
          1.4696364475626646,
          17.217735027709725,
          2.7076120447792547,
          3.336537463176186,
          4.2560353697768605,
          4.115533830342485,
          6.770650578018131,
          5.752920249301698,
          11.740358022469325,
          0.2732240437159526,
          0.8037435063115528,
          4.131533064430359,
          0.27322404371644726,
          0.2732240437187094,
          6.414148692797178,
          0.9661779720671582,
          4.81045337430288,
          0.27322404372296233,
          9.190658273498213,
          0.27322404371564935,
          0.2732240437167297,
          4.900859423890819,
          8.198614724027685,
          9.961653395789947,
          7.831553196093899,
          7.583733049638193,
          6.432614409281902,
          0.27322404371692843,
          0.2732240437218475,
          7.045926498275019,
          1.1528792747564742,
          7.026284964035071,
          6.469576606886155,
          16.843754617304878,
          12.523362990026971
         ],
         "x0": " ",
         "xaxis": "x",
         "y0": " ",
         "yaxis": "y"
        }
       ],
       "layout": {
        "boxmode": "group",
        "legend": {
         "tracegroupgap": 0
        },
        "template": {
         "data": {
          "bar": [
           {
            "error_x": {
             "color": "#2a3f5f"
            },
            "error_y": {
             "color": "#2a3f5f"
            },
            "marker": {
             "line": {
              "color": "#E5ECF6",
              "width": 0.5
             },
             "pattern": {
              "fillmode": "overlay",
              "size": 10,
              "solidity": 0.2
             }
            },
            "type": "bar"
           }
          ],
          "barpolar": [
           {
            "marker": {
             "line": {
              "color": "#E5ECF6",
              "width": 0.5
             },
             "pattern": {
              "fillmode": "overlay",
              "size": 10,
              "solidity": 0.2
             }
            },
            "type": "barpolar"
           }
          ],
          "carpet": [
           {
            "aaxis": {
             "endlinecolor": "#2a3f5f",
             "gridcolor": "white",
             "linecolor": "white",
             "minorgridcolor": "white",
             "startlinecolor": "#2a3f5f"
            },
            "baxis": {
             "endlinecolor": "#2a3f5f",
             "gridcolor": "white",
             "linecolor": "white",
             "minorgridcolor": "white",
             "startlinecolor": "#2a3f5f"
            },
            "type": "carpet"
           }
          ],
          "choropleth": [
           {
            "colorbar": {
             "outlinewidth": 0,
             "ticks": ""
            },
            "type": "choropleth"
           }
          ],
          "contour": [
           {
            "colorbar": {
             "outlinewidth": 0,
             "ticks": ""
            },
            "colorscale": [
             [
              0,
              "#0d0887"
             ],
             [
              0.1111111111111111,
              "#46039f"
             ],
             [
              0.2222222222222222,
              "#7201a8"
             ],
             [
              0.3333333333333333,
              "#9c179e"
             ],
             [
              0.4444444444444444,
              "#bd3786"
             ],
             [
              0.5555555555555556,
              "#d8576b"
             ],
             [
              0.6666666666666666,
              "#ed7953"
             ],
             [
              0.7777777777777778,
              "#fb9f3a"
             ],
             [
              0.8888888888888888,
              "#fdca26"
             ],
             [
              1,
              "#f0f921"
             ]
            ],
            "type": "contour"
           }
          ],
          "contourcarpet": [
           {
            "colorbar": {
             "outlinewidth": 0,
             "ticks": ""
            },
            "type": "contourcarpet"
           }
          ],
          "heatmap": [
           {
            "colorbar": {
             "outlinewidth": 0,
             "ticks": ""
            },
            "colorscale": [
             [
              0,
              "#0d0887"
             ],
             [
              0.1111111111111111,
              "#46039f"
             ],
             [
              0.2222222222222222,
              "#7201a8"
             ],
             [
              0.3333333333333333,
              "#9c179e"
             ],
             [
              0.4444444444444444,
              "#bd3786"
             ],
             [
              0.5555555555555556,
              "#d8576b"
             ],
             [
              0.6666666666666666,
              "#ed7953"
             ],
             [
              0.7777777777777778,
              "#fb9f3a"
             ],
             [
              0.8888888888888888,
              "#fdca26"
             ],
             [
              1,
              "#f0f921"
             ]
            ],
            "type": "heatmap"
           }
          ],
          "heatmapgl": [
           {
            "colorbar": {
             "outlinewidth": 0,
             "ticks": ""
            },
            "colorscale": [
             [
              0,
              "#0d0887"
             ],
             [
              0.1111111111111111,
              "#46039f"
             ],
             [
              0.2222222222222222,
              "#7201a8"
             ],
             [
              0.3333333333333333,
              "#9c179e"
             ],
             [
              0.4444444444444444,
              "#bd3786"
             ],
             [
              0.5555555555555556,
              "#d8576b"
             ],
             [
              0.6666666666666666,
              "#ed7953"
             ],
             [
              0.7777777777777778,
              "#fb9f3a"
             ],
             [
              0.8888888888888888,
              "#fdca26"
             ],
             [
              1,
              "#f0f921"
             ]
            ],
            "type": "heatmapgl"
           }
          ],
          "histogram": [
           {
            "marker": {
             "pattern": {
              "fillmode": "overlay",
              "size": 10,
              "solidity": 0.2
             }
            },
            "type": "histogram"
           }
          ],
          "histogram2d": [
           {
            "colorbar": {
             "outlinewidth": 0,
             "ticks": ""
            },
            "colorscale": [
             [
              0,
              "#0d0887"
             ],
             [
              0.1111111111111111,
              "#46039f"
             ],
             [
              0.2222222222222222,
              "#7201a8"
             ],
             [
              0.3333333333333333,
              "#9c179e"
             ],
             [
              0.4444444444444444,
              "#bd3786"
             ],
             [
              0.5555555555555556,
              "#d8576b"
             ],
             [
              0.6666666666666666,
              "#ed7953"
             ],
             [
              0.7777777777777778,
              "#fb9f3a"
             ],
             [
              0.8888888888888888,
              "#fdca26"
             ],
             [
              1,
              "#f0f921"
             ]
            ],
            "type": "histogram2d"
           }
          ],
          "histogram2dcontour": [
           {
            "colorbar": {
             "outlinewidth": 0,
             "ticks": ""
            },
            "colorscale": [
             [
              0,
              "#0d0887"
             ],
             [
              0.1111111111111111,
              "#46039f"
             ],
             [
              0.2222222222222222,
              "#7201a8"
             ],
             [
              0.3333333333333333,
              "#9c179e"
             ],
             [
              0.4444444444444444,
              "#bd3786"
             ],
             [
              0.5555555555555556,
              "#d8576b"
             ],
             [
              0.6666666666666666,
              "#ed7953"
             ],
             [
              0.7777777777777778,
              "#fb9f3a"
             ],
             [
              0.8888888888888888,
              "#fdca26"
             ],
             [
              1,
              "#f0f921"
             ]
            ],
            "type": "histogram2dcontour"
           }
          ],
          "mesh3d": [
           {
            "colorbar": {
             "outlinewidth": 0,
             "ticks": ""
            },
            "type": "mesh3d"
           }
          ],
          "parcoords": [
           {
            "line": {
             "colorbar": {
              "outlinewidth": 0,
              "ticks": ""
             }
            },
            "type": "parcoords"
           }
          ],
          "pie": [
           {
            "automargin": true,
            "type": "pie"
           }
          ],
          "scatter": [
           {
            "fillpattern": {
             "fillmode": "overlay",
             "size": 10,
             "solidity": 0.2
            },
            "type": "scatter"
           }
          ],
          "scatter3d": [
           {
            "line": {
             "colorbar": {
              "outlinewidth": 0,
              "ticks": ""
             }
            },
            "marker": {
             "colorbar": {
              "outlinewidth": 0,
              "ticks": ""
             }
            },
            "type": "scatter3d"
           }
          ],
          "scattercarpet": [
           {
            "marker": {
             "colorbar": {
              "outlinewidth": 0,
              "ticks": ""
             }
            },
            "type": "scattercarpet"
           }
          ],
          "scattergeo": [
           {
            "marker": {
             "colorbar": {
              "outlinewidth": 0,
              "ticks": ""
             }
            },
            "type": "scattergeo"
           }
          ],
          "scattergl": [
           {
            "marker": {
             "colorbar": {
              "outlinewidth": 0,
              "ticks": ""
             }
            },
            "type": "scattergl"
           }
          ],
          "scattermapbox": [
           {
            "marker": {
             "colorbar": {
              "outlinewidth": 0,
              "ticks": ""
             }
            },
            "type": "scattermapbox"
           }
          ],
          "scatterpolar": [
           {
            "marker": {
             "colorbar": {
              "outlinewidth": 0,
              "ticks": ""
             }
            },
            "type": "scatterpolar"
           }
          ],
          "scatterpolargl": [
           {
            "marker": {
             "colorbar": {
              "outlinewidth": 0,
              "ticks": ""
             }
            },
            "type": "scatterpolargl"
           }
          ],
          "scatterternary": [
           {
            "marker": {
             "colorbar": {
              "outlinewidth": 0,
              "ticks": ""
             }
            },
            "type": "scatterternary"
           }
          ],
          "surface": [
           {
            "colorbar": {
             "outlinewidth": 0,
             "ticks": ""
            },
            "colorscale": [
             [
              0,
              "#0d0887"
             ],
             [
              0.1111111111111111,
              "#46039f"
             ],
             [
              0.2222222222222222,
              "#7201a8"
             ],
             [
              0.3333333333333333,
              "#9c179e"
             ],
             [
              0.4444444444444444,
              "#bd3786"
             ],
             [
              0.5555555555555556,
              "#d8576b"
             ],
             [
              0.6666666666666666,
              "#ed7953"
             ],
             [
              0.7777777777777778,
              "#fb9f3a"
             ],
             [
              0.8888888888888888,
              "#fdca26"
             ],
             [
              1,
              "#f0f921"
             ]
            ],
            "type": "surface"
           }
          ],
          "table": [
           {
            "cells": {
             "fill": {
              "color": "#EBF0F8"
             },
             "line": {
              "color": "white"
             }
            },
            "header": {
             "fill": {
              "color": "#C8D4E3"
             },
             "line": {
              "color": "white"
             }
            },
            "type": "table"
           }
          ]
         },
         "layout": {
          "annotationdefaults": {
           "arrowcolor": "#2a3f5f",
           "arrowhead": 0,
           "arrowwidth": 1
          },
          "autotypenumbers": "strict",
          "coloraxis": {
           "colorbar": {
            "outlinewidth": 0,
            "ticks": ""
           }
          },
          "colorscale": {
           "diverging": [
            [
             0,
             "#8e0152"
            ],
            [
             0.1,
             "#c51b7d"
            ],
            [
             0.2,
             "#de77ae"
            ],
            [
             0.3,
             "#f1b6da"
            ],
            [
             0.4,
             "#fde0ef"
            ],
            [
             0.5,
             "#f7f7f7"
            ],
            [
             0.6,
             "#e6f5d0"
            ],
            [
             0.7,
             "#b8e186"
            ],
            [
             0.8,
             "#7fbc41"
            ],
            [
             0.9,
             "#4d9221"
            ],
            [
             1,
             "#276419"
            ]
           ],
           "sequential": [
            [
             0,
             "#0d0887"
            ],
            [
             0.1111111111111111,
             "#46039f"
            ],
            [
             0.2222222222222222,
             "#7201a8"
            ],
            [
             0.3333333333333333,
             "#9c179e"
            ],
            [
             0.4444444444444444,
             "#bd3786"
            ],
            [
             0.5555555555555556,
             "#d8576b"
            ],
            [
             0.6666666666666666,
             "#ed7953"
            ],
            [
             0.7777777777777778,
             "#fb9f3a"
            ],
            [
             0.8888888888888888,
             "#fdca26"
            ],
            [
             1,
             "#f0f921"
            ]
           ],
           "sequentialminus": [
            [
             0,
             "#0d0887"
            ],
            [
             0.1111111111111111,
             "#46039f"
            ],
            [
             0.2222222222222222,
             "#7201a8"
            ],
            [
             0.3333333333333333,
             "#9c179e"
            ],
            [
             0.4444444444444444,
             "#bd3786"
            ],
            [
             0.5555555555555556,
             "#d8576b"
            ],
            [
             0.6666666666666666,
             "#ed7953"
            ],
            [
             0.7777777777777778,
             "#fb9f3a"
            ],
            [
             0.8888888888888888,
             "#fdca26"
            ],
            [
             1,
             "#f0f921"
            ]
           ]
          },
          "colorway": [
           "#636efa",
           "#EF553B",
           "#00cc96",
           "#ab63fa",
           "#FFA15A",
           "#19d3f3",
           "#FF6692",
           "#B6E880",
           "#FF97FF",
           "#FECB52"
          ],
          "font": {
           "color": "#2a3f5f"
          },
          "geo": {
           "bgcolor": "white",
           "lakecolor": "white",
           "landcolor": "#E5ECF6",
           "showlakes": true,
           "showland": true,
           "subunitcolor": "white"
          },
          "hoverlabel": {
           "align": "left"
          },
          "hovermode": "closest",
          "mapbox": {
           "style": "light"
          },
          "paper_bgcolor": "white",
          "plot_bgcolor": "#E5ECF6",
          "polar": {
           "angularaxis": {
            "gridcolor": "white",
            "linecolor": "white",
            "ticks": ""
           },
           "bgcolor": "#E5ECF6",
           "radialaxis": {
            "gridcolor": "white",
            "linecolor": "white",
            "ticks": ""
           }
          },
          "scene": {
           "xaxis": {
            "backgroundcolor": "#E5ECF6",
            "gridcolor": "white",
            "gridwidth": 2,
            "linecolor": "white",
            "showbackground": true,
            "ticks": "",
            "zerolinecolor": "white"
           },
           "yaxis": {
            "backgroundcolor": "#E5ECF6",
            "gridcolor": "white",
            "gridwidth": 2,
            "linecolor": "white",
            "showbackground": true,
            "ticks": "",
            "zerolinecolor": "white"
           },
           "zaxis": {
            "backgroundcolor": "#E5ECF6",
            "gridcolor": "white",
            "gridwidth": 2,
            "linecolor": "white",
            "showbackground": true,
            "ticks": "",
            "zerolinecolor": "white"
           }
          },
          "shapedefaults": {
           "line": {
            "color": "#2a3f5f"
           }
          },
          "ternary": {
           "aaxis": {
            "gridcolor": "white",
            "linecolor": "white",
            "ticks": ""
           },
           "baxis": {
            "gridcolor": "white",
            "linecolor": "white",
            "ticks": ""
           },
           "bgcolor": "#E5ECF6",
           "caxis": {
            "gridcolor": "white",
            "linecolor": "white",
            "ticks": ""
           }
          },
          "title": {
           "x": 0.05
          },
          "xaxis": {
           "automargin": true,
           "gridcolor": "white",
           "linecolor": "white",
           "ticks": "",
           "title": {
            "standoff": 15
           },
           "zerolinecolor": "white",
           "zerolinewidth": 2
          },
          "yaxis": {
           "automargin": true,
           "gridcolor": "white",
           "linecolor": "white",
           "ticks": "",
           "title": {
            "standoff": 15
           },
           "zerolinecolor": "white",
           "zerolinewidth": 2
          }
         }
        },
        "title": {
         "text": "Relative yearly savings"
        },
        "xaxis": {
         "anchor": "y",
         "domain": [
          0,
          1
         ],
         "range": [
          0,
          20
         ],
         "title": {
          "text": "Relative yearly energy savings in %"
         }
        },
        "yaxis": {
         "anchor": "x",
         "domain": [
          0,
          1
         ],
         "title": {
          "text": ""
         }
        }
       }
      }
     },
     "metadata": {},
     "output_type": "display_data"
    }
   ],
   "source": [
    "rel_yearly_energy_savings = 100 * rel_diff[\"energy_costs_eur\"]\n",
    "rel_yearly_energy_savings.name = \"Relative yearly energy savings savings in %\"\n",
    "print(rel_yearly_energy_savings.describe().drop(\"count\").to_markdown())\n",
    "\n",
    "rel_yearly_energy_savings_fig_df = rel_diff.copy() * 100\n",
    "rel_yearly_energy_savings_fig_df.rename(columns={\"energy_costs_eur\": \"Savings\"}, inplace=True)\n",
    "rel_yearly_energy_savings_fig = px.box(\n",
    "    data_frame=rel_yearly_energy_savings_fig_df,\n",
    "    x=\"Savings\",\n",
    "    title=\"Relative yearly savings\")\n",
    "rel_yearly_energy_savings_fig.update_layout(xaxis_title=\"Relative yearly energy savings in %\", yaxis_title=\"\")\n",
    "rel_yearly_energy_savings_fig.update_xaxes(range=[0, 20])\n",
    "rel_yearly_energy_savings_fig.show()"
   ]
  },
  {
   "cell_type": "markdown",
   "id": "2692cef2",
   "metadata": {},
   "source": [
    "# Correlations"
   ]
  },
  {
   "cell_type": "markdown",
   "id": "093e22de",
   "metadata": {},
   "source": [
    "## On absolute savings"
   ]
  },
  {
   "cell_type": "code",
   "execution_count": 134,
   "id": "47ac0108",
   "metadata": {},
   "outputs": [],
   "source": [
    "# merge savings onto master (with features)\n",
    "abs_diff_with_master = pd.merge(left=abs_diff, right=master, how=\"left\", left_index=True, right_index=True)\n",
    "abs_diff_with_master.head()\n",
    "\n",
    "abs_diff_with_master[\"std_by_mean\"] = abs_diff_with_master[\"std_kw\"] / abs_diff_with_master[\"mean_load_kw\"]\n",
    "abs_diff_with_master[\"std_by_peak\"] = abs_diff_with_master[\"std_kw\"] / abs_diff_with_master[\"peak_load_kw\"]\n",
    "abs_diff_with_master[\"peak_by_mean\"] = abs_diff_with_master[\"peak_load_kw\"] / abs_diff_with_master[\"mean_load_kw\"]"
   ]
  },
  {
   "cell_type": "code",
   "execution_count": 135,
   "id": "a523fdde",
   "metadata": {},
   "outputs": [
    {
     "data": {
      "application/vnd.plotly.v1+json": {
       "config": {
        "plotlyServerURL": "https://plot.ly"
       },
       "data": [
        {
         "coloraxis": "coloraxis",
         "hovertemplate": "x: %{x}<br>y: %{y}<br>color: %{z}<extra></extra>",
         "name": "0",
         "type": "heatmap",
         "x": [
          "energy_costs_eur",
          "grid_energy_costs_eur",
          "grid_capacity_costs_eur",
          "grid_capacity_kw",
          "storage_invest_eur",
          "storage_annuity_eur",
          "storage_capacity_kwh",
          "inverter_invest_eur",
          "inverter_annuity_eur",
          "inverter_capacity_kw",
          "total_yearly_costs_eur",
          "total_annuity_eur",
          "total_invest_eur",
          "capacity_price_over_2500h_eur_per_kw",
          "energy_price_over_2500h_eur_per_kwh",
          "capacity_price_under_2500h_eur_per_kw",
          "energy_price_under_2500h_eur_per_kwh",
          "number_of_peak_load",
          "peak_load_kw",
          "mean_load_kw",
          "variance_kw",
          "total_energy_kwh",
          "full_load_hours_h",
          "is_over_2500h",
          "std_kw",
          "std_by_mean",
          "std_by_peak",
          "peak_by_mean"
         ],
         "xaxis": "x",
         "y": [
          "energy_costs_eur",
          "grid_energy_costs_eur",
          "grid_capacity_costs_eur",
          "grid_capacity_kw",
          "storage_invest_eur",
          "storage_annuity_eur",
          "storage_capacity_kwh",
          "inverter_invest_eur",
          "inverter_annuity_eur",
          "inverter_capacity_kw",
          "total_yearly_costs_eur",
          "total_annuity_eur",
          "total_invest_eur",
          "capacity_price_over_2500h_eur_per_kw",
          "energy_price_over_2500h_eur_per_kwh",
          "capacity_price_under_2500h_eur_per_kw",
          "energy_price_under_2500h_eur_per_kwh",
          "number_of_peak_load",
          "peak_load_kw",
          "mean_load_kw",
          "variance_kw",
          "total_energy_kwh",
          "full_load_hours_h",
          "is_over_2500h",
          "std_kw",
          "std_by_mean",
          "std_by_peak",
          "peak_by_mean"
         ],
         "yaxis": "y",
         "z": [
          [
           1,
           0.9750197842078551,
           0.5140005164064135,
           0.5987276960674099,
           null,
           null,
           null,
           null,
           null,
           null,
           0.9986553621356791,
           -0.9995785184261554,
           -0.9995785184261544,
           -0.025181199812084477,
           -0.12818878063296524,
           -0.04541819707205796,
           -0.09269662314896551,
           -0.005712783727410594,
           0.5247294491108238,
           0.676350994661566,
           0.33959372988684816,
           0.6763509946615633,
           0.27682664608070995,
           0.13407657625888514,
           0.40505158495435356,
           -0.13471394288312397,
           -0.13098351648112444,
           -0.03788941125486251
          ],
          [
           0.9750197842078551,
           1,
           0.4431504074960847,
           0.509030201894194,
           null,
           null,
           null,
           null,
           null,
           null,
           0.9850245737250494,
           -0.976254108405731,
           -0.9762541084057316,
           0.02412792473335652,
           -0.11212165030417931,
           -0.03316305523940264,
           -0.03821440952570632,
           -0.005246116793586874,
           0.46221072243324457,
           0.6177110171893425,
           0.26449148334732686,
           0.6177110171893426,
           0.2696541231526725,
           0.13261827680430682,
           0.34175991258134203,
           -0.12772848109670704,
           -0.12177936188113396,
           -0.036134117164291386
          ],
          [
           0.5140005164064135,
           0.4431504074960847,
           1,
           0.7786205058854289,
           null,
           null,
           null,
           null,
           null,
           null,
           0.5048053911879822,
           -0.5144195246677125,
           -0.5144195246677123,
           -0.04222248431806285,
           -0.06658481704660645,
           -0.00011559923546703732,
           -0.08616452734021499,
           -0.006948430702465319,
           0.34504457029489877,
           0.3315168113761468,
           0.148484544133408,
           0.3315168113761454,
           0.11768581082862314,
           0.03872521639616438,
           0.2720737579111072,
           -0.09131956752847581,
           -0.10110008566515609,
           -0.028227788834120485
          ],
          [
           0.5987276960674099,
           0.509030201894194,
           0.7786205058854289,
           1,
           null,
           null,
           null,
           null,
           null,
           null,
           0.5831775903507697,
           -0.5987695320703371,
           -0.5987695320703369,
           -0.0758019353751048,
           -0.09458255633217832,
           -0.08100190251443568,
           -0.1068342685054609,
           -0.00600796598824535,
           0.36449356432651436,
           0.39748580745085693,
           0.18761123956754452,
           0.3974858074508567,
           0.1895630147662959,
           0.13369672732343643,
           0.30291996205596083,
           -0.1215499873122267,
           -0.1033739816345711,
           -0.035291953376970706
          ],
          [
           null,
           null,
           null,
           null,
           null,
           null,
           null,
           null,
           null,
           null,
           null,
           null,
           null,
           null,
           null,
           null,
           null,
           null,
           null,
           null,
           null,
           null,
           null,
           null,
           null,
           null,
           null,
           null
          ],
          [
           null,
           null,
           null,
           null,
           null,
           null,
           null,
           null,
           null,
           null,
           null,
           null,
           null,
           null,
           null,
           null,
           null,
           null,
           null,
           null,
           null,
           null,
           null,
           null,
           null,
           null,
           null,
           null
          ],
          [
           null,
           null,
           null,
           null,
           null,
           null,
           null,
           null,
           null,
           null,
           null,
           null,
           null,
           null,
           null,
           null,
           null,
           null,
           null,
           null,
           null,
           null,
           null,
           null,
           null,
           null,
           null,
           null
          ],
          [
           null,
           null,
           null,
           null,
           null,
           null,
           null,
           null,
           null,
           null,
           null,
           null,
           null,
           null,
           null,
           null,
           null,
           null,
           null,
           null,
           null,
           null,
           null,
           null,
           null,
           null,
           null,
           null
          ],
          [
           null,
           null,
           null,
           null,
           null,
           null,
           null,
           null,
           null,
           null,
           null,
           null,
           null,
           null,
           null,
           null,
           null,
           null,
           null,
           null,
           null,
           null,
           null,
           null,
           null,
           null,
           null,
           null
          ],
          [
           null,
           null,
           null,
           null,
           null,
           null,
           null,
           null,
           null,
           null,
           null,
           null,
           null,
           null,
           null,
           null,
           null,
           null,
           null,
           null,
           null,
           null,
           null,
           null,
           null,
           null,
           null,
           null
          ],
          [
           0.9986553621356791,
           0.9850245737250494,
           0.5048053911879822,
           0.5831775903507697,
           null,
           null,
           null,
           null,
           null,
           null,
           1,
           -0.998418732606044,
           -0.9984187326060444,
           -0.013793759578549274,
           -0.1257691034754091,
           -0.04270048450033825,
           -0.08092736519211757,
           -0.005727467117662373,
           0.5178038965302536,
           0.6707657920142417,
           0.3277924621660604,
           0.6707657920142435,
           0.27814671314162304,
           0.13533096062257352,
           0.39815395736049103,
           -0.13452224826836445,
           -0.12849501679117245,
           -0.03806074655508255
          ],
          [
           -0.9995785184261554,
           -0.976254108405731,
           -0.5144195246677125,
           -0.5987695320703371,
           null,
           null,
           null,
           null,
           null,
           null,
           -0.998418732606044,
           1,
           1.0000000000000007,
           0.023392474340541546,
           0.12468169923084453,
           0.04431809060478773,
           0.08904834765172152,
           0.005454087816264929,
           -0.5045797563743833,
           -0.654682457018906,
           -0.3195941296317896,
           -0.6546824570189049,
           -0.2695065330823403,
           -0.12955472319998762,
           -0.38166119558786754,
           0.13206164327724637,
           0.13504273499584543,
           0.036583214930750736
          ],
          [
           -0.9995785184261544,
           -0.9762541084057316,
           -0.5144195246677123,
           -0.5987695320703369,
           null,
           null,
           null,
           null,
           null,
           null,
           -0.9984187326060444,
           1.0000000000000007,
           1,
           0.02339247434054147,
           0.12468169923084478,
           0.04431809060478773,
           0.08904834765172129,
           0.005454087816264936,
           -0.504579756374384,
           -0.6546824570189049,
           -0.3195941296317896,
           -0.6546824570189029,
           -0.2695065330823397,
           -0.1295547231999875,
           -0.38166119558786604,
           0.13206164327724607,
           0.135042734995845,
           0.03658321493075075
          ],
          [
           -0.025181199812084477,
           0.02412792473335652,
           -0.04222248431806285,
           -0.0758019353751048,
           null,
           null,
           null,
           null,
           null,
           null,
           -0.013793759578549274,
           0.023392474340541546,
           0.02339247434054147,
           1,
           -0.08797543011326814,
           0.2715831501138199,
           0.8222709368729632,
           0.02867251496779187,
           -0.08410124124445209,
           -0.06214625210745375,
           -0.02869580941839013,
           -0.06214625210745345,
           -0.04231369682157637,
           -0.0548706047530347,
           -0.06259374565416492,
           0.007673838194134067,
           0.015720663868688686,
           -0.03545359685206936
          ],
          [
           -0.12818878063296524,
           -0.11212165030417931,
           -0.06658481704660645,
           -0.09458255633217832,
           null,
           null,
           null,
           null,
           null,
           null,
           -0.1257691034754091,
           0.12468169923084453,
           0.12468169923084478,
           -0.08797543011326814,
           1,
           0.46167286582490674,
           0.4006825006323542,
           -0.0009970258221562776,
           -0.18610571239408977,
           -0.17431273780939055,
           -0.07521746255948596,
           -0.1743127378093907,
           -0.09620905677041171,
           -0.07159206591266819,
           -0.17867452125153585,
           0.02270846266799874,
           -0.09257968442298682,
           0.04910388795377121
          ],
          [
           -0.04541819707205796,
           -0.03316305523940264,
           -0.00011559923546703732,
           -0.08100190251443568,
           null,
           null,
           null,
           null,
           null,
           null,
           -0.04270048450033825,
           0.04431809060478773,
           0.04431809060478773,
           0.2715831501138199,
           0.46167286582490674,
           1,
           0.19602682856026113,
           0.01944971425269411,
           -0.06951527894090596,
           -0.058145252842993406,
           -0.03892026080507979,
           -0.05814525284299341,
           0.008541863422705947,
           0.022737611756273632,
           -0.06461950134492715,
           -0.02508986915644988,
           0.0061702832544469986,
           -0.015111080450177552
          ],
          [
           -0.09269662314896551,
           -0.03821440952570632,
           -0.08616452734021499,
           -0.1068342685054609,
           null,
           null,
           null,
           null,
           null,
           null,
           -0.08092736519211757,
           0.08904834765172152,
           0.08904834765172129,
           0.8222709368729632,
           0.4006825006323542,
           0.19602682856026113,
           1,
           0.02005563837302509,
           -0.1793106373955552,
           -0.15426956374831508,
           -0.06308398951359616,
           -0.15426956374831477,
           -0.10856326269141879,
           -0.1099154598396619,
           -0.1550377170635251,
           0.032148570518308106,
           -0.04775279650096168,
           0.003291704213173988
          ],
          [
           -0.005712783727410594,
           -0.005246116793586874,
           -0.006948430702465319,
           -0.00600796598824535,
           null,
           null,
           null,
           null,
           null,
           null,
           -0.005727467117662373,
           0.005454087816264929,
           0.005454087816264936,
           0.02867251496779187,
           -0.0009970258221562776,
           0.01944971425269411,
           0.02005563837302509,
           1,
           -0.011734702089341933,
           -0.010366483690197237,
           -0.002798990302948552,
           -0.010366483690197215,
           -0.02040714249544729,
           -0.03852029125429721,
           -0.01229384300566549,
           0.025994258328480815,
           0.06451048819272923,
           -0.0033518821941557137
          ],
          [
           0.5247294491108238,
           0.46221072243324457,
           0.34504457029489877,
           0.36449356432651436,
           null,
           null,
           null,
           null,
           null,
           null,
           0.5178038965302536,
           -0.5045797563743833,
           -0.504579756374384,
           -0.08410124124445209,
           -0.18610571239408977,
           -0.06951527894090596,
           -0.1793106373955552,
           -0.011734702089341933,
           1,
           0.8605353561857412,
           0.6920298215836932,
           0.8605353561857385,
           0.19478785549016214,
           0.10955049753852551,
           0.8844637101718184,
           -0.033222066014869045,
           0.013157876715215278,
           0.03812448970347398
          ],
          [
           0.676350994661566,
           0.6177110171893425,
           0.3315168113761468,
           0.39748580745085693,
           null,
           null,
           null,
           null,
           null,
           null,
           0.6707657920142417,
           -0.654682457018906,
           -0.6546824570189049,
           -0.06214625210745375,
           -0.17431273780939055,
           -0.058145252842993406,
           -0.15426956374831508,
           -0.010366483690197237,
           0.8605353561857412,
           1,
           0.7334902650181779,
           0.9999999999999944,
           0.37000428720801865,
           0.2039791552944301,
           0.8630951112877727,
           -0.15696948274540773,
           0.015807471469171584,
           -0.05836350969102295
          ],
          [
           0.33959372988684816,
           0.26449148334732686,
           0.148484544133408,
           0.18761123956754452,
           null,
           null,
           null,
           null,
           null,
           null,
           0.3277924621660604,
           -0.3195941296317896,
           -0.3195941296317896,
           -0.02869580941839013,
           -0.07521746255948596,
           -0.03892026080507979,
           -0.06308398951359616,
           -0.002798990302948552,
           0.6920298215836932,
           0.7334902650181779,
           1,
           0.7334902650181757,
           0.07926845799276432,
           0.0500451902351827,
           0.8117005188860582,
           -0.02431496442432957,
           0.05961140761427882,
           -0.012798186000784958
          ],
          [
           0.6763509946615633,
           0.6177110171893426,
           0.3315168113761454,
           0.3974858074508567,
           null,
           null,
           null,
           null,
           null,
           null,
           0.6707657920142435,
           -0.6546824570189049,
           -0.6546824570189029,
           -0.06214625210745345,
           -0.1743127378093907,
           -0.05814525284299341,
           -0.15426956374831477,
           -0.010366483690197215,
           0.8605353561857385,
           0.9999999999999944,
           0.7334902650181757,
           1,
           0.37000428720801826,
           0.20397915529442992,
           0.8630951112877695,
           -0.15696948274540742,
           0.01580747146917157,
           -0.05836350969102296
          ],
          [
           0.27682664608070995,
           0.2696541231526725,
           0.11768581082862314,
           0.1895630147662959,
           null,
           null,
           null,
           null,
           null,
           null,
           0.27814671314162304,
           -0.2695065330823403,
           -0.2695065330823397,
           -0.04231369682157637,
           -0.09620905677041171,
           0.008541863422705947,
           -0.10856326269141879,
           -0.02040714249544729,
           0.19478785549016214,
           0.37000428720801865,
           0.07926845799276432,
           0.37000428720801826,
           1,
           0.7255152552807805,
           0.2095390782094496,
           -0.5744313827491422,
           -0.033542815565489416,
           -0.24974431322196686
          ],
          [
           0.13407657625888514,
           0.13261827680430682,
           0.03872521639616438,
           0.13369672732343643,
           null,
           null,
           null,
           null,
           null,
           null,
           0.13533096062257352,
           -0.12955472319998762,
           -0.1295547231999875,
           -0.0548706047530347,
           -0.07159206591266819,
           0.022737611756273632,
           -0.1099154598396619,
           -0.03852029125429721,
           0.10955049753852551,
           0.2039791552944301,
           0.0500451902351827,
           0.20397915529442992,
           0.7255152552807805,
           1,
           0.14787144337098115,
           -0.47334032021502165,
           0.13325922983307995,
           -0.2021314767844304
          ],
          [
           0.40505158495435356,
           0.34175991258134203,
           0.2720737579111072,
           0.30291996205596083,
           null,
           null,
           null,
           null,
           null,
           null,
           0.39815395736049103,
           -0.38166119558786754,
           -0.38166119558786604,
           -0.06259374565416492,
           -0.17867452125153585,
           -0.06461950134492715,
           -0.1550377170635251,
           -0.01229384300566549,
           0.8844637101718184,
           0.8630951112877727,
           0.8117005188860582,
           0.8630951112877695,
           0.2095390782094496,
           0.14787144337098115,
           1,
           -0.05290718493897595,
           0.19146201021878106,
           -0.033978541546037785
          ],
          [
           -0.13471394288312397,
           -0.12772848109670704,
           -0.09131956752847581,
           -0.1215499873122267,
           null,
           null,
           null,
           null,
           null,
           null,
           -0.13452224826836445,
           0.13206164327724637,
           0.13206164327724607,
           0.007673838194134067,
           0.02270846266799874,
           -0.02508986915644988,
           0.032148570518308106,
           0.025994258328480815,
           -0.033222066014869045,
           -0.15696948274540773,
           -0.02431496442432957,
           -0.15696948274540742,
           -0.5744313827491422,
           -0.47334032021502165,
           -0.05290718493897595,
           1,
           0.1235432205421202,
           0.813897546592285
          ],
          [
           -0.13098351648112444,
           -0.12177936188113396,
           -0.10110008566515609,
           -0.1033739816345711,
           null,
           null,
           null,
           null,
           null,
           null,
           -0.12849501679117245,
           0.13504273499584543,
           0.135042734995845,
           0.015720663868688686,
           -0.09257968442298682,
           0.0061702832544469986,
           -0.04775279650096168,
           0.06451048819272923,
           0.013157876715215278,
           0.015807471469171584,
           0.05961140761427882,
           0.01580747146917157,
           -0.033542815565489416,
           0.13325922983307995,
           0.19146201021878106,
           0.1235432205421202,
           1,
           -0.15171669432502075
          ],
          [
           -0.03788941125486251,
           -0.036134117164291386,
           -0.028227788834120485,
           -0.035291953376970706,
           null,
           null,
           null,
           null,
           null,
           null,
           -0.03806074655508255,
           0.036583214930750736,
           0.03658321493075075,
           -0.03545359685206936,
           0.04910388795377121,
           -0.015111080450177552,
           0.003291704213173988,
           -0.0033518821941557137,
           0.03812448970347398,
           -0.05836350969102295,
           -0.012798186000784958,
           -0.05836350969102296,
           -0.24974431322196686,
           -0.2021314767844304,
           -0.033978541546037785,
           0.813897546592285,
           -0.15171669432502075,
           1
          ]
         ]
        }
       ],
       "layout": {
        "coloraxis": {
         "colorscale": [
          [
           0,
           "#0d0887"
          ],
          [
           0.1111111111111111,
           "#46039f"
          ],
          [
           0.2222222222222222,
           "#7201a8"
          ],
          [
           0.3333333333333333,
           "#9c179e"
          ],
          [
           0.4444444444444444,
           "#bd3786"
          ],
          [
           0.5555555555555556,
           "#d8576b"
          ],
          [
           0.6666666666666666,
           "#ed7953"
          ],
          [
           0.7777777777777778,
           "#fb9f3a"
          ],
          [
           0.8888888888888888,
           "#fdca26"
          ],
          [
           1,
           "#f0f921"
          ]
         ]
        },
        "template": {
         "data": {
          "bar": [
           {
            "error_x": {
             "color": "#2a3f5f"
            },
            "error_y": {
             "color": "#2a3f5f"
            },
            "marker": {
             "line": {
              "color": "#E5ECF6",
              "width": 0.5
             },
             "pattern": {
              "fillmode": "overlay",
              "size": 10,
              "solidity": 0.2
             }
            },
            "type": "bar"
           }
          ],
          "barpolar": [
           {
            "marker": {
             "line": {
              "color": "#E5ECF6",
              "width": 0.5
             },
             "pattern": {
              "fillmode": "overlay",
              "size": 10,
              "solidity": 0.2
             }
            },
            "type": "barpolar"
           }
          ],
          "carpet": [
           {
            "aaxis": {
             "endlinecolor": "#2a3f5f",
             "gridcolor": "white",
             "linecolor": "white",
             "minorgridcolor": "white",
             "startlinecolor": "#2a3f5f"
            },
            "baxis": {
             "endlinecolor": "#2a3f5f",
             "gridcolor": "white",
             "linecolor": "white",
             "minorgridcolor": "white",
             "startlinecolor": "#2a3f5f"
            },
            "type": "carpet"
           }
          ],
          "choropleth": [
           {
            "colorbar": {
             "outlinewidth": 0,
             "ticks": ""
            },
            "type": "choropleth"
           }
          ],
          "contour": [
           {
            "colorbar": {
             "outlinewidth": 0,
             "ticks": ""
            },
            "colorscale": [
             [
              0,
              "#0d0887"
             ],
             [
              0.1111111111111111,
              "#46039f"
             ],
             [
              0.2222222222222222,
              "#7201a8"
             ],
             [
              0.3333333333333333,
              "#9c179e"
             ],
             [
              0.4444444444444444,
              "#bd3786"
             ],
             [
              0.5555555555555556,
              "#d8576b"
             ],
             [
              0.6666666666666666,
              "#ed7953"
             ],
             [
              0.7777777777777778,
              "#fb9f3a"
             ],
             [
              0.8888888888888888,
              "#fdca26"
             ],
             [
              1,
              "#f0f921"
             ]
            ],
            "type": "contour"
           }
          ],
          "contourcarpet": [
           {
            "colorbar": {
             "outlinewidth": 0,
             "ticks": ""
            },
            "type": "contourcarpet"
           }
          ],
          "heatmap": [
           {
            "colorbar": {
             "outlinewidth": 0,
             "ticks": ""
            },
            "colorscale": [
             [
              0,
              "#0d0887"
             ],
             [
              0.1111111111111111,
              "#46039f"
             ],
             [
              0.2222222222222222,
              "#7201a8"
             ],
             [
              0.3333333333333333,
              "#9c179e"
             ],
             [
              0.4444444444444444,
              "#bd3786"
             ],
             [
              0.5555555555555556,
              "#d8576b"
             ],
             [
              0.6666666666666666,
              "#ed7953"
             ],
             [
              0.7777777777777778,
              "#fb9f3a"
             ],
             [
              0.8888888888888888,
              "#fdca26"
             ],
             [
              1,
              "#f0f921"
             ]
            ],
            "type": "heatmap"
           }
          ],
          "heatmapgl": [
           {
            "colorbar": {
             "outlinewidth": 0,
             "ticks": ""
            },
            "colorscale": [
             [
              0,
              "#0d0887"
             ],
             [
              0.1111111111111111,
              "#46039f"
             ],
             [
              0.2222222222222222,
              "#7201a8"
             ],
             [
              0.3333333333333333,
              "#9c179e"
             ],
             [
              0.4444444444444444,
              "#bd3786"
             ],
             [
              0.5555555555555556,
              "#d8576b"
             ],
             [
              0.6666666666666666,
              "#ed7953"
             ],
             [
              0.7777777777777778,
              "#fb9f3a"
             ],
             [
              0.8888888888888888,
              "#fdca26"
             ],
             [
              1,
              "#f0f921"
             ]
            ],
            "type": "heatmapgl"
           }
          ],
          "histogram": [
           {
            "marker": {
             "pattern": {
              "fillmode": "overlay",
              "size": 10,
              "solidity": 0.2
             }
            },
            "type": "histogram"
           }
          ],
          "histogram2d": [
           {
            "colorbar": {
             "outlinewidth": 0,
             "ticks": ""
            },
            "colorscale": [
             [
              0,
              "#0d0887"
             ],
             [
              0.1111111111111111,
              "#46039f"
             ],
             [
              0.2222222222222222,
              "#7201a8"
             ],
             [
              0.3333333333333333,
              "#9c179e"
             ],
             [
              0.4444444444444444,
              "#bd3786"
             ],
             [
              0.5555555555555556,
              "#d8576b"
             ],
             [
              0.6666666666666666,
              "#ed7953"
             ],
             [
              0.7777777777777778,
              "#fb9f3a"
             ],
             [
              0.8888888888888888,
              "#fdca26"
             ],
             [
              1,
              "#f0f921"
             ]
            ],
            "type": "histogram2d"
           }
          ],
          "histogram2dcontour": [
           {
            "colorbar": {
             "outlinewidth": 0,
             "ticks": ""
            },
            "colorscale": [
             [
              0,
              "#0d0887"
             ],
             [
              0.1111111111111111,
              "#46039f"
             ],
             [
              0.2222222222222222,
              "#7201a8"
             ],
             [
              0.3333333333333333,
              "#9c179e"
             ],
             [
              0.4444444444444444,
              "#bd3786"
             ],
             [
              0.5555555555555556,
              "#d8576b"
             ],
             [
              0.6666666666666666,
              "#ed7953"
             ],
             [
              0.7777777777777778,
              "#fb9f3a"
             ],
             [
              0.8888888888888888,
              "#fdca26"
             ],
             [
              1,
              "#f0f921"
             ]
            ],
            "type": "histogram2dcontour"
           }
          ],
          "mesh3d": [
           {
            "colorbar": {
             "outlinewidth": 0,
             "ticks": ""
            },
            "type": "mesh3d"
           }
          ],
          "parcoords": [
           {
            "line": {
             "colorbar": {
              "outlinewidth": 0,
              "ticks": ""
             }
            },
            "type": "parcoords"
           }
          ],
          "pie": [
           {
            "automargin": true,
            "type": "pie"
           }
          ],
          "scatter": [
           {
            "fillpattern": {
             "fillmode": "overlay",
             "size": 10,
             "solidity": 0.2
            },
            "type": "scatter"
           }
          ],
          "scatter3d": [
           {
            "line": {
             "colorbar": {
              "outlinewidth": 0,
              "ticks": ""
             }
            },
            "marker": {
             "colorbar": {
              "outlinewidth": 0,
              "ticks": ""
             }
            },
            "type": "scatter3d"
           }
          ],
          "scattercarpet": [
           {
            "marker": {
             "colorbar": {
              "outlinewidth": 0,
              "ticks": ""
             }
            },
            "type": "scattercarpet"
           }
          ],
          "scattergeo": [
           {
            "marker": {
             "colorbar": {
              "outlinewidth": 0,
              "ticks": ""
             }
            },
            "type": "scattergeo"
           }
          ],
          "scattergl": [
           {
            "marker": {
             "colorbar": {
              "outlinewidth": 0,
              "ticks": ""
             }
            },
            "type": "scattergl"
           }
          ],
          "scattermapbox": [
           {
            "marker": {
             "colorbar": {
              "outlinewidth": 0,
              "ticks": ""
             }
            },
            "type": "scattermapbox"
           }
          ],
          "scatterpolar": [
           {
            "marker": {
             "colorbar": {
              "outlinewidth": 0,
              "ticks": ""
             }
            },
            "type": "scatterpolar"
           }
          ],
          "scatterpolargl": [
           {
            "marker": {
             "colorbar": {
              "outlinewidth": 0,
              "ticks": ""
             }
            },
            "type": "scatterpolargl"
           }
          ],
          "scatterternary": [
           {
            "marker": {
             "colorbar": {
              "outlinewidth": 0,
              "ticks": ""
             }
            },
            "type": "scatterternary"
           }
          ],
          "surface": [
           {
            "colorbar": {
             "outlinewidth": 0,
             "ticks": ""
            },
            "colorscale": [
             [
              0,
              "#0d0887"
             ],
             [
              0.1111111111111111,
              "#46039f"
             ],
             [
              0.2222222222222222,
              "#7201a8"
             ],
             [
              0.3333333333333333,
              "#9c179e"
             ],
             [
              0.4444444444444444,
              "#bd3786"
             ],
             [
              0.5555555555555556,
              "#d8576b"
             ],
             [
              0.6666666666666666,
              "#ed7953"
             ],
             [
              0.7777777777777778,
              "#fb9f3a"
             ],
             [
              0.8888888888888888,
              "#fdca26"
             ],
             [
              1,
              "#f0f921"
             ]
            ],
            "type": "surface"
           }
          ],
          "table": [
           {
            "cells": {
             "fill": {
              "color": "#EBF0F8"
             },
             "line": {
              "color": "white"
             }
            },
            "header": {
             "fill": {
              "color": "#C8D4E3"
             },
             "line": {
              "color": "white"
             }
            },
            "type": "table"
           }
          ]
         },
         "layout": {
          "annotationdefaults": {
           "arrowcolor": "#2a3f5f",
           "arrowhead": 0,
           "arrowwidth": 1
          },
          "autotypenumbers": "strict",
          "coloraxis": {
           "colorbar": {
            "outlinewidth": 0,
            "ticks": ""
           }
          },
          "colorscale": {
           "diverging": [
            [
             0,
             "#8e0152"
            ],
            [
             0.1,
             "#c51b7d"
            ],
            [
             0.2,
             "#de77ae"
            ],
            [
             0.3,
             "#f1b6da"
            ],
            [
             0.4,
             "#fde0ef"
            ],
            [
             0.5,
             "#f7f7f7"
            ],
            [
             0.6,
             "#e6f5d0"
            ],
            [
             0.7,
             "#b8e186"
            ],
            [
             0.8,
             "#7fbc41"
            ],
            [
             0.9,
             "#4d9221"
            ],
            [
             1,
             "#276419"
            ]
           ],
           "sequential": [
            [
             0,
             "#0d0887"
            ],
            [
             0.1111111111111111,
             "#46039f"
            ],
            [
             0.2222222222222222,
             "#7201a8"
            ],
            [
             0.3333333333333333,
             "#9c179e"
            ],
            [
             0.4444444444444444,
             "#bd3786"
            ],
            [
             0.5555555555555556,
             "#d8576b"
            ],
            [
             0.6666666666666666,
             "#ed7953"
            ],
            [
             0.7777777777777778,
             "#fb9f3a"
            ],
            [
             0.8888888888888888,
             "#fdca26"
            ],
            [
             1,
             "#f0f921"
            ]
           ],
           "sequentialminus": [
            [
             0,
             "#0d0887"
            ],
            [
             0.1111111111111111,
             "#46039f"
            ],
            [
             0.2222222222222222,
             "#7201a8"
            ],
            [
             0.3333333333333333,
             "#9c179e"
            ],
            [
             0.4444444444444444,
             "#bd3786"
            ],
            [
             0.5555555555555556,
             "#d8576b"
            ],
            [
             0.6666666666666666,
             "#ed7953"
            ],
            [
             0.7777777777777778,
             "#fb9f3a"
            ],
            [
             0.8888888888888888,
             "#fdca26"
            ],
            [
             1,
             "#f0f921"
            ]
           ]
          },
          "colorway": [
           "#636efa",
           "#EF553B",
           "#00cc96",
           "#ab63fa",
           "#FFA15A",
           "#19d3f3",
           "#FF6692",
           "#B6E880",
           "#FF97FF",
           "#FECB52"
          ],
          "font": {
           "color": "#2a3f5f"
          },
          "geo": {
           "bgcolor": "white",
           "lakecolor": "white",
           "landcolor": "#E5ECF6",
           "showlakes": true,
           "showland": true,
           "subunitcolor": "white"
          },
          "hoverlabel": {
           "align": "left"
          },
          "hovermode": "closest",
          "mapbox": {
           "style": "light"
          },
          "paper_bgcolor": "white",
          "plot_bgcolor": "#E5ECF6",
          "polar": {
           "angularaxis": {
            "gridcolor": "white",
            "linecolor": "white",
            "ticks": ""
           },
           "bgcolor": "#E5ECF6",
           "radialaxis": {
            "gridcolor": "white",
            "linecolor": "white",
            "ticks": ""
           }
          },
          "scene": {
           "xaxis": {
            "backgroundcolor": "#E5ECF6",
            "gridcolor": "white",
            "gridwidth": 2,
            "linecolor": "white",
            "showbackground": true,
            "ticks": "",
            "zerolinecolor": "white"
           },
           "yaxis": {
            "backgroundcolor": "#E5ECF6",
            "gridcolor": "white",
            "gridwidth": 2,
            "linecolor": "white",
            "showbackground": true,
            "ticks": "",
            "zerolinecolor": "white"
           },
           "zaxis": {
            "backgroundcolor": "#E5ECF6",
            "gridcolor": "white",
            "gridwidth": 2,
            "linecolor": "white",
            "showbackground": true,
            "ticks": "",
            "zerolinecolor": "white"
           }
          },
          "shapedefaults": {
           "line": {
            "color": "#2a3f5f"
           }
          },
          "ternary": {
           "aaxis": {
            "gridcolor": "white",
            "linecolor": "white",
            "ticks": ""
           },
           "baxis": {
            "gridcolor": "white",
            "linecolor": "white",
            "ticks": ""
           },
           "bgcolor": "#E5ECF6",
           "caxis": {
            "gridcolor": "white",
            "linecolor": "white",
            "ticks": ""
           }
          },
          "title": {
           "x": 0.05
          },
          "xaxis": {
           "automargin": true,
           "gridcolor": "white",
           "linecolor": "white",
           "ticks": "",
           "title": {
            "standoff": 15
           },
           "zerolinecolor": "white",
           "zerolinewidth": 2
          },
          "yaxis": {
           "automargin": true,
           "gridcolor": "white",
           "linecolor": "white",
           "ticks": "",
           "title": {
            "standoff": 15
           },
           "zerolinecolor": "white",
           "zerolinewidth": 2
          }
         }
        },
        "title": {
         "text": "Correlation coefficients for total yearly savings"
        },
        "xaxis": {
         "anchor": "y",
         "constrain": "domain",
         "domain": [
          0,
          1
         ],
         "scaleanchor": "y"
        },
        "yaxis": {
         "anchor": "x",
         "autorange": "reversed",
         "constrain": "domain",
         "domain": [
          0,
          1
         ]
        }
       }
      }
     },
     "metadata": {},
     "output_type": "display_data"
    }
   ],
   "source": [
    "cols_to_drop = [\n",
    "    \"grid_level\",\n",
    "    \"zip_code\",\n",
    "    \"sector_group_id\",\n",
    "    \"sector_group\",\n",
    "    \"solar_invest_eur\",\n",
    "    \"solar_annuity_eur\",\n",
    "    \"solar_capacity_kwp\"]\n",
    "abs_correlations_df = abs_diff_with_master.drop(columns=cols_to_drop).corr()\n",
    "px.imshow(abs_correlations_df, title=\"Correlation coefficients for total yearly savings\")"
   ]
  },
  {
   "cell_type": "code",
   "execution_count": 136,
   "id": "c89f34ee",
   "metadata": {},
   "outputs": [
    {
     "data": {
      "application/vnd.plotly.v1+json": {
       "config": {
        "plotlyServerURL": "https://plot.ly"
       },
       "data": [
        {
         "alignmentgroup": "True",
         "hovertemplate": "index=%{x}<br>total_yearly_costs_eur=%{y}<extra></extra>",
         "legendgroup": "",
         "marker": {
          "color": "#636efa",
          "pattern": {
           "shape": ""
          }
         },
         "name": "",
         "offsetgroup": "",
         "orientation": "v",
         "showlegend": false,
         "textposition": "auto",
         "texttemplate": "%{y}",
         "type": "bar",
         "x": [
          "energy_costs_eur",
          "total_yearly_costs_eur",
          "grid_energy_costs_eur",
          "total_energy_kwh",
          "mean_load_kw",
          "grid_capacity_kw",
          "peak_load_kw",
          "grid_capacity_costs_eur",
          "std_kw",
          "variance_kw",
          "full_load_hours_h",
          "is_over_2500h",
          "number_of_peak_load",
          "capacity_price_over_2500h_eur_per_kw",
          "capacity_price_under_2500h_eur_per_kw",
          "peak_by_mean",
          "energy_price_under_2500h_eur_per_kwh",
          "energy_price_over_2500h_eur_per_kwh",
          "std_by_mean",
          "std_by_peak",
          "total_invest_eur",
          "total_annuity_eur",
          "storage_invest_eur",
          "storage_annuity_eur",
          "storage_capacity_kwh",
          "inverter_invest_eur",
          "inverter_annuity_eur",
          "inverter_capacity_kw"
         ],
         "xaxis": "x",
         "y": [
          1,
          1,
          0.99,
          0.67,
          0.67,
          0.58,
          0.52,
          0.5,
          0.4,
          0.33,
          0.28,
          0.14,
          -0.01,
          -0.01,
          -0.04,
          -0.04,
          -0.08,
          -0.13,
          -0.13,
          -0.13,
          -1,
          -1,
          null,
          null,
          null,
          null,
          null,
          null
         ],
         "yaxis": "y"
        }
       ],
       "layout": {
        "barmode": "relative",
        "legend": {
         "tracegroupgap": 0
        },
        "template": {
         "data": {
          "bar": [
           {
            "error_x": {
             "color": "#2a3f5f"
            },
            "error_y": {
             "color": "#2a3f5f"
            },
            "marker": {
             "line": {
              "color": "#E5ECF6",
              "width": 0.5
             },
             "pattern": {
              "fillmode": "overlay",
              "size": 10,
              "solidity": 0.2
             }
            },
            "type": "bar"
           }
          ],
          "barpolar": [
           {
            "marker": {
             "line": {
              "color": "#E5ECF6",
              "width": 0.5
             },
             "pattern": {
              "fillmode": "overlay",
              "size": 10,
              "solidity": 0.2
             }
            },
            "type": "barpolar"
           }
          ],
          "carpet": [
           {
            "aaxis": {
             "endlinecolor": "#2a3f5f",
             "gridcolor": "white",
             "linecolor": "white",
             "minorgridcolor": "white",
             "startlinecolor": "#2a3f5f"
            },
            "baxis": {
             "endlinecolor": "#2a3f5f",
             "gridcolor": "white",
             "linecolor": "white",
             "minorgridcolor": "white",
             "startlinecolor": "#2a3f5f"
            },
            "type": "carpet"
           }
          ],
          "choropleth": [
           {
            "colorbar": {
             "outlinewidth": 0,
             "ticks": ""
            },
            "type": "choropleth"
           }
          ],
          "contour": [
           {
            "colorbar": {
             "outlinewidth": 0,
             "ticks": ""
            },
            "colorscale": [
             [
              0,
              "#0d0887"
             ],
             [
              0.1111111111111111,
              "#46039f"
             ],
             [
              0.2222222222222222,
              "#7201a8"
             ],
             [
              0.3333333333333333,
              "#9c179e"
             ],
             [
              0.4444444444444444,
              "#bd3786"
             ],
             [
              0.5555555555555556,
              "#d8576b"
             ],
             [
              0.6666666666666666,
              "#ed7953"
             ],
             [
              0.7777777777777778,
              "#fb9f3a"
             ],
             [
              0.8888888888888888,
              "#fdca26"
             ],
             [
              1,
              "#f0f921"
             ]
            ],
            "type": "contour"
           }
          ],
          "contourcarpet": [
           {
            "colorbar": {
             "outlinewidth": 0,
             "ticks": ""
            },
            "type": "contourcarpet"
           }
          ],
          "heatmap": [
           {
            "colorbar": {
             "outlinewidth": 0,
             "ticks": ""
            },
            "colorscale": [
             [
              0,
              "#0d0887"
             ],
             [
              0.1111111111111111,
              "#46039f"
             ],
             [
              0.2222222222222222,
              "#7201a8"
             ],
             [
              0.3333333333333333,
              "#9c179e"
             ],
             [
              0.4444444444444444,
              "#bd3786"
             ],
             [
              0.5555555555555556,
              "#d8576b"
             ],
             [
              0.6666666666666666,
              "#ed7953"
             ],
             [
              0.7777777777777778,
              "#fb9f3a"
             ],
             [
              0.8888888888888888,
              "#fdca26"
             ],
             [
              1,
              "#f0f921"
             ]
            ],
            "type": "heatmap"
           }
          ],
          "heatmapgl": [
           {
            "colorbar": {
             "outlinewidth": 0,
             "ticks": ""
            },
            "colorscale": [
             [
              0,
              "#0d0887"
             ],
             [
              0.1111111111111111,
              "#46039f"
             ],
             [
              0.2222222222222222,
              "#7201a8"
             ],
             [
              0.3333333333333333,
              "#9c179e"
             ],
             [
              0.4444444444444444,
              "#bd3786"
             ],
             [
              0.5555555555555556,
              "#d8576b"
             ],
             [
              0.6666666666666666,
              "#ed7953"
             ],
             [
              0.7777777777777778,
              "#fb9f3a"
             ],
             [
              0.8888888888888888,
              "#fdca26"
             ],
             [
              1,
              "#f0f921"
             ]
            ],
            "type": "heatmapgl"
           }
          ],
          "histogram": [
           {
            "marker": {
             "pattern": {
              "fillmode": "overlay",
              "size": 10,
              "solidity": 0.2
             }
            },
            "type": "histogram"
           }
          ],
          "histogram2d": [
           {
            "colorbar": {
             "outlinewidth": 0,
             "ticks": ""
            },
            "colorscale": [
             [
              0,
              "#0d0887"
             ],
             [
              0.1111111111111111,
              "#46039f"
             ],
             [
              0.2222222222222222,
              "#7201a8"
             ],
             [
              0.3333333333333333,
              "#9c179e"
             ],
             [
              0.4444444444444444,
              "#bd3786"
             ],
             [
              0.5555555555555556,
              "#d8576b"
             ],
             [
              0.6666666666666666,
              "#ed7953"
             ],
             [
              0.7777777777777778,
              "#fb9f3a"
             ],
             [
              0.8888888888888888,
              "#fdca26"
             ],
             [
              1,
              "#f0f921"
             ]
            ],
            "type": "histogram2d"
           }
          ],
          "histogram2dcontour": [
           {
            "colorbar": {
             "outlinewidth": 0,
             "ticks": ""
            },
            "colorscale": [
             [
              0,
              "#0d0887"
             ],
             [
              0.1111111111111111,
              "#46039f"
             ],
             [
              0.2222222222222222,
              "#7201a8"
             ],
             [
              0.3333333333333333,
              "#9c179e"
             ],
             [
              0.4444444444444444,
              "#bd3786"
             ],
             [
              0.5555555555555556,
              "#d8576b"
             ],
             [
              0.6666666666666666,
              "#ed7953"
             ],
             [
              0.7777777777777778,
              "#fb9f3a"
             ],
             [
              0.8888888888888888,
              "#fdca26"
             ],
             [
              1,
              "#f0f921"
             ]
            ],
            "type": "histogram2dcontour"
           }
          ],
          "mesh3d": [
           {
            "colorbar": {
             "outlinewidth": 0,
             "ticks": ""
            },
            "type": "mesh3d"
           }
          ],
          "parcoords": [
           {
            "line": {
             "colorbar": {
              "outlinewidth": 0,
              "ticks": ""
             }
            },
            "type": "parcoords"
           }
          ],
          "pie": [
           {
            "automargin": true,
            "type": "pie"
           }
          ],
          "scatter": [
           {
            "fillpattern": {
             "fillmode": "overlay",
             "size": 10,
             "solidity": 0.2
            },
            "type": "scatter"
           }
          ],
          "scatter3d": [
           {
            "line": {
             "colorbar": {
              "outlinewidth": 0,
              "ticks": ""
             }
            },
            "marker": {
             "colorbar": {
              "outlinewidth": 0,
              "ticks": ""
             }
            },
            "type": "scatter3d"
           }
          ],
          "scattercarpet": [
           {
            "marker": {
             "colorbar": {
              "outlinewidth": 0,
              "ticks": ""
             }
            },
            "type": "scattercarpet"
           }
          ],
          "scattergeo": [
           {
            "marker": {
             "colorbar": {
              "outlinewidth": 0,
              "ticks": ""
             }
            },
            "type": "scattergeo"
           }
          ],
          "scattergl": [
           {
            "marker": {
             "colorbar": {
              "outlinewidth": 0,
              "ticks": ""
             }
            },
            "type": "scattergl"
           }
          ],
          "scattermapbox": [
           {
            "marker": {
             "colorbar": {
              "outlinewidth": 0,
              "ticks": ""
             }
            },
            "type": "scattermapbox"
           }
          ],
          "scatterpolar": [
           {
            "marker": {
             "colorbar": {
              "outlinewidth": 0,
              "ticks": ""
             }
            },
            "type": "scatterpolar"
           }
          ],
          "scatterpolargl": [
           {
            "marker": {
             "colorbar": {
              "outlinewidth": 0,
              "ticks": ""
             }
            },
            "type": "scatterpolargl"
           }
          ],
          "scatterternary": [
           {
            "marker": {
             "colorbar": {
              "outlinewidth": 0,
              "ticks": ""
             }
            },
            "type": "scatterternary"
           }
          ],
          "surface": [
           {
            "colorbar": {
             "outlinewidth": 0,
             "ticks": ""
            },
            "colorscale": [
             [
              0,
              "#0d0887"
             ],
             [
              0.1111111111111111,
              "#46039f"
             ],
             [
              0.2222222222222222,
              "#7201a8"
             ],
             [
              0.3333333333333333,
              "#9c179e"
             ],
             [
              0.4444444444444444,
              "#bd3786"
             ],
             [
              0.5555555555555556,
              "#d8576b"
             ],
             [
              0.6666666666666666,
              "#ed7953"
             ],
             [
              0.7777777777777778,
              "#fb9f3a"
             ],
             [
              0.8888888888888888,
              "#fdca26"
             ],
             [
              1,
              "#f0f921"
             ]
            ],
            "type": "surface"
           }
          ],
          "table": [
           {
            "cells": {
             "fill": {
              "color": "#EBF0F8"
             },
             "line": {
              "color": "white"
             }
            },
            "header": {
             "fill": {
              "color": "#C8D4E3"
             },
             "line": {
              "color": "white"
             }
            },
            "type": "table"
           }
          ]
         },
         "layout": {
          "annotationdefaults": {
           "arrowcolor": "#2a3f5f",
           "arrowhead": 0,
           "arrowwidth": 1
          },
          "autotypenumbers": "strict",
          "coloraxis": {
           "colorbar": {
            "outlinewidth": 0,
            "ticks": ""
           }
          },
          "colorscale": {
           "diverging": [
            [
             0,
             "#8e0152"
            ],
            [
             0.1,
             "#c51b7d"
            ],
            [
             0.2,
             "#de77ae"
            ],
            [
             0.3,
             "#f1b6da"
            ],
            [
             0.4,
             "#fde0ef"
            ],
            [
             0.5,
             "#f7f7f7"
            ],
            [
             0.6,
             "#e6f5d0"
            ],
            [
             0.7,
             "#b8e186"
            ],
            [
             0.8,
             "#7fbc41"
            ],
            [
             0.9,
             "#4d9221"
            ],
            [
             1,
             "#276419"
            ]
           ],
           "sequential": [
            [
             0,
             "#0d0887"
            ],
            [
             0.1111111111111111,
             "#46039f"
            ],
            [
             0.2222222222222222,
             "#7201a8"
            ],
            [
             0.3333333333333333,
             "#9c179e"
            ],
            [
             0.4444444444444444,
             "#bd3786"
            ],
            [
             0.5555555555555556,
             "#d8576b"
            ],
            [
             0.6666666666666666,
             "#ed7953"
            ],
            [
             0.7777777777777778,
             "#fb9f3a"
            ],
            [
             0.8888888888888888,
             "#fdca26"
            ],
            [
             1,
             "#f0f921"
            ]
           ],
           "sequentialminus": [
            [
             0,
             "#0d0887"
            ],
            [
             0.1111111111111111,
             "#46039f"
            ],
            [
             0.2222222222222222,
             "#7201a8"
            ],
            [
             0.3333333333333333,
             "#9c179e"
            ],
            [
             0.4444444444444444,
             "#bd3786"
            ],
            [
             0.5555555555555556,
             "#d8576b"
            ],
            [
             0.6666666666666666,
             "#ed7953"
            ],
            [
             0.7777777777777778,
             "#fb9f3a"
            ],
            [
             0.8888888888888888,
             "#fdca26"
            ],
            [
             1,
             "#f0f921"
            ]
           ]
          },
          "colorway": [
           "#636efa",
           "#EF553B",
           "#00cc96",
           "#ab63fa",
           "#FFA15A",
           "#19d3f3",
           "#FF6692",
           "#B6E880",
           "#FF97FF",
           "#FECB52"
          ],
          "font": {
           "color": "#2a3f5f"
          },
          "geo": {
           "bgcolor": "white",
           "lakecolor": "white",
           "landcolor": "#E5ECF6",
           "showlakes": true,
           "showland": true,
           "subunitcolor": "white"
          },
          "hoverlabel": {
           "align": "left"
          },
          "hovermode": "closest",
          "mapbox": {
           "style": "light"
          },
          "paper_bgcolor": "white",
          "plot_bgcolor": "#E5ECF6",
          "polar": {
           "angularaxis": {
            "gridcolor": "white",
            "linecolor": "white",
            "ticks": ""
           },
           "bgcolor": "#E5ECF6",
           "radialaxis": {
            "gridcolor": "white",
            "linecolor": "white",
            "ticks": ""
           }
          },
          "scene": {
           "xaxis": {
            "backgroundcolor": "#E5ECF6",
            "gridcolor": "white",
            "gridwidth": 2,
            "linecolor": "white",
            "showbackground": true,
            "ticks": "",
            "zerolinecolor": "white"
           },
           "yaxis": {
            "backgroundcolor": "#E5ECF6",
            "gridcolor": "white",
            "gridwidth": 2,
            "linecolor": "white",
            "showbackground": true,
            "ticks": "",
            "zerolinecolor": "white"
           },
           "zaxis": {
            "backgroundcolor": "#E5ECF6",
            "gridcolor": "white",
            "gridwidth": 2,
            "linecolor": "white",
            "showbackground": true,
            "ticks": "",
            "zerolinecolor": "white"
           }
          },
          "shapedefaults": {
           "line": {
            "color": "#2a3f5f"
           }
          },
          "ternary": {
           "aaxis": {
            "gridcolor": "white",
            "linecolor": "white",
            "ticks": ""
           },
           "baxis": {
            "gridcolor": "white",
            "linecolor": "white",
            "ticks": ""
           },
           "bgcolor": "#E5ECF6",
           "caxis": {
            "gridcolor": "white",
            "linecolor": "white",
            "ticks": ""
           }
          },
          "title": {
           "x": 0.05
          },
          "xaxis": {
           "automargin": true,
           "gridcolor": "white",
           "linecolor": "white",
           "ticks": "",
           "title": {
            "standoff": 15
           },
           "zerolinecolor": "white",
           "zerolinewidth": 2
          },
          "yaxis": {
           "automargin": true,
           "gridcolor": "white",
           "linecolor": "white",
           "ticks": "",
           "title": {
            "standoff": 15
           },
           "zerolinecolor": "white",
           "zerolinewidth": 2
          }
         }
        },
        "title": {
         "text": "Correlation between different load profile characteristics and total yearly savings"
        },
        "xaxis": {
         "anchor": "y",
         "domain": [
          0,
          1
         ],
         "title": {
          "text": "Variable"
         }
        },
        "yaxis": {
         "anchor": "x",
         "domain": [
          0,
          1
         ],
         "title": {
          "text": "Correlation coefficient"
         }
        }
       }
      }
     },
     "metadata": {},
     "output_type": "display_data"
    }
   ],
   "source": [
    "abs_corr_fig_df = abs_correlations_df[[\"total_yearly_costs_eur\"]].round(2)\n",
    "abs_corr_fig_df.sort_values(\"total_yearly_costs_eur\", inplace=True, ascending=False)\n",
    "abs_corr_fig = px.bar(\n",
    "    data_frame=abs_corr_fig_df,\n",
    "    y=\"total_yearly_costs_eur\",\n",
    "    text_auto=True,\n",
    "    title=\"Correlation between different load profile characteristics and total yearly savings\")\n",
    "abs_corr_fig.update_layout(yaxis_title=\"Correlation coefficient\", xaxis_title=\"Variable\")\n",
    "abs_corr_fig.show()"
   ]
  },
  {
   "cell_type": "code",
   "execution_count": 137,
   "id": "abf9c1ce",
   "metadata": {},
   "outputs": [
    {
     "name": "stderr",
     "output_type": "stream",
     "text": [
      "/usr/lib/python3/dist-packages/scipy/stats/_stats_py.py:4781: ConstantInputWarning:\n",
      "\n",
      "An input array is constant; the correlation coefficient is not defined.\n",
      "\n",
      "/usr/lib/python3/dist-packages/scipy/stats/_stats_py.py:4781: ConstantInputWarning:\n",
      "\n",
      "An input array is constant; the correlation coefficient is not defined.\n",
      "\n",
      "/usr/lib/python3/dist-packages/scipy/stats/_stats_py.py:4781: ConstantInputWarning:\n",
      "\n",
      "An input array is constant; the correlation coefficient is not defined.\n",
      "\n",
      "/usr/lib/python3/dist-packages/scipy/stats/_stats_py.py:4781: ConstantInputWarning:\n",
      "\n",
      "An input array is constant; the correlation coefficient is not defined.\n",
      "\n",
      "/usr/lib/python3/dist-packages/scipy/stats/_stats_py.py:4781: ConstantInputWarning:\n",
      "\n",
      "An input array is constant; the correlation coefficient is not defined.\n",
      "\n",
      "/usr/lib/python3/dist-packages/scipy/stats/_stats_py.py:4781: ConstantInputWarning:\n",
      "\n",
      "An input array is constant; the correlation coefficient is not defined.\n",
      "\n"
     ]
    },
    {
     "data": {
      "text/html": [
       "<div>\n",
       "<style scoped>\n",
       "    .dataframe tbody tr th:only-of-type {\n",
       "        vertical-align: middle;\n",
       "    }\n",
       "\n",
       "    .dataframe tbody tr th {\n",
       "        vertical-align: top;\n",
       "    }\n",
       "\n",
       "    .dataframe thead th {\n",
       "        text-align: right;\n",
       "    }\n",
       "</style>\n",
       "<table border=\"1\" class=\"dataframe\">\n",
       "  <thead>\n",
       "    <tr style=\"text-align: right;\">\n",
       "      <th></th>\n",
       "      <th>var</th>\n",
       "      <th>corr</th>\n",
       "      <th>p_value</th>\n",
       "    </tr>\n",
       "  </thead>\n",
       "  <tbody>\n",
       "    <tr>\n",
       "      <th>0</th>\n",
       "      <td>total_yearly_costs_eur</td>\n",
       "      <td>1.000000</td>\n",
       "      <td>0.000000e+00</td>\n",
       "    </tr>\n",
       "    <tr>\n",
       "      <th>1</th>\n",
       "      <td>energy_costs_eur</td>\n",
       "      <td>0.998140</td>\n",
       "      <td>0.000000e+00</td>\n",
       "    </tr>\n",
       "    <tr>\n",
       "      <th>2</th>\n",
       "      <td>grid_energy_costs_eur</td>\n",
       "      <td>0.983971</td>\n",
       "      <td>0.000000e+00</td>\n",
       "    </tr>\n",
       "    <tr>\n",
       "      <th>3</th>\n",
       "      <td>grid_capacity_kw</td>\n",
       "      <td>0.756781</td>\n",
       "      <td>4.417235e-308</td>\n",
       "    </tr>\n",
       "    <tr>\n",
       "      <th>4</th>\n",
       "      <td>total_energy_kwh</td>\n",
       "      <td>0.656632</td>\n",
       "      <td>4.008584e-205</td>\n",
       "    </tr>\n",
       "    <tr>\n",
       "      <th>5</th>\n",
       "      <td>mean_load_kw</td>\n",
       "      <td>0.656632</td>\n",
       "      <td>4.008584e-205</td>\n",
       "    </tr>\n",
       "    <tr>\n",
       "      <th>6</th>\n",
       "      <td>peak_load_kw</td>\n",
       "      <td>0.572732</td>\n",
       "      <td>3.835981e-145</td>\n",
       "    </tr>\n",
       "    <tr>\n",
       "      <th>7</th>\n",
       "      <td>grid_capacity_costs_eur</td>\n",
       "      <td>0.488289</td>\n",
       "      <td>4.577228e-100</td>\n",
       "    </tr>\n",
       "    <tr>\n",
       "      <th>8</th>\n",
       "      <td>std_kw</td>\n",
       "      <td>0.487023</td>\n",
       "      <td>1.753795e-99</td>\n",
       "    </tr>\n",
       "    <tr>\n",
       "      <th>9</th>\n",
       "      <td>variance_kw</td>\n",
       "      <td>0.429455</td>\n",
       "      <td>2.226622e-75</td>\n",
       "    </tr>\n",
       "    <tr>\n",
       "      <th>10</th>\n",
       "      <td>full_load_hours_h</td>\n",
       "      <td>0.362649</td>\n",
       "      <td>1.063461e-52</td>\n",
       "    </tr>\n",
       "    <tr>\n",
       "      <th>11</th>\n",
       "      <td>is_over_2500h</td>\n",
       "      <td>0.207762</td>\n",
       "      <td>1.265578e-17</td>\n",
       "    </tr>\n",
       "    <tr>\n",
       "      <th>12</th>\n",
       "      <td>number_of_peak_load</td>\n",
       "      <td>-0.017494</td>\n",
       "      <td>4.765561e-01</td>\n",
       "    </tr>\n",
       "    <tr>\n",
       "      <th>13</th>\n",
       "      <td>capacity_price_over_2500h_eur_per_kw</td>\n",
       "      <td>-0.017869</td>\n",
       "      <td>4.671667e-01</td>\n",
       "    </tr>\n",
       "    <tr>\n",
       "      <th>14</th>\n",
       "      <td>peak_by_mean</td>\n",
       "      <td>-0.056294</td>\n",
       "      <td>2.188806e-02</td>\n",
       "    </tr>\n",
       "    <tr>\n",
       "      <th>15</th>\n",
       "      <td>energy_price_under_2500h_eur_per_kwh</td>\n",
       "      <td>-0.060222</td>\n",
       "      <td>1.418563e-02</td>\n",
       "    </tr>\n",
       "    <tr>\n",
       "      <th>16</th>\n",
       "      <td>capacity_price_under_2500h_eur_per_kw</td>\n",
       "      <td>-0.067075</td>\n",
       "      <td>6.290680e-03</td>\n",
       "    </tr>\n",
       "    <tr>\n",
       "      <th>17</th>\n",
       "      <td>energy_price_over_2500h_eur_per_kwh</td>\n",
       "      <td>-0.100180</td>\n",
       "      <td>4.381045e-05</td>\n",
       "    </tr>\n",
       "    <tr>\n",
       "      <th>18</th>\n",
       "      <td>std_by_peak</td>\n",
       "      <td>-0.111526</td>\n",
       "      <td>5.314576e-06</td>\n",
       "    </tr>\n",
       "    <tr>\n",
       "      <th>19</th>\n",
       "      <td>std_by_mean</td>\n",
       "      <td>-0.183948</td>\n",
       "      <td>4.388486e-14</td>\n",
       "    </tr>\n",
       "    <tr>\n",
       "      <th>20</th>\n",
       "      <td>total_annuity_eur</td>\n",
       "      <td>-0.996384</td>\n",
       "      <td>0.000000e+00</td>\n",
       "    </tr>\n",
       "    <tr>\n",
       "      <th>21</th>\n",
       "      <td>total_invest_eur</td>\n",
       "      <td>-0.996384</td>\n",
       "      <td>0.000000e+00</td>\n",
       "    </tr>\n",
       "    <tr>\n",
       "      <th>22</th>\n",
       "      <td>storage_invest_eur</td>\n",
       "      <td>NaN</td>\n",
       "      <td>NaN</td>\n",
       "    </tr>\n",
       "    <tr>\n",
       "      <th>23</th>\n",
       "      <td>storage_annuity_eur</td>\n",
       "      <td>NaN</td>\n",
       "      <td>NaN</td>\n",
       "    </tr>\n",
       "    <tr>\n",
       "      <th>24</th>\n",
       "      <td>storage_capacity_kwh</td>\n",
       "      <td>NaN</td>\n",
       "      <td>NaN</td>\n",
       "    </tr>\n",
       "    <tr>\n",
       "      <th>25</th>\n",
       "      <td>inverter_invest_eur</td>\n",
       "      <td>NaN</td>\n",
       "      <td>NaN</td>\n",
       "    </tr>\n",
       "    <tr>\n",
       "      <th>26</th>\n",
       "      <td>inverter_annuity_eur</td>\n",
       "      <td>NaN</td>\n",
       "      <td>NaN</td>\n",
       "    </tr>\n",
       "    <tr>\n",
       "      <th>27</th>\n",
       "      <td>inverter_capacity_kw</td>\n",
       "      <td>NaN</td>\n",
       "      <td>NaN</td>\n",
       "    </tr>\n",
       "  </tbody>\n",
       "</table>\n",
       "</div>"
      ],
      "text/plain": [
       "                                      var      corr        p_value\n",
       "0                  total_yearly_costs_eur  1.000000   0.000000e+00\n",
       "1                        energy_costs_eur  0.998140   0.000000e+00\n",
       "2                   grid_energy_costs_eur  0.983971   0.000000e+00\n",
       "3                        grid_capacity_kw  0.756781  4.417235e-308\n",
       "4                        total_energy_kwh  0.656632  4.008584e-205\n",
       "5                            mean_load_kw  0.656632  4.008584e-205\n",
       "6                            peak_load_kw  0.572732  3.835981e-145\n",
       "7                 grid_capacity_costs_eur  0.488289  4.577228e-100\n",
       "8                                  std_kw  0.487023   1.753795e-99\n",
       "9                             variance_kw  0.429455   2.226622e-75\n",
       "10                      full_load_hours_h  0.362649   1.063461e-52\n",
       "11                          is_over_2500h  0.207762   1.265578e-17\n",
       "12                    number_of_peak_load -0.017494   4.765561e-01\n",
       "13   capacity_price_over_2500h_eur_per_kw -0.017869   4.671667e-01\n",
       "14                           peak_by_mean -0.056294   2.188806e-02\n",
       "15   energy_price_under_2500h_eur_per_kwh -0.060222   1.418563e-02\n",
       "16  capacity_price_under_2500h_eur_per_kw -0.067075   6.290680e-03\n",
       "17    energy_price_over_2500h_eur_per_kwh -0.100180   4.381045e-05\n",
       "18                            std_by_peak -0.111526   5.314576e-06\n",
       "19                            std_by_mean -0.183948   4.388486e-14\n",
       "20                      total_annuity_eur -0.996384   0.000000e+00\n",
       "21                       total_invest_eur -0.996384   0.000000e+00\n",
       "22                     storage_invest_eur       NaN            NaN\n",
       "23                    storage_annuity_eur       NaN            NaN\n",
       "24                   storage_capacity_kwh       NaN            NaN\n",
       "25                    inverter_invest_eur       NaN            NaN\n",
       "26                   inverter_annuity_eur       NaN            NaN\n",
       "27                   inverter_capacity_kw       NaN            NaN"
      ]
     },
     "execution_count": 137,
     "metadata": {},
     "output_type": "execute_result"
    }
   ],
   "source": [
    "df = pd.DataFrame()\n",
    "i = 0\n",
    "for var in abs_correlations_df.index:\n",
    "    corr, p_value = pearsonr(y=abs_diff_with_master.dropna()[\"total_yearly_costs_eur\"], x=abs_diff_with_master.dropna()[var])\n",
    "    df.loc[i, \"var\"] = var\n",
    "    df.loc[i, \"corr\"] = corr\n",
    "    df.loc[i, \"p_value\"] = p_value\n",
    "    i += 1\n",
    "\n",
    "df.sort_values(\"corr\", ascending=False, ignore_index=True)"
   ]
  },
  {
   "cell_type": "markdown",
   "id": "71669e2f",
   "metadata": {},
   "source": [
    "## On relative savings"
   ]
  },
  {
   "cell_type": "code",
   "execution_count": 138,
   "id": "5651ac53",
   "metadata": {},
   "outputs": [],
   "source": [
    "# merge savings onto master (with features)\n",
    "rel_diff_with_master = pd.merge(left=rel_diff, right=master, how=\"left\", left_index=True, right_index=True)\n",
    "rel_diff_with_master.head()\n",
    "\n",
    "rel_diff_with_master[\"std_by_mean\"] = rel_diff_with_master[\"std_kw\"] / rel_diff_with_master[\"mean_load_kw\"]\n",
    "rel_diff_with_master[\"std_by_peak\"] = rel_diff_with_master[\"std_kw\"] / rel_diff_with_master[\"peak_load_kw\"]\n",
    "rel_diff_with_master[\"peak_by_mean\"] = rel_diff_with_master[\"peak_load_kw\"] / rel_diff_with_master[\"mean_load_kw\"]"
   ]
  },
  {
   "cell_type": "code",
   "execution_count": 139,
   "id": "56fdc12f",
   "metadata": {},
   "outputs": [
    {
     "data": {
      "application/vnd.plotly.v1+json": {
       "config": {
        "plotlyServerURL": "https://plot.ly"
       },
       "data": [
        {
         "coloraxis": "coloraxis",
         "hovertemplate": "x: %{x}<br>y: %{y}<br>color: %{z}<extra></extra>",
         "name": "0",
         "type": "heatmap",
         "x": [
          "energy_costs_eur",
          "grid_energy_costs_eur",
          "grid_capacity_costs_eur",
          "grid_capacity_kw",
          "storage_invest_eur",
          "storage_annuity_eur",
          "storage_capacity_kwh",
          "inverter_invest_eur",
          "inverter_annuity_eur",
          "inverter_capacity_kw",
          "total_yearly_costs_eur",
          "total_annuity_eur",
          "total_invest_eur",
          "capacity_price_over_2500h_eur_per_kw",
          "energy_price_over_2500h_eur_per_kwh",
          "capacity_price_under_2500h_eur_per_kw",
          "energy_price_under_2500h_eur_per_kwh",
          "number_of_peak_load",
          "peak_load_kw",
          "mean_load_kw",
          "variance_kw",
          "total_energy_kwh",
          "full_load_hours_h",
          "is_over_2500h",
          "std_kw",
          "std_by_mean",
          "std_by_peak",
          "peak_by_mean"
         ],
         "xaxis": "x",
         "y": [
          "energy_costs_eur",
          "grid_energy_costs_eur",
          "grid_capacity_costs_eur",
          "grid_capacity_kw",
          "storage_invest_eur",
          "storage_annuity_eur",
          "storage_capacity_kwh",
          "inverter_invest_eur",
          "inverter_annuity_eur",
          "inverter_capacity_kw",
          "total_yearly_costs_eur",
          "total_annuity_eur",
          "total_invest_eur",
          "capacity_price_over_2500h_eur_per_kw",
          "energy_price_over_2500h_eur_per_kwh",
          "capacity_price_under_2500h_eur_per_kw",
          "energy_price_under_2500h_eur_per_kwh",
          "number_of_peak_load",
          "peak_load_kw",
          "mean_load_kw",
          "variance_kw",
          "total_energy_kwh",
          "full_load_hours_h",
          "is_over_2500h",
          "std_kw",
          "std_by_mean",
          "std_by_peak",
          "peak_by_mean"
         ],
         "yaxis": "y",
         "z": [
          [
           1,
           1.0000000000000004,
           0.6629629886329494,
           0.6629629886329494,
           null,
           null,
           null,
           null,
           null,
           null,
           0.9971245452564954,
           null,
           null,
           -0.08380954074282704,
           0.06951888693808819,
           -0.053002767512836786,
           -0.018369491429513263,
           -0.040007478578380905,
           -0.028915896704842153,
           0.025804287088508737,
           -0.018512426201339565,
           0.025804287088508692,
           0.24702575119699832,
           0.22436292620055315,
           -0.08827586255290659,
           -0.2723597309360122,
           -0.37222678460646447,
           -0.07361986585542107
          ],
          [
           1.0000000000000004,
           1,
           0.6629629886328966,
           0.6629629886328968,
           null,
           null,
           null,
           null,
           null,
           null,
           0.9971245452564778,
           null,
           null,
           -0.08380954074282572,
           0.06951888693812638,
           -0.05300276751281174,
           -0.01836949142949583,
           -0.04000747857831195,
           -0.028915896704862734,
           0.025804287088482897,
           -0.01851242620133412,
           0.025804287088482817,
           0.24702575119690084,
           0.2243629262005039,
           -0.08827586255291901,
           -0.2723597309360932,
           -0.3722267846067441,
           -0.07361986585536141
          ],
          [
           0.6629629886329494,
           0.6629629886328966,
           1,
           1,
           null,
           null,
           null,
           null,
           null,
           null,
           0.6788951513506536,
           null,
           null,
           -0.10186278884351582,
           0.03891921003912661,
           -0.051939245217498396,
           -0.05589931532842317,
           -0.04472184717412021,
           -0.009301693656191884,
           0.0211265626359612,
           -0.021791837751259282,
           0.021126562635961143,
           0.19171261281606647,
           0.21122086638987397,
           -0.046517294596734,
           -0.20273459073238348,
           -0.2273997137463194,
           -0.05977575352717825
          ],
          [
           0.6629629886329494,
           0.6629629886328968,
           1,
           1,
           null,
           null,
           null,
           null,
           null,
           null,
           0.6788951513506541,
           null,
           null,
           -0.10186278884351577,
           0.038919210039126684,
           -0.051939245217498244,
           -0.05589931532842311,
           -0.044721847174120255,
           -0.009301693656191991,
           0.02112656263596116,
           -0.021791837751259306,
           0.021126562635961132,
           0.1917126128160665,
           0.21122086638987383,
           -0.04651729459673411,
           -0.20273459073238348,
           -0.22739971374631943,
           -0.059775753527178274
          ],
          [
           null,
           null,
           null,
           null,
           null,
           null,
           null,
           null,
           null,
           null,
           null,
           null,
           null,
           null,
           null,
           null,
           null,
           null,
           null,
           null,
           null,
           null,
           null,
           null,
           null,
           null,
           null,
           null
          ],
          [
           null,
           null,
           null,
           null,
           null,
           null,
           null,
           null,
           null,
           null,
           null,
           null,
           null,
           null,
           null,
           null,
           null,
           null,
           null,
           null,
           null,
           null,
           null,
           null,
           null,
           null,
           null,
           null
          ],
          [
           null,
           null,
           null,
           null,
           null,
           null,
           null,
           null,
           null,
           null,
           null,
           null,
           null,
           null,
           null,
           null,
           null,
           null,
           null,
           null,
           null,
           null,
           null,
           null,
           null,
           null,
           null,
           null
          ],
          [
           null,
           null,
           null,
           null,
           null,
           null,
           null,
           null,
           null,
           null,
           null,
           null,
           null,
           null,
           null,
           null,
           null,
           null,
           null,
           null,
           null,
           null,
           null,
           null,
           null,
           null,
           null,
           null
          ],
          [
           null,
           null,
           null,
           null,
           null,
           null,
           null,
           null,
           null,
           null,
           null,
           null,
           null,
           null,
           null,
           null,
           null,
           null,
           null,
           null,
           null,
           null,
           null,
           null,
           null,
           null,
           null,
           null
          ],
          [
           null,
           null,
           null,
           null,
           null,
           null,
           null,
           null,
           null,
           null,
           null,
           null,
           null,
           null,
           null,
           null,
           null,
           null,
           null,
           null,
           null,
           null,
           null,
           null,
           null,
           null,
           null,
           null
          ],
          [
           0.9971245452564954,
           0.9971245452564778,
           0.6788951513506536,
           0.6788951513506541,
           null,
           null,
           null,
           null,
           null,
           null,
           1,
           null,
           null,
           -0.08342656825753003,
           0.06784950553676183,
           -0.05556212521848363,
           -0.018129939464644397,
           -0.03926651570925467,
           -0.024261951481393124,
           0.03334038660180538,
           -0.01691472941423611,
           0.0333403866018053,
           0.27732634229379916,
           0.2635826354895854,
           -0.08160761771402346,
           -0.28710030451563934,
           -0.3588003205788933,
           -0.08281600421705507
          ],
          [
           null,
           null,
           null,
           null,
           null,
           null,
           null,
           null,
           null,
           null,
           null,
           null,
           null,
           null,
           null,
           null,
           null,
           null,
           null,
           null,
           null,
           null,
           null,
           null,
           null,
           null,
           null,
           null
          ],
          [
           null,
           null,
           null,
           null,
           null,
           null,
           null,
           null,
           null,
           null,
           null,
           null,
           null,
           null,
           null,
           null,
           null,
           null,
           null,
           null,
           null,
           null,
           null,
           null,
           null,
           null,
           null,
           null
          ],
          [
           -0.08380954074282704,
           -0.08380954074282572,
           -0.10186278884351582,
           -0.10186278884351577,
           null,
           null,
           null,
           null,
           null,
           null,
           -0.08342656825753003,
           null,
           null,
           1,
           -0.08798287300977763,
           0.27118947022198353,
           0.822198638689225,
           -0.022272590904508022,
           -0.0838032267304493,
           -0.06187672856450966,
           -0.02862572067149725,
           -0.061876728564509736,
           -0.04231369682157637,
           -0.05382737671832648,
           -0.06226776760119481,
           0.007673838194134067,
           0.015720663868688686,
           -0.03545359685206936
          ],
          [
           0.06951888693808819,
           0.06951888693812638,
           0.03891921003912661,
           0.038919210039126684,
           null,
           null,
           null,
           null,
           null,
           null,
           0.06784950553676183,
           null,
           null,
           -0.08798287300977763,
           1,
           0.46177929213129626,
           0.4007840359399235,
           0.004751166509004403,
           -0.18613058485282008,
           -0.17433268993373835,
           -0.07522067989154482,
           -0.17433268993373793,
           -0.09620905677041171,
           -0.07168394802110557,
           -0.17870086697924853,
           0.02270846266799874,
           -0.09257968442298682,
           0.04910388795377121
          ],
          [
           -0.053002767512836786,
           -0.05300276751281174,
           -0.051939245217498396,
           -0.051939245217498244,
           null,
           null,
           null,
           null,
           null,
           null,
           -0.05556212521848363,
           null,
           null,
           0.27118947022198353,
           0.46177929213129626,
           1,
           0.19571336691008817,
           0.03942195716707788,
           -0.06930474150022557,
           -0.05795790235373616,
           -0.03887237405821544,
           -0.057957902353736074,
           0.008541863422705947,
           0.023505365654382326,
           -0.06439600150314148,
           -0.02508986915644988,
           0.0061702832544469986,
           -0.015111080450177552
          ],
          [
           -0.018369491429513263,
           -0.01836949142949583,
           -0.05589931532842317,
           -0.05589931532842311,
           null,
           null,
           null,
           null,
           null,
           null,
           -0.018129939464644397,
           null,
           null,
           0.822198638689225,
           0.4007840359399235,
           0.19571336691008817,
           1,
           -0.033129499622803635,
           -0.17912224999369067,
           -0.1541000253469777,
           -0.06303954854057049,
           -0.15410002534697767,
           -0.10856326269141879,
           -0.10924415255327839,
           -0.15483125121069555,
           0.032148570518308106,
           -0.04775279650096168,
           0.003291704213173988
          ],
          [
           -0.040007478578380905,
           -0.04000747857831195,
           -0.04472184717412021,
           -0.044721847174120255,
           null,
           null,
           null,
           null,
           null,
           null,
           -0.03926651570925467,
           null,
           null,
           -0.022272590904508022,
           0.004751166509004403,
           0.03942195716707788,
           -0.033129499622803635,
           1,
           0.02738142863399608,
           0.0136463658863027,
           0.03114323616643696,
           0.01364636588630269,
           -0.02040714249544729,
           -0.014230877162034554,
           0.0655283317341053,
           0.025994258328480815,
           0.06451048819272923,
           -0.0033518821941557137
          ],
          [
           -0.028915896704842153,
           -0.028915896704862734,
           -0.009301693656191884,
           -0.009301693656191991,
           null,
           null,
           null,
           null,
           null,
           null,
           -0.024261951481393124,
           null,
           null,
           -0.0838032267304493,
           -0.18613058485282008,
           -0.06930474150022557,
           -0.17912224999369067,
           0.02738142863399608,
           1,
           0.8605191103792776,
           0.6920470440607164,
           0.8605191103792755,
           0.19478785549016214,
           0.10918534800733011,
           0.8844469800157225,
           -0.033222066014869045,
           0.013157876715215278,
           0.03812448970347398
          ],
          [
           0.025804287088508737,
           0.025804287088482897,
           0.0211265626359612,
           0.02112656263596116,
           null,
           null,
           null,
           null,
           null,
           null,
           0.03334038660180538,
           null,
           null,
           -0.06187672856450966,
           -0.17433268993373835,
           -0.05795790235373616,
           -0.1541000253469777,
           0.0136463658863027,
           0.8605191103792776,
           1,
           0.7335031816281653,
           1.0000000000000038,
           0.37000428720801865,
           0.20374114241449753,
           0.8630792138683915,
           -0.15696948274540773,
           0.015807471469171584,
           -0.05836350969102295
          ],
          [
           -0.018512426201339565,
           -0.01851242620133412,
           -0.021791837751259282,
           -0.021791837751259306,
           null,
           null,
           null,
           null,
           null,
           null,
           -0.01691472941423611,
           null,
           null,
           -0.02862572067149725,
           -0.07522067989154482,
           -0.03887237405821544,
           -0.06303954854057049,
           0.03114323616643696,
           0.6920470440607164,
           0.7335031816281653,
           1,
           0.7335031816281645,
           0.07926845799276432,
           0.04997248904356009,
           0.8117309231182107,
           -0.02431496442432957,
           0.05961140761427882,
           -0.012798186000784958
          ],
          [
           0.025804287088508692,
           0.025804287088482817,
           0.021126562635961143,
           0.021126562635961132,
           null,
           null,
           null,
           null,
           null,
           null,
           0.0333403866018053,
           null,
           null,
           -0.061876728564509736,
           -0.17433268993373793,
           -0.057957902353736074,
           -0.15410002534697767,
           0.01364636588630269,
           0.8605191103792755,
           1.0000000000000038,
           0.7335031816281645,
           1,
           0.37000428720801826,
           0.20374114241449742,
           0.8630792138683896,
           -0.15696948274540742,
           0.01580747146917157,
           -0.05836350969102296
          ],
          [
           0.24702575119699832,
           0.24702575119690084,
           0.19171261281606647,
           0.1917126128160665,
           null,
           null,
           null,
           null,
           null,
           null,
           0.27732634229379916,
           null,
           null,
           -0.04231369682157637,
           -0.09620905677041171,
           0.008541863422705947,
           -0.10856326269141879,
           -0.02040714249544729,
           0.19478785549016214,
           0.37000428720801865,
           0.07926845799276432,
           0.37000428720801826,
           1,
           0.7255152552807805,
           0.2095390782094496,
           -0.5744313827491422,
           -0.033542815565489416,
           -0.24974431322196686
          ],
          [
           0.22436292620055315,
           0.2243629262005039,
           0.21122086638987397,
           0.21122086638987383,
           null,
           null,
           null,
           null,
           null,
           null,
           0.2635826354895854,
           null,
           null,
           -0.05382737671832648,
           -0.07168394802110557,
           0.023505365654382326,
           -0.10924415255327839,
           -0.014230877162034554,
           0.10918534800733011,
           0.20374114241449753,
           0.04997248904356009,
           0.20374114241449742,
           0.7255152552807805,
           1,
           0.14751426824885827,
           -0.47334032021502165,
           0.13325922983307995,
           -0.2021314767844304
          ],
          [
           -0.08827586255290659,
           -0.08827586255291901,
           -0.046517294596734,
           -0.04651729459673411,
           null,
           null,
           null,
           null,
           null,
           null,
           -0.08160761771402346,
           null,
           null,
           -0.06226776760119481,
           -0.17870086697924853,
           -0.06439600150314148,
           -0.15483125121069555,
           0.0655283317341053,
           0.8844469800157225,
           0.8630792138683915,
           0.8117309231182107,
           0.8630792138683896,
           0.2095390782094496,
           0.14751426824885827,
           1,
           -0.05290718493897595,
           0.19146201021878106,
           -0.033978541546037785
          ],
          [
           -0.2723597309360122,
           -0.2723597309360932,
           -0.20273459073238348,
           -0.20273459073238348,
           null,
           null,
           null,
           null,
           null,
           null,
           -0.28710030451563934,
           null,
           null,
           0.007673838194134067,
           0.02270846266799874,
           -0.02508986915644988,
           0.032148570518308106,
           0.025994258328480815,
           -0.033222066014869045,
           -0.15696948274540773,
           -0.02431496442432957,
           -0.15696948274540742,
           -0.5744313827491422,
           -0.47334032021502165,
           -0.05290718493897595,
           1,
           0.1235432205421202,
           0.813897546592285
          ],
          [
           -0.37222678460646447,
           -0.3722267846067441,
           -0.2273997137463194,
           -0.22739971374631943,
           null,
           null,
           null,
           null,
           null,
           null,
           -0.3588003205788933,
           null,
           null,
           0.015720663868688686,
           -0.09257968442298682,
           0.0061702832544469986,
           -0.04775279650096168,
           0.06451048819272923,
           0.013157876715215278,
           0.015807471469171584,
           0.05961140761427882,
           0.01580747146917157,
           -0.033542815565489416,
           0.13325922983307995,
           0.19146201021878106,
           0.1235432205421202,
           1,
           -0.15171669432502075
          ],
          [
           -0.07361986585542107,
           -0.07361986585536141,
           -0.05977575352717825,
           -0.059775753527178274,
           null,
           null,
           null,
           null,
           null,
           null,
           -0.08281600421705507,
           null,
           null,
           -0.03545359685206936,
           0.04910388795377121,
           -0.015111080450177552,
           0.003291704213173988,
           -0.0033518821941557137,
           0.03812448970347398,
           -0.05836350969102295,
           -0.012798186000784958,
           -0.05836350969102296,
           -0.24974431322196686,
           -0.2021314767844304,
           -0.033978541546037785,
           0.813897546592285,
           -0.15171669432502075,
           1
          ]
         ]
        }
       ],
       "layout": {
        "coloraxis": {
         "colorscale": [
          [
           0,
           "#0d0887"
          ],
          [
           0.1111111111111111,
           "#46039f"
          ],
          [
           0.2222222222222222,
           "#7201a8"
          ],
          [
           0.3333333333333333,
           "#9c179e"
          ],
          [
           0.4444444444444444,
           "#bd3786"
          ],
          [
           0.5555555555555556,
           "#d8576b"
          ],
          [
           0.6666666666666666,
           "#ed7953"
          ],
          [
           0.7777777777777778,
           "#fb9f3a"
          ],
          [
           0.8888888888888888,
           "#fdca26"
          ],
          [
           1,
           "#f0f921"
          ]
         ]
        },
        "template": {
         "data": {
          "bar": [
           {
            "error_x": {
             "color": "#2a3f5f"
            },
            "error_y": {
             "color": "#2a3f5f"
            },
            "marker": {
             "line": {
              "color": "#E5ECF6",
              "width": 0.5
             },
             "pattern": {
              "fillmode": "overlay",
              "size": 10,
              "solidity": 0.2
             }
            },
            "type": "bar"
           }
          ],
          "barpolar": [
           {
            "marker": {
             "line": {
              "color": "#E5ECF6",
              "width": 0.5
             },
             "pattern": {
              "fillmode": "overlay",
              "size": 10,
              "solidity": 0.2
             }
            },
            "type": "barpolar"
           }
          ],
          "carpet": [
           {
            "aaxis": {
             "endlinecolor": "#2a3f5f",
             "gridcolor": "white",
             "linecolor": "white",
             "minorgridcolor": "white",
             "startlinecolor": "#2a3f5f"
            },
            "baxis": {
             "endlinecolor": "#2a3f5f",
             "gridcolor": "white",
             "linecolor": "white",
             "minorgridcolor": "white",
             "startlinecolor": "#2a3f5f"
            },
            "type": "carpet"
           }
          ],
          "choropleth": [
           {
            "colorbar": {
             "outlinewidth": 0,
             "ticks": ""
            },
            "type": "choropleth"
           }
          ],
          "contour": [
           {
            "colorbar": {
             "outlinewidth": 0,
             "ticks": ""
            },
            "colorscale": [
             [
              0,
              "#0d0887"
             ],
             [
              0.1111111111111111,
              "#46039f"
             ],
             [
              0.2222222222222222,
              "#7201a8"
             ],
             [
              0.3333333333333333,
              "#9c179e"
             ],
             [
              0.4444444444444444,
              "#bd3786"
             ],
             [
              0.5555555555555556,
              "#d8576b"
             ],
             [
              0.6666666666666666,
              "#ed7953"
             ],
             [
              0.7777777777777778,
              "#fb9f3a"
             ],
             [
              0.8888888888888888,
              "#fdca26"
             ],
             [
              1,
              "#f0f921"
             ]
            ],
            "type": "contour"
           }
          ],
          "contourcarpet": [
           {
            "colorbar": {
             "outlinewidth": 0,
             "ticks": ""
            },
            "type": "contourcarpet"
           }
          ],
          "heatmap": [
           {
            "colorbar": {
             "outlinewidth": 0,
             "ticks": ""
            },
            "colorscale": [
             [
              0,
              "#0d0887"
             ],
             [
              0.1111111111111111,
              "#46039f"
             ],
             [
              0.2222222222222222,
              "#7201a8"
             ],
             [
              0.3333333333333333,
              "#9c179e"
             ],
             [
              0.4444444444444444,
              "#bd3786"
             ],
             [
              0.5555555555555556,
              "#d8576b"
             ],
             [
              0.6666666666666666,
              "#ed7953"
             ],
             [
              0.7777777777777778,
              "#fb9f3a"
             ],
             [
              0.8888888888888888,
              "#fdca26"
             ],
             [
              1,
              "#f0f921"
             ]
            ],
            "type": "heatmap"
           }
          ],
          "heatmapgl": [
           {
            "colorbar": {
             "outlinewidth": 0,
             "ticks": ""
            },
            "colorscale": [
             [
              0,
              "#0d0887"
             ],
             [
              0.1111111111111111,
              "#46039f"
             ],
             [
              0.2222222222222222,
              "#7201a8"
             ],
             [
              0.3333333333333333,
              "#9c179e"
             ],
             [
              0.4444444444444444,
              "#bd3786"
             ],
             [
              0.5555555555555556,
              "#d8576b"
             ],
             [
              0.6666666666666666,
              "#ed7953"
             ],
             [
              0.7777777777777778,
              "#fb9f3a"
             ],
             [
              0.8888888888888888,
              "#fdca26"
             ],
             [
              1,
              "#f0f921"
             ]
            ],
            "type": "heatmapgl"
           }
          ],
          "histogram": [
           {
            "marker": {
             "pattern": {
              "fillmode": "overlay",
              "size": 10,
              "solidity": 0.2
             }
            },
            "type": "histogram"
           }
          ],
          "histogram2d": [
           {
            "colorbar": {
             "outlinewidth": 0,
             "ticks": ""
            },
            "colorscale": [
             [
              0,
              "#0d0887"
             ],
             [
              0.1111111111111111,
              "#46039f"
             ],
             [
              0.2222222222222222,
              "#7201a8"
             ],
             [
              0.3333333333333333,
              "#9c179e"
             ],
             [
              0.4444444444444444,
              "#bd3786"
             ],
             [
              0.5555555555555556,
              "#d8576b"
             ],
             [
              0.6666666666666666,
              "#ed7953"
             ],
             [
              0.7777777777777778,
              "#fb9f3a"
             ],
             [
              0.8888888888888888,
              "#fdca26"
             ],
             [
              1,
              "#f0f921"
             ]
            ],
            "type": "histogram2d"
           }
          ],
          "histogram2dcontour": [
           {
            "colorbar": {
             "outlinewidth": 0,
             "ticks": ""
            },
            "colorscale": [
             [
              0,
              "#0d0887"
             ],
             [
              0.1111111111111111,
              "#46039f"
             ],
             [
              0.2222222222222222,
              "#7201a8"
             ],
             [
              0.3333333333333333,
              "#9c179e"
             ],
             [
              0.4444444444444444,
              "#bd3786"
             ],
             [
              0.5555555555555556,
              "#d8576b"
             ],
             [
              0.6666666666666666,
              "#ed7953"
             ],
             [
              0.7777777777777778,
              "#fb9f3a"
             ],
             [
              0.8888888888888888,
              "#fdca26"
             ],
             [
              1,
              "#f0f921"
             ]
            ],
            "type": "histogram2dcontour"
           }
          ],
          "mesh3d": [
           {
            "colorbar": {
             "outlinewidth": 0,
             "ticks": ""
            },
            "type": "mesh3d"
           }
          ],
          "parcoords": [
           {
            "line": {
             "colorbar": {
              "outlinewidth": 0,
              "ticks": ""
             }
            },
            "type": "parcoords"
           }
          ],
          "pie": [
           {
            "automargin": true,
            "type": "pie"
           }
          ],
          "scatter": [
           {
            "fillpattern": {
             "fillmode": "overlay",
             "size": 10,
             "solidity": 0.2
            },
            "type": "scatter"
           }
          ],
          "scatter3d": [
           {
            "line": {
             "colorbar": {
              "outlinewidth": 0,
              "ticks": ""
             }
            },
            "marker": {
             "colorbar": {
              "outlinewidth": 0,
              "ticks": ""
             }
            },
            "type": "scatter3d"
           }
          ],
          "scattercarpet": [
           {
            "marker": {
             "colorbar": {
              "outlinewidth": 0,
              "ticks": ""
             }
            },
            "type": "scattercarpet"
           }
          ],
          "scattergeo": [
           {
            "marker": {
             "colorbar": {
              "outlinewidth": 0,
              "ticks": ""
             }
            },
            "type": "scattergeo"
           }
          ],
          "scattergl": [
           {
            "marker": {
             "colorbar": {
              "outlinewidth": 0,
              "ticks": ""
             }
            },
            "type": "scattergl"
           }
          ],
          "scattermapbox": [
           {
            "marker": {
             "colorbar": {
              "outlinewidth": 0,
              "ticks": ""
             }
            },
            "type": "scattermapbox"
           }
          ],
          "scatterpolar": [
           {
            "marker": {
             "colorbar": {
              "outlinewidth": 0,
              "ticks": ""
             }
            },
            "type": "scatterpolar"
           }
          ],
          "scatterpolargl": [
           {
            "marker": {
             "colorbar": {
              "outlinewidth": 0,
              "ticks": ""
             }
            },
            "type": "scatterpolargl"
           }
          ],
          "scatterternary": [
           {
            "marker": {
             "colorbar": {
              "outlinewidth": 0,
              "ticks": ""
             }
            },
            "type": "scatterternary"
           }
          ],
          "surface": [
           {
            "colorbar": {
             "outlinewidth": 0,
             "ticks": ""
            },
            "colorscale": [
             [
              0,
              "#0d0887"
             ],
             [
              0.1111111111111111,
              "#46039f"
             ],
             [
              0.2222222222222222,
              "#7201a8"
             ],
             [
              0.3333333333333333,
              "#9c179e"
             ],
             [
              0.4444444444444444,
              "#bd3786"
             ],
             [
              0.5555555555555556,
              "#d8576b"
             ],
             [
              0.6666666666666666,
              "#ed7953"
             ],
             [
              0.7777777777777778,
              "#fb9f3a"
             ],
             [
              0.8888888888888888,
              "#fdca26"
             ],
             [
              1,
              "#f0f921"
             ]
            ],
            "type": "surface"
           }
          ],
          "table": [
           {
            "cells": {
             "fill": {
              "color": "#EBF0F8"
             },
             "line": {
              "color": "white"
             }
            },
            "header": {
             "fill": {
              "color": "#C8D4E3"
             },
             "line": {
              "color": "white"
             }
            },
            "type": "table"
           }
          ]
         },
         "layout": {
          "annotationdefaults": {
           "arrowcolor": "#2a3f5f",
           "arrowhead": 0,
           "arrowwidth": 1
          },
          "autotypenumbers": "strict",
          "coloraxis": {
           "colorbar": {
            "outlinewidth": 0,
            "ticks": ""
           }
          },
          "colorscale": {
           "diverging": [
            [
             0,
             "#8e0152"
            ],
            [
             0.1,
             "#c51b7d"
            ],
            [
             0.2,
             "#de77ae"
            ],
            [
             0.3,
             "#f1b6da"
            ],
            [
             0.4,
             "#fde0ef"
            ],
            [
             0.5,
             "#f7f7f7"
            ],
            [
             0.6,
             "#e6f5d0"
            ],
            [
             0.7,
             "#b8e186"
            ],
            [
             0.8,
             "#7fbc41"
            ],
            [
             0.9,
             "#4d9221"
            ],
            [
             1,
             "#276419"
            ]
           ],
           "sequential": [
            [
             0,
             "#0d0887"
            ],
            [
             0.1111111111111111,
             "#46039f"
            ],
            [
             0.2222222222222222,
             "#7201a8"
            ],
            [
             0.3333333333333333,
             "#9c179e"
            ],
            [
             0.4444444444444444,
             "#bd3786"
            ],
            [
             0.5555555555555556,
             "#d8576b"
            ],
            [
             0.6666666666666666,
             "#ed7953"
            ],
            [
             0.7777777777777778,
             "#fb9f3a"
            ],
            [
             0.8888888888888888,
             "#fdca26"
            ],
            [
             1,
             "#f0f921"
            ]
           ],
           "sequentialminus": [
            [
             0,
             "#0d0887"
            ],
            [
             0.1111111111111111,
             "#46039f"
            ],
            [
             0.2222222222222222,
             "#7201a8"
            ],
            [
             0.3333333333333333,
             "#9c179e"
            ],
            [
             0.4444444444444444,
             "#bd3786"
            ],
            [
             0.5555555555555556,
             "#d8576b"
            ],
            [
             0.6666666666666666,
             "#ed7953"
            ],
            [
             0.7777777777777778,
             "#fb9f3a"
            ],
            [
             0.8888888888888888,
             "#fdca26"
            ],
            [
             1,
             "#f0f921"
            ]
           ]
          },
          "colorway": [
           "#636efa",
           "#EF553B",
           "#00cc96",
           "#ab63fa",
           "#FFA15A",
           "#19d3f3",
           "#FF6692",
           "#B6E880",
           "#FF97FF",
           "#FECB52"
          ],
          "font": {
           "color": "#2a3f5f"
          },
          "geo": {
           "bgcolor": "white",
           "lakecolor": "white",
           "landcolor": "#E5ECF6",
           "showlakes": true,
           "showland": true,
           "subunitcolor": "white"
          },
          "hoverlabel": {
           "align": "left"
          },
          "hovermode": "closest",
          "mapbox": {
           "style": "light"
          },
          "paper_bgcolor": "white",
          "plot_bgcolor": "#E5ECF6",
          "polar": {
           "angularaxis": {
            "gridcolor": "white",
            "linecolor": "white",
            "ticks": ""
           },
           "bgcolor": "#E5ECF6",
           "radialaxis": {
            "gridcolor": "white",
            "linecolor": "white",
            "ticks": ""
           }
          },
          "scene": {
           "xaxis": {
            "backgroundcolor": "#E5ECF6",
            "gridcolor": "white",
            "gridwidth": 2,
            "linecolor": "white",
            "showbackground": true,
            "ticks": "",
            "zerolinecolor": "white"
           },
           "yaxis": {
            "backgroundcolor": "#E5ECF6",
            "gridcolor": "white",
            "gridwidth": 2,
            "linecolor": "white",
            "showbackground": true,
            "ticks": "",
            "zerolinecolor": "white"
           },
           "zaxis": {
            "backgroundcolor": "#E5ECF6",
            "gridcolor": "white",
            "gridwidth": 2,
            "linecolor": "white",
            "showbackground": true,
            "ticks": "",
            "zerolinecolor": "white"
           }
          },
          "shapedefaults": {
           "line": {
            "color": "#2a3f5f"
           }
          },
          "ternary": {
           "aaxis": {
            "gridcolor": "white",
            "linecolor": "white",
            "ticks": ""
           },
           "baxis": {
            "gridcolor": "white",
            "linecolor": "white",
            "ticks": ""
           },
           "bgcolor": "#E5ECF6",
           "caxis": {
            "gridcolor": "white",
            "linecolor": "white",
            "ticks": ""
           }
          },
          "title": {
           "x": 0.05
          },
          "xaxis": {
           "automargin": true,
           "gridcolor": "white",
           "linecolor": "white",
           "ticks": "",
           "title": {
            "standoff": 15
           },
           "zerolinecolor": "white",
           "zerolinewidth": 2
          },
          "yaxis": {
           "automargin": true,
           "gridcolor": "white",
           "linecolor": "white",
           "ticks": "",
           "title": {
            "standoff": 15
           },
           "zerolinecolor": "white",
           "zerolinewidth": 2
          }
         }
        },
        "title": {
         "text": "Correlation coefficients for relative yearly savings"
        },
        "xaxis": {
         "anchor": "y",
         "constrain": "domain",
         "domain": [
          0,
          1
         ],
         "scaleanchor": "y"
        },
        "yaxis": {
         "anchor": "x",
         "autorange": "reversed",
         "constrain": "domain",
         "domain": [
          0,
          1
         ]
        }
       }
      }
     },
     "metadata": {},
     "output_type": "display_data"
    }
   ],
   "source": [
    "cols_to_drop = [\n",
    "    \"grid_level\",\n",
    "    \"zip_code\",\n",
    "    \"sector_group_id\",\n",
    "    \"sector_group\",\n",
    "    \"solar_invest_eur\",\n",
    "    \"solar_annuity_eur\",\n",
    "    \"solar_capacity_kwp\"]\n",
    "rel_correlations_df = rel_diff_with_master.drop(columns=cols_to_drop).corr()\n",
    "px.imshow(rel_correlations_df, title=\"Correlation coefficients for relative yearly savings\")"
   ]
  },
  {
   "cell_type": "code",
   "execution_count": 140,
   "id": "155988d3",
   "metadata": {},
   "outputs": [
    {
     "data": {
      "application/vnd.plotly.v1+json": {
       "config": {
        "plotlyServerURL": "https://plot.ly"
       },
       "data": [
        {
         "alignmentgroup": "True",
         "hovertemplate": "index=%{x}<br>total_yearly_costs_eur=%{y}<extra></extra>",
         "legendgroup": "",
         "marker": {
          "color": "#636efa",
          "pattern": {
           "shape": ""
          }
         },
         "name": "",
         "offsetgroup": "",
         "orientation": "v",
         "showlegend": false,
         "textposition": "auto",
         "texttemplate": "%{y}",
         "type": "bar",
         "x": [
          "energy_costs_eur",
          "total_yearly_costs_eur",
          "grid_energy_costs_eur",
          "grid_capacity_costs_eur",
          "grid_capacity_kw",
          "full_load_hours_h",
          "is_over_2500h",
          "energy_price_over_2500h_eur_per_kwh",
          "mean_load_kw",
          "total_energy_kwh",
          "variance_kw",
          "peak_load_kw",
          "energy_price_under_2500h_eur_per_kwh",
          "number_of_peak_load",
          "capacity_price_under_2500h_eur_per_kw",
          "capacity_price_over_2500h_eur_per_kw",
          "std_kw",
          "peak_by_mean",
          "std_by_mean",
          "std_by_peak"
         ],
         "xaxis": "x",
         "y": [
          1,
          1,
          1,
          0.68,
          0.68,
          0.28,
          0.26,
          0.07,
          0.03,
          0.03,
          -0.02,
          -0.02,
          -0.02,
          -0.04,
          -0.06,
          -0.08,
          -0.08,
          -0.08,
          -0.29,
          -0.36
         ],
         "yaxis": "y"
        }
       ],
       "layout": {
        "barmode": "relative",
        "legend": {
         "tracegroupgap": 0
        },
        "template": {
         "data": {
          "bar": [
           {
            "error_x": {
             "color": "#2a3f5f"
            },
            "error_y": {
             "color": "#2a3f5f"
            },
            "marker": {
             "line": {
              "color": "#E5ECF6",
              "width": 0.5
             },
             "pattern": {
              "fillmode": "overlay",
              "size": 10,
              "solidity": 0.2
             }
            },
            "type": "bar"
           }
          ],
          "barpolar": [
           {
            "marker": {
             "line": {
              "color": "#E5ECF6",
              "width": 0.5
             },
             "pattern": {
              "fillmode": "overlay",
              "size": 10,
              "solidity": 0.2
             }
            },
            "type": "barpolar"
           }
          ],
          "carpet": [
           {
            "aaxis": {
             "endlinecolor": "#2a3f5f",
             "gridcolor": "white",
             "linecolor": "white",
             "minorgridcolor": "white",
             "startlinecolor": "#2a3f5f"
            },
            "baxis": {
             "endlinecolor": "#2a3f5f",
             "gridcolor": "white",
             "linecolor": "white",
             "minorgridcolor": "white",
             "startlinecolor": "#2a3f5f"
            },
            "type": "carpet"
           }
          ],
          "choropleth": [
           {
            "colorbar": {
             "outlinewidth": 0,
             "ticks": ""
            },
            "type": "choropleth"
           }
          ],
          "contour": [
           {
            "colorbar": {
             "outlinewidth": 0,
             "ticks": ""
            },
            "colorscale": [
             [
              0,
              "#0d0887"
             ],
             [
              0.1111111111111111,
              "#46039f"
             ],
             [
              0.2222222222222222,
              "#7201a8"
             ],
             [
              0.3333333333333333,
              "#9c179e"
             ],
             [
              0.4444444444444444,
              "#bd3786"
             ],
             [
              0.5555555555555556,
              "#d8576b"
             ],
             [
              0.6666666666666666,
              "#ed7953"
             ],
             [
              0.7777777777777778,
              "#fb9f3a"
             ],
             [
              0.8888888888888888,
              "#fdca26"
             ],
             [
              1,
              "#f0f921"
             ]
            ],
            "type": "contour"
           }
          ],
          "contourcarpet": [
           {
            "colorbar": {
             "outlinewidth": 0,
             "ticks": ""
            },
            "type": "contourcarpet"
           }
          ],
          "heatmap": [
           {
            "colorbar": {
             "outlinewidth": 0,
             "ticks": ""
            },
            "colorscale": [
             [
              0,
              "#0d0887"
             ],
             [
              0.1111111111111111,
              "#46039f"
             ],
             [
              0.2222222222222222,
              "#7201a8"
             ],
             [
              0.3333333333333333,
              "#9c179e"
             ],
             [
              0.4444444444444444,
              "#bd3786"
             ],
             [
              0.5555555555555556,
              "#d8576b"
             ],
             [
              0.6666666666666666,
              "#ed7953"
             ],
             [
              0.7777777777777778,
              "#fb9f3a"
             ],
             [
              0.8888888888888888,
              "#fdca26"
             ],
             [
              1,
              "#f0f921"
             ]
            ],
            "type": "heatmap"
           }
          ],
          "heatmapgl": [
           {
            "colorbar": {
             "outlinewidth": 0,
             "ticks": ""
            },
            "colorscale": [
             [
              0,
              "#0d0887"
             ],
             [
              0.1111111111111111,
              "#46039f"
             ],
             [
              0.2222222222222222,
              "#7201a8"
             ],
             [
              0.3333333333333333,
              "#9c179e"
             ],
             [
              0.4444444444444444,
              "#bd3786"
             ],
             [
              0.5555555555555556,
              "#d8576b"
             ],
             [
              0.6666666666666666,
              "#ed7953"
             ],
             [
              0.7777777777777778,
              "#fb9f3a"
             ],
             [
              0.8888888888888888,
              "#fdca26"
             ],
             [
              1,
              "#f0f921"
             ]
            ],
            "type": "heatmapgl"
           }
          ],
          "histogram": [
           {
            "marker": {
             "pattern": {
              "fillmode": "overlay",
              "size": 10,
              "solidity": 0.2
             }
            },
            "type": "histogram"
           }
          ],
          "histogram2d": [
           {
            "colorbar": {
             "outlinewidth": 0,
             "ticks": ""
            },
            "colorscale": [
             [
              0,
              "#0d0887"
             ],
             [
              0.1111111111111111,
              "#46039f"
             ],
             [
              0.2222222222222222,
              "#7201a8"
             ],
             [
              0.3333333333333333,
              "#9c179e"
             ],
             [
              0.4444444444444444,
              "#bd3786"
             ],
             [
              0.5555555555555556,
              "#d8576b"
             ],
             [
              0.6666666666666666,
              "#ed7953"
             ],
             [
              0.7777777777777778,
              "#fb9f3a"
             ],
             [
              0.8888888888888888,
              "#fdca26"
             ],
             [
              1,
              "#f0f921"
             ]
            ],
            "type": "histogram2d"
           }
          ],
          "histogram2dcontour": [
           {
            "colorbar": {
             "outlinewidth": 0,
             "ticks": ""
            },
            "colorscale": [
             [
              0,
              "#0d0887"
             ],
             [
              0.1111111111111111,
              "#46039f"
             ],
             [
              0.2222222222222222,
              "#7201a8"
             ],
             [
              0.3333333333333333,
              "#9c179e"
             ],
             [
              0.4444444444444444,
              "#bd3786"
             ],
             [
              0.5555555555555556,
              "#d8576b"
             ],
             [
              0.6666666666666666,
              "#ed7953"
             ],
             [
              0.7777777777777778,
              "#fb9f3a"
             ],
             [
              0.8888888888888888,
              "#fdca26"
             ],
             [
              1,
              "#f0f921"
             ]
            ],
            "type": "histogram2dcontour"
           }
          ],
          "mesh3d": [
           {
            "colorbar": {
             "outlinewidth": 0,
             "ticks": ""
            },
            "type": "mesh3d"
           }
          ],
          "parcoords": [
           {
            "line": {
             "colorbar": {
              "outlinewidth": 0,
              "ticks": ""
             }
            },
            "type": "parcoords"
           }
          ],
          "pie": [
           {
            "automargin": true,
            "type": "pie"
           }
          ],
          "scatter": [
           {
            "fillpattern": {
             "fillmode": "overlay",
             "size": 10,
             "solidity": 0.2
            },
            "type": "scatter"
           }
          ],
          "scatter3d": [
           {
            "line": {
             "colorbar": {
              "outlinewidth": 0,
              "ticks": ""
             }
            },
            "marker": {
             "colorbar": {
              "outlinewidth": 0,
              "ticks": ""
             }
            },
            "type": "scatter3d"
           }
          ],
          "scattercarpet": [
           {
            "marker": {
             "colorbar": {
              "outlinewidth": 0,
              "ticks": ""
             }
            },
            "type": "scattercarpet"
           }
          ],
          "scattergeo": [
           {
            "marker": {
             "colorbar": {
              "outlinewidth": 0,
              "ticks": ""
             }
            },
            "type": "scattergeo"
           }
          ],
          "scattergl": [
           {
            "marker": {
             "colorbar": {
              "outlinewidth": 0,
              "ticks": ""
             }
            },
            "type": "scattergl"
           }
          ],
          "scattermapbox": [
           {
            "marker": {
             "colorbar": {
              "outlinewidth": 0,
              "ticks": ""
             }
            },
            "type": "scattermapbox"
           }
          ],
          "scatterpolar": [
           {
            "marker": {
             "colorbar": {
              "outlinewidth": 0,
              "ticks": ""
             }
            },
            "type": "scatterpolar"
           }
          ],
          "scatterpolargl": [
           {
            "marker": {
             "colorbar": {
              "outlinewidth": 0,
              "ticks": ""
             }
            },
            "type": "scatterpolargl"
           }
          ],
          "scatterternary": [
           {
            "marker": {
             "colorbar": {
              "outlinewidth": 0,
              "ticks": ""
             }
            },
            "type": "scatterternary"
           }
          ],
          "surface": [
           {
            "colorbar": {
             "outlinewidth": 0,
             "ticks": ""
            },
            "colorscale": [
             [
              0,
              "#0d0887"
             ],
             [
              0.1111111111111111,
              "#46039f"
             ],
             [
              0.2222222222222222,
              "#7201a8"
             ],
             [
              0.3333333333333333,
              "#9c179e"
             ],
             [
              0.4444444444444444,
              "#bd3786"
             ],
             [
              0.5555555555555556,
              "#d8576b"
             ],
             [
              0.6666666666666666,
              "#ed7953"
             ],
             [
              0.7777777777777778,
              "#fb9f3a"
             ],
             [
              0.8888888888888888,
              "#fdca26"
             ],
             [
              1,
              "#f0f921"
             ]
            ],
            "type": "surface"
           }
          ],
          "table": [
           {
            "cells": {
             "fill": {
              "color": "#EBF0F8"
             },
             "line": {
              "color": "white"
             }
            },
            "header": {
             "fill": {
              "color": "#C8D4E3"
             },
             "line": {
              "color": "white"
             }
            },
            "type": "table"
           }
          ]
         },
         "layout": {
          "annotationdefaults": {
           "arrowcolor": "#2a3f5f",
           "arrowhead": 0,
           "arrowwidth": 1
          },
          "autotypenumbers": "strict",
          "coloraxis": {
           "colorbar": {
            "outlinewidth": 0,
            "ticks": ""
           }
          },
          "colorscale": {
           "diverging": [
            [
             0,
             "#8e0152"
            ],
            [
             0.1,
             "#c51b7d"
            ],
            [
             0.2,
             "#de77ae"
            ],
            [
             0.3,
             "#f1b6da"
            ],
            [
             0.4,
             "#fde0ef"
            ],
            [
             0.5,
             "#f7f7f7"
            ],
            [
             0.6,
             "#e6f5d0"
            ],
            [
             0.7,
             "#b8e186"
            ],
            [
             0.8,
             "#7fbc41"
            ],
            [
             0.9,
             "#4d9221"
            ],
            [
             1,
             "#276419"
            ]
           ],
           "sequential": [
            [
             0,
             "#0d0887"
            ],
            [
             0.1111111111111111,
             "#46039f"
            ],
            [
             0.2222222222222222,
             "#7201a8"
            ],
            [
             0.3333333333333333,
             "#9c179e"
            ],
            [
             0.4444444444444444,
             "#bd3786"
            ],
            [
             0.5555555555555556,
             "#d8576b"
            ],
            [
             0.6666666666666666,
             "#ed7953"
            ],
            [
             0.7777777777777778,
             "#fb9f3a"
            ],
            [
             0.8888888888888888,
             "#fdca26"
            ],
            [
             1,
             "#f0f921"
            ]
           ],
           "sequentialminus": [
            [
             0,
             "#0d0887"
            ],
            [
             0.1111111111111111,
             "#46039f"
            ],
            [
             0.2222222222222222,
             "#7201a8"
            ],
            [
             0.3333333333333333,
             "#9c179e"
            ],
            [
             0.4444444444444444,
             "#bd3786"
            ],
            [
             0.5555555555555556,
             "#d8576b"
            ],
            [
             0.6666666666666666,
             "#ed7953"
            ],
            [
             0.7777777777777778,
             "#fb9f3a"
            ],
            [
             0.8888888888888888,
             "#fdca26"
            ],
            [
             1,
             "#f0f921"
            ]
           ]
          },
          "colorway": [
           "#636efa",
           "#EF553B",
           "#00cc96",
           "#ab63fa",
           "#FFA15A",
           "#19d3f3",
           "#FF6692",
           "#B6E880",
           "#FF97FF",
           "#FECB52"
          ],
          "font": {
           "color": "#2a3f5f"
          },
          "geo": {
           "bgcolor": "white",
           "lakecolor": "white",
           "landcolor": "#E5ECF6",
           "showlakes": true,
           "showland": true,
           "subunitcolor": "white"
          },
          "hoverlabel": {
           "align": "left"
          },
          "hovermode": "closest",
          "mapbox": {
           "style": "light"
          },
          "paper_bgcolor": "white",
          "plot_bgcolor": "#E5ECF6",
          "polar": {
           "angularaxis": {
            "gridcolor": "white",
            "linecolor": "white",
            "ticks": ""
           },
           "bgcolor": "#E5ECF6",
           "radialaxis": {
            "gridcolor": "white",
            "linecolor": "white",
            "ticks": ""
           }
          },
          "scene": {
           "xaxis": {
            "backgroundcolor": "#E5ECF6",
            "gridcolor": "white",
            "gridwidth": 2,
            "linecolor": "white",
            "showbackground": true,
            "ticks": "",
            "zerolinecolor": "white"
           },
           "yaxis": {
            "backgroundcolor": "#E5ECF6",
            "gridcolor": "white",
            "gridwidth": 2,
            "linecolor": "white",
            "showbackground": true,
            "ticks": "",
            "zerolinecolor": "white"
           },
           "zaxis": {
            "backgroundcolor": "#E5ECF6",
            "gridcolor": "white",
            "gridwidth": 2,
            "linecolor": "white",
            "showbackground": true,
            "ticks": "",
            "zerolinecolor": "white"
           }
          },
          "shapedefaults": {
           "line": {
            "color": "#2a3f5f"
           }
          },
          "ternary": {
           "aaxis": {
            "gridcolor": "white",
            "linecolor": "white",
            "ticks": ""
           },
           "baxis": {
            "gridcolor": "white",
            "linecolor": "white",
            "ticks": ""
           },
           "bgcolor": "#E5ECF6",
           "caxis": {
            "gridcolor": "white",
            "linecolor": "white",
            "ticks": ""
           }
          },
          "title": {
           "x": 0.05
          },
          "xaxis": {
           "automargin": true,
           "gridcolor": "white",
           "linecolor": "white",
           "ticks": "",
           "title": {
            "standoff": 15
           },
           "zerolinecolor": "white",
           "zerolinewidth": 2
          },
          "yaxis": {
           "automargin": true,
           "gridcolor": "white",
           "linecolor": "white",
           "ticks": "",
           "title": {
            "standoff": 15
           },
           "zerolinecolor": "white",
           "zerolinewidth": 2
          }
         }
        },
        "title": {
         "text": "Correlation between different load profile characteristics and relative yearly savings"
        },
        "xaxis": {
         "anchor": "y",
         "domain": [
          0,
          1
         ],
         "title": {
          "text": "Variable"
         }
        },
        "yaxis": {
         "anchor": "x",
         "domain": [
          0,
          1
         ],
         "title": {
          "text": "Correlation coefficient"
         }
        }
       }
      }
     },
     "metadata": {},
     "output_type": "display_data"
    }
   ],
   "source": [
    "rel_corr_fig_df = rel_correlations_df[[\"total_yearly_costs_eur\"]].round(2)\n",
    "rel_corr_fig_df.sort_values(\"total_yearly_costs_eur\", inplace=True, ascending=False)\n",
    "rel_corr_fig_df.dropna(inplace=True)\n",
    "rel_corr_fig = px.bar(\n",
    "    data_frame=rel_corr_fig_df,\n",
    "    y=\"total_yearly_costs_eur\",\n",
    "    text_auto=True,\n",
    "    title=\"Correlation between different load profile characteristics and relative yearly savings\")\n",
    "rel_corr_fig.update_layout(yaxis_title=\"Correlation coefficient\", xaxis_title=\"Variable\")\n",
    "rel_corr_fig.show()"
   ]
  },
  {
   "cell_type": "code",
   "execution_count": 141,
   "id": "1c3fdd9f",
   "metadata": {},
   "outputs": [
    {
     "data": {
      "text/html": [
       "<div>\n",
       "<style scoped>\n",
       "    .dataframe tbody tr th:only-of-type {\n",
       "        vertical-align: middle;\n",
       "    }\n",
       "\n",
       "    .dataframe tbody tr th {\n",
       "        vertical-align: top;\n",
       "    }\n",
       "\n",
       "    .dataframe thead th {\n",
       "        text-align: right;\n",
       "    }\n",
       "</style>\n",
       "<table border=\"1\" class=\"dataframe\">\n",
       "  <thead>\n",
       "    <tr style=\"text-align: right;\">\n",
       "      <th></th>\n",
       "      <th>var</th>\n",
       "      <th>corr</th>\n",
       "      <th>p_value</th>\n",
       "    </tr>\n",
       "  </thead>\n",
       "  <tbody>\n",
       "    <tr>\n",
       "      <th>0</th>\n",
       "      <td>total_yearly_costs_eur</td>\n",
       "      <td>1.000000</td>\n",
       "      <td>0.000000e+00</td>\n",
       "    </tr>\n",
       "    <tr>\n",
       "      <th>1</th>\n",
       "      <td>energy_costs_eur</td>\n",
       "      <td>0.997125</td>\n",
       "      <td>0.000000e+00</td>\n",
       "    </tr>\n",
       "    <tr>\n",
       "      <th>2</th>\n",
       "      <td>grid_energy_costs_eur</td>\n",
       "      <td>0.997125</td>\n",
       "      <td>0.000000e+00</td>\n",
       "    </tr>\n",
       "    <tr>\n",
       "      <th>3</th>\n",
       "      <td>grid_capacity_costs_eur</td>\n",
       "      <td>0.678895</td>\n",
       "      <td>9.421956e-240</td>\n",
       "    </tr>\n",
       "    <tr>\n",
       "      <th>4</th>\n",
       "      <td>grid_capacity_kw</td>\n",
       "      <td>0.678895</td>\n",
       "      <td>9.421956e-240</td>\n",
       "    </tr>\n",
       "    <tr>\n",
       "      <th>5</th>\n",
       "      <td>full_load_hours_h</td>\n",
       "      <td>0.277326</td>\n",
       "      <td>1.183123e-32</td>\n",
       "    </tr>\n",
       "    <tr>\n",
       "      <th>6</th>\n",
       "      <td>is_over_2500h</td>\n",
       "      <td>0.263583</td>\n",
       "      <td>1.505706e-29</td>\n",
       "    </tr>\n",
       "    <tr>\n",
       "      <th>7</th>\n",
       "      <td>energy_price_over_2500h_eur_per_kwh</td>\n",
       "      <td>0.067850</td>\n",
       "      <td>4.271117e-03</td>\n",
       "    </tr>\n",
       "    <tr>\n",
       "      <th>8</th>\n",
       "      <td>total_energy_kwh</td>\n",
       "      <td>0.033340</td>\n",
       "      <td>1.606563e-01</td>\n",
       "    </tr>\n",
       "    <tr>\n",
       "      <th>9</th>\n",
       "      <td>mean_load_kw</td>\n",
       "      <td>0.033340</td>\n",
       "      <td>1.606563e-01</td>\n",
       "    </tr>\n",
       "    <tr>\n",
       "      <th>10</th>\n",
       "      <td>variance_kw</td>\n",
       "      <td>-0.016915</td>\n",
       "      <td>4.767272e-01</td>\n",
       "    </tr>\n",
       "    <tr>\n",
       "      <th>11</th>\n",
       "      <td>energy_price_under_2500h_eur_per_kwh</td>\n",
       "      <td>-0.018130</td>\n",
       "      <td>4.456386e-01</td>\n",
       "    </tr>\n",
       "    <tr>\n",
       "      <th>12</th>\n",
       "      <td>peak_load_kw</td>\n",
       "      <td>-0.024262</td>\n",
       "      <td>3.073778e-01</td>\n",
       "    </tr>\n",
       "    <tr>\n",
       "      <th>13</th>\n",
       "      <td>number_of_peak_load</td>\n",
       "      <td>-0.039267</td>\n",
       "      <td>9.845304e-02</td>\n",
       "    </tr>\n",
       "    <tr>\n",
       "      <th>14</th>\n",
       "      <td>capacity_price_under_2500h_eur_per_kw</td>\n",
       "      <td>-0.055562</td>\n",
       "      <td>1.933277e-02</td>\n",
       "    </tr>\n",
       "    <tr>\n",
       "      <th>15</th>\n",
       "      <td>std_kw</td>\n",
       "      <td>-0.081608</td>\n",
       "      <td>5.847397e-04</td>\n",
       "    </tr>\n",
       "    <tr>\n",
       "      <th>16</th>\n",
       "      <td>peak_by_mean</td>\n",
       "      <td>-0.082816</td>\n",
       "      <td>4.835879e-04</td>\n",
       "    </tr>\n",
       "    <tr>\n",
       "      <th>17</th>\n",
       "      <td>capacity_price_over_2500h_eur_per_kw</td>\n",
       "      <td>-0.083427</td>\n",
       "      <td>4.389204e-04</td>\n",
       "    </tr>\n",
       "    <tr>\n",
       "      <th>18</th>\n",
       "      <td>std_by_mean</td>\n",
       "      <td>-0.287100</td>\n",
       "      <td>5.679359e-35</td>\n",
       "    </tr>\n",
       "    <tr>\n",
       "      <th>19</th>\n",
       "      <td>std_by_peak</td>\n",
       "      <td>-0.358800</td>\n",
       "      <td>5.665073e-55</td>\n",
       "    </tr>\n",
       "  </tbody>\n",
       "</table>\n",
       "</div>"
      ],
      "text/plain": [
       "                                      var      corr        p_value\n",
       "0                  total_yearly_costs_eur  1.000000   0.000000e+00\n",
       "1                        energy_costs_eur  0.997125   0.000000e+00\n",
       "2                   grid_energy_costs_eur  0.997125   0.000000e+00\n",
       "3                 grid_capacity_costs_eur  0.678895  9.421956e-240\n",
       "4                        grid_capacity_kw  0.678895  9.421956e-240\n",
       "5                       full_load_hours_h  0.277326   1.183123e-32\n",
       "6                           is_over_2500h  0.263583   1.505706e-29\n",
       "7     energy_price_over_2500h_eur_per_kwh  0.067850   4.271117e-03\n",
       "8                        total_energy_kwh  0.033340   1.606563e-01\n",
       "9                            mean_load_kw  0.033340   1.606563e-01\n",
       "10                            variance_kw -0.016915   4.767272e-01\n",
       "11   energy_price_under_2500h_eur_per_kwh -0.018130   4.456386e-01\n",
       "12                           peak_load_kw -0.024262   3.073778e-01\n",
       "13                    number_of_peak_load -0.039267   9.845304e-02\n",
       "14  capacity_price_under_2500h_eur_per_kw -0.055562   1.933277e-02\n",
       "15                                 std_kw -0.081608   5.847397e-04\n",
       "16                           peak_by_mean -0.082816   4.835879e-04\n",
       "17   capacity_price_over_2500h_eur_per_kw -0.083427   4.389204e-04\n",
       "18                            std_by_mean -0.287100   5.679359e-35\n",
       "19                            std_by_peak -0.358800   5.665073e-55"
      ]
     },
     "execution_count": 141,
     "metadata": {},
     "output_type": "execute_result"
    }
   ],
   "source": [
    "df = pd.DataFrame()\n",
    "i = 0\n",
    "for var in rel_correlations_df.index:\n",
    "    if np.inf in rel_diff_with_master[var]:\n",
    "        continue\n",
    "    elif -np.inf in rel_diff_with_master[var]:\n",
    "        continue\n",
    "    elif np.nan in rel_diff_with_master[var]:\n",
    "        continue\n",
    "    elif rel_diff_with_master[var].isin([np.nan, np.inf, -np.inf]).any():\n",
    "        continue\n",
    "    if \"storage\" in var or \"inverter\" in var:\n",
    "        continue\n",
    "\n",
    "    corr, p_value = pearsonr(y=rel_diff_with_master[\"total_yearly_costs_eur\"], x=rel_diff_with_master[var])\n",
    "    df.loc[i, \"var\"] = var\n",
    "    df.loc[i, \"corr\"] = corr\n",
    "    df.loc[i, \"p_value\"] = p_value\n",
    "    i += 1\n",
    "\n",
    "df.sort_values(\"corr\", ascending=False, ignore_index=True)"
   ]
  },
  {
   "cell_type": "code",
   "execution_count": 142,
   "id": "56570c0c",
   "metadata": {},
   "outputs": [
    {
     "data": {
      "application/vnd.plotly.v1+json": {
       "config": {
        "plotlyServerURL": "https://plot.ly"
       },
       "data": [
        {
         "alignmentgroup": "True",
         "bingroup": "x",
         "hovertemplate": "is_over_2500h=100<br>total_yearly_costs_eur=%{x}<br>count=%{y}<extra></extra>",
         "legendgroup": "100",
         "marker": {
          "color": "#636efa",
          "pattern": {
           "shape": ""
          }
         },
         "name": "100",
         "offsetgroup": "100",
         "orientation": "v",
         "showlegend": true,
         "type": "histogram",
         "x": [
          0.2647783748341352,
          4.260359321124907,
          7.519642436380537,
          0.3897185414819253,
          0.26794087239861253,
          0.39403608205368307,
          3.8327250623673272,
          0.27079688060249196,
          0.2698020029721077,
          0.2676612690787667,
          0.2657852192197088,
          7.38791813056878,
          0.26612848699133046,
          5.954756717348711,
          0.26709376289196696,
          0.26693052025450764,
          3.1687269651715413,
          0.2659521847177193,
          13.003976979525206,
          7.833954364098439,
          6.272426104332156,
          4.8093234057215355,
          7.582485577003404,
          8.663190481999393,
          0.3025051491483396,
          1.4775276722360229,
          0.2695727560348335,
          0.7131383028271485,
          3.7743034259860364,
          0.26998060589575257,
          6.005332611005196,
          3.6356816619193584,
          0.2670827752221098,
          0.26922387911561046,
          3.8318924679402038,
          0.26981894463666545,
          0.2694677837883144,
          0.2689520859072569,
          9.220541015310063,
          0.2691080853913197,
          0.2691343097550557,
          0.26895434027757853,
          1.582422693711603,
          0.8321608642730383,
          5.850779999287203,
          0.268227017729247,
          9.338405522778578,
          4.318951445649027,
          12.102706369391615,
          5.137860807590987,
          2.2072708826546124,
          2.0863359132766934,
          5.520033913155768,
          0.2711435649875933,
          7.565471992810034,
          0.2664392402104301,
          0.2653556252723244,
          9.234161964918373,
          1.8732584924136124,
          0.26837579172106385,
          1.9926276174804243,
          0.27075401081651806,
          10.806713853689118,
          7.411478714178281,
          7.562748103455489,
          4.203316983548536,
          2.247897356043894,
          1.5971675333254727,
          1.9933235819237658,
          3.7370826347593207,
          0.2670064044436993,
          1.493027039554797,
          4.037742536732402,
          2.514467586331098,
          0.2698463852259105,
          0.5566364037619473,
          8.548505424831644,
          2.4529589253459623,
          0.5284382438450046,
          0.26825829357103614,
          5.770822182431891,
          6.218898789469028,
          0.7395982631055142,
          8.658739708113746,
          4.8960183923793865,
          0.26935675231902,
          11.49792636877125,
          3.2331000906596166,
          11.409697282632395,
          6.224799103049899,
          0.2653330781659449,
          0.2716264019774231,
          11.401871790378987,
          0.2686244360437705,
          0.26548380337750915,
          0.2710749056562053,
          2.6033289049089507,
          0.2694359557247392,
          2.3118911860960165,
          10.032612157001926,
          0.26828299476362083,
          0.26975323218826186,
          0.2701872855532106,
          2.2202646402450505,
          6.740081962728883,
          1.8503534052482264,
          1.3314664439237758,
          0.7158749646498926,
          9.291073243862998,
          0.2710115974332773,
          1.9269919176762202,
          0.43647628035605823,
          1.2758939744021374,
          6.1273164475906885,
          4.882295536469577,
          7.215394200941941,
          7.740986157404466,
          7.086398994508129,
          6.667543640525227,
          0.270218050354127,
          1.275441249927964,
          0.26817719259594675,
          0.2689236746631122,
          4.803172002974708,
          4.7760594633350255,
          0.7542341156888654,
          0.2648709245502358,
          3.879738852770659,
          3.2301016868557726,
          0.5156240924095067,
          0.26988636693292534,
          0.2717682065647876,
          3.784272802790139,
          7.550719763749654,
          0.2680591970610139,
          0.2689523079544874,
          0.2693750181954529,
          2.6598854233148246,
          11.971698010929794,
          1.2527280146270636,
          1.5513803954810956,
          7.777893270170011,
          6.251785471514486,
          0.2696795538166204,
          3.29316207664669,
          3.2968748623694393,
          4.429601408307738,
          3.4800413509274883,
          0.26914406836336696,
          1.495197130270685,
          0.8636140939895479,
          0.2682450259047137,
          0.27183856969335435,
          2.704711295651959,
          10.867774738567103,
          3.1828273217908314,
          0.2680666631416417,
          6.121584274307016,
          4.694341940396878,
          6.641584458054864,
          7.355718046900036,
          0.26897037815445934,
          0.268696718541682,
          1.380201572637606,
          9.651278047167072,
          2.816679966805286,
          1.8826488616647314,
          1.0998132112002066,
          2.3132834240162135,
          0.26879775964368374,
          0.9988634662164186,
          0.26943488193440296,
          0.6194961242873949,
          0.2665780025675709,
          1.2222773776456863,
          0.9796969071285572,
          0.26011342581120633,
          1.2079320386631542,
          5.209311647374181,
          0.9052677497808754,
          2.7628029661803635,
          10.465411955793986,
          8.114386171217044,
          0.2708374288945389,
          7.78103836611931,
          5.317701612841659,
          0.2697153092756044,
          1.081470211634183,
          6.623950722557274,
          1.0432296913981798,
          0.2679374926833671,
          14.616965209086343,
          0.2717893057671502,
          0.27009896702895797,
          4.343860017379086,
          4.337443559013419,
          2.765700900283819,
          1.2029012386019942,
          1.1480003789770699,
          5.388561747251633,
          5.42452896111731,
          0.26675705037843406,
          13.365534801767865,
          3.7946702615951478,
          3.818407357140713,
          2.6577466299272676,
          0.2670606659839871,
          0.808382881248536,
          5.886022685097602,
          1.2659693265899286,
          0.2672547572645414,
          2.413369225920675,
          0.26712001918752043,
          0.26888372979049346,
          1.6634702955685845,
          3.076809652918024,
          3.729357772050628,
          0.26942130892828103,
          2.338409113985512,
          7.361187920077751,
          4.629747040778198,
          3.50636591219105,
          3.0472236314022916,
          1.5339542884312733,
          14.108352422497248,
          3.521123536614301,
          0.2686120515199781,
          0.27152232859536873,
          1.6243543947202552,
          0.9914193622330616,
          2.4810470948019208,
          0.2719600329044662,
          3.1939652321566268,
          13.70182762833483,
          2.8188189863801676,
          5.564988965515966,
          0.26845082844699675,
          1.4451085478613375,
          0.27216107896181513,
          0.6112652038814547,
          0.26694542764876705,
          0.26666033157269564,
          2.5083995661184524,
          0.26817143888436035,
          0.2661358046630677,
          2.0247408743957376,
          0.26533788197923014,
          2.739546570111615,
          0.27156330610520957,
          0.2700891133266878,
          3.834036472833712,
          0.26485567028827584,
          1.134061753496786,
          0.269685915506139,
          12.479094974713954,
          0.27076426774432694,
          0.27133812254724526,
          0.2697631786898097,
          0.343451618424712,
          0.27055324529572017,
          12.82108573160104,
          0.7651521838559752,
          13.384080318613611,
          0.2711760492173041,
          0.7312993469297807,
          5.088465638437505,
          0.2704208658197462,
          13.259091186174429,
          1.5897515700194715,
          0.3597370411036379,
          0.2686058144760218,
          7.668815967429538,
          0.26894101642782675,
          1.4891462171968028,
          0.9466843095066444,
          0.26914302601515255,
          6.204995086169985,
          5.831583683613495,
          0.271688665470055,
          0.2667810215123144,
          0.26798350600174303,
          0.596482848798427,
          10.081114722754439,
          0.26654471349476916,
          0.26363493640788405,
          2.8663385380039004,
          0.26554122760754023,
          0.2654681724676389,
          0.2672897339638369,
          8.616404807153542,
          1.9714917529001303,
          4.828747608814292,
          0.2693157212140547,
          0.26824910055356094,
          3.764558429620253,
          3.342509913290897,
          2.0774589188774777,
          1.716124726330274,
          11.555143701262892,
          0.2717412141608685,
          7.9376192993574195,
          5.9006473237899755,
          0.2679593106869301,
          9.0355810169425,
          0.7290934813230193,
          0.268540988401302,
          0.27034628428862967,
          2.6484917952538134,
          7.033029039766739,
          1.405241423957596,
          0.2684191638489245,
          5.216605882049119,
          0.2686182664905599,
          7.710761844392251,
          4.8210778617321415,
          2.0230570644404295,
          0.2707668996010683,
          0.2652915570293434,
          0.2651036241290289,
          0.2670395833262683,
          1.9482686433965408,
          0.5541632984202918,
          0.8413663934602794,
          0.265759919709028,
          0.26515100273158737,
          0.2675506361781544,
          9.947409464423117,
          0.27244512939114524,
          0.26830317805608217,
          1.873112572106066,
          1.4942445512005373,
          0.267742601493899,
          3.4398340057194674,
          0.26776159954366285,
          1.650698201116284,
          2.3126642414943355,
          0.26903843550673634,
          0.26962278380990373,
          0.27004609552188463,
          6.598109530955649,
          0.49382945070396395,
          8.881748509863051,
          0.26686569179719105,
          3.493465942355483,
          0.2695958527107547,
          0.2683770593527517,
          0.2684790945400156,
          4.590047511842348,
          5.071419387771793,
          0.2719704025028101,
          0.2629189411599143,
          9.614922663896722,
          0.2684734435507893,
          0.26757211148952825,
          3.4111280602029788,
          0.26923351062303535,
          2.8081887705375674,
          0.2719950161745222,
          9.307673195709185,
          3.809446081388288,
          5.825373138894089,
          0.26546396174157383,
          4.466615311310778,
          2.772452246101249,
          5.390231618466338,
          6.02602655864397,
          3.5516320743440035,
          3.913984871866049,
          0.9617753044175302,
          2.324716412897713,
          6.066577553332298,
          9.221445195352995,
          1.4016756342082584,
          0.2689626480559195,
          3.0575109183383367,
          0.26929213117495987,
          0.2654533168170947,
          2.81884468527807,
          0.26871998256109286,
          9.432099492446115,
          12.598594964793216,
          2.4083133094986846,
          0.2691602348171314,
          0.8495628135370187,
          7.8055372218181835,
          5.988652109650304,
          0.2687489516877952,
          1.4264571547199818,
          0.26807879743620244,
          0.2666929598741387,
          2.089581159741006,
          0.26894392035699155,
          4.2980262052401885,
          7.197055065028934,
          5.994898005966858,
          0.27168911810440516,
          1.6993709534240244,
          4.087692865459252,
          3.2012417699878464,
          0.2698810292538768,
          0.2695921507580759,
          0.2608374711438466,
          0.2712330647083857,
          8.01935577679203,
          0.2703319678262359,
          0.2653254134018919,
          10.367865079760433,
          8.543891152909618,
          5.77635008008443,
          3.5308834504028983,
          0.26680855729607744,
          2.36252564371779,
          1.1769715682642938,
          0.27076540506443914,
          2.954975080124065,
          4.7355768840413495,
          2.483179945323822,
          0.26892214670202685,
          0.2702923302118319,
          0.3061455989556162,
          14.046041133660003,
          10.178267522048174,
          4.660820599696616,
          0.26452378265898396,
          0.319265115831589,
          0.2685742222385392,
          12.86934351767483,
          12.313577959736007,
          9.699509672173619,
          11.48076866858921,
          8.765381991184446,
          14.384360735147872,
          0.2696350334516221,
          16.29293460966727,
          0.2676777327450198,
          12.215459989262767,
          0.6201595722738755,
          0.2704061524754955,
          11.186379173956523,
          9.106551570230826,
          9.890585631084416,
          7.189275723073154,
          0.2689448597196792,
          2.0577923744544693,
          8.193188607606578,
          1.1235474322069683,
          0.27024523587922405,
          1.063831950547116,
          7.444018549063783,
          3.5955318362761766,
          3.897599025366371,
          1.5534067543426473,
          1.19006967733282,
          2.794877001492331,
          0.2674283455692243,
          7.820134960074252,
          3.323640419441096,
          0.2717193920401273,
          0.42040304526837924,
          0.4987331103536632,
          0.26979229258095966,
          3.6226960772029435,
          2.7108654992727432,
          2.7583954070546697,
          5.656523418413666,
          3.9379094055444304,
          5.555380464158962,
          5.945839565371057,
          0.2642001441830757,
          1.435543949966782,
          0.26796687584556556,
          5.503479861640986,
          8.853226040590048,
          0.266855454468415,
          2.9841919417958733,
          4.366374503197459,
          3.0974435604299257,
          1.0441595714421654,
          0.2718298861678595,
          2.883830766838341,
          8.996797174894212,
          0.26899723550820315,
          1.0418640273443884,
          0.264927473087538,
          1.3076077068284195,
          3.503960995772818,
          0.26331106338381743,
          7.1336155261051175,
          0.2686954859524973,
          0.9845397460653289,
          2.865654413025574,
          0.33331224874193927,
          0.26926421791878624,
          7.7555550152344725,
          2.550352041174611,
          8.153028380872348,
          2.725697206812522,
          10.03281049273863,
          12.40667625975663,
          5.579573091485524,
          0.26958065608334364,
          0.5417988876196592,
          10.021145288080103,
          13.934565416180567,
          10.623199470492109,
          5.260273896591018,
          8.7751799254376,
          3.0919050045452594,
          0.2685873791131466,
          3.4943530137691483,
          0.2685256507947151,
          0.9535249415966998,
          0.2633657219202512,
          6.107895806932379,
          0.26950431910948575,
          11.520504066725042,
          11.035006737925038,
          0.2699206353212635,
          0.2673618784528632,
          9.502363861061744,
          0.26758513831663294,
          0.26732483862557993,
          0.2686791963331158,
          3.9062029634445605,
          2.5571375726426746,
          3.2853059327958762,
          4.3413007983806775,
          0.2697633523749692,
          2.392036668449695,
          2.6250440928158625,
          5.3995622897748925,
          5.485634367994076,
          12.244700497097678,
          1.3317671198833525,
          0.2690181661023261,
          3.0807450921320543,
          0.26471858895251077,
          0.2711099953767949,
          0.2647947166170043,
          0.2704108974558946,
          3.291993068188955,
          0.685448906753438,
          3.3761911579290933,
          2.6974373983243525,
          0.27580173652146506,
          0.26897908217753846,
          6.9669432591572225,
          10.166567304797312,
          0.26974736031395896,
          8.343688259633472,
          3.650755791637842,
          0.25732500116138723,
          6.952326135801849,
          0.2648873905960921,
          13.615122568703944,
          3.139360704778048,
          4.396584495197534,
          0.2674527795540549,
          1.8414476268155875,
          1.7189372099749203,
          6.140899921729293,
          9.48041324866856,
          2.9163188745592494,
          8.054354857900536,
          0.27154212108533643,
          9.705284578708365,
          0.2716180021897553,
          3.4212116764823053,
          0.27179302206860617,
          0.26960658347287586,
          0.26550967448648954,
          0.26667672614082605,
          6.669521868551465,
          0.26837838058963287,
          6.6747493691183175,
          4.483263753308834,
          10.865593029410016,
          0.2714274456582662,
          0.2662976736493636,
          10.494347550398487,
          6.225691742065088,
          3.944850992389634,
          8.31328613342749,
          8.619709050383612,
          1.817985437223448,
          13.286231927959735,
          6.567123258300997,
          0.26294646527444165,
          0.257410454664046,
          0.26552450760317003,
          0.2607114951504277,
          2.360184505185019,
          0.2682761686497066,
          0.26731916872870687,
          0.27255883304727324,
          0.5982111742952468,
          1.5615513155926513,
          0.26041923265979366,
          1.5386533921371928,
          0.6962699706948328,
          0.49697862055144515,
          5.792251608218759,
          12.838597973345603,
          0.2569249741171605,
          0.2654738425333411,
          4.956979857462902,
          1.5364536608738109,
          0.26223304840886097,
          0.2666013131543449,
          0.26141003605587015,
          0.2622507498572062,
          0.2644293659317431,
          6.624610754883628,
          1.7364073685601593,
          0.2669426272612334,
          1.6746936204523981,
          10.679811705735016,
          0.27104794321079456,
          8.078121966613311,
          0.2639999872235863,
          7.25579124164619,
          0.26583031422285885,
          0.2580650094739471,
          5.100426811842441,
          3.7963463552970236,
          7.854879031747802,
          0.26666587779585044,
          7.418535154619973,
          3.4835115737247997,
          0.3894253831179305,
          3.5153934805485876,
          0.26408139925704743,
          1.4530461079550603,
          9.110846169017583,
          2.979811522872618,
          1.4186578201137792,
          2.335434962908509,
          1.2593116459228364,
          7.189430726159025,
          0.26963422468366,
          7.703585656896146,
          0.26231362067840813,
          4.905842966334971,
          5.176767385178889,
          6.627564339855583,
          0.2689884531315253,
          1.9865276462439037,
          3.4489817798416396,
          0.2708190449836059,
          5.28549957463907,
          3.046193164344849,
          4.1054387889654365,
          0.2695980397193323,
          0.2684505660952153,
          7.5617122866066975,
          0.2711471661746444,
          3.117666738207479,
          3.736235575678591,
          4.738403171376429,
          7.49214832660602,
          0.26942284459424376,
          0.26911895187839957,
          0.259709336463322,
          6.6297759588763645,
          0.2677049095809222,
          1.210276867881712,
          5.631698321212612,
          0.9361648465823373,
          0.2582422325060322,
          1.1598547639131418,
          8.250656858622408,
          2.197252817724704,
          4.569185962370025,
          1.8531339791573624,
          0.27046307573153716,
          1.9278858192010684,
          2.454888223239212,
          1.6803958803937775,
          4.1284660612988695,
          5.950771019773446,
          12.956252465510337,
          0.2578018937592865,
          0.2698186820379401,
          7.585863921676269,
          0.2637815380520997,
          0.32844221194827516,
          8.012875555258777,
          10.506153986383381,
          0.26432147935502187,
          5.670055957691108,
          0.2693885325956851,
          0.2696206928227833,
          2.247344628276738,
          0.26918159817612863,
          1.9898787727623868,
          0.27227049871346354,
          3.831127557309581,
          5.125640310564741,
          0.26806064395840307,
          0.2533684508386409,
          1.930144053118973,
          0.2698958895141479,
          2.370006845266595,
          0.2584742616302869,
          4.4838253532691805,
          4.969939144747759,
          3.811043377980946,
          10.103339730983288,
          2.330407096667737,
          0.8639463689509272,
          2.1552333478498995,
          5.990344447789094,
          3.429640108111044,
          3.644947789896362,
          0.27058342588256046,
          5.6686924789668085,
          2.144335227899951,
          2.114288681897315,
          12.635939301560246,
          1.8322185135504685,
          0.25455053189377813,
          0.9095652355416027,
          0.26560846458273246,
          2.8767084800430593,
          1.4085782741862973,
          0.2695394801290786,
          0.27056748656921176,
          2.2089985971739803,
          0.26928366258686315,
          2.4312934946102103,
          1.7821692482815912,
          0.26101691596420756,
          0.2691903112016368,
          0.2689939200138924,
          0.2655683597647535,
          0.49868581724835687,
          0.2685762790092048,
          2.4611688622325576,
          0.2684056934680212,
          2.8065970677229517,
          0.2689317056628378,
          0.2651951111725733,
          15.483113459249845,
          3.8783819823501013,
          14.555570947062794,
          13.556459469611534,
          13.33852589057886,
          11.431221696866613,
          0.27162051347994076,
          9.825982969103926,
          0.2653032842541325,
          3.2997207211417816,
          1.4401488873121047,
          0.40062077838405347,
          10.564214884810463,
          0.27005261591643065,
          1.6063964656813923,
          1.760892568502792,
          2.4932869864733433,
          3.457593712272469,
          5.116710096555358,
          4.318487602642299,
          4.694185564032173,
          11.366055328830637,
          11.05235950359313,
          2.368901921484811,
          8.273652559761102,
          0.27071714172018757,
          0.2692650208658007,
          0.2656467650159382,
          5.299300843078769,
          6.269407754156488,
          5.863797028375238,
          5.040384118802557,
          0.2685946552482765,
          6.598783192238542,
          10.906776370841104,
          5.403927024032766,
          0.26447607382970134,
          0.2685382358135672,
          0.26808110760511117,
          2.5037059123691057,
          0.9867133376306776,
          4.882564104499527,
          0.8214593649244625,
          0.26970946057219597,
          2.5913804825789892,
          0.2705831762436234,
          0.2690994011806243,
          5.264790946584886,
          0.27089277767562503,
          0.26687391634283614,
          5.378107121044687,
          5.253080794769298,
          3.8441338616942358,
          5.43189874385238,
          2.437173605561126,
          4.036894476720959,
          4.732801952018078,
          6.181430384835462,
          0.2619509537150938,
          3.377393475236777,
          0.2683838071626157,
          5.2838889964729745,
          6.839211243719462,
          10.27959706371271,
          4.056836567615186,
          7.364973652743763,
          2.704282576413167,
          5.0538213688911595,
          6.903119623532442,
          3.3240386309011285,
          0.27084055913263233,
          6.579805001466845,
          0.27006347965580046,
          0.26359163786935175,
          0.2640343958771593,
          1.5605886975728178,
          8.660028768039714,
          0.27146642219053785,
          0.26729104735482406,
          0.4002663526267794,
          6.418529266706898,
          0.25580173516978916,
          1.6920786313797707,
          2.6006944389687825,
          3.1263337560920714,
          0.8753595623628003,
          2.7779643157962557,
          0.2639689422757966,
          0.9065676958850424,
          2.6107600096441095,
          0.27015612765689745,
          0.2710722968690412,
          0.2667150946919677,
          0.2712620338661494,
          3.987881813135788,
          1.106099583351262,
          11.966971251329554,
          0.5871392211374269,
          0.8115173884171392,
          2.058213599830379,
          10.510188167895942,
          0.2631234879414158,
          0.4963721538502013,
          1.4240428017361524,
          4.12381791356953,
          2.7865644468514557,
          0.26813191776058737,
          4.430435573940502,
          3.5405610902846933,
          7.317278826750879,
          2.2713702672548917,
          0.26024812396611535,
          0.26011205793095427,
          0.2681974126256287,
          0.27269238395345125,
          3.9958391454288997,
          0.2650775442277003,
          8.370502453388706,
          4.368492970894628,
          4.219751774362787,
          0.445538561388154,
          5.798259415207795,
          0.2677558237719062,
          3.714850162032749,
          0.26701451779931784,
          0.7935851322434714,
          1.9651521047183453,
          0.26771984923119935,
          3.100588535440803,
          0.26871720271414923,
          9.160286086823895,
          3.440774463454833,
          4.411764308468868,
          2.1100312048034207,
          0.8980101533080551,
          4.640338546951645,
          3.2419856917790915,
          9.141661439821167,
          1.7944384784324598,
          0.2687541336480323,
          3.104086685948867,
          8.142668946913396,
          0.9121574202782738,
          0.2692853876963538,
          9.201930485337066,
          0.26760510564847056,
          6.19535098460397,
          0.9306066934195839,
          4.331098347824072,
          1.8968851880156539,
          0.46263049851270777,
          11.131422955963444,
          0.2694457489707677,
          0.25347610092712053,
          2.679379153927255,
          5.542250274599233,
          4.168962741410161,
          0.2692481382599758,
          0.264372721271544,
          7.283323294586813,
          3.0599176350366313,
          3.6701093304495993,
          0.2700369623598544,
          0.27006811160032207,
          3.0299595722734156,
          0.26731268463856644,
          2.5416757224706976,
          1.3201892016786294,
          0.2690720620081884,
          15.993925255036178,
          0.26880741372700934,
          0.27044215478137196,
          11.150921790312214,
          2.381177292225482,
          0.27049727981817706,
          0.26985194613983615,
          13.899918198913275,
          0.27040969523550196,
          0.26913055058880875,
          3.866556680298489,
          0.26820068390364055,
          0.2725392563656592,
          12.388139530780421,
          14.669064021463527,
          1.8380677474048823,
          2.165769312321444,
          0.6907929734472597,
          3.6663040254436616,
          2.6290710923366007,
          12.935243664714319,
          11.344870022948045,
          10.53149403598819,
          2.532548474293761,
          0.3571802431936929,
          12.716874773290371,
          1.3234204594402177,
          3.486838493084539,
          2.350691277225951,
          0.26921340564433693,
          8.868592297903941,
          11.665856630055845,
          2.3072286069062145,
          2.236651731659492,
          1.3061446070482947,
          1.8643420530608061,
          0.2675712390566958,
          4.49963324071706,
          4.191521109591083,
          0.26864335147865176,
          0.6126153299504343,
          6.222528753032447,
          3.7584759049912577,
          5.172489460956242,
          0.2693741224857496,
          13.63003700631952,
          12.305769891883507,
          10.242290285327037,
          6.490492586519528,
          9.941680267741178,
          3.881442961338842,
          0.2715017482192447,
          6.091134739799927,
          2.2172785750618313,
          1.2021097561653125,
          2.83610177045902,
          2.8723783390826365,
          2.8994607668663606,
          2.0366721185171133,
          8.337346137290794,
          0.27050489597310845,
          5.265531157623377,
          0.3688211672325768,
          10.370298707426349,
          0.26634837945118905,
          2.9101939040824245,
          4.477200830498691,
          3.3244661044237898,
          1.6008213572230243,
          5.908340051051691,
          4.876801765232536,
          1.8790129826484654,
          12.588459874053557,
          8.055700413845896,
          6.037691026134919,
          4.513444727378732,
          0.27087063292830993,
          5.246680656148889,
          0.2668435869187853,
          0.2681713836344084,
          0.2588028645642977,
          9.696701879609257,
          11.444900881772547,
          1.760837012965812,
          0.26861020169153194,
          0.3763967169095672,
          4.467520522867783,
          7.552938076448655,
          0.2688158476603077,
          0.268269696292718,
          0.4915937364690398,
          0.2688863343536354,
          1.5068596766747098,
          1.9085573330658796,
          5.378414202512202,
          1.1621344038230077,
          11.13535926151619,
          0.2677297638383209,
          7.54665290625738,
          2.1765288867344874,
          2.2033875858283225,
          0.2537524345487397,
          2.2255636393271945,
          5.697140884618324,
          4.242934718179117,
          5.122772009509282,
          7.359841743582919,
          7.121809270720099,
          2.946660470116957,
          3.6730458796677015,
          7.7556935114957035,
          0.26414209239154135,
          2.077978980390148,
          4.777654156006221,
          9.884250580103867,
          11.11328604563402,
          1.6132947404348317,
          0.27142014329335007,
          0.2688489234549306,
          0.2690711828421585,
          10.466129104884688,
          1.4142319212081857,
          4.2927082062007935,
          0.267009733868995,
          0.260780443719488,
          0.9389859506590942,
          1.7576345567134708,
          0.27030708566980893,
          0.2647420621639197,
          7.039448684565204,
          0.26700546081008036,
          2.8313206219574867,
          0.26806109655930904,
          13.293378473164413,
          1.5172106743151004,
          0.2670605407176494,
          10.422931483776859,
          0.26922007902711426,
          14.692026795313156,
          13.415073310662834,
          0.26270473219748497,
          0.26904998724980284,
          1.6780927875441825,
          0.5352472368956763,
          0.26717910379988974,
          9.452824312592092,
          10.244195315129742,
          0.2618498491317766,
          8.130742001468082,
          10.160592669432043,
          0.26937499714691737,
          0.2699492293972651,
          2.5613956572534113,
          6.744287410250585,
          0.2671747354336492,
          2.890007703194616,
          3.7981563821874245,
          0.2674435039341056,
          0.26870872929347417,
          11.660663736564842,
          0.72016173513264,
          2.9007579124487632,
          0.6926896958768441,
          0.37998888501444533,
          0.26630027707585685,
          7.295769253491197,
          0.8104462764105458,
          11.539359748172068,
          0.2676473584364214,
          1.9085069249118045,
          12.467323764314045,
          9.108644640244014,
          0.674211707805428,
          2.198383944389465,
          0.2703685292036425,
          0.2710893999014952,
          0.5643999076229397,
          9.177967669181609,
          0.9222338545861378,
          0.26331185388091566,
          4.740825614788805,
          0.2686935068673823,
          7.352720511064905,
          5.911039549131799,
          0.27010028204446235,
          3.4142038744562035,
          6.285766614821569,
          3.135775068337904,
          0.2629184904098898,
          2.4427502935894663,
          5.229824701030749,
          4.176605392857388,
          0.26169204763787035,
          0.26813650614661555,
          0.26591514953466455,
          0.2654082557401847,
          0.26967865044612127,
          0.4030696629850027,
          9.871553827807126,
          6.756423282388288,
          2.7488725009622956,
          10.71145528337506,
          0.26917880559280194,
          6.047974745077391,
          0.27054090615943793,
          8.112711762288315,
          0.2701808941984357,
          7.868464987629071,
          8.959929506697707,
          9.498868456313236,
          4.4114842393416,
          10.074183735682618,
          1.8397268197548624,
          0.267447445553512,
          0.2699336611005501,
          0.26845092958077565,
          0.2599846167396174,
          8.87437342013444,
          9.466192176322558,
          0.26494172675484895,
          0.2684494320256838,
          0.2694203611197927,
          0.2681586505982483,
          11.075823614990117,
          1.974499060598921,
          0.271510079095283,
          0.2700305627625302,
          0.2626563762683494,
          2.521866848665062,
          0.2704415046353551,
          5.130185614056951,
          0.2650023472593672,
          2.5566769905148488,
          7.2026237476007084,
          1.4663750142623801,
          0.2579838486834514,
          2.369335858995807,
          3.149424067845895,
          0.26798953000512377,
          5.822539183063788,
          0.26907371739856045,
          1.5648650661026546,
          0.269694366249033,
          0.25983472537634944,
          9.701078890842197,
          7.090066102189104,
          11.710357682526514,
          1.7300648995704186,
          1.2295085167685156,
          5.989853469917908,
          7.324639333164354,
          0.26140221762669713,
          3.7872827277486505,
          11.438241298604444,
          0.2438189055543324,
          6.71159800766482,
          0.8933556701263742,
          0.26804345652384115,
          0.26854283985479066,
          0.2695954795700825,
          0.26373229053346925,
          0.8325225638847753,
          7.098557227177459,
          3.472837803926899,
          0.26960830302546784,
          5.825497819503604,
          5.644088601506201,
          1.8766284468277181,
          5.828030214079417,
          0.7075722760844944,
          0.2695779984409557,
          0.26868246498783893,
          3.735842990283634,
          3.110961104453356,
          4.285820827350116,
          6.023849550615275,
          6.01219484507865,
          2.1214725148092026,
          4.0024835658540185,
          8.793099508323502,
          1.6785686718896142,
          1.3051891952218735,
          9.761200272829216,
          2.3011550105348935,
          4.540926738654048,
          6.728905135005587,
          7.958123806861243,
          8.052784755715962,
          0.26667701184110265,
          2.9207677155679885,
          0.2653551448773809,
          7.173475661328381,
          6.736235952039809,
          0.26799552368880003,
          0.26943466286795126,
          0.26466609882512454,
          0.8892217014822598,
          2.2054443664705707,
          0.26941372788770834,
          0.25897198482163414,
          5.837743801390791,
          5.059770355893833,
          0.2678258612977569,
          2.904479655634742,
          0.25692895907352475,
          0.262412929822182,
          0.2643229223230438,
          2.5012270980673224,
          12.942932195154997,
          3.224195972015283,
          0.27076153986288376,
          2.2082918568137466,
          0.2665055424588422,
          0.6971366625948655,
          2.407690672665944,
          1.6875282175598048,
          3.1560801382283925,
          0.26949251386279643,
          5.216445214206042,
          0.26728021215799996,
          0.2875757922219519,
          0.6086812088950375,
          0.2651040432877781,
          0.27177983995298055,
          15.086264641023813,
          0.2656669209640315,
          0.26923140492072895,
          0.25959151049219753,
          1.9698806059442995,
          6.313197525682268,
          0.2709541633743989,
          0.2695251348524613,
          0.26490631634214096,
          0.26718914130478977,
          9.584552627782438,
          12.323779217329264,
          0.26806563231785724,
          9.029790844838818,
          1.5546491404266174,
          5.0074544304106965,
          5.296249416387861,
          12.507424974013404,
          2.0555997047265464,
          1.5779851499066109,
          0.2702782549110221,
          0.734147497897262,
          13.468461732066825,
          2.1954765533087657,
          3.314695565227336,
          3.2635498950350845,
          5.443386688176216,
          4.495595353771296,
          9.1714623264677,
          0.25975867469893554,
          0.685020839160076,
          3.3620190049170864,
          0.2670689602688873,
          0.26605092269076414,
          4.962274682007646,
          0.8185262386387676,
          0.2669706629176226,
          7.2345732921365675,
          0.2672170184049409,
          0.2638459347270506,
          7.651775900083813,
          6.154191876608847,
          6.222100575704462,
          5.4466399492912565,
          0.9476660899446101,
          5.445979322135168,
          4.990902985876556,
          13.211589135834409,
          9.755675743510196
         ],
         "xaxis": "x",
         "yaxis": "y"
        },
        {
         "alignmentgroup": "True",
         "bingroup": "x",
         "hovertemplate": "is_over_2500h=0<br>total_yearly_costs_eur=%{x}<br>count=%{y}<extra></extra>",
         "legendgroup": "0",
         "marker": {
          "color": "#EF553B",
          "pattern": {
           "shape": ""
          }
         },
         "name": "0",
         "offsetgroup": "0",
         "orientation": "v",
         "showlegend": true,
         "type": "histogram",
         "x": [
          0.19673177998875876,
          0.18628315614677426,
          0.18780298369496437,
          0.18118169803243922,
          3.6184579393097405,
          0.2686769601561504,
          0.519481249949724,
          1.9586788028663742,
          3.3834418893691653,
          2.374598568427,
          0.20983659508237718,
          0.18153759298907424,
          0.18964529184991025,
          0.16711086051855886,
          4.54829016271269,
          0.2384564480641733,
          1.2660190648520948,
          5.80134405533389,
          2.7246327868335913,
          0.20024056930926978,
          2.8173679360372237,
          1.8296954147895794,
          2.591665077704241,
          0.22421854914873754,
          0.23443354809950787,
          5.100419079838462,
          0.2236011665789672,
          0.19380350312630581,
          0.7996631876782792,
          2.997918569414541,
          0.4748534355433959,
          1.7256963094183275,
          0.20489446553322707,
          0.19414525318734754,
          1.4745346475242946,
          4.187962361189975,
          0.23664229905148454,
          0.2079575244056098,
          0.5810746750847536,
          1.8876469673453453,
          0.22775130404130675,
          0.21417437669148734,
          1.8708058348720695,
          1.1870317928817664,
          2.335117575689108,
          0.2375215212347647,
          0.2318978441409035,
          3.653404423709175,
          0.16927279883393015,
          2.5677537829865904,
          0.19903538411566232,
          1.2365171173534308,
          1.8063874819863406,
          0.20431908690792527,
          0.9765097293178702,
          0.18019436664396582,
          0.21268534767551447,
          0.23130126755233593,
          0.1902048653841765,
          0.19840266046661226,
          0.21637714932882687,
          0.20977949788878944,
          0.19868826562872213,
          0.5769365142555981,
          1.712596584466346,
          0.211627411398959,
          0.18046298093912835,
          0.37157403970817143,
          2.1529272749369213,
          1.4118710669956225,
          0.7243632716809253,
          2.8644086854764157,
          0.17388175405232603,
          0.1266517746366117,
          6.18512266396963,
          0.22922212254523114,
          2.5911709980878794,
          0.20603511913579514,
          3.1375632974990353,
          4.8360892481929465,
          0.19507677044183486,
          1.992486608842741,
          0.2332905232661013,
          0.2220826383367265,
          0.19524657978411308,
          0.16303945275148063,
          0.22885183759126848,
          5.634339615260323,
          0.1952215329783405,
          5.995121741410923,
          3.8375041128288196,
          2.0498839141805205,
          0.20029385785739323,
          1.3282998248480817,
          7.320205438129228,
          1.3514638284423433,
          0.19821786927475396,
          2.7762038107739895,
          0.14962001984382067,
          0.20331453833284086,
          0.2153241294169335,
          0.21450071870303447,
          0.7587082007765859,
          2.5443723113177534,
          0.19776542187250676,
          1.3212429090343354,
          0.23296368059709166,
          5.7169955544986575,
          3.866421669792324,
          0.21196553008560057,
          0.21000081933595496,
          0.9869387721498429,
          0.20545405811446374,
          0.21561935109179103,
          0.2308271563587479,
          1.683681561877194,
          4.048879804518844,
          2.113114394829618,
          0.20211609302067832,
          0.24202095869869586,
          5.873611564954398,
          0.17849512206850876,
          8.22206168823169,
          0.20242903696804349,
          0.21226451282637507,
          0.5564180877294126,
          2.429112846711748,
          1.1800727969227134,
          0.166434351661931,
          0.18533776117090203,
          0.21295196288898632,
          2.5288477910911293,
          0.19627006511930353,
          0.2288483889394428,
          0.22718054259123263,
          1.908749259139158,
          3.4366814508110064,
          4.453685503743656,
          0.1671336974778412,
          0.23298971770612525,
          1.9830998988817672,
          1.1995531938952289,
          0.16182907197334925,
          0.22476406233405932,
          0.2187555592893913,
          2.664468153445634,
          0.8733473405588603,
          0.23111887206787857,
          3.0504202078932163,
          0.20640470814009895,
          0.025245349711026766,
          0.18806080233981534,
          0.19916604105825025,
          0.17890653554500294,
          0.21577708741991145,
          0.2095412037130956,
          3.520008642998841,
          0.18400611594721594,
          0.21216037531612306,
          0.22230140151660283,
          0.15582446942011433,
          0.20725679229342647,
          2.5739538453381043,
          2.6128022043830175,
          2.750339110981565,
          0.8369405228032074,
          1.1240050615448893,
          0.206388293615958,
          0.20726826799635595,
          0.21360937915497386,
          0.2234258635600313,
          3.9363128053869483,
          0.21252855265686713,
          0.21751389826990428,
          0.1849092250807707,
          0.18650344786623874,
          0.40681802001985706,
          0.2025849750827776,
          1.7565804824410114,
          3.2920484695398393,
          0.2111368932699652,
          0.9159687653438281,
          2.387987107640912,
          0.22835473754890748,
          0.22149106464302015,
          2.894122305770069,
          0.17973642916988153,
          2.952486211460492,
          0.22194725678291025,
          1.0259662007710901,
          0.9720599840654973,
          3.6663310685671453,
          0.20636637440332742,
          0.5146176201450848,
          0.19118738312729544,
          0.14430521019372206,
          2.0552737661567964,
          0.0536144883098812,
          0.2264289649894923,
          5.33964574466556,
          0.2026545749527126,
          6.599082961723086,
          0.8505932835337728,
          1.955181580621123,
          3.3292739737068215,
          1.3746888612253745,
          0.525768146746293,
          1.0971683847626763,
          0.8341836306205177,
          0.4370335022911785,
          5.033736319720398,
          2.303194683517325,
          0.19527477586782696,
          0.23619904234541433,
          0.2122804437684999,
          0.1825202454584758,
          0.16839061305806363,
          0.2065021829726335,
          2.3790315790335264,
          0.16335945831074747,
          0.1953554799627257,
          0.7306830120229827,
          5.656805140319629,
          0.8555823211654816,
          5.175736860630646,
          0.16725130237650596,
          0.2349449358608825,
          0.12209191969469867,
          0.909794761056119,
          2.962110044950106,
          0.2350461001956669,
          5.699048993493793,
          0.1466636982310371,
          0.2069752734700025,
          0.15423298767316665,
          0.22757660811520927,
          0.13434316658655907,
          0.20879608259900406,
          0.21295362614975288,
          0.24173381133665517,
          4.136552049474838,
          5.739875341965957,
          5.7480306078425505,
          3.9064588187506155,
          1.5614498031995934,
          0.20534875492767812,
          1.5267773776507336,
          2.53721582720324,
          2.872125248047484,
          4.305241802728839,
          0.20926643706742964,
          0.22371963888968474,
          2.762961416354374,
          0.19027929847816508,
          2.152235670454875,
          3.96181930324112,
          0.11568801555643578,
          0.19038773629661776,
          1.9188228853813998,
          3.876013070418064,
          2.495406367487029,
          0.21458648030935784,
          0.1998523864896119,
          0.19349038398182647,
          0.16492542897822277,
          0.1841982938373999,
          0.16377391934026847,
          0.17566329304670047,
          0.6517906777629787,
          0.23072765644559873,
          2.711399197884815,
          3.5239527282614356,
          0.2127823533736549,
          2.125459346734844,
          0.22420197239929954,
          5.997378383942623,
          0.7013407677354452,
          0.1985127954284215,
          1.930454494710926,
          4.247492735885575,
          5.531306908549985,
          0.18908569410027376,
          0.21172419544569654,
          0.1547504479391678,
          1.299214533543332,
          0.19906335266393388,
          0.22666060891020473,
          4.168809849434658,
          2.4423268652364656,
          0.8975666071177082,
          1.2622636453339993,
          0.21272576259657772,
          0.18443235549647471,
          2.223849874953421,
          0.21180976834893006,
          0.22899551948491503,
          1.313881422115988,
          2.329808358798972,
          0.5398158197413969,
          2.041210433320057,
          0.819021542791818,
          0.4745249701031861,
          1.8026015341019195,
          0.7741025665787765,
          0.19107523685517605,
          0.3205316996081625,
          0.21735071020203195,
          0.18322725558338704,
          1.7497807681180773,
          0.17555323572970108,
          1.3364711923106465,
          0.6069180618992441,
          0.6391627193381563,
          0.17300821825535984,
          0.21176983992513398,
          3.7170128914318754,
          0.22731366902220565,
          0.22407526596297722,
          0.6331820821825084,
          0.20462477553783412,
          1.5693941629997952,
          1.4648083455631125,
          0.21651427327236045,
          0.12651536653846407,
          0.21085966845088627,
          1.0558815661616312,
          0.20827213394305957,
          2.530383363656758,
          0.1546504834420594,
          1.3276746917487081,
          0.2297553762049856,
          0.2313271294302407,
          0.10273655991179548,
          0.22416536597296774,
          0.14370743924266144,
          3.6035317073301565,
          1.0520949765085854,
          0.20004760145664757,
          7.3862545275085445,
          0.17910040913555292,
          2.050655708812001,
          6.899304371962191,
          0.022867256782663728,
          0.9184949973953825,
          0.21502200374999414,
          0.19797077840576302,
          0.1982229543336556,
          0.19588858401805784,
          0.22717927849966682,
          0.5459852867005243,
          0.20986497647766766,
          0.1929585402927341,
          0.28157736217477414,
          0.3318724361001243,
          0.21371142979519944,
          1.5562164378652463,
          2.2671859206927447,
          5.899728030804729,
          0.20234779014572596,
          5.270311678660584,
          4.196983950821673,
          1.111982423965347,
          0.22178589738128562,
          1.1024484831664312,
          0.21277360760166547,
          1.5533509115570228,
          0.2324057050942075,
          0.215878837893253,
          3.6974089598845032,
          0.1574103497351368,
          0.2110910453187158,
          4.966579489028466,
          0.2230675955356534,
          0.43468068620319683,
          0.21535625145706647,
          0.22107226539405117,
          0.21220505660541084,
          2.180915388881095,
          0.21552705640477005,
          3.134762665137759,
          4.208773123091426,
          0.8584225081606393,
          0.11559065551941074,
          0.20767188861331726,
          2.803785993961191,
          0.9076074323986836,
          3.237504673985584,
          0.21989591654043372,
          4.835194083817884,
          3.3379564846707157,
          0.21388001312740595,
          3.0006267768255332,
          3.7411360449742888,
          4.174710094435284,
          0.7959993607824644,
          0.21182768111126224,
          0.6826985308590896,
          0.20808581127704767,
          4.811473509550717,
          0.18986749775949957,
          0.16284432359948478,
          3.2556026958949067,
          0.1759887510025981,
          2.329221825075233,
          0.21234285161851751,
          0.20813698052358212,
          3.8202027487464902,
          0.2131187599758269,
          0.21580206869652835,
          0.20681175849613906,
          3.2646256688485478,
          0.41586619218220144,
          1.6775506250361438,
          5.317417793492128,
          3.701641415141387,
          0.20633382763392874,
          0.22479415670104458,
          0.7928658508140134,
          1.7320122576274637,
          0.2102413706955965,
          1.3653243301890285,
          0.22932407243521868,
          0.1576416010588939,
          1.6369381643258816,
          3.242479002653129,
          0.6783066502159772,
          0.2201795093227228,
          4.293762476373962,
          3.3223095286931223,
          2.5555418427657903,
          0.8041938963099416,
          2.4913120930454906,
          0.20197286547382434,
          3.129120481825862,
          1.1078710902995705,
          0.20583811268067945,
          6.356691133256966,
          2.452522130035983,
          1.8726183271827144,
          0.18978456227725782,
          0.22832397401755666,
          5.241923334150921,
          3.2464032307447446,
          0.20446645991657766,
          0.22579782023699613,
          0.2221683171585242,
          4.860928272774099,
          2.598995508802687,
          2.484402379460429,
          1.79066229649686,
          0.19333363078889612,
          4.087425446005604,
          0.23133768517917427,
          0.23558292211677784,
          0.21419291833677653,
          1.192171604418006,
          0.20000057318010464,
          0.35940572736688925,
          0.21956656748626838,
          0.7518959784620134,
          1.7880750684661586,
          1.6254663091798318,
          0.19678129672471514,
          1.232701419536684,
          0.21380776737430213,
          0.20516034262353303,
          0.15493715171090103,
          0.01600908888908059,
          0.17690721367370965,
          0.24372261944655046,
          0.22237157017960937,
          0.23028941850057744,
          0.18200518920237868,
          0.24090320316870795,
          2.1417746688972055,
          1.9958441787531378,
          1.379772056833247,
          0.16253293535007446,
          0.23151797724678377,
          1.2527043423534483,
          0.8376784276105805,
          2.256103428454053,
          3.5346220926161354,
          3.169538614109668,
          5.091568068453228,
          3.9155796222067356,
          0.2218595747878678,
          0.22206386984034784
         ],
         "xaxis": "x",
         "yaxis": "y"
        }
       ],
       "layout": {
        "barmode": "relative",
        "legend": {
         "title": {
          "text": "is_over_2500h"
         },
         "tracegroupgap": 0
        },
        "template": {
         "data": {
          "bar": [
           {
            "error_x": {
             "color": "#2a3f5f"
            },
            "error_y": {
             "color": "#2a3f5f"
            },
            "marker": {
             "line": {
              "color": "#E5ECF6",
              "width": 0.5
             },
             "pattern": {
              "fillmode": "overlay",
              "size": 10,
              "solidity": 0.2
             }
            },
            "type": "bar"
           }
          ],
          "barpolar": [
           {
            "marker": {
             "line": {
              "color": "#E5ECF6",
              "width": 0.5
             },
             "pattern": {
              "fillmode": "overlay",
              "size": 10,
              "solidity": 0.2
             }
            },
            "type": "barpolar"
           }
          ],
          "carpet": [
           {
            "aaxis": {
             "endlinecolor": "#2a3f5f",
             "gridcolor": "white",
             "linecolor": "white",
             "minorgridcolor": "white",
             "startlinecolor": "#2a3f5f"
            },
            "baxis": {
             "endlinecolor": "#2a3f5f",
             "gridcolor": "white",
             "linecolor": "white",
             "minorgridcolor": "white",
             "startlinecolor": "#2a3f5f"
            },
            "type": "carpet"
           }
          ],
          "choropleth": [
           {
            "colorbar": {
             "outlinewidth": 0,
             "ticks": ""
            },
            "type": "choropleth"
           }
          ],
          "contour": [
           {
            "colorbar": {
             "outlinewidth": 0,
             "ticks": ""
            },
            "colorscale": [
             [
              0,
              "#0d0887"
             ],
             [
              0.1111111111111111,
              "#46039f"
             ],
             [
              0.2222222222222222,
              "#7201a8"
             ],
             [
              0.3333333333333333,
              "#9c179e"
             ],
             [
              0.4444444444444444,
              "#bd3786"
             ],
             [
              0.5555555555555556,
              "#d8576b"
             ],
             [
              0.6666666666666666,
              "#ed7953"
             ],
             [
              0.7777777777777778,
              "#fb9f3a"
             ],
             [
              0.8888888888888888,
              "#fdca26"
             ],
             [
              1,
              "#f0f921"
             ]
            ],
            "type": "contour"
           }
          ],
          "contourcarpet": [
           {
            "colorbar": {
             "outlinewidth": 0,
             "ticks": ""
            },
            "type": "contourcarpet"
           }
          ],
          "heatmap": [
           {
            "colorbar": {
             "outlinewidth": 0,
             "ticks": ""
            },
            "colorscale": [
             [
              0,
              "#0d0887"
             ],
             [
              0.1111111111111111,
              "#46039f"
             ],
             [
              0.2222222222222222,
              "#7201a8"
             ],
             [
              0.3333333333333333,
              "#9c179e"
             ],
             [
              0.4444444444444444,
              "#bd3786"
             ],
             [
              0.5555555555555556,
              "#d8576b"
             ],
             [
              0.6666666666666666,
              "#ed7953"
             ],
             [
              0.7777777777777778,
              "#fb9f3a"
             ],
             [
              0.8888888888888888,
              "#fdca26"
             ],
             [
              1,
              "#f0f921"
             ]
            ],
            "type": "heatmap"
           }
          ],
          "heatmapgl": [
           {
            "colorbar": {
             "outlinewidth": 0,
             "ticks": ""
            },
            "colorscale": [
             [
              0,
              "#0d0887"
             ],
             [
              0.1111111111111111,
              "#46039f"
             ],
             [
              0.2222222222222222,
              "#7201a8"
             ],
             [
              0.3333333333333333,
              "#9c179e"
             ],
             [
              0.4444444444444444,
              "#bd3786"
             ],
             [
              0.5555555555555556,
              "#d8576b"
             ],
             [
              0.6666666666666666,
              "#ed7953"
             ],
             [
              0.7777777777777778,
              "#fb9f3a"
             ],
             [
              0.8888888888888888,
              "#fdca26"
             ],
             [
              1,
              "#f0f921"
             ]
            ],
            "type": "heatmapgl"
           }
          ],
          "histogram": [
           {
            "marker": {
             "pattern": {
              "fillmode": "overlay",
              "size": 10,
              "solidity": 0.2
             }
            },
            "type": "histogram"
           }
          ],
          "histogram2d": [
           {
            "colorbar": {
             "outlinewidth": 0,
             "ticks": ""
            },
            "colorscale": [
             [
              0,
              "#0d0887"
             ],
             [
              0.1111111111111111,
              "#46039f"
             ],
             [
              0.2222222222222222,
              "#7201a8"
             ],
             [
              0.3333333333333333,
              "#9c179e"
             ],
             [
              0.4444444444444444,
              "#bd3786"
             ],
             [
              0.5555555555555556,
              "#d8576b"
             ],
             [
              0.6666666666666666,
              "#ed7953"
             ],
             [
              0.7777777777777778,
              "#fb9f3a"
             ],
             [
              0.8888888888888888,
              "#fdca26"
             ],
             [
              1,
              "#f0f921"
             ]
            ],
            "type": "histogram2d"
           }
          ],
          "histogram2dcontour": [
           {
            "colorbar": {
             "outlinewidth": 0,
             "ticks": ""
            },
            "colorscale": [
             [
              0,
              "#0d0887"
             ],
             [
              0.1111111111111111,
              "#46039f"
             ],
             [
              0.2222222222222222,
              "#7201a8"
             ],
             [
              0.3333333333333333,
              "#9c179e"
             ],
             [
              0.4444444444444444,
              "#bd3786"
             ],
             [
              0.5555555555555556,
              "#d8576b"
             ],
             [
              0.6666666666666666,
              "#ed7953"
             ],
             [
              0.7777777777777778,
              "#fb9f3a"
             ],
             [
              0.8888888888888888,
              "#fdca26"
             ],
             [
              1,
              "#f0f921"
             ]
            ],
            "type": "histogram2dcontour"
           }
          ],
          "mesh3d": [
           {
            "colorbar": {
             "outlinewidth": 0,
             "ticks": ""
            },
            "type": "mesh3d"
           }
          ],
          "parcoords": [
           {
            "line": {
             "colorbar": {
              "outlinewidth": 0,
              "ticks": ""
             }
            },
            "type": "parcoords"
           }
          ],
          "pie": [
           {
            "automargin": true,
            "type": "pie"
           }
          ],
          "scatter": [
           {
            "fillpattern": {
             "fillmode": "overlay",
             "size": 10,
             "solidity": 0.2
            },
            "type": "scatter"
           }
          ],
          "scatter3d": [
           {
            "line": {
             "colorbar": {
              "outlinewidth": 0,
              "ticks": ""
             }
            },
            "marker": {
             "colorbar": {
              "outlinewidth": 0,
              "ticks": ""
             }
            },
            "type": "scatter3d"
           }
          ],
          "scattercarpet": [
           {
            "marker": {
             "colorbar": {
              "outlinewidth": 0,
              "ticks": ""
             }
            },
            "type": "scattercarpet"
           }
          ],
          "scattergeo": [
           {
            "marker": {
             "colorbar": {
              "outlinewidth": 0,
              "ticks": ""
             }
            },
            "type": "scattergeo"
           }
          ],
          "scattergl": [
           {
            "marker": {
             "colorbar": {
              "outlinewidth": 0,
              "ticks": ""
             }
            },
            "type": "scattergl"
           }
          ],
          "scattermapbox": [
           {
            "marker": {
             "colorbar": {
              "outlinewidth": 0,
              "ticks": ""
             }
            },
            "type": "scattermapbox"
           }
          ],
          "scatterpolar": [
           {
            "marker": {
             "colorbar": {
              "outlinewidth": 0,
              "ticks": ""
             }
            },
            "type": "scatterpolar"
           }
          ],
          "scatterpolargl": [
           {
            "marker": {
             "colorbar": {
              "outlinewidth": 0,
              "ticks": ""
             }
            },
            "type": "scatterpolargl"
           }
          ],
          "scatterternary": [
           {
            "marker": {
             "colorbar": {
              "outlinewidth": 0,
              "ticks": ""
             }
            },
            "type": "scatterternary"
           }
          ],
          "surface": [
           {
            "colorbar": {
             "outlinewidth": 0,
             "ticks": ""
            },
            "colorscale": [
             [
              0,
              "#0d0887"
             ],
             [
              0.1111111111111111,
              "#46039f"
             ],
             [
              0.2222222222222222,
              "#7201a8"
             ],
             [
              0.3333333333333333,
              "#9c179e"
             ],
             [
              0.4444444444444444,
              "#bd3786"
             ],
             [
              0.5555555555555556,
              "#d8576b"
             ],
             [
              0.6666666666666666,
              "#ed7953"
             ],
             [
              0.7777777777777778,
              "#fb9f3a"
             ],
             [
              0.8888888888888888,
              "#fdca26"
             ],
             [
              1,
              "#f0f921"
             ]
            ],
            "type": "surface"
           }
          ],
          "table": [
           {
            "cells": {
             "fill": {
              "color": "#EBF0F8"
             },
             "line": {
              "color": "white"
             }
            },
            "header": {
             "fill": {
              "color": "#C8D4E3"
             },
             "line": {
              "color": "white"
             }
            },
            "type": "table"
           }
          ]
         },
         "layout": {
          "annotationdefaults": {
           "arrowcolor": "#2a3f5f",
           "arrowhead": 0,
           "arrowwidth": 1
          },
          "autotypenumbers": "strict",
          "coloraxis": {
           "colorbar": {
            "outlinewidth": 0,
            "ticks": ""
           }
          },
          "colorscale": {
           "diverging": [
            [
             0,
             "#8e0152"
            ],
            [
             0.1,
             "#c51b7d"
            ],
            [
             0.2,
             "#de77ae"
            ],
            [
             0.3,
             "#f1b6da"
            ],
            [
             0.4,
             "#fde0ef"
            ],
            [
             0.5,
             "#f7f7f7"
            ],
            [
             0.6,
             "#e6f5d0"
            ],
            [
             0.7,
             "#b8e186"
            ],
            [
             0.8,
             "#7fbc41"
            ],
            [
             0.9,
             "#4d9221"
            ],
            [
             1,
             "#276419"
            ]
           ],
           "sequential": [
            [
             0,
             "#0d0887"
            ],
            [
             0.1111111111111111,
             "#46039f"
            ],
            [
             0.2222222222222222,
             "#7201a8"
            ],
            [
             0.3333333333333333,
             "#9c179e"
            ],
            [
             0.4444444444444444,
             "#bd3786"
            ],
            [
             0.5555555555555556,
             "#d8576b"
            ],
            [
             0.6666666666666666,
             "#ed7953"
            ],
            [
             0.7777777777777778,
             "#fb9f3a"
            ],
            [
             0.8888888888888888,
             "#fdca26"
            ],
            [
             1,
             "#f0f921"
            ]
           ],
           "sequentialminus": [
            [
             0,
             "#0d0887"
            ],
            [
             0.1111111111111111,
             "#46039f"
            ],
            [
             0.2222222222222222,
             "#7201a8"
            ],
            [
             0.3333333333333333,
             "#9c179e"
            ],
            [
             0.4444444444444444,
             "#bd3786"
            ],
            [
             0.5555555555555556,
             "#d8576b"
            ],
            [
             0.6666666666666666,
             "#ed7953"
            ],
            [
             0.7777777777777778,
             "#fb9f3a"
            ],
            [
             0.8888888888888888,
             "#fdca26"
            ],
            [
             1,
             "#f0f921"
            ]
           ]
          },
          "colorway": [
           "#636efa",
           "#EF553B",
           "#00cc96",
           "#ab63fa",
           "#FFA15A",
           "#19d3f3",
           "#FF6692",
           "#B6E880",
           "#FF97FF",
           "#FECB52"
          ],
          "font": {
           "color": "#2a3f5f"
          },
          "geo": {
           "bgcolor": "white",
           "lakecolor": "white",
           "landcolor": "#E5ECF6",
           "showlakes": true,
           "showland": true,
           "subunitcolor": "white"
          },
          "hoverlabel": {
           "align": "left"
          },
          "hovermode": "closest",
          "mapbox": {
           "style": "light"
          },
          "paper_bgcolor": "white",
          "plot_bgcolor": "#E5ECF6",
          "polar": {
           "angularaxis": {
            "gridcolor": "white",
            "linecolor": "white",
            "ticks": ""
           },
           "bgcolor": "#E5ECF6",
           "radialaxis": {
            "gridcolor": "white",
            "linecolor": "white",
            "ticks": ""
           }
          },
          "scene": {
           "xaxis": {
            "backgroundcolor": "#E5ECF6",
            "gridcolor": "white",
            "gridwidth": 2,
            "linecolor": "white",
            "showbackground": true,
            "ticks": "",
            "zerolinecolor": "white"
           },
           "yaxis": {
            "backgroundcolor": "#E5ECF6",
            "gridcolor": "white",
            "gridwidth": 2,
            "linecolor": "white",
            "showbackground": true,
            "ticks": "",
            "zerolinecolor": "white"
           },
           "zaxis": {
            "backgroundcolor": "#E5ECF6",
            "gridcolor": "white",
            "gridwidth": 2,
            "linecolor": "white",
            "showbackground": true,
            "ticks": "",
            "zerolinecolor": "white"
           }
          },
          "shapedefaults": {
           "line": {
            "color": "#2a3f5f"
           }
          },
          "ternary": {
           "aaxis": {
            "gridcolor": "white",
            "linecolor": "white",
            "ticks": ""
           },
           "baxis": {
            "gridcolor": "white",
            "linecolor": "white",
            "ticks": ""
           },
           "bgcolor": "#E5ECF6",
           "caxis": {
            "gridcolor": "white",
            "linecolor": "white",
            "ticks": ""
           }
          },
          "title": {
           "x": 0.05
          },
          "xaxis": {
           "automargin": true,
           "gridcolor": "white",
           "linecolor": "white",
           "ticks": "",
           "title": {
            "standoff": 15
           },
           "zerolinecolor": "white",
           "zerolinewidth": 2
          },
          "yaxis": {
           "automargin": true,
           "gridcolor": "white",
           "linecolor": "white",
           "ticks": "",
           "title": {
            "standoff": 15
           },
           "zerolinecolor": "white",
           "zerolinewidth": 2
          }
         }
        },
        "title": {
         "text": "Distributions of relative savings"
        },
        "xaxis": {
         "anchor": "y",
         "domain": [
          0,
          1
         ],
         "title": {
          "text": "Savings in %"
         }
        },
        "yaxis": {
         "anchor": "x",
         "domain": [
          0,
          1
         ],
         "title": {
          "text": "count"
         }
        }
       }
      }
     },
     "metadata": {},
     "output_type": "display_data"
    }
   ],
   "source": [
    "fig = px.histogram(rel_diff_with_master.copy() * 100, \"total_yearly_costs_eur\", color=\"is_over_2500h\", title=\"Distributions of relative savings\")\n",
    "fig.update_xaxes(title=\"Savings in %\")\n",
    "fig.show()"
   ]
  }
 ],
 "metadata": {
  "kernelspec": {
   "display_name": "Python 3",
   "language": "python",
   "name": "python3"
  },
  "language_info": {
   "codemirror_mode": {
    "name": "ipython",
    "version": 3
   },
   "file_extension": ".py",
   "mimetype": "text/x-python",
   "name": "python",
   "nbconvert_exporter": "python",
   "pygments_lexer": "ipython3",
   "version": "3.12.3"
  }
 },
 "nbformat": 4,
 "nbformat_minor": 5
}
