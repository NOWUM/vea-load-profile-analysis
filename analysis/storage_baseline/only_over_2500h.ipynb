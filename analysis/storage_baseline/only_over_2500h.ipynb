{
 "cells": [
  {
   "cell_type": "code",
   "execution_count": 1,
   "id": "d0b0cf96",
   "metadata": {},
   "outputs": [],
   "source": [
    "import os\n",
    "\n",
    "import pandas as pd\n",
    "import numpy as np\n",
    "import plotly.express as px\n",
    "\n",
    "from scipy.stats import pearsonr"
   ]
  },
  {
   "cell_type": "markdown",
   "id": "266da15c",
   "metadata": {},
   "source": [
    "# Table of Contents\n",
    "\n",
    "1. [Data loading](#data-loading)\n",
    "2. [General analysis](#general-analysis)\n",
    "    - [System sizes](#system-sizes)\n",
    "    - [System investments](#system-investments)\n",
    "3. [Comparison](#comparison)\n",
    "    - [Total savings](#total-savings)\n",
    "    - [Capacity costs savings](#capacity-costs-savings)\n",
    "4. [Correlations](#correlations)\n",
    "    - [On absolute savings](#on-absolute-savings)\n",
    "    - [On relative savings](#on-relative-savings)"
   ]
  },
  {
   "cell_type": "markdown",
   "id": "42b5ba67",
   "metadata": {},
   "source": [
    "# Data loading"
   ]
  },
  {
   "cell_type": "code",
   "execution_count": 2,
   "id": "3e3524a2",
   "metadata": {},
   "outputs": [],
   "source": [
    "URI = os.getenv(\"DB_URI\")"
   ]
  },
  {
   "cell_type": "code",
   "execution_count": 3,
   "id": "0cbf57b0",
   "metadata": {},
   "outputs": [
    {
     "data": {
      "text/html": [
       "<div>\n",
       "<style scoped>\n",
       "    .dataframe tbody tr th:only-of-type {\n",
       "        vertical-align: middle;\n",
       "    }\n",
       "\n",
       "    .dataframe tbody tr th {\n",
       "        vertical-align: top;\n",
       "    }\n",
       "\n",
       "    .dataframe thead th {\n",
       "        text-align: right;\n",
       "    }\n",
       "</style>\n",
       "<table border=\"1\" class=\"dataframe\">\n",
       "  <thead>\n",
       "    <tr style=\"text-align: right;\">\n",
       "      <th></th>\n",
       "      <th>sector_group_id</th>\n",
       "      <th>sector_group</th>\n",
       "      <th>capacity_price_over_2500h_eur_per_kw</th>\n",
       "      <th>energy_price_over_2500h_eur_per_kwh</th>\n",
       "      <th>capacity_price_under_2500h_eur_per_kw</th>\n",
       "      <th>energy_price_under_2500h_eur_per_kwh</th>\n",
       "      <th>zip_code</th>\n",
       "      <th>grid_level</th>\n",
       "      <th>number_of_peak_load</th>\n",
       "      <th>peak_load_kw</th>\n",
       "      <th>mean_load_kw</th>\n",
       "      <th>variance_kw</th>\n",
       "      <th>total_energy_kwh</th>\n",
       "      <th>full_load_hours_h</th>\n",
       "      <th>is_over_2500h</th>\n",
       "      <th>std_kw</th>\n",
       "    </tr>\n",
       "    <tr>\n",
       "      <th>id</th>\n",
       "      <th></th>\n",
       "      <th></th>\n",
       "      <th></th>\n",
       "      <th></th>\n",
       "      <th></th>\n",
       "      <th></th>\n",
       "      <th></th>\n",
       "      <th></th>\n",
       "      <th></th>\n",
       "      <th></th>\n",
       "      <th></th>\n",
       "      <th></th>\n",
       "      <th></th>\n",
       "      <th></th>\n",
       "      <th></th>\n",
       "      <th></th>\n",
       "    </tr>\n",
       "  </thead>\n",
       "  <tbody>\n",
       "    <tr>\n",
       "      <th>0</th>\n",
       "      <td>B</td>\n",
       "      <td>Mining and quarrying</td>\n",
       "      <td>94.60</td>\n",
       "      <td>0.0060</td>\n",
       "      <td>14.67</td>\n",
       "      <td>0.0379</td>\n",
       "      <td>85</td>\n",
       "      <td>MS</td>\n",
       "      <td>1</td>\n",
       "      <td>2227.36</td>\n",
       "      <td>646.151302</td>\n",
       "      <td>423413.418622</td>\n",
       "      <td>5675793.04</td>\n",
       "      <td>2548.215394</td>\n",
       "      <td>True</td>\n",
       "      <td>650.702250</td>\n",
       "    </tr>\n",
       "    <tr>\n",
       "      <th>1</th>\n",
       "      <td>B</td>\n",
       "      <td>Mining and quarrying</td>\n",
       "      <td>96.11</td>\n",
       "      <td>0.0052</td>\n",
       "      <td>9.92</td>\n",
       "      <td>0.0397</td>\n",
       "      <td>91</td>\n",
       "      <td>MS</td>\n",
       "      <td>1</td>\n",
       "      <td>1096.00</td>\n",
       "      <td>208.694900</td>\n",
       "      <td>109792.561757</td>\n",
       "      <td>1833176.00</td>\n",
       "      <td>1672.605839</td>\n",
       "      <td>False</td>\n",
       "      <td>331.349607</td>\n",
       "    </tr>\n",
       "    <tr>\n",
       "      <th>2</th>\n",
       "      <td>B</td>\n",
       "      <td>Mining and quarrying</td>\n",
       "      <td>96.11</td>\n",
       "      <td>0.0052</td>\n",
       "      <td>9.92</td>\n",
       "      <td>0.0397</td>\n",
       "      <td>92</td>\n",
       "      <td>MS</td>\n",
       "      <td>1</td>\n",
       "      <td>816.00</td>\n",
       "      <td>129.444604</td>\n",
       "      <td>36662.220510</td>\n",
       "      <td>1137041.40</td>\n",
       "      <td>1393.433088</td>\n",
       "      <td>False</td>\n",
       "      <td>191.473812</td>\n",
       "    </tr>\n",
       "    <tr>\n",
       "      <th>3</th>\n",
       "      <td>B</td>\n",
       "      <td>Mining and quarrying</td>\n",
       "      <td>96.11</td>\n",
       "      <td>0.0052</td>\n",
       "      <td>9.92</td>\n",
       "      <td>0.0397</td>\n",
       "      <td>85</td>\n",
       "      <td>MS</td>\n",
       "      <td>1</td>\n",
       "      <td>701.60</td>\n",
       "      <td>114.201389</td>\n",
       "      <td>19954.089684</td>\n",
       "      <td>1003145.00</td>\n",
       "      <td>1429.796180</td>\n",
       "      <td>False</td>\n",
       "      <td>141.258946</td>\n",
       "    </tr>\n",
       "    <tr>\n",
       "      <th>4</th>\n",
       "      <td>C</td>\n",
       "      <td>Manufacturing industry</td>\n",
       "      <td>101.04</td>\n",
       "      <td>0.0078</td>\n",
       "      <td>12.60</td>\n",
       "      <td>0.0432</td>\n",
       "      <td>30</td>\n",
       "      <td>MS</td>\n",
       "      <td>2</td>\n",
       "      <td>3480.00</td>\n",
       "      <td>1845.483607</td>\n",
       "      <td>610080.465591</td>\n",
       "      <td>16210728.00</td>\n",
       "      <td>4658.255172</td>\n",
       "      <td>True</td>\n",
       "      <td>781.076479</td>\n",
       "    </tr>\n",
       "  </tbody>\n",
       "</table>\n",
       "</div>"
      ],
      "text/plain": [
       "   sector_group_id            sector_group  \\\n",
       "id                                           \n",
       "0                B    Mining and quarrying   \n",
       "1                B    Mining and quarrying   \n",
       "2                B    Mining and quarrying   \n",
       "3                B    Mining and quarrying   \n",
       "4                C  Manufacturing industry   \n",
       "\n",
       "    capacity_price_over_2500h_eur_per_kw  energy_price_over_2500h_eur_per_kwh  \\\n",
       "id                                                                              \n",
       "0                                  94.60                               0.0060   \n",
       "1                                  96.11                               0.0052   \n",
       "2                                  96.11                               0.0052   \n",
       "3                                  96.11                               0.0052   \n",
       "4                                 101.04                               0.0078   \n",
       "\n",
       "    capacity_price_under_2500h_eur_per_kw  \\\n",
       "id                                          \n",
       "0                                   14.67   \n",
       "1                                    9.92   \n",
       "2                                    9.92   \n",
       "3                                    9.92   \n",
       "4                                   12.60   \n",
       "\n",
       "    energy_price_under_2500h_eur_per_kwh  zip_code grid_level  \\\n",
       "id                                                              \n",
       "0                                 0.0379        85         MS   \n",
       "1                                 0.0397        91         MS   \n",
       "2                                 0.0397        92         MS   \n",
       "3                                 0.0397        85         MS   \n",
       "4                                 0.0432        30         MS   \n",
       "\n",
       "    number_of_peak_load  peak_load_kw  mean_load_kw    variance_kw  \\\n",
       "id                                                                   \n",
       "0                     1       2227.36    646.151302  423413.418622   \n",
       "1                     1       1096.00    208.694900  109792.561757   \n",
       "2                     1        816.00    129.444604   36662.220510   \n",
       "3                     1        701.60    114.201389   19954.089684   \n",
       "4                     2       3480.00   1845.483607  610080.465591   \n",
       "\n",
       "    total_energy_kwh  full_load_hours_h  is_over_2500h      std_kw  \n",
       "id                                                                  \n",
       "0         5675793.04        2548.215394           True  650.702250  \n",
       "1         1833176.00        1672.605839          False  331.349607  \n",
       "2         1137041.40        1393.433088          False  191.473812  \n",
       "3         1003145.00        1429.796180          False  141.258946  \n",
       "4        16210728.00        4658.255172           True  781.076479  "
      ]
     },
     "execution_count": 3,
     "metadata": {},
     "output_type": "execute_result"
    }
   ],
   "source": [
    "master = pd.read_sql(\"SELECT * FROM vea_industrial_load_profiles.master\", URI)\n",
    "master.set_index(\"id\", inplace=True)\n",
    "master.sort_index(inplace=True)\n",
    "\n",
    "# in the authors database, the following columns are already present in master\n",
    "# this will lead to problems later on, so we drop them here\n",
    "# if you have created your own features by the \"create_master_features.py\", you\n",
    "# do not need to worry about it\n",
    "cols_to_drop = [\"energy_costs_eur\", \"capacity_costs_eur\", \"total_costs_eur\"]\n",
    "for col_to_drop in cols_to_drop:\n",
    "    try:\n",
    "        master.drop(columns=col_to_drop, inplace=True)\n",
    "    except KeyError as e:\n",
    "        continue\n",
    "\n",
    "master.head()"
   ]
  },
  {
   "cell_type": "code",
   "execution_count": 4,
   "id": "718be159",
   "metadata": {},
   "outputs": [],
   "source": [
    "profiles_over_2500h = master[master[\"is_over_2500h\"]].index"
   ]
  },
  {
   "cell_type": "code",
   "execution_count": 5,
   "id": "f30b4853",
   "metadata": {},
   "outputs": [
    {
     "data": {
      "text/html": [
       "<div>\n",
       "<style scoped>\n",
       "    .dataframe tbody tr th:only-of-type {\n",
       "        vertical-align: middle;\n",
       "    }\n",
       "\n",
       "    .dataframe tbody tr th {\n",
       "        vertical-align: top;\n",
       "    }\n",
       "\n",
       "    .dataframe thead th {\n",
       "        text-align: right;\n",
       "    }\n",
       "</style>\n",
       "<table border=\"1\" class=\"dataframe\">\n",
       "  <thead>\n",
       "    <tr style=\"text-align: right;\">\n",
       "      <th></th>\n",
       "      <th>name</th>\n",
       "      <th>energy_costs_eur</th>\n",
       "      <th>grid_energy_costs_eur</th>\n",
       "      <th>grid_capacity_costs_eur</th>\n",
       "      <th>grid_capacity_kw</th>\n",
       "      <th>storage_invest_eur</th>\n",
       "      <th>storage_annuity_eur</th>\n",
       "      <th>storage_capacity_kwh</th>\n",
       "      <th>inverter_invest_eur</th>\n",
       "      <th>inverter_annuity_eur</th>\n",
       "      <th>inverter_capacity_kw</th>\n",
       "      <th>solar_invest_eur</th>\n",
       "      <th>solar_annuity_eur</th>\n",
       "      <th>solar_capacity_kwp</th>\n",
       "      <th>total_yearly_costs_eur</th>\n",
       "      <th>total_annuity_eur</th>\n",
       "      <th>total_invest_eur</th>\n",
       "    </tr>\n",
       "    <tr>\n",
       "      <th>id</th>\n",
       "      <th></th>\n",
       "      <th></th>\n",
       "      <th></th>\n",
       "      <th></th>\n",
       "      <th></th>\n",
       "      <th></th>\n",
       "      <th></th>\n",
       "      <th></th>\n",
       "      <th></th>\n",
       "      <th></th>\n",
       "      <th></th>\n",
       "      <th></th>\n",
       "      <th></th>\n",
       "      <th></th>\n",
       "      <th></th>\n",
       "      <th></th>\n",
       "      <th></th>\n",
       "    </tr>\n",
       "  </thead>\n",
       "  <tbody>\n",
       "    <tr>\n",
       "      <th>0</th>\n",
       "      <td>0_baseline</td>\n",
       "      <td>1.021643e+06</td>\n",
       "      <td>271558.090967</td>\n",
       "      <td>41249.388603</td>\n",
       "      <td>2227.36</td>\n",
       "      <td>0.0</td>\n",
       "      <td>0.0</td>\n",
       "      <td>0.0</td>\n",
       "      <td>0.0</td>\n",
       "      <td>0.0</td>\n",
       "      <td>0.0</td>\n",
       "      <td>0.0</td>\n",
       "      <td>0.0</td>\n",
       "      <td>0.0</td>\n",
       "      <td>1.334450e+06</td>\n",
       "      <td>0.0</td>\n",
       "      <td>0.0</td>\n",
       "    </tr>\n",
       "    <tr>\n",
       "      <th>4</th>\n",
       "      <td>4_baseline</td>\n",
       "      <td>2.917931e+06</td>\n",
       "      <td>884063.074775</td>\n",
       "      <td>55353.715200</td>\n",
       "      <td>3480.00</td>\n",
       "      <td>0.0</td>\n",
       "      <td>0.0</td>\n",
       "      <td>0.0</td>\n",
       "      <td>0.0</td>\n",
       "      <td>0.0</td>\n",
       "      <td>0.0</td>\n",
       "      <td>0.0</td>\n",
       "      <td>0.0</td>\n",
       "      <td>0.0</td>\n",
       "      <td>3.857348e+06</td>\n",
       "      <td>0.0</td>\n",
       "      <td>0.0</td>\n",
       "    </tr>\n",
       "    <tr>\n",
       "      <th>5</th>\n",
       "      <td>5_baseline</td>\n",
       "      <td>2.797699e+05</td>\n",
       "      <td>59844.638186</td>\n",
       "      <td>8231.655936</td>\n",
       "      <td>568.00</td>\n",
       "      <td>0.0</td>\n",
       "      <td>0.0</td>\n",
       "      <td>0.0</td>\n",
       "      <td>0.0</td>\n",
       "      <td>0.0</td>\n",
       "      <td>0.0</td>\n",
       "      <td>0.0</td>\n",
       "      <td>0.0</td>\n",
       "      <td>0.0</td>\n",
       "      <td>3.478462e+05</td>\n",
       "      <td>0.0</td>\n",
       "      <td>0.0</td>\n",
       "    </tr>\n",
       "    <tr>\n",
       "      <th>6</th>\n",
       "      <td>6_baseline</td>\n",
       "      <td>2.243384e+06</td>\n",
       "      <td>567982.840899</td>\n",
       "      <td>35762.681088</td>\n",
       "      <td>2292.00</td>\n",
       "      <td>0.0</td>\n",
       "      <td>0.0</td>\n",
       "      <td>0.0</td>\n",
       "      <td>0.0</td>\n",
       "      <td>0.0</td>\n",
       "      <td>0.0</td>\n",
       "      <td>0.0</td>\n",
       "      <td>0.0</td>\n",
       "      <td>0.0</td>\n",
       "      <td>2.847129e+06</td>\n",
       "      <td>0.0</td>\n",
       "      <td>0.0</td>\n",
       "    </tr>\n",
       "    <tr>\n",
       "      <th>7</th>\n",
       "      <td>7_baseline</td>\n",
       "      <td>1.070598e+05</td>\n",
       "      <td>24777.926083</td>\n",
       "      <td>2599.534080</td>\n",
       "      <td>143.00</td>\n",
       "      <td>0.0</td>\n",
       "      <td>0.0</td>\n",
       "      <td>0.0</td>\n",
       "      <td>0.0</td>\n",
       "      <td>0.0</td>\n",
       "      <td>0.0</td>\n",
       "      <td>0.0</td>\n",
       "      <td>0.0</td>\n",
       "      <td>0.0</td>\n",
       "      <td>1.344373e+05</td>\n",
       "      <td>0.0</td>\n",
       "      <td>0.0</td>\n",
       "    </tr>\n",
       "  </tbody>\n",
       "</table>\n",
       "</div>"
      ],
      "text/plain": [
       "          name  energy_costs_eur  grid_energy_costs_eur  \\\n",
       "id                                                        \n",
       "0   0_baseline      1.021643e+06          271558.090967   \n",
       "4   4_baseline      2.917931e+06          884063.074775   \n",
       "5   5_baseline      2.797699e+05           59844.638186   \n",
       "6   6_baseline      2.243384e+06          567982.840899   \n",
       "7   7_baseline      1.070598e+05           24777.926083   \n",
       "\n",
       "    grid_capacity_costs_eur  grid_capacity_kw  storage_invest_eur  \\\n",
       "id                                                                  \n",
       "0              41249.388603           2227.36                 0.0   \n",
       "4              55353.715200           3480.00                 0.0   \n",
       "5               8231.655936            568.00                 0.0   \n",
       "6              35762.681088           2292.00                 0.0   \n",
       "7               2599.534080            143.00                 0.0   \n",
       "\n",
       "    storage_annuity_eur  storage_capacity_kwh  inverter_invest_eur  \\\n",
       "id                                                                   \n",
       "0                   0.0                   0.0                  0.0   \n",
       "4                   0.0                   0.0                  0.0   \n",
       "5                   0.0                   0.0                  0.0   \n",
       "6                   0.0                   0.0                  0.0   \n",
       "7                   0.0                   0.0                  0.0   \n",
       "\n",
       "    inverter_annuity_eur  inverter_capacity_kw  solar_invest_eur  \\\n",
       "id                                                                 \n",
       "0                    0.0                   0.0               0.0   \n",
       "4                    0.0                   0.0               0.0   \n",
       "5                    0.0                   0.0               0.0   \n",
       "6                    0.0                   0.0               0.0   \n",
       "7                    0.0                   0.0               0.0   \n",
       "\n",
       "    solar_annuity_eur  solar_capacity_kwp  total_yearly_costs_eur  \\\n",
       "id                                                                  \n",
       "0                 0.0                 0.0            1.334450e+06   \n",
       "4                 0.0                 0.0            3.857348e+06   \n",
       "5                 0.0                 0.0            3.478462e+05   \n",
       "6                 0.0                 0.0            2.847129e+06   \n",
       "7                 0.0                 0.0            1.344373e+05   \n",
       "\n",
       "    total_annuity_eur  total_invest_eur  \n",
       "id                                       \n",
       "0                 0.0               0.0  \n",
       "4                 0.0               0.0  \n",
       "5                 0.0               0.0  \n",
       "6                 0.0               0.0  \n",
       "7                 0.0               0.0  "
      ]
     },
     "execution_count": 5,
     "metadata": {},
     "output_type": "execute_result"
    }
   ],
   "source": [
    "baseline = pd.read_sql(\"SELECT * FROM vea_results.overview WHERE name LIKE '%%base%%'\", URI)\n",
    "baseline[\"id\"] = baseline[\"name\"].str.split(\"_\").str[0].astype(int)\n",
    "baseline.set_index(\"id\", inplace=True)\n",
    "baseline = baseline[baseline.index.isin(profiles_over_2500h)]\n",
    "baseline.sort_index(inplace=True)\n",
    "baseline.head()"
   ]
  },
  {
   "cell_type": "code",
   "execution_count": 6,
   "id": "fe34cbb3",
   "metadata": {},
   "outputs": [
    {
     "data": {
      "text/html": [
       "<div>\n",
       "<style scoped>\n",
       "    .dataframe tbody tr th:only-of-type {\n",
       "        vertical-align: middle;\n",
       "    }\n",
       "\n",
       "    .dataframe tbody tr th {\n",
       "        vertical-align: top;\n",
       "    }\n",
       "\n",
       "    .dataframe thead th {\n",
       "        text-align: right;\n",
       "    }\n",
       "</style>\n",
       "<table border=\"1\" class=\"dataframe\">\n",
       "  <thead>\n",
       "    <tr style=\"text-align: right;\">\n",
       "      <th></th>\n",
       "      <th>name</th>\n",
       "      <th>energy_costs_eur</th>\n",
       "      <th>grid_energy_costs_eur</th>\n",
       "      <th>grid_capacity_costs_eur</th>\n",
       "      <th>grid_capacity_kw</th>\n",
       "      <th>storage_invest_eur</th>\n",
       "      <th>storage_annuity_eur</th>\n",
       "      <th>storage_capacity_kwh</th>\n",
       "      <th>inverter_invest_eur</th>\n",
       "      <th>inverter_annuity_eur</th>\n",
       "      <th>inverter_capacity_kw</th>\n",
       "      <th>solar_invest_eur</th>\n",
       "      <th>solar_annuity_eur</th>\n",
       "      <th>solar_capacity_kwp</th>\n",
       "      <th>total_yearly_costs_eur</th>\n",
       "      <th>total_annuity_eur</th>\n",
       "      <th>total_invest_eur</th>\n",
       "      <th>invest_per_tac</th>\n",
       "    </tr>\n",
       "    <tr>\n",
       "      <th>id</th>\n",
       "      <th></th>\n",
       "      <th></th>\n",
       "      <th></th>\n",
       "      <th></th>\n",
       "      <th></th>\n",
       "      <th></th>\n",
       "      <th></th>\n",
       "      <th></th>\n",
       "      <th></th>\n",
       "      <th></th>\n",
       "      <th></th>\n",
       "      <th></th>\n",
       "      <th></th>\n",
       "      <th></th>\n",
       "      <th></th>\n",
       "      <th></th>\n",
       "      <th></th>\n",
       "      <th></th>\n",
       "    </tr>\n",
       "  </thead>\n",
       "  <tbody>\n",
       "    <tr>\n",
       "      <th>0</th>\n",
       "      <td>0_storage_only</td>\n",
       "      <td>1.018851e+06</td>\n",
       "      <td>270816.128970</td>\n",
       "      <td>41249.388603</td>\n",
       "      <td>2227.36</td>\n",
       "      <td>0.0</td>\n",
       "      <td>0.0</td>\n",
       "      <td>0.0</td>\n",
       "      <td>0.0</td>\n",
       "      <td>0.0</td>\n",
       "      <td>0.0</td>\n",
       "      <td>0.0</td>\n",
       "      <td>0.0</td>\n",
       "      <td>0.0</td>\n",
       "      <td>1.330917e+06</td>\n",
       "      <td>0.0</td>\n",
       "      <td>0.0</td>\n",
       "      <td>0.0</td>\n",
       "    </tr>\n",
       "    <tr>\n",
       "      <th>4</th>\n",
       "      <td>4_storage_only</td>\n",
       "      <td>2.909959e+06</td>\n",
       "      <td>881647.601893</td>\n",
       "      <td>55353.715200</td>\n",
       "      <td>3480.00</td>\n",
       "      <td>0.0</td>\n",
       "      <td>0.0</td>\n",
       "      <td>0.0</td>\n",
       "      <td>0.0</td>\n",
       "      <td>0.0</td>\n",
       "      <td>0.0</td>\n",
       "      <td>0.0</td>\n",
       "      <td>0.0</td>\n",
       "      <td>0.0</td>\n",
       "      <td>3.846960e+06</td>\n",
       "      <td>0.0</td>\n",
       "      <td>0.0</td>\n",
       "      <td>0.0</td>\n",
       "    </tr>\n",
       "    <tr>\n",
       "      <th>5</th>\n",
       "      <td>5_storage_only</td>\n",
       "      <td>2.790055e+05</td>\n",
       "      <td>59681.128246</td>\n",
       "      <td>8231.655936</td>\n",
       "      <td>568.00</td>\n",
       "      <td>0.0</td>\n",
       "      <td>0.0</td>\n",
       "      <td>0.0</td>\n",
       "      <td>0.0</td>\n",
       "      <td>0.0</td>\n",
       "      <td>0.0</td>\n",
       "      <td>0.0</td>\n",
       "      <td>0.0</td>\n",
       "      <td>0.0</td>\n",
       "      <td>3.469182e+05</td>\n",
       "      <td>0.0</td>\n",
       "      <td>0.0</td>\n",
       "      <td>0.0</td>\n",
       "    </tr>\n",
       "    <tr>\n",
       "      <th>6</th>\n",
       "      <td>6_storage_only</td>\n",
       "      <td>2.237254e+06</td>\n",
       "      <td>566430.975213</td>\n",
       "      <td>35762.681088</td>\n",
       "      <td>2292.00</td>\n",
       "      <td>0.0</td>\n",
       "      <td>0.0</td>\n",
       "      <td>0.0</td>\n",
       "      <td>0.0</td>\n",
       "      <td>0.0</td>\n",
       "      <td>0.0</td>\n",
       "      <td>0.0</td>\n",
       "      <td>0.0</td>\n",
       "      <td>0.0</td>\n",
       "      <td>2.839448e+06</td>\n",
       "      <td>0.0</td>\n",
       "      <td>0.0</td>\n",
       "      <td>0.0</td>\n",
       "    </tr>\n",
       "    <tr>\n",
       "      <th>7</th>\n",
       "      <td>7_storage_only</td>\n",
       "      <td>1.067673e+05</td>\n",
       "      <td>24710.226832</td>\n",
       "      <td>2599.534080</td>\n",
       "      <td>143.00</td>\n",
       "      <td>0.0</td>\n",
       "      <td>0.0</td>\n",
       "      <td>0.0</td>\n",
       "      <td>0.0</td>\n",
       "      <td>0.0</td>\n",
       "      <td>0.0</td>\n",
       "      <td>0.0</td>\n",
       "      <td>0.0</td>\n",
       "      <td>0.0</td>\n",
       "      <td>1.340771e+05</td>\n",
       "      <td>0.0</td>\n",
       "      <td>0.0</td>\n",
       "      <td>0.0</td>\n",
       "    </tr>\n",
       "  </tbody>\n",
       "</table>\n",
       "</div>"
      ],
      "text/plain": [
       "              name  energy_costs_eur  grid_energy_costs_eur  \\\n",
       "id                                                            \n",
       "0   0_storage_only      1.018851e+06          270816.128970   \n",
       "4   4_storage_only      2.909959e+06          881647.601893   \n",
       "5   5_storage_only      2.790055e+05           59681.128246   \n",
       "6   6_storage_only      2.237254e+06          566430.975213   \n",
       "7   7_storage_only      1.067673e+05           24710.226832   \n",
       "\n",
       "    grid_capacity_costs_eur  grid_capacity_kw  storage_invest_eur  \\\n",
       "id                                                                  \n",
       "0              41249.388603           2227.36                 0.0   \n",
       "4              55353.715200           3480.00                 0.0   \n",
       "5               8231.655936            568.00                 0.0   \n",
       "6              35762.681088           2292.00                 0.0   \n",
       "7               2599.534080            143.00                 0.0   \n",
       "\n",
       "    storage_annuity_eur  storage_capacity_kwh  inverter_invest_eur  \\\n",
       "id                                                                   \n",
       "0                   0.0                   0.0                  0.0   \n",
       "4                   0.0                   0.0                  0.0   \n",
       "5                   0.0                   0.0                  0.0   \n",
       "6                   0.0                   0.0                  0.0   \n",
       "7                   0.0                   0.0                  0.0   \n",
       "\n",
       "    inverter_annuity_eur  inverter_capacity_kw  solar_invest_eur  \\\n",
       "id                                                                 \n",
       "0                    0.0                   0.0               0.0   \n",
       "4                    0.0                   0.0               0.0   \n",
       "5                    0.0                   0.0               0.0   \n",
       "6                    0.0                   0.0               0.0   \n",
       "7                    0.0                   0.0               0.0   \n",
       "\n",
       "    solar_annuity_eur  solar_capacity_kwp  total_yearly_costs_eur  \\\n",
       "id                                                                  \n",
       "0                 0.0                 0.0            1.330917e+06   \n",
       "4                 0.0                 0.0            3.846960e+06   \n",
       "5                 0.0                 0.0            3.469182e+05   \n",
       "6                 0.0                 0.0            2.839448e+06   \n",
       "7                 0.0                 0.0            1.340771e+05   \n",
       "\n",
       "    total_annuity_eur  total_invest_eur  invest_per_tac  \n",
       "id                                                       \n",
       "0                 0.0               0.0             0.0  \n",
       "4                 0.0               0.0             0.0  \n",
       "5                 0.0               0.0             0.0  \n",
       "6                 0.0               0.0             0.0  \n",
       "7                 0.0               0.0             0.0  "
      ]
     },
     "execution_count": 6,
     "metadata": {},
     "output_type": "execute_result"
    }
   ],
   "source": [
    "storage = pd.read_sql(\"SELECT * FROM vea_results.overview WHERE name LIKE '%%storage_only'\", URI)\n",
    "storage[\"id\"] = storage[\"name\"].str.split(\"_\").str[0].astype(int)\n",
    "storage.set_index(\"id\", inplace=True)\n",
    "storage = storage[storage.index.isin(profiles_over_2500h)]\n",
    "storage[\"invest_per_tac\"] = (storage[\"storage_invest_eur\"] + storage[\"inverter_invest_eur\"]) / baseline[\"total_yearly_costs_eur\"]\n",
    "storage.sort_index(inplace=True)\n",
    "storage.head()"
   ]
  },
  {
   "cell_type": "markdown",
   "id": "97a35e6f",
   "metadata": {},
   "source": [
    "# General analysis"
   ]
  },
  {
   "cell_type": "code",
   "execution_count": 7,
   "id": "d94b3265",
   "metadata": {},
   "outputs": [
    {
     "name": "stdout",
     "output_type": "stream",
     "text": [
      "total_profiles_analyzed=3644\n",
      "n_profiles_using_storage=1145\n",
      "Percentage of profiles using storage: 31.42 %\n"
     ]
    }
   ],
   "source": [
    "total_profiles_analyzed = len(storage)\n",
    "profiles_using_storage = storage[storage[\"inverter_invest_eur\"] > 0]\n",
    "n_profiles_using_storage = len(profiles_using_storage)\n",
    "\n",
    "print(f\"{total_profiles_analyzed=}\")\n",
    "print(f\"{n_profiles_using_storage=}\")\n",
    "print(f\"Percentage of profiles using storage: {((n_profiles_using_storage / total_profiles_analyzed) * 100):.2f} %\")"
   ]
  },
  {
   "cell_type": "markdown",
   "id": "a7bf038d",
   "metadata": {},
   "source": [
    "## System sizes"
   ]
  },
  {
   "cell_type": "code",
   "execution_count": 8,
   "id": "1f3f1a50",
   "metadata": {},
   "outputs": [
    {
     "name": "stdout",
     "output_type": "stream",
     "text": [
      "|      |   Storage capacity |\n",
      "|:-----|-------------------:|\n",
      "| mean |        12.4516     |\n",
      "| std  |        34.5134     |\n",
      "| min  |         0.00157895 |\n",
      "| 25%  |         1.50515    |\n",
      "| 50%  |         4.26       |\n",
      "| 75%  |        11.8102     |\n",
      "| max  |       863.684      |\n",
      "\n",
      "|      |   Inverter capacity |\n",
      "|:-----|--------------------:|\n",
      "| mean |            30.331   |\n",
      "| std  |            59.061   |\n",
      "| min  |             0.006   |\n",
      "| 25%  |             4.94678 |\n",
      "| 50%  |            13.4     |\n",
      "| 75%  |            34.4     |\n",
      "| max  |          1106       |\n"
     ]
    },
    {
     "data": {
      "application/vnd.plotly.v1+json": {
       "config": {
        "plotlyServerURL": "https://plot.ly"
       },
       "data": [
        {
         "alignmentgroup": "True",
         "hovertemplate": "value=%{x}<br>variable=%{y}<extra></extra>",
         "legendgroup": "",
         "marker": {
          "color": "#636efa"
         },
         "name": "",
         "notched": false,
         "offsetgroup": "",
         "orientation": "h",
         "showlegend": false,
         "type": "box",
         "x": {
          "bdata": "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",
          "dtype": "f8"
         },
         "x0": " ",
         "xaxis": "x",
         "y": [
          "Inverter",
          "Inverter",
          "Inverter",
          "Inverter",
          "Inverter",
          "Inverter",
          "Inverter",
          "Inverter",
          "Inverter",
          "Inverter",
          "Inverter",
          "Inverter",
          "Inverter",
          "Inverter",
          "Inverter",
          "Inverter",
          "Inverter",
          "Inverter",
          "Inverter",
          "Inverter",
          "Inverter",
          "Inverter",
          "Inverter",
          "Inverter",
          "Inverter",
          "Inverter",
          "Inverter",
          "Inverter",
          "Inverter",
          "Inverter",
          "Inverter",
          "Inverter",
          "Inverter",
          "Inverter",
          "Inverter",
          "Inverter",
          "Inverter",
          "Inverter",
          "Inverter",
          "Inverter",
          "Inverter",
          "Inverter",
          "Inverter",
          "Inverter",
          "Inverter",
          "Inverter",
          "Inverter",
          "Inverter",
          "Inverter",
          "Inverter",
          "Inverter",
          "Inverter",
          "Inverter",
          "Inverter",
          "Inverter",
          "Inverter",
          "Inverter",
          "Inverter",
          "Inverter",
          "Inverter",
          "Inverter",
          "Inverter",
          "Inverter",
          "Inverter",
          "Inverter",
          "Inverter",
          "Inverter",
          "Inverter",
          "Inverter",
          "Inverter",
          "Inverter",
          "Inverter",
          "Inverter",
          "Inverter",
          "Inverter",
          "Inverter",
          "Inverter",
          "Inverter",
          "Inverter",
          "Inverter",
          "Inverter",
          "Inverter",
          "Inverter",
          "Inverter",
          "Inverter",
          "Inverter",
          "Inverter",
          "Inverter",
          "Inverter",
          "Inverter",
          "Inverter",
          "Inverter",
          "Inverter",
          "Inverter",
          "Inverter",
          "Inverter",
          "Inverter",
          "Inverter",
          "Inverter",
          "Inverter",
          "Inverter",
          "Inverter",
          "Inverter",
          "Inverter",
          "Inverter",
          "Inverter",
          "Inverter",
          "Inverter",
          "Inverter",
          "Inverter",
          "Inverter",
          "Inverter",
          "Inverter",
          "Inverter",
          "Inverter",
          "Inverter",
          "Inverter",
          "Inverter",
          "Inverter",
          "Inverter",
          "Inverter",
          "Inverter",
          "Inverter",
          "Inverter",
          "Inverter",
          "Inverter",
          "Inverter",
          "Inverter",
          "Inverter",
          "Inverter",
          "Inverter",
          "Inverter",
          "Inverter",
          "Inverter",
          "Inverter",
          "Inverter",
          "Inverter",
          "Inverter",
          "Inverter",
          "Inverter",
          "Inverter",
          "Inverter",
          "Inverter",
          "Inverter",
          "Inverter",
          "Inverter",
          "Inverter",
          "Inverter",
          "Inverter",
          "Inverter",
          "Inverter",
          "Inverter",
          "Inverter",
          "Inverter",
          "Inverter",
          "Inverter",
          "Inverter",
          "Inverter",
          "Inverter",
          "Inverter",
          "Inverter",
          "Inverter",
          "Inverter",
          "Inverter",
          "Inverter",
          "Inverter",
          "Inverter",
          "Inverter",
          "Inverter",
          "Inverter",
          "Inverter",
          "Inverter",
          "Inverter",
          "Inverter",
          "Inverter",
          "Inverter",
          "Inverter",
          "Inverter",
          "Inverter",
          "Inverter",
          "Inverter",
          "Inverter",
          "Inverter",
          "Inverter",
          "Inverter",
          "Inverter",
          "Inverter",
          "Inverter",
          "Inverter",
          "Inverter",
          "Inverter",
          "Inverter",
          "Inverter",
          "Inverter",
          "Inverter",
          "Inverter",
          "Inverter",
          "Inverter",
          "Inverter",
          "Inverter",
          "Inverter",
          "Inverter",
          "Inverter",
          "Inverter",
          "Inverter",
          "Inverter",
          "Inverter",
          "Inverter",
          "Inverter",
          "Inverter",
          "Inverter",
          "Inverter",
          "Inverter",
          "Inverter",
          "Inverter",
          "Inverter",
          "Inverter",
          "Inverter",
          "Inverter",
          "Inverter",
          "Inverter",
          "Inverter",
          "Inverter",
          "Inverter",
          "Inverter",
          "Inverter",
          "Inverter",
          "Inverter",
          "Inverter",
          "Inverter",
          "Inverter",
          "Inverter",
          "Inverter",
          "Inverter",
          "Inverter",
          "Inverter",
          "Inverter",
          "Inverter",
          "Inverter",
          "Inverter",
          "Inverter",
          "Inverter",
          "Inverter",
          "Inverter",
          "Inverter",
          "Inverter",
          "Inverter",
          "Inverter",
          "Inverter",
          "Inverter",
          "Inverter",
          "Inverter",
          "Inverter",
          "Inverter",
          "Inverter",
          "Inverter",
          "Inverter",
          "Inverter",
          "Inverter",
          "Inverter",
          "Inverter",
          "Inverter",
          "Inverter",
          "Inverter",
          "Inverter",
          "Inverter",
          "Inverter",
          "Inverter",
          "Inverter",
          "Inverter",
          "Inverter",
          "Inverter",
          "Inverter",
          "Inverter",
          "Inverter",
          "Inverter",
          "Inverter",
          "Inverter",
          "Inverter",
          "Inverter",
          "Inverter",
          "Inverter",
          "Inverter",
          "Inverter",
          "Inverter",
          "Inverter",
          "Inverter",
          "Inverter",
          "Inverter",
          "Inverter",
          "Inverter",
          "Inverter",
          "Inverter",
          "Inverter",
          "Inverter",
          "Inverter",
          "Inverter",
          "Inverter",
          "Inverter",
          "Inverter",
          "Inverter",
          "Inverter",
          "Inverter",
          "Inverter",
          "Inverter",
          "Inverter",
          "Inverter",
          "Inverter",
          "Inverter",
          "Inverter",
          "Inverter",
          "Inverter",
          "Inverter",
          "Inverter",
          "Inverter",
          "Inverter",
          "Inverter",
          "Inverter",
          "Inverter",
          "Inverter",
          "Inverter",
          "Inverter",
          "Inverter",
          "Inverter",
          "Inverter",
          "Inverter",
          "Inverter",
          "Inverter",
          "Inverter",
          "Inverter",
          "Inverter",
          "Inverter",
          "Inverter",
          "Inverter",
          "Inverter",
          "Inverter",
          "Inverter",
          "Inverter",
          "Inverter",
          "Inverter",
          "Inverter",
          "Inverter",
          "Inverter",
          "Inverter",
          "Inverter",
          "Inverter",
          "Inverter",
          "Inverter",
          "Inverter",
          "Inverter",
          "Inverter",
          "Inverter",
          "Inverter",
          "Inverter",
          "Inverter",
          "Inverter",
          "Inverter",
          "Inverter",
          "Inverter",
          "Inverter",
          "Inverter",
          "Inverter",
          "Inverter",
          "Inverter",
          "Inverter",
          "Inverter",
          "Inverter",
          "Inverter",
          "Inverter",
          "Inverter",
          "Inverter",
          "Inverter",
          "Inverter",
          "Inverter",
          "Inverter",
          "Inverter",
          "Inverter",
          "Inverter",
          "Inverter",
          "Inverter",
          "Inverter",
          "Inverter",
          "Inverter",
          "Inverter",
          "Inverter",
          "Inverter",
          "Inverter",
          "Inverter",
          "Inverter",
          "Inverter",
          "Inverter",
          "Inverter",
          "Inverter",
          "Inverter",
          "Inverter",
          "Inverter",
          "Inverter",
          "Inverter",
          "Inverter",
          "Inverter",
          "Inverter",
          "Inverter",
          "Inverter",
          "Inverter",
          "Inverter",
          "Inverter",
          "Inverter",
          "Inverter",
          "Inverter",
          "Inverter",
          "Inverter",
          "Inverter",
          "Inverter",
          "Inverter",
          "Inverter",
          "Inverter",
          "Inverter",
          "Inverter",
          "Inverter",
          "Inverter",
          "Inverter",
          "Inverter",
          "Inverter",
          "Inverter",
          "Inverter",
          "Inverter",
          "Inverter",
          "Inverter",
          "Inverter",
          "Inverter",
          "Inverter",
          "Inverter",
          "Inverter",
          "Inverter",
          "Inverter",
          "Inverter",
          "Inverter",
          "Inverter",
          "Inverter",
          "Inverter",
          "Inverter",
          "Inverter",
          "Inverter",
          "Inverter",
          "Inverter",
          "Inverter",
          "Inverter",
          "Inverter",
          "Inverter",
          "Inverter",
          "Inverter",
          "Inverter",
          "Inverter",
          "Inverter",
          "Inverter",
          "Inverter",
          "Inverter",
          "Inverter",
          "Inverter",
          "Inverter",
          "Inverter",
          "Inverter",
          "Inverter",
          "Inverter",
          "Inverter",
          "Inverter",
          "Inverter",
          "Inverter",
          "Inverter",
          "Inverter",
          "Inverter",
          "Inverter",
          "Inverter",
          "Inverter",
          "Inverter",
          "Inverter",
          "Inverter",
          "Inverter",
          "Inverter",
          "Inverter",
          "Inverter",
          "Inverter",
          "Inverter",
          "Inverter",
          "Inverter",
          "Inverter",
          "Inverter",
          "Inverter",
          "Inverter",
          "Inverter",
          "Inverter",
          "Inverter",
          "Inverter",
          "Inverter",
          "Inverter",
          "Inverter",
          "Inverter",
          "Inverter",
          "Inverter",
          "Inverter",
          "Inverter",
          "Inverter",
          "Inverter",
          "Inverter",
          "Inverter",
          "Inverter",
          "Inverter",
          "Inverter",
          "Inverter",
          "Inverter",
          "Inverter",
          "Inverter",
          "Inverter",
          "Inverter",
          "Inverter",
          "Inverter",
          "Inverter",
          "Inverter",
          "Inverter",
          "Inverter",
          "Inverter",
          "Inverter",
          "Inverter",
          "Inverter",
          "Inverter",
          "Inverter",
          "Inverter",
          "Inverter",
          "Inverter",
          "Inverter",
          "Inverter",
          "Inverter",
          "Inverter",
          "Inverter",
          "Inverter",
          "Inverter",
          "Inverter",
          "Inverter",
          "Inverter",
          "Inverter",
          "Inverter",
          "Inverter",
          "Inverter",
          "Inverter",
          "Inverter",
          "Inverter",
          "Inverter",
          "Inverter",
          "Inverter",
          "Inverter",
          "Inverter",
          "Inverter",
          "Inverter",
          "Inverter",
          "Inverter",
          "Inverter",
          "Inverter",
          "Inverter",
          "Inverter",
          "Inverter",
          "Inverter",
          "Inverter",
          "Inverter",
          "Inverter",
          "Inverter",
          "Inverter",
          "Inverter",
          "Inverter",
          "Inverter",
          "Inverter",
          "Inverter",
          "Inverter",
          "Inverter",
          "Inverter",
          "Inverter",
          "Inverter",
          "Inverter",
          "Inverter",
          "Inverter",
          "Inverter",
          "Inverter",
          "Inverter",
          "Inverter",
          "Inverter",
          "Inverter",
          "Inverter",
          "Inverter",
          "Inverter",
          "Inverter",
          "Inverter",
          "Inverter",
          "Inverter",
          "Inverter",
          "Inverter",
          "Inverter",
          "Inverter",
          "Inverter",
          "Inverter",
          "Inverter",
          "Inverter",
          "Inverter",
          "Inverter",
          "Inverter",
          "Inverter",
          "Inverter",
          "Inverter",
          "Inverter",
          "Inverter",
          "Inverter",
          "Inverter",
          "Inverter",
          "Inverter",
          "Inverter",
          "Inverter",
          "Inverter",
          "Inverter",
          "Inverter",
          "Inverter",
          "Inverter",
          "Inverter",
          "Inverter",
          "Inverter",
          "Inverter",
          "Inverter",
          "Inverter",
          "Inverter",
          "Inverter",
          "Inverter",
          "Inverter",
          "Inverter",
          "Inverter",
          "Inverter",
          "Inverter",
          "Inverter",
          "Inverter",
          "Inverter",
          "Inverter",
          "Inverter",
          "Inverter",
          "Inverter",
          "Inverter",
          "Inverter",
          "Inverter",
          "Inverter",
          "Inverter",
          "Inverter",
          "Inverter",
          "Inverter",
          "Inverter",
          "Inverter",
          "Inverter",
          "Inverter",
          "Inverter",
          "Inverter",
          "Inverter",
          "Inverter",
          "Inverter",
          "Inverter",
          "Inverter",
          "Inverter",
          "Inverter",
          "Inverter",
          "Inverter",
          "Inverter",
          "Inverter",
          "Inverter",
          "Inverter",
          "Inverter",
          "Inverter",
          "Inverter",
          "Inverter",
          "Inverter",
          "Inverter",
          "Inverter",
          "Inverter",
          "Inverter",
          "Inverter",
          "Inverter",
          "Inverter",
          "Inverter",
          "Inverter",
          "Inverter",
          "Inverter",
          "Inverter",
          "Inverter",
          "Inverter",
          "Inverter",
          "Inverter",
          "Inverter",
          "Inverter",
          "Inverter",
          "Inverter",
          "Inverter",
          "Inverter",
          "Inverter",
          "Inverter",
          "Inverter",
          "Inverter",
          "Inverter",
          "Inverter",
          "Inverter",
          "Inverter",
          "Inverter",
          "Inverter",
          "Inverter",
          "Inverter",
          "Inverter",
          "Inverter",
          "Inverter",
          "Inverter",
          "Inverter",
          "Inverter",
          "Inverter",
          "Inverter",
          "Inverter",
          "Inverter",
          "Inverter",
          "Inverter",
          "Inverter",
          "Inverter",
          "Inverter",
          "Inverter",
          "Inverter",
          "Inverter",
          "Inverter",
          "Inverter",
          "Inverter",
          "Inverter",
          "Inverter",
          "Inverter",
          "Inverter",
          "Inverter",
          "Inverter",
          "Inverter",
          "Inverter",
          "Inverter",
          "Inverter",
          "Inverter",
          "Inverter",
          "Inverter",
          "Inverter",
          "Inverter",
          "Inverter",
          "Inverter",
          "Inverter",
          "Inverter",
          "Inverter",
          "Inverter",
          "Inverter",
          "Inverter",
          "Inverter",
          "Inverter",
          "Inverter",
          "Inverter",
          "Inverter",
          "Inverter",
          "Inverter",
          "Inverter",
          "Inverter",
          "Inverter",
          "Inverter",
          "Inverter",
          "Inverter",
          "Inverter",
          "Inverter",
          "Inverter",
          "Inverter",
          "Inverter",
          "Inverter",
          "Inverter",
          "Inverter",
          "Inverter",
          "Inverter",
          "Inverter",
          "Inverter",
          "Inverter",
          "Inverter",
          "Inverter",
          "Inverter",
          "Inverter",
          "Inverter",
          "Inverter",
          "Inverter",
          "Inverter",
          "Inverter",
          "Inverter",
          "Inverter",
          "Inverter",
          "Inverter",
          "Inverter",
          "Inverter",
          "Inverter",
          "Inverter",
          "Inverter",
          "Inverter",
          "Inverter",
          "Inverter",
          "Inverter",
          "Inverter",
          "Inverter",
          "Inverter",
          "Inverter",
          "Inverter",
          "Inverter",
          "Inverter",
          "Inverter",
          "Inverter",
          "Inverter",
          "Inverter",
          "Inverter",
          "Inverter",
          "Inverter",
          "Inverter",
          "Inverter",
          "Inverter",
          "Inverter",
          "Inverter",
          "Inverter",
          "Inverter",
          "Inverter",
          "Inverter",
          "Inverter",
          "Inverter",
          "Inverter",
          "Inverter",
          "Inverter",
          "Inverter",
          "Inverter",
          "Inverter",
          "Inverter",
          "Inverter",
          "Inverter",
          "Inverter",
          "Inverter",
          "Inverter",
          "Inverter",
          "Inverter",
          "Inverter",
          "Inverter",
          "Inverter",
          "Inverter",
          "Inverter",
          "Inverter",
          "Inverter",
          "Inverter",
          "Inverter",
          "Inverter",
          "Inverter",
          "Inverter",
          "Inverter",
          "Inverter",
          "Inverter",
          "Inverter",
          "Inverter",
          "Inverter",
          "Inverter",
          "Inverter",
          "Inverter",
          "Inverter",
          "Inverter",
          "Inverter",
          "Inverter",
          "Inverter",
          "Inverter",
          "Inverter",
          "Inverter",
          "Inverter",
          "Inverter",
          "Inverter",
          "Inverter",
          "Inverter",
          "Inverter",
          "Inverter",
          "Inverter",
          "Inverter",
          "Inverter",
          "Inverter",
          "Inverter",
          "Inverter",
          "Inverter",
          "Inverter",
          "Inverter",
          "Inverter",
          "Inverter",
          "Inverter",
          "Inverter",
          "Inverter",
          "Inverter",
          "Inverter",
          "Inverter",
          "Inverter",
          "Inverter",
          "Inverter",
          "Inverter",
          "Inverter",
          "Inverter",
          "Inverter",
          "Inverter",
          "Inverter",
          "Inverter",
          "Inverter",
          "Inverter",
          "Inverter",
          "Inverter",
          "Inverter",
          "Inverter",
          "Inverter",
          "Inverter",
          "Inverter",
          "Inverter",
          "Inverter",
          "Inverter",
          "Inverter",
          "Inverter",
          "Inverter",
          "Inverter",
          "Inverter",
          "Inverter",
          "Inverter",
          "Inverter",
          "Inverter",
          "Inverter",
          "Inverter",
          "Inverter",
          "Inverter",
          "Inverter",
          "Inverter",
          "Inverter",
          "Inverter",
          "Inverter",
          "Inverter",
          "Inverter",
          "Inverter",
          "Inverter",
          "Inverter",
          "Inverter",
          "Inverter",
          "Inverter",
          "Inverter",
          "Inverter",
          "Inverter",
          "Inverter",
          "Inverter",
          "Inverter",
          "Inverter",
          "Inverter",
          "Inverter",
          "Inverter",
          "Inverter",
          "Inverter",
          "Inverter",
          "Inverter",
          "Inverter",
          "Inverter",
          "Inverter",
          "Inverter",
          "Inverter",
          "Inverter",
          "Inverter",
          "Inverter",
          "Inverter",
          "Inverter",
          "Inverter",
          "Inverter",
          "Inverter",
          "Inverter",
          "Inverter",
          "Inverter",
          "Inverter",
          "Inverter",
          "Inverter",
          "Inverter",
          "Inverter",
          "Inverter",
          "Inverter",
          "Inverter",
          "Inverter",
          "Inverter",
          "Inverter",
          "Inverter",
          "Inverter",
          "Inverter",
          "Inverter",
          "Inverter",
          "Inverter",
          "Inverter",
          "Inverter",
          "Inverter",
          "Inverter",
          "Inverter",
          "Inverter",
          "Inverter",
          "Inverter",
          "Inverter",
          "Inverter",
          "Inverter",
          "Inverter",
          "Inverter",
          "Inverter",
          "Inverter",
          "Inverter",
          "Inverter",
          "Inverter",
          "Inverter",
          "Inverter",
          "Inverter",
          "Inverter",
          "Inverter",
          "Inverter",
          "Inverter",
          "Inverter",
          "Inverter",
          "Inverter",
          "Inverter",
          "Inverter",
          "Inverter",
          "Inverter",
          "Inverter",
          "Inverter",
          "Inverter",
          "Inverter",
          "Inverter",
          "Inverter",
          "Inverter",
          "Inverter",
          "Inverter",
          "Inverter",
          "Inverter",
          "Inverter",
          "Inverter",
          "Inverter",
          "Inverter",
          "Inverter",
          "Inverter",
          "Inverter",
          "Inverter",
          "Inverter",
          "Inverter",
          "Inverter",
          "Inverter",
          "Inverter",
          "Inverter",
          "Inverter",
          "Inverter",
          "Inverter",
          "Inverter",
          "Inverter",
          "Inverter",
          "Inverter",
          "Inverter",
          "Inverter",
          "Inverter",
          "Inverter",
          "Inverter",
          "Inverter",
          "Inverter",
          "Inverter",
          "Inverter",
          "Inverter",
          "Inverter",
          "Inverter",
          "Inverter",
          "Inverter",
          "Inverter",
          "Inverter",
          "Inverter",
          "Inverter",
          "Inverter",
          "Inverter",
          "Inverter",
          "Inverter",
          "Inverter",
          "Inverter",
          "Inverter",
          "Inverter",
          "Inverter",
          "Inverter",
          "Inverter",
          "Inverter",
          "Inverter",
          "Inverter",
          "Inverter",
          "Inverter",
          "Inverter",
          "Inverter",
          "Inverter",
          "Inverter",
          "Inverter",
          "Inverter",
          "Inverter",
          "Inverter",
          "Inverter",
          "Inverter",
          "Inverter",
          "Inverter",
          "Inverter",
          "Inverter",
          "Inverter",
          "Inverter",
          "Inverter",
          "Inverter",
          "Inverter",
          "Inverter",
          "Inverter",
          "Inverter",
          "Inverter",
          "Inverter",
          "Inverter",
          "Inverter",
          "Inverter",
          "Inverter",
          "Inverter",
          "Inverter",
          "Inverter",
          "Inverter",
          "Inverter",
          "Inverter",
          "Inverter",
          "Inverter",
          "Inverter",
          "Inverter",
          "Inverter",
          "Inverter",
          "Inverter",
          "Inverter",
          "Inverter",
          "Inverter",
          "Inverter",
          "Inverter",
          "Inverter",
          "Inverter",
          "Inverter",
          "Inverter",
          "Inverter",
          "Inverter",
          "Inverter",
          "Inverter",
          "Inverter",
          "Inverter",
          "Inverter",
          "Inverter",
          "Inverter",
          "Inverter",
          "Inverter",
          "Inverter",
          "Storage",
          "Storage",
          "Storage",
          "Storage",
          "Storage",
          "Storage",
          "Storage",
          "Storage",
          "Storage",
          "Storage",
          "Storage",
          "Storage",
          "Storage",
          "Storage",
          "Storage",
          "Storage",
          "Storage",
          "Storage",
          "Storage",
          "Storage",
          "Storage",
          "Storage",
          "Storage",
          "Storage",
          "Storage",
          "Storage",
          "Storage",
          "Storage",
          "Storage",
          "Storage",
          "Storage",
          "Storage",
          "Storage",
          "Storage",
          "Storage",
          "Storage",
          "Storage",
          "Storage",
          "Storage",
          "Storage",
          "Storage",
          "Storage",
          "Storage",
          "Storage",
          "Storage",
          "Storage",
          "Storage",
          "Storage",
          "Storage",
          "Storage",
          "Storage",
          "Storage",
          "Storage",
          "Storage",
          "Storage",
          "Storage",
          "Storage",
          "Storage",
          "Storage",
          "Storage",
          "Storage",
          "Storage",
          "Storage",
          "Storage",
          "Storage",
          "Storage",
          "Storage",
          "Storage",
          "Storage",
          "Storage",
          "Storage",
          "Storage",
          "Storage",
          "Storage",
          "Storage",
          "Storage",
          "Storage",
          "Storage",
          "Storage",
          "Storage",
          "Storage",
          "Storage",
          "Storage",
          "Storage",
          "Storage",
          "Storage",
          "Storage",
          "Storage",
          "Storage",
          "Storage",
          "Storage",
          "Storage",
          "Storage",
          "Storage",
          "Storage",
          "Storage",
          "Storage",
          "Storage",
          "Storage",
          "Storage",
          "Storage",
          "Storage",
          "Storage",
          "Storage",
          "Storage",
          "Storage",
          "Storage",
          "Storage",
          "Storage",
          "Storage",
          "Storage",
          "Storage",
          "Storage",
          "Storage",
          "Storage",
          "Storage",
          "Storage",
          "Storage",
          "Storage",
          "Storage",
          "Storage",
          "Storage",
          "Storage",
          "Storage",
          "Storage",
          "Storage",
          "Storage",
          "Storage",
          "Storage",
          "Storage",
          "Storage",
          "Storage",
          "Storage",
          "Storage",
          "Storage",
          "Storage",
          "Storage",
          "Storage",
          "Storage",
          "Storage",
          "Storage",
          "Storage",
          "Storage",
          "Storage",
          "Storage",
          "Storage",
          "Storage",
          "Storage",
          "Storage",
          "Storage",
          "Storage",
          "Storage",
          "Storage",
          "Storage",
          "Storage",
          "Storage",
          "Storage",
          "Storage",
          "Storage",
          "Storage",
          "Storage",
          "Storage",
          "Storage",
          "Storage",
          "Storage",
          "Storage",
          "Storage",
          "Storage",
          "Storage",
          "Storage",
          "Storage",
          "Storage",
          "Storage",
          "Storage",
          "Storage",
          "Storage",
          "Storage",
          "Storage",
          "Storage",
          "Storage",
          "Storage",
          "Storage",
          "Storage",
          "Storage",
          "Storage",
          "Storage",
          "Storage",
          "Storage",
          "Storage",
          "Storage",
          "Storage",
          "Storage",
          "Storage",
          "Storage",
          "Storage",
          "Storage",
          "Storage",
          "Storage",
          "Storage",
          "Storage",
          "Storage",
          "Storage",
          "Storage",
          "Storage",
          "Storage",
          "Storage",
          "Storage",
          "Storage",
          "Storage",
          "Storage",
          "Storage",
          "Storage",
          "Storage",
          "Storage",
          "Storage",
          "Storage",
          "Storage",
          "Storage",
          "Storage",
          "Storage",
          "Storage",
          "Storage",
          "Storage",
          "Storage",
          "Storage",
          "Storage",
          "Storage",
          "Storage",
          "Storage",
          "Storage",
          "Storage",
          "Storage",
          "Storage",
          "Storage",
          "Storage",
          "Storage",
          "Storage",
          "Storage",
          "Storage",
          "Storage",
          "Storage",
          "Storage",
          "Storage",
          "Storage",
          "Storage",
          "Storage",
          "Storage",
          "Storage",
          "Storage",
          "Storage",
          "Storage",
          "Storage",
          "Storage",
          "Storage",
          "Storage",
          "Storage",
          "Storage",
          "Storage",
          "Storage",
          "Storage",
          "Storage",
          "Storage",
          "Storage",
          "Storage",
          "Storage",
          "Storage",
          "Storage",
          "Storage",
          "Storage",
          "Storage",
          "Storage",
          "Storage",
          "Storage",
          "Storage",
          "Storage",
          "Storage",
          "Storage",
          "Storage",
          "Storage",
          "Storage",
          "Storage",
          "Storage",
          "Storage",
          "Storage",
          "Storage",
          "Storage",
          "Storage",
          "Storage",
          "Storage",
          "Storage",
          "Storage",
          "Storage",
          "Storage",
          "Storage",
          "Storage",
          "Storage",
          "Storage",
          "Storage",
          "Storage",
          "Storage",
          "Storage",
          "Storage",
          "Storage",
          "Storage",
          "Storage",
          "Storage",
          "Storage",
          "Storage",
          "Storage",
          "Storage",
          "Storage",
          "Storage",
          "Storage",
          "Storage",
          "Storage",
          "Storage",
          "Storage",
          "Storage",
          "Storage",
          "Storage",
          "Storage",
          "Storage",
          "Storage",
          "Storage",
          "Storage",
          "Storage",
          "Storage",
          "Storage",
          "Storage",
          "Storage",
          "Storage",
          "Storage",
          "Storage",
          "Storage",
          "Storage",
          "Storage",
          "Storage",
          "Storage",
          "Storage",
          "Storage",
          "Storage",
          "Storage",
          "Storage",
          "Storage",
          "Storage",
          "Storage",
          "Storage",
          "Storage",
          "Storage",
          "Storage",
          "Storage",
          "Storage",
          "Storage",
          "Storage",
          "Storage",
          "Storage",
          "Storage",
          "Storage",
          "Storage",
          "Storage",
          "Storage",
          "Storage",
          "Storage",
          "Storage",
          "Storage",
          "Storage",
          "Storage",
          "Storage",
          "Storage",
          "Storage",
          "Storage",
          "Storage",
          "Storage",
          "Storage",
          "Storage",
          "Storage",
          "Storage",
          "Storage",
          "Storage",
          "Storage",
          "Storage",
          "Storage",
          "Storage",
          "Storage",
          "Storage",
          "Storage",
          "Storage",
          "Storage",
          "Storage",
          "Storage",
          "Storage",
          "Storage",
          "Storage",
          "Storage",
          "Storage",
          "Storage",
          "Storage",
          "Storage",
          "Storage",
          "Storage",
          "Storage",
          "Storage",
          "Storage",
          "Storage",
          "Storage",
          "Storage",
          "Storage",
          "Storage",
          "Storage",
          "Storage",
          "Storage",
          "Storage",
          "Storage",
          "Storage",
          "Storage",
          "Storage",
          "Storage",
          "Storage",
          "Storage",
          "Storage",
          "Storage",
          "Storage",
          "Storage",
          "Storage",
          "Storage",
          "Storage",
          "Storage",
          "Storage",
          "Storage",
          "Storage",
          "Storage",
          "Storage",
          "Storage",
          "Storage",
          "Storage",
          "Storage",
          "Storage",
          "Storage",
          "Storage",
          "Storage",
          "Storage",
          "Storage",
          "Storage",
          "Storage",
          "Storage",
          "Storage",
          "Storage",
          "Storage",
          "Storage",
          "Storage",
          "Storage",
          "Storage",
          "Storage",
          "Storage",
          "Storage",
          "Storage",
          "Storage",
          "Storage",
          "Storage",
          "Storage",
          "Storage",
          "Storage",
          "Storage",
          "Storage",
          "Storage",
          "Storage",
          "Storage",
          "Storage",
          "Storage",
          "Storage",
          "Storage",
          "Storage",
          "Storage",
          "Storage",
          "Storage",
          "Storage",
          "Storage",
          "Storage",
          "Storage",
          "Storage",
          "Storage",
          "Storage",
          "Storage",
          "Storage",
          "Storage",
          "Storage",
          "Storage",
          "Storage",
          "Storage",
          "Storage",
          "Storage",
          "Storage",
          "Storage",
          "Storage",
          "Storage",
          "Storage",
          "Storage",
          "Storage",
          "Storage",
          "Storage",
          "Storage",
          "Storage",
          "Storage",
          "Storage",
          "Storage",
          "Storage",
          "Storage",
          "Storage",
          "Storage",
          "Storage",
          "Storage",
          "Storage",
          "Storage",
          "Storage",
          "Storage",
          "Storage",
          "Storage",
          "Storage",
          "Storage",
          "Storage",
          "Storage",
          "Storage",
          "Storage",
          "Storage",
          "Storage",
          "Storage",
          "Storage",
          "Storage",
          "Storage",
          "Storage",
          "Storage",
          "Storage",
          "Storage",
          "Storage",
          "Storage",
          "Storage",
          "Storage",
          "Storage",
          "Storage",
          "Storage",
          "Storage",
          "Storage",
          "Storage",
          "Storage",
          "Storage",
          "Storage",
          "Storage",
          "Storage",
          "Storage",
          "Storage",
          "Storage",
          "Storage",
          "Storage",
          "Storage",
          "Storage",
          "Storage",
          "Storage",
          "Storage",
          "Storage",
          "Storage",
          "Storage",
          "Storage",
          "Storage",
          "Storage",
          "Storage",
          "Storage",
          "Storage",
          "Storage",
          "Storage",
          "Storage",
          "Storage",
          "Storage",
          "Storage",
          "Storage",
          "Storage",
          "Storage",
          "Storage",
          "Storage",
          "Storage",
          "Storage",
          "Storage",
          "Storage",
          "Storage",
          "Storage",
          "Storage",
          "Storage",
          "Storage",
          "Storage",
          "Storage",
          "Storage",
          "Storage",
          "Storage",
          "Storage",
          "Storage",
          "Storage",
          "Storage",
          "Storage",
          "Storage",
          "Storage",
          "Storage",
          "Storage",
          "Storage",
          "Storage",
          "Storage",
          "Storage",
          "Storage",
          "Storage",
          "Storage",
          "Storage",
          "Storage",
          "Storage",
          "Storage",
          "Storage",
          "Storage",
          "Storage",
          "Storage",
          "Storage",
          "Storage",
          "Storage",
          "Storage",
          "Storage",
          "Storage",
          "Storage",
          "Storage",
          "Storage",
          "Storage",
          "Storage",
          "Storage",
          "Storage",
          "Storage",
          "Storage",
          "Storage",
          "Storage",
          "Storage",
          "Storage",
          "Storage",
          "Storage",
          "Storage",
          "Storage",
          "Storage",
          "Storage",
          "Storage",
          "Storage",
          "Storage",
          "Storage",
          "Storage",
          "Storage",
          "Storage",
          "Storage",
          "Storage",
          "Storage",
          "Storage",
          "Storage",
          "Storage",
          "Storage",
          "Storage",
          "Storage",
          "Storage",
          "Storage",
          "Storage",
          "Storage",
          "Storage",
          "Storage",
          "Storage",
          "Storage",
          "Storage",
          "Storage",
          "Storage",
          "Storage",
          "Storage",
          "Storage",
          "Storage",
          "Storage",
          "Storage",
          "Storage",
          "Storage",
          "Storage",
          "Storage",
          "Storage",
          "Storage",
          "Storage",
          "Storage",
          "Storage",
          "Storage",
          "Storage",
          "Storage",
          "Storage",
          "Storage",
          "Storage",
          "Storage",
          "Storage",
          "Storage",
          "Storage",
          "Storage",
          "Storage",
          "Storage",
          "Storage",
          "Storage",
          "Storage",
          "Storage",
          "Storage",
          "Storage",
          "Storage",
          "Storage",
          "Storage",
          "Storage",
          "Storage",
          "Storage",
          "Storage",
          "Storage",
          "Storage",
          "Storage",
          "Storage",
          "Storage",
          "Storage",
          "Storage",
          "Storage",
          "Storage",
          "Storage",
          "Storage",
          "Storage",
          "Storage",
          "Storage",
          "Storage",
          "Storage",
          "Storage",
          "Storage",
          "Storage",
          "Storage",
          "Storage",
          "Storage",
          "Storage",
          "Storage",
          "Storage",
          "Storage",
          "Storage",
          "Storage",
          "Storage",
          "Storage",
          "Storage",
          "Storage",
          "Storage",
          "Storage",
          "Storage",
          "Storage",
          "Storage",
          "Storage",
          "Storage",
          "Storage",
          "Storage",
          "Storage",
          "Storage",
          "Storage",
          "Storage",
          "Storage",
          "Storage",
          "Storage",
          "Storage",
          "Storage",
          "Storage",
          "Storage",
          "Storage",
          "Storage",
          "Storage",
          "Storage",
          "Storage",
          "Storage",
          "Storage",
          "Storage",
          "Storage",
          "Storage",
          "Storage",
          "Storage",
          "Storage",
          "Storage",
          "Storage",
          "Storage",
          "Storage",
          "Storage",
          "Storage",
          "Storage",
          "Storage",
          "Storage",
          "Storage",
          "Storage",
          "Storage",
          "Storage",
          "Storage",
          "Storage",
          "Storage",
          "Storage",
          "Storage",
          "Storage",
          "Storage",
          "Storage",
          "Storage",
          "Storage",
          "Storage",
          "Storage",
          "Storage",
          "Storage",
          "Storage",
          "Storage",
          "Storage",
          "Storage",
          "Storage",
          "Storage",
          "Storage",
          "Storage",
          "Storage",
          "Storage",
          "Storage",
          "Storage",
          "Storage",
          "Storage",
          "Storage",
          "Storage",
          "Storage",
          "Storage",
          "Storage",
          "Storage",
          "Storage",
          "Storage",
          "Storage",
          "Storage",
          "Storage",
          "Storage",
          "Storage",
          "Storage",
          "Storage",
          "Storage",
          "Storage",
          "Storage",
          "Storage",
          "Storage",
          "Storage",
          "Storage",
          "Storage",
          "Storage",
          "Storage",
          "Storage",
          "Storage",
          "Storage",
          "Storage",
          "Storage",
          "Storage",
          "Storage",
          "Storage",
          "Storage",
          "Storage",
          "Storage",
          "Storage",
          "Storage",
          "Storage",
          "Storage",
          "Storage",
          "Storage",
          "Storage",
          "Storage",
          "Storage",
          "Storage",
          "Storage",
          "Storage",
          "Storage",
          "Storage",
          "Storage",
          "Storage",
          "Storage",
          "Storage",
          "Storage",
          "Storage",
          "Storage",
          "Storage",
          "Storage",
          "Storage",
          "Storage",
          "Storage",
          "Storage",
          "Storage",
          "Storage",
          "Storage",
          "Storage",
          "Storage",
          "Storage",
          "Storage",
          "Storage",
          "Storage",
          "Storage",
          "Storage",
          "Storage",
          "Storage",
          "Storage",
          "Storage",
          "Storage",
          "Storage",
          "Storage",
          "Storage",
          "Storage",
          "Storage",
          "Storage",
          "Storage",
          "Storage",
          "Storage",
          "Storage",
          "Storage",
          "Storage",
          "Storage",
          "Storage",
          "Storage",
          "Storage",
          "Storage",
          "Storage",
          "Storage",
          "Storage",
          "Storage",
          "Storage",
          "Storage",
          "Storage",
          "Storage",
          "Storage",
          "Storage",
          "Storage",
          "Storage",
          "Storage",
          "Storage",
          "Storage",
          "Storage",
          "Storage",
          "Storage",
          "Storage",
          "Storage",
          "Storage",
          "Storage",
          "Storage",
          "Storage",
          "Storage",
          "Storage",
          "Storage",
          "Storage",
          "Storage",
          "Storage",
          "Storage",
          "Storage",
          "Storage",
          "Storage",
          "Storage",
          "Storage",
          "Storage",
          "Storage",
          "Storage",
          "Storage",
          "Storage",
          "Storage",
          "Storage",
          "Storage",
          "Storage",
          "Storage",
          "Storage",
          "Storage",
          "Storage",
          "Storage",
          "Storage",
          "Storage",
          "Storage",
          "Storage",
          "Storage",
          "Storage",
          "Storage",
          "Storage",
          "Storage",
          "Storage",
          "Storage",
          "Storage",
          "Storage",
          "Storage",
          "Storage",
          "Storage",
          "Storage",
          "Storage",
          "Storage",
          "Storage",
          "Storage",
          "Storage",
          "Storage",
          "Storage",
          "Storage",
          "Storage",
          "Storage",
          "Storage",
          "Storage",
          "Storage",
          "Storage",
          "Storage",
          "Storage",
          "Storage",
          "Storage",
          "Storage",
          "Storage",
          "Storage",
          "Storage",
          "Storage",
          "Storage",
          "Storage",
          "Storage",
          "Storage",
          "Storage",
          "Storage",
          "Storage",
          "Storage",
          "Storage",
          "Storage",
          "Storage",
          "Storage",
          "Storage",
          "Storage",
          "Storage",
          "Storage",
          "Storage",
          "Storage",
          "Storage",
          "Storage",
          "Storage",
          "Storage",
          "Storage",
          "Storage",
          "Storage",
          "Storage",
          "Storage",
          "Storage",
          "Storage",
          "Storage",
          "Storage",
          "Storage",
          "Storage",
          "Storage",
          "Storage",
          "Storage",
          "Storage",
          "Storage",
          "Storage",
          "Storage",
          "Storage",
          "Storage",
          "Storage",
          "Storage",
          "Storage",
          "Storage",
          "Storage",
          "Storage",
          "Storage",
          "Storage",
          "Storage",
          "Storage",
          "Storage",
          "Storage",
          "Storage",
          "Storage",
          "Storage",
          "Storage",
          "Storage",
          "Storage",
          "Storage",
          "Storage",
          "Storage",
          "Storage",
          "Storage",
          "Storage",
          "Storage",
          "Storage",
          "Storage",
          "Storage",
          "Storage",
          "Storage",
          "Storage",
          "Storage",
          "Storage",
          "Storage",
          "Storage",
          "Storage",
          "Storage",
          "Storage",
          "Storage",
          "Storage",
          "Storage",
          "Storage",
          "Storage",
          "Storage",
          "Storage",
          "Storage",
          "Storage",
          "Storage",
          "Storage",
          "Storage",
          "Storage",
          "Storage",
          "Storage",
          "Storage",
          "Storage",
          "Storage",
          "Storage",
          "Storage",
          "Storage",
          "Storage",
          "Storage",
          "Storage",
          "Storage",
          "Storage",
          "Storage",
          "Storage",
          "Storage",
          "Storage",
          "Storage",
          "Storage",
          "Storage",
          "Storage",
          "Storage",
          "Storage",
          "Storage",
          "Storage",
          "Storage",
          "Storage",
          "Storage",
          "Storage",
          "Storage",
          "Storage",
          "Storage",
          "Storage",
          "Storage",
          "Storage",
          "Storage",
          "Storage",
          "Storage",
          "Storage",
          "Storage",
          "Storage",
          "Storage",
          "Storage",
          "Storage",
          "Storage",
          "Storage",
          "Storage",
          "Storage",
          "Storage",
          "Storage",
          "Storage"
         ],
         "y0": " ",
         "yaxis": "y"
        }
       ],
       "layout": {
        "boxmode": "group",
        "legend": {
         "tracegroupgap": 0
        },
        "template": {
         "data": {
          "bar": [
           {
            "error_x": {
             "color": "#2a3f5f"
            },
            "error_y": {
             "color": "#2a3f5f"
            },
            "marker": {
             "line": {
              "color": "#E5ECF6",
              "width": 0.5
             },
             "pattern": {
              "fillmode": "overlay",
              "size": 10,
              "solidity": 0.2
             }
            },
            "type": "bar"
           }
          ],
          "barpolar": [
           {
            "marker": {
             "line": {
              "color": "#E5ECF6",
              "width": 0.5
             },
             "pattern": {
              "fillmode": "overlay",
              "size": 10,
              "solidity": 0.2
             }
            },
            "type": "barpolar"
           }
          ],
          "carpet": [
           {
            "aaxis": {
             "endlinecolor": "#2a3f5f",
             "gridcolor": "white",
             "linecolor": "white",
             "minorgridcolor": "white",
             "startlinecolor": "#2a3f5f"
            },
            "baxis": {
             "endlinecolor": "#2a3f5f",
             "gridcolor": "white",
             "linecolor": "white",
             "minorgridcolor": "white",
             "startlinecolor": "#2a3f5f"
            },
            "type": "carpet"
           }
          ],
          "choropleth": [
           {
            "colorbar": {
             "outlinewidth": 0,
             "ticks": ""
            },
            "type": "choropleth"
           }
          ],
          "contour": [
           {
            "colorbar": {
             "outlinewidth": 0,
             "ticks": ""
            },
            "colorscale": [
             [
              0,
              "#0d0887"
             ],
             [
              0.1111111111111111,
              "#46039f"
             ],
             [
              0.2222222222222222,
              "#7201a8"
             ],
             [
              0.3333333333333333,
              "#9c179e"
             ],
             [
              0.4444444444444444,
              "#bd3786"
             ],
             [
              0.5555555555555556,
              "#d8576b"
             ],
             [
              0.6666666666666666,
              "#ed7953"
             ],
             [
              0.7777777777777778,
              "#fb9f3a"
             ],
             [
              0.8888888888888888,
              "#fdca26"
             ],
             [
              1,
              "#f0f921"
             ]
            ],
            "type": "contour"
           }
          ],
          "contourcarpet": [
           {
            "colorbar": {
             "outlinewidth": 0,
             "ticks": ""
            },
            "type": "contourcarpet"
           }
          ],
          "heatmap": [
           {
            "colorbar": {
             "outlinewidth": 0,
             "ticks": ""
            },
            "colorscale": [
             [
              0,
              "#0d0887"
             ],
             [
              0.1111111111111111,
              "#46039f"
             ],
             [
              0.2222222222222222,
              "#7201a8"
             ],
             [
              0.3333333333333333,
              "#9c179e"
             ],
             [
              0.4444444444444444,
              "#bd3786"
             ],
             [
              0.5555555555555556,
              "#d8576b"
             ],
             [
              0.6666666666666666,
              "#ed7953"
             ],
             [
              0.7777777777777778,
              "#fb9f3a"
             ],
             [
              0.8888888888888888,
              "#fdca26"
             ],
             [
              1,
              "#f0f921"
             ]
            ],
            "type": "heatmap"
           }
          ],
          "histogram": [
           {
            "marker": {
             "pattern": {
              "fillmode": "overlay",
              "size": 10,
              "solidity": 0.2
             }
            },
            "type": "histogram"
           }
          ],
          "histogram2d": [
           {
            "colorbar": {
             "outlinewidth": 0,
             "ticks": ""
            },
            "colorscale": [
             [
              0,
              "#0d0887"
             ],
             [
              0.1111111111111111,
              "#46039f"
             ],
             [
              0.2222222222222222,
              "#7201a8"
             ],
             [
              0.3333333333333333,
              "#9c179e"
             ],
             [
              0.4444444444444444,
              "#bd3786"
             ],
             [
              0.5555555555555556,
              "#d8576b"
             ],
             [
              0.6666666666666666,
              "#ed7953"
             ],
             [
              0.7777777777777778,
              "#fb9f3a"
             ],
             [
              0.8888888888888888,
              "#fdca26"
             ],
             [
              1,
              "#f0f921"
             ]
            ],
            "type": "histogram2d"
           }
          ],
          "histogram2dcontour": [
           {
            "colorbar": {
             "outlinewidth": 0,
             "ticks": ""
            },
            "colorscale": [
             [
              0,
              "#0d0887"
             ],
             [
              0.1111111111111111,
              "#46039f"
             ],
             [
              0.2222222222222222,
              "#7201a8"
             ],
             [
              0.3333333333333333,
              "#9c179e"
             ],
             [
              0.4444444444444444,
              "#bd3786"
             ],
             [
              0.5555555555555556,
              "#d8576b"
             ],
             [
              0.6666666666666666,
              "#ed7953"
             ],
             [
              0.7777777777777778,
              "#fb9f3a"
             ],
             [
              0.8888888888888888,
              "#fdca26"
             ],
             [
              1,
              "#f0f921"
             ]
            ],
            "type": "histogram2dcontour"
           }
          ],
          "mesh3d": [
           {
            "colorbar": {
             "outlinewidth": 0,
             "ticks": ""
            },
            "type": "mesh3d"
           }
          ],
          "parcoords": [
           {
            "line": {
             "colorbar": {
              "outlinewidth": 0,
              "ticks": ""
             }
            },
            "type": "parcoords"
           }
          ],
          "pie": [
           {
            "automargin": true,
            "type": "pie"
           }
          ],
          "scatter": [
           {
            "fillpattern": {
             "fillmode": "overlay",
             "size": 10,
             "solidity": 0.2
            },
            "type": "scatter"
           }
          ],
          "scatter3d": [
           {
            "line": {
             "colorbar": {
              "outlinewidth": 0,
              "ticks": ""
             }
            },
            "marker": {
             "colorbar": {
              "outlinewidth": 0,
              "ticks": ""
             }
            },
            "type": "scatter3d"
           }
          ],
          "scattercarpet": [
           {
            "marker": {
             "colorbar": {
              "outlinewidth": 0,
              "ticks": ""
             }
            },
            "type": "scattercarpet"
           }
          ],
          "scattergeo": [
           {
            "marker": {
             "colorbar": {
              "outlinewidth": 0,
              "ticks": ""
             }
            },
            "type": "scattergeo"
           }
          ],
          "scattergl": [
           {
            "marker": {
             "colorbar": {
              "outlinewidth": 0,
              "ticks": ""
             }
            },
            "type": "scattergl"
           }
          ],
          "scattermap": [
           {
            "marker": {
             "colorbar": {
              "outlinewidth": 0,
              "ticks": ""
             }
            },
            "type": "scattermap"
           }
          ],
          "scattermapbox": [
           {
            "marker": {
             "colorbar": {
              "outlinewidth": 0,
              "ticks": ""
             }
            },
            "type": "scattermapbox"
           }
          ],
          "scatterpolar": [
           {
            "marker": {
             "colorbar": {
              "outlinewidth": 0,
              "ticks": ""
             }
            },
            "type": "scatterpolar"
           }
          ],
          "scatterpolargl": [
           {
            "marker": {
             "colorbar": {
              "outlinewidth": 0,
              "ticks": ""
             }
            },
            "type": "scatterpolargl"
           }
          ],
          "scatterternary": [
           {
            "marker": {
             "colorbar": {
              "outlinewidth": 0,
              "ticks": ""
             }
            },
            "type": "scatterternary"
           }
          ],
          "surface": [
           {
            "colorbar": {
             "outlinewidth": 0,
             "ticks": ""
            },
            "colorscale": [
             [
              0,
              "#0d0887"
             ],
             [
              0.1111111111111111,
              "#46039f"
             ],
             [
              0.2222222222222222,
              "#7201a8"
             ],
             [
              0.3333333333333333,
              "#9c179e"
             ],
             [
              0.4444444444444444,
              "#bd3786"
             ],
             [
              0.5555555555555556,
              "#d8576b"
             ],
             [
              0.6666666666666666,
              "#ed7953"
             ],
             [
              0.7777777777777778,
              "#fb9f3a"
             ],
             [
              0.8888888888888888,
              "#fdca26"
             ],
             [
              1,
              "#f0f921"
             ]
            ],
            "type": "surface"
           }
          ],
          "table": [
           {
            "cells": {
             "fill": {
              "color": "#EBF0F8"
             },
             "line": {
              "color": "white"
             }
            },
            "header": {
             "fill": {
              "color": "#C8D4E3"
             },
             "line": {
              "color": "white"
             }
            },
            "type": "table"
           }
          ]
         },
         "layout": {
          "annotationdefaults": {
           "arrowcolor": "#2a3f5f",
           "arrowhead": 0,
           "arrowwidth": 1
          },
          "autotypenumbers": "strict",
          "coloraxis": {
           "colorbar": {
            "outlinewidth": 0,
            "ticks": ""
           }
          },
          "colorscale": {
           "diverging": [
            [
             0,
             "#8e0152"
            ],
            [
             0.1,
             "#c51b7d"
            ],
            [
             0.2,
             "#de77ae"
            ],
            [
             0.3,
             "#f1b6da"
            ],
            [
             0.4,
             "#fde0ef"
            ],
            [
             0.5,
             "#f7f7f7"
            ],
            [
             0.6,
             "#e6f5d0"
            ],
            [
             0.7,
             "#b8e186"
            ],
            [
             0.8,
             "#7fbc41"
            ],
            [
             0.9,
             "#4d9221"
            ],
            [
             1,
             "#276419"
            ]
           ],
           "sequential": [
            [
             0,
             "#0d0887"
            ],
            [
             0.1111111111111111,
             "#46039f"
            ],
            [
             0.2222222222222222,
             "#7201a8"
            ],
            [
             0.3333333333333333,
             "#9c179e"
            ],
            [
             0.4444444444444444,
             "#bd3786"
            ],
            [
             0.5555555555555556,
             "#d8576b"
            ],
            [
             0.6666666666666666,
             "#ed7953"
            ],
            [
             0.7777777777777778,
             "#fb9f3a"
            ],
            [
             0.8888888888888888,
             "#fdca26"
            ],
            [
             1,
             "#f0f921"
            ]
           ],
           "sequentialminus": [
            [
             0,
             "#0d0887"
            ],
            [
             0.1111111111111111,
             "#46039f"
            ],
            [
             0.2222222222222222,
             "#7201a8"
            ],
            [
             0.3333333333333333,
             "#9c179e"
            ],
            [
             0.4444444444444444,
             "#bd3786"
            ],
            [
             0.5555555555555556,
             "#d8576b"
            ],
            [
             0.6666666666666666,
             "#ed7953"
            ],
            [
             0.7777777777777778,
             "#fb9f3a"
            ],
            [
             0.8888888888888888,
             "#fdca26"
            ],
            [
             1,
             "#f0f921"
            ]
           ]
          },
          "colorway": [
           "#636efa",
           "#EF553B",
           "#00cc96",
           "#ab63fa",
           "#FFA15A",
           "#19d3f3",
           "#FF6692",
           "#B6E880",
           "#FF97FF",
           "#FECB52"
          ],
          "font": {
           "color": "#2a3f5f"
          },
          "geo": {
           "bgcolor": "white",
           "lakecolor": "white",
           "landcolor": "#E5ECF6",
           "showlakes": true,
           "showland": true,
           "subunitcolor": "white"
          },
          "hoverlabel": {
           "align": "left"
          },
          "hovermode": "closest",
          "mapbox": {
           "style": "light"
          },
          "paper_bgcolor": "white",
          "plot_bgcolor": "#E5ECF6",
          "polar": {
           "angularaxis": {
            "gridcolor": "white",
            "linecolor": "white",
            "ticks": ""
           },
           "bgcolor": "#E5ECF6",
           "radialaxis": {
            "gridcolor": "white",
            "linecolor": "white",
            "ticks": ""
           }
          },
          "scene": {
           "xaxis": {
            "backgroundcolor": "#E5ECF6",
            "gridcolor": "white",
            "gridwidth": 2,
            "linecolor": "white",
            "showbackground": true,
            "ticks": "",
            "zerolinecolor": "white"
           },
           "yaxis": {
            "backgroundcolor": "#E5ECF6",
            "gridcolor": "white",
            "gridwidth": 2,
            "linecolor": "white",
            "showbackground": true,
            "ticks": "",
            "zerolinecolor": "white"
           },
           "zaxis": {
            "backgroundcolor": "#E5ECF6",
            "gridcolor": "white",
            "gridwidth": 2,
            "linecolor": "white",
            "showbackground": true,
            "ticks": "",
            "zerolinecolor": "white"
           }
          },
          "shapedefaults": {
           "line": {
            "color": "#2a3f5f"
           }
          },
          "ternary": {
           "aaxis": {
            "gridcolor": "white",
            "linecolor": "white",
            "ticks": ""
           },
           "baxis": {
            "gridcolor": "white",
            "linecolor": "white",
            "ticks": ""
           },
           "bgcolor": "#E5ECF6",
           "caxis": {
            "gridcolor": "white",
            "linecolor": "white",
            "ticks": ""
           }
          },
          "title": {
           "x": 0.05
          },
          "xaxis": {
           "automargin": true,
           "gridcolor": "white",
           "linecolor": "white",
           "ticks": "",
           "title": {
            "standoff": 15
           },
           "zerolinecolor": "white",
           "zerolinewidth": 2
          },
          "yaxis": {
           "automargin": true,
           "gridcolor": "white",
           "linecolor": "white",
           "ticks": "",
           "title": {
            "standoff": 15
           },
           "zerolinecolor": "white",
           "zerolinewidth": 2
          }
         }
        },
        "title": {
         "text": "Battery system sizes"
        },
        "xaxis": {
         "anchor": "y",
         "domain": [
          0,
          1
         ],
         "range": [
          0,
          300
         ],
         "title": {
          "text": "Capacity in kWh (storage) / kW (inverter)"
         }
        },
        "yaxis": {
         "anchor": "x",
         "domain": [
          0,
          1
         ],
         "title": {
          "text": ""
         }
        }
       }
      }
     },
     "metadata": {},
     "output_type": "display_data"
    }
   ],
   "source": [
    "storage_size = profiles_using_storage[\"storage_capacity_kwh\"].copy()\n",
    "storage_size.name = \"Storage capacity\"\n",
    "print(storage_size.describe().drop(\"count\").to_markdown())\n",
    "\n",
    "print(\"\")\n",
    "inverter_size = profiles_using_storage[\"inverter_capacity_kw\"].copy()\n",
    "inverter_size.name = \"Inverter capacity\"\n",
    "print(inverter_size.describe().drop(\"count\").to_markdown())\n",
    "\n",
    "\n",
    "fig_df = profiles_using_storage.copy()\n",
    "fig_df = fig_df.rename(columns={\n",
    "    \"storage_capacity_kwh\": \"Storage\",\n",
    "    \"inverter_capacity_kw\": \"Inverter\"})\n",
    "fig = px.box(\n",
    "    data_frame=fig_df,\n",
    "    x=[\"Inverter\", \"Storage\"],\n",
    "    title=\"Battery system sizes\")\n",
    "fig.update_layout(xaxis_title=\"Capacity in kWh (storage) / kW (inverter)\", yaxis_title=\"\")\n",
    "fig.update_xaxes(range=[0, 300])\n",
    "fig.show()"
   ]
  },
  {
   "cell_type": "markdown",
   "id": "3c0c0883",
   "metadata": {},
   "source": [
    "## System investments"
   ]
  },
  {
   "cell_type": "code",
   "execution_count": 9,
   "id": "00b3603a",
   "metadata": {},
   "outputs": [
    {
     "name": "stdout",
     "output_type": "stream",
     "text": [
      "|      |   Absolute storage investment |\n",
      "|:-----|------------------------------:|\n",
      "| mean |                      3548.71  |\n",
      "| std  |                      9836.32  |\n",
      "| min  |                         0.45  |\n",
      "| 25%  |                       428.967 |\n",
      "| 50%  |                      1214.1   |\n",
      "| 75%  |                      3365.91  |\n",
      "| max  |                    246150     |\n",
      "\n",
      "|      |   Absolute inverter investment |\n",
      "|:-----|-------------------------------:|\n",
      "| mean |                       5459.58  |\n",
      "| std  |                      10631     |\n",
      "| min  |                          1.08  |\n",
      "| 25%  |                        890.421 |\n",
      "| 50%  |                       2412     |\n",
      "| 75%  |                       6192     |\n",
      "| max  |                     199080     |\n"
     ]
    },
    {
     "data": {
      "application/vnd.plotly.v1+json": {
       "config": {
        "plotlyServerURL": "https://plot.ly"
       },
       "data": [
        {
         "alignmentgroup": "True",
         "hovertemplate": "value=%{x}<br>variable=%{y}<extra></extra>",
         "legendgroup": "",
         "marker": {
          "color": "#636efa"
         },
         "name": "",
         "notched": false,
         "offsetgroup": "",
         "orientation": "h",
         "showlegend": false,
         "type": "box",
         "x": {
          "bdata": "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",
          "dtype": "f8"
         },
         "x0": " ",
         "xaxis": "x",
         "y": [
          "Inverter",
          "Inverter",
          "Inverter",
          "Inverter",
          "Inverter",
          "Inverter",
          "Inverter",
          "Inverter",
          "Inverter",
          "Inverter",
          "Inverter",
          "Inverter",
          "Inverter",
          "Inverter",
          "Inverter",
          "Inverter",
          "Inverter",
          "Inverter",
          "Inverter",
          "Inverter",
          "Inverter",
          "Inverter",
          "Inverter",
          "Inverter",
          "Inverter",
          "Inverter",
          "Inverter",
          "Inverter",
          "Inverter",
          "Inverter",
          "Inverter",
          "Inverter",
          "Inverter",
          "Inverter",
          "Inverter",
          "Inverter",
          "Inverter",
          "Inverter",
          "Inverter",
          "Inverter",
          "Inverter",
          "Inverter",
          "Inverter",
          "Inverter",
          "Inverter",
          "Inverter",
          "Inverter",
          "Inverter",
          "Inverter",
          "Inverter",
          "Inverter",
          "Inverter",
          "Inverter",
          "Inverter",
          "Inverter",
          "Inverter",
          "Inverter",
          "Inverter",
          "Inverter",
          "Inverter",
          "Inverter",
          "Inverter",
          "Inverter",
          "Inverter",
          "Inverter",
          "Inverter",
          "Inverter",
          "Inverter",
          "Inverter",
          "Inverter",
          "Inverter",
          "Inverter",
          "Inverter",
          "Inverter",
          "Inverter",
          "Inverter",
          "Inverter",
          "Inverter",
          "Inverter",
          "Inverter",
          "Inverter",
          "Inverter",
          "Inverter",
          "Inverter",
          "Inverter",
          "Inverter",
          "Inverter",
          "Inverter",
          "Inverter",
          "Inverter",
          "Inverter",
          "Inverter",
          "Inverter",
          "Inverter",
          "Inverter",
          "Inverter",
          "Inverter",
          "Inverter",
          "Inverter",
          "Inverter",
          "Inverter",
          "Inverter",
          "Inverter",
          "Inverter",
          "Inverter",
          "Inverter",
          "Inverter",
          "Inverter",
          "Inverter",
          "Inverter",
          "Inverter",
          "Inverter",
          "Inverter",
          "Inverter",
          "Inverter",
          "Inverter",
          "Inverter",
          "Inverter",
          "Inverter",
          "Inverter",
          "Inverter",
          "Inverter",
          "Inverter",
          "Inverter",
          "Inverter",
          "Inverter",
          "Inverter",
          "Inverter",
          "Inverter",
          "Inverter",
          "Inverter",
          "Inverter",
          "Inverter",
          "Inverter",
          "Inverter",
          "Inverter",
          "Inverter",
          "Inverter",
          "Inverter",
          "Inverter",
          "Inverter",
          "Inverter",
          "Inverter",
          "Inverter",
          "Inverter",
          "Inverter",
          "Inverter",
          "Inverter",
          "Inverter",
          "Inverter",
          "Inverter",
          "Inverter",
          "Inverter",
          "Inverter",
          "Inverter",
          "Inverter",
          "Inverter",
          "Inverter",
          "Inverter",
          "Inverter",
          "Inverter",
          "Inverter",
          "Inverter",
          "Inverter",
          "Inverter",
          "Inverter",
          "Inverter",
          "Inverter",
          "Inverter",
          "Inverter",
          "Inverter",
          "Inverter",
          "Inverter",
          "Inverter",
          "Inverter",
          "Inverter",
          "Inverter",
          "Inverter",
          "Inverter",
          "Inverter",
          "Inverter",
          "Inverter",
          "Inverter",
          "Inverter",
          "Inverter",
          "Inverter",
          "Inverter",
          "Inverter",
          "Inverter",
          "Inverter",
          "Inverter",
          "Inverter",
          "Inverter",
          "Inverter",
          "Inverter",
          "Inverter",
          "Inverter",
          "Inverter",
          "Inverter",
          "Inverter",
          "Inverter",
          "Inverter",
          "Inverter",
          "Inverter",
          "Inverter",
          "Inverter",
          "Inverter",
          "Inverter",
          "Inverter",
          "Inverter",
          "Inverter",
          "Inverter",
          "Inverter",
          "Inverter",
          "Inverter",
          "Inverter",
          "Inverter",
          "Inverter",
          "Inverter",
          "Inverter",
          "Inverter",
          "Inverter",
          "Inverter",
          "Inverter",
          "Inverter",
          "Inverter",
          "Inverter",
          "Inverter",
          "Inverter",
          "Inverter",
          "Inverter",
          "Inverter",
          "Inverter",
          "Inverter",
          "Inverter",
          "Inverter",
          "Inverter",
          "Inverter",
          "Inverter",
          "Inverter",
          "Inverter",
          "Inverter",
          "Inverter",
          "Inverter",
          "Inverter",
          "Inverter",
          "Inverter",
          "Inverter",
          "Inverter",
          "Inverter",
          "Inverter",
          "Inverter",
          "Inverter",
          "Inverter",
          "Inverter",
          "Inverter",
          "Inverter",
          "Inverter",
          "Inverter",
          "Inverter",
          "Inverter",
          "Inverter",
          "Inverter",
          "Inverter",
          "Inverter",
          "Inverter",
          "Inverter",
          "Inverter",
          "Inverter",
          "Inverter",
          "Inverter",
          "Inverter",
          "Inverter",
          "Inverter",
          "Inverter",
          "Inverter",
          "Inverter",
          "Inverter",
          "Inverter",
          "Inverter",
          "Inverter",
          "Inverter",
          "Inverter",
          "Inverter",
          "Inverter",
          "Inverter",
          "Inverter",
          "Inverter",
          "Inverter",
          "Inverter",
          "Inverter",
          "Inverter",
          "Inverter",
          "Inverter",
          "Inverter",
          "Inverter",
          "Inverter",
          "Inverter",
          "Inverter",
          "Inverter",
          "Inverter",
          "Inverter",
          "Inverter",
          "Inverter",
          "Inverter",
          "Inverter",
          "Inverter",
          "Inverter",
          "Inverter",
          "Inverter",
          "Inverter",
          "Inverter",
          "Inverter",
          "Inverter",
          "Inverter",
          "Inverter",
          "Inverter",
          "Inverter",
          "Inverter",
          "Inverter",
          "Inverter",
          "Inverter",
          "Inverter",
          "Inverter",
          "Inverter",
          "Inverter",
          "Inverter",
          "Inverter",
          "Inverter",
          "Inverter",
          "Inverter",
          "Inverter",
          "Inverter",
          "Inverter",
          "Inverter",
          "Inverter",
          "Inverter",
          "Inverter",
          "Inverter",
          "Inverter",
          "Inverter",
          "Inverter",
          "Inverter",
          "Inverter",
          "Inverter",
          "Inverter",
          "Inverter",
          "Inverter",
          "Inverter",
          "Inverter",
          "Inverter",
          "Inverter",
          "Inverter",
          "Inverter",
          "Inverter",
          "Inverter",
          "Inverter",
          "Inverter",
          "Inverter",
          "Inverter",
          "Inverter",
          "Inverter",
          "Inverter",
          "Inverter",
          "Inverter",
          "Inverter",
          "Inverter",
          "Inverter",
          "Inverter",
          "Inverter",
          "Inverter",
          "Inverter",
          "Inverter",
          "Inverter",
          "Inverter",
          "Inverter",
          "Inverter",
          "Inverter",
          "Inverter",
          "Inverter",
          "Inverter",
          "Inverter",
          "Inverter",
          "Inverter",
          "Inverter",
          "Inverter",
          "Inverter",
          "Inverter",
          "Inverter",
          "Inverter",
          "Inverter",
          "Inverter",
          "Inverter",
          "Inverter",
          "Inverter",
          "Inverter",
          "Inverter",
          "Inverter",
          "Inverter",
          "Inverter",
          "Inverter",
          "Inverter",
          "Inverter",
          "Inverter",
          "Inverter",
          "Inverter",
          "Inverter",
          "Inverter",
          "Inverter",
          "Inverter",
          "Inverter",
          "Inverter",
          "Inverter",
          "Inverter",
          "Inverter",
          "Inverter",
          "Inverter",
          "Inverter",
          "Inverter",
          "Inverter",
          "Inverter",
          "Inverter",
          "Inverter",
          "Inverter",
          "Inverter",
          "Inverter",
          "Inverter",
          "Inverter",
          "Inverter",
          "Inverter",
          "Inverter",
          "Inverter",
          "Inverter",
          "Inverter",
          "Inverter",
          "Inverter",
          "Inverter",
          "Inverter",
          "Inverter",
          "Inverter",
          "Inverter",
          "Inverter",
          "Inverter",
          "Inverter",
          "Inverter",
          "Inverter",
          "Inverter",
          "Inverter",
          "Inverter",
          "Inverter",
          "Inverter",
          "Inverter",
          "Inverter",
          "Inverter",
          "Inverter",
          "Inverter",
          "Inverter",
          "Inverter",
          "Inverter",
          "Inverter",
          "Inverter",
          "Inverter",
          "Inverter",
          "Inverter",
          "Inverter",
          "Inverter",
          "Inverter",
          "Inverter",
          "Inverter",
          "Inverter",
          "Inverter",
          "Inverter",
          "Inverter",
          "Inverter",
          "Inverter",
          "Inverter",
          "Inverter",
          "Inverter",
          "Inverter",
          "Inverter",
          "Inverter",
          "Inverter",
          "Inverter",
          "Inverter",
          "Inverter",
          "Inverter",
          "Inverter",
          "Inverter",
          "Inverter",
          "Inverter",
          "Inverter",
          "Inverter",
          "Inverter",
          "Inverter",
          "Inverter",
          "Inverter",
          "Inverter",
          "Inverter",
          "Inverter",
          "Inverter",
          "Inverter",
          "Inverter",
          "Inverter",
          "Inverter",
          "Inverter",
          "Inverter",
          "Inverter",
          "Inverter",
          "Inverter",
          "Inverter",
          "Inverter",
          "Inverter",
          "Inverter",
          "Inverter",
          "Inverter",
          "Inverter",
          "Inverter",
          "Inverter",
          "Inverter",
          "Inverter",
          "Inverter",
          "Inverter",
          "Inverter",
          "Inverter",
          "Inverter",
          "Inverter",
          "Inverter",
          "Inverter",
          "Inverter",
          "Inverter",
          "Inverter",
          "Inverter",
          "Inverter",
          "Inverter",
          "Inverter",
          "Inverter",
          "Inverter",
          "Inverter",
          "Inverter",
          "Inverter",
          "Inverter",
          "Inverter",
          "Inverter",
          "Inverter",
          "Inverter",
          "Inverter",
          "Inverter",
          "Inverter",
          "Inverter",
          "Inverter",
          "Inverter",
          "Inverter",
          "Inverter",
          "Inverter",
          "Inverter",
          "Inverter",
          "Inverter",
          "Inverter",
          "Inverter",
          "Inverter",
          "Inverter",
          "Inverter",
          "Inverter",
          "Inverter",
          "Inverter",
          "Inverter",
          "Inverter",
          "Inverter",
          "Inverter",
          "Inverter",
          "Inverter",
          "Inverter",
          "Inverter",
          "Inverter",
          "Inverter",
          "Inverter",
          "Inverter",
          "Inverter",
          "Inverter",
          "Inverter",
          "Inverter",
          "Inverter",
          "Inverter",
          "Inverter",
          "Inverter",
          "Inverter",
          "Inverter",
          "Inverter",
          "Inverter",
          "Inverter",
          "Inverter",
          "Inverter",
          "Inverter",
          "Inverter",
          "Inverter",
          "Inverter",
          "Inverter",
          "Inverter",
          "Inverter",
          "Inverter",
          "Inverter",
          "Inverter",
          "Inverter",
          "Inverter",
          "Inverter",
          "Inverter",
          "Inverter",
          "Inverter",
          "Inverter",
          "Inverter",
          "Inverter",
          "Inverter",
          "Inverter",
          "Inverter",
          "Inverter",
          "Inverter",
          "Inverter",
          "Inverter",
          "Inverter",
          "Inverter",
          "Inverter",
          "Inverter",
          "Inverter",
          "Inverter",
          "Inverter",
          "Inverter",
          "Inverter",
          "Inverter",
          "Inverter",
          "Inverter",
          "Inverter",
          "Inverter",
          "Inverter",
          "Inverter",
          "Inverter",
          "Inverter",
          "Inverter",
          "Inverter",
          "Inverter",
          "Inverter",
          "Inverter",
          "Inverter",
          "Inverter",
          "Inverter",
          "Inverter",
          "Inverter",
          "Inverter",
          "Inverter",
          "Inverter",
          "Inverter",
          "Inverter",
          "Inverter",
          "Inverter",
          "Inverter",
          "Inverter",
          "Inverter",
          "Inverter",
          "Inverter",
          "Inverter",
          "Inverter",
          "Inverter",
          "Inverter",
          "Inverter",
          "Inverter",
          "Inverter",
          "Inverter",
          "Inverter",
          "Inverter",
          "Inverter",
          "Inverter",
          "Inverter",
          "Inverter",
          "Inverter",
          "Inverter",
          "Inverter",
          "Inverter",
          "Inverter",
          "Inverter",
          "Inverter",
          "Inverter",
          "Inverter",
          "Inverter",
          "Inverter",
          "Inverter",
          "Inverter",
          "Inverter",
          "Inverter",
          "Inverter",
          "Inverter",
          "Inverter",
          "Inverter",
          "Inverter",
          "Inverter",
          "Inverter",
          "Inverter",
          "Inverter",
          "Inverter",
          "Inverter",
          "Inverter",
          "Inverter",
          "Inverter",
          "Inverter",
          "Inverter",
          "Inverter",
          "Inverter",
          "Inverter",
          "Inverter",
          "Inverter",
          "Inverter",
          "Inverter",
          "Inverter",
          "Inverter",
          "Inverter",
          "Inverter",
          "Inverter",
          "Inverter",
          "Inverter",
          "Inverter",
          "Inverter",
          "Inverter",
          "Inverter",
          "Inverter",
          "Inverter",
          "Inverter",
          "Inverter",
          "Inverter",
          "Inverter",
          "Inverter",
          "Inverter",
          "Inverter",
          "Inverter",
          "Inverter",
          "Inverter",
          "Inverter",
          "Inverter",
          "Inverter",
          "Inverter",
          "Inverter",
          "Inverter",
          "Inverter",
          "Inverter",
          "Inverter",
          "Inverter",
          "Inverter",
          "Inverter",
          "Inverter",
          "Inverter",
          "Inverter",
          "Inverter",
          "Inverter",
          "Inverter",
          "Inverter",
          "Inverter",
          "Inverter",
          "Inverter",
          "Inverter",
          "Inverter",
          "Inverter",
          "Inverter",
          "Inverter",
          "Inverter",
          "Inverter",
          "Inverter",
          "Inverter",
          "Inverter",
          "Inverter",
          "Inverter",
          "Inverter",
          "Inverter",
          "Inverter",
          "Inverter",
          "Inverter",
          "Inverter",
          "Inverter",
          "Inverter",
          "Inverter",
          "Inverter",
          "Inverter",
          "Inverter",
          "Inverter",
          "Inverter",
          "Inverter",
          "Inverter",
          "Inverter",
          "Inverter",
          "Inverter",
          "Inverter",
          "Inverter",
          "Inverter",
          "Inverter",
          "Inverter",
          "Inverter",
          "Inverter",
          "Inverter",
          "Inverter",
          "Inverter",
          "Inverter",
          "Inverter",
          "Inverter",
          "Inverter",
          "Inverter",
          "Inverter",
          "Inverter",
          "Inverter",
          "Inverter",
          "Inverter",
          "Inverter",
          "Inverter",
          "Inverter",
          "Inverter",
          "Inverter",
          "Inverter",
          "Inverter",
          "Inverter",
          "Inverter",
          "Inverter",
          "Inverter",
          "Inverter",
          "Inverter",
          "Inverter",
          "Inverter",
          "Inverter",
          "Inverter",
          "Inverter",
          "Inverter",
          "Inverter",
          "Inverter",
          "Inverter",
          "Inverter",
          "Inverter",
          "Inverter",
          "Inverter",
          "Inverter",
          "Inverter",
          "Inverter",
          "Inverter",
          "Inverter",
          "Inverter",
          "Inverter",
          "Inverter",
          "Inverter",
          "Inverter",
          "Inverter",
          "Inverter",
          "Inverter",
          "Inverter",
          "Inverter",
          "Inverter",
          "Inverter",
          "Inverter",
          "Inverter",
          "Inverter",
          "Inverter",
          "Inverter",
          "Inverter",
          "Inverter",
          "Inverter",
          "Inverter",
          "Inverter",
          "Inverter",
          "Inverter",
          "Inverter",
          "Inverter",
          "Inverter",
          "Inverter",
          "Inverter",
          "Inverter",
          "Inverter",
          "Inverter",
          "Inverter",
          "Inverter",
          "Inverter",
          "Inverter",
          "Inverter",
          "Inverter",
          "Inverter",
          "Inverter",
          "Inverter",
          "Inverter",
          "Inverter",
          "Inverter",
          "Inverter",
          "Inverter",
          "Inverter",
          "Inverter",
          "Inverter",
          "Inverter",
          "Inverter",
          "Inverter",
          "Inverter",
          "Inverter",
          "Inverter",
          "Inverter",
          "Inverter",
          "Inverter",
          "Inverter",
          "Inverter",
          "Inverter",
          "Inverter",
          "Inverter",
          "Inverter",
          "Inverter",
          "Inverter",
          "Inverter",
          "Inverter",
          "Inverter",
          "Inverter",
          "Inverter",
          "Inverter",
          "Inverter",
          "Inverter",
          "Inverter",
          "Inverter",
          "Inverter",
          "Inverter",
          "Inverter",
          "Inverter",
          "Inverter",
          "Inverter",
          "Inverter",
          "Inverter",
          "Inverter",
          "Inverter",
          "Inverter",
          "Inverter",
          "Inverter",
          "Inverter",
          "Inverter",
          "Inverter",
          "Inverter",
          "Inverter",
          "Inverter",
          "Inverter",
          "Inverter",
          "Inverter",
          "Inverter",
          "Inverter",
          "Inverter",
          "Inverter",
          "Inverter",
          "Inverter",
          "Inverter",
          "Inverter",
          "Inverter",
          "Inverter",
          "Inverter",
          "Inverter",
          "Inverter",
          "Inverter",
          "Inverter",
          "Inverter",
          "Inverter",
          "Inverter",
          "Inverter",
          "Inverter",
          "Inverter",
          "Inverter",
          "Inverter",
          "Inverter",
          "Inverter",
          "Inverter",
          "Inverter",
          "Inverter",
          "Inverter",
          "Inverter",
          "Inverter",
          "Inverter",
          "Inverter",
          "Inverter",
          "Inverter",
          "Inverter",
          "Inverter",
          "Inverter",
          "Inverter",
          "Inverter",
          "Inverter",
          "Inverter",
          "Inverter",
          "Inverter",
          "Inverter",
          "Inverter",
          "Inverter",
          "Inverter",
          "Inverter",
          "Inverter",
          "Inverter",
          "Inverter",
          "Inverter",
          "Inverter",
          "Inverter",
          "Inverter",
          "Inverter",
          "Inverter",
          "Inverter",
          "Inverter",
          "Inverter",
          "Inverter",
          "Inverter",
          "Inverter",
          "Inverter",
          "Inverter",
          "Inverter",
          "Inverter",
          "Inverter",
          "Inverter",
          "Inverter",
          "Inverter",
          "Inverter",
          "Inverter",
          "Inverter",
          "Inverter",
          "Inverter",
          "Inverter",
          "Inverter",
          "Inverter",
          "Inverter",
          "Inverter",
          "Inverter",
          "Inverter",
          "Inverter",
          "Inverter",
          "Inverter",
          "Inverter",
          "Inverter",
          "Inverter",
          "Inverter",
          "Inverter",
          "Inverter",
          "Inverter",
          "Inverter",
          "Inverter",
          "Inverter",
          "Inverter",
          "Inverter",
          "Inverter",
          "Inverter",
          "Inverter",
          "Inverter",
          "Inverter",
          "Inverter",
          "Inverter",
          "Inverter",
          "Inverter",
          "Inverter",
          "Inverter",
          "Inverter",
          "Inverter",
          "Inverter",
          "Inverter",
          "Inverter",
          "Inverter",
          "Inverter",
          "Inverter",
          "Inverter",
          "Inverter",
          "Inverter",
          "Inverter",
          "Inverter",
          "Inverter",
          "Inverter",
          "Inverter",
          "Inverter",
          "Inverter",
          "Inverter",
          "Inverter",
          "Inverter",
          "Inverter",
          "Inverter",
          "Inverter",
          "Inverter",
          "Inverter",
          "Inverter",
          "Inverter",
          "Inverter",
          "Inverter",
          "Inverter",
          "Inverter",
          "Inverter",
          "Inverter",
          "Inverter",
          "Inverter",
          "Inverter",
          "Inverter",
          "Inverter",
          "Inverter",
          "Inverter",
          "Inverter",
          "Inverter",
          "Inverter",
          "Inverter",
          "Inverter",
          "Inverter",
          "Inverter",
          "Inverter",
          "Inverter",
          "Inverter",
          "Inverter",
          "Inverter",
          "Inverter",
          "Inverter",
          "Inverter",
          "Inverter",
          "Inverter",
          "Inverter",
          "Inverter",
          "Inverter",
          "Inverter",
          "Inverter",
          "Inverter",
          "Inverter",
          "Inverter",
          "Inverter",
          "Inverter",
          "Inverter",
          "Inverter",
          "Inverter",
          "Inverter",
          "Inverter",
          "Inverter",
          "Inverter",
          "Inverter",
          "Inverter",
          "Inverter",
          "Inverter",
          "Inverter",
          "Inverter",
          "Inverter",
          "Inverter",
          "Inverter",
          "Inverter",
          "Inverter",
          "Inverter",
          "Inverter",
          "Inverter",
          "Inverter",
          "Inverter",
          "Inverter",
          "Inverter",
          "Inverter",
          "Inverter",
          "Inverter",
          "Inverter",
          "Inverter",
          "Inverter",
          "Inverter",
          "Storage",
          "Storage",
          "Storage",
          "Storage",
          "Storage",
          "Storage",
          "Storage",
          "Storage",
          "Storage",
          "Storage",
          "Storage",
          "Storage",
          "Storage",
          "Storage",
          "Storage",
          "Storage",
          "Storage",
          "Storage",
          "Storage",
          "Storage",
          "Storage",
          "Storage",
          "Storage",
          "Storage",
          "Storage",
          "Storage",
          "Storage",
          "Storage",
          "Storage",
          "Storage",
          "Storage",
          "Storage",
          "Storage",
          "Storage",
          "Storage",
          "Storage",
          "Storage",
          "Storage",
          "Storage",
          "Storage",
          "Storage",
          "Storage",
          "Storage",
          "Storage",
          "Storage",
          "Storage",
          "Storage",
          "Storage",
          "Storage",
          "Storage",
          "Storage",
          "Storage",
          "Storage",
          "Storage",
          "Storage",
          "Storage",
          "Storage",
          "Storage",
          "Storage",
          "Storage",
          "Storage",
          "Storage",
          "Storage",
          "Storage",
          "Storage",
          "Storage",
          "Storage",
          "Storage",
          "Storage",
          "Storage",
          "Storage",
          "Storage",
          "Storage",
          "Storage",
          "Storage",
          "Storage",
          "Storage",
          "Storage",
          "Storage",
          "Storage",
          "Storage",
          "Storage",
          "Storage",
          "Storage",
          "Storage",
          "Storage",
          "Storage",
          "Storage",
          "Storage",
          "Storage",
          "Storage",
          "Storage",
          "Storage",
          "Storage",
          "Storage",
          "Storage",
          "Storage",
          "Storage",
          "Storage",
          "Storage",
          "Storage",
          "Storage",
          "Storage",
          "Storage",
          "Storage",
          "Storage",
          "Storage",
          "Storage",
          "Storage",
          "Storage",
          "Storage",
          "Storage",
          "Storage",
          "Storage",
          "Storage",
          "Storage",
          "Storage",
          "Storage",
          "Storage",
          "Storage",
          "Storage",
          "Storage",
          "Storage",
          "Storage",
          "Storage",
          "Storage",
          "Storage",
          "Storage",
          "Storage",
          "Storage",
          "Storage",
          "Storage",
          "Storage",
          "Storage",
          "Storage",
          "Storage",
          "Storage",
          "Storage",
          "Storage",
          "Storage",
          "Storage",
          "Storage",
          "Storage",
          "Storage",
          "Storage",
          "Storage",
          "Storage",
          "Storage",
          "Storage",
          "Storage",
          "Storage",
          "Storage",
          "Storage",
          "Storage",
          "Storage",
          "Storage",
          "Storage",
          "Storage",
          "Storage",
          "Storage",
          "Storage",
          "Storage",
          "Storage",
          "Storage",
          "Storage",
          "Storage",
          "Storage",
          "Storage",
          "Storage",
          "Storage",
          "Storage",
          "Storage",
          "Storage",
          "Storage",
          "Storage",
          "Storage",
          "Storage",
          "Storage",
          "Storage",
          "Storage",
          "Storage",
          "Storage",
          "Storage",
          "Storage",
          "Storage",
          "Storage",
          "Storage",
          "Storage",
          "Storage",
          "Storage",
          "Storage",
          "Storage",
          "Storage",
          "Storage",
          "Storage",
          "Storage",
          "Storage",
          "Storage",
          "Storage",
          "Storage",
          "Storage",
          "Storage",
          "Storage",
          "Storage",
          "Storage",
          "Storage",
          "Storage",
          "Storage",
          "Storage",
          "Storage",
          "Storage",
          "Storage",
          "Storage",
          "Storage",
          "Storage",
          "Storage",
          "Storage",
          "Storage",
          "Storage",
          "Storage",
          "Storage",
          "Storage",
          "Storage",
          "Storage",
          "Storage",
          "Storage",
          "Storage",
          "Storage",
          "Storage",
          "Storage",
          "Storage",
          "Storage",
          "Storage",
          "Storage",
          "Storage",
          "Storage",
          "Storage",
          "Storage",
          "Storage",
          "Storage",
          "Storage",
          "Storage",
          "Storage",
          "Storage",
          "Storage",
          "Storage",
          "Storage",
          "Storage",
          "Storage",
          "Storage",
          "Storage",
          "Storage",
          "Storage",
          "Storage",
          "Storage",
          "Storage",
          "Storage",
          "Storage",
          "Storage",
          "Storage",
          "Storage",
          "Storage",
          "Storage",
          "Storage",
          "Storage",
          "Storage",
          "Storage",
          "Storage",
          "Storage",
          "Storage",
          "Storage",
          "Storage",
          "Storage",
          "Storage",
          "Storage",
          "Storage",
          "Storage",
          "Storage",
          "Storage",
          "Storage",
          "Storage",
          "Storage",
          "Storage",
          "Storage",
          "Storage",
          "Storage",
          "Storage",
          "Storage",
          "Storage",
          "Storage",
          "Storage",
          "Storage",
          "Storage",
          "Storage",
          "Storage",
          "Storage",
          "Storage",
          "Storage",
          "Storage",
          "Storage",
          "Storage",
          "Storage",
          "Storage",
          "Storage",
          "Storage",
          "Storage",
          "Storage",
          "Storage",
          "Storage",
          "Storage",
          "Storage",
          "Storage",
          "Storage",
          "Storage",
          "Storage",
          "Storage",
          "Storage",
          "Storage",
          "Storage",
          "Storage",
          "Storage",
          "Storage",
          "Storage",
          "Storage",
          "Storage",
          "Storage",
          "Storage",
          "Storage",
          "Storage",
          "Storage",
          "Storage",
          "Storage",
          "Storage",
          "Storage",
          "Storage",
          "Storage",
          "Storage",
          "Storage",
          "Storage",
          "Storage",
          "Storage",
          "Storage",
          "Storage",
          "Storage",
          "Storage",
          "Storage",
          "Storage",
          "Storage",
          "Storage",
          "Storage",
          "Storage",
          "Storage",
          "Storage",
          "Storage",
          "Storage",
          "Storage",
          "Storage",
          "Storage",
          "Storage",
          "Storage",
          "Storage",
          "Storage",
          "Storage",
          "Storage",
          "Storage",
          "Storage",
          "Storage",
          "Storage",
          "Storage",
          "Storage",
          "Storage",
          "Storage",
          "Storage",
          "Storage",
          "Storage",
          "Storage",
          "Storage",
          "Storage",
          "Storage",
          "Storage",
          "Storage",
          "Storage",
          "Storage",
          "Storage",
          "Storage",
          "Storage",
          "Storage",
          "Storage",
          "Storage",
          "Storage",
          "Storage",
          "Storage",
          "Storage",
          "Storage",
          "Storage",
          "Storage",
          "Storage",
          "Storage",
          "Storage",
          "Storage",
          "Storage",
          "Storage",
          "Storage",
          "Storage",
          "Storage",
          "Storage",
          "Storage",
          "Storage",
          "Storage",
          "Storage",
          "Storage",
          "Storage",
          "Storage",
          "Storage",
          "Storage",
          "Storage",
          "Storage",
          "Storage",
          "Storage",
          "Storage",
          "Storage",
          "Storage",
          "Storage",
          "Storage",
          "Storage",
          "Storage",
          "Storage",
          "Storage",
          "Storage",
          "Storage",
          "Storage",
          "Storage",
          "Storage",
          "Storage",
          "Storage",
          "Storage",
          "Storage",
          "Storage",
          "Storage",
          "Storage",
          "Storage",
          "Storage",
          "Storage",
          "Storage",
          "Storage",
          "Storage",
          "Storage",
          "Storage",
          "Storage",
          "Storage",
          "Storage",
          "Storage",
          "Storage",
          "Storage",
          "Storage",
          "Storage",
          "Storage",
          "Storage",
          "Storage",
          "Storage",
          "Storage",
          "Storage",
          "Storage",
          "Storage",
          "Storage",
          "Storage",
          "Storage",
          "Storage",
          "Storage",
          "Storage",
          "Storage",
          "Storage",
          "Storage",
          "Storage",
          "Storage",
          "Storage",
          "Storage",
          "Storage",
          "Storage",
          "Storage",
          "Storage",
          "Storage",
          "Storage",
          "Storage",
          "Storage",
          "Storage",
          "Storage",
          "Storage",
          "Storage",
          "Storage",
          "Storage",
          "Storage",
          "Storage",
          "Storage",
          "Storage",
          "Storage",
          "Storage",
          "Storage",
          "Storage",
          "Storage",
          "Storage",
          "Storage",
          "Storage",
          "Storage",
          "Storage",
          "Storage",
          "Storage",
          "Storage",
          "Storage",
          "Storage",
          "Storage",
          "Storage",
          "Storage",
          "Storage",
          "Storage",
          "Storage",
          "Storage",
          "Storage",
          "Storage",
          "Storage",
          "Storage",
          "Storage",
          "Storage",
          "Storage",
          "Storage",
          "Storage",
          "Storage",
          "Storage",
          "Storage",
          "Storage",
          "Storage",
          "Storage",
          "Storage",
          "Storage",
          "Storage",
          "Storage",
          "Storage",
          "Storage",
          "Storage",
          "Storage",
          "Storage",
          "Storage",
          "Storage",
          "Storage",
          "Storage",
          "Storage",
          "Storage",
          "Storage",
          "Storage",
          "Storage",
          "Storage",
          "Storage",
          "Storage",
          "Storage",
          "Storage",
          "Storage",
          "Storage",
          "Storage",
          "Storage",
          "Storage",
          "Storage",
          "Storage",
          "Storage",
          "Storage",
          "Storage",
          "Storage",
          "Storage",
          "Storage",
          "Storage",
          "Storage",
          "Storage",
          "Storage",
          "Storage",
          "Storage",
          "Storage",
          "Storage",
          "Storage",
          "Storage",
          "Storage",
          "Storage",
          "Storage",
          "Storage",
          "Storage",
          "Storage",
          "Storage",
          "Storage",
          "Storage",
          "Storage",
          "Storage",
          "Storage",
          "Storage",
          "Storage",
          "Storage",
          "Storage",
          "Storage",
          "Storage",
          "Storage",
          "Storage",
          "Storage",
          "Storage",
          "Storage",
          "Storage",
          "Storage",
          "Storage",
          "Storage",
          "Storage",
          "Storage",
          "Storage",
          "Storage",
          "Storage",
          "Storage",
          "Storage",
          "Storage",
          "Storage",
          "Storage",
          "Storage",
          "Storage",
          "Storage",
          "Storage",
          "Storage",
          "Storage",
          "Storage",
          "Storage",
          "Storage",
          "Storage",
          "Storage",
          "Storage",
          "Storage",
          "Storage",
          "Storage",
          "Storage",
          "Storage",
          "Storage",
          "Storage",
          "Storage",
          "Storage",
          "Storage",
          "Storage",
          "Storage",
          "Storage",
          "Storage",
          "Storage",
          "Storage",
          "Storage",
          "Storage",
          "Storage",
          "Storage",
          "Storage",
          "Storage",
          "Storage",
          "Storage",
          "Storage",
          "Storage",
          "Storage",
          "Storage",
          "Storage",
          "Storage",
          "Storage",
          "Storage",
          "Storage",
          "Storage",
          "Storage",
          "Storage",
          "Storage",
          "Storage",
          "Storage",
          "Storage",
          "Storage",
          "Storage",
          "Storage",
          "Storage",
          "Storage",
          "Storage",
          "Storage",
          "Storage",
          "Storage",
          "Storage",
          "Storage",
          "Storage",
          "Storage",
          "Storage",
          "Storage",
          "Storage",
          "Storage",
          "Storage",
          "Storage",
          "Storage",
          "Storage",
          "Storage",
          "Storage",
          "Storage",
          "Storage",
          "Storage",
          "Storage",
          "Storage",
          "Storage",
          "Storage",
          "Storage",
          "Storage",
          "Storage",
          "Storage",
          "Storage",
          "Storage",
          "Storage",
          "Storage",
          "Storage",
          "Storage",
          "Storage",
          "Storage",
          "Storage",
          "Storage",
          "Storage",
          "Storage",
          "Storage",
          "Storage",
          "Storage",
          "Storage",
          "Storage",
          "Storage",
          "Storage",
          "Storage",
          "Storage",
          "Storage",
          "Storage",
          "Storage",
          "Storage",
          "Storage",
          "Storage",
          "Storage",
          "Storage",
          "Storage",
          "Storage",
          "Storage",
          "Storage",
          "Storage",
          "Storage",
          "Storage",
          "Storage",
          "Storage",
          "Storage",
          "Storage",
          "Storage",
          "Storage",
          "Storage",
          "Storage",
          "Storage",
          "Storage",
          "Storage",
          "Storage",
          "Storage",
          "Storage",
          "Storage",
          "Storage",
          "Storage",
          "Storage",
          "Storage",
          "Storage",
          "Storage",
          "Storage",
          "Storage",
          "Storage",
          "Storage",
          "Storage",
          "Storage",
          "Storage",
          "Storage",
          "Storage",
          "Storage",
          "Storage",
          "Storage",
          "Storage",
          "Storage",
          "Storage",
          "Storage",
          "Storage",
          "Storage",
          "Storage",
          "Storage",
          "Storage",
          "Storage",
          "Storage",
          "Storage",
          "Storage",
          "Storage",
          "Storage",
          "Storage",
          "Storage",
          "Storage",
          "Storage",
          "Storage",
          "Storage",
          "Storage",
          "Storage",
          "Storage",
          "Storage",
          "Storage",
          "Storage",
          "Storage",
          "Storage",
          "Storage",
          "Storage",
          "Storage",
          "Storage",
          "Storage",
          "Storage",
          "Storage",
          "Storage",
          "Storage",
          "Storage",
          "Storage",
          "Storage",
          "Storage",
          "Storage",
          "Storage",
          "Storage",
          "Storage",
          "Storage",
          "Storage",
          "Storage",
          "Storage",
          "Storage",
          "Storage",
          "Storage",
          "Storage",
          "Storage",
          "Storage",
          "Storage",
          "Storage",
          "Storage",
          "Storage",
          "Storage",
          "Storage",
          "Storage",
          "Storage",
          "Storage",
          "Storage",
          "Storage",
          "Storage",
          "Storage",
          "Storage",
          "Storage",
          "Storage",
          "Storage",
          "Storage",
          "Storage",
          "Storage",
          "Storage",
          "Storage",
          "Storage",
          "Storage",
          "Storage",
          "Storage",
          "Storage",
          "Storage",
          "Storage",
          "Storage",
          "Storage",
          "Storage",
          "Storage",
          "Storage",
          "Storage",
          "Storage",
          "Storage",
          "Storage",
          "Storage",
          "Storage",
          "Storage",
          "Storage",
          "Storage",
          "Storage",
          "Storage",
          "Storage",
          "Storage",
          "Storage",
          "Storage",
          "Storage",
          "Storage",
          "Storage",
          "Storage",
          "Storage",
          "Storage",
          "Storage",
          "Storage",
          "Storage",
          "Storage",
          "Storage",
          "Storage",
          "Storage",
          "Storage",
          "Storage",
          "Storage",
          "Storage",
          "Storage",
          "Storage",
          "Storage",
          "Storage",
          "Storage",
          "Storage",
          "Storage",
          "Storage",
          "Storage",
          "Storage",
          "Storage",
          "Storage",
          "Storage",
          "Storage",
          "Storage",
          "Storage",
          "Storage",
          "Storage",
          "Storage",
          "Storage",
          "Storage",
          "Storage",
          "Storage",
          "Storage",
          "Storage",
          "Storage",
          "Storage",
          "Storage",
          "Storage",
          "Storage",
          "Storage",
          "Storage",
          "Storage",
          "Storage",
          "Storage",
          "Storage",
          "Storage",
          "Storage",
          "Storage",
          "Storage",
          "Storage",
          "Storage",
          "Storage",
          "Storage",
          "Storage",
          "Storage",
          "Storage",
          "Storage",
          "Storage",
          "Storage",
          "Storage",
          "Storage",
          "Storage",
          "Storage",
          "Storage",
          "Storage",
          "Storage",
          "Storage",
          "Storage",
          "Storage",
          "Storage",
          "Storage",
          "Storage",
          "Storage",
          "Storage",
          "Storage",
          "Storage",
          "Storage",
          "Storage",
          "Storage",
          "Storage",
          "Storage",
          "Storage",
          "Storage",
          "Storage",
          "Storage",
          "Storage",
          "Storage",
          "Storage",
          "Storage",
          "Storage",
          "Storage",
          "Storage",
          "Storage",
          "Storage",
          "Storage",
          "Storage",
          "Storage",
          "Storage",
          "Storage",
          "Storage",
          "Storage",
          "Storage",
          "Storage",
          "Storage",
          "Storage",
          "Storage",
          "Storage",
          "Storage",
          "Storage",
          "Storage",
          "Storage",
          "Storage",
          "Storage",
          "Storage",
          "Storage",
          "Storage",
          "Storage",
          "Storage",
          "Storage",
          "Storage",
          "Storage",
          "Storage",
          "Storage",
          "Storage",
          "Storage",
          "Storage",
          "Storage",
          "Storage",
          "Storage",
          "Storage",
          "Storage",
          "Storage",
          "Storage",
          "Storage",
          "Storage",
          "Storage",
          "Storage",
          "Storage",
          "Storage",
          "Storage",
          "Storage",
          "Storage",
          "Storage",
          "Storage",
          "Storage",
          "Storage",
          "Storage",
          "Storage",
          "Storage",
          "Storage",
          "Storage",
          "Storage",
          "Storage",
          "Storage",
          "Storage",
          "Storage",
          "Storage",
          "Storage",
          "Storage",
          "Storage",
          "Storage",
          "Storage",
          "Storage",
          "Storage",
          "Storage",
          "Storage",
          "Storage",
          "Storage",
          "Storage",
          "Storage",
          "Storage",
          "Storage",
          "Storage",
          "Storage",
          "Storage",
          "Storage",
          "Storage",
          "Storage",
          "Storage",
          "Storage",
          "Storage",
          "Storage",
          "Storage",
          "Storage",
          "Storage",
          "Storage",
          "Storage",
          "Storage",
          "Storage",
          "Storage",
          "Storage",
          "Storage",
          "Storage",
          "Storage",
          "Storage",
          "Storage",
          "Storage",
          "Storage",
          "Storage",
          "Storage",
          "Storage",
          "Storage",
          "Storage",
          "Storage",
          "Storage",
          "Storage",
          "Storage",
          "Storage",
          "Storage",
          "Storage",
          "Storage",
          "Storage",
          "Storage",
          "Storage",
          "Storage",
          "Storage",
          "Storage",
          "Storage",
          "Storage",
          "Storage",
          "Storage",
          "Storage",
          "Storage",
          "Storage",
          "Storage",
          "Storage",
          "Storage",
          "Storage",
          "Storage",
          "Storage",
          "Storage",
          "Storage",
          "Storage",
          "Storage",
          "Storage",
          "Storage",
          "Storage",
          "Storage",
          "Storage",
          "Storage",
          "Storage",
          "Storage",
          "Storage",
          "Storage",
          "Storage",
          "Storage",
          "Storage",
          "Storage",
          "Storage",
          "Storage",
          "Storage",
          "Storage",
          "Storage",
          "Storage",
          "Storage",
          "Storage",
          "Storage",
          "Storage",
          "Storage",
          "Storage",
          "Storage",
          "Storage"
         ],
         "y0": " ",
         "yaxis": "y"
        }
       ],
       "layout": {
        "boxmode": "group",
        "legend": {
         "tracegroupgap": 0
        },
        "template": {
         "data": {
          "bar": [
           {
            "error_x": {
             "color": "#2a3f5f"
            },
            "error_y": {
             "color": "#2a3f5f"
            },
            "marker": {
             "line": {
              "color": "#E5ECF6",
              "width": 0.5
             },
             "pattern": {
              "fillmode": "overlay",
              "size": 10,
              "solidity": 0.2
             }
            },
            "type": "bar"
           }
          ],
          "barpolar": [
           {
            "marker": {
             "line": {
              "color": "#E5ECF6",
              "width": 0.5
             },
             "pattern": {
              "fillmode": "overlay",
              "size": 10,
              "solidity": 0.2
             }
            },
            "type": "barpolar"
           }
          ],
          "carpet": [
           {
            "aaxis": {
             "endlinecolor": "#2a3f5f",
             "gridcolor": "white",
             "linecolor": "white",
             "minorgridcolor": "white",
             "startlinecolor": "#2a3f5f"
            },
            "baxis": {
             "endlinecolor": "#2a3f5f",
             "gridcolor": "white",
             "linecolor": "white",
             "minorgridcolor": "white",
             "startlinecolor": "#2a3f5f"
            },
            "type": "carpet"
           }
          ],
          "choropleth": [
           {
            "colorbar": {
             "outlinewidth": 0,
             "ticks": ""
            },
            "type": "choropleth"
           }
          ],
          "contour": [
           {
            "colorbar": {
             "outlinewidth": 0,
             "ticks": ""
            },
            "colorscale": [
             [
              0,
              "#0d0887"
             ],
             [
              0.1111111111111111,
              "#46039f"
             ],
             [
              0.2222222222222222,
              "#7201a8"
             ],
             [
              0.3333333333333333,
              "#9c179e"
             ],
             [
              0.4444444444444444,
              "#bd3786"
             ],
             [
              0.5555555555555556,
              "#d8576b"
             ],
             [
              0.6666666666666666,
              "#ed7953"
             ],
             [
              0.7777777777777778,
              "#fb9f3a"
             ],
             [
              0.8888888888888888,
              "#fdca26"
             ],
             [
              1,
              "#f0f921"
             ]
            ],
            "type": "contour"
           }
          ],
          "contourcarpet": [
           {
            "colorbar": {
             "outlinewidth": 0,
             "ticks": ""
            },
            "type": "contourcarpet"
           }
          ],
          "heatmap": [
           {
            "colorbar": {
             "outlinewidth": 0,
             "ticks": ""
            },
            "colorscale": [
             [
              0,
              "#0d0887"
             ],
             [
              0.1111111111111111,
              "#46039f"
             ],
             [
              0.2222222222222222,
              "#7201a8"
             ],
             [
              0.3333333333333333,
              "#9c179e"
             ],
             [
              0.4444444444444444,
              "#bd3786"
             ],
             [
              0.5555555555555556,
              "#d8576b"
             ],
             [
              0.6666666666666666,
              "#ed7953"
             ],
             [
              0.7777777777777778,
              "#fb9f3a"
             ],
             [
              0.8888888888888888,
              "#fdca26"
             ],
             [
              1,
              "#f0f921"
             ]
            ],
            "type": "heatmap"
           }
          ],
          "histogram": [
           {
            "marker": {
             "pattern": {
              "fillmode": "overlay",
              "size": 10,
              "solidity": 0.2
             }
            },
            "type": "histogram"
           }
          ],
          "histogram2d": [
           {
            "colorbar": {
             "outlinewidth": 0,
             "ticks": ""
            },
            "colorscale": [
             [
              0,
              "#0d0887"
             ],
             [
              0.1111111111111111,
              "#46039f"
             ],
             [
              0.2222222222222222,
              "#7201a8"
             ],
             [
              0.3333333333333333,
              "#9c179e"
             ],
             [
              0.4444444444444444,
              "#bd3786"
             ],
             [
              0.5555555555555556,
              "#d8576b"
             ],
             [
              0.6666666666666666,
              "#ed7953"
             ],
             [
              0.7777777777777778,
              "#fb9f3a"
             ],
             [
              0.8888888888888888,
              "#fdca26"
             ],
             [
              1,
              "#f0f921"
             ]
            ],
            "type": "histogram2d"
           }
          ],
          "histogram2dcontour": [
           {
            "colorbar": {
             "outlinewidth": 0,
             "ticks": ""
            },
            "colorscale": [
             [
              0,
              "#0d0887"
             ],
             [
              0.1111111111111111,
              "#46039f"
             ],
             [
              0.2222222222222222,
              "#7201a8"
             ],
             [
              0.3333333333333333,
              "#9c179e"
             ],
             [
              0.4444444444444444,
              "#bd3786"
             ],
             [
              0.5555555555555556,
              "#d8576b"
             ],
             [
              0.6666666666666666,
              "#ed7953"
             ],
             [
              0.7777777777777778,
              "#fb9f3a"
             ],
             [
              0.8888888888888888,
              "#fdca26"
             ],
             [
              1,
              "#f0f921"
             ]
            ],
            "type": "histogram2dcontour"
           }
          ],
          "mesh3d": [
           {
            "colorbar": {
             "outlinewidth": 0,
             "ticks": ""
            },
            "type": "mesh3d"
           }
          ],
          "parcoords": [
           {
            "line": {
             "colorbar": {
              "outlinewidth": 0,
              "ticks": ""
             }
            },
            "type": "parcoords"
           }
          ],
          "pie": [
           {
            "automargin": true,
            "type": "pie"
           }
          ],
          "scatter": [
           {
            "fillpattern": {
             "fillmode": "overlay",
             "size": 10,
             "solidity": 0.2
            },
            "type": "scatter"
           }
          ],
          "scatter3d": [
           {
            "line": {
             "colorbar": {
              "outlinewidth": 0,
              "ticks": ""
             }
            },
            "marker": {
             "colorbar": {
              "outlinewidth": 0,
              "ticks": ""
             }
            },
            "type": "scatter3d"
           }
          ],
          "scattercarpet": [
           {
            "marker": {
             "colorbar": {
              "outlinewidth": 0,
              "ticks": ""
             }
            },
            "type": "scattercarpet"
           }
          ],
          "scattergeo": [
           {
            "marker": {
             "colorbar": {
              "outlinewidth": 0,
              "ticks": ""
             }
            },
            "type": "scattergeo"
           }
          ],
          "scattergl": [
           {
            "marker": {
             "colorbar": {
              "outlinewidth": 0,
              "ticks": ""
             }
            },
            "type": "scattergl"
           }
          ],
          "scattermap": [
           {
            "marker": {
             "colorbar": {
              "outlinewidth": 0,
              "ticks": ""
             }
            },
            "type": "scattermap"
           }
          ],
          "scattermapbox": [
           {
            "marker": {
             "colorbar": {
              "outlinewidth": 0,
              "ticks": ""
             }
            },
            "type": "scattermapbox"
           }
          ],
          "scatterpolar": [
           {
            "marker": {
             "colorbar": {
              "outlinewidth": 0,
              "ticks": ""
             }
            },
            "type": "scatterpolar"
           }
          ],
          "scatterpolargl": [
           {
            "marker": {
             "colorbar": {
              "outlinewidth": 0,
              "ticks": ""
             }
            },
            "type": "scatterpolargl"
           }
          ],
          "scatterternary": [
           {
            "marker": {
             "colorbar": {
              "outlinewidth": 0,
              "ticks": ""
             }
            },
            "type": "scatterternary"
           }
          ],
          "surface": [
           {
            "colorbar": {
             "outlinewidth": 0,
             "ticks": ""
            },
            "colorscale": [
             [
              0,
              "#0d0887"
             ],
             [
              0.1111111111111111,
              "#46039f"
             ],
             [
              0.2222222222222222,
              "#7201a8"
             ],
             [
              0.3333333333333333,
              "#9c179e"
             ],
             [
              0.4444444444444444,
              "#bd3786"
             ],
             [
              0.5555555555555556,
              "#d8576b"
             ],
             [
              0.6666666666666666,
              "#ed7953"
             ],
             [
              0.7777777777777778,
              "#fb9f3a"
             ],
             [
              0.8888888888888888,
              "#fdca26"
             ],
             [
              1,
              "#f0f921"
             ]
            ],
            "type": "surface"
           }
          ],
          "table": [
           {
            "cells": {
             "fill": {
              "color": "#EBF0F8"
             },
             "line": {
              "color": "white"
             }
            },
            "header": {
             "fill": {
              "color": "#C8D4E3"
             },
             "line": {
              "color": "white"
             }
            },
            "type": "table"
           }
          ]
         },
         "layout": {
          "annotationdefaults": {
           "arrowcolor": "#2a3f5f",
           "arrowhead": 0,
           "arrowwidth": 1
          },
          "autotypenumbers": "strict",
          "coloraxis": {
           "colorbar": {
            "outlinewidth": 0,
            "ticks": ""
           }
          },
          "colorscale": {
           "diverging": [
            [
             0,
             "#8e0152"
            ],
            [
             0.1,
             "#c51b7d"
            ],
            [
             0.2,
             "#de77ae"
            ],
            [
             0.3,
             "#f1b6da"
            ],
            [
             0.4,
             "#fde0ef"
            ],
            [
             0.5,
             "#f7f7f7"
            ],
            [
             0.6,
             "#e6f5d0"
            ],
            [
             0.7,
             "#b8e186"
            ],
            [
             0.8,
             "#7fbc41"
            ],
            [
             0.9,
             "#4d9221"
            ],
            [
             1,
             "#276419"
            ]
           ],
           "sequential": [
            [
             0,
             "#0d0887"
            ],
            [
             0.1111111111111111,
             "#46039f"
            ],
            [
             0.2222222222222222,
             "#7201a8"
            ],
            [
             0.3333333333333333,
             "#9c179e"
            ],
            [
             0.4444444444444444,
             "#bd3786"
            ],
            [
             0.5555555555555556,
             "#d8576b"
            ],
            [
             0.6666666666666666,
             "#ed7953"
            ],
            [
             0.7777777777777778,
             "#fb9f3a"
            ],
            [
             0.8888888888888888,
             "#fdca26"
            ],
            [
             1,
             "#f0f921"
            ]
           ],
           "sequentialminus": [
            [
             0,
             "#0d0887"
            ],
            [
             0.1111111111111111,
             "#46039f"
            ],
            [
             0.2222222222222222,
             "#7201a8"
            ],
            [
             0.3333333333333333,
             "#9c179e"
            ],
            [
             0.4444444444444444,
             "#bd3786"
            ],
            [
             0.5555555555555556,
             "#d8576b"
            ],
            [
             0.6666666666666666,
             "#ed7953"
            ],
            [
             0.7777777777777778,
             "#fb9f3a"
            ],
            [
             0.8888888888888888,
             "#fdca26"
            ],
            [
             1,
             "#f0f921"
            ]
           ]
          },
          "colorway": [
           "#636efa",
           "#EF553B",
           "#00cc96",
           "#ab63fa",
           "#FFA15A",
           "#19d3f3",
           "#FF6692",
           "#B6E880",
           "#FF97FF",
           "#FECB52"
          ],
          "font": {
           "color": "#2a3f5f"
          },
          "geo": {
           "bgcolor": "white",
           "lakecolor": "white",
           "landcolor": "#E5ECF6",
           "showlakes": true,
           "showland": true,
           "subunitcolor": "white"
          },
          "hoverlabel": {
           "align": "left"
          },
          "hovermode": "closest",
          "mapbox": {
           "style": "light"
          },
          "paper_bgcolor": "white",
          "plot_bgcolor": "#E5ECF6",
          "polar": {
           "angularaxis": {
            "gridcolor": "white",
            "linecolor": "white",
            "ticks": ""
           },
           "bgcolor": "#E5ECF6",
           "radialaxis": {
            "gridcolor": "white",
            "linecolor": "white",
            "ticks": ""
           }
          },
          "scene": {
           "xaxis": {
            "backgroundcolor": "#E5ECF6",
            "gridcolor": "white",
            "gridwidth": 2,
            "linecolor": "white",
            "showbackground": true,
            "ticks": "",
            "zerolinecolor": "white"
           },
           "yaxis": {
            "backgroundcolor": "#E5ECF6",
            "gridcolor": "white",
            "gridwidth": 2,
            "linecolor": "white",
            "showbackground": true,
            "ticks": "",
            "zerolinecolor": "white"
           },
           "zaxis": {
            "backgroundcolor": "#E5ECF6",
            "gridcolor": "white",
            "gridwidth": 2,
            "linecolor": "white",
            "showbackground": true,
            "ticks": "",
            "zerolinecolor": "white"
           }
          },
          "shapedefaults": {
           "line": {
            "color": "#2a3f5f"
           }
          },
          "ternary": {
           "aaxis": {
            "gridcolor": "white",
            "linecolor": "white",
            "ticks": ""
           },
           "baxis": {
            "gridcolor": "white",
            "linecolor": "white",
            "ticks": ""
           },
           "bgcolor": "#E5ECF6",
           "caxis": {
            "gridcolor": "white",
            "linecolor": "white",
            "ticks": ""
           }
          },
          "title": {
           "x": 0.05
          },
          "xaxis": {
           "automargin": true,
           "gridcolor": "white",
           "linecolor": "white",
           "ticks": "",
           "title": {
            "standoff": 15
           },
           "zerolinecolor": "white",
           "zerolinewidth": 2
          },
          "yaxis": {
           "automargin": true,
           "gridcolor": "white",
           "linecolor": "white",
           "ticks": "",
           "title": {
            "standoff": 15
           },
           "zerolinecolor": "white",
           "zerolinewidth": 2
          }
         }
        },
        "title": {
         "text": "Battery system investments"
        },
        "xaxis": {
         "anchor": "y",
         "domain": [
          0,
          1
         ],
         "range": [
          0,
          75000
         ],
         "title": {
          "text": "Storage system investments in €"
         }
        },
        "yaxis": {
         "anchor": "x",
         "domain": [
          0,
          1
         ],
         "title": {
          "text": ""
         }
        }
       }
      }
     },
     "metadata": {},
     "output_type": "display_data"
    }
   ],
   "source": [
    "storage_invest = profiles_using_storage[\"storage_invest_eur\"].copy()\n",
    "storage_invest.name = \"Absolute storage investment\"\n",
    "print(storage_invest.describe().drop(\"count\").to_markdown())\n",
    "\n",
    "print(\"\")\n",
    "inverter_invest = profiles_using_storage[\"inverter_invest_eur\"].copy()\n",
    "inverter_invest.name = \"Absolute inverter investment\"\n",
    "print(inverter_invest.describe().drop(\"count\").to_markdown())\n",
    "\n",
    "\n",
    "fig_df = profiles_using_storage.copy()\n",
    "fig_df = fig_df.rename(columns={\n",
    "    \"storage_invest_eur\": \"Storage\",\n",
    "    \"inverter_invest_eur\": \"Inverter\"})\n",
    "fig = px.box(\n",
    "    data_frame=fig_df,\n",
    "    x=[\"Inverter\", \"Storage\"],\n",
    "    title=\"Battery system investments\")\n",
    "fig.update_layout(xaxis_title=\"Storage system investments in €\", yaxis_title=\"\")\n",
    "fig.update_xaxes(range=[0, 75000])\n",
    "fig.show()"
   ]
  },
  {
   "cell_type": "code",
   "execution_count": 10,
   "id": "c6e29466",
   "metadata": {},
   "outputs": [
    {
     "data": {
      "application/vnd.plotly.v1+json": {
       "config": {
        "plotlyServerURL": "https://plot.ly"
       },
       "data": [
        {
         "alignmentgroup": "True",
         "hovertemplate": "invest_per_tac=%{x}<extra></extra>",
         "legendgroup": "",
         "marker": {
          "color": "#636efa"
         },
         "name": "",
         "notched": false,
         "offsetgroup": "",
         "orientation": "h",
         "showlegend": false,
         "type": "box",
         "x": {
          "bdata": "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",
          "dtype": "f8"
         },
         "x0": " ",
         "xaxis": "x",
         "y0": " ",
         "yaxis": "y"
        }
       ],
       "layout": {
        "boxmode": "group",
        "legend": {
         "tracegroupgap": 0
        },
        "template": {
         "data": {
          "bar": [
           {
            "error_x": {
             "color": "#2a3f5f"
            },
            "error_y": {
             "color": "#2a3f5f"
            },
            "marker": {
             "line": {
              "color": "#E5ECF6",
              "width": 0.5
             },
             "pattern": {
              "fillmode": "overlay",
              "size": 10,
              "solidity": 0.2
             }
            },
            "type": "bar"
           }
          ],
          "barpolar": [
           {
            "marker": {
             "line": {
              "color": "#E5ECF6",
              "width": 0.5
             },
             "pattern": {
              "fillmode": "overlay",
              "size": 10,
              "solidity": 0.2
             }
            },
            "type": "barpolar"
           }
          ],
          "carpet": [
           {
            "aaxis": {
             "endlinecolor": "#2a3f5f",
             "gridcolor": "white",
             "linecolor": "white",
             "minorgridcolor": "white",
             "startlinecolor": "#2a3f5f"
            },
            "baxis": {
             "endlinecolor": "#2a3f5f",
             "gridcolor": "white",
             "linecolor": "white",
             "minorgridcolor": "white",
             "startlinecolor": "#2a3f5f"
            },
            "type": "carpet"
           }
          ],
          "choropleth": [
           {
            "colorbar": {
             "outlinewidth": 0,
             "ticks": ""
            },
            "type": "choropleth"
           }
          ],
          "contour": [
           {
            "colorbar": {
             "outlinewidth": 0,
             "ticks": ""
            },
            "colorscale": [
             [
              0,
              "#0d0887"
             ],
             [
              0.1111111111111111,
              "#46039f"
             ],
             [
              0.2222222222222222,
              "#7201a8"
             ],
             [
              0.3333333333333333,
              "#9c179e"
             ],
             [
              0.4444444444444444,
              "#bd3786"
             ],
             [
              0.5555555555555556,
              "#d8576b"
             ],
             [
              0.6666666666666666,
              "#ed7953"
             ],
             [
              0.7777777777777778,
              "#fb9f3a"
             ],
             [
              0.8888888888888888,
              "#fdca26"
             ],
             [
              1,
              "#f0f921"
             ]
            ],
            "type": "contour"
           }
          ],
          "contourcarpet": [
           {
            "colorbar": {
             "outlinewidth": 0,
             "ticks": ""
            },
            "type": "contourcarpet"
           }
          ],
          "heatmap": [
           {
            "colorbar": {
             "outlinewidth": 0,
             "ticks": ""
            },
            "colorscale": [
             [
              0,
              "#0d0887"
             ],
             [
              0.1111111111111111,
              "#46039f"
             ],
             [
              0.2222222222222222,
              "#7201a8"
             ],
             [
              0.3333333333333333,
              "#9c179e"
             ],
             [
              0.4444444444444444,
              "#bd3786"
             ],
             [
              0.5555555555555556,
              "#d8576b"
             ],
             [
              0.6666666666666666,
              "#ed7953"
             ],
             [
              0.7777777777777778,
              "#fb9f3a"
             ],
             [
              0.8888888888888888,
              "#fdca26"
             ],
             [
              1,
              "#f0f921"
             ]
            ],
            "type": "heatmap"
           }
          ],
          "histogram": [
           {
            "marker": {
             "pattern": {
              "fillmode": "overlay",
              "size": 10,
              "solidity": 0.2
             }
            },
            "type": "histogram"
           }
          ],
          "histogram2d": [
           {
            "colorbar": {
             "outlinewidth": 0,
             "ticks": ""
            },
            "colorscale": [
             [
              0,
              "#0d0887"
             ],
             [
              0.1111111111111111,
              "#46039f"
             ],
             [
              0.2222222222222222,
              "#7201a8"
             ],
             [
              0.3333333333333333,
              "#9c179e"
             ],
             [
              0.4444444444444444,
              "#bd3786"
             ],
             [
              0.5555555555555556,
              "#d8576b"
             ],
             [
              0.6666666666666666,
              "#ed7953"
             ],
             [
              0.7777777777777778,
              "#fb9f3a"
             ],
             [
              0.8888888888888888,
              "#fdca26"
             ],
             [
              1,
              "#f0f921"
             ]
            ],
            "type": "histogram2d"
           }
          ],
          "histogram2dcontour": [
           {
            "colorbar": {
             "outlinewidth": 0,
             "ticks": ""
            },
            "colorscale": [
             [
              0,
              "#0d0887"
             ],
             [
              0.1111111111111111,
              "#46039f"
             ],
             [
              0.2222222222222222,
              "#7201a8"
             ],
             [
              0.3333333333333333,
              "#9c179e"
             ],
             [
              0.4444444444444444,
              "#bd3786"
             ],
             [
              0.5555555555555556,
              "#d8576b"
             ],
             [
              0.6666666666666666,
              "#ed7953"
             ],
             [
              0.7777777777777778,
              "#fb9f3a"
             ],
             [
              0.8888888888888888,
              "#fdca26"
             ],
             [
              1,
              "#f0f921"
             ]
            ],
            "type": "histogram2dcontour"
           }
          ],
          "mesh3d": [
           {
            "colorbar": {
             "outlinewidth": 0,
             "ticks": ""
            },
            "type": "mesh3d"
           }
          ],
          "parcoords": [
           {
            "line": {
             "colorbar": {
              "outlinewidth": 0,
              "ticks": ""
             }
            },
            "type": "parcoords"
           }
          ],
          "pie": [
           {
            "automargin": true,
            "type": "pie"
           }
          ],
          "scatter": [
           {
            "fillpattern": {
             "fillmode": "overlay",
             "size": 10,
             "solidity": 0.2
            },
            "type": "scatter"
           }
          ],
          "scatter3d": [
           {
            "line": {
             "colorbar": {
              "outlinewidth": 0,
              "ticks": ""
             }
            },
            "marker": {
             "colorbar": {
              "outlinewidth": 0,
              "ticks": ""
             }
            },
            "type": "scatter3d"
           }
          ],
          "scattercarpet": [
           {
            "marker": {
             "colorbar": {
              "outlinewidth": 0,
              "ticks": ""
             }
            },
            "type": "scattercarpet"
           }
          ],
          "scattergeo": [
           {
            "marker": {
             "colorbar": {
              "outlinewidth": 0,
              "ticks": ""
             }
            },
            "type": "scattergeo"
           }
          ],
          "scattergl": [
           {
            "marker": {
             "colorbar": {
              "outlinewidth": 0,
              "ticks": ""
             }
            },
            "type": "scattergl"
           }
          ],
          "scattermap": [
           {
            "marker": {
             "colorbar": {
              "outlinewidth": 0,
              "ticks": ""
             }
            },
            "type": "scattermap"
           }
          ],
          "scattermapbox": [
           {
            "marker": {
             "colorbar": {
              "outlinewidth": 0,
              "ticks": ""
             }
            },
            "type": "scattermapbox"
           }
          ],
          "scatterpolar": [
           {
            "marker": {
             "colorbar": {
              "outlinewidth": 0,
              "ticks": ""
             }
            },
            "type": "scatterpolar"
           }
          ],
          "scatterpolargl": [
           {
            "marker": {
             "colorbar": {
              "outlinewidth": 0,
              "ticks": ""
             }
            },
            "type": "scatterpolargl"
           }
          ],
          "scatterternary": [
           {
            "marker": {
             "colorbar": {
              "outlinewidth": 0,
              "ticks": ""
             }
            },
            "type": "scatterternary"
           }
          ],
          "surface": [
           {
            "colorbar": {
             "outlinewidth": 0,
             "ticks": ""
            },
            "colorscale": [
             [
              0,
              "#0d0887"
             ],
             [
              0.1111111111111111,
              "#46039f"
             ],
             [
              0.2222222222222222,
              "#7201a8"
             ],
             [
              0.3333333333333333,
              "#9c179e"
             ],
             [
              0.4444444444444444,
              "#bd3786"
             ],
             [
              0.5555555555555556,
              "#d8576b"
             ],
             [
              0.6666666666666666,
              "#ed7953"
             ],
             [
              0.7777777777777778,
              "#fb9f3a"
             ],
             [
              0.8888888888888888,
              "#fdca26"
             ],
             [
              1,
              "#f0f921"
             ]
            ],
            "type": "surface"
           }
          ],
          "table": [
           {
            "cells": {
             "fill": {
              "color": "#EBF0F8"
             },
             "line": {
              "color": "white"
             }
            },
            "header": {
             "fill": {
              "color": "#C8D4E3"
             },
             "line": {
              "color": "white"
             }
            },
            "type": "table"
           }
          ]
         },
         "layout": {
          "annotationdefaults": {
           "arrowcolor": "#2a3f5f",
           "arrowhead": 0,
           "arrowwidth": 1
          },
          "autotypenumbers": "strict",
          "coloraxis": {
           "colorbar": {
            "outlinewidth": 0,
            "ticks": ""
           }
          },
          "colorscale": {
           "diverging": [
            [
             0,
             "#8e0152"
            ],
            [
             0.1,
             "#c51b7d"
            ],
            [
             0.2,
             "#de77ae"
            ],
            [
             0.3,
             "#f1b6da"
            ],
            [
             0.4,
             "#fde0ef"
            ],
            [
             0.5,
             "#f7f7f7"
            ],
            [
             0.6,
             "#e6f5d0"
            ],
            [
             0.7,
             "#b8e186"
            ],
            [
             0.8,
             "#7fbc41"
            ],
            [
             0.9,
             "#4d9221"
            ],
            [
             1,
             "#276419"
            ]
           ],
           "sequential": [
            [
             0,
             "#0d0887"
            ],
            [
             0.1111111111111111,
             "#46039f"
            ],
            [
             0.2222222222222222,
             "#7201a8"
            ],
            [
             0.3333333333333333,
             "#9c179e"
            ],
            [
             0.4444444444444444,
             "#bd3786"
            ],
            [
             0.5555555555555556,
             "#d8576b"
            ],
            [
             0.6666666666666666,
             "#ed7953"
            ],
            [
             0.7777777777777778,
             "#fb9f3a"
            ],
            [
             0.8888888888888888,
             "#fdca26"
            ],
            [
             1,
             "#f0f921"
            ]
           ],
           "sequentialminus": [
            [
             0,
             "#0d0887"
            ],
            [
             0.1111111111111111,
             "#46039f"
            ],
            [
             0.2222222222222222,
             "#7201a8"
            ],
            [
             0.3333333333333333,
             "#9c179e"
            ],
            [
             0.4444444444444444,
             "#bd3786"
            ],
            [
             0.5555555555555556,
             "#d8576b"
            ],
            [
             0.6666666666666666,
             "#ed7953"
            ],
            [
             0.7777777777777778,
             "#fb9f3a"
            ],
            [
             0.8888888888888888,
             "#fdca26"
            ],
            [
             1,
             "#f0f921"
            ]
           ]
          },
          "colorway": [
           "#636efa",
           "#EF553B",
           "#00cc96",
           "#ab63fa",
           "#FFA15A",
           "#19d3f3",
           "#FF6692",
           "#B6E880",
           "#FF97FF",
           "#FECB52"
          ],
          "font": {
           "color": "#2a3f5f"
          },
          "geo": {
           "bgcolor": "white",
           "lakecolor": "white",
           "landcolor": "#E5ECF6",
           "showlakes": true,
           "showland": true,
           "subunitcolor": "white"
          },
          "hoverlabel": {
           "align": "left"
          },
          "hovermode": "closest",
          "mapbox": {
           "style": "light"
          },
          "paper_bgcolor": "white",
          "plot_bgcolor": "#E5ECF6",
          "polar": {
           "angularaxis": {
            "gridcolor": "white",
            "linecolor": "white",
            "ticks": ""
           },
           "bgcolor": "#E5ECF6",
           "radialaxis": {
            "gridcolor": "white",
            "linecolor": "white",
            "ticks": ""
           }
          },
          "scene": {
           "xaxis": {
            "backgroundcolor": "#E5ECF6",
            "gridcolor": "white",
            "gridwidth": 2,
            "linecolor": "white",
            "showbackground": true,
            "ticks": "",
            "zerolinecolor": "white"
           },
           "yaxis": {
            "backgroundcolor": "#E5ECF6",
            "gridcolor": "white",
            "gridwidth": 2,
            "linecolor": "white",
            "showbackground": true,
            "ticks": "",
            "zerolinecolor": "white"
           },
           "zaxis": {
            "backgroundcolor": "#E5ECF6",
            "gridcolor": "white",
            "gridwidth": 2,
            "linecolor": "white",
            "showbackground": true,
            "ticks": "",
            "zerolinecolor": "white"
           }
          },
          "shapedefaults": {
           "line": {
            "color": "#2a3f5f"
           }
          },
          "ternary": {
           "aaxis": {
            "gridcolor": "white",
            "linecolor": "white",
            "ticks": ""
           },
           "baxis": {
            "gridcolor": "white",
            "linecolor": "white",
            "ticks": ""
           },
           "bgcolor": "#E5ECF6",
           "caxis": {
            "gridcolor": "white",
            "linecolor": "white",
            "ticks": ""
           }
          },
          "title": {
           "x": 0.05
          },
          "xaxis": {
           "automargin": true,
           "gridcolor": "white",
           "linecolor": "white",
           "ticks": "",
           "title": {
            "standoff": 15
           },
           "zerolinecolor": "white",
           "zerolinewidth": 2
          },
          "yaxis": {
           "automargin": true,
           "gridcolor": "white",
           "linecolor": "white",
           "ticks": "",
           "title": {
            "standoff": 15
           },
           "zerolinecolor": "white",
           "zerolinewidth": 2
          }
         }
        },
        "title": {
         "text": "Investment per total yearly energy costs"
        },
        "xaxis": {
         "anchor": "y",
         "domain": [
          0,
          1
         ],
         "range": [
          0,
          100
         ],
         "title": {
          "text": "Ratio in %"
         }
        },
        "yaxis": {
         "anchor": "x",
         "domain": [
          0,
          1
         ]
        }
       }
      }
     },
     "metadata": {},
     "output_type": "display_data"
    }
   ],
   "source": [
    "fig_df = storage.copy() * 100\n",
    "fig = px.box(fig_df, \"invest_per_tac\", title=\"Investment per total yearly energy costs\")\n",
    "fig.update_xaxes(range=[0, 100], title=\"Ratio in %\")"
   ]
  },
  {
   "cell_type": "markdown",
   "id": "f47c96ad",
   "metadata": {},
   "source": [
    "# Comparison"
   ]
  },
  {
   "cell_type": "code",
   "execution_count": 11,
   "id": "a7978fe8",
   "metadata": {},
   "outputs": [
    {
     "data": {
      "text/html": [
       "<div>\n",
       "<style scoped>\n",
       "    .dataframe tbody tr th:only-of-type {\n",
       "        vertical-align: middle;\n",
       "    }\n",
       "\n",
       "    .dataframe tbody tr th {\n",
       "        vertical-align: top;\n",
       "    }\n",
       "\n",
       "    .dataframe thead th {\n",
       "        text-align: right;\n",
       "    }\n",
       "</style>\n",
       "<table border=\"1\" class=\"dataframe\">\n",
       "  <thead>\n",
       "    <tr style=\"text-align: right;\">\n",
       "      <th></th>\n",
       "      <th>energy_costs_eur</th>\n",
       "      <th>grid_capacity_costs_eur</th>\n",
       "      <th>grid_capacity_kw</th>\n",
       "      <th>grid_energy_costs_eur</th>\n",
       "      <th>inverter_annuity_eur</th>\n",
       "      <th>inverter_capacity_kw</th>\n",
       "      <th>inverter_invest_eur</th>\n",
       "      <th>invest_per_tac</th>\n",
       "      <th>solar_annuity_eur</th>\n",
       "      <th>solar_capacity_kwp</th>\n",
       "      <th>solar_invest_eur</th>\n",
       "      <th>storage_annuity_eur</th>\n",
       "      <th>storage_capacity_kwh</th>\n",
       "      <th>storage_invest_eur</th>\n",
       "      <th>total_annuity_eur</th>\n",
       "      <th>total_invest_eur</th>\n",
       "      <th>total_yearly_costs_eur</th>\n",
       "    </tr>\n",
       "    <tr>\n",
       "      <th>id</th>\n",
       "      <th></th>\n",
       "      <th></th>\n",
       "      <th></th>\n",
       "      <th></th>\n",
       "      <th></th>\n",
       "      <th></th>\n",
       "      <th></th>\n",
       "      <th></th>\n",
       "      <th></th>\n",
       "      <th></th>\n",
       "      <th></th>\n",
       "      <th></th>\n",
       "      <th></th>\n",
       "      <th></th>\n",
       "      <th></th>\n",
       "      <th></th>\n",
       "      <th></th>\n",
       "    </tr>\n",
       "  </thead>\n",
       "  <tbody>\n",
       "    <tr>\n",
       "      <th>0</th>\n",
       "      <td>2791.373626</td>\n",
       "      <td>0.0</td>\n",
       "      <td>0.0</td>\n",
       "      <td>741.961997</td>\n",
       "      <td>0.0</td>\n",
       "      <td>0.0</td>\n",
       "      <td>0.0</td>\n",
       "      <td>NaN</td>\n",
       "      <td>0.0</td>\n",
       "      <td>0.0</td>\n",
       "      <td>0.0</td>\n",
       "      <td>0.0</td>\n",
       "      <td>0.0</td>\n",
       "      <td>0.0</td>\n",
       "      <td>0.0</td>\n",
       "      <td>0.0</td>\n",
       "      <td>3533.335623</td>\n",
       "    </tr>\n",
       "    <tr>\n",
       "      <th>4</th>\n",
       "      <td>7972.489180</td>\n",
       "      <td>0.0</td>\n",
       "      <td>0.0</td>\n",
       "      <td>2415.472882</td>\n",
       "      <td>0.0</td>\n",
       "      <td>0.0</td>\n",
       "      <td>0.0</td>\n",
       "      <td>NaN</td>\n",
       "      <td>0.0</td>\n",
       "      <td>0.0</td>\n",
       "      <td>0.0</td>\n",
       "      <td>0.0</td>\n",
       "      <td>0.0</td>\n",
       "      <td>0.0</td>\n",
       "      <td>0.0</td>\n",
       "      <td>0.0</td>\n",
       "      <td>10387.962062</td>\n",
       "    </tr>\n",
       "    <tr>\n",
       "      <th>5</th>\n",
       "      <td>764.398525</td>\n",
       "      <td>0.0</td>\n",
       "      <td>0.0</td>\n",
       "      <td>163.509940</td>\n",
       "      <td>0.0</td>\n",
       "      <td>0.0</td>\n",
       "      <td>0.0</td>\n",
       "      <td>NaN</td>\n",
       "      <td>0.0</td>\n",
       "      <td>0.0</td>\n",
       "      <td>0.0</td>\n",
       "      <td>0.0</td>\n",
       "      <td>0.0</td>\n",
       "      <td>0.0</td>\n",
       "      <td>0.0</td>\n",
       "      <td>0.0</td>\n",
       "      <td>927.908465</td>\n",
       "    </tr>\n",
       "    <tr>\n",
       "      <th>6</th>\n",
       "      <td>6129.463279</td>\n",
       "      <td>0.0</td>\n",
       "      <td>0.0</td>\n",
       "      <td>1551.865686</td>\n",
       "      <td>0.0</td>\n",
       "      <td>0.0</td>\n",
       "      <td>0.0</td>\n",
       "      <td>NaN</td>\n",
       "      <td>0.0</td>\n",
       "      <td>0.0</td>\n",
       "      <td>0.0</td>\n",
       "      <td>0.0</td>\n",
       "      <td>0.0</td>\n",
       "      <td>0.0</td>\n",
       "      <td>0.0</td>\n",
       "      <td>0.0</td>\n",
       "      <td>7681.328964</td>\n",
       "    </tr>\n",
       "    <tr>\n",
       "      <th>7</th>\n",
       "      <td>292.513185</td>\n",
       "      <td>0.0</td>\n",
       "      <td>0.0</td>\n",
       "      <td>67.699252</td>\n",
       "      <td>0.0</td>\n",
       "      <td>0.0</td>\n",
       "      <td>0.0</td>\n",
       "      <td>NaN</td>\n",
       "      <td>0.0</td>\n",
       "      <td>0.0</td>\n",
       "      <td>0.0</td>\n",
       "      <td>0.0</td>\n",
       "      <td>0.0</td>\n",
       "      <td>0.0</td>\n",
       "      <td>0.0</td>\n",
       "      <td>0.0</td>\n",
       "      <td>360.212437</td>\n",
       "    </tr>\n",
       "  </tbody>\n",
       "</table>\n",
       "</div>"
      ],
      "text/plain": [
       "    energy_costs_eur  grid_capacity_costs_eur  grid_capacity_kw  \\\n",
       "id                                                                \n",
       "0        2791.373626                      0.0               0.0   \n",
       "4        7972.489180                      0.0               0.0   \n",
       "5         764.398525                      0.0               0.0   \n",
       "6        6129.463279                      0.0               0.0   \n",
       "7         292.513185                      0.0               0.0   \n",
       "\n",
       "    grid_energy_costs_eur  inverter_annuity_eur  inverter_capacity_kw  \\\n",
       "id                                                                      \n",
       "0              741.961997                   0.0                   0.0   \n",
       "4             2415.472882                   0.0                   0.0   \n",
       "5              163.509940                   0.0                   0.0   \n",
       "6             1551.865686                   0.0                   0.0   \n",
       "7               67.699252                   0.0                   0.0   \n",
       "\n",
       "    inverter_invest_eur  invest_per_tac  solar_annuity_eur  \\\n",
       "id                                                           \n",
       "0                   0.0             NaN                0.0   \n",
       "4                   0.0             NaN                0.0   \n",
       "5                   0.0             NaN                0.0   \n",
       "6                   0.0             NaN                0.0   \n",
       "7                   0.0             NaN                0.0   \n",
       "\n",
       "    solar_capacity_kwp  solar_invest_eur  storage_annuity_eur  \\\n",
       "id                                                              \n",
       "0                  0.0               0.0                  0.0   \n",
       "4                  0.0               0.0                  0.0   \n",
       "5                  0.0               0.0                  0.0   \n",
       "6                  0.0               0.0                  0.0   \n",
       "7                  0.0               0.0                  0.0   \n",
       "\n",
       "    storage_capacity_kwh  storage_invest_eur  total_annuity_eur  \\\n",
       "id                                                                \n",
       "0                    0.0                 0.0                0.0   \n",
       "4                    0.0                 0.0                0.0   \n",
       "5                    0.0                 0.0                0.0   \n",
       "6                    0.0                 0.0                0.0   \n",
       "7                    0.0                 0.0                0.0   \n",
       "\n",
       "    total_invest_eur  total_yearly_costs_eur  \n",
       "id                                            \n",
       "0                0.0             3533.335623  \n",
       "4                0.0            10387.962062  \n",
       "5                0.0              927.908465  \n",
       "6                0.0             7681.328964  \n",
       "7                0.0              360.212437  "
      ]
     },
     "execution_count": 11,
     "metadata": {},
     "output_type": "execute_result"
    }
   ],
   "source": [
    "abs_diff = baseline.drop(columns=\"name\") - storage.drop(columns=\"name\")\n",
    "\n",
    "# drop those that could not be optimized\n",
    "abs_diff.dropna(subset=\"total_yearly_costs_eur\", inplace=True)\n",
    "\n",
    "abs_diff.head()"
   ]
  },
  {
   "cell_type": "code",
   "execution_count": 12,
   "id": "4e240a74",
   "metadata": {},
   "outputs": [],
   "source": [
    "# merge savings onto master (with features)\n",
    "abs_diff_with_master = pd.merge(left=abs_diff, right=master, how=\"left\", left_index=True, right_index=True)\n",
    "abs_diff_with_master.head()\n",
    "\n",
    "abs_diff_with_master[\"std_by_mean\"] = abs_diff_with_master[\"std_kw\"] / abs_diff_with_master[\"mean_load_kw\"]\n",
    "abs_diff_with_master[\"std_by_peak\"] = abs_diff_with_master[\"std_kw\"] / abs_diff_with_master[\"peak_load_kw\"]\n",
    "abs_diff_with_master[\"peak_by_mean\"] = abs_diff_with_master[\"peak_load_kw\"] / abs_diff_with_master[\"mean_load_kw\"]"
   ]
  },
  {
   "cell_type": "code",
   "execution_count": 13,
   "id": "218800a1",
   "metadata": {},
   "outputs": [
    {
     "data": {
      "text/html": [
       "<div>\n",
       "<style scoped>\n",
       "    .dataframe tbody tr th:only-of-type {\n",
       "        vertical-align: middle;\n",
       "    }\n",
       "\n",
       "    .dataframe tbody tr th {\n",
       "        vertical-align: top;\n",
       "    }\n",
       "\n",
       "    .dataframe thead th {\n",
       "        text-align: right;\n",
       "    }\n",
       "</style>\n",
       "<table border=\"1\" class=\"dataframe\">\n",
       "  <thead>\n",
       "    <tr style=\"text-align: right;\">\n",
       "      <th></th>\n",
       "      <th>energy_costs_eur</th>\n",
       "      <th>grid_capacity_costs_eur</th>\n",
       "      <th>grid_capacity_kw</th>\n",
       "      <th>grid_energy_costs_eur</th>\n",
       "      <th>inverter_annuity_eur</th>\n",
       "      <th>inverter_capacity_kw</th>\n",
       "      <th>inverter_invest_eur</th>\n",
       "      <th>invest_per_tac</th>\n",
       "      <th>solar_annuity_eur</th>\n",
       "      <th>solar_capacity_kwp</th>\n",
       "      <th>solar_invest_eur</th>\n",
       "      <th>storage_annuity_eur</th>\n",
       "      <th>storage_capacity_kwh</th>\n",
       "      <th>storage_invest_eur</th>\n",
       "      <th>total_annuity_eur</th>\n",
       "      <th>total_invest_eur</th>\n",
       "      <th>total_yearly_costs_eur</th>\n",
       "    </tr>\n",
       "    <tr>\n",
       "      <th>id</th>\n",
       "      <th></th>\n",
       "      <th></th>\n",
       "      <th></th>\n",
       "      <th></th>\n",
       "      <th></th>\n",
       "      <th></th>\n",
       "      <th></th>\n",
       "      <th></th>\n",
       "      <th></th>\n",
       "      <th></th>\n",
       "      <th></th>\n",
       "      <th></th>\n",
       "      <th></th>\n",
       "      <th></th>\n",
       "      <th></th>\n",
       "      <th></th>\n",
       "      <th></th>\n",
       "    </tr>\n",
       "  </thead>\n",
       "  <tbody>\n",
       "    <tr>\n",
       "      <th>0</th>\n",
       "      <td>0.002732</td>\n",
       "      <td>0.00000</td>\n",
       "      <td>0.00000</td>\n",
       "      <td>0.002732</td>\n",
       "      <td>NaN</td>\n",
       "      <td>NaN</td>\n",
       "      <td>NaN</td>\n",
       "      <td>NaN</td>\n",
       "      <td>NaN</td>\n",
       "      <td>NaN</td>\n",
       "      <td>NaN</td>\n",
       "      <td>NaN</td>\n",
       "      <td>NaN</td>\n",
       "      <td>NaN</td>\n",
       "      <td>NaN</td>\n",
       "      <td>NaN</td>\n",
       "      <td>0.002648</td>\n",
       "    </tr>\n",
       "    <tr>\n",
       "      <th>4</th>\n",
       "      <td>0.002732</td>\n",
       "      <td>0.00000</td>\n",
       "      <td>0.00000</td>\n",
       "      <td>0.002732</td>\n",
       "      <td>NaN</td>\n",
       "      <td>NaN</td>\n",
       "      <td>NaN</td>\n",
       "      <td>NaN</td>\n",
       "      <td>NaN</td>\n",
       "      <td>NaN</td>\n",
       "      <td>NaN</td>\n",
       "      <td>NaN</td>\n",
       "      <td>NaN</td>\n",
       "      <td>NaN</td>\n",
       "      <td>NaN</td>\n",
       "      <td>NaN</td>\n",
       "      <td>0.002693</td>\n",
       "    </tr>\n",
       "    <tr>\n",
       "      <th>5</th>\n",
       "      <td>0.002732</td>\n",
       "      <td>0.00000</td>\n",
       "      <td>0.00000</td>\n",
       "      <td>0.002732</td>\n",
       "      <td>NaN</td>\n",
       "      <td>NaN</td>\n",
       "      <td>NaN</td>\n",
       "      <td>NaN</td>\n",
       "      <td>NaN</td>\n",
       "      <td>NaN</td>\n",
       "      <td>NaN</td>\n",
       "      <td>NaN</td>\n",
       "      <td>NaN</td>\n",
       "      <td>NaN</td>\n",
       "      <td>NaN</td>\n",
       "      <td>NaN</td>\n",
       "      <td>0.002668</td>\n",
       "    </tr>\n",
       "    <tr>\n",
       "      <th>6</th>\n",
       "      <td>0.002732</td>\n",
       "      <td>0.00000</td>\n",
       "      <td>0.00000</td>\n",
       "      <td>0.002732</td>\n",
       "      <td>NaN</td>\n",
       "      <td>NaN</td>\n",
       "      <td>NaN</td>\n",
       "      <td>NaN</td>\n",
       "      <td>NaN</td>\n",
       "      <td>NaN</td>\n",
       "      <td>NaN</td>\n",
       "      <td>NaN</td>\n",
       "      <td>NaN</td>\n",
       "      <td>NaN</td>\n",
       "      <td>NaN</td>\n",
       "      <td>NaN</td>\n",
       "      <td>0.002698</td>\n",
       "    </tr>\n",
       "    <tr>\n",
       "      <th>7</th>\n",
       "      <td>0.002732</td>\n",
       "      <td>0.00000</td>\n",
       "      <td>0.00000</td>\n",
       "      <td>0.002732</td>\n",
       "      <td>NaN</td>\n",
       "      <td>NaN</td>\n",
       "      <td>NaN</td>\n",
       "      <td>NaN</td>\n",
       "      <td>NaN</td>\n",
       "      <td>NaN</td>\n",
       "      <td>NaN</td>\n",
       "      <td>NaN</td>\n",
       "      <td>NaN</td>\n",
       "      <td>NaN</td>\n",
       "      <td>NaN</td>\n",
       "      <td>NaN</td>\n",
       "      <td>0.002679</td>\n",
       "    </tr>\n",
       "    <tr>\n",
       "      <th>...</th>\n",
       "      <td>...</td>\n",
       "      <td>...</td>\n",
       "      <td>...</td>\n",
       "      <td>...</td>\n",
       "      <td>...</td>\n",
       "      <td>...</td>\n",
       "      <td>...</td>\n",
       "      <td>...</td>\n",
       "      <td>...</td>\n",
       "      <td>...</td>\n",
       "      <td>...</td>\n",
       "      <td>...</td>\n",
       "      <td>...</td>\n",
       "      <td>...</td>\n",
       "      <td>...</td>\n",
       "      <td>...</td>\n",
       "      <td>...</td>\n",
       "    </tr>\n",
       "    <tr>\n",
       "      <th>5351</th>\n",
       "      <td>0.002732</td>\n",
       "      <td>0.00000</td>\n",
       "      <td>0.00000</td>\n",
       "      <td>0.002732</td>\n",
       "      <td>NaN</td>\n",
       "      <td>NaN</td>\n",
       "      <td>NaN</td>\n",
       "      <td>NaN</td>\n",
       "      <td>NaN</td>\n",
       "      <td>NaN</td>\n",
       "      <td>NaN</td>\n",
       "      <td>NaN</td>\n",
       "      <td>NaN</td>\n",
       "      <td>NaN</td>\n",
       "      <td>NaN</td>\n",
       "      <td>NaN</td>\n",
       "      <td>0.002685</td>\n",
       "    </tr>\n",
       "    <tr>\n",
       "      <th>5352</th>\n",
       "      <td>0.002732</td>\n",
       "      <td>0.00000</td>\n",
       "      <td>0.00000</td>\n",
       "      <td>0.002732</td>\n",
       "      <td>NaN</td>\n",
       "      <td>NaN</td>\n",
       "      <td>NaN</td>\n",
       "      <td>NaN</td>\n",
       "      <td>NaN</td>\n",
       "      <td>NaN</td>\n",
       "      <td>NaN</td>\n",
       "      <td>NaN</td>\n",
       "      <td>NaN</td>\n",
       "      <td>NaN</td>\n",
       "      <td>NaN</td>\n",
       "      <td>NaN</td>\n",
       "      <td>0.002702</td>\n",
       "    </tr>\n",
       "    <tr>\n",
       "      <th>5354</th>\n",
       "      <td>0.002732</td>\n",
       "      <td>0.00000</td>\n",
       "      <td>0.00000</td>\n",
       "      <td>0.002732</td>\n",
       "      <td>NaN</td>\n",
       "      <td>NaN</td>\n",
       "      <td>NaN</td>\n",
       "      <td>NaN</td>\n",
       "      <td>NaN</td>\n",
       "      <td>NaN</td>\n",
       "      <td>NaN</td>\n",
       "      <td>NaN</td>\n",
       "      <td>NaN</td>\n",
       "      <td>NaN</td>\n",
       "      <td>NaN</td>\n",
       "      <td>NaN</td>\n",
       "      <td>0.002704</td>\n",
       "    </tr>\n",
       "    <tr>\n",
       "      <th>5355</th>\n",
       "      <td>0.002730</td>\n",
       "      <td>0.03783</td>\n",
       "      <td>0.03783</td>\n",
       "      <td>0.002730</td>\n",
       "      <td>-inf</td>\n",
       "      <td>-inf</td>\n",
       "      <td>-inf</td>\n",
       "      <td>NaN</td>\n",
       "      <td>NaN</td>\n",
       "      <td>NaN</td>\n",
       "      <td>NaN</td>\n",
       "      <td>-inf</td>\n",
       "      <td>-inf</td>\n",
       "      <td>-inf</td>\n",
       "      <td>-inf</td>\n",
       "      <td>-inf</td>\n",
       "      <td>0.003182</td>\n",
       "    </tr>\n",
       "    <tr>\n",
       "      <th>5356</th>\n",
       "      <td>0.002732</td>\n",
       "      <td>0.00000</td>\n",
       "      <td>0.00000</td>\n",
       "      <td>0.002732</td>\n",
       "      <td>NaN</td>\n",
       "      <td>NaN</td>\n",
       "      <td>NaN</td>\n",
       "      <td>NaN</td>\n",
       "      <td>NaN</td>\n",
       "      <td>NaN</td>\n",
       "      <td>NaN</td>\n",
       "      <td>NaN</td>\n",
       "      <td>NaN</td>\n",
       "      <td>NaN</td>\n",
       "      <td>NaN</td>\n",
       "      <td>NaN</td>\n",
       "      <td>0.002710</td>\n",
       "    </tr>\n",
       "  </tbody>\n",
       "</table>\n",
       "<p>3644 rows × 17 columns</p>\n",
       "</div>"
      ],
      "text/plain": [
       "      energy_costs_eur  grid_capacity_costs_eur  grid_capacity_kw  \\\n",
       "id                                                                  \n",
       "0             0.002732                  0.00000           0.00000   \n",
       "4             0.002732                  0.00000           0.00000   \n",
       "5             0.002732                  0.00000           0.00000   \n",
       "6             0.002732                  0.00000           0.00000   \n",
       "7             0.002732                  0.00000           0.00000   \n",
       "...                ...                      ...               ...   \n",
       "5351          0.002732                  0.00000           0.00000   \n",
       "5352          0.002732                  0.00000           0.00000   \n",
       "5354          0.002732                  0.00000           0.00000   \n",
       "5355          0.002730                  0.03783           0.03783   \n",
       "5356          0.002732                  0.00000           0.00000   \n",
       "\n",
       "      grid_energy_costs_eur  inverter_annuity_eur  inverter_capacity_kw  \\\n",
       "id                                                                        \n",
       "0                  0.002732                   NaN                   NaN   \n",
       "4                  0.002732                   NaN                   NaN   \n",
       "5                  0.002732                   NaN                   NaN   \n",
       "6                  0.002732                   NaN                   NaN   \n",
       "7                  0.002732                   NaN                   NaN   \n",
       "...                     ...                   ...                   ...   \n",
       "5351               0.002732                   NaN                   NaN   \n",
       "5352               0.002732                   NaN                   NaN   \n",
       "5354               0.002732                   NaN                   NaN   \n",
       "5355               0.002730                  -inf                  -inf   \n",
       "5356               0.002732                   NaN                   NaN   \n",
       "\n",
       "      inverter_invest_eur  invest_per_tac  solar_annuity_eur  \\\n",
       "id                                                             \n",
       "0                     NaN             NaN                NaN   \n",
       "4                     NaN             NaN                NaN   \n",
       "5                     NaN             NaN                NaN   \n",
       "6                     NaN             NaN                NaN   \n",
       "7                     NaN             NaN                NaN   \n",
       "...                   ...             ...                ...   \n",
       "5351                  NaN             NaN                NaN   \n",
       "5352                  NaN             NaN                NaN   \n",
       "5354                  NaN             NaN                NaN   \n",
       "5355                 -inf             NaN                NaN   \n",
       "5356                  NaN             NaN                NaN   \n",
       "\n",
       "      solar_capacity_kwp  solar_invest_eur  storage_annuity_eur  \\\n",
       "id                                                                \n",
       "0                    NaN               NaN                  NaN   \n",
       "4                    NaN               NaN                  NaN   \n",
       "5                    NaN               NaN                  NaN   \n",
       "6                    NaN               NaN                  NaN   \n",
       "7                    NaN               NaN                  NaN   \n",
       "...                  ...               ...                  ...   \n",
       "5351                 NaN               NaN                  NaN   \n",
       "5352                 NaN               NaN                  NaN   \n",
       "5354                 NaN               NaN                  NaN   \n",
       "5355                 NaN               NaN                 -inf   \n",
       "5356                 NaN               NaN                  NaN   \n",
       "\n",
       "      storage_capacity_kwh  storage_invest_eur  total_annuity_eur  \\\n",
       "id                                                                  \n",
       "0                      NaN                 NaN                NaN   \n",
       "4                      NaN                 NaN                NaN   \n",
       "5                      NaN                 NaN                NaN   \n",
       "6                      NaN                 NaN                NaN   \n",
       "7                      NaN                 NaN                NaN   \n",
       "...                    ...                 ...                ...   \n",
       "5351                   NaN                 NaN                NaN   \n",
       "5352                   NaN                 NaN                NaN   \n",
       "5354                   NaN                 NaN                NaN   \n",
       "5355                  -inf                -inf               -inf   \n",
       "5356                   NaN                 NaN                NaN   \n",
       "\n",
       "      total_invest_eur  total_yearly_costs_eur  \n",
       "id                                              \n",
       "0                  NaN                0.002648  \n",
       "4                  NaN                0.002693  \n",
       "5                  NaN                0.002668  \n",
       "6                  NaN                0.002698  \n",
       "7                  NaN                0.002679  \n",
       "...                ...                     ...  \n",
       "5351               NaN                0.002685  \n",
       "5352               NaN                0.002702  \n",
       "5354               NaN                0.002704  \n",
       "5355              -inf                0.003182  \n",
       "5356               NaN                0.002710  \n",
       "\n",
       "[3644 rows x 17 columns]"
      ]
     },
     "execution_count": 13,
     "metadata": {},
     "output_type": "execute_result"
    }
   ],
   "source": [
    "rel_diff = (baseline.drop(columns=\"name\") - storage.drop(columns=\"name\")) / baseline.drop(columns=\"name\")\n",
    "\n",
    "# drop those that could not be optimized\n",
    "rel_diff.dropna(subset=\"total_yearly_costs_eur\", inplace=True)\n",
    "\n",
    "rel_diff"
   ]
  },
  {
   "cell_type": "code",
   "execution_count": 14,
   "id": "407c5343",
   "metadata": {},
   "outputs": [],
   "source": [
    "# merge savings onto master (with features)\n",
    "rel_diff_with_master = pd.merge(left=rel_diff, right=master, how=\"left\", left_index=True, right_index=True)\n",
    "rel_diff_with_master.head()\n",
    "\n",
    "rel_diff_with_master[\"std_by_mean\"] = rel_diff_with_master[\"std_kw\"] / rel_diff_with_master[\"mean_load_kw\"]\n",
    "rel_diff_with_master[\"std_by_peak\"] = rel_diff_with_master[\"std_kw\"] / rel_diff_with_master[\"peak_load_kw\"]\n",
    "rel_diff_with_master[\"peak_by_mean\"] = rel_diff_with_master[\"peak_load_kw\"] / rel_diff_with_master[\"mean_load_kw\"]"
   ]
  },
  {
   "cell_type": "markdown",
   "id": "c69b0e26",
   "metadata": {},
   "source": [
    "## Total savings"
   ]
  },
  {
   "cell_type": "code",
   "execution_count": 15,
   "id": "a0440903",
   "metadata": {},
   "outputs": [
    {
     "name": "stdout",
     "output_type": "stream",
     "text": [
      "|      |   Total yearly savings in eur |\n",
      "|:-----|------------------------------:|\n",
      "| mean |                    2699.66    |\n",
      "| std  |                    5893.71    |\n",
      "| min  |                       3.70576 |\n",
      "| 25%  |                     362.838   |\n",
      "| 50%  |                    1009.17    |\n",
      "| 75%  |                    2706.51    |\n",
      "| max  |                  120014       |\n"
     ]
    },
    {
     "data": {
      "application/vnd.plotly.v1+json": {
       "config": {
        "plotlyServerURL": "https://plot.ly"
       },
       "data": [
        {
         "alignmentgroup": "True",
         "hovertemplate": "value=%{x}<br>variable=%{y}<extra></extra>",
         "legendgroup": "",
         "marker": {
          "color": "#636efa"
         },
         "name": "",
         "notched": false,
         "offsetgroup": "",
         "orientation": "h",
         "showlegend": false,
         "type": "box",
         "x": {
          "bdata": "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",
          "dtype": "f8"
         },
         "x0": " ",
         "xaxis": "x",
         "y": [
          "Savings",
          "Savings",
          "Savings",
          "Savings",
          "Savings",
          "Savings",
          "Savings",
          "Savings",
          "Savings",
          "Savings",
          "Savings",
          "Savings",
          "Savings",
          "Savings",
          "Savings",
          "Savings",
          "Savings",
          "Savings",
          "Savings",
          "Savings",
          "Savings",
          "Savings",
          "Savings",
          "Savings",
          "Savings",
          "Savings",
          "Savings",
          "Savings",
          "Savings",
          "Savings",
          "Savings",
          "Savings",
          "Savings",
          "Savings",
          "Savings",
          "Savings",
          "Savings",
          "Savings",
          "Savings",
          "Savings",
          "Savings",
          "Savings",
          "Savings",
          "Savings",
          "Savings",
          "Savings",
          "Savings",
          "Savings",
          "Savings",
          "Savings",
          "Savings",
          "Savings",
          "Savings",
          "Savings",
          "Savings",
          "Savings",
          "Savings",
          "Savings",
          "Savings",
          "Savings",
          "Savings",
          "Savings",
          "Savings",
          "Savings",
          "Savings",
          "Savings",
          "Savings",
          "Savings",
          "Savings",
          "Savings",
          "Savings",
          "Savings",
          "Savings",
          "Savings",
          "Savings",
          "Savings",
          "Savings",
          "Savings",
          "Savings",
          "Savings",
          "Savings",
          "Savings",
          "Savings",
          "Savings",
          "Savings",
          "Savings",
          "Savings",
          "Savings",
          "Savings",
          "Savings",
          "Savings",
          "Savings",
          "Savings",
          "Savings",
          "Savings",
          "Savings",
          "Savings",
          "Savings",
          "Savings",
          "Savings",
          "Savings",
          "Savings",
          "Savings",
          "Savings",
          "Savings",
          "Savings",
          "Savings",
          "Savings",
          "Savings",
          "Savings",
          "Savings",
          "Savings",
          "Savings",
          "Savings",
          "Savings",
          "Savings",
          "Savings",
          "Savings",
          "Savings",
          "Savings",
          "Savings",
          "Savings",
          "Savings",
          "Savings",
          "Savings",
          "Savings",
          "Savings",
          "Savings",
          "Savings",
          "Savings",
          "Savings",
          "Savings",
          "Savings",
          "Savings",
          "Savings",
          "Savings",
          "Savings",
          "Savings",
          "Savings",
          "Savings",
          "Savings",
          "Savings",
          "Savings",
          "Savings",
          "Savings",
          "Savings",
          "Savings",
          "Savings",
          "Savings",
          "Savings",
          "Savings",
          "Savings",
          "Savings",
          "Savings",
          "Savings",
          "Savings",
          "Savings",
          "Savings",
          "Savings",
          "Savings",
          "Savings",
          "Savings",
          "Savings",
          "Savings",
          "Savings",
          "Savings",
          "Savings",
          "Savings",
          "Savings",
          "Savings",
          "Savings",
          "Savings",
          "Savings",
          "Savings",
          "Savings",
          "Savings",
          "Savings",
          "Savings",
          "Savings",
          "Savings",
          "Savings",
          "Savings",
          "Savings",
          "Savings",
          "Savings",
          "Savings",
          "Savings",
          "Savings",
          "Savings",
          "Savings",
          "Savings",
          "Savings",
          "Savings",
          "Savings",
          "Savings",
          "Savings",
          "Savings",
          "Savings",
          "Savings",
          "Savings",
          "Savings",
          "Savings",
          "Savings",
          "Savings",
          "Savings",
          "Savings",
          "Savings",
          "Savings",
          "Savings",
          "Savings",
          "Savings",
          "Savings",
          "Savings",
          "Savings",
          "Savings",
          "Savings",
          "Savings",
          "Savings",
          "Savings",
          "Savings",
          "Savings",
          "Savings",
          "Savings",
          "Savings",
          "Savings",
          "Savings",
          "Savings",
          "Savings",
          "Savings",
          "Savings",
          "Savings",
          "Savings",
          "Savings",
          "Savings",
          "Savings",
          "Savings",
          "Savings",
          "Savings",
          "Savings",
          "Savings",
          "Savings",
          "Savings",
          "Savings",
          "Savings",
          "Savings",
          "Savings",
          "Savings",
          "Savings",
          "Savings",
          "Savings",
          "Savings",
          "Savings",
          "Savings",
          "Savings",
          "Savings",
          "Savings",
          "Savings",
          "Savings",
          "Savings",
          "Savings",
          "Savings",
          "Savings",
          "Savings",
          "Savings",
          "Savings",
          "Savings",
          "Savings",
          "Savings",
          "Savings",
          "Savings",
          "Savings",
          "Savings",
          "Savings",
          "Savings",
          "Savings",
          "Savings",
          "Savings",
          "Savings",
          "Savings",
          "Savings",
          "Savings",
          "Savings",
          "Savings",
          "Savings",
          "Savings",
          "Savings",
          "Savings",
          "Savings",
          "Savings",
          "Savings",
          "Savings",
          "Savings",
          "Savings",
          "Savings",
          "Savings",
          "Savings",
          "Savings",
          "Savings",
          "Savings",
          "Savings",
          "Savings",
          "Savings",
          "Savings",
          "Savings",
          "Savings",
          "Savings",
          "Savings",
          "Savings",
          "Savings",
          "Savings",
          "Savings",
          "Savings",
          "Savings",
          "Savings",
          "Savings",
          "Savings",
          "Savings",
          "Savings",
          "Savings",
          "Savings",
          "Savings",
          "Savings",
          "Savings",
          "Savings",
          "Savings",
          "Savings",
          "Savings",
          "Savings",
          "Savings",
          "Savings",
          "Savings",
          "Savings",
          "Savings",
          "Savings",
          "Savings",
          "Savings",
          "Savings",
          "Savings",
          "Savings",
          "Savings",
          "Savings",
          "Savings",
          "Savings",
          "Savings",
          "Savings",
          "Savings",
          "Savings",
          "Savings",
          "Savings",
          "Savings",
          "Savings",
          "Savings",
          "Savings",
          "Savings",
          "Savings",
          "Savings",
          "Savings",
          "Savings",
          "Savings",
          "Savings",
          "Savings",
          "Savings",
          "Savings",
          "Savings",
          "Savings",
          "Savings",
          "Savings",
          "Savings",
          "Savings",
          "Savings",
          "Savings",
          "Savings",
          "Savings",
          "Savings",
          "Savings",
          "Savings",
          "Savings",
          "Savings",
          "Savings",
          "Savings",
          "Savings",
          "Savings",
          "Savings",
          "Savings",
          "Savings",
          "Savings",
          "Savings",
          "Savings",
          "Savings",
          "Savings",
          "Savings",
          "Savings",
          "Savings",
          "Savings",
          "Savings",
          "Savings",
          "Savings",
          "Savings",
          "Savings",
          "Savings",
          "Savings",
          "Savings",
          "Savings",
          "Savings",
          "Savings",
          "Savings",
          "Savings",
          "Savings",
          "Savings",
          "Savings",
          "Savings",
          "Savings",
          "Savings",
          "Savings",
          "Savings",
          "Savings",
          "Savings",
          "Savings",
          "Savings",
          "Savings",
          "Savings",
          "Savings",
          "Savings",
          "Savings",
          "Savings",
          "Savings",
          "Savings",
          "Savings",
          "Savings",
          "Savings",
          "Savings",
          "Savings",
          "Savings",
          "Savings",
          "Savings",
          "Savings",
          "Savings",
          "Savings",
          "Savings",
          "Savings",
          "Savings",
          "Savings",
          "Savings",
          "Savings",
          "Savings",
          "Savings",
          "Savings",
          "Savings",
          "Savings",
          "Savings",
          "Savings",
          "Savings",
          "Savings",
          "Savings",
          "Savings",
          "Savings",
          "Savings",
          "Savings",
          "Savings",
          "Savings",
          "Savings",
          "Savings",
          "Savings",
          "Savings",
          "Savings",
          "Savings",
          "Savings",
          "Savings",
          "Savings",
          "Savings",
          "Savings",
          "Savings",
          "Savings",
          "Savings",
          "Savings",
          "Savings",
          "Savings",
          "Savings",
          "Savings",
          "Savings",
          "Savings",
          "Savings",
          "Savings",
          "Savings",
          "Savings",
          "Savings",
          "Savings",
          "Savings",
          "Savings",
          "Savings",
          "Savings",
          "Savings",
          "Savings",
          "Savings",
          "Savings",
          "Savings",
          "Savings",
          "Savings",
          "Savings",
          "Savings",
          "Savings",
          "Savings",
          "Savings",
          "Savings",
          "Savings",
          "Savings",
          "Savings",
          "Savings",
          "Savings",
          "Savings",
          "Savings",
          "Savings",
          "Savings",
          "Savings",
          "Savings",
          "Savings",
          "Savings",
          "Savings",
          "Savings",
          "Savings",
          "Savings",
          "Savings",
          "Savings",
          "Savings",
          "Savings",
          "Savings",
          "Savings",
          "Savings",
          "Savings",
          "Savings",
          "Savings",
          "Savings",
          "Savings",
          "Savings",
          "Savings",
          "Savings",
          "Savings",
          "Savings",
          "Savings",
          "Savings",
          "Savings",
          "Savings",
          "Savings",
          "Savings",
          "Savings",
          "Savings",
          "Savings",
          "Savings",
          "Savings",
          "Savings",
          "Savings",
          "Savings",
          "Savings",
          "Savings",
          "Savings",
          "Savings",
          "Savings",
          "Savings",
          "Savings",
          "Savings",
          "Savings",
          "Savings",
          "Savings",
          "Savings",
          "Savings",
          "Savings",
          "Savings",
          "Savings",
          "Savings",
          "Savings",
          "Savings",
          "Savings",
          "Savings",
          "Savings",
          "Savings",
          "Savings",
          "Savings",
          "Savings",
          "Savings",
          "Savings",
          "Savings",
          "Savings",
          "Savings",
          "Savings",
          "Savings",
          "Savings",
          "Savings",
          "Savings",
          "Savings",
          "Savings",
          "Savings",
          "Savings",
          "Savings",
          "Savings",
          "Savings",
          "Savings",
          "Savings",
          "Savings",
          "Savings",
          "Savings",
          "Savings",
          "Savings",
          "Savings",
          "Savings",
          "Savings",
          "Savings",
          "Savings",
          "Savings",
          "Savings",
          "Savings",
          "Savings",
          "Savings",
          "Savings",
          "Savings",
          "Savings",
          "Savings",
          "Savings",
          "Savings",
          "Savings",
          "Savings",
          "Savings",
          "Savings",
          "Savings",
          "Savings",
          "Savings",
          "Savings",
          "Savings",
          "Savings",
          "Savings",
          "Savings",
          "Savings",
          "Savings",
          "Savings",
          "Savings",
          "Savings",
          "Savings",
          "Savings",
          "Savings",
          "Savings",
          "Savings",
          "Savings",
          "Savings",
          "Savings",
          "Savings",
          "Savings",
          "Savings",
          "Savings",
          "Savings",
          "Savings",
          "Savings",
          "Savings",
          "Savings",
          "Savings",
          "Savings",
          "Savings",
          "Savings",
          "Savings",
          "Savings",
          "Savings",
          "Savings",
          "Savings",
          "Savings",
          "Savings",
          "Savings",
          "Savings",
          "Savings",
          "Savings",
          "Savings",
          "Savings",
          "Savings",
          "Savings",
          "Savings",
          "Savings",
          "Savings",
          "Savings",
          "Savings",
          "Savings",
          "Savings",
          "Savings",
          "Savings",
          "Savings",
          "Savings",
          "Savings",
          "Savings",
          "Savings",
          "Savings",
          "Savings",
          "Savings",
          "Savings",
          "Savings",
          "Savings",
          "Savings",
          "Savings",
          "Savings",
          "Savings",
          "Savings",
          "Savings",
          "Savings",
          "Savings",
          "Savings",
          "Savings",
          "Savings",
          "Savings",
          "Savings",
          "Savings",
          "Savings",
          "Savings",
          "Savings",
          "Savings",
          "Savings",
          "Savings",
          "Savings",
          "Savings",
          "Savings",
          "Savings",
          "Savings",
          "Savings",
          "Savings",
          "Savings",
          "Savings",
          "Savings",
          "Savings",
          "Savings",
          "Savings",
          "Savings",
          "Savings",
          "Savings",
          "Savings",
          "Savings",
          "Savings",
          "Savings",
          "Savings",
          "Savings",
          "Savings",
          "Savings",
          "Savings",
          "Savings",
          "Savings",
          "Savings",
          "Savings",
          "Savings",
          "Savings",
          "Savings",
          "Savings",
          "Savings",
          "Savings",
          "Savings",
          "Savings",
          "Savings",
          "Savings",
          "Savings",
          "Savings",
          "Savings",
          "Savings",
          "Savings",
          "Savings",
          "Savings",
          "Savings",
          "Savings",
          "Savings",
          "Savings",
          "Savings",
          "Savings",
          "Savings",
          "Savings",
          "Savings",
          "Savings",
          "Savings",
          "Savings",
          "Savings",
          "Savings",
          "Savings",
          "Savings",
          "Savings",
          "Savings",
          "Savings",
          "Savings",
          "Savings",
          "Savings",
          "Savings",
          "Savings",
          "Savings",
          "Savings",
          "Savings",
          "Savings",
          "Savings",
          "Savings",
          "Savings",
          "Savings",
          "Savings",
          "Savings",
          "Savings",
          "Savings",
          "Savings",
          "Savings",
          "Savings",
          "Savings",
          "Savings",
          "Savings",
          "Savings",
          "Savings",
          "Savings",
          "Savings",
          "Savings",
          "Savings",
          "Savings",
          "Savings",
          "Savings",
          "Savings",
          "Savings",
          "Savings",
          "Savings",
          "Savings",
          "Savings",
          "Savings",
          "Savings",
          "Savings",
          "Savings",
          "Savings",
          "Savings",
          "Savings",
          "Savings",
          "Savings",
          "Savings",
          "Savings",
          "Savings",
          "Savings",
          "Savings",
          "Savings",
          "Savings",
          "Savings",
          "Savings",
          "Savings",
          "Savings",
          "Savings",
          "Savings",
          "Savings",
          "Savings",
          "Savings",
          "Savings",
          "Savings",
          "Savings",
          "Savings",
          "Savings",
          "Savings",
          "Savings",
          "Savings",
          "Savings",
          "Savings",
          "Savings",
          "Savings",
          "Savings",
          "Savings",
          "Savings",
          "Savings",
          "Savings",
          "Savings",
          "Savings",
          "Savings",
          "Savings",
          "Savings",
          "Savings",
          "Savings",
          "Savings",
          "Savings",
          "Savings",
          "Savings",
          "Savings",
          "Savings",
          "Savings",
          "Savings",
          "Savings",
          "Savings",
          "Savings",
          "Savings",
          "Savings",
          "Savings",
          "Savings",
          "Savings",
          "Savings",
          "Savings",
          "Savings",
          "Savings",
          "Savings",
          "Savings",
          "Savings",
          "Savings",
          "Savings",
          "Savings",
          "Savings",
          "Savings",
          "Savings",
          "Savings",
          "Savings",
          "Savings",
          "Savings",
          "Savings",
          "Savings",
          "Savings",
          "Savings",
          "Savings",
          "Savings",
          "Savings",
          "Savings",
          "Savings",
          "Savings",
          "Savings",
          "Savings",
          "Savings",
          "Savings",
          "Savings",
          "Savings",
          "Savings",
          "Savings",
          "Savings",
          "Savings",
          "Savings",
          "Savings",
          "Savings",
          "Savings",
          "Savings",
          "Savings",
          "Savings",
          "Savings",
          "Savings",
          "Savings",
          "Savings",
          "Savings",
          "Savings",
          "Savings",
          "Savings",
          "Savings",
          "Savings",
          "Savings",
          "Savings",
          "Savings",
          "Savings",
          "Savings",
          "Savings",
          "Savings",
          "Savings",
          "Savings",
          "Savings",
          "Savings",
          "Savings",
          "Savings",
          "Savings",
          "Savings",
          "Savings",
          "Savings",
          "Savings",
          "Savings",
          "Savings",
          "Savings",
          "Savings",
          "Savings",
          "Savings",
          "Savings",
          "Savings",
          "Savings",
          "Savings",
          "Savings",
          "Savings",
          "Savings",
          "Savings",
          "Savings",
          "Savings",
          "Savings",
          "Savings",
          "Savings",
          "Savings",
          "Savings",
          "Savings",
          "Savings",
          "Savings",
          "Savings",
          "Savings",
          "Savings",
          "Savings",
          "Savings",
          "Savings",
          "Savings",
          "Savings",
          "Savings",
          "Savings",
          "Savings",
          "Savings",
          "Savings",
          "Savings",
          "Savings",
          "Savings",
          "Savings",
          "Savings",
          "Savings",
          "Savings",
          "Savings",
          "Savings",
          "Savings",
          "Savings",
          "Savings",
          "Savings",
          "Savings",
          "Savings",
          "Savings",
          "Savings",
          "Savings",
          "Savings",
          "Savings",
          "Savings",
          "Savings",
          "Savings",
          "Savings",
          "Savings",
          "Savings",
          "Savings",
          "Savings",
          "Savings",
          "Savings",
          "Savings",
          "Savings",
          "Savings",
          "Savings",
          "Savings",
          "Savings",
          "Savings",
          "Savings",
          "Savings",
          "Savings",
          "Savings",
          "Savings",
          "Savings",
          "Savings",
          "Savings",
          "Savings",
          "Savings",
          "Savings",
          "Savings",
          "Savings",
          "Savings",
          "Savings",
          "Savings",
          "Savings",
          "Savings",
          "Savings",
          "Savings",
          "Savings",
          "Savings",
          "Savings",
          "Savings",
          "Savings",
          "Savings",
          "Savings",
          "Savings",
          "Savings",
          "Savings",
          "Savings",
          "Savings",
          "Savings",
          "Savings",
          "Savings",
          "Savings",
          "Savings",
          "Savings",
          "Savings",
          "Savings",
          "Savings",
          "Savings",
          "Savings",
          "Savings",
          "Savings",
          "Savings",
          "Savings",
          "Savings",
          "Savings",
          "Savings",
          "Savings",
          "Savings",
          "Savings",
          "Savings",
          "Savings",
          "Savings",
          "Savings",
          "Savings",
          "Savings",
          "Savings",
          "Savings",
          "Savings",
          "Savings",
          "Savings",
          "Savings",
          "Savings",
          "Savings",
          "Savings",
          "Savings",
          "Savings",
          "Savings",
          "Savings",
          "Savings",
          "Savings",
          "Savings",
          "Savings",
          "Savings",
          "Savings",
          "Savings",
          "Savings",
          "Savings",
          "Savings",
          "Savings",
          "Savings",
          "Savings",
          "Savings",
          "Savings",
          "Savings",
          "Savings",
          "Savings",
          "Savings",
          "Savings",
          "Savings",
          "Savings",
          "Savings",
          "Savings",
          "Savings",
          "Savings",
          "Savings",
          "Savings",
          "Savings",
          "Savings",
          "Savings",
          "Savings",
          "Savings",
          "Savings",
          "Savings",
          "Savings",
          "Savings",
          "Savings",
          "Savings",
          "Savings",
          "Savings",
          "Savings",
          "Savings",
          "Savings",
          "Savings",
          "Savings",
          "Savings",
          "Savings",
          "Savings",
          "Savings",
          "Savings",
          "Savings",
          "Savings",
          "Savings",
          "Savings",
          "Savings",
          "Savings",
          "Savings",
          "Savings",
          "Savings",
          "Savings",
          "Savings",
          "Savings",
          "Savings",
          "Savings",
          "Savings",
          "Savings",
          "Savings",
          "Savings",
          "Savings",
          "Savings",
          "Savings",
          "Savings",
          "Savings",
          "Savings",
          "Savings",
          "Savings",
          "Savings",
          "Savings",
          "Savings",
          "Savings",
          "Savings",
          "Savings",
          "Savings",
          "Savings",
          "Savings",
          "Savings",
          "Savings",
          "Savings",
          "Savings",
          "Savings",
          "Savings",
          "Savings",
          "Savings",
          "Savings",
          "Savings",
          "Savings",
          "Savings",
          "Savings",
          "Savings",
          "Savings",
          "Savings",
          "Savings",
          "Savings",
          "Savings",
          "Savings",
          "Savings",
          "Savings",
          "Savings",
          "Savings",
          "Savings",
          "Savings",
          "Savings",
          "Savings",
          "Savings",
          "Savings",
          "Savings",
          "Savings",
          "Savings",
          "Savings",
          "Savings",
          "Savings",
          "Savings",
          "Savings",
          "Savings",
          "Savings",
          "Savings",
          "Savings",
          "Savings",
          "Savings",
          "Savings",
          "Savings",
          "Savings",
          "Savings",
          "Savings",
          "Savings",
          "Savings",
          "Savings",
          "Savings",
          "Savings",
          "Savings",
          "Savings",
          "Savings",
          "Savings",
          "Savings",
          "Savings",
          "Savings",
          "Savings",
          "Savings",
          "Savings",
          "Savings",
          "Savings",
          "Savings",
          "Savings",
          "Savings",
          "Savings",
          "Savings",
          "Savings",
          "Savings",
          "Savings",
          "Savings",
          "Savings",
          "Savings",
          "Savings",
          "Savings",
          "Savings",
          "Savings",
          "Savings",
          "Savings",
          "Savings",
          "Savings",
          "Savings",
          "Savings",
          "Savings",
          "Savings",
          "Savings",
          "Savings",
          "Savings",
          "Savings",
          "Savings",
          "Savings",
          "Savings",
          "Savings",
          "Savings",
          "Savings",
          "Savings",
          "Savings",
          "Savings",
          "Savings",
          "Savings",
          "Savings",
          "Savings",
          "Savings",
          "Savings",
          "Savings",
          "Savings",
          "Savings",
          "Savings",
          "Savings",
          "Savings",
          "Savings",
          "Savings",
          "Savings",
          "Savings",
          "Savings",
          "Savings",
          "Savings",
          "Savings",
          "Savings",
          "Savings",
          "Savings",
          "Savings",
          "Savings",
          "Savings",
          "Savings",
          "Savings",
          "Savings",
          "Savings",
          "Savings",
          "Savings",
          "Savings",
          "Savings",
          "Savings",
          "Savings",
          "Savings",
          "Savings",
          "Savings",
          "Savings",
          "Savings",
          "Savings",
          "Savings",
          "Savings",
          "Savings",
          "Savings",
          "Savings",
          "Savings",
          "Savings",
          "Savings",
          "Savings",
          "Savings",
          "Savings",
          "Savings",
          "Savings",
          "Savings",
          "Savings",
          "Savings",
          "Savings",
          "Savings",
          "Savings",
          "Savings",
          "Savings",
          "Savings",
          "Savings",
          "Savings",
          "Savings",
          "Savings",
          "Savings",
          "Savings",
          "Savings",
          "Savings",
          "Savings",
          "Savings",
          "Savings",
          "Savings",
          "Savings",
          "Savings",
          "Savings",
          "Savings",
          "Savings",
          "Savings",
          "Savings",
          "Savings",
          "Savings",
          "Savings",
          "Savings",
          "Savings",
          "Savings",
          "Savings",
          "Savings",
          "Savings",
          "Savings",
          "Savings",
          "Savings",
          "Savings",
          "Savings",
          "Savings",
          "Savings",
          "Savings",
          "Savings",
          "Savings",
          "Savings",
          "Savings",
          "Savings",
          "Savings",
          "Savings",
          "Savings",
          "Savings",
          "Savings",
          "Savings",
          "Savings",
          "Savings",
          "Savings",
          "Savings",
          "Savings",
          "Savings",
          "Savings",
          "Savings",
          "Savings",
          "Savings",
          "Savings",
          "Savings",
          "Savings",
          "Savings",
          "Savings",
          "Savings",
          "Savings",
          "Savings",
          "Savings",
          "Savings",
          "Savings",
          "Savings",
          "Savings",
          "Savings",
          "Savings",
          "Savings",
          "Savings",
          "Savings",
          "Savings",
          "Savings",
          "Savings",
          "Savings",
          "Savings",
          "Savings",
          "Savings",
          "Savings",
          "Savings",
          "Savings",
          "Savings",
          "Savings",
          "Savings",
          "Savings",
          "Savings",
          "Savings",
          "Savings",
          "Savings",
          "Savings",
          "Savings",
          "Savings",
          "Savings",
          "Savings",
          "Savings",
          "Savings",
          "Savings",
          "Savings",
          "Savings",
          "Savings",
          "Savings",
          "Savings",
          "Savings",
          "Savings",
          "Savings",
          "Savings",
          "Savings",
          "Savings",
          "Savings",
          "Savings",
          "Savings",
          "Savings",
          "Savings",
          "Savings",
          "Savings",
          "Savings",
          "Savings",
          "Savings",
          "Savings",
          "Savings",
          "Savings",
          "Savings",
          "Savings",
          "Savings",
          "Savings",
          "Savings",
          "Savings",
          "Savings",
          "Savings",
          "Savings",
          "Savings",
          "Savings",
          "Savings",
          "Savings",
          "Savings",
          "Savings",
          "Savings",
          "Savings",
          "Savings",
          "Savings",
          "Savings",
          "Savings",
          "Savings",
          "Savings",
          "Savings",
          "Savings",
          "Savings",
          "Savings",
          "Savings",
          "Savings",
          "Savings",
          "Savings",
          "Savings",
          "Savings",
          "Savings",
          "Savings",
          "Savings",
          "Savings",
          "Savings",
          "Savings",
          "Savings",
          "Savings",
          "Savings",
          "Savings",
          "Savings",
          "Savings",
          "Savings",
          "Savings",
          "Savings",
          "Savings",
          "Savings",
          "Savings",
          "Savings",
          "Savings",
          "Savings",
          "Savings",
          "Savings",
          "Savings",
          "Savings",
          "Savings",
          "Savings",
          "Savings",
          "Savings",
          "Savings",
          "Savings",
          "Savings",
          "Savings",
          "Savings",
          "Savings",
          "Savings",
          "Savings",
          "Savings",
          "Savings",
          "Savings",
          "Savings",
          "Savings",
          "Savings",
          "Savings",
          "Savings",
          "Savings",
          "Savings",
          "Savings",
          "Savings",
          "Savings",
          "Savings",
          "Savings",
          "Savings",
          "Savings",
          "Savings",
          "Savings",
          "Savings",
          "Savings",
          "Savings",
          "Savings",
          "Savings",
          "Savings",
          "Savings",
          "Savings",
          "Savings",
          "Savings",
          "Savings",
          "Savings",
          "Savings",
          "Savings",
          "Savings",
          "Savings",
          "Savings",
          "Savings",
          "Savings",
          "Savings",
          "Savings",
          "Savings",
          "Savings",
          "Savings",
          "Savings",
          "Savings",
          "Savings",
          "Savings",
          "Savings",
          "Savings",
          "Savings",
          "Savings",
          "Savings",
          "Savings",
          "Savings",
          "Savings",
          "Savings",
          "Savings",
          "Savings",
          "Savings",
          "Savings",
          "Savings",
          "Savings",
          "Savings",
          "Savings",
          "Savings",
          "Savings",
          "Savings",
          "Savings",
          "Savings",
          "Savings",
          "Savings",
          "Savings",
          "Savings",
          "Savings",
          "Savings",
          "Savings",
          "Savings",
          "Savings",
          "Savings",
          "Savings",
          "Savings",
          "Savings",
          "Savings",
          "Savings",
          "Savings",
          "Savings",
          "Savings",
          "Savings",
          "Savings",
          "Savings",
          "Savings",
          "Savings",
          "Savings",
          "Savings",
          "Savings",
          "Savings",
          "Savings",
          "Savings",
          "Savings",
          "Savings",
          "Savings",
          "Savings",
          "Savings",
          "Savings",
          "Savings",
          "Savings",
          "Savings",
          "Savings",
          "Savings",
          "Savings",
          "Savings",
          "Savings",
          "Savings",
          "Savings",
          "Savings",
          "Savings",
          "Savings",
          "Savings",
          "Savings",
          "Savings",
          "Savings",
          "Savings",
          "Savings",
          "Savings",
          "Savings",
          "Savings",
          "Savings",
          "Savings",
          "Savings",
          "Savings",
          "Savings",
          "Savings",
          "Savings",
          "Savings",
          "Savings",
          "Savings",
          "Savings",
          "Savings",
          "Savings",
          "Savings",
          "Savings",
          "Savings",
          "Savings",
          "Savings",
          "Savings",
          "Savings",
          "Savings",
          "Savings",
          "Savings",
          "Savings",
          "Savings",
          "Savings",
          "Savings",
          "Savings",
          "Savings",
          "Savings",
          "Savings",
          "Savings",
          "Savings",
          "Savings",
          "Savings",
          "Savings",
          "Savings",
          "Savings",
          "Savings",
          "Savings",
          "Savings",
          "Savings",
          "Savings",
          "Savings",
          "Savings",
          "Savings",
          "Savings",
          "Savings",
          "Savings",
          "Savings",
          "Savings",
          "Savings",
          "Savings",
          "Savings",
          "Savings",
          "Savings",
          "Savings",
          "Savings",
          "Savings",
          "Savings",
          "Savings",
          "Savings",
          "Savings",
          "Savings",
          "Savings",
          "Savings",
          "Savings",
          "Savings",
          "Savings",
          "Savings",
          "Savings",
          "Savings",
          "Savings",
          "Savings",
          "Savings",
          "Savings",
          "Savings",
          "Savings",
          "Savings",
          "Savings",
          "Savings",
          "Savings",
          "Savings",
          "Savings",
          "Savings",
          "Savings",
          "Savings",
          "Savings",
          "Savings",
          "Savings",
          "Savings",
          "Savings",
          "Savings",
          "Savings",
          "Savings",
          "Savings",
          "Savings",
          "Savings",
          "Savings",
          "Savings",
          "Savings",
          "Savings",
          "Savings",
          "Savings",
          "Savings",
          "Savings",
          "Savings",
          "Savings",
          "Savings",
          "Savings",
          "Savings",
          "Savings",
          "Savings",
          "Savings",
          "Savings",
          "Savings",
          "Savings",
          "Savings",
          "Savings",
          "Savings",
          "Savings",
          "Savings",
          "Savings",
          "Savings",
          "Savings",
          "Savings",
          "Savings",
          "Savings",
          "Savings",
          "Savings",
          "Savings",
          "Savings",
          "Savings",
          "Savings",
          "Savings",
          "Savings",
          "Savings",
          "Savings",
          "Savings",
          "Savings",
          "Savings",
          "Savings",
          "Savings",
          "Savings",
          "Savings",
          "Savings",
          "Savings",
          "Savings",
          "Savings",
          "Savings",
          "Savings",
          "Savings",
          "Savings",
          "Savings",
          "Savings",
          "Savings",
          "Savings",
          "Savings",
          "Savings",
          "Savings",
          "Savings",
          "Savings",
          "Savings",
          "Savings",
          "Savings",
          "Savings",
          "Savings",
          "Savings",
          "Savings",
          "Savings",
          "Savings",
          "Savings",
          "Savings",
          "Savings",
          "Savings",
          "Savings",
          "Savings",
          "Savings",
          "Savings",
          "Savings",
          "Savings",
          "Savings",
          "Savings",
          "Savings",
          "Savings",
          "Savings",
          "Savings",
          "Savings",
          "Savings",
          "Savings",
          "Savings",
          "Savings",
          "Savings",
          "Savings",
          "Savings",
          "Savings",
          "Savings",
          "Savings",
          "Savings",
          "Savings",
          "Savings",
          "Savings",
          "Savings",
          "Savings",
          "Savings",
          "Savings",
          "Savings",
          "Savings",
          "Savings",
          "Savings",
          "Savings",
          "Savings",
          "Savings",
          "Savings",
          "Savings",
          "Savings",
          "Savings",
          "Savings",
          "Savings",
          "Savings",
          "Savings",
          "Savings",
          "Savings",
          "Savings",
          "Savings",
          "Savings",
          "Savings",
          "Savings",
          "Savings",
          "Savings",
          "Savings",
          "Savings",
          "Savings",
          "Savings",
          "Savings",
          "Savings",
          "Savings",
          "Savings",
          "Savings",
          "Savings",
          "Savings",
          "Savings",
          "Savings",
          "Savings",
          "Savings",
          "Savings",
          "Savings",
          "Savings",
          "Savings",
          "Savings",
          "Savings",
          "Savings",
          "Savings",
          "Savings",
          "Savings",
          "Savings",
          "Savings",
          "Savings",
          "Savings",
          "Savings",
          "Savings",
          "Savings",
          "Savings",
          "Savings",
          "Savings",
          "Savings",
          "Savings",
          "Savings",
          "Savings",
          "Savings",
          "Savings",
          "Savings",
          "Savings",
          "Savings",
          "Savings",
          "Savings",
          "Savings",
          "Savings",
          "Savings",
          "Savings",
          "Savings",
          "Savings",
          "Savings",
          "Savings",
          "Savings",
          "Savings",
          "Savings",
          "Savings",
          "Savings",
          "Savings",
          "Savings",
          "Savings",
          "Savings",
          "Savings",
          "Savings",
          "Savings",
          "Savings",
          "Savings",
          "Savings",
          "Savings",
          "Savings",
          "Savings",
          "Savings",
          "Savings",
          "Savings",
          "Savings",
          "Savings",
          "Savings",
          "Savings",
          "Savings",
          "Savings",
          "Savings",
          "Savings",
          "Savings",
          "Savings",
          "Savings",
          "Savings",
          "Savings",
          "Savings",
          "Savings",
          "Savings",
          "Savings",
          "Savings",
          "Savings",
          "Savings",
          "Savings",
          "Savings",
          "Savings",
          "Savings",
          "Savings",
          "Savings",
          "Savings",
          "Savings",
          "Savings",
          "Savings",
          "Savings",
          "Savings",
          "Savings",
          "Savings",
          "Savings",
          "Savings",
          "Savings",
          "Savings",
          "Savings",
          "Savings",
          "Savings",
          "Savings",
          "Savings",
          "Savings",
          "Savings",
          "Savings",
          "Savings",
          "Savings",
          "Savings",
          "Savings",
          "Savings",
          "Savings",
          "Savings",
          "Savings",
          "Savings",
          "Savings",
          "Savings",
          "Savings",
          "Savings",
          "Savings",
          "Savings",
          "Savings",
          "Savings",
          "Savings",
          "Savings",
          "Savings",
          "Savings",
          "Savings",
          "Savings",
          "Savings",
          "Savings",
          "Savings",
          "Savings",
          "Savings",
          "Savings",
          "Savings",
          "Savings",
          "Savings",
          "Savings",
          "Savings",
          "Savings",
          "Savings",
          "Savings",
          "Savings",
          "Savings",
          "Savings",
          "Savings",
          "Savings",
          "Savings",
          "Savings",
          "Savings",
          "Savings",
          "Savings",
          "Savings",
          "Savings",
          "Savings",
          "Savings",
          "Savings",
          "Savings",
          "Savings",
          "Savings",
          "Savings",
          "Savings",
          "Savings",
          "Savings",
          "Savings",
          "Savings",
          "Savings",
          "Savings",
          "Savings",
          "Savings",
          "Savings",
          "Savings",
          "Savings",
          "Savings",
          "Savings",
          "Savings",
          "Savings",
          "Savings",
          "Savings",
          "Savings",
          "Savings",
          "Savings",
          "Savings",
          "Savings",
          "Savings",
          "Savings",
          "Savings",
          "Savings",
          "Savings",
          "Savings",
          "Savings",
          "Savings",
          "Savings",
          "Savings",
          "Savings",
          "Savings",
          "Savings",
          "Savings",
          "Savings",
          "Savings",
          "Savings",
          "Savings",
          "Savings",
          "Savings",
          "Savings",
          "Savings",
          "Savings",
          "Savings",
          "Savings",
          "Savings",
          "Savings",
          "Savings",
          "Savings",
          "Savings",
          "Savings",
          "Savings",
          "Savings",
          "Savings",
          "Savings",
          "Savings",
          "Savings",
          "Savings",
          "Savings",
          "Savings",
          "Savings",
          "Savings",
          "Savings",
          "Savings",
          "Savings",
          "Savings",
          "Savings",
          "Savings",
          "Savings",
          "Savings",
          "Savings",
          "Savings",
          "Savings",
          "Savings",
          "Savings",
          "Savings",
          "Savings",
          "Savings",
          "Savings",
          "Savings",
          "Savings",
          "Savings",
          "Savings",
          "Savings",
          "Savings",
          "Savings",
          "Savings",
          "Savings",
          "Savings",
          "Savings",
          "Savings",
          "Savings",
          "Savings",
          "Savings",
          "Savings",
          "Savings",
          "Savings",
          "Savings",
          "Savings",
          "Savings",
          "Savings",
          "Savings",
          "Savings",
          "Savings",
          "Savings",
          "Savings",
          "Savings",
          "Savings",
          "Savings",
          "Savings",
          "Savings",
          "Savings",
          "Savings",
          "Savings",
          "Savings",
          "Savings",
          "Savings",
          "Savings",
          "Savings",
          "Savings",
          "Savings",
          "Savings",
          "Savings",
          "Savings",
          "Savings",
          "Savings",
          "Savings",
          "Savings",
          "Savings",
          "Savings",
          "Savings",
          "Savings",
          "Savings",
          "Savings",
          "Savings",
          "Savings",
          "Savings",
          "Savings",
          "Savings",
          "Savings",
          "Savings",
          "Savings",
          "Savings",
          "Savings",
          "Savings",
          "Savings",
          "Savings",
          "Savings",
          "Savings",
          "Savings",
          "Savings",
          "Savings",
          "Savings",
          "Savings",
          "Savings",
          "Savings",
          "Savings",
          "Savings",
          "Savings",
          "Savings",
          "Savings",
          "Savings",
          "Savings",
          "Savings",
          "Savings",
          "Savings",
          "Savings",
          "Savings",
          "Savings",
          "Savings",
          "Savings",
          "Savings",
          "Savings",
          "Savings",
          "Savings",
          "Savings",
          "Savings",
          "Savings",
          "Savings",
          "Savings",
          "Savings",
          "Savings",
          "Savings",
          "Savings",
          "Savings",
          "Savings",
          "Savings",
          "Savings",
          "Savings",
          "Savings",
          "Savings",
          "Savings",
          "Savings",
          "Savings",
          "Savings",
          "Savings",
          "Savings",
          "Savings",
          "Savings",
          "Savings",
          "Savings",
          "Savings",
          "Savings",
          "Savings",
          "Savings",
          "Savings",
          "Savings",
          "Savings",
          "Savings",
          "Savings",
          "Savings",
          "Savings",
          "Savings",
          "Savings",
          "Savings",
          "Savings",
          "Savings",
          "Savings",
          "Savings",
          "Savings",
          "Savings",
          "Savings",
          "Savings",
          "Savings",
          "Savings",
          "Savings",
          "Savings",
          "Savings",
          "Savings",
          "Savings",
          "Savings",
          "Savings",
          "Savings",
          "Savings",
          "Savings",
          "Savings",
          "Savings",
          "Savings",
          "Savings",
          "Savings",
          "Savings",
          "Savings",
          "Savings",
          "Savings",
          "Savings",
          "Savings",
          "Savings",
          "Savings",
          "Savings",
          "Savings",
          "Savings",
          "Savings",
          "Savings",
          "Savings",
          "Savings",
          "Savings",
          "Savings",
          "Savings",
          "Savings",
          "Savings",
          "Savings",
          "Savings",
          "Savings",
          "Savings",
          "Savings",
          "Savings",
          "Savings",
          "Savings",
          "Savings",
          "Savings",
          "Savings",
          "Savings",
          "Savings",
          "Savings",
          "Savings",
          "Savings",
          "Savings",
          "Savings",
          "Savings",
          "Savings",
          "Savings",
          "Savings",
          "Savings",
          "Savings",
          "Savings",
          "Savings",
          "Savings",
          "Savings",
          "Savings",
          "Savings",
          "Savings",
          "Savings",
          "Savings",
          "Savings",
          "Savings",
          "Savings",
          "Savings",
          "Savings",
          "Savings",
          "Savings",
          "Savings",
          "Savings",
          "Savings",
          "Savings",
          "Savings",
          "Savings",
          "Savings",
          "Savings",
          "Savings",
          "Savings",
          "Savings",
          "Savings",
          "Savings",
          "Savings",
          "Savings",
          "Savings",
          "Savings",
          "Savings",
          "Savings",
          "Savings",
          "Savings",
          "Savings",
          "Savings",
          "Savings",
          "Savings",
          "Savings",
          "Savings",
          "Savings",
          "Savings",
          "Savings",
          "Savings",
          "Savings",
          "Savings",
          "Savings",
          "Savings",
          "Savings",
          "Savings",
          "Savings",
          "Savings",
          "Savings",
          "Savings",
          "Savings",
          "Savings",
          "Savings",
          "Savings",
          "Savings",
          "Savings",
          "Savings",
          "Savings",
          "Savings",
          "Savings",
          "Savings",
          "Savings",
          "Savings",
          "Savings",
          "Savings",
          "Savings",
          "Savings",
          "Savings",
          "Savings",
          "Savings",
          "Savings",
          "Savings",
          "Savings",
          "Savings",
          "Savings",
          "Savings",
          "Savings",
          "Savings",
          "Savings",
          "Savings",
          "Savings",
          "Savings",
          "Savings",
          "Savings",
          "Savings",
          "Savings",
          "Savings",
          "Savings",
          "Savings",
          "Savings",
          "Savings",
          "Savings",
          "Savings",
          "Savings",
          "Savings",
          "Savings",
          "Savings",
          "Savings",
          "Savings",
          "Savings",
          "Savings",
          "Savings",
          "Savings",
          "Savings",
          "Savings",
          "Savings",
          "Savings",
          "Savings",
          "Savings",
          "Savings",
          "Savings",
          "Savings",
          "Savings",
          "Savings",
          "Savings",
          "Savings",
          "Savings",
          "Savings",
          "Savings",
          "Savings",
          "Savings",
          "Savings",
          "Savings",
          "Savings",
          "Savings",
          "Savings",
          "Savings",
          "Savings",
          "Savings",
          "Savings",
          "Savings",
          "Savings",
          "Savings",
          "Savings",
          "Savings",
          "Savings",
          "Savings",
          "Savings",
          "Savings",
          "Savings",
          "Savings",
          "Savings",
          "Savings",
          "Savings",
          "Savings",
          "Savings",
          "Savings",
          "Savings",
          "Savings",
          "Savings",
          "Savings",
          "Savings",
          "Savings",
          "Savings",
          "Savings",
          "Savings",
          "Savings",
          "Savings",
          "Savings",
          "Savings",
          "Savings",
          "Savings",
          "Savings",
          "Savings",
          "Savings",
          "Savings",
          "Savings",
          "Savings",
          "Savings",
          "Savings",
          "Savings",
          "Savings",
          "Savings",
          "Savings",
          "Savings",
          "Savings",
          "Savings",
          "Savings",
          "Savings",
          "Savings",
          "Savings",
          "Savings",
          "Savings",
          "Savings",
          "Savings",
          "Savings",
          "Savings",
          "Savings",
          "Savings",
          "Savings",
          "Savings",
          "Savings",
          "Savings",
          "Savings",
          "Savings",
          "Savings",
          "Savings",
          "Savings",
          "Savings",
          "Savings",
          "Savings",
          "Savings",
          "Savings",
          "Savings",
          "Savings",
          "Savings",
          "Savings",
          "Savings",
          "Savings",
          "Savings",
          "Savings",
          "Savings",
          "Savings",
          "Savings",
          "Savings",
          "Savings",
          "Savings",
          "Savings",
          "Savings",
          "Savings",
          "Savings",
          "Savings",
          "Savings",
          "Savings",
          "Savings",
          "Savings",
          "Savings",
          "Savings",
          "Savings",
          "Savings",
          "Savings",
          "Savings",
          "Savings",
          "Savings",
          "Savings",
          "Savings",
          "Savings",
          "Savings",
          "Savings",
          "Savings",
          "Savings",
          "Savings",
          "Savings",
          "Savings",
          "Savings",
          "Savings",
          "Savings",
          "Savings",
          "Savings",
          "Savings",
          "Savings",
          "Savings",
          "Savings",
          "Savings",
          "Savings",
          "Savings",
          "Savings",
          "Savings",
          "Savings",
          "Savings",
          "Savings",
          "Savings",
          "Savings",
          "Savings",
          "Savings",
          "Savings",
          "Savings",
          "Savings",
          "Savings",
          "Savings",
          "Savings",
          "Savings",
          "Savings",
          "Savings",
          "Savings",
          "Savings",
          "Savings",
          "Savings",
          "Savings",
          "Savings",
          "Savings",
          "Savings",
          "Savings",
          "Savings",
          "Savings",
          "Savings",
          "Savings",
          "Savings",
          "Savings",
          "Savings",
          "Savings",
          "Savings",
          "Savings",
          "Savings",
          "Savings",
          "Savings",
          "Savings",
          "Savings",
          "Savings",
          "Savings",
          "Savings",
          "Savings",
          "Savings",
          "Savings",
          "Savings",
          "Savings",
          "Savings",
          "Savings",
          "Savings",
          "Savings",
          "Savings",
          "Savings",
          "Savings",
          "Savings",
          "Savings",
          "Savings",
          "Savings",
          "Savings",
          "Savings",
          "Savings",
          "Savings",
          "Savings",
          "Savings",
          "Savings",
          "Savings",
          "Savings",
          "Savings",
          "Savings",
          "Savings",
          "Savings",
          "Savings",
          "Savings",
          "Savings",
          "Savings",
          "Savings",
          "Savings",
          "Savings",
          "Savings",
          "Savings",
          "Savings",
          "Savings",
          "Savings",
          "Savings",
          "Savings",
          "Savings",
          "Savings",
          "Savings",
          "Savings",
          "Savings",
          "Savings",
          "Savings",
          "Savings",
          "Savings",
          "Savings",
          "Savings",
          "Savings",
          "Savings",
          "Savings",
          "Savings",
          "Savings",
          "Savings",
          "Savings",
          "Savings",
          "Savings",
          "Savings",
          "Savings",
          "Savings",
          "Savings",
          "Savings",
          "Savings",
          "Savings",
          "Savings",
          "Savings",
          "Savings",
          "Savings",
          "Savings",
          "Savings",
          "Savings",
          "Savings",
          "Savings",
          "Savings",
          "Savings",
          "Savings",
          "Savings",
          "Savings",
          "Savings",
          "Savings",
          "Savings",
          "Savings",
          "Savings",
          "Savings",
          "Savings",
          "Savings",
          "Savings",
          "Savings",
          "Savings",
          "Savings",
          "Savings",
          "Savings",
          "Savings",
          "Savings",
          "Savings",
          "Savings",
          "Savings",
          "Savings",
          "Savings",
          "Savings",
          "Savings",
          "Savings",
          "Savings",
          "Savings",
          "Savings",
          "Savings",
          "Savings",
          "Savings",
          "Savings",
          "Savings",
          "Savings",
          "Savings",
          "Savings",
          "Savings",
          "Savings",
          "Savings",
          "Savings",
          "Savings",
          "Savings",
          "Savings",
          "Savings",
          "Savings",
          "Savings",
          "Savings",
          "Savings",
          "Savings",
          "Savings",
          "Savings",
          "Savings",
          "Savings",
          "Savings",
          "Savings",
          "Savings",
          "Savings",
          "Savings",
          "Savings",
          "Savings",
          "Savings",
          "Savings",
          "Savings",
          "Savings",
          "Savings",
          "Savings",
          "Savings",
          "Savings",
          "Savings",
          "Savings",
          "Savings",
          "Savings",
          "Savings",
          "Savings",
          "Savings",
          "Savings",
          "Savings",
          "Savings",
          "Savings",
          "Savings",
          "Savings",
          "Savings",
          "Savings",
          "Savings",
          "Savings",
          "Savings",
          "Savings",
          "Savings",
          "Savings",
          "Savings",
          "Savings",
          "Savings",
          "Savings",
          "Savings",
          "Savings",
          "Savings",
          "Savings",
          "Savings",
          "Savings",
          "Savings",
          "Savings",
          "Savings",
          "Savings",
          "Savings",
          "Savings",
          "Savings",
          "Savings",
          "Savings",
          "Savings",
          "Savings",
          "Savings",
          "Savings",
          "Savings",
          "Savings",
          "Savings",
          "Savings",
          "Savings",
          "Savings",
          "Savings",
          "Savings",
          "Savings",
          "Savings",
          "Savings",
          "Savings",
          "Savings",
          "Savings",
          "Savings",
          "Savings",
          "Savings",
          "Savings",
          "Savings",
          "Savings",
          "Savings",
          "Savings",
          "Savings",
          "Savings",
          "Savings",
          "Savings",
          "Savings",
          "Savings",
          "Savings",
          "Savings",
          "Savings",
          "Savings",
          "Savings",
          "Savings",
          "Savings",
          "Savings",
          "Savings",
          "Savings",
          "Savings",
          "Savings",
          "Savings",
          "Savings",
          "Savings",
          "Savings",
          "Savings",
          "Savings",
          "Savings",
          "Savings",
          "Savings",
          "Savings",
          "Savings",
          "Savings",
          "Savings",
          "Savings",
          "Savings",
          "Savings",
          "Savings",
          "Savings",
          "Savings",
          "Savings",
          "Savings",
          "Savings",
          "Savings",
          "Savings",
          "Savings",
          "Savings",
          "Savings",
          "Savings",
          "Savings",
          "Savings",
          "Savings",
          "Savings",
          "Savings",
          "Savings",
          "Savings",
          "Savings",
          "Savings",
          "Savings",
          "Savings",
          "Savings",
          "Savings",
          "Savings",
          "Savings",
          "Savings",
          "Savings",
          "Savings",
          "Savings",
          "Savings",
          "Savings",
          "Savings",
          "Savings",
          "Savings",
          "Savings",
          "Savings",
          "Savings",
          "Savings",
          "Savings",
          "Savings",
          "Savings",
          "Savings",
          "Savings",
          "Savings",
          "Savings",
          "Savings",
          "Savings",
          "Savings",
          "Savings",
          "Savings",
          "Savings",
          "Savings",
          "Savings",
          "Savings",
          "Savings",
          "Savings",
          "Savings",
          "Savings",
          "Savings",
          "Savings",
          "Savings",
          "Savings",
          "Savings",
          "Savings",
          "Savings",
          "Savings",
          "Savings",
          "Savings",
          "Savings",
          "Savings",
          "Savings",
          "Savings",
          "Savings",
          "Savings",
          "Savings",
          "Savings",
          "Savings",
          "Savings",
          "Savings",
          "Savings",
          "Savings",
          "Savings",
          "Savings",
          "Savings",
          "Savings",
          "Savings",
          "Savings",
          "Savings",
          "Savings",
          "Savings",
          "Savings",
          "Savings",
          "Savings",
          "Savings",
          "Savings",
          "Savings",
          "Savings",
          "Savings",
          "Savings",
          "Savings",
          "Savings",
          "Savings",
          "Savings",
          "Savings",
          "Savings",
          "Savings",
          "Savings",
          "Savings",
          "Savings",
          "Savings",
          "Savings",
          "Savings",
          "Savings",
          "Savings",
          "Savings",
          "Savings",
          "Savings",
          "Savings",
          "Savings",
          "Savings",
          "Savings",
          "Savings",
          "Savings",
          "Savings",
          "Savings",
          "Savings",
          "Savings",
          "Savings",
          "Savings",
          "Savings",
          "Savings",
          "Savings",
          "Savings",
          "Savings",
          "Savings",
          "Savings",
          "Savings",
          "Savings",
          "Savings",
          "Savings",
          "Savings",
          "Savings",
          "Savings",
          "Savings",
          "Savings",
          "Savings",
          "Savings",
          "Savings",
          "Savings",
          "Savings",
          "Savings",
          "Savings",
          "Savings",
          "Savings",
          "Savings",
          "Savings",
          "Savings",
          "Savings",
          "Savings",
          "Savings",
          "Savings",
          "Savings",
          "Savings",
          "Savings",
          "Savings",
          "Savings",
          "Savings",
          "Savings",
          "Savings",
          "Savings",
          "Savings",
          "Savings",
          "Savings",
          "Savings",
          "Savings",
          "Savings",
          "Savings",
          "Savings",
          "Savings",
          "Savings",
          "Savings",
          "Savings",
          "Savings",
          "Savings",
          "Savings",
          "Savings",
          "Savings",
          "Savings",
          "Savings",
          "Savings",
          "Savings",
          "Savings",
          "Savings",
          "Savings",
          "Savings",
          "Savings",
          "Savings",
          "Savings",
          "Savings",
          "Savings",
          "Savings",
          "Savings",
          "Savings",
          "Savings",
          "Savings",
          "Savings",
          "Savings",
          "Savings",
          "Savings",
          "Savings",
          "Savings",
          "Savings",
          "Savings",
          "Savings",
          "Savings",
          "Savings",
          "Savings",
          "Savings",
          "Savings",
          "Savings",
          "Savings",
          "Savings",
          "Savings",
          "Savings",
          "Savings",
          "Savings",
          "Savings",
          "Savings",
          "Savings",
          "Savings",
          "Savings",
          "Savings",
          "Savings",
          "Savings",
          "Savings",
          "Savings",
          "Savings",
          "Savings",
          "Savings",
          "Savings",
          "Savings",
          "Savings",
          "Savings",
          "Savings",
          "Savings",
          "Savings",
          "Savings",
          "Savings",
          "Savings",
          "Savings",
          "Savings",
          "Savings",
          "Savings",
          "Savings",
          "Savings",
          "Savings",
          "Savings",
          "Savings",
          "Savings",
          "Savings",
          "Savings",
          "Savings",
          "Savings",
          "Savings",
          "Savings",
          "Savings",
          "Savings",
          "Savings",
          "Savings",
          "Savings",
          "Savings",
          "Savings",
          "Savings",
          "Savings",
          "Savings",
          "Savings",
          "Savings",
          "Savings",
          "Savings",
          "Savings",
          "Savings",
          "Savings",
          "Savings",
          "Savings",
          "Savings",
          "Savings",
          "Savings",
          "Savings",
          "Savings",
          "Savings",
          "Savings",
          "Savings",
          "Savings",
          "Savings",
          "Savings",
          "Savings",
          "Savings",
          "Savings",
          "Savings",
          "Savings",
          "Savings",
          "Savings",
          "Savings",
          "Savings",
          "Savings",
          "Savings",
          "Savings",
          "Savings",
          "Savings",
          "Savings",
          "Savings",
          "Savings",
          "Savings",
          "Savings",
          "Savings",
          "Savings",
          "Savings",
          "Savings",
          "Savings",
          "Savings",
          "Savings",
          "Savings",
          "Savings",
          "Savings",
          "Savings",
          "Savings",
          "Savings",
          "Savings",
          "Savings",
          "Savings",
          "Savings",
          "Savings",
          "Savings",
          "Savings",
          "Savings",
          "Savings",
          "Savings",
          "Savings",
          "Savings",
          "Savings",
          "Savings",
          "Savings",
          "Savings",
          "Savings",
          "Savings",
          "Savings",
          "Savings",
          "Savings",
          "Savings",
          "Savings",
          "Savings",
          "Savings",
          "Savings",
          "Savings",
          "Savings",
          "Savings",
          "Savings",
          "Savings",
          "Savings",
          "Savings",
          "Savings",
          "Savings",
          "Savings",
          "Savings",
          "Savings",
          "Savings",
          "Savings",
          "Savings",
          "Savings",
          "Savings",
          "Savings",
          "Savings",
          "Savings",
          "Savings",
          "Savings",
          "Savings",
          "Savings",
          "Savings",
          "Savings",
          "Savings",
          "Savings",
          "Savings",
          "Savings",
          "Savings",
          "Savings",
          "Savings",
          "Savings",
          "Savings",
          "Savings",
          "Savings",
          "Savings",
          "Savings",
          "Savings",
          "Savings",
          "Savings",
          "Savings",
          "Savings",
          "Savings",
          "Savings",
          "Savings",
          "Savings",
          "Savings",
          "Savings",
          "Savings",
          "Savings",
          "Savings",
          "Savings",
          "Savings",
          "Savings",
          "Savings",
          "Savings",
          "Savings",
          "Savings",
          "Savings",
          "Savings",
          "Savings",
          "Savings",
          "Savings",
          "Savings",
          "Savings",
          "Savings",
          "Savings",
          "Savings",
          "Savings",
          "Savings",
          "Savings",
          "Savings",
          "Savings",
          "Savings",
          "Savings",
          "Savings",
          "Savings",
          "Savings",
          "Savings",
          "Savings",
          "Savings",
          "Savings",
          "Savings",
          "Savings",
          "Savings",
          "Savings",
          "Savings",
          "Savings",
          "Savings",
          "Savings",
          "Savings",
          "Savings",
          "Savings",
          "Savings",
          "Savings",
          "Savings",
          "Savings",
          "Savings",
          "Savings",
          "Savings",
          "Savings",
          "Savings",
          "Savings",
          "Savings",
          "Savings",
          "Savings",
          "Savings",
          "Savings",
          "Savings",
          "Savings",
          "Savings",
          "Savings",
          "Savings",
          "Savings",
          "Savings",
          "Savings",
          "Savings",
          "Savings",
          "Savings",
          "Savings",
          "Savings",
          "Savings",
          "Savings",
          "Savings",
          "Savings",
          "Savings",
          "Savings",
          "Savings",
          "Savings",
          "Savings",
          "Savings",
          "Savings",
          "Savings",
          "Savings",
          "Savings",
          "Savings",
          "Savings",
          "Savings",
          "Savings",
          "Savings",
          "Savings",
          "Savings",
          "Savings",
          "Savings",
          "Savings",
          "Savings",
          "Savings",
          "Savings",
          "Savings",
          "Savings",
          "Savings",
          "Savings",
          "Savings",
          "Savings",
          "Savings",
          "Savings",
          "Savings",
          "Savings",
          "Savings",
          "Savings",
          "Savings",
          "Savings",
          "Savings",
          "Savings",
          "Savings",
          "Savings",
          "Savings",
          "Savings",
          "Savings",
          "Savings",
          "Savings",
          "Savings",
          "Savings",
          "Savings",
          "Savings",
          "Savings",
          "Savings",
          "Savings",
          "Savings",
          "Savings",
          "Savings",
          "Savings",
          "Savings",
          "Savings",
          "Savings",
          "Savings",
          "Savings",
          "Savings",
          "Savings",
          "Savings",
          "Savings",
          "Savings",
          "Savings",
          "Savings",
          "Savings",
          "Savings",
          "Savings",
          "Savings",
          "Savings",
          "Savings",
          "Savings",
          "Savings",
          "Savings",
          "Savings",
          "Savings",
          "Savings",
          "Savings",
          "Savings",
          "Savings",
          "Savings",
          "Savings",
          "Savings",
          "Savings",
          "Savings",
          "Savings",
          "Savings",
          "Savings",
          "Savings",
          "Savings",
          "Savings",
          "Savings",
          "Savings",
          "Savings",
          "Savings",
          "Savings",
          "Savings",
          "Savings",
          "Savings",
          "Savings",
          "Savings",
          "Savings",
          "Savings",
          "Savings",
          "Savings",
          "Savings",
          "Savings",
          "Savings",
          "Savings",
          "Savings",
          "Savings",
          "Savings",
          "Savings",
          "Savings",
          "Savings",
          "Savings",
          "Savings",
          "Savings",
          "Savings",
          "Savings",
          "Savings",
          "Savings",
          "Savings",
          "Savings",
          "Savings",
          "Savings",
          "Savings",
          "Savings",
          "Savings",
          "Savings",
          "Savings",
          "Savings",
          "Savings",
          "Savings",
          "Savings",
          "Savings",
          "Savings",
          "Savings",
          "Savings",
          "Savings",
          "Savings",
          "Savings",
          "Savings",
          "Savings",
          "Savings",
          "Savings",
          "Savings",
          "Savings",
          "Savings",
          "Savings",
          "Savings",
          "Savings",
          "Savings",
          "Savings",
          "Savings",
          "Savings",
          "Savings",
          "Savings",
          "Savings",
          "Savings",
          "Savings",
          "Savings",
          "Savings",
          "Savings",
          "Savings",
          "Savings",
          "Savings",
          "Savings",
          "Savings",
          "Savings",
          "Savings",
          "Savings",
          "Savings",
          "Savings",
          "Savings",
          "Savings",
          "Savings",
          "Savings",
          "Savings",
          "Savings",
          "Savings",
          "Savings",
          "Savings",
          "Savings",
          "Savings",
          "Savings",
          "Savings",
          "Savings",
          "Savings",
          "Savings",
          "Savings",
          "Savings",
          "Savings",
          "Savings",
          "Savings",
          "Savings",
          "Savings",
          "Savings",
          "Savings",
          "Savings",
          "Savings",
          "Savings",
          "Savings",
          "Savings",
          "Savings",
          "Savings",
          "Savings",
          "Savings",
          "Savings",
          "Savings",
          "Savings",
          "Savings",
          "Savings",
          "Savings",
          "Savings",
          "Savings",
          "Savings",
          "Savings",
          "Savings",
          "Savings",
          "Savings",
          "Savings",
          "Savings",
          "Savings",
          "Savings",
          "Savings",
          "Savings",
          "Savings",
          "Savings",
          "Savings",
          "Savings",
          "Savings",
          "Savings",
          "Savings",
          "Savings"
         ],
         "y0": " ",
         "yaxis": "y"
        }
       ],
       "layout": {
        "boxmode": "group",
        "legend": {
         "tracegroupgap": 0
        },
        "template": {
         "data": {
          "bar": [
           {
            "error_x": {
             "color": "#2a3f5f"
            },
            "error_y": {
             "color": "#2a3f5f"
            },
            "marker": {
             "line": {
              "color": "#E5ECF6",
              "width": 0.5
             },
             "pattern": {
              "fillmode": "overlay",
              "size": 10,
              "solidity": 0.2
             }
            },
            "type": "bar"
           }
          ],
          "barpolar": [
           {
            "marker": {
             "line": {
              "color": "#E5ECF6",
              "width": 0.5
             },
             "pattern": {
              "fillmode": "overlay",
              "size": 10,
              "solidity": 0.2
             }
            },
            "type": "barpolar"
           }
          ],
          "carpet": [
           {
            "aaxis": {
             "endlinecolor": "#2a3f5f",
             "gridcolor": "white",
             "linecolor": "white",
             "minorgridcolor": "white",
             "startlinecolor": "#2a3f5f"
            },
            "baxis": {
             "endlinecolor": "#2a3f5f",
             "gridcolor": "white",
             "linecolor": "white",
             "minorgridcolor": "white",
             "startlinecolor": "#2a3f5f"
            },
            "type": "carpet"
           }
          ],
          "choropleth": [
           {
            "colorbar": {
             "outlinewidth": 0,
             "ticks": ""
            },
            "type": "choropleth"
           }
          ],
          "contour": [
           {
            "colorbar": {
             "outlinewidth": 0,
             "ticks": ""
            },
            "colorscale": [
             [
              0,
              "#0d0887"
             ],
             [
              0.1111111111111111,
              "#46039f"
             ],
             [
              0.2222222222222222,
              "#7201a8"
             ],
             [
              0.3333333333333333,
              "#9c179e"
             ],
             [
              0.4444444444444444,
              "#bd3786"
             ],
             [
              0.5555555555555556,
              "#d8576b"
             ],
             [
              0.6666666666666666,
              "#ed7953"
             ],
             [
              0.7777777777777778,
              "#fb9f3a"
             ],
             [
              0.8888888888888888,
              "#fdca26"
             ],
             [
              1,
              "#f0f921"
             ]
            ],
            "type": "contour"
           }
          ],
          "contourcarpet": [
           {
            "colorbar": {
             "outlinewidth": 0,
             "ticks": ""
            },
            "type": "contourcarpet"
           }
          ],
          "heatmap": [
           {
            "colorbar": {
             "outlinewidth": 0,
             "ticks": ""
            },
            "colorscale": [
             [
              0,
              "#0d0887"
             ],
             [
              0.1111111111111111,
              "#46039f"
             ],
             [
              0.2222222222222222,
              "#7201a8"
             ],
             [
              0.3333333333333333,
              "#9c179e"
             ],
             [
              0.4444444444444444,
              "#bd3786"
             ],
             [
              0.5555555555555556,
              "#d8576b"
             ],
             [
              0.6666666666666666,
              "#ed7953"
             ],
             [
              0.7777777777777778,
              "#fb9f3a"
             ],
             [
              0.8888888888888888,
              "#fdca26"
             ],
             [
              1,
              "#f0f921"
             ]
            ],
            "type": "heatmap"
           }
          ],
          "histogram": [
           {
            "marker": {
             "pattern": {
              "fillmode": "overlay",
              "size": 10,
              "solidity": 0.2
             }
            },
            "type": "histogram"
           }
          ],
          "histogram2d": [
           {
            "colorbar": {
             "outlinewidth": 0,
             "ticks": ""
            },
            "colorscale": [
             [
              0,
              "#0d0887"
             ],
             [
              0.1111111111111111,
              "#46039f"
             ],
             [
              0.2222222222222222,
              "#7201a8"
             ],
             [
              0.3333333333333333,
              "#9c179e"
             ],
             [
              0.4444444444444444,
              "#bd3786"
             ],
             [
              0.5555555555555556,
              "#d8576b"
             ],
             [
              0.6666666666666666,
              "#ed7953"
             ],
             [
              0.7777777777777778,
              "#fb9f3a"
             ],
             [
              0.8888888888888888,
              "#fdca26"
             ],
             [
              1,
              "#f0f921"
             ]
            ],
            "type": "histogram2d"
           }
          ],
          "histogram2dcontour": [
           {
            "colorbar": {
             "outlinewidth": 0,
             "ticks": ""
            },
            "colorscale": [
             [
              0,
              "#0d0887"
             ],
             [
              0.1111111111111111,
              "#46039f"
             ],
             [
              0.2222222222222222,
              "#7201a8"
             ],
             [
              0.3333333333333333,
              "#9c179e"
             ],
             [
              0.4444444444444444,
              "#bd3786"
             ],
             [
              0.5555555555555556,
              "#d8576b"
             ],
             [
              0.6666666666666666,
              "#ed7953"
             ],
             [
              0.7777777777777778,
              "#fb9f3a"
             ],
             [
              0.8888888888888888,
              "#fdca26"
             ],
             [
              1,
              "#f0f921"
             ]
            ],
            "type": "histogram2dcontour"
           }
          ],
          "mesh3d": [
           {
            "colorbar": {
             "outlinewidth": 0,
             "ticks": ""
            },
            "type": "mesh3d"
           }
          ],
          "parcoords": [
           {
            "line": {
             "colorbar": {
              "outlinewidth": 0,
              "ticks": ""
             }
            },
            "type": "parcoords"
           }
          ],
          "pie": [
           {
            "automargin": true,
            "type": "pie"
           }
          ],
          "scatter": [
           {
            "fillpattern": {
             "fillmode": "overlay",
             "size": 10,
             "solidity": 0.2
            },
            "type": "scatter"
           }
          ],
          "scatter3d": [
           {
            "line": {
             "colorbar": {
              "outlinewidth": 0,
              "ticks": ""
             }
            },
            "marker": {
             "colorbar": {
              "outlinewidth": 0,
              "ticks": ""
             }
            },
            "type": "scatter3d"
           }
          ],
          "scattercarpet": [
           {
            "marker": {
             "colorbar": {
              "outlinewidth": 0,
              "ticks": ""
             }
            },
            "type": "scattercarpet"
           }
          ],
          "scattergeo": [
           {
            "marker": {
             "colorbar": {
              "outlinewidth": 0,
              "ticks": ""
             }
            },
            "type": "scattergeo"
           }
          ],
          "scattergl": [
           {
            "marker": {
             "colorbar": {
              "outlinewidth": 0,
              "ticks": ""
             }
            },
            "type": "scattergl"
           }
          ],
          "scattermap": [
           {
            "marker": {
             "colorbar": {
              "outlinewidth": 0,
              "ticks": ""
             }
            },
            "type": "scattermap"
           }
          ],
          "scattermapbox": [
           {
            "marker": {
             "colorbar": {
              "outlinewidth": 0,
              "ticks": ""
             }
            },
            "type": "scattermapbox"
           }
          ],
          "scatterpolar": [
           {
            "marker": {
             "colorbar": {
              "outlinewidth": 0,
              "ticks": ""
             }
            },
            "type": "scatterpolar"
           }
          ],
          "scatterpolargl": [
           {
            "marker": {
             "colorbar": {
              "outlinewidth": 0,
              "ticks": ""
             }
            },
            "type": "scatterpolargl"
           }
          ],
          "scatterternary": [
           {
            "marker": {
             "colorbar": {
              "outlinewidth": 0,
              "ticks": ""
             }
            },
            "type": "scatterternary"
           }
          ],
          "surface": [
           {
            "colorbar": {
             "outlinewidth": 0,
             "ticks": ""
            },
            "colorscale": [
             [
              0,
              "#0d0887"
             ],
             [
              0.1111111111111111,
              "#46039f"
             ],
             [
              0.2222222222222222,
              "#7201a8"
             ],
             [
              0.3333333333333333,
              "#9c179e"
             ],
             [
              0.4444444444444444,
              "#bd3786"
             ],
             [
              0.5555555555555556,
              "#d8576b"
             ],
             [
              0.6666666666666666,
              "#ed7953"
             ],
             [
              0.7777777777777778,
              "#fb9f3a"
             ],
             [
              0.8888888888888888,
              "#fdca26"
             ],
             [
              1,
              "#f0f921"
             ]
            ],
            "type": "surface"
           }
          ],
          "table": [
           {
            "cells": {
             "fill": {
              "color": "#EBF0F8"
             },
             "line": {
              "color": "white"
             }
            },
            "header": {
             "fill": {
              "color": "#C8D4E3"
             },
             "line": {
              "color": "white"
             }
            },
            "type": "table"
           }
          ]
         },
         "layout": {
          "annotationdefaults": {
           "arrowcolor": "#2a3f5f",
           "arrowhead": 0,
           "arrowwidth": 1
          },
          "autotypenumbers": "strict",
          "coloraxis": {
           "colorbar": {
            "outlinewidth": 0,
            "ticks": ""
           }
          },
          "colorscale": {
           "diverging": [
            [
             0,
             "#8e0152"
            ],
            [
             0.1,
             "#c51b7d"
            ],
            [
             0.2,
             "#de77ae"
            ],
            [
             0.3,
             "#f1b6da"
            ],
            [
             0.4,
             "#fde0ef"
            ],
            [
             0.5,
             "#f7f7f7"
            ],
            [
             0.6,
             "#e6f5d0"
            ],
            [
             0.7,
             "#b8e186"
            ],
            [
             0.8,
             "#7fbc41"
            ],
            [
             0.9,
             "#4d9221"
            ],
            [
             1,
             "#276419"
            ]
           ],
           "sequential": [
            [
             0,
             "#0d0887"
            ],
            [
             0.1111111111111111,
             "#46039f"
            ],
            [
             0.2222222222222222,
             "#7201a8"
            ],
            [
             0.3333333333333333,
             "#9c179e"
            ],
            [
             0.4444444444444444,
             "#bd3786"
            ],
            [
             0.5555555555555556,
             "#d8576b"
            ],
            [
             0.6666666666666666,
             "#ed7953"
            ],
            [
             0.7777777777777778,
             "#fb9f3a"
            ],
            [
             0.8888888888888888,
             "#fdca26"
            ],
            [
             1,
             "#f0f921"
            ]
           ],
           "sequentialminus": [
            [
             0,
             "#0d0887"
            ],
            [
             0.1111111111111111,
             "#46039f"
            ],
            [
             0.2222222222222222,
             "#7201a8"
            ],
            [
             0.3333333333333333,
             "#9c179e"
            ],
            [
             0.4444444444444444,
             "#bd3786"
            ],
            [
             0.5555555555555556,
             "#d8576b"
            ],
            [
             0.6666666666666666,
             "#ed7953"
            ],
            [
             0.7777777777777778,
             "#fb9f3a"
            ],
            [
             0.8888888888888888,
             "#fdca26"
            ],
            [
             1,
             "#f0f921"
            ]
           ]
          },
          "colorway": [
           "#636efa",
           "#EF553B",
           "#00cc96",
           "#ab63fa",
           "#FFA15A",
           "#19d3f3",
           "#FF6692",
           "#B6E880",
           "#FF97FF",
           "#FECB52"
          ],
          "font": {
           "color": "#2a3f5f"
          },
          "geo": {
           "bgcolor": "white",
           "lakecolor": "white",
           "landcolor": "#E5ECF6",
           "showlakes": true,
           "showland": true,
           "subunitcolor": "white"
          },
          "hoverlabel": {
           "align": "left"
          },
          "hovermode": "closest",
          "mapbox": {
           "style": "light"
          },
          "paper_bgcolor": "white",
          "plot_bgcolor": "#E5ECF6",
          "polar": {
           "angularaxis": {
            "gridcolor": "white",
            "linecolor": "white",
            "ticks": ""
           },
           "bgcolor": "#E5ECF6",
           "radialaxis": {
            "gridcolor": "white",
            "linecolor": "white",
            "ticks": ""
           }
          },
          "scene": {
           "xaxis": {
            "backgroundcolor": "#E5ECF6",
            "gridcolor": "white",
            "gridwidth": 2,
            "linecolor": "white",
            "showbackground": true,
            "ticks": "",
            "zerolinecolor": "white"
           },
           "yaxis": {
            "backgroundcolor": "#E5ECF6",
            "gridcolor": "white",
            "gridwidth": 2,
            "linecolor": "white",
            "showbackground": true,
            "ticks": "",
            "zerolinecolor": "white"
           },
           "zaxis": {
            "backgroundcolor": "#E5ECF6",
            "gridcolor": "white",
            "gridwidth": 2,
            "linecolor": "white",
            "showbackground": true,
            "ticks": "",
            "zerolinecolor": "white"
           }
          },
          "shapedefaults": {
           "line": {
            "color": "#2a3f5f"
           }
          },
          "ternary": {
           "aaxis": {
            "gridcolor": "white",
            "linecolor": "white",
            "ticks": ""
           },
           "baxis": {
            "gridcolor": "white",
            "linecolor": "white",
            "ticks": ""
           },
           "bgcolor": "#E5ECF6",
           "caxis": {
            "gridcolor": "white",
            "linecolor": "white",
            "ticks": ""
           }
          },
          "title": {
           "x": 0.05
          },
          "xaxis": {
           "automargin": true,
           "gridcolor": "white",
           "linecolor": "white",
           "ticks": "",
           "title": {
            "standoff": 15
           },
           "zerolinecolor": "white",
           "zerolinewidth": 2
          },
          "yaxis": {
           "automargin": true,
           "gridcolor": "white",
           "linecolor": "white",
           "ticks": "",
           "title": {
            "standoff": 15
           },
           "zerolinecolor": "white",
           "zerolinewidth": 2
          }
         }
        },
        "title": {
         "text": "Total yearly savings"
        },
        "xaxis": {
         "anchor": "y",
         "domain": [
          0,
          1
         ],
         "range": [
          0,
          15000
         ],
         "title": {
          "text": "Total yearly savings in €"
         }
        },
        "yaxis": {
         "anchor": "x",
         "domain": [
          0,
          1
         ],
         "title": {
          "text": ""
         }
        }
       }
      }
     },
     "metadata": {},
     "output_type": "display_data"
    }
   ],
   "source": [
    "abs_yearly_savings = abs_diff[\"total_yearly_costs_eur\"].copy()\n",
    "abs_yearly_savings.name = \"Total yearly savings in eur\"\n",
    "print(abs_yearly_savings.describe().drop(\"count\").to_markdown())\n",
    "\n",
    "fig_df = abs_diff.copy()\n",
    "fig_df = fig_df.rename(columns={\"total_yearly_costs_eur\": \"Savings\"})\n",
    "fig = px.box(\n",
    "    data_frame=fig_df,\n",
    "    x=[\"Savings\"],\n",
    "    title=\"Total yearly savings\")\n",
    "fig.update_layout(xaxis_title=\"Total yearly savings in €\", yaxis_title=\"\")\n",
    "fig.update_xaxes(range=[0, 15e3])\n",
    "fig.show()"
   ]
  },
  {
   "cell_type": "code",
   "execution_count": 16,
   "id": "84f4bf5f",
   "metadata": {},
   "outputs": [
    {
     "name": "stdout",
     "output_type": "stream",
     "text": [
      "|      |   Relative yearly savings in % |\n",
      "|:-----|-------------------------------:|\n",
      "| mean |                      0.291266  |\n",
      "| std  |                      0.0932143 |\n",
      "| min  |                      0.257192  |\n",
      "| 25%  |                      0.26845   |\n",
      "| 50%  |                      0.269868  |\n",
      "| 75%  |                      0.271973  |\n",
      "| max  |                      2.10708   |\n",
      "-----------------------\n",
      "Number of profiles with more than 1% yearly savings: 12\n",
      "Percentage of profiles with more than 1% yearly savings: 0.33 %\n",
      "Number of profiles with more than 2% yearly savings: 1\n",
      "Percentage of profiles with more than 2% yearly savings: 0.03 %\n",
      "Number of profiles with more than 3% yearly savings: 0\n",
      "Percentage of profiles with more than 3% yearly savings: 0.00 %\n"
     ]
    },
    {
     "data": {
      "application/vnd.plotly.v1+json": {
       "config": {
        "plotlyServerURL": "https://plot.ly"
       },
       "data": [
        {
         "alignmentgroup": "True",
         "hovertemplate": "Savings=%{x}<extra></extra>",
         "legendgroup": "",
         "marker": {
          "color": "#636efa"
         },
         "name": "",
         "notched": false,
         "offsetgroup": "",
         "orientation": "h",
         "showlegend": false,
         "type": "box",
         "x": {
          "bdata": "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",
          "dtype": "f8"
         },
         "x0": " ",
         "xaxis": "x",
         "y0": " ",
         "yaxis": "y"
        }
       ],
       "layout": {
        "boxmode": "group",
        "legend": {
         "tracegroupgap": 0
        },
        "template": {
         "data": {
          "bar": [
           {
            "error_x": {
             "color": "#2a3f5f"
            },
            "error_y": {
             "color": "#2a3f5f"
            },
            "marker": {
             "line": {
              "color": "#E5ECF6",
              "width": 0.5
             },
             "pattern": {
              "fillmode": "overlay",
              "size": 10,
              "solidity": 0.2
             }
            },
            "type": "bar"
           }
          ],
          "barpolar": [
           {
            "marker": {
             "line": {
              "color": "#E5ECF6",
              "width": 0.5
             },
             "pattern": {
              "fillmode": "overlay",
              "size": 10,
              "solidity": 0.2
             }
            },
            "type": "barpolar"
           }
          ],
          "carpet": [
           {
            "aaxis": {
             "endlinecolor": "#2a3f5f",
             "gridcolor": "white",
             "linecolor": "white",
             "minorgridcolor": "white",
             "startlinecolor": "#2a3f5f"
            },
            "baxis": {
             "endlinecolor": "#2a3f5f",
             "gridcolor": "white",
             "linecolor": "white",
             "minorgridcolor": "white",
             "startlinecolor": "#2a3f5f"
            },
            "type": "carpet"
           }
          ],
          "choropleth": [
           {
            "colorbar": {
             "outlinewidth": 0,
             "ticks": ""
            },
            "type": "choropleth"
           }
          ],
          "contour": [
           {
            "colorbar": {
             "outlinewidth": 0,
             "ticks": ""
            },
            "colorscale": [
             [
              0,
              "#0d0887"
             ],
             [
              0.1111111111111111,
              "#46039f"
             ],
             [
              0.2222222222222222,
              "#7201a8"
             ],
             [
              0.3333333333333333,
              "#9c179e"
             ],
             [
              0.4444444444444444,
              "#bd3786"
             ],
             [
              0.5555555555555556,
              "#d8576b"
             ],
             [
              0.6666666666666666,
              "#ed7953"
             ],
             [
              0.7777777777777778,
              "#fb9f3a"
             ],
             [
              0.8888888888888888,
              "#fdca26"
             ],
             [
              1,
              "#f0f921"
             ]
            ],
            "type": "contour"
           }
          ],
          "contourcarpet": [
           {
            "colorbar": {
             "outlinewidth": 0,
             "ticks": ""
            },
            "type": "contourcarpet"
           }
          ],
          "heatmap": [
           {
            "colorbar": {
             "outlinewidth": 0,
             "ticks": ""
            },
            "colorscale": [
             [
              0,
              "#0d0887"
             ],
             [
              0.1111111111111111,
              "#46039f"
             ],
             [
              0.2222222222222222,
              "#7201a8"
             ],
             [
              0.3333333333333333,
              "#9c179e"
             ],
             [
              0.4444444444444444,
              "#bd3786"
             ],
             [
              0.5555555555555556,
              "#d8576b"
             ],
             [
              0.6666666666666666,
              "#ed7953"
             ],
             [
              0.7777777777777778,
              "#fb9f3a"
             ],
             [
              0.8888888888888888,
              "#fdca26"
             ],
             [
              1,
              "#f0f921"
             ]
            ],
            "type": "heatmap"
           }
          ],
          "histogram": [
           {
            "marker": {
             "pattern": {
              "fillmode": "overlay",
              "size": 10,
              "solidity": 0.2
             }
            },
            "type": "histogram"
           }
          ],
          "histogram2d": [
           {
            "colorbar": {
             "outlinewidth": 0,
             "ticks": ""
            },
            "colorscale": [
             [
              0,
              "#0d0887"
             ],
             [
              0.1111111111111111,
              "#46039f"
             ],
             [
              0.2222222222222222,
              "#7201a8"
             ],
             [
              0.3333333333333333,
              "#9c179e"
             ],
             [
              0.4444444444444444,
              "#bd3786"
             ],
             [
              0.5555555555555556,
              "#d8576b"
             ],
             [
              0.6666666666666666,
              "#ed7953"
             ],
             [
              0.7777777777777778,
              "#fb9f3a"
             ],
             [
              0.8888888888888888,
              "#fdca26"
             ],
             [
              1,
              "#f0f921"
             ]
            ],
            "type": "histogram2d"
           }
          ],
          "histogram2dcontour": [
           {
            "colorbar": {
             "outlinewidth": 0,
             "ticks": ""
            },
            "colorscale": [
             [
              0,
              "#0d0887"
             ],
             [
              0.1111111111111111,
              "#46039f"
             ],
             [
              0.2222222222222222,
              "#7201a8"
             ],
             [
              0.3333333333333333,
              "#9c179e"
             ],
             [
              0.4444444444444444,
              "#bd3786"
             ],
             [
              0.5555555555555556,
              "#d8576b"
             ],
             [
              0.6666666666666666,
              "#ed7953"
             ],
             [
              0.7777777777777778,
              "#fb9f3a"
             ],
             [
              0.8888888888888888,
              "#fdca26"
             ],
             [
              1,
              "#f0f921"
             ]
            ],
            "type": "histogram2dcontour"
           }
          ],
          "mesh3d": [
           {
            "colorbar": {
             "outlinewidth": 0,
             "ticks": ""
            },
            "type": "mesh3d"
           }
          ],
          "parcoords": [
           {
            "line": {
             "colorbar": {
              "outlinewidth": 0,
              "ticks": ""
             }
            },
            "type": "parcoords"
           }
          ],
          "pie": [
           {
            "automargin": true,
            "type": "pie"
           }
          ],
          "scatter": [
           {
            "fillpattern": {
             "fillmode": "overlay",
             "size": 10,
             "solidity": 0.2
            },
            "type": "scatter"
           }
          ],
          "scatter3d": [
           {
            "line": {
             "colorbar": {
              "outlinewidth": 0,
              "ticks": ""
             }
            },
            "marker": {
             "colorbar": {
              "outlinewidth": 0,
              "ticks": ""
             }
            },
            "type": "scatter3d"
           }
          ],
          "scattercarpet": [
           {
            "marker": {
             "colorbar": {
              "outlinewidth": 0,
              "ticks": ""
             }
            },
            "type": "scattercarpet"
           }
          ],
          "scattergeo": [
           {
            "marker": {
             "colorbar": {
              "outlinewidth": 0,
              "ticks": ""
             }
            },
            "type": "scattergeo"
           }
          ],
          "scattergl": [
           {
            "marker": {
             "colorbar": {
              "outlinewidth": 0,
              "ticks": ""
             }
            },
            "type": "scattergl"
           }
          ],
          "scattermap": [
           {
            "marker": {
             "colorbar": {
              "outlinewidth": 0,
              "ticks": ""
             }
            },
            "type": "scattermap"
           }
          ],
          "scattermapbox": [
           {
            "marker": {
             "colorbar": {
              "outlinewidth": 0,
              "ticks": ""
             }
            },
            "type": "scattermapbox"
           }
          ],
          "scatterpolar": [
           {
            "marker": {
             "colorbar": {
              "outlinewidth": 0,
              "ticks": ""
             }
            },
            "type": "scatterpolar"
           }
          ],
          "scatterpolargl": [
           {
            "marker": {
             "colorbar": {
              "outlinewidth": 0,
              "ticks": ""
             }
            },
            "type": "scatterpolargl"
           }
          ],
          "scatterternary": [
           {
            "marker": {
             "colorbar": {
              "outlinewidth": 0,
              "ticks": ""
             }
            },
            "type": "scatterternary"
           }
          ],
          "surface": [
           {
            "colorbar": {
             "outlinewidth": 0,
             "ticks": ""
            },
            "colorscale": [
             [
              0,
              "#0d0887"
             ],
             [
              0.1111111111111111,
              "#46039f"
             ],
             [
              0.2222222222222222,
              "#7201a8"
             ],
             [
              0.3333333333333333,
              "#9c179e"
             ],
             [
              0.4444444444444444,
              "#bd3786"
             ],
             [
              0.5555555555555556,
              "#d8576b"
             ],
             [
              0.6666666666666666,
              "#ed7953"
             ],
             [
              0.7777777777777778,
              "#fb9f3a"
             ],
             [
              0.8888888888888888,
              "#fdca26"
             ],
             [
              1,
              "#f0f921"
             ]
            ],
            "type": "surface"
           }
          ],
          "table": [
           {
            "cells": {
             "fill": {
              "color": "#EBF0F8"
             },
             "line": {
              "color": "white"
             }
            },
            "header": {
             "fill": {
              "color": "#C8D4E3"
             },
             "line": {
              "color": "white"
             }
            },
            "type": "table"
           }
          ]
         },
         "layout": {
          "annotationdefaults": {
           "arrowcolor": "#2a3f5f",
           "arrowhead": 0,
           "arrowwidth": 1
          },
          "autotypenumbers": "strict",
          "coloraxis": {
           "colorbar": {
            "outlinewidth": 0,
            "ticks": ""
           }
          },
          "colorscale": {
           "diverging": [
            [
             0,
             "#8e0152"
            ],
            [
             0.1,
             "#c51b7d"
            ],
            [
             0.2,
             "#de77ae"
            ],
            [
             0.3,
             "#f1b6da"
            ],
            [
             0.4,
             "#fde0ef"
            ],
            [
             0.5,
             "#f7f7f7"
            ],
            [
             0.6,
             "#e6f5d0"
            ],
            [
             0.7,
             "#b8e186"
            ],
            [
             0.8,
             "#7fbc41"
            ],
            [
             0.9,
             "#4d9221"
            ],
            [
             1,
             "#276419"
            ]
           ],
           "sequential": [
            [
             0,
             "#0d0887"
            ],
            [
             0.1111111111111111,
             "#46039f"
            ],
            [
             0.2222222222222222,
             "#7201a8"
            ],
            [
             0.3333333333333333,
             "#9c179e"
            ],
            [
             0.4444444444444444,
             "#bd3786"
            ],
            [
             0.5555555555555556,
             "#d8576b"
            ],
            [
             0.6666666666666666,
             "#ed7953"
            ],
            [
             0.7777777777777778,
             "#fb9f3a"
            ],
            [
             0.8888888888888888,
             "#fdca26"
            ],
            [
             1,
             "#f0f921"
            ]
           ],
           "sequentialminus": [
            [
             0,
             "#0d0887"
            ],
            [
             0.1111111111111111,
             "#46039f"
            ],
            [
             0.2222222222222222,
             "#7201a8"
            ],
            [
             0.3333333333333333,
             "#9c179e"
            ],
            [
             0.4444444444444444,
             "#bd3786"
            ],
            [
             0.5555555555555556,
             "#d8576b"
            ],
            [
             0.6666666666666666,
             "#ed7953"
            ],
            [
             0.7777777777777778,
             "#fb9f3a"
            ],
            [
             0.8888888888888888,
             "#fdca26"
            ],
            [
             1,
             "#f0f921"
            ]
           ]
          },
          "colorway": [
           "#636efa",
           "#EF553B",
           "#00cc96",
           "#ab63fa",
           "#FFA15A",
           "#19d3f3",
           "#FF6692",
           "#B6E880",
           "#FF97FF",
           "#FECB52"
          ],
          "font": {
           "color": "#2a3f5f"
          },
          "geo": {
           "bgcolor": "white",
           "lakecolor": "white",
           "landcolor": "#E5ECF6",
           "showlakes": true,
           "showland": true,
           "subunitcolor": "white"
          },
          "hoverlabel": {
           "align": "left"
          },
          "hovermode": "closest",
          "mapbox": {
           "style": "light"
          },
          "paper_bgcolor": "white",
          "plot_bgcolor": "#E5ECF6",
          "polar": {
           "angularaxis": {
            "gridcolor": "white",
            "linecolor": "white",
            "ticks": ""
           },
           "bgcolor": "#E5ECF6",
           "radialaxis": {
            "gridcolor": "white",
            "linecolor": "white",
            "ticks": ""
           }
          },
          "scene": {
           "xaxis": {
            "backgroundcolor": "#E5ECF6",
            "gridcolor": "white",
            "gridwidth": 2,
            "linecolor": "white",
            "showbackground": true,
            "ticks": "",
            "zerolinecolor": "white"
           },
           "yaxis": {
            "backgroundcolor": "#E5ECF6",
            "gridcolor": "white",
            "gridwidth": 2,
            "linecolor": "white",
            "showbackground": true,
            "ticks": "",
            "zerolinecolor": "white"
           },
           "zaxis": {
            "backgroundcolor": "#E5ECF6",
            "gridcolor": "white",
            "gridwidth": 2,
            "linecolor": "white",
            "showbackground": true,
            "ticks": "",
            "zerolinecolor": "white"
           }
          },
          "shapedefaults": {
           "line": {
            "color": "#2a3f5f"
           }
          },
          "ternary": {
           "aaxis": {
            "gridcolor": "white",
            "linecolor": "white",
            "ticks": ""
           },
           "baxis": {
            "gridcolor": "white",
            "linecolor": "white",
            "ticks": ""
           },
           "bgcolor": "#E5ECF6",
           "caxis": {
            "gridcolor": "white",
            "linecolor": "white",
            "ticks": ""
           }
          },
          "title": {
           "x": 0.05
          },
          "xaxis": {
           "automargin": true,
           "gridcolor": "white",
           "linecolor": "white",
           "ticks": "",
           "title": {
            "standoff": 15
           },
           "zerolinecolor": "white",
           "zerolinewidth": 2
          },
          "yaxis": {
           "automargin": true,
           "gridcolor": "white",
           "linecolor": "white",
           "ticks": "",
           "title": {
            "standoff": 15
           },
           "zerolinecolor": "white",
           "zerolinewidth": 2
          }
         }
        },
        "title": {
         "text": "Relative yearly savings"
        },
        "xaxis": {
         "anchor": "y",
         "domain": [
          0,
          1
         ],
         "range": [
          0,
          15
         ],
         "title": {
          "text": "Relative yearly savings in %"
         }
        },
        "yaxis": {
         "anchor": "x",
         "domain": [
          0,
          1
         ],
         "title": {
          "text": ""
         }
        }
       }
      }
     },
     "metadata": {},
     "output_type": "display_data"
    }
   ],
   "source": [
    "rel_yearly_savings = 100 * rel_diff[\"total_yearly_costs_eur\"].copy()\n",
    "rel_yearly_savings.name = \"Relative yearly savings in %\"\n",
    "print(rel_yearly_savings.describe().drop(\"count\").to_markdown())\n",
    "print(\"-----------------------\")\n",
    "n_profiles_1pct_yearly_savings = len(rel_diff[rel_diff[\"total_yearly_costs_eur\"] > 0.01])\n",
    "print(f\"Number of profiles with more than 1% yearly savings: {n_profiles_1pct_yearly_savings}\")\n",
    "perc_profiles_1pct_yearly_savings = (n_profiles_1pct_yearly_savings / len(rel_diff)) * 100\n",
    "print(f\"Percentage of profiles with more than 1% yearly savings: {perc_profiles_1pct_yearly_savings:.2f} %\")\n",
    "n_profiles_2pct_yearly_savings = len(rel_diff[rel_diff[\"total_yearly_costs_eur\"] > 0.02])\n",
    "print(f\"Number of profiles with more than 2% yearly savings: {n_profiles_2pct_yearly_savings}\")\n",
    "perc_profiles_2pct_yearly_savings = (n_profiles_2pct_yearly_savings / len(rel_diff)) * 100\n",
    "print(f\"Percentage of profiles with more than 2% yearly savings: {perc_profiles_2pct_yearly_savings:.2f} %\")\n",
    "n_profiles_3pct_yearly_savings = len(rel_diff[rel_diff[\"total_yearly_costs_eur\"] > 0.03])\n",
    "print(f\"Number of profiles with more than 3% yearly savings: {n_profiles_3pct_yearly_savings}\")\n",
    "perc_profiles_3pct_yearly_savings = (n_profiles_3pct_yearly_savings / len(rel_diff)) * 100\n",
    "print(f\"Percentage of profiles with more than 3% yearly savings: {perc_profiles_3pct_yearly_savings:.2f} %\")\n",
    "\n",
    "fig_df = pd.DataFrame()\n",
    "fig_df = rel_diff.copy() * 100\n",
    "fig_df = fig_df.rename(columns={\"total_yearly_costs_eur\": \"Savings\"})\n",
    "fig = px.box(\n",
    "    data_frame=fig_df,\n",
    "    x=\"Savings\",\n",
    "    title=\"Relative yearly savings\")\n",
    "fig.update_layout(xaxis_title=\"Relative yearly savings in %\", yaxis_title=\"\")\n",
    "fig.update_xaxes(range=[0, 15])\n",
    "fig.show()"
   ]
  },
  {
   "cell_type": "markdown",
   "id": "20f60e08",
   "metadata": {},
   "source": [
    "## Capacity costs savings"
   ]
  },
  {
   "cell_type": "code",
   "execution_count": 17,
   "id": "734f53dd",
   "metadata": {},
   "outputs": [
    {
     "name": "stdout",
     "output_type": "stream",
     "text": [
      "|      |   Total yearly grid capacity costs savings in % |\n",
      "|:-----|------------------------------------------------:|\n",
      "| mean |                                         313.535 |\n",
      "| std  |                                        1387.53  |\n",
      "| min  |                                           0     |\n",
      "| 25%  |                                           0     |\n",
      "| 50%  |                                           0     |\n",
      "| 75%  |                                         104.163 |\n",
      "| max  |                                       52009     |\n"
     ]
    },
    {
     "data": {
      "application/vnd.plotly.v1+json": {
       "config": {
        "plotlyServerURL": "https://plot.ly"
       },
       "data": [
        {
         "alignmentgroup": "True",
         "hovertemplate": "Savings=%{x}<extra></extra>",
         "legendgroup": "",
         "marker": {
          "color": "#636efa"
         },
         "name": "",
         "notched": false,
         "offsetgroup": "",
         "orientation": "h",
         "showlegend": false,
         "type": "box",
         "x": {
          "bdata": "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",
          "dtype": "f8"
         },
         "x0": " ",
         "xaxis": "x",
         "y0": " ",
         "yaxis": "y"
        }
       ],
       "layout": {
        "boxmode": "group",
        "legend": {
         "tracegroupgap": 0
        },
        "template": {
         "data": {
          "bar": [
           {
            "error_x": {
             "color": "#2a3f5f"
            },
            "error_y": {
             "color": "#2a3f5f"
            },
            "marker": {
             "line": {
              "color": "#E5ECF6",
              "width": 0.5
             },
             "pattern": {
              "fillmode": "overlay",
              "size": 10,
              "solidity": 0.2
             }
            },
            "type": "bar"
           }
          ],
          "barpolar": [
           {
            "marker": {
             "line": {
              "color": "#E5ECF6",
              "width": 0.5
             },
             "pattern": {
              "fillmode": "overlay",
              "size": 10,
              "solidity": 0.2
             }
            },
            "type": "barpolar"
           }
          ],
          "carpet": [
           {
            "aaxis": {
             "endlinecolor": "#2a3f5f",
             "gridcolor": "white",
             "linecolor": "white",
             "minorgridcolor": "white",
             "startlinecolor": "#2a3f5f"
            },
            "baxis": {
             "endlinecolor": "#2a3f5f",
             "gridcolor": "white",
             "linecolor": "white",
             "minorgridcolor": "white",
             "startlinecolor": "#2a3f5f"
            },
            "type": "carpet"
           }
          ],
          "choropleth": [
           {
            "colorbar": {
             "outlinewidth": 0,
             "ticks": ""
            },
            "type": "choropleth"
           }
          ],
          "contour": [
           {
            "colorbar": {
             "outlinewidth": 0,
             "ticks": ""
            },
            "colorscale": [
             [
              0,
              "#0d0887"
             ],
             [
              0.1111111111111111,
              "#46039f"
             ],
             [
              0.2222222222222222,
              "#7201a8"
             ],
             [
              0.3333333333333333,
              "#9c179e"
             ],
             [
              0.4444444444444444,
              "#bd3786"
             ],
             [
              0.5555555555555556,
              "#d8576b"
             ],
             [
              0.6666666666666666,
              "#ed7953"
             ],
             [
              0.7777777777777778,
              "#fb9f3a"
             ],
             [
              0.8888888888888888,
              "#fdca26"
             ],
             [
              1,
              "#f0f921"
             ]
            ],
            "type": "contour"
           }
          ],
          "contourcarpet": [
           {
            "colorbar": {
             "outlinewidth": 0,
             "ticks": ""
            },
            "type": "contourcarpet"
           }
          ],
          "heatmap": [
           {
            "colorbar": {
             "outlinewidth": 0,
             "ticks": ""
            },
            "colorscale": [
             [
              0,
              "#0d0887"
             ],
             [
              0.1111111111111111,
              "#46039f"
             ],
             [
              0.2222222222222222,
              "#7201a8"
             ],
             [
              0.3333333333333333,
              "#9c179e"
             ],
             [
              0.4444444444444444,
              "#bd3786"
             ],
             [
              0.5555555555555556,
              "#d8576b"
             ],
             [
              0.6666666666666666,
              "#ed7953"
             ],
             [
              0.7777777777777778,
              "#fb9f3a"
             ],
             [
              0.8888888888888888,
              "#fdca26"
             ],
             [
              1,
              "#f0f921"
             ]
            ],
            "type": "heatmap"
           }
          ],
          "histogram": [
           {
            "marker": {
             "pattern": {
              "fillmode": "overlay",
              "size": 10,
              "solidity": 0.2
             }
            },
            "type": "histogram"
           }
          ],
          "histogram2d": [
           {
            "colorbar": {
             "outlinewidth": 0,
             "ticks": ""
            },
            "colorscale": [
             [
              0,
              "#0d0887"
             ],
             [
              0.1111111111111111,
              "#46039f"
             ],
             [
              0.2222222222222222,
              "#7201a8"
             ],
             [
              0.3333333333333333,
              "#9c179e"
             ],
             [
              0.4444444444444444,
              "#bd3786"
             ],
             [
              0.5555555555555556,
              "#d8576b"
             ],
             [
              0.6666666666666666,
              "#ed7953"
             ],
             [
              0.7777777777777778,
              "#fb9f3a"
             ],
             [
              0.8888888888888888,
              "#fdca26"
             ],
             [
              1,
              "#f0f921"
             ]
            ],
            "type": "histogram2d"
           }
          ],
          "histogram2dcontour": [
           {
            "colorbar": {
             "outlinewidth": 0,
             "ticks": ""
            },
            "colorscale": [
             [
              0,
              "#0d0887"
             ],
             [
              0.1111111111111111,
              "#46039f"
             ],
             [
              0.2222222222222222,
              "#7201a8"
             ],
             [
              0.3333333333333333,
              "#9c179e"
             ],
             [
              0.4444444444444444,
              "#bd3786"
             ],
             [
              0.5555555555555556,
              "#d8576b"
             ],
             [
              0.6666666666666666,
              "#ed7953"
             ],
             [
              0.7777777777777778,
              "#fb9f3a"
             ],
             [
              0.8888888888888888,
              "#fdca26"
             ],
             [
              1,
              "#f0f921"
             ]
            ],
            "type": "histogram2dcontour"
           }
          ],
          "mesh3d": [
           {
            "colorbar": {
             "outlinewidth": 0,
             "ticks": ""
            },
            "type": "mesh3d"
           }
          ],
          "parcoords": [
           {
            "line": {
             "colorbar": {
              "outlinewidth": 0,
              "ticks": ""
             }
            },
            "type": "parcoords"
           }
          ],
          "pie": [
           {
            "automargin": true,
            "type": "pie"
           }
          ],
          "scatter": [
           {
            "fillpattern": {
             "fillmode": "overlay",
             "size": 10,
             "solidity": 0.2
            },
            "type": "scatter"
           }
          ],
          "scatter3d": [
           {
            "line": {
             "colorbar": {
              "outlinewidth": 0,
              "ticks": ""
             }
            },
            "marker": {
             "colorbar": {
              "outlinewidth": 0,
              "ticks": ""
             }
            },
            "type": "scatter3d"
           }
          ],
          "scattercarpet": [
           {
            "marker": {
             "colorbar": {
              "outlinewidth": 0,
              "ticks": ""
             }
            },
            "type": "scattercarpet"
           }
          ],
          "scattergeo": [
           {
            "marker": {
             "colorbar": {
              "outlinewidth": 0,
              "ticks": ""
             }
            },
            "type": "scattergeo"
           }
          ],
          "scattergl": [
           {
            "marker": {
             "colorbar": {
              "outlinewidth": 0,
              "ticks": ""
             }
            },
            "type": "scattergl"
           }
          ],
          "scattermap": [
           {
            "marker": {
             "colorbar": {
              "outlinewidth": 0,
              "ticks": ""
             }
            },
            "type": "scattermap"
           }
          ],
          "scattermapbox": [
           {
            "marker": {
             "colorbar": {
              "outlinewidth": 0,
              "ticks": ""
             }
            },
            "type": "scattermapbox"
           }
          ],
          "scatterpolar": [
           {
            "marker": {
             "colorbar": {
              "outlinewidth": 0,
              "ticks": ""
             }
            },
            "type": "scatterpolar"
           }
          ],
          "scatterpolargl": [
           {
            "marker": {
             "colorbar": {
              "outlinewidth": 0,
              "ticks": ""
             }
            },
            "type": "scatterpolargl"
           }
          ],
          "scatterternary": [
           {
            "marker": {
             "colorbar": {
              "outlinewidth": 0,
              "ticks": ""
             }
            },
            "type": "scatterternary"
           }
          ],
          "surface": [
           {
            "colorbar": {
             "outlinewidth": 0,
             "ticks": ""
            },
            "colorscale": [
             [
              0,
              "#0d0887"
             ],
             [
              0.1111111111111111,
              "#46039f"
             ],
             [
              0.2222222222222222,
              "#7201a8"
             ],
             [
              0.3333333333333333,
              "#9c179e"
             ],
             [
              0.4444444444444444,
              "#bd3786"
             ],
             [
              0.5555555555555556,
              "#d8576b"
             ],
             [
              0.6666666666666666,
              "#ed7953"
             ],
             [
              0.7777777777777778,
              "#fb9f3a"
             ],
             [
              0.8888888888888888,
              "#fdca26"
             ],
             [
              1,
              "#f0f921"
             ]
            ],
            "type": "surface"
           }
          ],
          "table": [
           {
            "cells": {
             "fill": {
              "color": "#EBF0F8"
             },
             "line": {
              "color": "white"
             }
            },
            "header": {
             "fill": {
              "color": "#C8D4E3"
             },
             "line": {
              "color": "white"
             }
            },
            "type": "table"
           }
          ]
         },
         "layout": {
          "annotationdefaults": {
           "arrowcolor": "#2a3f5f",
           "arrowhead": 0,
           "arrowwidth": 1
          },
          "autotypenumbers": "strict",
          "coloraxis": {
           "colorbar": {
            "outlinewidth": 0,
            "ticks": ""
           }
          },
          "colorscale": {
           "diverging": [
            [
             0,
             "#8e0152"
            ],
            [
             0.1,
             "#c51b7d"
            ],
            [
             0.2,
             "#de77ae"
            ],
            [
             0.3,
             "#f1b6da"
            ],
            [
             0.4,
             "#fde0ef"
            ],
            [
             0.5,
             "#f7f7f7"
            ],
            [
             0.6,
             "#e6f5d0"
            ],
            [
             0.7,
             "#b8e186"
            ],
            [
             0.8,
             "#7fbc41"
            ],
            [
             0.9,
             "#4d9221"
            ],
            [
             1,
             "#276419"
            ]
           ],
           "sequential": [
            [
             0,
             "#0d0887"
            ],
            [
             0.1111111111111111,
             "#46039f"
            ],
            [
             0.2222222222222222,
             "#7201a8"
            ],
            [
             0.3333333333333333,
             "#9c179e"
            ],
            [
             0.4444444444444444,
             "#bd3786"
            ],
            [
             0.5555555555555556,
             "#d8576b"
            ],
            [
             0.6666666666666666,
             "#ed7953"
            ],
            [
             0.7777777777777778,
             "#fb9f3a"
            ],
            [
             0.8888888888888888,
             "#fdca26"
            ],
            [
             1,
             "#f0f921"
            ]
           ],
           "sequentialminus": [
            [
             0,
             "#0d0887"
            ],
            [
             0.1111111111111111,
             "#46039f"
            ],
            [
             0.2222222222222222,
             "#7201a8"
            ],
            [
             0.3333333333333333,
             "#9c179e"
            ],
            [
             0.4444444444444444,
             "#bd3786"
            ],
            [
             0.5555555555555556,
             "#d8576b"
            ],
            [
             0.6666666666666666,
             "#ed7953"
            ],
            [
             0.7777777777777778,
             "#fb9f3a"
            ],
            [
             0.8888888888888888,
             "#fdca26"
            ],
            [
             1,
             "#f0f921"
            ]
           ]
          },
          "colorway": [
           "#636efa",
           "#EF553B",
           "#00cc96",
           "#ab63fa",
           "#FFA15A",
           "#19d3f3",
           "#FF6692",
           "#B6E880",
           "#FF97FF",
           "#FECB52"
          ],
          "font": {
           "color": "#2a3f5f"
          },
          "geo": {
           "bgcolor": "white",
           "lakecolor": "white",
           "landcolor": "#E5ECF6",
           "showlakes": true,
           "showland": true,
           "subunitcolor": "white"
          },
          "hoverlabel": {
           "align": "left"
          },
          "hovermode": "closest",
          "mapbox": {
           "style": "light"
          },
          "paper_bgcolor": "white",
          "plot_bgcolor": "#E5ECF6",
          "polar": {
           "angularaxis": {
            "gridcolor": "white",
            "linecolor": "white",
            "ticks": ""
           },
           "bgcolor": "#E5ECF6",
           "radialaxis": {
            "gridcolor": "white",
            "linecolor": "white",
            "ticks": ""
           }
          },
          "scene": {
           "xaxis": {
            "backgroundcolor": "#E5ECF6",
            "gridcolor": "white",
            "gridwidth": 2,
            "linecolor": "white",
            "showbackground": true,
            "ticks": "",
            "zerolinecolor": "white"
           },
           "yaxis": {
            "backgroundcolor": "#E5ECF6",
            "gridcolor": "white",
            "gridwidth": 2,
            "linecolor": "white",
            "showbackground": true,
            "ticks": "",
            "zerolinecolor": "white"
           },
           "zaxis": {
            "backgroundcolor": "#E5ECF6",
            "gridcolor": "white",
            "gridwidth": 2,
            "linecolor": "white",
            "showbackground": true,
            "ticks": "",
            "zerolinecolor": "white"
           }
          },
          "shapedefaults": {
           "line": {
            "color": "#2a3f5f"
           }
          },
          "ternary": {
           "aaxis": {
            "gridcolor": "white",
            "linecolor": "white",
            "ticks": ""
           },
           "baxis": {
            "gridcolor": "white",
            "linecolor": "white",
            "ticks": ""
           },
           "bgcolor": "#E5ECF6",
           "caxis": {
            "gridcolor": "white",
            "linecolor": "white",
            "ticks": ""
           }
          },
          "title": {
           "x": 0.05
          },
          "xaxis": {
           "automargin": true,
           "gridcolor": "white",
           "linecolor": "white",
           "ticks": "",
           "title": {
            "standoff": 15
           },
           "zerolinecolor": "white",
           "zerolinewidth": 2
          },
          "yaxis": {
           "automargin": true,
           "gridcolor": "white",
           "linecolor": "white",
           "ticks": "",
           "title": {
            "standoff": 15
           },
           "zerolinecolor": "white",
           "zerolinewidth": 2
          }
         }
        },
        "title": {
         "text": "Yearly capacity costs savings"
        },
        "xaxis": {
         "anchor": "y",
         "domain": [
          0,
          1
         ],
         "range": [
          0,
          10000
         ],
         "title": {
          "text": "Savings in €"
         }
        },
        "yaxis": {
         "anchor": "x",
         "domain": [
          0,
          1
         ],
         "title": {
          "text": ""
         }
        }
       }
      }
     },
     "metadata": {},
     "output_type": "display_data"
    }
   ],
   "source": [
    "abs_cap_costs_yearly_savings = abs_diff[\"grid_capacity_costs_eur\"].copy()\n",
    "abs_cap_costs_yearly_savings.name = \"Total yearly grid capacity costs savings in %\"\n",
    "print(abs_cap_costs_yearly_savings.describe().drop(\"count\").to_markdown())\n",
    "\n",
    "total_cap_saving_fig_df = abs_diff.copy()\n",
    "total_cap_saving_fig_df = total_cap_saving_fig_df.rename(columns={\"grid_capacity_costs_eur\": \"Savings\"})\n",
    "total_cap_savings_fig = px.box(\n",
    "    data_frame=total_cap_saving_fig_df,\n",
    "    x=\"Savings\",\n",
    "    title=\"Yearly capacity costs savings\")\n",
    "total_cap_savings_fig.update_layout(xaxis_title=\"Savings in €\", yaxis_title=\"\")\n",
    "total_cap_savings_fig.update_xaxes(range=[0, 10e3])\n",
    "total_cap_savings_fig.show()"
   ]
  },
  {
   "cell_type": "code",
   "execution_count": 18,
   "id": "93739546",
   "metadata": {},
   "outputs": [
    {
     "name": "stdout",
     "output_type": "stream",
     "text": [
      "|      |   Relative yearly grid capacity costs savings in % |\n",
      "|:-----|---------------------------------------------------:|\n",
      "| mean |                                            1.85823 |\n",
      "| std  |                                            4.45138 |\n",
      "| min  |                                            0       |\n",
      "| 25%  |                                            0       |\n",
      "| 50%  |                                            0       |\n",
      "| 75%  |                                            1.42885 |\n",
      "| max  |                                           44.7172  |\n"
     ]
    },
    {
     "data": {
      "application/vnd.plotly.v1+json": {
       "config": {
        "plotlyServerURL": "https://plot.ly"
       },
       "data": [
        {
         "alignmentgroup": "True",
         "hovertemplate": "Savings=%{x}<extra></extra>",
         "legendgroup": "",
         "marker": {
          "color": "#636efa"
         },
         "name": "",
         "notched": false,
         "offsetgroup": "",
         "orientation": "h",
         "showlegend": false,
         "type": "box",
         "x": {
          "bdata": "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",
          "dtype": "f8"
         },
         "x0": " ",
         "xaxis": "x",
         "y0": " ",
         "yaxis": "y"
        }
       ],
       "layout": {
        "boxmode": "group",
        "legend": {
         "tracegroupgap": 0
        },
        "template": {
         "data": {
          "bar": [
           {
            "error_x": {
             "color": "#2a3f5f"
            },
            "error_y": {
             "color": "#2a3f5f"
            },
            "marker": {
             "line": {
              "color": "#E5ECF6",
              "width": 0.5
             },
             "pattern": {
              "fillmode": "overlay",
              "size": 10,
              "solidity": 0.2
             }
            },
            "type": "bar"
           }
          ],
          "barpolar": [
           {
            "marker": {
             "line": {
              "color": "#E5ECF6",
              "width": 0.5
             },
             "pattern": {
              "fillmode": "overlay",
              "size": 10,
              "solidity": 0.2
             }
            },
            "type": "barpolar"
           }
          ],
          "carpet": [
           {
            "aaxis": {
             "endlinecolor": "#2a3f5f",
             "gridcolor": "white",
             "linecolor": "white",
             "minorgridcolor": "white",
             "startlinecolor": "#2a3f5f"
            },
            "baxis": {
             "endlinecolor": "#2a3f5f",
             "gridcolor": "white",
             "linecolor": "white",
             "minorgridcolor": "white",
             "startlinecolor": "#2a3f5f"
            },
            "type": "carpet"
           }
          ],
          "choropleth": [
           {
            "colorbar": {
             "outlinewidth": 0,
             "ticks": ""
            },
            "type": "choropleth"
           }
          ],
          "contour": [
           {
            "colorbar": {
             "outlinewidth": 0,
             "ticks": ""
            },
            "colorscale": [
             [
              0,
              "#0d0887"
             ],
             [
              0.1111111111111111,
              "#46039f"
             ],
             [
              0.2222222222222222,
              "#7201a8"
             ],
             [
              0.3333333333333333,
              "#9c179e"
             ],
             [
              0.4444444444444444,
              "#bd3786"
             ],
             [
              0.5555555555555556,
              "#d8576b"
             ],
             [
              0.6666666666666666,
              "#ed7953"
             ],
             [
              0.7777777777777778,
              "#fb9f3a"
             ],
             [
              0.8888888888888888,
              "#fdca26"
             ],
             [
              1,
              "#f0f921"
             ]
            ],
            "type": "contour"
           }
          ],
          "contourcarpet": [
           {
            "colorbar": {
             "outlinewidth": 0,
             "ticks": ""
            },
            "type": "contourcarpet"
           }
          ],
          "heatmap": [
           {
            "colorbar": {
             "outlinewidth": 0,
             "ticks": ""
            },
            "colorscale": [
             [
              0,
              "#0d0887"
             ],
             [
              0.1111111111111111,
              "#46039f"
             ],
             [
              0.2222222222222222,
              "#7201a8"
             ],
             [
              0.3333333333333333,
              "#9c179e"
             ],
             [
              0.4444444444444444,
              "#bd3786"
             ],
             [
              0.5555555555555556,
              "#d8576b"
             ],
             [
              0.6666666666666666,
              "#ed7953"
             ],
             [
              0.7777777777777778,
              "#fb9f3a"
             ],
             [
              0.8888888888888888,
              "#fdca26"
             ],
             [
              1,
              "#f0f921"
             ]
            ],
            "type": "heatmap"
           }
          ],
          "histogram": [
           {
            "marker": {
             "pattern": {
              "fillmode": "overlay",
              "size": 10,
              "solidity": 0.2
             }
            },
            "type": "histogram"
           }
          ],
          "histogram2d": [
           {
            "colorbar": {
             "outlinewidth": 0,
             "ticks": ""
            },
            "colorscale": [
             [
              0,
              "#0d0887"
             ],
             [
              0.1111111111111111,
              "#46039f"
             ],
             [
              0.2222222222222222,
              "#7201a8"
             ],
             [
              0.3333333333333333,
              "#9c179e"
             ],
             [
              0.4444444444444444,
              "#bd3786"
             ],
             [
              0.5555555555555556,
              "#d8576b"
             ],
             [
              0.6666666666666666,
              "#ed7953"
             ],
             [
              0.7777777777777778,
              "#fb9f3a"
             ],
             [
              0.8888888888888888,
              "#fdca26"
             ],
             [
              1,
              "#f0f921"
             ]
            ],
            "type": "histogram2d"
           }
          ],
          "histogram2dcontour": [
           {
            "colorbar": {
             "outlinewidth": 0,
             "ticks": ""
            },
            "colorscale": [
             [
              0,
              "#0d0887"
             ],
             [
              0.1111111111111111,
              "#46039f"
             ],
             [
              0.2222222222222222,
              "#7201a8"
             ],
             [
              0.3333333333333333,
              "#9c179e"
             ],
             [
              0.4444444444444444,
              "#bd3786"
             ],
             [
              0.5555555555555556,
              "#d8576b"
             ],
             [
              0.6666666666666666,
              "#ed7953"
             ],
             [
              0.7777777777777778,
              "#fb9f3a"
             ],
             [
              0.8888888888888888,
              "#fdca26"
             ],
             [
              1,
              "#f0f921"
             ]
            ],
            "type": "histogram2dcontour"
           }
          ],
          "mesh3d": [
           {
            "colorbar": {
             "outlinewidth": 0,
             "ticks": ""
            },
            "type": "mesh3d"
           }
          ],
          "parcoords": [
           {
            "line": {
             "colorbar": {
              "outlinewidth": 0,
              "ticks": ""
             }
            },
            "type": "parcoords"
           }
          ],
          "pie": [
           {
            "automargin": true,
            "type": "pie"
           }
          ],
          "scatter": [
           {
            "fillpattern": {
             "fillmode": "overlay",
             "size": 10,
             "solidity": 0.2
            },
            "type": "scatter"
           }
          ],
          "scatter3d": [
           {
            "line": {
             "colorbar": {
              "outlinewidth": 0,
              "ticks": ""
             }
            },
            "marker": {
             "colorbar": {
              "outlinewidth": 0,
              "ticks": ""
             }
            },
            "type": "scatter3d"
           }
          ],
          "scattercarpet": [
           {
            "marker": {
             "colorbar": {
              "outlinewidth": 0,
              "ticks": ""
             }
            },
            "type": "scattercarpet"
           }
          ],
          "scattergeo": [
           {
            "marker": {
             "colorbar": {
              "outlinewidth": 0,
              "ticks": ""
             }
            },
            "type": "scattergeo"
           }
          ],
          "scattergl": [
           {
            "marker": {
             "colorbar": {
              "outlinewidth": 0,
              "ticks": ""
             }
            },
            "type": "scattergl"
           }
          ],
          "scattermap": [
           {
            "marker": {
             "colorbar": {
              "outlinewidth": 0,
              "ticks": ""
             }
            },
            "type": "scattermap"
           }
          ],
          "scattermapbox": [
           {
            "marker": {
             "colorbar": {
              "outlinewidth": 0,
              "ticks": ""
             }
            },
            "type": "scattermapbox"
           }
          ],
          "scatterpolar": [
           {
            "marker": {
             "colorbar": {
              "outlinewidth": 0,
              "ticks": ""
             }
            },
            "type": "scatterpolar"
           }
          ],
          "scatterpolargl": [
           {
            "marker": {
             "colorbar": {
              "outlinewidth": 0,
              "ticks": ""
             }
            },
            "type": "scatterpolargl"
           }
          ],
          "scatterternary": [
           {
            "marker": {
             "colorbar": {
              "outlinewidth": 0,
              "ticks": ""
             }
            },
            "type": "scatterternary"
           }
          ],
          "surface": [
           {
            "colorbar": {
             "outlinewidth": 0,
             "ticks": ""
            },
            "colorscale": [
             [
              0,
              "#0d0887"
             ],
             [
              0.1111111111111111,
              "#46039f"
             ],
             [
              0.2222222222222222,
              "#7201a8"
             ],
             [
              0.3333333333333333,
              "#9c179e"
             ],
             [
              0.4444444444444444,
              "#bd3786"
             ],
             [
              0.5555555555555556,
              "#d8576b"
             ],
             [
              0.6666666666666666,
              "#ed7953"
             ],
             [
              0.7777777777777778,
              "#fb9f3a"
             ],
             [
              0.8888888888888888,
              "#fdca26"
             ],
             [
              1,
              "#f0f921"
             ]
            ],
            "type": "surface"
           }
          ],
          "table": [
           {
            "cells": {
             "fill": {
              "color": "#EBF0F8"
             },
             "line": {
              "color": "white"
             }
            },
            "header": {
             "fill": {
              "color": "#C8D4E3"
             },
             "line": {
              "color": "white"
             }
            },
            "type": "table"
           }
          ]
         },
         "layout": {
          "annotationdefaults": {
           "arrowcolor": "#2a3f5f",
           "arrowhead": 0,
           "arrowwidth": 1
          },
          "autotypenumbers": "strict",
          "coloraxis": {
           "colorbar": {
            "outlinewidth": 0,
            "ticks": ""
           }
          },
          "colorscale": {
           "diverging": [
            [
             0,
             "#8e0152"
            ],
            [
             0.1,
             "#c51b7d"
            ],
            [
             0.2,
             "#de77ae"
            ],
            [
             0.3,
             "#f1b6da"
            ],
            [
             0.4,
             "#fde0ef"
            ],
            [
             0.5,
             "#f7f7f7"
            ],
            [
             0.6,
             "#e6f5d0"
            ],
            [
             0.7,
             "#b8e186"
            ],
            [
             0.8,
             "#7fbc41"
            ],
            [
             0.9,
             "#4d9221"
            ],
            [
             1,
             "#276419"
            ]
           ],
           "sequential": [
            [
             0,
             "#0d0887"
            ],
            [
             0.1111111111111111,
             "#46039f"
            ],
            [
             0.2222222222222222,
             "#7201a8"
            ],
            [
             0.3333333333333333,
             "#9c179e"
            ],
            [
             0.4444444444444444,
             "#bd3786"
            ],
            [
             0.5555555555555556,
             "#d8576b"
            ],
            [
             0.6666666666666666,
             "#ed7953"
            ],
            [
             0.7777777777777778,
             "#fb9f3a"
            ],
            [
             0.8888888888888888,
             "#fdca26"
            ],
            [
             1,
             "#f0f921"
            ]
           ],
           "sequentialminus": [
            [
             0,
             "#0d0887"
            ],
            [
             0.1111111111111111,
             "#46039f"
            ],
            [
             0.2222222222222222,
             "#7201a8"
            ],
            [
             0.3333333333333333,
             "#9c179e"
            ],
            [
             0.4444444444444444,
             "#bd3786"
            ],
            [
             0.5555555555555556,
             "#d8576b"
            ],
            [
             0.6666666666666666,
             "#ed7953"
            ],
            [
             0.7777777777777778,
             "#fb9f3a"
            ],
            [
             0.8888888888888888,
             "#fdca26"
            ],
            [
             1,
             "#f0f921"
            ]
           ]
          },
          "colorway": [
           "#636efa",
           "#EF553B",
           "#00cc96",
           "#ab63fa",
           "#FFA15A",
           "#19d3f3",
           "#FF6692",
           "#B6E880",
           "#FF97FF",
           "#FECB52"
          ],
          "font": {
           "color": "#2a3f5f"
          },
          "geo": {
           "bgcolor": "white",
           "lakecolor": "white",
           "landcolor": "#E5ECF6",
           "showlakes": true,
           "showland": true,
           "subunitcolor": "white"
          },
          "hoverlabel": {
           "align": "left"
          },
          "hovermode": "closest",
          "mapbox": {
           "style": "light"
          },
          "paper_bgcolor": "white",
          "plot_bgcolor": "#E5ECF6",
          "polar": {
           "angularaxis": {
            "gridcolor": "white",
            "linecolor": "white",
            "ticks": ""
           },
           "bgcolor": "#E5ECF6",
           "radialaxis": {
            "gridcolor": "white",
            "linecolor": "white",
            "ticks": ""
           }
          },
          "scene": {
           "xaxis": {
            "backgroundcolor": "#E5ECF6",
            "gridcolor": "white",
            "gridwidth": 2,
            "linecolor": "white",
            "showbackground": true,
            "ticks": "",
            "zerolinecolor": "white"
           },
           "yaxis": {
            "backgroundcolor": "#E5ECF6",
            "gridcolor": "white",
            "gridwidth": 2,
            "linecolor": "white",
            "showbackground": true,
            "ticks": "",
            "zerolinecolor": "white"
           },
           "zaxis": {
            "backgroundcolor": "#E5ECF6",
            "gridcolor": "white",
            "gridwidth": 2,
            "linecolor": "white",
            "showbackground": true,
            "ticks": "",
            "zerolinecolor": "white"
           }
          },
          "shapedefaults": {
           "line": {
            "color": "#2a3f5f"
           }
          },
          "ternary": {
           "aaxis": {
            "gridcolor": "white",
            "linecolor": "white",
            "ticks": ""
           },
           "baxis": {
            "gridcolor": "white",
            "linecolor": "white",
            "ticks": ""
           },
           "bgcolor": "#E5ECF6",
           "caxis": {
            "gridcolor": "white",
            "linecolor": "white",
            "ticks": ""
           }
          },
          "title": {
           "x": 0.05
          },
          "xaxis": {
           "automargin": true,
           "gridcolor": "white",
           "linecolor": "white",
           "ticks": "",
           "title": {
            "standoff": 15
           },
           "zerolinecolor": "white",
           "zerolinewidth": 2
          },
          "yaxis": {
           "automargin": true,
           "gridcolor": "white",
           "linecolor": "white",
           "ticks": "",
           "title": {
            "standoff": 15
           },
           "zerolinecolor": "white",
           "zerolinewidth": 2
          }
         }
        },
        "title": {
         "text": "Relative yearly capacity cost savings"
        },
        "xaxis": {
         "anchor": "y",
         "domain": [
          0,
          1
         ],
         "range": [
          0,
          75
         ],
         "title": {
          "text": "Savings in %"
         }
        },
        "yaxis": {
         "anchor": "x",
         "domain": [
          0,
          1
         ],
         "title": {
          "text": ""
         }
        }
       }
      }
     },
     "metadata": {},
     "output_type": "display_data"
    }
   ],
   "source": [
    "rel_cap_costs_yearly_savings = 100 * rel_diff[\"grid_capacity_costs_eur\"].copy()\n",
    "rel_cap_costs_yearly_savings.name = \"Relative yearly grid capacity costs savings in %\"\n",
    "print(rel_cap_costs_yearly_savings.describe().drop(\"count\").to_markdown())\n",
    "\n",
    "rel_cap_savings_fig_df = pd.DataFrame()\n",
    "rel_cap_savings_fig_df = rel_diff.copy() * 100\n",
    "rel_cap_savings_fig_df.rename(columns={\"grid_capacity_costs_eur\": \"Savings\"}, inplace=True)\n",
    "rel_cap_savings_fig = px.box(\n",
    "    data_frame=rel_cap_savings_fig_df,\n",
    "    x=\"Savings\",\n",
    "    title=\"Relative yearly capacity cost savings\")\n",
    "rel_cap_savings_fig.update_layout(xaxis_title=\"Savings in %\", yaxis_title=\"\")\n",
    "rel_cap_savings_fig.update_xaxes(range=[0, 75])\n",
    "rel_cap_savings_fig.show()"
   ]
  },
  {
   "cell_type": "markdown",
   "id": "2ab4034b",
   "metadata": {},
   "source": [
    "# Correlations"
   ]
  },
  {
   "cell_type": "markdown",
   "id": "2692cef2",
   "metadata": {},
   "source": [
    "## On absolute savings"
   ]
  },
  {
   "cell_type": "code",
   "execution_count": 19,
   "id": "a523fdde",
   "metadata": {},
   "outputs": [
    {
     "data": {
      "application/vnd.plotly.v1+json": {
       "config": {
        "plotlyServerURL": "https://plot.ly"
       },
       "data": [
        {
         "coloraxis": "coloraxis",
         "hovertemplate": "x: %{x}<br>y: %{y}<br>color: %{z}<extra></extra>",
         "name": "0",
         "type": "heatmap",
         "x": [
          "energy_costs_eur",
          "grid_capacity_costs_eur",
          "grid_capacity_kw",
          "grid_energy_costs_eur",
          "inverter_annuity_eur",
          "inverter_capacity_kw",
          "inverter_invest_eur",
          "invest_per_tac",
          "storage_annuity_eur",
          "storage_capacity_kwh",
          "storage_invest_eur",
          "total_annuity_eur",
          "total_invest_eur",
          "total_yearly_costs_eur",
          "capacity_price_over_2500h_eur_per_kw",
          "energy_price_over_2500h_eur_per_kwh",
          "capacity_price_under_2500h_eur_per_kw",
          "energy_price_under_2500h_eur_per_kwh",
          "number_of_peak_load",
          "peak_load_kw",
          "mean_load_kw",
          "variance_kw",
          "total_energy_kwh",
          "full_load_hours_h",
          "is_over_2500h",
          "std_kw",
          "std_by_mean",
          "std_by_peak",
          "peak_by_mean"
         ],
         "xaxis": "x",
         "y": [
          "energy_costs_eur",
          "grid_capacity_costs_eur",
          "grid_capacity_kw",
          "grid_energy_costs_eur",
          "inverter_annuity_eur",
          "inverter_capacity_kw",
          "inverter_invest_eur",
          "invest_per_tac",
          "storage_annuity_eur",
          "storage_capacity_kwh",
          "storage_invest_eur",
          "total_annuity_eur",
          "total_invest_eur",
          "total_yearly_costs_eur",
          "capacity_price_over_2500h_eur_per_kw",
          "energy_price_over_2500h_eur_per_kwh",
          "capacity_price_under_2500h_eur_per_kw",
          "energy_price_under_2500h_eur_per_kwh",
          "number_of_peak_load",
          "peak_load_kw",
          "mean_load_kw",
          "variance_kw",
          "total_energy_kwh",
          "full_load_hours_h",
          "is_over_2500h",
          "std_kw",
          "std_by_mean",
          "std_by_peak",
          "peak_by_mean"
         ],
         "yaxis": "y",
         "z": {
          "bdata": "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",
          "dtype": "f8",
          "shape": "29, 29"
         }
        }
       ],
       "layout": {
        "coloraxis": {
         "colorscale": [
          [
           0,
           "#0d0887"
          ],
          [
           0.1111111111111111,
           "#46039f"
          ],
          [
           0.2222222222222222,
           "#7201a8"
          ],
          [
           0.3333333333333333,
           "#9c179e"
          ],
          [
           0.4444444444444444,
           "#bd3786"
          ],
          [
           0.5555555555555556,
           "#d8576b"
          ],
          [
           0.6666666666666666,
           "#ed7953"
          ],
          [
           0.7777777777777778,
           "#fb9f3a"
          ],
          [
           0.8888888888888888,
           "#fdca26"
          ],
          [
           1,
           "#f0f921"
          ]
         ]
        },
        "template": {
         "data": {
          "bar": [
           {
            "error_x": {
             "color": "#2a3f5f"
            },
            "error_y": {
             "color": "#2a3f5f"
            },
            "marker": {
             "line": {
              "color": "#E5ECF6",
              "width": 0.5
             },
             "pattern": {
              "fillmode": "overlay",
              "size": 10,
              "solidity": 0.2
             }
            },
            "type": "bar"
           }
          ],
          "barpolar": [
           {
            "marker": {
             "line": {
              "color": "#E5ECF6",
              "width": 0.5
             },
             "pattern": {
              "fillmode": "overlay",
              "size": 10,
              "solidity": 0.2
             }
            },
            "type": "barpolar"
           }
          ],
          "carpet": [
           {
            "aaxis": {
             "endlinecolor": "#2a3f5f",
             "gridcolor": "white",
             "linecolor": "white",
             "minorgridcolor": "white",
             "startlinecolor": "#2a3f5f"
            },
            "baxis": {
             "endlinecolor": "#2a3f5f",
             "gridcolor": "white",
             "linecolor": "white",
             "minorgridcolor": "white",
             "startlinecolor": "#2a3f5f"
            },
            "type": "carpet"
           }
          ],
          "choropleth": [
           {
            "colorbar": {
             "outlinewidth": 0,
             "ticks": ""
            },
            "type": "choropleth"
           }
          ],
          "contour": [
           {
            "colorbar": {
             "outlinewidth": 0,
             "ticks": ""
            },
            "colorscale": [
             [
              0,
              "#0d0887"
             ],
             [
              0.1111111111111111,
              "#46039f"
             ],
             [
              0.2222222222222222,
              "#7201a8"
             ],
             [
              0.3333333333333333,
              "#9c179e"
             ],
             [
              0.4444444444444444,
              "#bd3786"
             ],
             [
              0.5555555555555556,
              "#d8576b"
             ],
             [
              0.6666666666666666,
              "#ed7953"
             ],
             [
              0.7777777777777778,
              "#fb9f3a"
             ],
             [
              0.8888888888888888,
              "#fdca26"
             ],
             [
              1,
              "#f0f921"
             ]
            ],
            "type": "contour"
           }
          ],
          "contourcarpet": [
           {
            "colorbar": {
             "outlinewidth": 0,
             "ticks": ""
            },
            "type": "contourcarpet"
           }
          ],
          "heatmap": [
           {
            "colorbar": {
             "outlinewidth": 0,
             "ticks": ""
            },
            "colorscale": [
             [
              0,
              "#0d0887"
             ],
             [
              0.1111111111111111,
              "#46039f"
             ],
             [
              0.2222222222222222,
              "#7201a8"
             ],
             [
              0.3333333333333333,
              "#9c179e"
             ],
             [
              0.4444444444444444,
              "#bd3786"
             ],
             [
              0.5555555555555556,
              "#d8576b"
             ],
             [
              0.6666666666666666,
              "#ed7953"
             ],
             [
              0.7777777777777778,
              "#fb9f3a"
             ],
             [
              0.8888888888888888,
              "#fdca26"
             ],
             [
              1,
              "#f0f921"
             ]
            ],
            "type": "heatmap"
           }
          ],
          "histogram": [
           {
            "marker": {
             "pattern": {
              "fillmode": "overlay",
              "size": 10,
              "solidity": 0.2
             }
            },
            "type": "histogram"
           }
          ],
          "histogram2d": [
           {
            "colorbar": {
             "outlinewidth": 0,
             "ticks": ""
            },
            "colorscale": [
             [
              0,
              "#0d0887"
             ],
             [
              0.1111111111111111,
              "#46039f"
             ],
             [
              0.2222222222222222,
              "#7201a8"
             ],
             [
              0.3333333333333333,
              "#9c179e"
             ],
             [
              0.4444444444444444,
              "#bd3786"
             ],
             [
              0.5555555555555556,
              "#d8576b"
             ],
             [
              0.6666666666666666,
              "#ed7953"
             ],
             [
              0.7777777777777778,
              "#fb9f3a"
             ],
             [
              0.8888888888888888,
              "#fdca26"
             ],
             [
              1,
              "#f0f921"
             ]
            ],
            "type": "histogram2d"
           }
          ],
          "histogram2dcontour": [
           {
            "colorbar": {
             "outlinewidth": 0,
             "ticks": ""
            },
            "colorscale": [
             [
              0,
              "#0d0887"
             ],
             [
              0.1111111111111111,
              "#46039f"
             ],
             [
              0.2222222222222222,
              "#7201a8"
             ],
             [
              0.3333333333333333,
              "#9c179e"
             ],
             [
              0.4444444444444444,
              "#bd3786"
             ],
             [
              0.5555555555555556,
              "#d8576b"
             ],
             [
              0.6666666666666666,
              "#ed7953"
             ],
             [
              0.7777777777777778,
              "#fb9f3a"
             ],
             [
              0.8888888888888888,
              "#fdca26"
             ],
             [
              1,
              "#f0f921"
             ]
            ],
            "type": "histogram2dcontour"
           }
          ],
          "mesh3d": [
           {
            "colorbar": {
             "outlinewidth": 0,
             "ticks": ""
            },
            "type": "mesh3d"
           }
          ],
          "parcoords": [
           {
            "line": {
             "colorbar": {
              "outlinewidth": 0,
              "ticks": ""
             }
            },
            "type": "parcoords"
           }
          ],
          "pie": [
           {
            "automargin": true,
            "type": "pie"
           }
          ],
          "scatter": [
           {
            "fillpattern": {
             "fillmode": "overlay",
             "size": 10,
             "solidity": 0.2
            },
            "type": "scatter"
           }
          ],
          "scatter3d": [
           {
            "line": {
             "colorbar": {
              "outlinewidth": 0,
              "ticks": ""
             }
            },
            "marker": {
             "colorbar": {
              "outlinewidth": 0,
              "ticks": ""
             }
            },
            "type": "scatter3d"
           }
          ],
          "scattercarpet": [
           {
            "marker": {
             "colorbar": {
              "outlinewidth": 0,
              "ticks": ""
             }
            },
            "type": "scattercarpet"
           }
          ],
          "scattergeo": [
           {
            "marker": {
             "colorbar": {
              "outlinewidth": 0,
              "ticks": ""
             }
            },
            "type": "scattergeo"
           }
          ],
          "scattergl": [
           {
            "marker": {
             "colorbar": {
              "outlinewidth": 0,
              "ticks": ""
             }
            },
            "type": "scattergl"
           }
          ],
          "scattermap": [
           {
            "marker": {
             "colorbar": {
              "outlinewidth": 0,
              "ticks": ""
             }
            },
            "type": "scattermap"
           }
          ],
          "scattermapbox": [
           {
            "marker": {
             "colorbar": {
              "outlinewidth": 0,
              "ticks": ""
             }
            },
            "type": "scattermapbox"
           }
          ],
          "scatterpolar": [
           {
            "marker": {
             "colorbar": {
              "outlinewidth": 0,
              "ticks": ""
             }
            },
            "type": "scatterpolar"
           }
          ],
          "scatterpolargl": [
           {
            "marker": {
             "colorbar": {
              "outlinewidth": 0,
              "ticks": ""
             }
            },
            "type": "scatterpolargl"
           }
          ],
          "scatterternary": [
           {
            "marker": {
             "colorbar": {
              "outlinewidth": 0,
              "ticks": ""
             }
            },
            "type": "scatterternary"
           }
          ],
          "surface": [
           {
            "colorbar": {
             "outlinewidth": 0,
             "ticks": ""
            },
            "colorscale": [
             [
              0,
              "#0d0887"
             ],
             [
              0.1111111111111111,
              "#46039f"
             ],
             [
              0.2222222222222222,
              "#7201a8"
             ],
             [
              0.3333333333333333,
              "#9c179e"
             ],
             [
              0.4444444444444444,
              "#bd3786"
             ],
             [
              0.5555555555555556,
              "#d8576b"
             ],
             [
              0.6666666666666666,
              "#ed7953"
             ],
             [
              0.7777777777777778,
              "#fb9f3a"
             ],
             [
              0.8888888888888888,
              "#fdca26"
             ],
             [
              1,
              "#f0f921"
             ]
            ],
            "type": "surface"
           }
          ],
          "table": [
           {
            "cells": {
             "fill": {
              "color": "#EBF0F8"
             },
             "line": {
              "color": "white"
             }
            },
            "header": {
             "fill": {
              "color": "#C8D4E3"
             },
             "line": {
              "color": "white"
             }
            },
            "type": "table"
           }
          ]
         },
         "layout": {
          "annotationdefaults": {
           "arrowcolor": "#2a3f5f",
           "arrowhead": 0,
           "arrowwidth": 1
          },
          "autotypenumbers": "strict",
          "coloraxis": {
           "colorbar": {
            "outlinewidth": 0,
            "ticks": ""
           }
          },
          "colorscale": {
           "diverging": [
            [
             0,
             "#8e0152"
            ],
            [
             0.1,
             "#c51b7d"
            ],
            [
             0.2,
             "#de77ae"
            ],
            [
             0.3,
             "#f1b6da"
            ],
            [
             0.4,
             "#fde0ef"
            ],
            [
             0.5,
             "#f7f7f7"
            ],
            [
             0.6,
             "#e6f5d0"
            ],
            [
             0.7,
             "#b8e186"
            ],
            [
             0.8,
             "#7fbc41"
            ],
            [
             0.9,
             "#4d9221"
            ],
            [
             1,
             "#276419"
            ]
           ],
           "sequential": [
            [
             0,
             "#0d0887"
            ],
            [
             0.1111111111111111,
             "#46039f"
            ],
            [
             0.2222222222222222,
             "#7201a8"
            ],
            [
             0.3333333333333333,
             "#9c179e"
            ],
            [
             0.4444444444444444,
             "#bd3786"
            ],
            [
             0.5555555555555556,
             "#d8576b"
            ],
            [
             0.6666666666666666,
             "#ed7953"
            ],
            [
             0.7777777777777778,
             "#fb9f3a"
            ],
            [
             0.8888888888888888,
             "#fdca26"
            ],
            [
             1,
             "#f0f921"
            ]
           ],
           "sequentialminus": [
            [
             0,
             "#0d0887"
            ],
            [
             0.1111111111111111,
             "#46039f"
            ],
            [
             0.2222222222222222,
             "#7201a8"
            ],
            [
             0.3333333333333333,
             "#9c179e"
            ],
            [
             0.4444444444444444,
             "#bd3786"
            ],
            [
             0.5555555555555556,
             "#d8576b"
            ],
            [
             0.6666666666666666,
             "#ed7953"
            ],
            [
             0.7777777777777778,
             "#fb9f3a"
            ],
            [
             0.8888888888888888,
             "#fdca26"
            ],
            [
             1,
             "#f0f921"
            ]
           ]
          },
          "colorway": [
           "#636efa",
           "#EF553B",
           "#00cc96",
           "#ab63fa",
           "#FFA15A",
           "#19d3f3",
           "#FF6692",
           "#B6E880",
           "#FF97FF",
           "#FECB52"
          ],
          "font": {
           "color": "#2a3f5f"
          },
          "geo": {
           "bgcolor": "white",
           "lakecolor": "white",
           "landcolor": "#E5ECF6",
           "showlakes": true,
           "showland": true,
           "subunitcolor": "white"
          },
          "hoverlabel": {
           "align": "left"
          },
          "hovermode": "closest",
          "mapbox": {
           "style": "light"
          },
          "paper_bgcolor": "white",
          "plot_bgcolor": "#E5ECF6",
          "polar": {
           "angularaxis": {
            "gridcolor": "white",
            "linecolor": "white",
            "ticks": ""
           },
           "bgcolor": "#E5ECF6",
           "radialaxis": {
            "gridcolor": "white",
            "linecolor": "white",
            "ticks": ""
           }
          },
          "scene": {
           "xaxis": {
            "backgroundcolor": "#E5ECF6",
            "gridcolor": "white",
            "gridwidth": 2,
            "linecolor": "white",
            "showbackground": true,
            "ticks": "",
            "zerolinecolor": "white"
           },
           "yaxis": {
            "backgroundcolor": "#E5ECF6",
            "gridcolor": "white",
            "gridwidth": 2,
            "linecolor": "white",
            "showbackground": true,
            "ticks": "",
            "zerolinecolor": "white"
           },
           "zaxis": {
            "backgroundcolor": "#E5ECF6",
            "gridcolor": "white",
            "gridwidth": 2,
            "linecolor": "white",
            "showbackground": true,
            "ticks": "",
            "zerolinecolor": "white"
           }
          },
          "shapedefaults": {
           "line": {
            "color": "#2a3f5f"
           }
          },
          "ternary": {
           "aaxis": {
            "gridcolor": "white",
            "linecolor": "white",
            "ticks": ""
           },
           "baxis": {
            "gridcolor": "white",
            "linecolor": "white",
            "ticks": ""
           },
           "bgcolor": "#E5ECF6",
           "caxis": {
            "gridcolor": "white",
            "linecolor": "white",
            "ticks": ""
           }
          },
          "title": {
           "x": 0.05
          },
          "xaxis": {
           "automargin": true,
           "gridcolor": "white",
           "linecolor": "white",
           "ticks": "",
           "title": {
            "standoff": 15
           },
           "zerolinecolor": "white",
           "zerolinewidth": 2
          },
          "yaxis": {
           "automargin": true,
           "gridcolor": "white",
           "linecolor": "white",
           "ticks": "",
           "title": {
            "standoff": 15
           },
           "zerolinecolor": "white",
           "zerolinewidth": 2
          }
         }
        },
        "title": {
         "text": "Correlation coefficients for total yearly savings"
        },
        "xaxis": {
         "anchor": "y",
         "constrain": "domain",
         "domain": [
          0,
          1
         ],
         "scaleanchor": "y"
        },
        "yaxis": {
         "anchor": "x",
         "autorange": "reversed",
         "constrain": "domain",
         "domain": [
          0,
          1
         ]
        }
       }
      }
     },
     "metadata": {},
     "output_type": "display_data"
    }
   ],
   "source": [
    "cols_to_drop = [\n",
    "    \"grid_level\",\n",
    "    \"zip_code\",\n",
    "    \"sector_group_id\",\n",
    "    \"sector_group\",\n",
    "    \"solar_invest_eur\",\n",
    "    \"solar_annuity_eur\",\n",
    "    \"solar_capacity_kwp\"]\n",
    "abs_correlations_df = abs_diff_with_master.drop(columns=cols_to_drop).corr()\n",
    "px.imshow(abs_correlations_df, title=\"Correlation coefficients for total yearly savings\")"
   ]
  },
  {
   "cell_type": "code",
   "execution_count": 20,
   "id": "c89f34ee",
   "metadata": {},
   "outputs": [
    {
     "data": {
      "application/vnd.plotly.v1+json": {
       "config": {
        "plotlyServerURL": "https://plot.ly"
       },
       "data": [
        {
         "hovertemplate": "index=%{x}<br>total_yearly_costs_eur=%{y}<extra></extra>",
         "legendgroup": "",
         "marker": {
          "color": "#636efa",
          "pattern": {
           "shape": ""
          }
         },
         "name": "",
         "orientation": "v",
         "showlegend": false,
         "textposition": "auto",
         "texttemplate": "%{y}",
         "type": "bar",
         "x": [
          "total_yearly_costs_eur",
          "mean_load_kw",
          "energy_costs_eur",
          "total_energy_kwh",
          "grid_energy_costs_eur",
          "peak_load_kw",
          "std_kw",
          "variance_kw",
          "full_load_hours_h",
          "grid_capacity_kw",
          "grid_capacity_costs_eur",
          "number_of_peak_load",
          "capacity_price_under_2500h_eur_per_kw",
          "std_by_peak",
          "capacity_price_over_2500h_eur_per_kw",
          "energy_price_under_2500h_eur_per_kwh",
          "storage_annuity_eur",
          "storage_invest_eur",
          "storage_capacity_kwh",
          "std_by_mean",
          "energy_price_over_2500h_eur_per_kwh",
          "total_invest_eur",
          "total_annuity_eur",
          "inverter_capacity_kw",
          "inverter_annuity_eur",
          "inverter_invest_eur",
          "peak_by_mean",
          "invest_per_tac",
          "is_over_2500h"
         ],
         "xaxis": "x",
         "y": {
          "bdata": "AAAAAAAA8D+uR+F6FK7vP65H4XoUru8/rkfhehSu7z8K16NwPQrvP7gehetRuO4/hetRuB6F6z9mZmZmZmbmP1K4HoXrUdg/4XoUrkfhyj9SuB6F61HIP3sUrkfhepQ/exSuR+F6hL97FK5H4XqEv3sUrkfhepS/7FG4HoXrwb/D9Shcj8LFv8P1KFyPwsW/w/UoXI/Cxb8K16NwPQrHvwrXo3A9Cse/mpmZmZmZyb+amZmZmZnJv+F6FK5H4cq/4XoUrkfhyr/hehSuR+HKvx+F61G4HtW/AAAAAAAA+H8AAAAAAAD4fw==",
          "dtype": "f8"
         },
         "yaxis": "y"
        }
       ],
       "layout": {
        "barmode": "relative",
        "legend": {
         "tracegroupgap": 0
        },
        "template": {
         "data": {
          "bar": [
           {
            "error_x": {
             "color": "#2a3f5f"
            },
            "error_y": {
             "color": "#2a3f5f"
            },
            "marker": {
             "line": {
              "color": "#E5ECF6",
              "width": 0.5
             },
             "pattern": {
              "fillmode": "overlay",
              "size": 10,
              "solidity": 0.2
             }
            },
            "type": "bar"
           }
          ],
          "barpolar": [
           {
            "marker": {
             "line": {
              "color": "#E5ECF6",
              "width": 0.5
             },
             "pattern": {
              "fillmode": "overlay",
              "size": 10,
              "solidity": 0.2
             }
            },
            "type": "barpolar"
           }
          ],
          "carpet": [
           {
            "aaxis": {
             "endlinecolor": "#2a3f5f",
             "gridcolor": "white",
             "linecolor": "white",
             "minorgridcolor": "white",
             "startlinecolor": "#2a3f5f"
            },
            "baxis": {
             "endlinecolor": "#2a3f5f",
             "gridcolor": "white",
             "linecolor": "white",
             "minorgridcolor": "white",
             "startlinecolor": "#2a3f5f"
            },
            "type": "carpet"
           }
          ],
          "choropleth": [
           {
            "colorbar": {
             "outlinewidth": 0,
             "ticks": ""
            },
            "type": "choropleth"
           }
          ],
          "contour": [
           {
            "colorbar": {
             "outlinewidth": 0,
             "ticks": ""
            },
            "colorscale": [
             [
              0,
              "#0d0887"
             ],
             [
              0.1111111111111111,
              "#46039f"
             ],
             [
              0.2222222222222222,
              "#7201a8"
             ],
             [
              0.3333333333333333,
              "#9c179e"
             ],
             [
              0.4444444444444444,
              "#bd3786"
             ],
             [
              0.5555555555555556,
              "#d8576b"
             ],
             [
              0.6666666666666666,
              "#ed7953"
             ],
             [
              0.7777777777777778,
              "#fb9f3a"
             ],
             [
              0.8888888888888888,
              "#fdca26"
             ],
             [
              1,
              "#f0f921"
             ]
            ],
            "type": "contour"
           }
          ],
          "contourcarpet": [
           {
            "colorbar": {
             "outlinewidth": 0,
             "ticks": ""
            },
            "type": "contourcarpet"
           }
          ],
          "heatmap": [
           {
            "colorbar": {
             "outlinewidth": 0,
             "ticks": ""
            },
            "colorscale": [
             [
              0,
              "#0d0887"
             ],
             [
              0.1111111111111111,
              "#46039f"
             ],
             [
              0.2222222222222222,
              "#7201a8"
             ],
             [
              0.3333333333333333,
              "#9c179e"
             ],
             [
              0.4444444444444444,
              "#bd3786"
             ],
             [
              0.5555555555555556,
              "#d8576b"
             ],
             [
              0.6666666666666666,
              "#ed7953"
             ],
             [
              0.7777777777777778,
              "#fb9f3a"
             ],
             [
              0.8888888888888888,
              "#fdca26"
             ],
             [
              1,
              "#f0f921"
             ]
            ],
            "type": "heatmap"
           }
          ],
          "histogram": [
           {
            "marker": {
             "pattern": {
              "fillmode": "overlay",
              "size": 10,
              "solidity": 0.2
             }
            },
            "type": "histogram"
           }
          ],
          "histogram2d": [
           {
            "colorbar": {
             "outlinewidth": 0,
             "ticks": ""
            },
            "colorscale": [
             [
              0,
              "#0d0887"
             ],
             [
              0.1111111111111111,
              "#46039f"
             ],
             [
              0.2222222222222222,
              "#7201a8"
             ],
             [
              0.3333333333333333,
              "#9c179e"
             ],
             [
              0.4444444444444444,
              "#bd3786"
             ],
             [
              0.5555555555555556,
              "#d8576b"
             ],
             [
              0.6666666666666666,
              "#ed7953"
             ],
             [
              0.7777777777777778,
              "#fb9f3a"
             ],
             [
              0.8888888888888888,
              "#fdca26"
             ],
             [
              1,
              "#f0f921"
             ]
            ],
            "type": "histogram2d"
           }
          ],
          "histogram2dcontour": [
           {
            "colorbar": {
             "outlinewidth": 0,
             "ticks": ""
            },
            "colorscale": [
             [
              0,
              "#0d0887"
             ],
             [
              0.1111111111111111,
              "#46039f"
             ],
             [
              0.2222222222222222,
              "#7201a8"
             ],
             [
              0.3333333333333333,
              "#9c179e"
             ],
             [
              0.4444444444444444,
              "#bd3786"
             ],
             [
              0.5555555555555556,
              "#d8576b"
             ],
             [
              0.6666666666666666,
              "#ed7953"
             ],
             [
              0.7777777777777778,
              "#fb9f3a"
             ],
             [
              0.8888888888888888,
              "#fdca26"
             ],
             [
              1,
              "#f0f921"
             ]
            ],
            "type": "histogram2dcontour"
           }
          ],
          "mesh3d": [
           {
            "colorbar": {
             "outlinewidth": 0,
             "ticks": ""
            },
            "type": "mesh3d"
           }
          ],
          "parcoords": [
           {
            "line": {
             "colorbar": {
              "outlinewidth": 0,
              "ticks": ""
             }
            },
            "type": "parcoords"
           }
          ],
          "pie": [
           {
            "automargin": true,
            "type": "pie"
           }
          ],
          "scatter": [
           {
            "fillpattern": {
             "fillmode": "overlay",
             "size": 10,
             "solidity": 0.2
            },
            "type": "scatter"
           }
          ],
          "scatter3d": [
           {
            "line": {
             "colorbar": {
              "outlinewidth": 0,
              "ticks": ""
             }
            },
            "marker": {
             "colorbar": {
              "outlinewidth": 0,
              "ticks": ""
             }
            },
            "type": "scatter3d"
           }
          ],
          "scattercarpet": [
           {
            "marker": {
             "colorbar": {
              "outlinewidth": 0,
              "ticks": ""
             }
            },
            "type": "scattercarpet"
           }
          ],
          "scattergeo": [
           {
            "marker": {
             "colorbar": {
              "outlinewidth": 0,
              "ticks": ""
             }
            },
            "type": "scattergeo"
           }
          ],
          "scattergl": [
           {
            "marker": {
             "colorbar": {
              "outlinewidth": 0,
              "ticks": ""
             }
            },
            "type": "scattergl"
           }
          ],
          "scattermap": [
           {
            "marker": {
             "colorbar": {
              "outlinewidth": 0,
              "ticks": ""
             }
            },
            "type": "scattermap"
           }
          ],
          "scattermapbox": [
           {
            "marker": {
             "colorbar": {
              "outlinewidth": 0,
              "ticks": ""
             }
            },
            "type": "scattermapbox"
           }
          ],
          "scatterpolar": [
           {
            "marker": {
             "colorbar": {
              "outlinewidth": 0,
              "ticks": ""
             }
            },
            "type": "scatterpolar"
           }
          ],
          "scatterpolargl": [
           {
            "marker": {
             "colorbar": {
              "outlinewidth": 0,
              "ticks": ""
             }
            },
            "type": "scatterpolargl"
           }
          ],
          "scatterternary": [
           {
            "marker": {
             "colorbar": {
              "outlinewidth": 0,
              "ticks": ""
             }
            },
            "type": "scatterternary"
           }
          ],
          "surface": [
           {
            "colorbar": {
             "outlinewidth": 0,
             "ticks": ""
            },
            "colorscale": [
             [
              0,
              "#0d0887"
             ],
             [
              0.1111111111111111,
              "#46039f"
             ],
             [
              0.2222222222222222,
              "#7201a8"
             ],
             [
              0.3333333333333333,
              "#9c179e"
             ],
             [
              0.4444444444444444,
              "#bd3786"
             ],
             [
              0.5555555555555556,
              "#d8576b"
             ],
             [
              0.6666666666666666,
              "#ed7953"
             ],
             [
              0.7777777777777778,
              "#fb9f3a"
             ],
             [
              0.8888888888888888,
              "#fdca26"
             ],
             [
              1,
              "#f0f921"
             ]
            ],
            "type": "surface"
           }
          ],
          "table": [
           {
            "cells": {
             "fill": {
              "color": "#EBF0F8"
             },
             "line": {
              "color": "white"
             }
            },
            "header": {
             "fill": {
              "color": "#C8D4E3"
             },
             "line": {
              "color": "white"
             }
            },
            "type": "table"
           }
          ]
         },
         "layout": {
          "annotationdefaults": {
           "arrowcolor": "#2a3f5f",
           "arrowhead": 0,
           "arrowwidth": 1
          },
          "autotypenumbers": "strict",
          "coloraxis": {
           "colorbar": {
            "outlinewidth": 0,
            "ticks": ""
           }
          },
          "colorscale": {
           "diverging": [
            [
             0,
             "#8e0152"
            ],
            [
             0.1,
             "#c51b7d"
            ],
            [
             0.2,
             "#de77ae"
            ],
            [
             0.3,
             "#f1b6da"
            ],
            [
             0.4,
             "#fde0ef"
            ],
            [
             0.5,
             "#f7f7f7"
            ],
            [
             0.6,
             "#e6f5d0"
            ],
            [
             0.7,
             "#b8e186"
            ],
            [
             0.8,
             "#7fbc41"
            ],
            [
             0.9,
             "#4d9221"
            ],
            [
             1,
             "#276419"
            ]
           ],
           "sequential": [
            [
             0,
             "#0d0887"
            ],
            [
             0.1111111111111111,
             "#46039f"
            ],
            [
             0.2222222222222222,
             "#7201a8"
            ],
            [
             0.3333333333333333,
             "#9c179e"
            ],
            [
             0.4444444444444444,
             "#bd3786"
            ],
            [
             0.5555555555555556,
             "#d8576b"
            ],
            [
             0.6666666666666666,
             "#ed7953"
            ],
            [
             0.7777777777777778,
             "#fb9f3a"
            ],
            [
             0.8888888888888888,
             "#fdca26"
            ],
            [
             1,
             "#f0f921"
            ]
           ],
           "sequentialminus": [
            [
             0,
             "#0d0887"
            ],
            [
             0.1111111111111111,
             "#46039f"
            ],
            [
             0.2222222222222222,
             "#7201a8"
            ],
            [
             0.3333333333333333,
             "#9c179e"
            ],
            [
             0.4444444444444444,
             "#bd3786"
            ],
            [
             0.5555555555555556,
             "#d8576b"
            ],
            [
             0.6666666666666666,
             "#ed7953"
            ],
            [
             0.7777777777777778,
             "#fb9f3a"
            ],
            [
             0.8888888888888888,
             "#fdca26"
            ],
            [
             1,
             "#f0f921"
            ]
           ]
          },
          "colorway": [
           "#636efa",
           "#EF553B",
           "#00cc96",
           "#ab63fa",
           "#FFA15A",
           "#19d3f3",
           "#FF6692",
           "#B6E880",
           "#FF97FF",
           "#FECB52"
          ],
          "font": {
           "color": "#2a3f5f"
          },
          "geo": {
           "bgcolor": "white",
           "lakecolor": "white",
           "landcolor": "#E5ECF6",
           "showlakes": true,
           "showland": true,
           "subunitcolor": "white"
          },
          "hoverlabel": {
           "align": "left"
          },
          "hovermode": "closest",
          "mapbox": {
           "style": "light"
          },
          "paper_bgcolor": "white",
          "plot_bgcolor": "#E5ECF6",
          "polar": {
           "angularaxis": {
            "gridcolor": "white",
            "linecolor": "white",
            "ticks": ""
           },
           "bgcolor": "#E5ECF6",
           "radialaxis": {
            "gridcolor": "white",
            "linecolor": "white",
            "ticks": ""
           }
          },
          "scene": {
           "xaxis": {
            "backgroundcolor": "#E5ECF6",
            "gridcolor": "white",
            "gridwidth": 2,
            "linecolor": "white",
            "showbackground": true,
            "ticks": "",
            "zerolinecolor": "white"
           },
           "yaxis": {
            "backgroundcolor": "#E5ECF6",
            "gridcolor": "white",
            "gridwidth": 2,
            "linecolor": "white",
            "showbackground": true,
            "ticks": "",
            "zerolinecolor": "white"
           },
           "zaxis": {
            "backgroundcolor": "#E5ECF6",
            "gridcolor": "white",
            "gridwidth": 2,
            "linecolor": "white",
            "showbackground": true,
            "ticks": "",
            "zerolinecolor": "white"
           }
          },
          "shapedefaults": {
           "line": {
            "color": "#2a3f5f"
           }
          },
          "ternary": {
           "aaxis": {
            "gridcolor": "white",
            "linecolor": "white",
            "ticks": ""
           },
           "baxis": {
            "gridcolor": "white",
            "linecolor": "white",
            "ticks": ""
           },
           "bgcolor": "#E5ECF6",
           "caxis": {
            "gridcolor": "white",
            "linecolor": "white",
            "ticks": ""
           }
          },
          "title": {
           "x": 0.05
          },
          "xaxis": {
           "automargin": true,
           "gridcolor": "white",
           "linecolor": "white",
           "ticks": "",
           "title": {
            "standoff": 15
           },
           "zerolinecolor": "white",
           "zerolinewidth": 2
          },
          "yaxis": {
           "automargin": true,
           "gridcolor": "white",
           "linecolor": "white",
           "ticks": "",
           "title": {
            "standoff": 15
           },
           "zerolinecolor": "white",
           "zerolinewidth": 2
          }
         }
        },
        "title": {
         "text": "Correlation between different load profile characteristics and total yearly savings"
        },
        "xaxis": {
         "anchor": "y",
         "domain": [
          0,
          1
         ],
         "title": {
          "text": "Variable"
         }
        },
        "yaxis": {
         "anchor": "x",
         "domain": [
          0,
          1
         ],
         "title": {
          "text": "Correlation coefficient"
         }
        }
       }
      }
     },
     "metadata": {},
     "output_type": "display_data"
    }
   ],
   "source": [
    "fig_df = abs_correlations_df[[\"total_yearly_costs_eur\"]].round(2)\n",
    "fig_df.sort_values(\"total_yearly_costs_eur\", inplace=True, ascending=False)\n",
    "fig = px.bar(\n",
    "    data_frame=fig_df,\n",
    "    y=\"total_yearly_costs_eur\",\n",
    "    text_auto=True,\n",
    "    title=\"Correlation between different load profile characteristics and total yearly savings\")\n",
    "fig.update_layout(yaxis_title=\"Correlation coefficient\", xaxis_title=\"Variable\")"
   ]
  },
  {
   "cell_type": "markdown",
   "id": "71669e2f",
   "metadata": {},
   "source": [
    "## On relative savings"
   ]
  },
  {
   "cell_type": "code",
   "execution_count": 21,
   "id": "56fdc12f",
   "metadata": {},
   "outputs": [
    {
     "data": {
      "application/vnd.plotly.v1+json": {
       "config": {
        "plotlyServerURL": "https://plot.ly"
       },
       "data": [
        {
         "coloraxis": "coloraxis",
         "hovertemplate": "x: %{x}<br>y: %{y}<br>color: %{z}<extra></extra>",
         "name": "0",
         "type": "heatmap",
         "x": [
          "energy_costs_eur",
          "grid_capacity_costs_eur",
          "grid_capacity_kw",
          "grid_energy_costs_eur",
          "inverter_annuity_eur",
          "inverter_capacity_kw",
          "inverter_invest_eur",
          "invest_per_tac",
          "storage_annuity_eur",
          "storage_capacity_kwh",
          "storage_invest_eur",
          "total_annuity_eur",
          "total_invest_eur",
          "total_yearly_costs_eur",
          "capacity_price_over_2500h_eur_per_kw",
          "energy_price_over_2500h_eur_per_kwh",
          "capacity_price_under_2500h_eur_per_kw",
          "energy_price_under_2500h_eur_per_kwh",
          "number_of_peak_load",
          "peak_load_kw",
          "mean_load_kw",
          "variance_kw",
          "total_energy_kwh",
          "full_load_hours_h",
          "is_over_2500h",
          "std_kw",
          "std_by_mean",
          "std_by_peak",
          "peak_by_mean"
         ],
         "xaxis": "x",
         "y": [
          "energy_costs_eur",
          "grid_capacity_costs_eur",
          "grid_capacity_kw",
          "grid_energy_costs_eur",
          "inverter_annuity_eur",
          "inverter_capacity_kw",
          "inverter_invest_eur",
          "invest_per_tac",
          "storage_annuity_eur",
          "storage_capacity_kwh",
          "storage_invest_eur",
          "total_annuity_eur",
          "total_invest_eur",
          "total_yearly_costs_eur",
          "capacity_price_over_2500h_eur_per_kw",
          "energy_price_over_2500h_eur_per_kwh",
          "capacity_price_under_2500h_eur_per_kw",
          "energy_price_under_2500h_eur_per_kwh",
          "number_of_peak_load",
          "peak_load_kw",
          "mean_load_kw",
          "variance_kw",
          "total_energy_kwh",
          "full_load_hours_h",
          "is_over_2500h",
          "std_kw",
          "std_by_mean",
          "std_by_peak",
          "peak_by_mean"
         ],
         "yaxis": "y",
         "z": {
          "bdata": "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",
          "dtype": "f8",
          "shape": "29, 29"
         }
        }
       ],
       "layout": {
        "coloraxis": {
         "colorscale": [
          [
           0,
           "#0d0887"
          ],
          [
           0.1111111111111111,
           "#46039f"
          ],
          [
           0.2222222222222222,
           "#7201a8"
          ],
          [
           0.3333333333333333,
           "#9c179e"
          ],
          [
           0.4444444444444444,
           "#bd3786"
          ],
          [
           0.5555555555555556,
           "#d8576b"
          ],
          [
           0.6666666666666666,
           "#ed7953"
          ],
          [
           0.7777777777777778,
           "#fb9f3a"
          ],
          [
           0.8888888888888888,
           "#fdca26"
          ],
          [
           1,
           "#f0f921"
          ]
         ]
        },
        "template": {
         "data": {
          "bar": [
           {
            "error_x": {
             "color": "#2a3f5f"
            },
            "error_y": {
             "color": "#2a3f5f"
            },
            "marker": {
             "line": {
              "color": "#E5ECF6",
              "width": 0.5
             },
             "pattern": {
              "fillmode": "overlay",
              "size": 10,
              "solidity": 0.2
             }
            },
            "type": "bar"
           }
          ],
          "barpolar": [
           {
            "marker": {
             "line": {
              "color": "#E5ECF6",
              "width": 0.5
             },
             "pattern": {
              "fillmode": "overlay",
              "size": 10,
              "solidity": 0.2
             }
            },
            "type": "barpolar"
           }
          ],
          "carpet": [
           {
            "aaxis": {
             "endlinecolor": "#2a3f5f",
             "gridcolor": "white",
             "linecolor": "white",
             "minorgridcolor": "white",
             "startlinecolor": "#2a3f5f"
            },
            "baxis": {
             "endlinecolor": "#2a3f5f",
             "gridcolor": "white",
             "linecolor": "white",
             "minorgridcolor": "white",
             "startlinecolor": "#2a3f5f"
            },
            "type": "carpet"
           }
          ],
          "choropleth": [
           {
            "colorbar": {
             "outlinewidth": 0,
             "ticks": ""
            },
            "type": "choropleth"
           }
          ],
          "contour": [
           {
            "colorbar": {
             "outlinewidth": 0,
             "ticks": ""
            },
            "colorscale": [
             [
              0,
              "#0d0887"
             ],
             [
              0.1111111111111111,
              "#46039f"
             ],
             [
              0.2222222222222222,
              "#7201a8"
             ],
             [
              0.3333333333333333,
              "#9c179e"
             ],
             [
              0.4444444444444444,
              "#bd3786"
             ],
             [
              0.5555555555555556,
              "#d8576b"
             ],
             [
              0.6666666666666666,
              "#ed7953"
             ],
             [
              0.7777777777777778,
              "#fb9f3a"
             ],
             [
              0.8888888888888888,
              "#fdca26"
             ],
             [
              1,
              "#f0f921"
             ]
            ],
            "type": "contour"
           }
          ],
          "contourcarpet": [
           {
            "colorbar": {
             "outlinewidth": 0,
             "ticks": ""
            },
            "type": "contourcarpet"
           }
          ],
          "heatmap": [
           {
            "colorbar": {
             "outlinewidth": 0,
             "ticks": ""
            },
            "colorscale": [
             [
              0,
              "#0d0887"
             ],
             [
              0.1111111111111111,
              "#46039f"
             ],
             [
              0.2222222222222222,
              "#7201a8"
             ],
             [
              0.3333333333333333,
              "#9c179e"
             ],
             [
              0.4444444444444444,
              "#bd3786"
             ],
             [
              0.5555555555555556,
              "#d8576b"
             ],
             [
              0.6666666666666666,
              "#ed7953"
             ],
             [
              0.7777777777777778,
              "#fb9f3a"
             ],
             [
              0.8888888888888888,
              "#fdca26"
             ],
             [
              1,
              "#f0f921"
             ]
            ],
            "type": "heatmap"
           }
          ],
          "histogram": [
           {
            "marker": {
             "pattern": {
              "fillmode": "overlay",
              "size": 10,
              "solidity": 0.2
             }
            },
            "type": "histogram"
           }
          ],
          "histogram2d": [
           {
            "colorbar": {
             "outlinewidth": 0,
             "ticks": ""
            },
            "colorscale": [
             [
              0,
              "#0d0887"
             ],
             [
              0.1111111111111111,
              "#46039f"
             ],
             [
              0.2222222222222222,
              "#7201a8"
             ],
             [
              0.3333333333333333,
              "#9c179e"
             ],
             [
              0.4444444444444444,
              "#bd3786"
             ],
             [
              0.5555555555555556,
              "#d8576b"
             ],
             [
              0.6666666666666666,
              "#ed7953"
             ],
             [
              0.7777777777777778,
              "#fb9f3a"
             ],
             [
              0.8888888888888888,
              "#fdca26"
             ],
             [
              1,
              "#f0f921"
             ]
            ],
            "type": "histogram2d"
           }
          ],
          "histogram2dcontour": [
           {
            "colorbar": {
             "outlinewidth": 0,
             "ticks": ""
            },
            "colorscale": [
             [
              0,
              "#0d0887"
             ],
             [
              0.1111111111111111,
              "#46039f"
             ],
             [
              0.2222222222222222,
              "#7201a8"
             ],
             [
              0.3333333333333333,
              "#9c179e"
             ],
             [
              0.4444444444444444,
              "#bd3786"
             ],
             [
              0.5555555555555556,
              "#d8576b"
             ],
             [
              0.6666666666666666,
              "#ed7953"
             ],
             [
              0.7777777777777778,
              "#fb9f3a"
             ],
             [
              0.8888888888888888,
              "#fdca26"
             ],
             [
              1,
              "#f0f921"
             ]
            ],
            "type": "histogram2dcontour"
           }
          ],
          "mesh3d": [
           {
            "colorbar": {
             "outlinewidth": 0,
             "ticks": ""
            },
            "type": "mesh3d"
           }
          ],
          "parcoords": [
           {
            "line": {
             "colorbar": {
              "outlinewidth": 0,
              "ticks": ""
             }
            },
            "type": "parcoords"
           }
          ],
          "pie": [
           {
            "automargin": true,
            "type": "pie"
           }
          ],
          "scatter": [
           {
            "fillpattern": {
             "fillmode": "overlay",
             "size": 10,
             "solidity": 0.2
            },
            "type": "scatter"
           }
          ],
          "scatter3d": [
           {
            "line": {
             "colorbar": {
              "outlinewidth": 0,
              "ticks": ""
             }
            },
            "marker": {
             "colorbar": {
              "outlinewidth": 0,
              "ticks": ""
             }
            },
            "type": "scatter3d"
           }
          ],
          "scattercarpet": [
           {
            "marker": {
             "colorbar": {
              "outlinewidth": 0,
              "ticks": ""
             }
            },
            "type": "scattercarpet"
           }
          ],
          "scattergeo": [
           {
            "marker": {
             "colorbar": {
              "outlinewidth": 0,
              "ticks": ""
             }
            },
            "type": "scattergeo"
           }
          ],
          "scattergl": [
           {
            "marker": {
             "colorbar": {
              "outlinewidth": 0,
              "ticks": ""
             }
            },
            "type": "scattergl"
           }
          ],
          "scattermap": [
           {
            "marker": {
             "colorbar": {
              "outlinewidth": 0,
              "ticks": ""
             }
            },
            "type": "scattermap"
           }
          ],
          "scattermapbox": [
           {
            "marker": {
             "colorbar": {
              "outlinewidth": 0,
              "ticks": ""
             }
            },
            "type": "scattermapbox"
           }
          ],
          "scatterpolar": [
           {
            "marker": {
             "colorbar": {
              "outlinewidth": 0,
              "ticks": ""
             }
            },
            "type": "scatterpolar"
           }
          ],
          "scatterpolargl": [
           {
            "marker": {
             "colorbar": {
              "outlinewidth": 0,
              "ticks": ""
             }
            },
            "type": "scatterpolargl"
           }
          ],
          "scatterternary": [
           {
            "marker": {
             "colorbar": {
              "outlinewidth": 0,
              "ticks": ""
             }
            },
            "type": "scatterternary"
           }
          ],
          "surface": [
           {
            "colorbar": {
             "outlinewidth": 0,
             "ticks": ""
            },
            "colorscale": [
             [
              0,
              "#0d0887"
             ],
             [
              0.1111111111111111,
              "#46039f"
             ],
             [
              0.2222222222222222,
              "#7201a8"
             ],
             [
              0.3333333333333333,
              "#9c179e"
             ],
             [
              0.4444444444444444,
              "#bd3786"
             ],
             [
              0.5555555555555556,
              "#d8576b"
             ],
             [
              0.6666666666666666,
              "#ed7953"
             ],
             [
              0.7777777777777778,
              "#fb9f3a"
             ],
             [
              0.8888888888888888,
              "#fdca26"
             ],
             [
              1,
              "#f0f921"
             ]
            ],
            "type": "surface"
           }
          ],
          "table": [
           {
            "cells": {
             "fill": {
              "color": "#EBF0F8"
             },
             "line": {
              "color": "white"
             }
            },
            "header": {
             "fill": {
              "color": "#C8D4E3"
             },
             "line": {
              "color": "white"
             }
            },
            "type": "table"
           }
          ]
         },
         "layout": {
          "annotationdefaults": {
           "arrowcolor": "#2a3f5f",
           "arrowhead": 0,
           "arrowwidth": 1
          },
          "autotypenumbers": "strict",
          "coloraxis": {
           "colorbar": {
            "outlinewidth": 0,
            "ticks": ""
           }
          },
          "colorscale": {
           "diverging": [
            [
             0,
             "#8e0152"
            ],
            [
             0.1,
             "#c51b7d"
            ],
            [
             0.2,
             "#de77ae"
            ],
            [
             0.3,
             "#f1b6da"
            ],
            [
             0.4,
             "#fde0ef"
            ],
            [
             0.5,
             "#f7f7f7"
            ],
            [
             0.6,
             "#e6f5d0"
            ],
            [
             0.7,
             "#b8e186"
            ],
            [
             0.8,
             "#7fbc41"
            ],
            [
             0.9,
             "#4d9221"
            ],
            [
             1,
             "#276419"
            ]
           ],
           "sequential": [
            [
             0,
             "#0d0887"
            ],
            [
             0.1111111111111111,
             "#46039f"
            ],
            [
             0.2222222222222222,
             "#7201a8"
            ],
            [
             0.3333333333333333,
             "#9c179e"
            ],
            [
             0.4444444444444444,
             "#bd3786"
            ],
            [
             0.5555555555555556,
             "#d8576b"
            ],
            [
             0.6666666666666666,
             "#ed7953"
            ],
            [
             0.7777777777777778,
             "#fb9f3a"
            ],
            [
             0.8888888888888888,
             "#fdca26"
            ],
            [
             1,
             "#f0f921"
            ]
           ],
           "sequentialminus": [
            [
             0,
             "#0d0887"
            ],
            [
             0.1111111111111111,
             "#46039f"
            ],
            [
             0.2222222222222222,
             "#7201a8"
            ],
            [
             0.3333333333333333,
             "#9c179e"
            ],
            [
             0.4444444444444444,
             "#bd3786"
            ],
            [
             0.5555555555555556,
             "#d8576b"
            ],
            [
             0.6666666666666666,
             "#ed7953"
            ],
            [
             0.7777777777777778,
             "#fb9f3a"
            ],
            [
             0.8888888888888888,
             "#fdca26"
            ],
            [
             1,
             "#f0f921"
            ]
           ]
          },
          "colorway": [
           "#636efa",
           "#EF553B",
           "#00cc96",
           "#ab63fa",
           "#FFA15A",
           "#19d3f3",
           "#FF6692",
           "#B6E880",
           "#FF97FF",
           "#FECB52"
          ],
          "font": {
           "color": "#2a3f5f"
          },
          "geo": {
           "bgcolor": "white",
           "lakecolor": "white",
           "landcolor": "#E5ECF6",
           "showlakes": true,
           "showland": true,
           "subunitcolor": "white"
          },
          "hoverlabel": {
           "align": "left"
          },
          "hovermode": "closest",
          "mapbox": {
           "style": "light"
          },
          "paper_bgcolor": "white",
          "plot_bgcolor": "#E5ECF6",
          "polar": {
           "angularaxis": {
            "gridcolor": "white",
            "linecolor": "white",
            "ticks": ""
           },
           "bgcolor": "#E5ECF6",
           "radialaxis": {
            "gridcolor": "white",
            "linecolor": "white",
            "ticks": ""
           }
          },
          "scene": {
           "xaxis": {
            "backgroundcolor": "#E5ECF6",
            "gridcolor": "white",
            "gridwidth": 2,
            "linecolor": "white",
            "showbackground": true,
            "ticks": "",
            "zerolinecolor": "white"
           },
           "yaxis": {
            "backgroundcolor": "#E5ECF6",
            "gridcolor": "white",
            "gridwidth": 2,
            "linecolor": "white",
            "showbackground": true,
            "ticks": "",
            "zerolinecolor": "white"
           },
           "zaxis": {
            "backgroundcolor": "#E5ECF6",
            "gridcolor": "white",
            "gridwidth": 2,
            "linecolor": "white",
            "showbackground": true,
            "ticks": "",
            "zerolinecolor": "white"
           }
          },
          "shapedefaults": {
           "line": {
            "color": "#2a3f5f"
           }
          },
          "ternary": {
           "aaxis": {
            "gridcolor": "white",
            "linecolor": "white",
            "ticks": ""
           },
           "baxis": {
            "gridcolor": "white",
            "linecolor": "white",
            "ticks": ""
           },
           "bgcolor": "#E5ECF6",
           "caxis": {
            "gridcolor": "white",
            "linecolor": "white",
            "ticks": ""
           }
          },
          "title": {
           "x": 0.05
          },
          "xaxis": {
           "automargin": true,
           "gridcolor": "white",
           "linecolor": "white",
           "ticks": "",
           "title": {
            "standoff": 15
           },
           "zerolinecolor": "white",
           "zerolinewidth": 2
          },
          "yaxis": {
           "automargin": true,
           "gridcolor": "white",
           "linecolor": "white",
           "ticks": "",
           "title": {
            "standoff": 15
           },
           "zerolinecolor": "white",
           "zerolinewidth": 2
          }
         }
        },
        "title": {
         "text": "Correlation coefficients for relative yearly savings"
        },
        "xaxis": {
         "anchor": "y",
         "constrain": "domain",
         "domain": [
          0,
          1
         ],
         "scaleanchor": "y"
        },
        "yaxis": {
         "anchor": "x",
         "autorange": "reversed",
         "constrain": "domain",
         "domain": [
          0,
          1
         ]
        }
       }
      }
     },
     "metadata": {},
     "output_type": "display_data"
    }
   ],
   "source": [
    "cols_to_drop = [\n",
    "    \"grid_level\",\n",
    "    \"zip_code\",\n",
    "    \"sector_group_id\",\n",
    "    \"sector_group\",\n",
    "    \"solar_invest_eur\",\n",
    "    \"solar_annuity_eur\",\n",
    "    \"solar_capacity_kwp\"]\n",
    "rel_correlations_df = rel_diff_with_master.drop(columns=cols_to_drop).corr()\n",
    "px.imshow(rel_correlations_df, title=\"Correlation coefficients for relative yearly savings\")"
   ]
  },
  {
   "cell_type": "code",
   "execution_count": 22,
   "id": "155988d3",
   "metadata": {},
   "outputs": [
    {
     "data": {
      "application/vnd.plotly.v1+json": {
       "config": {
        "plotlyServerURL": "https://plot.ly"
       },
       "data": [
        {
         "hovertemplate": "index=%{x}<br>total_yearly_costs_eur=%{y}<extra></extra>",
         "legendgroup": "",
         "marker": {
          "color": "#636efa",
          "pattern": {
           "shape": ""
          }
         },
         "name": "",
         "orientation": "v",
         "showlegend": false,
         "textposition": "auto",
         "texttemplate": "%{y}",
         "type": "bar",
         "x": [
          "total_yearly_costs_eur",
          "grid_capacity_kw",
          "grid_capacity_costs_eur",
          "capacity_price_under_2500h_eur_per_kw",
          "energy_price_over_2500h_eur_per_kwh",
          "capacity_price_over_2500h_eur_per_kw",
          "energy_price_under_2500h_eur_per_kwh",
          "peak_by_mean",
          "std_by_mean",
          "variance_kw",
          "number_of_peak_load",
          "total_energy_kwh",
          "mean_load_kw",
          "std_kw",
          "peak_load_kw",
          "std_by_peak",
          "full_load_hours_h",
          "energy_costs_eur",
          "grid_energy_costs_eur"
         ],
         "xaxis": "x",
         "y": {
          "bdata": "AAAAAAAA8D+kcD0K16PoP6RwPQrXo+g/MzMzMzMz4z+PwvUoXI/SP3E9CtejcM0/mpmZmZmZyT+4HoXrUbi+P3sUrkfheoS/exSuR+F6lL+4HoXrUbiev7gehetRuK6/uB6F61G4rr/sUbgeheuxv+xRuB6F67G/exSuR+F6tL8pXI/C9Si8vx+F61G4HuW/H4XrUbge5b8=",
          "dtype": "f8"
         },
         "yaxis": "y"
        }
       ],
       "layout": {
        "barmode": "relative",
        "legend": {
         "tracegroupgap": 0
        },
        "template": {
         "data": {
          "bar": [
           {
            "error_x": {
             "color": "#2a3f5f"
            },
            "error_y": {
             "color": "#2a3f5f"
            },
            "marker": {
             "line": {
              "color": "#E5ECF6",
              "width": 0.5
             },
             "pattern": {
              "fillmode": "overlay",
              "size": 10,
              "solidity": 0.2
             }
            },
            "type": "bar"
           }
          ],
          "barpolar": [
           {
            "marker": {
             "line": {
              "color": "#E5ECF6",
              "width": 0.5
             },
             "pattern": {
              "fillmode": "overlay",
              "size": 10,
              "solidity": 0.2
             }
            },
            "type": "barpolar"
           }
          ],
          "carpet": [
           {
            "aaxis": {
             "endlinecolor": "#2a3f5f",
             "gridcolor": "white",
             "linecolor": "white",
             "minorgridcolor": "white",
             "startlinecolor": "#2a3f5f"
            },
            "baxis": {
             "endlinecolor": "#2a3f5f",
             "gridcolor": "white",
             "linecolor": "white",
             "minorgridcolor": "white",
             "startlinecolor": "#2a3f5f"
            },
            "type": "carpet"
           }
          ],
          "choropleth": [
           {
            "colorbar": {
             "outlinewidth": 0,
             "ticks": ""
            },
            "type": "choropleth"
           }
          ],
          "contour": [
           {
            "colorbar": {
             "outlinewidth": 0,
             "ticks": ""
            },
            "colorscale": [
             [
              0,
              "#0d0887"
             ],
             [
              0.1111111111111111,
              "#46039f"
             ],
             [
              0.2222222222222222,
              "#7201a8"
             ],
             [
              0.3333333333333333,
              "#9c179e"
             ],
             [
              0.4444444444444444,
              "#bd3786"
             ],
             [
              0.5555555555555556,
              "#d8576b"
             ],
             [
              0.6666666666666666,
              "#ed7953"
             ],
             [
              0.7777777777777778,
              "#fb9f3a"
             ],
             [
              0.8888888888888888,
              "#fdca26"
             ],
             [
              1,
              "#f0f921"
             ]
            ],
            "type": "contour"
           }
          ],
          "contourcarpet": [
           {
            "colorbar": {
             "outlinewidth": 0,
             "ticks": ""
            },
            "type": "contourcarpet"
           }
          ],
          "heatmap": [
           {
            "colorbar": {
             "outlinewidth": 0,
             "ticks": ""
            },
            "colorscale": [
             [
              0,
              "#0d0887"
             ],
             [
              0.1111111111111111,
              "#46039f"
             ],
             [
              0.2222222222222222,
              "#7201a8"
             ],
             [
              0.3333333333333333,
              "#9c179e"
             ],
             [
              0.4444444444444444,
              "#bd3786"
             ],
             [
              0.5555555555555556,
              "#d8576b"
             ],
             [
              0.6666666666666666,
              "#ed7953"
             ],
             [
              0.7777777777777778,
              "#fb9f3a"
             ],
             [
              0.8888888888888888,
              "#fdca26"
             ],
             [
              1,
              "#f0f921"
             ]
            ],
            "type": "heatmap"
           }
          ],
          "histogram": [
           {
            "marker": {
             "pattern": {
              "fillmode": "overlay",
              "size": 10,
              "solidity": 0.2
             }
            },
            "type": "histogram"
           }
          ],
          "histogram2d": [
           {
            "colorbar": {
             "outlinewidth": 0,
             "ticks": ""
            },
            "colorscale": [
             [
              0,
              "#0d0887"
             ],
             [
              0.1111111111111111,
              "#46039f"
             ],
             [
              0.2222222222222222,
              "#7201a8"
             ],
             [
              0.3333333333333333,
              "#9c179e"
             ],
             [
              0.4444444444444444,
              "#bd3786"
             ],
             [
              0.5555555555555556,
              "#d8576b"
             ],
             [
              0.6666666666666666,
              "#ed7953"
             ],
             [
              0.7777777777777778,
              "#fb9f3a"
             ],
             [
              0.8888888888888888,
              "#fdca26"
             ],
             [
              1,
              "#f0f921"
             ]
            ],
            "type": "histogram2d"
           }
          ],
          "histogram2dcontour": [
           {
            "colorbar": {
             "outlinewidth": 0,
             "ticks": ""
            },
            "colorscale": [
             [
              0,
              "#0d0887"
             ],
             [
              0.1111111111111111,
              "#46039f"
             ],
             [
              0.2222222222222222,
              "#7201a8"
             ],
             [
              0.3333333333333333,
              "#9c179e"
             ],
             [
              0.4444444444444444,
              "#bd3786"
             ],
             [
              0.5555555555555556,
              "#d8576b"
             ],
             [
              0.6666666666666666,
              "#ed7953"
             ],
             [
              0.7777777777777778,
              "#fb9f3a"
             ],
             [
              0.8888888888888888,
              "#fdca26"
             ],
             [
              1,
              "#f0f921"
             ]
            ],
            "type": "histogram2dcontour"
           }
          ],
          "mesh3d": [
           {
            "colorbar": {
             "outlinewidth": 0,
             "ticks": ""
            },
            "type": "mesh3d"
           }
          ],
          "parcoords": [
           {
            "line": {
             "colorbar": {
              "outlinewidth": 0,
              "ticks": ""
             }
            },
            "type": "parcoords"
           }
          ],
          "pie": [
           {
            "automargin": true,
            "type": "pie"
           }
          ],
          "scatter": [
           {
            "fillpattern": {
             "fillmode": "overlay",
             "size": 10,
             "solidity": 0.2
            },
            "type": "scatter"
           }
          ],
          "scatter3d": [
           {
            "line": {
             "colorbar": {
              "outlinewidth": 0,
              "ticks": ""
             }
            },
            "marker": {
             "colorbar": {
              "outlinewidth": 0,
              "ticks": ""
             }
            },
            "type": "scatter3d"
           }
          ],
          "scattercarpet": [
           {
            "marker": {
             "colorbar": {
              "outlinewidth": 0,
              "ticks": ""
             }
            },
            "type": "scattercarpet"
           }
          ],
          "scattergeo": [
           {
            "marker": {
             "colorbar": {
              "outlinewidth": 0,
              "ticks": ""
             }
            },
            "type": "scattergeo"
           }
          ],
          "scattergl": [
           {
            "marker": {
             "colorbar": {
              "outlinewidth": 0,
              "ticks": ""
             }
            },
            "type": "scattergl"
           }
          ],
          "scattermap": [
           {
            "marker": {
             "colorbar": {
              "outlinewidth": 0,
              "ticks": ""
             }
            },
            "type": "scattermap"
           }
          ],
          "scattermapbox": [
           {
            "marker": {
             "colorbar": {
              "outlinewidth": 0,
              "ticks": ""
             }
            },
            "type": "scattermapbox"
           }
          ],
          "scatterpolar": [
           {
            "marker": {
             "colorbar": {
              "outlinewidth": 0,
              "ticks": ""
             }
            },
            "type": "scatterpolar"
           }
          ],
          "scatterpolargl": [
           {
            "marker": {
             "colorbar": {
              "outlinewidth": 0,
              "ticks": ""
             }
            },
            "type": "scatterpolargl"
           }
          ],
          "scatterternary": [
           {
            "marker": {
             "colorbar": {
              "outlinewidth": 0,
              "ticks": ""
             }
            },
            "type": "scatterternary"
           }
          ],
          "surface": [
           {
            "colorbar": {
             "outlinewidth": 0,
             "ticks": ""
            },
            "colorscale": [
             [
              0,
              "#0d0887"
             ],
             [
              0.1111111111111111,
              "#46039f"
             ],
             [
              0.2222222222222222,
              "#7201a8"
             ],
             [
              0.3333333333333333,
              "#9c179e"
             ],
             [
              0.4444444444444444,
              "#bd3786"
             ],
             [
              0.5555555555555556,
              "#d8576b"
             ],
             [
              0.6666666666666666,
              "#ed7953"
             ],
             [
              0.7777777777777778,
              "#fb9f3a"
             ],
             [
              0.8888888888888888,
              "#fdca26"
             ],
             [
              1,
              "#f0f921"
             ]
            ],
            "type": "surface"
           }
          ],
          "table": [
           {
            "cells": {
             "fill": {
              "color": "#EBF0F8"
             },
             "line": {
              "color": "white"
             }
            },
            "header": {
             "fill": {
              "color": "#C8D4E3"
             },
             "line": {
              "color": "white"
             }
            },
            "type": "table"
           }
          ]
         },
         "layout": {
          "annotationdefaults": {
           "arrowcolor": "#2a3f5f",
           "arrowhead": 0,
           "arrowwidth": 1
          },
          "autotypenumbers": "strict",
          "coloraxis": {
           "colorbar": {
            "outlinewidth": 0,
            "ticks": ""
           }
          },
          "colorscale": {
           "diverging": [
            [
             0,
             "#8e0152"
            ],
            [
             0.1,
             "#c51b7d"
            ],
            [
             0.2,
             "#de77ae"
            ],
            [
             0.3,
             "#f1b6da"
            ],
            [
             0.4,
             "#fde0ef"
            ],
            [
             0.5,
             "#f7f7f7"
            ],
            [
             0.6,
             "#e6f5d0"
            ],
            [
             0.7,
             "#b8e186"
            ],
            [
             0.8,
             "#7fbc41"
            ],
            [
             0.9,
             "#4d9221"
            ],
            [
             1,
             "#276419"
            ]
           ],
           "sequential": [
            [
             0,
             "#0d0887"
            ],
            [
             0.1111111111111111,
             "#46039f"
            ],
            [
             0.2222222222222222,
             "#7201a8"
            ],
            [
             0.3333333333333333,
             "#9c179e"
            ],
            [
             0.4444444444444444,
             "#bd3786"
            ],
            [
             0.5555555555555556,
             "#d8576b"
            ],
            [
             0.6666666666666666,
             "#ed7953"
            ],
            [
             0.7777777777777778,
             "#fb9f3a"
            ],
            [
             0.8888888888888888,
             "#fdca26"
            ],
            [
             1,
             "#f0f921"
            ]
           ],
           "sequentialminus": [
            [
             0,
             "#0d0887"
            ],
            [
             0.1111111111111111,
             "#46039f"
            ],
            [
             0.2222222222222222,
             "#7201a8"
            ],
            [
             0.3333333333333333,
             "#9c179e"
            ],
            [
             0.4444444444444444,
             "#bd3786"
            ],
            [
             0.5555555555555556,
             "#d8576b"
            ],
            [
             0.6666666666666666,
             "#ed7953"
            ],
            [
             0.7777777777777778,
             "#fb9f3a"
            ],
            [
             0.8888888888888888,
             "#fdca26"
            ],
            [
             1,
             "#f0f921"
            ]
           ]
          },
          "colorway": [
           "#636efa",
           "#EF553B",
           "#00cc96",
           "#ab63fa",
           "#FFA15A",
           "#19d3f3",
           "#FF6692",
           "#B6E880",
           "#FF97FF",
           "#FECB52"
          ],
          "font": {
           "color": "#2a3f5f"
          },
          "geo": {
           "bgcolor": "white",
           "lakecolor": "white",
           "landcolor": "#E5ECF6",
           "showlakes": true,
           "showland": true,
           "subunitcolor": "white"
          },
          "hoverlabel": {
           "align": "left"
          },
          "hovermode": "closest",
          "mapbox": {
           "style": "light"
          },
          "paper_bgcolor": "white",
          "plot_bgcolor": "#E5ECF6",
          "polar": {
           "angularaxis": {
            "gridcolor": "white",
            "linecolor": "white",
            "ticks": ""
           },
           "bgcolor": "#E5ECF6",
           "radialaxis": {
            "gridcolor": "white",
            "linecolor": "white",
            "ticks": ""
           }
          },
          "scene": {
           "xaxis": {
            "backgroundcolor": "#E5ECF6",
            "gridcolor": "white",
            "gridwidth": 2,
            "linecolor": "white",
            "showbackground": true,
            "ticks": "",
            "zerolinecolor": "white"
           },
           "yaxis": {
            "backgroundcolor": "#E5ECF6",
            "gridcolor": "white",
            "gridwidth": 2,
            "linecolor": "white",
            "showbackground": true,
            "ticks": "",
            "zerolinecolor": "white"
           },
           "zaxis": {
            "backgroundcolor": "#E5ECF6",
            "gridcolor": "white",
            "gridwidth": 2,
            "linecolor": "white",
            "showbackground": true,
            "ticks": "",
            "zerolinecolor": "white"
           }
          },
          "shapedefaults": {
           "line": {
            "color": "#2a3f5f"
           }
          },
          "ternary": {
           "aaxis": {
            "gridcolor": "white",
            "linecolor": "white",
            "ticks": ""
           },
           "baxis": {
            "gridcolor": "white",
            "linecolor": "white",
            "ticks": ""
           },
           "bgcolor": "#E5ECF6",
           "caxis": {
            "gridcolor": "white",
            "linecolor": "white",
            "ticks": ""
           }
          },
          "title": {
           "x": 0.05
          },
          "xaxis": {
           "automargin": true,
           "gridcolor": "white",
           "linecolor": "white",
           "ticks": "",
           "title": {
            "standoff": 15
           },
           "zerolinecolor": "white",
           "zerolinewidth": 2
          },
          "yaxis": {
           "automargin": true,
           "gridcolor": "white",
           "linecolor": "white",
           "ticks": "",
           "title": {
            "standoff": 15
           },
           "zerolinecolor": "white",
           "zerolinewidth": 2
          }
         }
        },
        "title": {
         "text": "Correlation between different load profile characteristics and relative yearly savings"
        },
        "xaxis": {
         "anchor": "y",
         "domain": [
          0,
          1
         ],
         "title": {
          "text": "Variable"
         }
        },
        "yaxis": {
         "anchor": "x",
         "domain": [
          0,
          1
         ],
         "title": {
          "text": "Correlation coefficient"
         }
        }
       }
      }
     },
     "metadata": {},
     "output_type": "display_data"
    }
   ],
   "source": [
    "fig_df = rel_correlations_df[[\"total_yearly_costs_eur\"]].round(2)\n",
    "fig_df.sort_values(\"total_yearly_costs_eur\", inplace=True, ascending=False)\n",
    "fig_df.dropna(inplace=True)\n",
    "fig = px.bar(\n",
    "    data_frame=fig_df,\n",
    "    y=\"total_yearly_costs_eur\",\n",
    "    text_auto=True,\n",
    "    title=\"Correlation between different load profile characteristics and relative yearly savings\")\n",
    "fig.update_layout(yaxis_title=\"Correlation coefficient\", xaxis_title=\"Variable\")"
   ]
  },
  {
   "cell_type": "code",
   "execution_count": 23,
   "id": "1c3fdd9f",
   "metadata": {},
   "outputs": [
    {
     "name": "stderr",
     "output_type": "stream",
     "text": [
      "/tmp/ipykernel_56261/2488967782.py:15: ConstantInputWarning:\n",
      "\n",
      "An input array is constant; the correlation coefficient is not defined.\n",
      "\n"
     ]
    },
    {
     "data": {
      "text/html": [
       "<div>\n",
       "<style scoped>\n",
       "    .dataframe tbody tr th:only-of-type {\n",
       "        vertical-align: middle;\n",
       "    }\n",
       "\n",
       "    .dataframe tbody tr th {\n",
       "        vertical-align: top;\n",
       "    }\n",
       "\n",
       "    .dataframe thead th {\n",
       "        text-align: right;\n",
       "    }\n",
       "</style>\n",
       "<table border=\"1\" class=\"dataframe\">\n",
       "  <thead>\n",
       "    <tr style=\"text-align: right;\">\n",
       "      <th></th>\n",
       "      <th>var</th>\n",
       "      <th>corr</th>\n",
       "      <th>p_value</th>\n",
       "    </tr>\n",
       "  </thead>\n",
       "  <tbody>\n",
       "    <tr>\n",
       "      <th>0</th>\n",
       "      <td>total_yearly_costs_eur</td>\n",
       "      <td>1.000000</td>\n",
       "      <td>0.000000e+00</td>\n",
       "    </tr>\n",
       "    <tr>\n",
       "      <th>1</th>\n",
       "      <td>grid_capacity_costs_eur</td>\n",
       "      <td>0.772357</td>\n",
       "      <td>0.000000e+00</td>\n",
       "    </tr>\n",
       "    <tr>\n",
       "      <th>2</th>\n",
       "      <td>grid_capacity_kw</td>\n",
       "      <td>0.772357</td>\n",
       "      <td>0.000000e+00</td>\n",
       "    </tr>\n",
       "    <tr>\n",
       "      <th>3</th>\n",
       "      <td>capacity_price_under_2500h_eur_per_kw</td>\n",
       "      <td>0.602824</td>\n",
       "      <td>0.000000e+00</td>\n",
       "    </tr>\n",
       "    <tr>\n",
       "      <th>4</th>\n",
       "      <td>energy_price_over_2500h_eur_per_kwh</td>\n",
       "      <td>0.289900</td>\n",
       "      <td>1.711133e-71</td>\n",
       "    </tr>\n",
       "    <tr>\n",
       "      <th>5</th>\n",
       "      <td>capacity_price_over_2500h_eur_per_kw</td>\n",
       "      <td>0.230994</td>\n",
       "      <td>2.453462e-45</td>\n",
       "    </tr>\n",
       "    <tr>\n",
       "      <th>6</th>\n",
       "      <td>energy_price_under_2500h_eur_per_kwh</td>\n",
       "      <td>0.203932</td>\n",
       "      <td>1.642028e-35</td>\n",
       "    </tr>\n",
       "    <tr>\n",
       "      <th>7</th>\n",
       "      <td>peak_by_mean</td>\n",
       "      <td>0.120949</td>\n",
       "      <td>2.379397e-13</td>\n",
       "    </tr>\n",
       "    <tr>\n",
       "      <th>8</th>\n",
       "      <td>std_by_mean</td>\n",
       "      <td>-0.007822</td>\n",
       "      <td>6.368994e-01</td>\n",
       "    </tr>\n",
       "    <tr>\n",
       "      <th>9</th>\n",
       "      <td>variance_kw</td>\n",
       "      <td>-0.022499</td>\n",
       "      <td>1.745047e-01</td>\n",
       "    </tr>\n",
       "    <tr>\n",
       "      <th>10</th>\n",
       "      <td>number_of_peak_load</td>\n",
       "      <td>-0.026353</td>\n",
       "      <td>1.117123e-01</td>\n",
       "    </tr>\n",
       "    <tr>\n",
       "      <th>11</th>\n",
       "      <td>mean_load_kw</td>\n",
       "      <td>-0.063640</td>\n",
       "      <td>1.209209e-04</td>\n",
       "    </tr>\n",
       "    <tr>\n",
       "      <th>12</th>\n",
       "      <td>total_energy_kwh</td>\n",
       "      <td>-0.063640</td>\n",
       "      <td>1.209209e-04</td>\n",
       "    </tr>\n",
       "    <tr>\n",
       "      <th>13</th>\n",
       "      <td>peak_load_kw</td>\n",
       "      <td>-0.069485</td>\n",
       "      <td>2.690911e-05</td>\n",
       "    </tr>\n",
       "    <tr>\n",
       "      <th>14</th>\n",
       "      <td>std_kw</td>\n",
       "      <td>-0.070435</td>\n",
       "      <td>2.084444e-05</td>\n",
       "    </tr>\n",
       "    <tr>\n",
       "      <th>15</th>\n",
       "      <td>std_by_peak</td>\n",
       "      <td>-0.077798</td>\n",
       "      <td>2.578146e-06</td>\n",
       "    </tr>\n",
       "    <tr>\n",
       "      <th>16</th>\n",
       "      <td>full_load_hours_h</td>\n",
       "      <td>-0.108309</td>\n",
       "      <td>5.556647e-11</td>\n",
       "    </tr>\n",
       "    <tr>\n",
       "      <th>17</th>\n",
       "      <td>energy_costs_eur</td>\n",
       "      <td>-0.661677</td>\n",
       "      <td>0.000000e+00</td>\n",
       "    </tr>\n",
       "    <tr>\n",
       "      <th>18</th>\n",
       "      <td>grid_energy_costs_eur</td>\n",
       "      <td>-0.661677</td>\n",
       "      <td>0.000000e+00</td>\n",
       "    </tr>\n",
       "    <tr>\n",
       "      <th>19</th>\n",
       "      <td>is_over_2500h</td>\n",
       "      <td>NaN</td>\n",
       "      <td>NaN</td>\n",
       "    </tr>\n",
       "  </tbody>\n",
       "</table>\n",
       "</div>"
      ],
      "text/plain": [
       "                                      var      corr       p_value\n",
       "0                  total_yearly_costs_eur  1.000000  0.000000e+00\n",
       "1                 grid_capacity_costs_eur  0.772357  0.000000e+00\n",
       "2                        grid_capacity_kw  0.772357  0.000000e+00\n",
       "3   capacity_price_under_2500h_eur_per_kw  0.602824  0.000000e+00\n",
       "4     energy_price_over_2500h_eur_per_kwh  0.289900  1.711133e-71\n",
       "5    capacity_price_over_2500h_eur_per_kw  0.230994  2.453462e-45\n",
       "6    energy_price_under_2500h_eur_per_kwh  0.203932  1.642028e-35\n",
       "7                            peak_by_mean  0.120949  2.379397e-13\n",
       "8                             std_by_mean -0.007822  6.368994e-01\n",
       "9                             variance_kw -0.022499  1.745047e-01\n",
       "10                    number_of_peak_load -0.026353  1.117123e-01\n",
       "11                           mean_load_kw -0.063640  1.209209e-04\n",
       "12                       total_energy_kwh -0.063640  1.209209e-04\n",
       "13                           peak_load_kw -0.069485  2.690911e-05\n",
       "14                                 std_kw -0.070435  2.084444e-05\n",
       "15                            std_by_peak -0.077798  2.578146e-06\n",
       "16                      full_load_hours_h -0.108309  5.556647e-11\n",
       "17                       energy_costs_eur -0.661677  0.000000e+00\n",
       "18                  grid_energy_costs_eur -0.661677  0.000000e+00\n",
       "19                          is_over_2500h       NaN           NaN"
      ]
     },
     "execution_count": 23,
     "metadata": {},
     "output_type": "execute_result"
    }
   ],
   "source": [
    "df = pd.DataFrame()\n",
    "i = 0\n",
    "for var in rel_correlations_df.index:\n",
    "    if np.inf in rel_diff_with_master[var]:\n",
    "        continue\n",
    "    elif -np.inf in rel_diff_with_master[var]:\n",
    "        continue\n",
    "    elif np.nan in rel_diff_with_master[var]:\n",
    "        continue\n",
    "    elif rel_diff_with_master[var].isin([np.nan, np.inf, -np.inf]).any():\n",
    "        continue\n",
    "    if \"storage\" in var or \"inverter\" in var:\n",
    "        continue\n",
    "\n",
    "    corr, p_value = pearsonr(y=rel_diff_with_master[\"total_yearly_costs_eur\"], x=rel_diff_with_master[var])\n",
    "    df.loc[i, \"var\"] = var\n",
    "    df.loc[i, \"corr\"] = corr\n",
    "    df.loc[i, \"p_value\"] = p_value\n",
    "    i += 1\n",
    "\n",
    "df.sort_values(\"corr\", ascending=False, ignore_index=True)"
   ]
  },
  {
   "cell_type": "markdown",
   "id": "d45d6481",
   "metadata": {},
   "source": [
    "## Scatterplots"
   ]
  },
  {
   "cell_type": "code",
   "execution_count": 24,
   "id": "9de8331f",
   "metadata": {},
   "outputs": [
    {
     "data": {
      "application/vnd.plotly.v1+json": {
       "config": {
        "plotlyServerURL": "https://plot.ly"
       },
       "data": [
        {
         "hovertemplate": "is_over_2500h=True<br>std_by_mean=%{x}<br>total_yearly_costs_eur=%{y}<extra></extra>",
         "legendgroup": "True",
         "marker": {
          "color": "#636efa",
          "symbol": "circle"
         },
         "mode": "markers",
         "name": "True",
         "showlegend": true,
         "type": "scattergl",
         "x": {
          "bdata": "x27W4wYv4z/tOPkf9KTiP16Sl1wLz+A/S63E45vE2D+QVm5FV6jXP/5WbG/g8NY/4Rc3PR423T+VhweoG0bgP0Xc8+VZsNw/swzkLe3z2z9h9AyP57HHP2D5ZiR0F+E/zlJrX4Er5T89U0Ln4q7WP9ltneGcCtc/Lr36CL4U2T9Cb2XXVyjtPwPQKmKYqeY/IeCOoiZ85z8FsLrbHsHlP4yduj4uv9o/gM8f78K05T+XWF4RlXngPwzDD5BodeA/AIA6PIghxz824QXbyLbnP3idewiuStI/BfWSB78E4j99abGru+PjP2h0U9exd+I/fO1ptWwl0D9LdOY1lyjOP4PCpbVgAtw/rHwc3dij3z8boyV+ntndPwrUZs55Mec/NuriRikm4T9tgwaEmvzkP/5fG5uul+U/Dg/HItbmzz+a4h9xeBzlP95hxZ5X5OQ//bRvAQY94T8cxP1lqJPWP42RhgRpw+I/yapXfBKV1j/xkxQy9IvYPwPEi2CQZOA/Id4t5fqL4j9LhjCEn4XiP9EUfKv2fN8/TsECkl1z5j8mMh+tdczYP9HNfMIAmLo/zjm6pqhHjj9cidIete2wP3rzN8Rdl7E/Ad5Z8qF+3T/k0ByxAkjSP53G4BBsTNU/5fdsWfjz5z8Ee9bPobbdP2ZBNTze7dA/auOsY+S43z9lmxjFH3HgP4jdXa/vlt4/IJzx/3+D6T+IFENJXJrTPwqltVAPRNI/uRwmxF3v0T9lyGTfF2vmP2LExvj0eNI/kl85t8SZyT8torM6MY7nP1r051pxbek/BKmeW9B41T+kCxvzGhvePzyNdFov09I/LyQWTqd52T9Ief6VPm7vP95ZPx+MUNY/GddYGf1V4D9ICRA0J07mP3y8U3IaA+A/psNjHhIx5z/XyNoY/8jeP4OX7FJvZts/7P5e/cxw6T9hVsjshvDnPxpLopck1MQ/B4VD3xeP6D8otUZGewbgP3QxFvuevt0/CFYsVOS20T+4QiKI3p/XP4iMwnTP18U/tDy5c0WY4D9Z17VQHXjnP0HTLQZVWeI/L2KDxKcG0T/LOdRzKbXkPxOymp7PX+I/eprGy+Ke5z+3Ac45H8/YP7JtFo63Tts/nQmdyrHE0j+IwwWDqYXgPw+qZL2F5dI/sTYtWJYk3j/mB8NdY1nsP5sFyH1xUuc/Bq7NFKmq4T8i3yGAg33tPxmHg6fJ9OM/5sp709yl3z93ykrelv/mP23PH88Nv+Y/oZV03qK25T+0cVOcK2fhP/3RmHYrFNY/bt9xbEpU3T/DMLUCz+zUP3d9oo3fjtc/yXw6NlcGzD+6lPg8ipPtPzYKNzjUQd0/oSpYdRm04T8cKzTcIqTYPwpUoTor9N4/o4RauALBpj90YNjGBYriP1QhBzD0ZOo/ZuuZ+bMx0T/ek4ddIlrlPzPVVsz4L9M/YT+jlVUV8D/6AEjBHVvaP8bmjLEKiO0/fKYQwz925j/Nx6X2XTztPx3Hk+NH29k//KnLYVWdsD9PBjxprl7sP6xKzzTiWeI/RQ06UDTk2D9nrlFCrbLbP+sQsYai0uE/T8xCueqM5z8hQ8bMXzjhP1dat9X/ZOY/8gAd3vj52D+LxQj22NLlP0Reh/iJ2eQ/i0ko+0bb6D/Ifl7bAD7VP/TMQZkLUuI/AxoeYWyoyT+UJCBSKwXlP+RIFbW7Vec/0OdGWLBG2D9uOBH8PM7dP5NflifITdQ/6M4oUDye6j/Z0/+Akr/cP2SP6QZMXeY/6YJNf6Osyj/oe6IbH/ngPxopByzbj+A/RhNM97u22T8+LlKmgQPaPxrdBVRzW+M/Cr+wq8am4T9fstnKa4bhPzkAoPav1tc/ISXA52fw2D8LCbxo2wvvP8zLPET2WNk/1QHkWaA61j822LdMr6DnP9c0V03VL+k/IAiKQhWE4j8pblmONqbhPx+YKSEMruQ/OzwC5Srd5T84hAj8QfXiPxVE4GhZgtw/UJWFE1tk4D8OX9vUkMXhP/E8BsAxjuc/hZk87Cd57z84t9QllF7uP+vaORuxt+I/EVMxVIWr3j+CYPQRJBHnP3zkUuX0zOU/p08GMntW5T+CuO2NL3PcPxPnN/99MuQ/viM+5Hza2T/t9o4q0a/WP79I3w4UQcU/sLjRqIFLxj9a/BwguTHPPwkUIftvVNM/Gqa1DquQ4j/8OlBYPKzgP1BwMAAqYtE/mejHJi0d1D+y/lFlcTDbP8jo43GntOY/6TLWCUkh4D+bka3KYVvlPywuHJ+9pd0/FTwLZKAI4T9kzKPhVrbTPymiNXPuf9Q/iloNse904z+J3pdGNbXYPzd9tCuc8OM/plCaFMra2z9N16vNlW/nP2GXvxjYz8E/dFPO2WAK6D9Ql35jurPjP3IfI0bWxuc/CWZ0s4jo6T8uoFlYTMHUPwhpsh5SaPA/4lLdJhQP5z8yrWWHL8PcP5VLIXjQG+E/qxHxohUs4j914tmZVn/VPxH2Adv1idY/Wv8rUxp62j+OkMtEd+DnP2+AGCwnP9k/8uyLhqCl1z+vevUu9VLdP/ADPPtz++o/pZJd3ZcI4D+amwJyDs3cP3oSu7JboeE/0HquTlHuyj/2dI08vWDjP29wnWV9Md4/b1ze/y/n2T+Ab3dZnETRPxTZBpJardM/TfkWDePU7D9m59fHLuTlP34aPfO7Dck/rDjN2b9b7j9vk0wXlR3uPxoLFBWeUNk/yt5tFIwq4D+sXepSqNPSP9owDetk9Ns/fxRDeQzi0z/HpSGNXcXZP1w6ajHbmt4/gk90gj8T2j/Q7osDbGzhP+gUUvIEj9Q/K5jrsMsRxj+Vu3zzCEPdP/vDFwyes+Q/rvGByC676D91jTOk2zHkP02rSL0pwd8/NfH3ogC60j9gyBhTL5ngP0Hh+pOYm+g/mgyhugKE5D8afgHFu87pP1SU30Gu2uc/1jNOjweV5z+ceQaf6jjhPwrLzNPHtuE/e2o29uHE1T+iltyUjpTkP9T8ihMDP+w/B3ZzvG7kzD9fSR0tcf3GP+GcErgy0sk/7nn/ku/f0z/IIpRqZuLWPw++Y9BDcuU/ff2FH67y5z+5kH/dQrriP1wTno6Q7OI/SasM9tRu5z8Y2X+MH47XP8vwmNpiOtg/oNZ3S7dg5z+QyqG+kvnYP/5ja7NjuOM/IOheCX792T9MgSi5jAnJP7mXuCnkJOA/pizbqpWN2T8WKf5KABvhPypueiJ/MM0/X2B4niz/wz8kwadFucTxPzMfhHCE+cY/JCBZs5J/4z8D7ezGVkriP1Qm926i69w/dyYPUbSNzT+TQVmn5y/OP83Ihc1ONtk/lSv8bfLc0j8CQG4e+GzpPwrQ9c9nc+Y//5OKLp574D9iAkV0SEqkP21W1iQU7+c/DYRuuyRBzj80qSNlo8LnPwJe7N2kE9E/U4T+kwdj4z+Tzrlj0d3ZPyziqL5tzOU/nV/P+LYA4z9R6fXxvPPRPyKWWs4DjsA/jU9yD+ms3j8yhwHoGeDNP/ADuUWIZtE/muiFwFTuyT/3uF5q7h/JPwnPhnxBd9k/uENm05SxzT88yXvNnL/fP/qUBDYv9+I/qwKc3OfB4D8LDDNiLEDsP3O2BuPjOPA/jC20ajg84T+YlTCTkbfgP3ZVohTWgNg/nYxX0MkGyz/y7113qTjhP1B3YFt50+I/O4koAzo+2D9mY7M76MzbP42vwaAOpeE/qyF2BsVB4T/B5ZhHjbznP5KReP3fieQ/vmcpshoM4T8pAIIMCuvhPz6bGRs4JuI/6LSUpHhI3D/EiT5kDfHfPwfEG8Iyac0/PxUWHSOh1D+8h1AA39zYPxY8/0gtWNo/BUXhYSv44D/0Hog4W/vJP6Hfgey+V9U/FOSssAzM0z/1Q9CVAhPcP0h6sJId/NE/0wB8ejEf2T/8D4C/kKzoP5Dd7KahiOg/5P/a9NdC7D+IIAGA9ibjPztDmBef19U/Z67sazYP1z/2DwfEaVnnP2/rWUS1Y9g/Hx1fpUzc4D9XtVYP2/XYP0rQGteMCdg/oR1SW1oz3j/9td5Et2HjPxMc0sLbicc/UwNHZTngxD9BJVEgSL7RP+n/4ZYULdI/VqDYMFna1D8lKHMh6VrmP3vaNg9+1ec/033EZk8J4D+l20Moje/rPxt/DodujOQ/wLJpTufL2T8WVdvhu1LbP5NfTJ/UMuI/5XInbNoT1D/f9xUcezHZP3m/lPDiyOQ/RjvnaSRt3D+d79amzfvkPxT8yBsrA+U/fmzK4WVh2j8fcS2sYe7cPylgM1EDdd0/mKi54uVm3j/o2EKxT5vjP+VTkXM4XvA/V/AUPy0R5j/RxkHuyA7MPwQkslAjMeM/5uuky1aa6T9m3KZ1LHXeP58dC5azkeA/m71Xc7bN5z8b+PzGn8nXP2g9SYgBrOY/Bm54oc5S1z9maY1UPr3kP4+CaK53KPE/P7bWi4xJ4D+hjrew4/LJP6iVWhdjq+g/RCj34WOT5D8xXwuQyazUP1p7w7H938o/1oAQoPLi2j9ygRXJvS3qPw8r5e2R7uM/elM3HOU96D8QeVTgOlvbPxF5NkLu4r8/3F7CMZMF4z/AOPK/ZmfeP/XsDW19E9I/V2Ij7YZR7T99YtlnIr3UPxpRuMcR7NY/h+KeuL7D0T/rSQiL9yrNP42XKE1q2d4/ftxM2/7q1T8L9CoE2OnXPwegMxPRuts/2zaUuOl22D8pZqsXTqHuP7wJcdDey+I/g/Sam/194D/UB2a2wbDgPxRwcbV2kec/pX+ShT9E2T+vDKFHY+/FP+g/IXB8bvE/4+r5dyep0z+y85EzX0XqPwlclZ97dds/4esTExr14D+MH/kSt1/ZPx2tuF79xt4/42ZhaQ7j0z+1k/FIHXXJP17OPAd1ddI//4J3bzj54T/kZuhJhjHiP5lAW+GdGtw/wk0rCBwS4j+wEaciLZbbP2y9s3M5EOQ/Q54BLGNE2D9mbKGJk/blPxBlUhGmcdE/nPVuY+H11T8HWjHkrdLiP67ZNZDC4uw/3D+VilSU7T+AOhRkGsjqP/FOy8iZf9Q/SU2TgTZY4D/Kzm/4MHfIP7BG4QPgp+Q/mT8oE2Da6j/3teCIE6vjP9vyq84byeE/v3QiE19t7D/TyXxNp8TgP43/mLgZKsc/nBbdNP5B2D8QVgUPm1HePzlyVu30VeI/747IlXaL4j/Id0towYjoP1zLxo1qqNo/yBSwAa9p6T+OvGQpo4HZPx/FMYPC1t4/eKWiIxSf5T83TDXsFhDIP7uEDM2rVOQ/4RO7M5mO6D/4KfwwbJ7ZP+7XrMVCkck/HJZSLcDr6T8PU7xJJ5vnP3/XuTNfhOU/BnkRcGQx4D/S/kk/5uDiP4oM2oKLIew/k8FK4iQ15T9AYC3zmhfkPxzIjJs+EcQ/t549n5IK5D+/gtP8DsDiPwNuhuqQ+tU/JDeI5F8YyT8Le5FFTuzbP8wGwy0yZdU/Cw8wxK1V2z8Q35ieyLDRP9/73KJvMNM/sf17EDlc3j9q652pEADQPyiUFsTSId8/304XlP680j9F1k8/ToPWPxkXvOpaPO4/1PeQDVkRyD/vgR9ZDlTpP0tilEk3PMc/AZ4C6vIC7T8IEVHyVRzrP7UttdR8quU/NypHLPO77T8iBzHYupHTP/HCFB9pnfE/v4KyCmlR3D8NpwBDD3byP48GIWesE+Y/tHKLUEQW5j+Gpi/v7grgP/iHDIw7CN8/Si5/BkIP2T+h5LXJJVG2P7e2EkoIdOU/jaxJ9dHqyT9sGKz7K3LlPxkqEb70udI/YxCW32l7xT+p+iAyJqTgP3oymZ2jIOw/uPbRHAaX5j84PIluuqLlPynko640oto/UMjnGIN26j8pR331ZRLuP82yxtBvXbg/SULT1Vif5T+H+siADOzKP9LrSyDlHtY/prvx0bqH4T/OYRzeje/XP3GpAR60eOs/vD7TaSpf5j8Z2amJklnSP7UlNV/BcOA/R3lKIOdm5j8DFlb64KjeP8Oe4CS7RsM/ysEt4VmX6D/xIg785RvnP0WkW5ksNNc/RhtIqCnw4j8SqvjCBaziPxKdCmZ6+uE//YR/c/dd5z9yraOvGKfgP7jy8JDyNeE/KT6+7tjV1D9fVREiwXzSPy1huammiNA/QocdoZKq2j+fNRifzRLeP39RSwYk9ds/nwMFLYYk3z/MtwHSH0reP/fgX1HtF+w/Ny6xweOZ4D+aGkqx+A7TPwdrJ7gBTNI/zltDGxYsvj/4rIyGj8PbPyvihg6/N84/snn7LJfq2D8Mxf+t0zPWPxDiwTESVMc/6FF+OusH6D/dnY58uYLTP7JE05z3MO0/u7QW/L1Z3D/KLX7ALRvnP8JGEvts1tA/ZW0gs8zn3T+VLGPBR6rZPwoyvmKTXOU/9fMRiDYv3T/HWczyy7HhPzZ/2Q7qr+Q/jOgUukNb4z9vs6oLh5rdPxhpfwApw8U/sz2LAxqw1T+SJhJoCMnfPyfvKGjz+uE/lqXSizv82D97jGhuKLvMP4rud2ip8s0/stx9dmBv2z9idAp6P7fUPwkGWNFCN9c/GSHCLKVo2j8zfWdZzjbIP9o6BEyDAeM/dkilCQB/2j9a6Z51TJvhP2uQD0r/B+A/6HXJnbx54D9xeB4o1c/iP1PS6NgKwNg/zVHVo3IL3z+4Y2kDn1/bP5OynCbZleU/tPJJNkGTzz86lwzkMm/RPztw788/k+E/xr+UCw1I2z/0CbV+10baPyorOuhI78s/i4YD9x460T/VZlygvgjkPyHaqswT3ts/JySxHQ2A5j/zhdtYo1LYP7ucUHsX9Oc/8OjN5Tk43j96L6R3DTfVPySc+oR6rO8/UJpHAOLC4j9nJhtkLOrXPy7SFqNigto/o1BxLY9Y6z8o4xx+FNvRPxLrAEnOFtU/1UtGdxYV2j8SqkK6x1DlP8Ea9h3AHM4/OYZCT4d63j8XZOf+oiPgP0V5+D2O69U/KfWBW6Zp0j/e4/DdIGXhPwQLvhglE+o/NI6rsmeK7j8HejzCwETrP2xsNsxMd+Y/2j2Wu1i+5T8eWyUG/TTwPz5LrABBdek//eqIoUH86z+p/VKLwdPsP3J1kYCgp+k/QUBUD3Je5z8vRUAeWm/cP+QCjz6RE9I/1n69v8st2z8MupmX6OriP7BfL0a3CN0/MymoEi3A0T+ski1caKfjP55LucqgBtQ/EyWAx9fh1z/sfmetvQfUP8UtDEYhc9k/ZHWpaOk55T/+D9DkpZLZP/WiP+08+uY/vt59HLSk5j9JffSrSr7UPyySLI+VkdE/ud6LbgkY3T8cqS1l66jUP+psg5lattU/zud76x2k0j9JPK5DewLfP+OK/3vVouY/G0/eRwPL1z9j88Lj2UHhP58WhjjdIdU/mLiZ/mvn3j+/UmjvzKTPPyA5XwdC19M/mr25NwNUzD/9ALCxrEXbP6xOq4BbudI/QwhucqnG0D8YQytGzmjoP8BE4XBbU9w/8bZy6TXXzD8mJyb3XDjSP0v8AOZwTNk/ii7sZc425T/dMM+gd2XiP/ZLyOFC0+M/crkqZqxr4T+akaZp7mTGP8qC1EtjItY/MiNmY3qo1D9wpCoQmn/hP1Nc9SrjOtM/QtlQJCQ54z+uEYtn+xvdP7JkG+eUb9A/HlPgIOog4j/1UpjsoafjP8bkXV58N+U/Tf94AA2P2z8/VOBpCLLXPxDTIzxyd+E/xKI2Nkjf4D/Qf1swlD3jP936ZLVxAuM/ho10hwdm3D9uQMGjbmjKP7C7pqMMmtU/a5f03H5k3D/S6xPzF+HpPyK4vjzFTdk/zNUbMPAS1D98SrhfborkP9poPNlfc9w/TPA9goLj3D/x+VMzgMHdP81Fi13SBd4/nGgxHdDy3j+wNzlJW7zUP3JxKr9pkuA/63b8skOV3D93nwkCt7DfP3K9P0m+u+Y/jUxROOSA4T9Aa2hPEbjjP/VCXrI9eNk/MxII/G9W3j+WdtHrfG/UPyxeP+fJe+A/i1j+eydl1j9gA71SM8zmP5j8pJdCRtQ/JZJ0eCv04T9VnA47dUrbP9sAOvMJosc/2ACepCgl4j+PhaXu6XnUP25T0Y+vZOc/q1Cjgg+50z+jErBsKf7hP4O+3EGXEdc/kOn9pnIT2D+9jvFmq8TXP7y/5EDfm9c/lbAI7Wmvwz+NE/ievGXgP32AW0FvOOc/Xy+yBeyb6z8fmK33cknCP443vxnP9t8/QgDi/9Qi2z9q/gl1uy3gP7gCbbP0E+A/qWJzMndl1D8XOBgwZ2rlPz4pcq6RN9k/IgD10rjSzD8uNj0kzi3uP6qsG4mQyOE/tOq6E2qf2T9MPyodIXnQPyw63z7ccNc/JoCD12CQ0z8eTNrRLyndP/02B6vGO9w/A4TYrlNE2T+VZG62C57pP8u19AV9t9c/0lSpckM/6z90FNplMvLjP7QTNRn6Eu0/vDRfyDsU5z+K6P7cfB3VP7JmuuHbgOI/hjnl/9Pc1j80YcGAofznPyXW7LUGLt8/Fk+y5zGP0z8hWDqiKIzpP9dLIzONC+Q/fyZSEhJp5z+/cHdQAiTTP+955M2gPNM/oj8rhja55z8pFyym1DfjP1I+6+E5T9M/qIGKKInC5j8MaVHxvpDZP0CDue3v0dg/kfPmg7F+zz9Ye1MQVrPhP3kOjfXPD9c/rat47NQg5j/XNVNFEYfjPzPWac8AINc/qYDytk746D+F31sbNI/TP9MkXO/JrdY/3sG3ouM02z8iHW/YC+DbP1iu+NoiUts/Z3Y3I3Q45D9NkevUwsjQP6238M59ktA/46He8R+N4T9BPdzuYOnuPyCUJUcwx+M/Pc828qsb1z+IOxPYOoLjP/dheF6rv+w/qr+z9w7d5j+dEryh2mfQP+NrwCcleNs/dBwT1azSyT+GHs48PhXoP0mrjOC2Uuk/cl3tq8ma7z9GdH40q7zkP3FDspn9U+Q/9MWDU1Qh6D9MkglMc13uP+KywDIJgO0/dxtCwMIX8j+1T8n1BhzyP1HyDwDkFfE/OS9sgu9xyj82D9P/ar3TP3YAA4jkAtE/dCmeiK4N1z8nmfbxI0viPxSLK+qDfdw/hI3SnbSe3T9xBhqL0/fYP97VynyWIuU/HCldItVJ2z/g3dFt4mvWP+CGube/Q+E/jCNSvTke5T/+LKAfeo/jPwpJMhRYruo/kk6T4Fgm5D9GIUuTRMzcPy55NfkFoMM/DTwiG6Vg1j8px8v0hjrUP6ip0q4bBuE/Csve5vpD4D+rlRMbdxblP3UuutZjB9U/BdZqJ+uf1z8Lov3dbzDWP599IjzAS+k/UW305wGi3D+/pR5hKo7lPyOZFbFEt+U/QnhMNda42D8qobEgZGTlP16JoJvs5OM/RL5FtM2J2T820kkkJFnSPyZJWaQVy+k/AjEOpYm15T9rjjaGEn/PP8dItj2KiuE/z6t8O7574D9853BQs/vRPzSLhICYT9A/P8VL9BGW0j9QK+RQ7M3iPzx3uG3g4Oo/EyWN3Ikj4D9HD3JLBa7mP9vOzxglUe4/YUtNloQT4z95YRCbOhbmP4qZB31NteI/gq+85WUrxz9+Qonv9ZzfP3uJFhNvguE/fcHBKilW5j+LG6VSfk/lPwPBI1MTCM0/wytteTbWxT9ZL3+YVivWP1QTPlct7uQ/garMUW272T//vi8Vd27yP+MpiNc0htE/o5ppDVS64D9Rk2G8znHjP1X17xp4pdM/DeFkYTzwyD/U/gikuzbnPyaF+qix/uE/wV17hHhL4T+if2gUvAndPyoTQZVYZss/OpD6VeHS8D8Xb4S5CFzyP+4jgMDivNI/sT70WqvT1D8hELv1c/TSPyhVyK0Q0+Q/KunmhFmM1D+Sw66IO67QPxDVtKuIB9E/+13vKvad5T/7evXhGI3lPwyKds4dQeA/uGrp/iOM4j/HVr631zvVPxQxOPP33dw/bp2UiGPQ1T+oh26TF6fgPzyt4krdeNo/QKKs4Q0G5T/zUEVgGlXjP+ZcLSFbwOM/PtuoSXn24D/FJcsl1QHYP9tyIixGm9g/qrtCitN03j+NyCxj553JP1Ch5VTaZu8/NdwwHKxl1T+7fTLENdLSP+uUrM26z9U/tCwxK2Dk3z+IiYyxrJ7eP6AN3DbdIOM/w7PckI8d4T/MZnZyL8XmP0rftRVR7dA/XVJ8ngxc5z9aFcouRtHNP8zdXUs5qec/bB5wMMp24D9zU1NQ7tvYP5OCOB6NPN8/2W/VcaYX5T+tsh/GL7XUP7roGJf85eI/P88UDGUp3j/6uyWk7CPkP9HI4RWt1NA//dwDnkeR5j/hoJUOTvXmP+t+11+nW94/AC0mTQ5N4j9KtFosJSLJP/yln6rmve0/BDy3CvB7xz8O+ksW7rHlP3XizsnCOeU/kqSjvmM/0T8QakEtIvHhPzTAAQn14OE/rd9nmzhg0z+s/LOsLUXiP7FhmVlZdsw/DPhoQd/h4T+Ys5x9IAfjP/zcnVqaxsw/0vrnRD3r3T/m+hFy7rDdP3+5VObOA+E/DCk+5yev4j+xSpf7BCLZP44TSdhJKPE/X1U/mx/UwT80r6woj/HuP05KO0q8G9w/hj9pZpYO4D+9rY4Qdv7iP1JbUOFaluY/A0NanwCr0j/Sl9JeWFvYPysvq2hq0uQ/ONmzS3IZzj9aSMh1/9jnP+9wb6/Ky+I/pEpV4Cv84T8TWrnMAoHUP4gqLbI++tk/xnx7S5tc3D+vNIIRaEHUPwn9vMvBMec/kdaD5/rsyj8oK/lUdHjgP29BQE2QWeQ/ozuyvH1l5z8enVgWW+zcPyPurG7iu+Q/yB0zp9HU5T8eq+tryTjqP8nq+J1KIOY/S33EXqQU0D8lEARg2cHiP1TP6nVTQNc/tCed/sIy5j/TdwW4L+HZP5MB6vA02uU/zbOR2KQW8D9t5VVof3biPx7ZdvOPkuQ/KI46DhYO6D+mSwF2uV/jP4azG8W2Te8/OhatqKQV3z+pkPgVD7PeP7/EywijldQ/8b8fknGZ4j/7zY/kJE7KP9eMeISljdw/NppvFTC45z/HoLehfsXVP9ipMPFds9M/r1PguEK04z8iddpn9LXiP6dsOTWsO/E/LNKDmZ5O1j98K/HVwbLgP85K230ijNA/ZKXOebKQzz83gwBncBvgP5xPufETasQ/Kef2wysB3T+gZ0MacibQPzeG1TH6KNU/fHJ9B8rg1T8QtGWDGJ3bPw+nkUCjE8c/EoBdPGXwxT+8C+FOZpLeP8wM/GWgNNI/0y/+i4OF4j8FHvMe9P/hP3hLi7NkmsY/KpNDp9LE1z+ARGHNZQTQPwf53e6Wd80/hnu43XjP2D/TteOrnEXWP38X2Hmdb9o/b6CGqjMb3T/lxXAlA+raP/dUmjCPud8/gm0NSDOh6D/hxYkC8hXXP77DHSf+h+M/OkQa10w7qz+A5TYfYRnVP10DDfNKM98/yjMPPT652j/tWNxC1mLPP8ER1TUj9+Q/XkN/zBIe3z+v50Iv81vTP4sCpiUsW+U/vvcJA+uotT9wdhATXuDTPxNFtjRU78Y/8AiANccD4D+zC+Veu3bjPw3byLCDwOQ/7PVL4JFc7j+gsA0YwLnrP2Vzf5R0muM/OeS3igTP2z/sYI876lzfP0MUkxNwk98/k9GwR8/c3D/wgeEoKzbjP0eaupEJleQ/iPIKfaJlyD/DkjJxRHrgP+YrAKtZ5OM/HGZnoQKYxT+VQakZJJK+P/8HPhKRyds/25o09c4u4j8/mGoxB07wP/5r6y/GSuY/SAnExdvB6D+19wyiaerDPxHd33S9atQ/FChmbmm85z+vIfiCbxDWP1TV5382DeU/ypxDA0wn3j9Uoh6wmgLYP8ix7GySLOE/kmjaYyV+5z+MEIZTkZHQP1VvRVgJ0cs//CdFjgfE6D9oymDFR6HsPwzsiU6mBtU/hfbhkJgYyj8HBokmgLjjPwkl1N5oK98/sJjScOWZ1D+vqnGFUXfkP1rkx5+wuuM/XqmSWi/J3T/ukY+3X5rlP6nglMQQmtI/A5OSG1W+5T9L0nAJx2LpPzCBV9pwrt8/zCE7aB0l4z8pzU1Agz3XP5fDWyRfT+8/p8qelWHv2T8aWSne/BrdP2wwws4iXOE//IVToiZ85j9hUTDer6rXP/phuY0X0uQ/SxebbaYmzj/qKvkcVyzjPwEGj1qQDOE//hQanS5/zD9Nrgc4ZHHnPw==",
          "dtype": "f8"
         },
         "xaxis": "x",
         "y": {
          "bdata": "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",
          "dtype": "f8"
         },
         "yaxis": "y"
        },
        {
         "hovertemplate": "<b>OLS trendline</b><br>total_yearly_costs_eur = 0.0064614 * std_by_mean + 0.336139<br>R<sup>2</sup>=0.000077<br><br>is_over_2500h=True<br>std_by_mean=%{x}<br>total_yearly_costs_eur=%{y} <b>(trend)</b><extra></extra>",
         "legendgroup": "True",
         "line": {
          "color": "black"
         },
         "marker": {
          "color": "#636efa",
          "symbol": "circle"
         },
         "mode": "lines",
         "name": "True",
         "showlegend": false,
         "type": "scattergl",
         "x": {
          "bdata": "zjm6pqhHjj9iAkV0SEqkP6OEWrgCwaY/OkQa10w7qz/8qcthVZ2wP1yJ0h617bA/evM3xF2XsT++9wkD66i1P6HktcklUbY/zbLG0G9duD/RzXzCAJi6P85bQxsWLL4/lUGpGSSSvj8ReTZC7uK/PyKWWs4DjsA/YZe/GNjPwT9fVT+bH9TBPx+YrfdyScI/w57gJLtGwz8ueTX5BaDDP5WwCO1pr8M/tfcMomnqwz9fYHieLP/DPxzIjJs+EcQ/nE+58RNqxD8aS6KXJNTEP1MDR2U54MQ/v0jfDhRBxT9jEJbfaXvFPxxmZ6ECmMU/GGl/ACnDxT/DK215NtbFP4iMwnTP18U/rwyhR2PvxT8SgF08ZfDFPyuY67DLEcY/sLjRqIFLxj+akaZp7mTGP3hLi7NkmsY/E0W2NFTvxj8zH4RwhPnGP19JHS1x/cY/D6eRQKMTxz8AgDo8iCHHP43/mLgZKsc/gq+85WUrxz9LYpRJNzzHPxDiwTESVMc/BDy3CvB7xz8THNLC24nHP9sAOvMJosc/YfQMj+exxz83TDXsFhDIP9T3kA1ZEcg/M31nWc42yD+I8gp9omXIP8rOb/gwd8g/DeFkYTzwyD9MgSi5jAnJP34aPfO7Dck/JDeI5F8YyT/3uF5q7h/JP0q0WiwlIsk/tZPxSB11yT/u16zFQpHJP5JfObfEmck/jcgsY+edyT8DGh5hbKjJP+GcErgy0sk/dBwT1azSyT+NrEn10erJP5rohcBU7sk/oY63sOPyyT/0Hog4W/vJP4X24ZCYGMo/+82P5CROyj9uQMGjbmjKPzkvbILvcco/6YJNf6Osyj9ae8Ox/d/KP4f6yIAM7Mo/kdaD5/rsyj/Qeq5OUe7KP52MV9DJBss/KhNBlVhmyz9Vb0VYCdHLPyorOuhI78s/yXw6NlcGzD/RxkHuyA7MP5q9uTcDVMw/sWGZWVl2zD/+FBqdLn/MP3uMaG4ou8w//NydWprGzD8iAPXSuNLMP/G2cuk118w/B3ZzvG7kzD8DwSNTEwjNP+tJCIv3Ks0/Km56In8wzT8HxBvCMmnNPwf53e6Wd80/dyYPUbSNzT+4Q2bTlLHNP1oVyi5G0c0/MocB6BngzT+K7ndoqfLNPzjZs0tyGc4/wRr2HcAczj9LF5ttpibOP0t05jWXKM4/k0FZp+cvzj8r4oYOvzfOPw2EbrskQc4/WvwcILkxzz/tWNxC1mLPP5Hz5oOxfs8/a442hhJ/zz9kpc55spDPP7TySTZBk88/v1Jo78ykzz8OD8ci1ubPP2rrnakQANA/gERhzWUE0D9LfcRepBTQP3ztabVsJdA/oGdDGnIm0D80i4SAmE/QP50SvKHaZ9A/smQb55Rv0D9MPyodIXnQPy1huammiNA/zkrbfSKM0D+MEIZTkZHQP6238M59ktA/ksOuiDuu0D9DCG5yqcbQP02R69TCyNA/0cjhFa3U0D/CRhL7bNbQP0rftRVR7dA/ZkE1PN7t0D92AAOI5ALRPy9ig8SnBtE/ENW0q4gH0T8CXuzdpBPRP2brmfmzMdE/i4YD9x460T+SpKO+Yz/RP4Bvd1mcRNE/UHAwACpi0T/wA7lFiGbRPzqXDOQyb9E/EGVSEaZx0T/jKYjXNIbRPyySLI+VkdE/EN+Ynsiw0T8IVixU5LbRP0ElUSBIvtE/MymoEi3A0T+H4p64vsPRPyjjHH4U29E/uRwmxF3v0T9R6fXxvPPRP3zncFCz+9E/SHqwkh380T/17A1tfRPSP+QCjz6RE9I/6f/hlhQt0j/MDPxloDTSPyYnJvdcONI/CqW1UA9E0j/k0ByxAkjSP3idewiuStI/B2snuAFM0j820kkkJFnSPxnZqYmSWdI/KfWBW6Zp0j9ezjwHdXXSP2LExvj0eNI/X1URIsF80j8/xUv0EZbSP6nglMQQmtI/zud76x2k0j8DQ1qfAKvSP6xOq4BbudI/GSoRvvS50j818feiALrSP+4jgMDivNI/304XlP680j+dCZ3KscTSP7t9MsQ10tI/PI10Wi/T0j+sXepSqNPSP5Ur/G3y3NI/D6pkvYXl0j8hELv1c/TSP5oaSrH4DtM/v3B3UAIk0z8z1VbM+C/TP9/73KJvMNM/U1z1KuM60z/veeTNoDzTP1I+6+E5T9M/CRQh+29U0z+v50Iv81vTP63fZ5s4YNM/3Z2OfLmC0z8WT7LnMY/TP4XfWxs0j9M/JoCD12CQ0z8iBzHYupHTP4gUQ0lcmtM/VfXvGnil0z/j6vl3J6nTPxTZBpJardM/2Kkw8V2z0z9kzKPhVrbTP6tQo4IPudM/Ng/T/2q90z8U5KywDMzTPyA5XwdC19M/7nn/ku/f0z9wdhATXuDTP38UQ3kM4tM/42ZhaQ7j0z+eS7nKoAbUP+x+Z629B9Q/zNUbMPAS1D/lcids2hPUP5noxyYtHdQ/KcfL9IY61D+vNIIRaEHUP5j8pJdCRtQ/k1+WJ8hN1D+pYnMyd2XUPxHd33S9atQ/lnbR63xv1D+PhaXu6XnUP/FOy8iZf9Q/KaI1c+5/1D8TWrnMAoHUPyrp5oRZjNQ/6BRS8gSP1D+/xMsIo5XUP7CY0nDlmdQ/PxUWHSOh1D8yI2ZjeqjUPxypLWXrqNQ/MV8LkMms1D+tsh/GL7XUP2J0Cno/t9Q/sDc5SVu81D99YtlnIr3UP0l99KtKvtQ/LqBZWEzB1D+xPvRaq9PUPyk+vu7Y1dQ/VqDYMFna1D/DMLUCz+zUPwzsiU6mBtU/dS661mMH1T8S6wBJzhbVP4DlNh9hGdU/iuj+3Hwd1T+fFoY43SHVPzeG1TH6KNU/ei+kdw031T/HVr631zvVP8h+XtsAPtU/ncbgEGxM1T+h34HsvlfVP8wGwy0yZdU/NdwwHKxl1T8EqZ5b0HjVP3Xi2ZlWf9U/sLumowya1T+zPYsDGrDVP+psg5lattU/e2o29uHE1T/HoLehfsXVP+uUrM26z9U/bp2UiGPQ1T87Q5gXn9fVP3xyfQfK4NU/ftxM2/7q1T9Fefg9juvVP5z1bmPh9dU/A26G6pD61T+vIfiCbxDWP/3RmHYrFNY/0utLIOUe1j/KgtRLYyLWP1kvf5hWK9Y/C6L93W8w1j8Mxf+t0zPWP9UB5FmgOtY/07Xjq5xF1j8s0oOZnk7WP95ZPx+MUNY/DTwiG6Vg1j+LWP57J2XWP+Dd0W3ia9Y/RdZPP06D1j8R9gHb9YnWPxzE/WWok9Y/yapXfBKV1j/TJFzvya3WPz1TQufirtY/7faOKtGv1j+GOeX/09zWP8gilGpm4tY/GlG4xxHs1j/+Vmxv4PDWP9ltneGcCtc/dCmeiK4N1z9nruxrNg/XP3kOjfXPD9c/g77cQZcR1z/hxYkC8hXXPz3PNvKrG9c/M9ZpzwAg1z9FpFuZLDTXPwkGWNFCN9c/Kc1NQIM91z9Uz+p1U0DXPwZueKHOUtc/LDrfPtxw1z8Y2X+MH47XP3d9oo3fjtc/vL/kQN+b1z+4QiKI3p/XPwXWaifrn9c/8uyLhqCl1z+QVm5FV6jXP2FRMN6vqtc/P1TgaQiy1z/LtfQFfbfXP72O8WarxNc/KpNDp9LE1z8b+PzGn8nXPxtP3kcDy9c/OQCg9q/W1z8TJYDH1+HXPwv0KgTY6dc/ZyYbZCzq1z/OYRzeje/XP8UlyyXVAdg/VKIesJoC2D9K0BrXjAnYP5Dp/aZyE9g/y/CY2mI62D87iSgDOj7YP5wW3TT+Qdg/Q54BLGNE2D/Q50ZYsEbYP/OF21ijUtg/0pfSXlhb2D9v61lEtWPYP9s2lLjpdtg/dlWiFNaA2D/xkxQy9IvYP9tyIixGm9g/HCs03CKk2D+J3pdGNbXYP0J4TDXWuNg/U9Lo2ArA2D9LrcTjm8TYPyYyH611zNg/twHOOR/P2D+Ge7jdeM/YP0CDue3v0dg/c1NTUO7b2D+8h1AA39zYP0UNOlA05Ng/snn7LJfq2D8hJcDnZ/DYP1e1Vg/b9dg/cQYai9P32D+QyqG+kvnYP/IAHd74+dg/lqXSizv82D9KLn8GQg/ZPy69+gi+FNk/0wB8ejEf2T+xSpf7BCLZP9/3FRx7Mdk/zciFzU422T8+KXKukTfZP2+AGCwnP9k/pX+ShT9E2T8DhNiuU0TZP0v8AOZwTNk/Iri+PMVN2T8aCxQVnlDZP8zLPET2WNk/jB/5Erdf2T/FLQxGIXPZPwnPhnxBd9k/9UJesj142T8vJBZOp3nZP468ZCmjgdk/RL5FtM2J2T+mLNuqlY3ZPwxpUfG+kNk//g/Q5KWS2T/4KfwwbJ7ZP7TquhNqn9k/lSxjwUeq2T9GE0z3u7bZP4GqzFFtu9k/x6UhjV3F2T/AsmlO58vZP74jPuR82tk/HceT40fb2T+Tzrlj0d3ZP9N3Bbgv4dk/b1ze/y/n2T+nyp6VYe/ZP4gqLbI++tk/IOheCX792T8+LlKmgQPaP4JPdII/E9o/1UtGdxYV2j/0CbV+10baPxY8/0gtWNo/+gBIwR1b2j9+bMrhZWHaPxkhwiylaNo/fxfYeZ1v2j88reJK3XjaP1r/K1Maeto/dkilCQB/2j8u0hajYoLaPynko640oto/XMvGjWqo2j9Chx2hkqraP8ozDz0+udo/jJ26Pi6/2j/WgBCg8uLaP+XFcCUD6to/QgDi/9Qi2z/Wfr2/yy3bP7L+UWVxMNs/3sG3ouM02z/9ALCxrEXbP8a/lAsNSNs/HCldItVJ2z9VnA47dUrbP7JtFo63Tts/WK742iJS2z8WVdvhu1LbPwsPMMStVds/EHlU4Dpb2z+4Y2kDn1/bP4OX7FJvZts/stx9dmBv2z8JXJWfe3XbP+NrwCcleNs/Tf94AA2P2z+wEaciLZbbPxC0ZYMYnds/Z65RQq2y2z8HoDMT0brbP/isjIaPw9s//wc+EpHJ2z9mY7M76MzbPznkt4oEz9s/plCaFMra2z8h2qrME97bPyIdb9gL4Ns/C3uRRU7s2z+zDOQt7fPbP9owDetk9Ns/f1FLBiT12z+DwqW1YALcP/VD0JUCE9w/mUBb4Z0a3D9OSjtKvBvcP/02B6vGO9w/6LSUpHhI3D+/grIKaVHcP8BE4XBbU9w/u7QW/L1Z3D/GfHtLm1zcP2uX9Nx+ZNw/ho10hwdm3D9GO+dpJG3cPy9FQB5ab9w/grjtjS9z3D/aaDzZX3PcPxSLK+qDfdw/FUTgaFmC3D/XjHiEpY3cP+t2/LJDldw/UW305wGi3D9F3PPlWbDcP9nT/4CSv9w/Mq1lhy/D3D9GIUuTRMzcP5qbAnIOzdw/k9GwR8/c3D8UMTjz993cP0zwPYKC49w/VCb3bqLr3D8enVgWW+zcPx9xLaxh7tw/Kef2wysB3T+wXy9GtwjdP6J/aBS8Cd0/ud6LbgkY3T8aWSne/BrdP2+ghqozG90/rhGLZ/sb3T8eTNrRLyndP/XzEYg2L90/4Rc3PR423T82Cjc41EHdP5W7fPMIQ90/r3r1LvVS3T9u33FsSlTdPylgM1EDdd0/Ad5Z8qF+3T9vs6oLh5rdP4SN0p20nt0/LC4cn72l3T/m+hFy7rDdPwR71s+htt0/dDEW+56+3T/x+VMzgMHdP16pklovyd0/bjgR/DzO3T8boyV+ntndP2VtILPM590/0vrnRD3r3T/NRYtd0gXeP581GJ/NEt4/pAsb8xob3j+xNi1YliTeP8qcQwNMJ94/P88UDGUp3j9vcJ1lfTHeP6EdUltaM94/8OjN5Tk43j/MtwHSH0rePxBWBQ+bUd4/MxII/G9W3j/rftdfp1veP7H9exA5XN4/mKi54uVm3j/AOPK/ZmfeP6q7QorTdN4/ZtymdSx13j85hkJPh3reP7wL4U5mkt4/iN1dr++W3j9cOmox25reP4iJjLGsnt4/AxZW+uCo3j8RUzFUhaveP41Pcg/prN4/qZD4FQ+z3j8drbhe/cbeP9fI2hj/yN4/H8Uxg8LW3j+NlyhNatneP5i4mf5r594/nGgxHdDy3j8KVKE6K/TeP0k8rkN7At8/+IcMjDsI3z/NUdWjcgvfPzoWraikFd8/XkN/zBIe3z8olBbE0iHfP58DBS2GJN8/CSXU3mgr3z8l1uy1Bi7fP10DDfNKM98/k4I4Ho083z/sYI876lzfP9EUfKv2fN8/QxSTE3CT3z9+Qonv9ZzfP6x8HN3Yo98/5sp709yl3z8wgVfacK7fP3efCQK3sN8/auOsY+S43z/3VJowj7nfPzzJe82cv98/TatIvSnB3z+SJhJoCMnfP7QsMStg5N8/xIk+ZA3x3z+ON78Zz/bfP3y8U3IaA+A/8AiANccD4D8otUZGewbgP2uQD0r/B+A/pZJd3ZcI4D/TfcRmTwngP4amL+/uCuA/hj9pZpYO4D+4Am2z9BPgPzeDAGdwG+A/6TLWCUkh4D8TJY3ciSPgPxdk5/6iI+A/uZe4KeQk4D/K3m0UjCrgP2r+CXW7LeA/BnkRcGQx4D8MinbOHUHgPwrL3ub6Q+A/lYcHqBtG4D8/ttaLjEngPxnXWBn9VeA/SU2TgTZY4D9QlYUTW2TgPwPEi2CQZOA/jRP4nrxl4D+1JTVfwXDgP2WbGMUfceA/DMMPkGh14D9sHnAwynbgPygr+VR0eOA/l1heEZV54D/odcmdvHngP8OSMnFEeuA//5OKLp574D/Pq3w7vnvgPyxeP+fJe+A/g/Sam/194D+IwwWDqYXgPxopByzbj+A/nx0LlrOR4D9ycSq/aZLgP7Q8uXNFmOA/YMgYUy+Z4D83LrHB45ngP6n6IDImpOA/qIdukxen4D9yraOvGKfgP/w6UFg8rOA/1AdmtsGw4D98K/HVwbLgP5iVMJORt+A/o5ppDVS64D+rApzc58HgP9PJfE2nxOA/XpKXXAvP4D8fHV+lTNzgP8SiNjZI3+A/4esTExr14D8+26hJefbgPwVF4WEr+OA/6HuiGx/54D9/uVTmzgPhP6ip0q4bBuE/FTwLZKAI4T++ZymyGgzhPwEGj1qQDOE/YPlmJHQX4T8WKf5KABvhP5VLIXjQG+E/w7PckI8d4T826uJGKSbhP8ix7GySLOE/uPLwkPI14T8hQ8bMXzjhP/LvXXepOOE/nHkGn+o44T+MLbRqODzhP/20bwEGPeE/qyF2BsVB4T9j88Lj2UHhP+CGube/Q+E/wV17hHhL4T9sMMLOIlzhP97j8N0gZeE/tHFTnCtn4T9yuSpmrGvhP9DuiwNsbOE/ENMjPHJ34T9wpCoQmn/hP41MUTjkgOE/e4kWE2+C4T9fstnKa4bhP6a78dG6h+E/x0i2PYqK4T/jod7xH43hPztw788/k+E/WumedUyb4T96EruyW6HhP42vwaAOpeE/KW5Zjjam4T8Kv7CrxqbhPwauzRSpquE/x1nM8sux4T9Ye1MQVrPhP6EqWHUZtOE/CsvM08e24T8OX9vUkMXhP6qsG4mQyOE/2/KrzhvJ4T/rELGGotLhPzTAAQn14OE/DPhoQd/h4T8pAIIMCuvhPxBqQS0i8eE/JZJ0eCv04T//gndvOPnhPxKdCmZ6+uE/J+8oaPP64T+kSlXgK/zhP6MSsGwp/uE/JoX6qLH+4T8FHvMe9P/hPwX1kge/BOI/wk0rCBwS4j8eU+Ag6iDiP9gAnqQoJeI/PpsZGzgm4j+rEfGiFSziP9uaNPXOLuI/5GboSYYx4j+TX0yf1DLiP6z8s6wtReI/A+3sxlZK4j8nmfbxI0viPwAtJk0OTeI/9MxBmQtS4j85clbt9FXiP0HTLQZVWeI/rErPNOJZ4j8Tspqez1/iP90wz6B3ZeI/beVVaH924j9odFPXsXfiP7JmuuHbgOI/IAiKQhWE4j/TL/6Lg4XiP0uGMISfheI/dGDYxgWK4j/vjsiVdoviPyHeLeX6i+I/uGrp/iOM4j8aprUOq5DiP/G/H5JxmeI/7Tj5H/Sk4j8SqvjCBaziPwwpPucnr+I/ipkHfU214j8iddpn9LXiP+vaORuxt+I/uZB/3UK64j+/gtP8DsDiPyUQBGDZweI/UJpHAOLC4j+NkYYEacPiP+9wb6/Ky+I/vAlx0N7L4j9QK+RQ7M3iP3F4HijVz+I/B1ox5K3S4j9Qd2BbedPiP9L+ST/m4OI/uugYl/zl4j8MupmX6OriP1wTno6Q7OI/RhtIqCnw4j84hAj8QfXiP/qUBDYv9+I/va2OEHb+4j+dX8/4tgDjP9o6BEyDAeM/3fpktXEC4z/cXsIxkwXjP5iznH0gB+M/YUtNloQT4z+gDdw23SDjP8whO2gdJeM/iCABgPYm4z/qKvkcVyzjP8du1uMGL+M/BCSyUCMx4z/wgeEoKzbjPykXLKbUN+M/QtlQJCQ54z/Qf1swlD3jP/NQRWAaVeM/jOgUukNb4z8a3QVUc1vjP6ZLAXa5X+M/9nSNPL1g4z/9td5Et2HjP1OE/pMHY+M/UZNhvM5x4z+KWg2x73TjP7ML5V67duM/JCBZs5J/4z+IOxPYOoLjP9c1U0URh+M/vsMdJ/6H4z/+LKAfeo/jP2Vzf5R0muM/6NhCsU+b4z+ski1caKfjP/VSmOyhp+M/97XgiBOr4z9Ql35jurPjP69T4LhCtOM/QGtoTxG44z/+Y2uzY7jjPwcGiSaAuOM/WuTHn7C64z/mXC0hW8DjPyCUJUcwx+M/9kvI4ULT4z99abGru+PjP+YrAKtZ5OM/Xomgm+zk4z8PK+Xtke7jPzd9tCuc8OM/dBTaZTLy4z8Zh4OnyfTjP9VmXKC+COQ/t549n5IK5D/XSyMzjQvkP2y9s3M5EOQ/QGAt85oX5D/6uyWk7CPkP5JOk+BYJuQ/dY0zpNsx5D8T5zf/fTLkP2d2NyN0OOQ/cUOymf1T5D+7hAzNq1TkP29BQE2QWeQ/r6pxhVF35D+aDKG6AoTkP5KReP3fieQ/fEq4X26K5D8bfw6HbozkPx7ZdvOPkuQ/RCj34WOT5D+iltyUjpTkP0eaupEJleQ/sEbhA+Cn5D8fmCkhDK7kPzZ/2Q7qr+Q/+8MXDJ6z5D/LOdRzKbXkPyPurG7iu+Q/RnR+NKu85D9maY1UPr3kPw3byLCDwOQ/eb+U8OLI5D/6YbmNF9LkPysvq2hq0uQ/KFXIrRDT5D9EXof4idnkP95hxZ5X5OQ/VBM+Vy3u5D/BEdU1I/fkP53v1qbN++Q/bYMGhJr85D8U/MgbKwPlP5QkIFIrBeU/QKKs4Q0G5T9U1ed/Ng3lP6uVExt3FuU/2W/VcaYX5T+a4h9xeBzlP4wjUr05HuU/3tXKfJYi5T/OUmtfgSvlP5PBSuIkNeU/ii7sZc425T/G5F1efDflP3XizsnCOeU/ZHWpaOk55T+LG6VSfk/lPxKqQrrHUOU/p08GMntW5T/ek4ddIlrlP4sCpiUsW+U/m5GtymFb5T8KMr5ik1zlPyqhsSBkZOU/FzgYMGdq5T9sGKz7K3LlPw++Y9BDcuU/t7YSSgh05T9/17kzX4TlP/t69eEYjeU/v6UeYSqO5T+Tspwm2ZXlP/5fG5uul+U/7pGPt1+a5T/7Xe8q9p3lP3iloiMUn+U/SULT1Vif5T84PIluuqLlP7UttdR8quU/DvpLFu6x5T+Azx/vwrTlPwIxDqWJteU/oZV03qK25T8jmRWxRLflPwOTkhtVvuU/2j2Wu1i+5T8FsLrbHsHlPyziqL5tzOU/fORS5fTM5T+LxQj22NLlP8gdM6fR1OU/kwHq8DTa5T87PALlKt3lP2bn18cu5OU/ZmyhiZP25T9X8BQ/LRHmP48GIWesE+Y/eWEQmzoW5j+0cotQRBbmP8nq+J1KIOY/rat47NQg5j+0J53+wjLmP/5r6y/GSuY/SAkQNCdO5j99wcEqKVbmPyUocyHpWuY/ZI/pBkxd5j+8PtNpKl/mP1dat9X/ZOY/R3lKIOdm5j9lyGTfF2vmP07BApJdc+Y/CtD1z2dz5j98phDDP3bmP2xsNsxMd+Y//IVToiZ85j8nJLEdDYDmP/3cA55HkeY/UltQ4VqW5j+49tEcBpfmP+OK/3vVouY/vt59HLSk5j8D0CpimKnmP2g9SYgBrOY/Rw9ySwWu5j/I6ONxp7TmP3K9P0m+u+Y/bc8fzw2/5j+ogYooicLmP8xmdnIvxeY/YAO9UjPM5j+qv7P3Dt3mP+GglQ5O9eY/9aI/7Tz65j93ykrelv/mP+JS3SYUD+c/gmD0ESQR5z+8NF/IOxTnP8otfsAtG+c/8SIO/OUb5z+mw2MeEjHnPwrUZs55Mec/Cf28y8Ex5z/U/gikuzbnP32AW0FvOOc/mwXIfXFS5z/kSBW1u1XnP/YPB8RpWec/XVJ8ngxc5z/9hH9z913nP0FAVA9yXuc/oNZ3S7dg5z9uU9GPr2TnP6M7srx9Zec/fyZSEhJp5z9Jqwz21G7nP03Xq82Vb+c/Ta4HOGRx5z9Z17VQHXjnPyHgjqImfOc/kmjaYyV+5z9PzEK56oznPy2iszoxjuc/8TwGwDGO5z8UcHG1dpHnP9YzTo8Hlec/D1O8SSeb5z96msbL4p7nPzbYt0yvoOc/zN1dSzmp5z824QXbyLbnPzaabxUwuOc/oj8rhja55z8UKGZuabznP8HlmEeNvOc/NKkjZaPC5z9yHyNG1sbnP5u9V3O2zec/e9o2D37V5z9aSMh1/9jnP1SU30Gu2uc/jpDLRHfg5z9tVtYkFO/nP2FWyOyG8Oc/ff2FH67y5z/l92xZ+PPnP7ucUHsX9Oc/NGHBgKH85z/oUX466wfoP3RTztlgCug/KI46DhYO6D+GHs48PhXoP/TFg1NUIeg/elM3HOU96D8YQytGzmjoP5Dd7KahiOg/yHdLaMGI6D/hE7szmY7oPweFQ98Xj+g/ysEt4VmX6D9B4fqTmJvoP4JtDUgzoeg/qJVaF2Or6D/8D4C/kKzoP67xgcguu+g/SAnExdvB6D/8J0WOB8ToP4tJKPtG2+g/qYDytk746D/XNFdN1S/pP599IjzAS+k/SauM4LZS6T/vgR9ZDlTpP0vScAnHYuk/yBSwAa9p6T8CQG4e+GzpP1r051pxbek/7P5e/cxw6T8+S6wAQXXpPyCc8f9/g+k/IVg6oiiM6T/m66TLVprpP5VkbrYLnuk/cnWRgKCn6T8mSVmkFcvpPxp+AcW7zuk/0usT8xfh6T8JZnSziOjpPxyWUi3A6+k/BAu+GCUT6j9ygRXJvS3qPx6r62vJOOo/svORM19F6j9UIQcw9GTqP1DI5xiDduo/6M4oUDye6j8KSTIUWK7qP4A6FGQayOo/mT8oE2Da6j88d7ht4ODqP/ADPPtz++o/CBFR8lUc6z/SVKlyQz/rPwd6PMLAROs/o1BxLY9Y6z9xqQEetHjrP18vsgXsm+s/oLANGMC56z+l20Moje/rP/3qiKFB/Os/9+BfUe0X7D96MpmdoyDsP4oM2oKLIew/1PyKEwM/7D8LDDNiLEDsP+T/2vTXQuw/5gfDXWNZ7D9PBjxprl7sP790IhNfbew/aMpgxUeh7D/3YXheq7/sP6n9UovB0+w/TfkWDePU7D+u2TWQwuLsPwGeAuryAu0/tBM1GfoS7T9Cb2XXVyjtP7JE05z3MO0/zcel9l087T9XYiPthlHtPyLfIYCDfe0/4rLAMgmA7T/G5oyxCojtP7qU+DyKk+0/3D+VilSU7T83Kkcs87vtP/yln6rmve0/KUd99WUS7j9vk0wXlR3uPy42PSTOLe4/GRe86lo87j/bzs8YJVHuP6w4zdm/W+4/7PVL4JFc7j9MkglMc13uPzi31CWUXu4/NI6rsmeK7j8pZqsXTqHuP0E93O5g6e4/NK+sKI/x7j8LCbxo2wvvP4azG8W2Te8/l8NbJF9P7z9QoeVU2mbvP0h5/pU+bu8/hZk87Cd57z9yXe2ryZrvPySc+oR6rO8/YT+jlVUV8D/Ns5HYpBbwPx5bJQb9NPA/c7YG4+M48D8/mGoxB07wP+VTkXM4XvA/CGmyHlJo8D86kPpV4dLwP1HyDwDkFfE/jhNJ2Eko8T+PgmiudyjxP6dsOTWsO/E/6D8hcHxu8T/xwhQfaZ3xPyTBp0W5xPE/dxtCwMIX8j+1T8n1BhzyPxdvhLkIXPI//74vFXdu8j8NpwBDD3byPw==",
          "dtype": "f8"
         },
         "xaxis": "x",
         "y": {
          "bdata": "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",
          "dtype": "f8"
         },
         "yaxis": "y"
        }
       ],
       "layout": {
        "legend": {
         "title": {
          "text": "is_over_2500h"
         },
         "tracegroupgap": 0
        },
        "showlegend": false,
        "template": {
         "data": {
          "bar": [
           {
            "error_x": {
             "color": "#2a3f5f"
            },
            "error_y": {
             "color": "#2a3f5f"
            },
            "marker": {
             "line": {
              "color": "#E5ECF6",
              "width": 0.5
             },
             "pattern": {
              "fillmode": "overlay",
              "size": 10,
              "solidity": 0.2
             }
            },
            "type": "bar"
           }
          ],
          "barpolar": [
           {
            "marker": {
             "line": {
              "color": "#E5ECF6",
              "width": 0.5
             },
             "pattern": {
              "fillmode": "overlay",
              "size": 10,
              "solidity": 0.2
             }
            },
            "type": "barpolar"
           }
          ],
          "carpet": [
           {
            "aaxis": {
             "endlinecolor": "#2a3f5f",
             "gridcolor": "white",
             "linecolor": "white",
             "minorgridcolor": "white",
             "startlinecolor": "#2a3f5f"
            },
            "baxis": {
             "endlinecolor": "#2a3f5f",
             "gridcolor": "white",
             "linecolor": "white",
             "minorgridcolor": "white",
             "startlinecolor": "#2a3f5f"
            },
            "type": "carpet"
           }
          ],
          "choropleth": [
           {
            "colorbar": {
             "outlinewidth": 0,
             "ticks": ""
            },
            "type": "choropleth"
           }
          ],
          "contour": [
           {
            "colorbar": {
             "outlinewidth": 0,
             "ticks": ""
            },
            "colorscale": [
             [
              0,
              "#0d0887"
             ],
             [
              0.1111111111111111,
              "#46039f"
             ],
             [
              0.2222222222222222,
              "#7201a8"
             ],
             [
              0.3333333333333333,
              "#9c179e"
             ],
             [
              0.4444444444444444,
              "#bd3786"
             ],
             [
              0.5555555555555556,
              "#d8576b"
             ],
             [
              0.6666666666666666,
              "#ed7953"
             ],
             [
              0.7777777777777778,
              "#fb9f3a"
             ],
             [
              0.8888888888888888,
              "#fdca26"
             ],
             [
              1,
              "#f0f921"
             ]
            ],
            "type": "contour"
           }
          ],
          "contourcarpet": [
           {
            "colorbar": {
             "outlinewidth": 0,
             "ticks": ""
            },
            "type": "contourcarpet"
           }
          ],
          "heatmap": [
           {
            "colorbar": {
             "outlinewidth": 0,
             "ticks": ""
            },
            "colorscale": [
             [
              0,
              "#0d0887"
             ],
             [
              0.1111111111111111,
              "#46039f"
             ],
             [
              0.2222222222222222,
              "#7201a8"
             ],
             [
              0.3333333333333333,
              "#9c179e"
             ],
             [
              0.4444444444444444,
              "#bd3786"
             ],
             [
              0.5555555555555556,
              "#d8576b"
             ],
             [
              0.6666666666666666,
              "#ed7953"
             ],
             [
              0.7777777777777778,
              "#fb9f3a"
             ],
             [
              0.8888888888888888,
              "#fdca26"
             ],
             [
              1,
              "#f0f921"
             ]
            ],
            "type": "heatmap"
           }
          ],
          "histogram": [
           {
            "marker": {
             "pattern": {
              "fillmode": "overlay",
              "size": 10,
              "solidity": 0.2
             }
            },
            "type": "histogram"
           }
          ],
          "histogram2d": [
           {
            "colorbar": {
             "outlinewidth": 0,
             "ticks": ""
            },
            "colorscale": [
             [
              0,
              "#0d0887"
             ],
             [
              0.1111111111111111,
              "#46039f"
             ],
             [
              0.2222222222222222,
              "#7201a8"
             ],
             [
              0.3333333333333333,
              "#9c179e"
             ],
             [
              0.4444444444444444,
              "#bd3786"
             ],
             [
              0.5555555555555556,
              "#d8576b"
             ],
             [
              0.6666666666666666,
              "#ed7953"
             ],
             [
              0.7777777777777778,
              "#fb9f3a"
             ],
             [
              0.8888888888888888,
              "#fdca26"
             ],
             [
              1,
              "#f0f921"
             ]
            ],
            "type": "histogram2d"
           }
          ],
          "histogram2dcontour": [
           {
            "colorbar": {
             "outlinewidth": 0,
             "ticks": ""
            },
            "colorscale": [
             [
              0,
              "#0d0887"
             ],
             [
              0.1111111111111111,
              "#46039f"
             ],
             [
              0.2222222222222222,
              "#7201a8"
             ],
             [
              0.3333333333333333,
              "#9c179e"
             ],
             [
              0.4444444444444444,
              "#bd3786"
             ],
             [
              0.5555555555555556,
              "#d8576b"
             ],
             [
              0.6666666666666666,
              "#ed7953"
             ],
             [
              0.7777777777777778,
              "#fb9f3a"
             ],
             [
              0.8888888888888888,
              "#fdca26"
             ],
             [
              1,
              "#f0f921"
             ]
            ],
            "type": "histogram2dcontour"
           }
          ],
          "mesh3d": [
           {
            "colorbar": {
             "outlinewidth": 0,
             "ticks": ""
            },
            "type": "mesh3d"
           }
          ],
          "parcoords": [
           {
            "line": {
             "colorbar": {
              "outlinewidth": 0,
              "ticks": ""
             }
            },
            "type": "parcoords"
           }
          ],
          "pie": [
           {
            "automargin": true,
            "type": "pie"
           }
          ],
          "scatter": [
           {
            "fillpattern": {
             "fillmode": "overlay",
             "size": 10,
             "solidity": 0.2
            },
            "type": "scatter"
           }
          ],
          "scatter3d": [
           {
            "line": {
             "colorbar": {
              "outlinewidth": 0,
              "ticks": ""
             }
            },
            "marker": {
             "colorbar": {
              "outlinewidth": 0,
              "ticks": ""
             }
            },
            "type": "scatter3d"
           }
          ],
          "scattercarpet": [
           {
            "marker": {
             "colorbar": {
              "outlinewidth": 0,
              "ticks": ""
             }
            },
            "type": "scattercarpet"
           }
          ],
          "scattergeo": [
           {
            "marker": {
             "colorbar": {
              "outlinewidth": 0,
              "ticks": ""
             }
            },
            "type": "scattergeo"
           }
          ],
          "scattergl": [
           {
            "marker": {
             "colorbar": {
              "outlinewidth": 0,
              "ticks": ""
             }
            },
            "type": "scattergl"
           }
          ],
          "scattermap": [
           {
            "marker": {
             "colorbar": {
              "outlinewidth": 0,
              "ticks": ""
             }
            },
            "type": "scattermap"
           }
          ],
          "scattermapbox": [
           {
            "marker": {
             "colorbar": {
              "outlinewidth": 0,
              "ticks": ""
             }
            },
            "type": "scattermapbox"
           }
          ],
          "scatterpolar": [
           {
            "marker": {
             "colorbar": {
              "outlinewidth": 0,
              "ticks": ""
             }
            },
            "type": "scatterpolar"
           }
          ],
          "scatterpolargl": [
           {
            "marker": {
             "colorbar": {
              "outlinewidth": 0,
              "ticks": ""
             }
            },
            "type": "scatterpolargl"
           }
          ],
          "scatterternary": [
           {
            "marker": {
             "colorbar": {
              "outlinewidth": 0,
              "ticks": ""
             }
            },
            "type": "scatterternary"
           }
          ],
          "surface": [
           {
            "colorbar": {
             "outlinewidth": 0,
             "ticks": ""
            },
            "colorscale": [
             [
              0,
              "#0d0887"
             ],
             [
              0.1111111111111111,
              "#46039f"
             ],
             [
              0.2222222222222222,
              "#7201a8"
             ],
             [
              0.3333333333333333,
              "#9c179e"
             ],
             [
              0.4444444444444444,
              "#bd3786"
             ],
             [
              0.5555555555555556,
              "#d8576b"
             ],
             [
              0.6666666666666666,
              "#ed7953"
             ],
             [
              0.7777777777777778,
              "#fb9f3a"
             ],
             [
              0.8888888888888888,
              "#fdca26"
             ],
             [
              1,
              "#f0f921"
             ]
            ],
            "type": "surface"
           }
          ],
          "table": [
           {
            "cells": {
             "fill": {
              "color": "#EBF0F8"
             },
             "line": {
              "color": "white"
             }
            },
            "header": {
             "fill": {
              "color": "#C8D4E3"
             },
             "line": {
              "color": "white"
             }
            },
            "type": "table"
           }
          ]
         },
         "layout": {
          "annotationdefaults": {
           "arrowcolor": "#2a3f5f",
           "arrowhead": 0,
           "arrowwidth": 1
          },
          "autotypenumbers": "strict",
          "coloraxis": {
           "colorbar": {
            "outlinewidth": 0,
            "ticks": ""
           }
          },
          "colorscale": {
           "diverging": [
            [
             0,
             "#8e0152"
            ],
            [
             0.1,
             "#c51b7d"
            ],
            [
             0.2,
             "#de77ae"
            ],
            [
             0.3,
             "#f1b6da"
            ],
            [
             0.4,
             "#fde0ef"
            ],
            [
             0.5,
             "#f7f7f7"
            ],
            [
             0.6,
             "#e6f5d0"
            ],
            [
             0.7,
             "#b8e186"
            ],
            [
             0.8,
             "#7fbc41"
            ],
            [
             0.9,
             "#4d9221"
            ],
            [
             1,
             "#276419"
            ]
           ],
           "sequential": [
            [
             0,
             "#0d0887"
            ],
            [
             0.1111111111111111,
             "#46039f"
            ],
            [
             0.2222222222222222,
             "#7201a8"
            ],
            [
             0.3333333333333333,
             "#9c179e"
            ],
            [
             0.4444444444444444,
             "#bd3786"
            ],
            [
             0.5555555555555556,
             "#d8576b"
            ],
            [
             0.6666666666666666,
             "#ed7953"
            ],
            [
             0.7777777777777778,
             "#fb9f3a"
            ],
            [
             0.8888888888888888,
             "#fdca26"
            ],
            [
             1,
             "#f0f921"
            ]
           ],
           "sequentialminus": [
            [
             0,
             "#0d0887"
            ],
            [
             0.1111111111111111,
             "#46039f"
            ],
            [
             0.2222222222222222,
             "#7201a8"
            ],
            [
             0.3333333333333333,
             "#9c179e"
            ],
            [
             0.4444444444444444,
             "#bd3786"
            ],
            [
             0.5555555555555556,
             "#d8576b"
            ],
            [
             0.6666666666666666,
             "#ed7953"
            ],
            [
             0.7777777777777778,
             "#fb9f3a"
            ],
            [
             0.8888888888888888,
             "#fdca26"
            ],
            [
             1,
             "#f0f921"
            ]
           ]
          },
          "colorway": [
           "#636efa",
           "#EF553B",
           "#00cc96",
           "#ab63fa",
           "#FFA15A",
           "#19d3f3",
           "#FF6692",
           "#B6E880",
           "#FF97FF",
           "#FECB52"
          ],
          "font": {
           "color": "#2a3f5f"
          },
          "geo": {
           "bgcolor": "white",
           "lakecolor": "white",
           "landcolor": "#E5ECF6",
           "showlakes": true,
           "showland": true,
           "subunitcolor": "white"
          },
          "hoverlabel": {
           "align": "left"
          },
          "hovermode": "closest",
          "mapbox": {
           "style": "light"
          },
          "paper_bgcolor": "white",
          "plot_bgcolor": "#E5ECF6",
          "polar": {
           "angularaxis": {
            "gridcolor": "white",
            "linecolor": "white",
            "ticks": ""
           },
           "bgcolor": "#E5ECF6",
           "radialaxis": {
            "gridcolor": "white",
            "linecolor": "white",
            "ticks": ""
           }
          },
          "scene": {
           "xaxis": {
            "backgroundcolor": "#E5ECF6",
            "gridcolor": "white",
            "gridwidth": 2,
            "linecolor": "white",
            "showbackground": true,
            "ticks": "",
            "zerolinecolor": "white"
           },
           "yaxis": {
            "backgroundcolor": "#E5ECF6",
            "gridcolor": "white",
            "gridwidth": 2,
            "linecolor": "white",
            "showbackground": true,
            "ticks": "",
            "zerolinecolor": "white"
           },
           "zaxis": {
            "backgroundcolor": "#E5ECF6",
            "gridcolor": "white",
            "gridwidth": 2,
            "linecolor": "white",
            "showbackground": true,
            "ticks": "",
            "zerolinecolor": "white"
           }
          },
          "shapedefaults": {
           "line": {
            "color": "#2a3f5f"
           }
          },
          "ternary": {
           "aaxis": {
            "gridcolor": "white",
            "linecolor": "white",
            "ticks": ""
           },
           "baxis": {
            "gridcolor": "white",
            "linecolor": "white",
            "ticks": ""
           },
           "bgcolor": "#E5ECF6",
           "caxis": {
            "gridcolor": "white",
            "linecolor": "white",
            "ticks": ""
           }
          },
          "title": {
           "x": 0.05
          },
          "xaxis": {
           "automargin": true,
           "gridcolor": "white",
           "linecolor": "white",
           "ticks": "",
           "title": {
            "standoff": 15
           },
           "zerolinecolor": "white",
           "zerolinewidth": 2
          },
          "yaxis": {
           "automargin": true,
           "gridcolor": "white",
           "linecolor": "white",
           "ticks": "",
           "title": {
            "standoff": 15
           },
           "zerolinecolor": "white",
           "zerolinewidth": 2
          }
         }
        },
        "title": {
         "text": "Grid capacity prices vs relative yearly savings"
        },
        "xaxis": {
         "anchor": "y",
         "domain": [
          0,
          1
         ],
         "title": {
          "text": "Grid capacity costs in eur / kW"
         }
        },
        "yaxis": {
         "anchor": "x",
         "domain": [
          0,
          1
         ],
         "title": {
          "text": "Relative yearly savings in %"
         }
        }
       }
      }
     },
     "metadata": {},
     "output_type": "display_data"
    }
   ],
   "source": [
    "cap_vs_savings_fig_df = rel_diff_with_master.copy()\n",
    "cap_vs_savings_fig_df.loc[cap_vs_savings_fig_df[\"is_over_2500h\"], \"capacity_price_eur\"] = cap_vs_savings_fig_df.loc[cap_vs_savings_fig_df[\"is_over_2500h\"], \"capacity_price_over_2500h_eur_per_kw\"].copy()\n",
    "cap_vs_savings_fig_df.loc[~cap_vs_savings_fig_df[\"is_over_2500h\"], \"capacity_price_eur\"] = cap_vs_savings_fig_df.loc[~cap_vs_savings_fig_df[\"is_over_2500h\"], \"capacity_price_under_2500h_eur_per_kw\"].copy()\n",
    "cap_vs_savings_fig_df[\"total_yearly_costs_eur\"] *= 100\n",
    "cap_vs_savings_fig_df = cap_vs_savings_fig_df[cap_vs_savings_fig_df.index.isin(profiles_using_storage.index)]\n",
    "cap_vs_savings_fig_df = cap_vs_savings_fig_df[cap_vs_savings_fig_df[\"std_by_mean\"] < 2]\n",
    "# cap_vs_savings_fig_df = cap_vs_savings_fig_df[cap_vs_savings_fig_df[\"capacity_price_eur\"] < 200]\n",
    "\n",
    "cap_vs_savings_fig = px.scatter(\n",
    "    data_frame=cap_vs_savings_fig_df,\n",
    "    x=\"std_by_mean\",\n",
    "    y=\"total_yearly_costs_eur\",\n",
    "    title=\"Grid capacity prices vs relative yearly savings\",\n",
    "    color=\"is_over_2500h\",\n",
    "    trendline=\"ols\",\n",
    "    trendline_color_override=\"black\")\n",
    "cap_vs_savings_fig.update_xaxes(title=\"Grid capacity costs in eur / kW\")\n",
    "cap_vs_savings_fig.update_yaxes(title=\"Relative yearly savings in %\")\n",
    "cap_vs_savings_fig.update_layout(showlegend=False)\n",
    "cap_vs_savings_fig.show()"
   ]
  }
 ],
 "metadata": {
  "kernelspec": {
   "display_name": "env",
   "language": "python",
   "name": "python3"
  },
  "language_info": {
   "codemirror_mode": {
    "name": "ipython",
    "version": 3
   },
   "file_extension": ".py",
   "mimetype": "text/x-python",
   "name": "python",
   "nbconvert_exporter": "python",
   "pygments_lexer": "ipython3",
   "version": "3.12.3"
  }
 },
 "nbformat": 4,
 "nbformat_minor": 5
}
