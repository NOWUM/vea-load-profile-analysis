{
 "cells": [
  {
   "cell_type": "code",
   "execution_count": 85,
   "id": "d0b0cf96",
   "metadata": {},
   "outputs": [],
   "source": [
    "import os\n",
    "\n",
    "import pandas as pd\n",
    "import numpy as np\n",
    "import plotly.express as px\n",
    "\n",
    "from scipy.stats import pearsonr"
   ]
  },
  {
   "cell_type": "markdown",
   "id": "266da15c",
   "metadata": {},
   "source": [
    "# Table of Contents\n",
    "\n",
    "1. [Data loading](#data-loading)\n",
    "2. [General analysis](#general-analysis)\n",
    "    - [System sizes](#system-sizes)\n",
    "    - [System investments](#system-investments)\n",
    "3. [Comparison](#comparison)\n",
    "    - [Total savings](#total-savings)\n",
    "    - [Capacity costs savings](#capacity-costs-savings)\n",
    "4. [Correlations](#correlations)\n",
    "    - [On absolute savings](#on-absolute-savings)\n",
    "    - [On relative savings](#on-relative-savings)"
   ]
  },
  {
   "cell_type": "markdown",
   "id": "42b5ba67",
   "metadata": {},
   "source": [
    "# Data loading"
   ]
  },
  {
   "cell_type": "code",
   "execution_count": 86,
   "id": "3e3524a2",
   "metadata": {},
   "outputs": [],
   "source": [
    "URI = os.getenv(\"DB_URI\")"
   ]
  },
  {
   "cell_type": "code",
   "execution_count": 87,
   "id": "0cbf57b0",
   "metadata": {},
   "outputs": [
    {
     "data": {
      "text/html": [
       "<div>\n",
       "<style scoped>\n",
       "    .dataframe tbody tr th:only-of-type {\n",
       "        vertical-align: middle;\n",
       "    }\n",
       "\n",
       "    .dataframe tbody tr th {\n",
       "        vertical-align: top;\n",
       "    }\n",
       "\n",
       "    .dataframe thead th {\n",
       "        text-align: right;\n",
       "    }\n",
       "</style>\n",
       "<table border=\"1\" class=\"dataframe\">\n",
       "  <thead>\n",
       "    <tr style=\"text-align: right;\">\n",
       "      <th></th>\n",
       "      <th>sector_group_id</th>\n",
       "      <th>sector_group</th>\n",
       "      <th>capacity_price_over_2500h_eur_per_kw</th>\n",
       "      <th>energy_price_over_2500h_eur_per_kwh</th>\n",
       "      <th>capacity_price_under_2500h_eur_per_kw</th>\n",
       "      <th>energy_price_under_2500h_eur_per_kwh</th>\n",
       "      <th>zip_code</th>\n",
       "      <th>grid_level</th>\n",
       "      <th>number_of_peak_load</th>\n",
       "      <th>peak_load_kw</th>\n",
       "      <th>mean_load_kw</th>\n",
       "      <th>variance_kw</th>\n",
       "      <th>total_energy_kwh</th>\n",
       "      <th>full_load_hours_h</th>\n",
       "      <th>is_over_2500h</th>\n",
       "      <th>std_kw</th>\n",
       "    </tr>\n",
       "    <tr>\n",
       "      <th>id</th>\n",
       "      <th></th>\n",
       "      <th></th>\n",
       "      <th></th>\n",
       "      <th></th>\n",
       "      <th></th>\n",
       "      <th></th>\n",
       "      <th></th>\n",
       "      <th></th>\n",
       "      <th></th>\n",
       "      <th></th>\n",
       "      <th></th>\n",
       "      <th></th>\n",
       "      <th></th>\n",
       "      <th></th>\n",
       "      <th></th>\n",
       "      <th></th>\n",
       "    </tr>\n",
       "  </thead>\n",
       "  <tbody>\n",
       "    <tr>\n",
       "      <th>0</th>\n",
       "      <td>B</td>\n",
       "      <td>Mining and quarrying</td>\n",
       "      <td>94.60</td>\n",
       "      <td>0.0060</td>\n",
       "      <td>14.67</td>\n",
       "      <td>0.0379</td>\n",
       "      <td>85</td>\n",
       "      <td>MS</td>\n",
       "      <td>1</td>\n",
       "      <td>2227.36</td>\n",
       "      <td>646.151302</td>\n",
       "      <td>423413.418622</td>\n",
       "      <td>5675793.04</td>\n",
       "      <td>2548.215394</td>\n",
       "      <td>True</td>\n",
       "      <td>650.702250</td>\n",
       "    </tr>\n",
       "    <tr>\n",
       "      <th>1</th>\n",
       "      <td>B</td>\n",
       "      <td>Mining and quarrying</td>\n",
       "      <td>96.11</td>\n",
       "      <td>0.0052</td>\n",
       "      <td>9.92</td>\n",
       "      <td>0.0397</td>\n",
       "      <td>91</td>\n",
       "      <td>MS</td>\n",
       "      <td>1</td>\n",
       "      <td>1096.00</td>\n",
       "      <td>208.694900</td>\n",
       "      <td>109792.561757</td>\n",
       "      <td>1833176.00</td>\n",
       "      <td>1672.605839</td>\n",
       "      <td>False</td>\n",
       "      <td>331.349607</td>\n",
       "    </tr>\n",
       "    <tr>\n",
       "      <th>2</th>\n",
       "      <td>B</td>\n",
       "      <td>Mining and quarrying</td>\n",
       "      <td>96.11</td>\n",
       "      <td>0.0052</td>\n",
       "      <td>9.92</td>\n",
       "      <td>0.0397</td>\n",
       "      <td>92</td>\n",
       "      <td>MS</td>\n",
       "      <td>1</td>\n",
       "      <td>816.00</td>\n",
       "      <td>129.444604</td>\n",
       "      <td>36662.220510</td>\n",
       "      <td>1137041.40</td>\n",
       "      <td>1393.433088</td>\n",
       "      <td>False</td>\n",
       "      <td>191.473812</td>\n",
       "    </tr>\n",
       "    <tr>\n",
       "      <th>3</th>\n",
       "      <td>B</td>\n",
       "      <td>Mining and quarrying</td>\n",
       "      <td>96.11</td>\n",
       "      <td>0.0052</td>\n",
       "      <td>9.92</td>\n",
       "      <td>0.0397</td>\n",
       "      <td>85</td>\n",
       "      <td>MS</td>\n",
       "      <td>1</td>\n",
       "      <td>701.60</td>\n",
       "      <td>114.201389</td>\n",
       "      <td>19954.089684</td>\n",
       "      <td>1003145.00</td>\n",
       "      <td>1429.796180</td>\n",
       "      <td>False</td>\n",
       "      <td>141.258946</td>\n",
       "    </tr>\n",
       "    <tr>\n",
       "      <th>4</th>\n",
       "      <td>C</td>\n",
       "      <td>Manufacturing industry</td>\n",
       "      <td>101.04</td>\n",
       "      <td>0.0078</td>\n",
       "      <td>12.60</td>\n",
       "      <td>0.0432</td>\n",
       "      <td>30</td>\n",
       "      <td>MS</td>\n",
       "      <td>2</td>\n",
       "      <td>3480.00</td>\n",
       "      <td>1845.483607</td>\n",
       "      <td>610080.465591</td>\n",
       "      <td>16210728.00</td>\n",
       "      <td>4658.255172</td>\n",
       "      <td>True</td>\n",
       "      <td>781.076479</td>\n",
       "    </tr>\n",
       "  </tbody>\n",
       "</table>\n",
       "</div>"
      ],
      "text/plain": [
       "   sector_group_id            sector_group  \\\n",
       "id                                           \n",
       "0                B    Mining and quarrying   \n",
       "1                B    Mining and quarrying   \n",
       "2                B    Mining and quarrying   \n",
       "3                B    Mining and quarrying   \n",
       "4                C  Manufacturing industry   \n",
       "\n",
       "    capacity_price_over_2500h_eur_per_kw  energy_price_over_2500h_eur_per_kwh  \\\n",
       "id                                                                              \n",
       "0                                  94.60                               0.0060   \n",
       "1                                  96.11                               0.0052   \n",
       "2                                  96.11                               0.0052   \n",
       "3                                  96.11                               0.0052   \n",
       "4                                 101.04                               0.0078   \n",
       "\n",
       "    capacity_price_under_2500h_eur_per_kw  \\\n",
       "id                                          \n",
       "0                                   14.67   \n",
       "1                                    9.92   \n",
       "2                                    9.92   \n",
       "3                                    9.92   \n",
       "4                                   12.60   \n",
       "\n",
       "    energy_price_under_2500h_eur_per_kwh  zip_code grid_level  \\\n",
       "id                                                              \n",
       "0                                 0.0379        85         MS   \n",
       "1                                 0.0397        91         MS   \n",
       "2                                 0.0397        92         MS   \n",
       "3                                 0.0397        85         MS   \n",
       "4                                 0.0432        30         MS   \n",
       "\n",
       "    number_of_peak_load  peak_load_kw  mean_load_kw    variance_kw  \\\n",
       "id                                                                   \n",
       "0                     1       2227.36    646.151302  423413.418622   \n",
       "1                     1       1096.00    208.694900  109792.561757   \n",
       "2                     1        816.00    129.444604   36662.220510   \n",
       "3                     1        701.60    114.201389   19954.089684   \n",
       "4                     2       3480.00   1845.483607  610080.465591   \n",
       "\n",
       "    total_energy_kwh  full_load_hours_h  is_over_2500h      std_kw  \n",
       "id                                                                  \n",
       "0         5675793.04        2548.215394           True  650.702250  \n",
       "1         1833176.00        1672.605839          False  331.349607  \n",
       "2         1137041.40        1393.433088          False  191.473812  \n",
       "3         1003145.00        1429.796180          False  141.258946  \n",
       "4        16210728.00        4658.255172           True  781.076479  "
      ]
     },
     "execution_count": 87,
     "metadata": {},
     "output_type": "execute_result"
    }
   ],
   "source": [
    "master = pd.read_sql(\"SELECT * FROM vea_industrial_load_profiles.master\", URI)\n",
    "master.set_index(\"id\", inplace=True)\n",
    "master.sort_index(inplace=True)\n",
    "\n",
    "# in the authors database, the following columns are already present in master\n",
    "# this will lead to problems later on, so we drop them here\n",
    "# if you have created your own features by the \"create_master_features.py\", you\n",
    "# do not need to worry about it\n",
    "cols_to_drop = [\"energy_costs_eur\", \"capacity_costs_eur\", \"total_costs_eur\"]\n",
    "for col_to_drop in cols_to_drop:\n",
    "    try:\n",
    "        master.drop(columns=col_to_drop, inplace=True)\n",
    "    except KeyError as e:\n",
    "        continue\n",
    "\n",
    "master.head()"
   ]
  },
  {
   "cell_type": "code",
   "execution_count": 88,
   "id": "718be159",
   "metadata": {},
   "outputs": [],
   "source": [
    "profiles_under_2500h = master[master[\"is_over_2500h\"] == False].index"
   ]
  },
  {
   "cell_type": "code",
   "execution_count": 89,
   "id": "f30b4853",
   "metadata": {},
   "outputs": [
    {
     "data": {
      "text/html": [
       "<div>\n",
       "<style scoped>\n",
       "    .dataframe tbody tr th:only-of-type {\n",
       "        vertical-align: middle;\n",
       "    }\n",
       "\n",
       "    .dataframe tbody tr th {\n",
       "        vertical-align: top;\n",
       "    }\n",
       "\n",
       "    .dataframe thead th {\n",
       "        text-align: right;\n",
       "    }\n",
       "</style>\n",
       "<table border=\"1\" class=\"dataframe\">\n",
       "  <thead>\n",
       "    <tr style=\"text-align: right;\">\n",
       "      <th></th>\n",
       "      <th>name</th>\n",
       "      <th>energy_costs_eur</th>\n",
       "      <th>grid_energy_costs_eur</th>\n",
       "      <th>grid_capacity_costs_eur</th>\n",
       "      <th>grid_capacity_kw</th>\n",
       "      <th>storage_invest_eur</th>\n",
       "      <th>storage_annuity_eur</th>\n",
       "      <th>storage_capacity_kwh</th>\n",
       "      <th>inverter_invest_eur</th>\n",
       "      <th>inverter_annuity_eur</th>\n",
       "      <th>inverter_capacity_kw</th>\n",
       "      <th>solar_invest_eur</th>\n",
       "      <th>solar_annuity_eur</th>\n",
       "      <th>solar_capacity_kwp</th>\n",
       "      <th>total_yearly_costs_eur</th>\n",
       "      <th>total_annuity_eur</th>\n",
       "      <th>total_invest_eur</th>\n",
       "    </tr>\n",
       "    <tr>\n",
       "      <th>id</th>\n",
       "      <th></th>\n",
       "      <th></th>\n",
       "      <th></th>\n",
       "      <th></th>\n",
       "      <th></th>\n",
       "      <th></th>\n",
       "      <th></th>\n",
       "      <th></th>\n",
       "      <th></th>\n",
       "      <th></th>\n",
       "      <th></th>\n",
       "      <th></th>\n",
       "      <th></th>\n",
       "      <th></th>\n",
       "      <th></th>\n",
       "      <th></th>\n",
       "      <th></th>\n",
       "    </tr>\n",
       "  </thead>\n",
       "  <tbody>\n",
       "    <tr>\n",
       "      <th>1</th>\n",
       "      <td>1_baseline</td>\n",
       "      <td>329971.68000</td>\n",
       "      <td>12033.847188</td>\n",
       "      <td>132976.873344</td>\n",
       "      <td>1096.00</td>\n",
       "      <td>0.0</td>\n",
       "      <td>0.0</td>\n",
       "      <td>0.0</td>\n",
       "      <td>0.0</td>\n",
       "      <td>0.0</td>\n",
       "      <td>0.0</td>\n",
       "      <td>0.0</td>\n",
       "      <td>0.0</td>\n",
       "      <td>0.0</td>\n",
       "      <td>4.749824e+05</td>\n",
       "      <td>0.0</td>\n",
       "      <td>0.0</td>\n",
       "    </tr>\n",
       "    <tr>\n",
       "      <th>2</th>\n",
       "      <td>2_baseline</td>\n",
       "      <td>204667.45200</td>\n",
       "      <td>7464.085529</td>\n",
       "      <td>99004.679424</td>\n",
       "      <td>816.00</td>\n",
       "      <td>0.0</td>\n",
       "      <td>0.0</td>\n",
       "      <td>0.0</td>\n",
       "      <td>0.0</td>\n",
       "      <td>0.0</td>\n",
       "      <td>0.0</td>\n",
       "      <td>0.0</td>\n",
       "      <td>0.0</td>\n",
       "      <td>0.0</td>\n",
       "      <td>3.111362e+05</td>\n",
       "      <td>0.0</td>\n",
       "      <td>0.0</td>\n",
       "    </tr>\n",
       "    <tr>\n",
       "      <th>3</th>\n",
       "      <td>3_baseline</td>\n",
       "      <td>180566.10000</td>\n",
       "      <td>6585.125290</td>\n",
       "      <td>85124.611622</td>\n",
       "      <td>701.60</td>\n",
       "      <td>0.0</td>\n",
       "      <td>0.0</td>\n",
       "      <td>0.0</td>\n",
       "      <td>0.0</td>\n",
       "      <td>0.0</td>\n",
       "      <td>0.0</td>\n",
       "      <td>0.0</td>\n",
       "      <td>0.0</td>\n",
       "      <td>0.0</td>\n",
       "      <td>2.722758e+05</td>\n",
       "      <td>0.0</td>\n",
       "      <td>0.0</td>\n",
       "    </tr>\n",
       "    <tr>\n",
       "      <th>11</th>\n",
       "      <td>11_baseline</td>\n",
       "      <td>725850.45000</td>\n",
       "      <td>32070.976283</td>\n",
       "      <td>385032.631200</td>\n",
       "      <td>2110.00</td>\n",
       "      <td>0.0</td>\n",
       "      <td>0.0</td>\n",
       "      <td>0.0</td>\n",
       "      <td>0.0</td>\n",
       "      <td>0.0</td>\n",
       "      <td>0.0</td>\n",
       "      <td>0.0</td>\n",
       "      <td>0.0</td>\n",
       "      <td>0.0</td>\n",
       "      <td>1.142954e+06</td>\n",
       "      <td>0.0</td>\n",
       "      <td>0.0</td>\n",
       "    </tr>\n",
       "    <tr>\n",
       "      <th>18</th>\n",
       "      <td>18_baseline</td>\n",
       "      <td>40066.89786</td>\n",
       "      <td>3705.580104</td>\n",
       "      <td>7671.378578</td>\n",
       "      <td>89.26</td>\n",
       "      <td>0.0</td>\n",
       "      <td>0.0</td>\n",
       "      <td>0.0</td>\n",
       "      <td>0.0</td>\n",
       "      <td>0.0</td>\n",
       "      <td>0.0</td>\n",
       "      <td>0.0</td>\n",
       "      <td>0.0</td>\n",
       "      <td>0.0</td>\n",
       "      <td>5.144386e+04</td>\n",
       "      <td>0.0</td>\n",
       "      <td>0.0</td>\n",
       "    </tr>\n",
       "  </tbody>\n",
       "</table>\n",
       "</div>"
      ],
      "text/plain": [
       "           name  energy_costs_eur  grid_energy_costs_eur  \\\n",
       "id                                                         \n",
       "1    1_baseline      329971.68000           12033.847188   \n",
       "2    2_baseline      204667.45200            7464.085529   \n",
       "3    3_baseline      180566.10000            6585.125290   \n",
       "11  11_baseline      725850.45000           32070.976283   \n",
       "18  18_baseline       40066.89786            3705.580104   \n",
       "\n",
       "    grid_capacity_costs_eur  grid_capacity_kw  storage_invest_eur  \\\n",
       "id                                                                  \n",
       "1             132976.873344           1096.00                 0.0   \n",
       "2              99004.679424            816.00                 0.0   \n",
       "3              85124.611622            701.60                 0.0   \n",
       "11            385032.631200           2110.00                 0.0   \n",
       "18              7671.378578             89.26                 0.0   \n",
       "\n",
       "    storage_annuity_eur  storage_capacity_kwh  inverter_invest_eur  \\\n",
       "id                                                                   \n",
       "1                   0.0                   0.0                  0.0   \n",
       "2                   0.0                   0.0                  0.0   \n",
       "3                   0.0                   0.0                  0.0   \n",
       "11                  0.0                   0.0                  0.0   \n",
       "18                  0.0                   0.0                  0.0   \n",
       "\n",
       "    inverter_annuity_eur  inverter_capacity_kw  solar_invest_eur  \\\n",
       "id                                                                 \n",
       "1                    0.0                   0.0               0.0   \n",
       "2                    0.0                   0.0               0.0   \n",
       "3                    0.0                   0.0               0.0   \n",
       "11                   0.0                   0.0               0.0   \n",
       "18                   0.0                   0.0               0.0   \n",
       "\n",
       "    solar_annuity_eur  solar_capacity_kwp  total_yearly_costs_eur  \\\n",
       "id                                                                  \n",
       "1                 0.0                 0.0            4.749824e+05   \n",
       "2                 0.0                 0.0            3.111362e+05   \n",
       "3                 0.0                 0.0            2.722758e+05   \n",
       "11                0.0                 0.0            1.142954e+06   \n",
       "18                0.0                 0.0            5.144386e+04   \n",
       "\n",
       "    total_annuity_eur  total_invest_eur  \n",
       "id                                       \n",
       "1                 0.0               0.0  \n",
       "2                 0.0               0.0  \n",
       "3                 0.0               0.0  \n",
       "11                0.0               0.0  \n",
       "18                0.0               0.0  "
      ]
     },
     "execution_count": 89,
     "metadata": {},
     "output_type": "execute_result"
    }
   ],
   "source": [
    "baseline = pd.read_sql(\"SELECT * FROM vea_results.overview WHERE name LIKE '%%base%%'\", URI)\n",
    "baseline[\"id\"] = baseline[\"name\"].str.split(\"_\").str[0].astype(int)\n",
    "baseline.set_index(\"id\", inplace=True)\n",
    "baseline = baseline[baseline.index.isin(profiles_under_2500h)]\n",
    "baseline.sort_index(inplace=True)\n",
    "baseline.head()"
   ]
  },
  {
   "cell_type": "code",
   "execution_count": 122,
   "id": "fe34cbb3",
   "metadata": {},
   "outputs": [
    {
     "data": {
      "text/html": [
       "<div>\n",
       "<style scoped>\n",
       "    .dataframe tbody tr th:only-of-type {\n",
       "        vertical-align: middle;\n",
       "    }\n",
       "\n",
       "    .dataframe tbody tr th {\n",
       "        vertical-align: top;\n",
       "    }\n",
       "\n",
       "    .dataframe thead th {\n",
       "        text-align: right;\n",
       "    }\n",
       "</style>\n",
       "<table border=\"1\" class=\"dataframe\">\n",
       "  <thead>\n",
       "    <tr style=\"text-align: right;\">\n",
       "      <th></th>\n",
       "      <th>name</th>\n",
       "      <th>energy_costs_eur</th>\n",
       "      <th>grid_energy_costs_eur</th>\n",
       "      <th>grid_capacity_costs_eur</th>\n",
       "      <th>grid_capacity_kw</th>\n",
       "      <th>storage_invest_eur</th>\n",
       "      <th>storage_annuity_eur</th>\n",
       "      <th>storage_capacity_kwh</th>\n",
       "      <th>inverter_invest_eur</th>\n",
       "      <th>inverter_annuity_eur</th>\n",
       "      <th>inverter_capacity_kw</th>\n",
       "      <th>solar_invest_eur</th>\n",
       "      <th>solar_annuity_eur</th>\n",
       "      <th>solar_capacity_kwp</th>\n",
       "      <th>total_yearly_costs_eur</th>\n",
       "      <th>total_annuity_eur</th>\n",
       "      <th>total_invest_eur</th>\n",
       "      <th>invest_per_tac</th>\n",
       "    </tr>\n",
       "    <tr>\n",
       "      <th>id</th>\n",
       "      <th></th>\n",
       "      <th></th>\n",
       "      <th></th>\n",
       "      <th></th>\n",
       "      <th></th>\n",
       "      <th></th>\n",
       "      <th></th>\n",
       "      <th></th>\n",
       "      <th></th>\n",
       "      <th></th>\n",
       "      <th></th>\n",
       "      <th></th>\n",
       "      <th></th>\n",
       "      <th></th>\n",
       "      <th></th>\n",
       "      <th></th>\n",
       "      <th></th>\n",
       "      <th></th>\n",
       "    </tr>\n",
       "  </thead>\n",
       "  <tbody>\n",
       "    <tr>\n",
       "      <th>1</th>\n",
       "      <td>1_storage_only</td>\n",
       "      <td>329310.116681</td>\n",
       "      <td>12009.720415</td>\n",
       "      <td>112571.591043</td>\n",
       "      <td>927.818956</td>\n",
       "      <td>72705.633117</td>\n",
       "      <td>5658.350233</td>\n",
       "      <td>255.107485</td>\n",
       "      <td>30272.587940</td>\n",
       "      <td>2355.978453</td>\n",
       "      <td>168.181044</td>\n",
       "      <td>0.0</td>\n",
       "      <td>0.0</td>\n",
       "      <td>0.0</td>\n",
       "      <td>4.619058e+05</td>\n",
       "      <td>8014.328685</td>\n",
       "      <td>102978.221057</td>\n",
       "      <td>0.216804</td>\n",
       "    </tr>\n",
       "    <tr>\n",
       "      <th>2</th>\n",
       "      <td>2_storage_only</td>\n",
       "      <td>204374.029623</td>\n",
       "      <td>7453.384611</td>\n",
       "      <td>77439.892170</td>\n",
       "      <td>638.262276</td>\n",
       "      <td>76183.293100</td>\n",
       "      <td>5929.000763</td>\n",
       "      <td>267.309800</td>\n",
       "      <td>31992.790344</td>\n",
       "      <td>2489.854017</td>\n",
       "      <td>177.737724</td>\n",
       "      <td>0.0</td>\n",
       "      <td>0.0</td>\n",
       "      <td>0.0</td>\n",
       "      <td>2.976862e+05</td>\n",
       "      <td>8418.854780</td>\n",
       "      <td>108176.083444</td>\n",
       "      <td>0.347681</td>\n",
       "    </tr>\n",
       "    <tr>\n",
       "      <th>3</th>\n",
       "      <td>3_storage_only</td>\n",
       "      <td>180091.219844</td>\n",
       "      <td>6567.806727</td>\n",
       "      <td>75835.912954</td>\n",
       "      <td>625.042224</td>\n",
       "      <td>27228.142451</td>\n",
       "      <td>2119.043045</td>\n",
       "      <td>95.537342</td>\n",
       "      <td>13780.399758</td>\n",
       "      <td>1072.466119</td>\n",
       "      <td>76.557776</td>\n",
       "      <td>0.0</td>\n",
       "      <td>0.0</td>\n",
       "      <td>0.0</td>\n",
       "      <td>2.656864e+05</td>\n",
       "      <td>3191.509164</td>\n",
       "      <td>41008.542208</td>\n",
       "      <td>0.150614</td>\n",
       "    </tr>\n",
       "    <tr>\n",
       "      <th>11</th>\n",
       "      <td>11_storage_only</td>\n",
       "      <td>724413.938321</td>\n",
       "      <td>32007.505451</td>\n",
       "      <td>283208.835840</td>\n",
       "      <td>1552.000000</td>\n",
       "      <td>796350.000000</td>\n",
       "      <td>61976.314826</td>\n",
       "      <td>2794.210526</td>\n",
       "      <td>100440.000000</td>\n",
       "      <td>7816.790433</td>\n",
       "      <td>558.000000</td>\n",
       "      <td>0.0</td>\n",
       "      <td>0.0</td>\n",
       "      <td>0.0</td>\n",
       "      <td>1.109423e+06</td>\n",
       "      <td>69793.105259</td>\n",
       "      <td>896790.000000</td>\n",
       "      <td>0.784625</td>\n",
       "    </tr>\n",
       "    <tr>\n",
       "      <th>18</th>\n",
       "      <td>18_storage_only</td>\n",
       "      <td>39989.713463</td>\n",
       "      <td>3698.441718</td>\n",
       "      <td>4841.311113</td>\n",
       "      <td>56.330870</td>\n",
       "      <td>7472.947443</td>\n",
       "      <td>581.585664</td>\n",
       "      <td>26.220868</td>\n",
       "      <td>5927.243386</td>\n",
       "      <td>461.290516</td>\n",
       "      <td>32.929130</td>\n",
       "      <td>0.0</td>\n",
       "      <td>0.0</td>\n",
       "      <td>0.0</td>\n",
       "      <td>4.957234e+04</td>\n",
       "      <td>1042.876180</td>\n",
       "      <td>13400.190829</td>\n",
       "      <td>0.260482</td>\n",
       "    </tr>\n",
       "  </tbody>\n",
       "</table>\n",
       "</div>"
      ],
      "text/plain": [
       "               name  energy_costs_eur  grid_energy_costs_eur  \\\n",
       "id                                                             \n",
       "1    1_storage_only     329310.116681           12009.720415   \n",
       "2    2_storage_only     204374.029623            7453.384611   \n",
       "3    3_storage_only     180091.219844            6567.806727   \n",
       "11  11_storage_only     724413.938321           32007.505451   \n",
       "18  18_storage_only      39989.713463            3698.441718   \n",
       "\n",
       "    grid_capacity_costs_eur  grid_capacity_kw  storage_invest_eur  \\\n",
       "id                                                                  \n",
       "1             112571.591043        927.818956        72705.633117   \n",
       "2              77439.892170        638.262276        76183.293100   \n",
       "3              75835.912954        625.042224        27228.142451   \n",
       "11            283208.835840       1552.000000       796350.000000   \n",
       "18              4841.311113         56.330870         7472.947443   \n",
       "\n",
       "    storage_annuity_eur  storage_capacity_kwh  inverter_invest_eur  \\\n",
       "id                                                                   \n",
       "1           5658.350233            255.107485         30272.587940   \n",
       "2           5929.000763            267.309800         31992.790344   \n",
       "3           2119.043045             95.537342         13780.399758   \n",
       "11         61976.314826           2794.210526        100440.000000   \n",
       "18           581.585664             26.220868          5927.243386   \n",
       "\n",
       "    inverter_annuity_eur  inverter_capacity_kw  solar_invest_eur  \\\n",
       "id                                                                 \n",
       "1            2355.978453            168.181044               0.0   \n",
       "2            2489.854017            177.737724               0.0   \n",
       "3            1072.466119             76.557776               0.0   \n",
       "11           7816.790433            558.000000               0.0   \n",
       "18            461.290516             32.929130               0.0   \n",
       "\n",
       "    solar_annuity_eur  solar_capacity_kwp  total_yearly_costs_eur  \\\n",
       "id                                                                  \n",
       "1                 0.0                 0.0            4.619058e+05   \n",
       "2                 0.0                 0.0            2.976862e+05   \n",
       "3                 0.0                 0.0            2.656864e+05   \n",
       "11                0.0                 0.0            1.109423e+06   \n",
       "18                0.0                 0.0            4.957234e+04   \n",
       "\n",
       "    total_annuity_eur  total_invest_eur  invest_per_tac  \n",
       "id                                                       \n",
       "1         8014.328685     102978.221057        0.216804  \n",
       "2         8418.854780     108176.083444        0.347681  \n",
       "3         3191.509164      41008.542208        0.150614  \n",
       "11       69793.105259     896790.000000        0.784625  \n",
       "18        1042.876180      13400.190829        0.260482  "
      ]
     },
     "execution_count": 122,
     "metadata": {},
     "output_type": "execute_result"
    }
   ],
   "source": [
    "storage = pd.read_sql(\"SELECT * FROM vea_results.overview WHERE name LIKE '%%storage_only'\", URI)\n",
    "storage[\"id\"] = storage[\"name\"].str.split(\"_\").str[0].astype(int)\n",
    "storage.set_index(\"id\", inplace=True)\n",
    "storage = storage[storage.index.isin(profiles_under_2500h)]\n",
    "storage[\"invest_per_tac\"] = (storage[\"storage_invest_eur\"] + storage[\"inverter_invest_eur\"]) / baseline[\"total_yearly_costs_eur\"]\n",
    "storage.sort_index(inplace=True)\n",
    "storage.head()"
   ]
  },
  {
   "cell_type": "markdown",
   "id": "97a35e6f",
   "metadata": {},
   "source": [
    "# General analysis"
   ]
  },
  {
   "cell_type": "code",
   "execution_count": 91,
   "id": "d94b3265",
   "metadata": {},
   "outputs": [
    {
     "name": "stdout",
     "output_type": "stream",
     "text": [
      "total_profiles_analyzed=1709\n",
      "n_profiles_using_storage=1708\n",
      "Percentage of profiles using storage: 99.94 %\n"
     ]
    }
   ],
   "source": [
    "total_profiles_analyzed = len(storage)\n",
    "profiles_using_storage = storage[storage[\"inverter_invest_eur\"] > 0]\n",
    "n_profiles_using_storage = len(profiles_using_storage)\n",
    "\n",
    "print(f\"{total_profiles_analyzed=}\")\n",
    "print(f\"{n_profiles_using_storage=}\")\n",
    "print(f\"Percentage of profiles using storage: {((n_profiles_using_storage / total_profiles_analyzed) * 100):.2f} %\")"
   ]
  },
  {
   "cell_type": "markdown",
   "id": "a7bf038d",
   "metadata": {},
   "source": [
    "## System sizes"
   ]
  },
  {
   "cell_type": "code",
   "execution_count": 92,
   "id": "1f3f1a50",
   "metadata": {},
   "outputs": [
    {
     "name": "stdout",
     "output_type": "stream",
     "text": [
      "|      |   Storage capacity |\n",
      "|:-----|-------------------:|\n",
      "| mean |        125.791     |\n",
      "| std  |        358.369     |\n",
      "| min  |          0.0118421 |\n",
      "| 25%  |         18.7696    |\n",
      "| 50%  |         45.7277    |\n",
      "| 75%  |        111.885     |\n",
      "| max  |       8539.07      |\n",
      "\n",
      "|      |   Inverter capacity |\n",
      "|:-----|--------------------:|\n",
      "| mean |            100.511  |\n",
      "| std  |            640.563  |\n",
      "| min  |              0.045  |\n",
      "| 25%  |             18.4184 |\n",
      "| 50%  |             38.84   |\n",
      "| 75%  |             82.0855 |\n",
      "| max  |          25586.3    |\n"
     ]
    },
    {
     "data": {
      "application/vnd.plotly.v1+json": {
       "config": {
        "plotlyServerURL": "https://plot.ly"
       },
       "data": [
        {
         "alignmentgroup": "True",
         "hovertemplate": "value=%{x}<br>variable=%{y}<extra></extra>",
         "legendgroup": "",
         "marker": {
          "color": "#636efa"
         },
         "name": "",
         "notched": false,
         "offsetgroup": "",
         "orientation": "h",
         "showlegend": false,
         "type": "box",
         "x": {
          "bdata": "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",
          "dtype": "f8"
         },
         "x0": " ",
         "xaxis": "x",
         "y": [
          "Inverter",
          "Inverter",
          "Inverter",
          "Inverter",
          "Inverter",
          "Inverter",
          "Inverter",
          "Inverter",
          "Inverter",
          "Inverter",
          "Inverter",
          "Inverter",
          "Inverter",
          "Inverter",
          "Inverter",
          "Inverter",
          "Inverter",
          "Inverter",
          "Inverter",
          "Inverter",
          "Inverter",
          "Inverter",
          "Inverter",
          "Inverter",
          "Inverter",
          "Inverter",
          "Inverter",
          "Inverter",
          "Inverter",
          "Inverter",
          "Inverter",
          "Inverter",
          "Inverter",
          "Inverter",
          "Inverter",
          "Inverter",
          "Inverter",
          "Inverter",
          "Inverter",
          "Inverter",
          "Inverter",
          "Inverter",
          "Inverter",
          "Inverter",
          "Inverter",
          "Inverter",
          "Inverter",
          "Inverter",
          "Inverter",
          "Inverter",
          "Inverter",
          "Inverter",
          "Inverter",
          "Inverter",
          "Inverter",
          "Inverter",
          "Inverter",
          "Inverter",
          "Inverter",
          "Inverter",
          "Inverter",
          "Inverter",
          "Inverter",
          "Inverter",
          "Inverter",
          "Inverter",
          "Inverter",
          "Inverter",
          "Inverter",
          "Inverter",
          "Inverter",
          "Inverter",
          "Inverter",
          "Inverter",
          "Inverter",
          "Inverter",
          "Inverter",
          "Inverter",
          "Inverter",
          "Inverter",
          "Inverter",
          "Inverter",
          "Inverter",
          "Inverter",
          "Inverter",
          "Inverter",
          "Inverter",
          "Inverter",
          "Inverter",
          "Inverter",
          "Inverter",
          "Inverter",
          "Inverter",
          "Inverter",
          "Inverter",
          "Inverter",
          "Inverter",
          "Inverter",
          "Inverter",
          "Inverter",
          "Inverter",
          "Inverter",
          "Inverter",
          "Inverter",
          "Inverter",
          "Inverter",
          "Inverter",
          "Inverter",
          "Inverter",
          "Inverter",
          "Inverter",
          "Inverter",
          "Inverter",
          "Inverter",
          "Inverter",
          "Inverter",
          "Inverter",
          "Inverter",
          "Inverter",
          "Inverter",
          "Inverter",
          "Inverter",
          "Inverter",
          "Inverter",
          "Inverter",
          "Inverter",
          "Inverter",
          "Inverter",
          "Inverter",
          "Inverter",
          "Inverter",
          "Inverter",
          "Inverter",
          "Inverter",
          "Inverter",
          "Inverter",
          "Inverter",
          "Inverter",
          "Inverter",
          "Inverter",
          "Inverter",
          "Inverter",
          "Inverter",
          "Inverter",
          "Inverter",
          "Inverter",
          "Inverter",
          "Inverter",
          "Inverter",
          "Inverter",
          "Inverter",
          "Inverter",
          "Inverter",
          "Inverter",
          "Inverter",
          "Inverter",
          "Inverter",
          "Inverter",
          "Inverter",
          "Inverter",
          "Inverter",
          "Inverter",
          "Inverter",
          "Inverter",
          "Inverter",
          "Inverter",
          "Inverter",
          "Inverter",
          "Inverter",
          "Inverter",
          "Inverter",
          "Inverter",
          "Inverter",
          "Inverter",
          "Inverter",
          "Inverter",
          "Inverter",
          "Inverter",
          "Inverter",
          "Inverter",
          "Inverter",
          "Inverter",
          "Inverter",
          "Inverter",
          "Inverter",
          "Inverter",
          "Inverter",
          "Inverter",
          "Inverter",
          "Inverter",
          "Inverter",
          "Inverter",
          "Inverter",
          "Inverter",
          "Inverter",
          "Inverter",
          "Inverter",
          "Inverter",
          "Inverter",
          "Inverter",
          "Inverter",
          "Inverter",
          "Inverter",
          "Inverter",
          "Inverter",
          "Inverter",
          "Inverter",
          "Inverter",
          "Inverter",
          "Inverter",
          "Inverter",
          "Inverter",
          "Inverter",
          "Inverter",
          "Inverter",
          "Inverter",
          "Inverter",
          "Inverter",
          "Inverter",
          "Inverter",
          "Inverter",
          "Inverter",
          "Inverter",
          "Inverter",
          "Inverter",
          "Inverter",
          "Inverter",
          "Inverter",
          "Inverter",
          "Inverter",
          "Inverter",
          "Inverter",
          "Inverter",
          "Inverter",
          "Inverter",
          "Inverter",
          "Inverter",
          "Inverter",
          "Inverter",
          "Inverter",
          "Inverter",
          "Inverter",
          "Inverter",
          "Inverter",
          "Inverter",
          "Inverter",
          "Inverter",
          "Inverter",
          "Inverter",
          "Inverter",
          "Inverter",
          "Inverter",
          "Inverter",
          "Inverter",
          "Inverter",
          "Inverter",
          "Inverter",
          "Inverter",
          "Inverter",
          "Inverter",
          "Inverter",
          "Inverter",
          "Inverter",
          "Inverter",
          "Inverter",
          "Inverter",
          "Inverter",
          "Inverter",
          "Inverter",
          "Inverter",
          "Inverter",
          "Inverter",
          "Inverter",
          "Inverter",
          "Inverter",
          "Inverter",
          "Inverter",
          "Inverter",
          "Inverter",
          "Inverter",
          "Inverter",
          "Inverter",
          "Inverter",
          "Inverter",
          "Inverter",
          "Inverter",
          "Inverter",
          "Inverter",
          "Inverter",
          "Inverter",
          "Inverter",
          "Inverter",
          "Inverter",
          "Inverter",
          "Inverter",
          "Inverter",
          "Inverter",
          "Inverter",
          "Inverter",
          "Inverter",
          "Inverter",
          "Inverter",
          "Inverter",
          "Inverter",
          "Inverter",
          "Inverter",
          "Inverter",
          "Inverter",
          "Inverter",
          "Inverter",
          "Inverter",
          "Inverter",
          "Inverter",
          "Inverter",
          "Inverter",
          "Inverter",
          "Inverter",
          "Inverter",
          "Inverter",
          "Inverter",
          "Inverter",
          "Inverter",
          "Inverter",
          "Inverter",
          "Inverter",
          "Inverter",
          "Inverter",
          "Inverter",
          "Inverter",
          "Inverter",
          "Inverter",
          "Inverter",
          "Inverter",
          "Inverter",
          "Inverter",
          "Inverter",
          "Inverter",
          "Inverter",
          "Inverter",
          "Inverter",
          "Inverter",
          "Inverter",
          "Inverter",
          "Inverter",
          "Inverter",
          "Inverter",
          "Inverter",
          "Inverter",
          "Inverter",
          "Inverter",
          "Inverter",
          "Inverter",
          "Inverter",
          "Inverter",
          "Inverter",
          "Inverter",
          "Inverter",
          "Inverter",
          "Inverter",
          "Inverter",
          "Inverter",
          "Inverter",
          "Inverter",
          "Inverter",
          "Inverter",
          "Inverter",
          "Inverter",
          "Inverter",
          "Inverter",
          "Inverter",
          "Inverter",
          "Inverter",
          "Inverter",
          "Inverter",
          "Inverter",
          "Inverter",
          "Inverter",
          "Inverter",
          "Inverter",
          "Inverter",
          "Inverter",
          "Inverter",
          "Inverter",
          "Inverter",
          "Inverter",
          "Inverter",
          "Inverter",
          "Inverter",
          "Inverter",
          "Inverter",
          "Inverter",
          "Inverter",
          "Inverter",
          "Inverter",
          "Inverter",
          "Inverter",
          "Inverter",
          "Inverter",
          "Inverter",
          "Inverter",
          "Inverter",
          "Inverter",
          "Inverter",
          "Inverter",
          "Inverter",
          "Inverter",
          "Inverter",
          "Inverter",
          "Inverter",
          "Inverter",
          "Inverter",
          "Inverter",
          "Inverter",
          "Inverter",
          "Inverter",
          "Inverter",
          "Inverter",
          "Inverter",
          "Inverter",
          "Inverter",
          "Inverter",
          "Inverter",
          "Inverter",
          "Inverter",
          "Inverter",
          "Inverter",
          "Inverter",
          "Inverter",
          "Inverter",
          "Inverter",
          "Inverter",
          "Inverter",
          "Inverter",
          "Inverter",
          "Inverter",
          "Inverter",
          "Inverter",
          "Inverter",
          "Inverter",
          "Inverter",
          "Inverter",
          "Inverter",
          "Inverter",
          "Inverter",
          "Inverter",
          "Inverter",
          "Inverter",
          "Inverter",
          "Inverter",
          "Inverter",
          "Inverter",
          "Inverter",
          "Inverter",
          "Inverter",
          "Inverter",
          "Inverter",
          "Inverter",
          "Inverter",
          "Inverter",
          "Inverter",
          "Inverter",
          "Inverter",
          "Inverter",
          "Inverter",
          "Inverter",
          "Inverter",
          "Inverter",
          "Inverter",
          "Inverter",
          "Inverter",
          "Inverter",
          "Inverter",
          "Inverter",
          "Inverter",
          "Inverter",
          "Inverter",
          "Inverter",
          "Inverter",
          "Inverter",
          "Inverter",
          "Inverter",
          "Inverter",
          "Inverter",
          "Inverter",
          "Inverter",
          "Inverter",
          "Inverter",
          "Inverter",
          "Inverter",
          "Inverter",
          "Inverter",
          "Inverter",
          "Inverter",
          "Inverter",
          "Inverter",
          "Inverter",
          "Inverter",
          "Inverter",
          "Inverter",
          "Inverter",
          "Inverter",
          "Inverter",
          "Inverter",
          "Inverter",
          "Inverter",
          "Inverter",
          "Inverter",
          "Inverter",
          "Inverter",
          "Inverter",
          "Inverter",
          "Inverter",
          "Inverter",
          "Inverter",
          "Inverter",
          "Inverter",
          "Inverter",
          "Inverter",
          "Inverter",
          "Inverter",
          "Inverter",
          "Inverter",
          "Inverter",
          "Inverter",
          "Inverter",
          "Inverter",
          "Inverter",
          "Inverter",
          "Inverter",
          "Inverter",
          "Inverter",
          "Inverter",
          "Inverter",
          "Inverter",
          "Inverter",
          "Inverter",
          "Inverter",
          "Inverter",
          "Inverter",
          "Inverter",
          "Inverter",
          "Inverter",
          "Inverter",
          "Inverter",
          "Inverter",
          "Inverter",
          "Inverter",
          "Inverter",
          "Inverter",
          "Inverter",
          "Inverter",
          "Inverter",
          "Inverter",
          "Inverter",
          "Inverter",
          "Inverter",
          "Inverter",
          "Inverter",
          "Inverter",
          "Inverter",
          "Inverter",
          "Inverter",
          "Inverter",
          "Inverter",
          "Inverter",
          "Inverter",
          "Inverter",
          "Inverter",
          "Inverter",
          "Inverter",
          "Inverter",
          "Inverter",
          "Inverter",
          "Inverter",
          "Inverter",
          "Inverter",
          "Inverter",
          "Inverter",
          "Inverter",
          "Inverter",
          "Inverter",
          "Inverter",
          "Inverter",
          "Inverter",
          "Inverter",
          "Inverter",
          "Inverter",
          "Inverter",
          "Inverter",
          "Inverter",
          "Inverter",
          "Inverter",
          "Inverter",
          "Inverter",
          "Inverter",
          "Inverter",
          "Inverter",
          "Inverter",
          "Inverter",
          "Inverter",
          "Inverter",
          "Inverter",
          "Inverter",
          "Inverter",
          "Inverter",
          "Inverter",
          "Inverter",
          "Inverter",
          "Inverter",
          "Inverter",
          "Inverter",
          "Inverter",
          "Inverter",
          "Inverter",
          "Inverter",
          "Inverter",
          "Inverter",
          "Inverter",
          "Inverter",
          "Inverter",
          "Inverter",
          "Inverter",
          "Inverter",
          "Inverter",
          "Inverter",
          "Inverter",
          "Inverter",
          "Inverter",
          "Inverter",
          "Inverter",
          "Inverter",
          "Inverter",
          "Inverter",
          "Inverter",
          "Inverter",
          "Inverter",
          "Inverter",
          "Inverter",
          "Inverter",
          "Inverter",
          "Inverter",
          "Inverter",
          "Inverter",
          "Inverter",
          "Inverter",
          "Inverter",
          "Inverter",
          "Inverter",
          "Inverter",
          "Inverter",
          "Inverter",
          "Inverter",
          "Inverter",
          "Inverter",
          "Inverter",
          "Inverter",
          "Inverter",
          "Inverter",
          "Inverter",
          "Inverter",
          "Inverter",
          "Inverter",
          "Inverter",
          "Inverter",
          "Inverter",
          "Inverter",
          "Inverter",
          "Inverter",
          "Inverter",
          "Inverter",
          "Inverter",
          "Inverter",
          "Inverter",
          "Inverter",
          "Inverter",
          "Inverter",
          "Inverter",
          "Inverter",
          "Inverter",
          "Inverter",
          "Inverter",
          "Inverter",
          "Inverter",
          "Inverter",
          "Inverter",
          "Inverter",
          "Inverter",
          "Inverter",
          "Inverter",
          "Inverter",
          "Inverter",
          "Inverter",
          "Inverter",
          "Inverter",
          "Inverter",
          "Inverter",
          "Inverter",
          "Inverter",
          "Inverter",
          "Inverter",
          "Inverter",
          "Inverter",
          "Inverter",
          "Inverter",
          "Inverter",
          "Inverter",
          "Inverter",
          "Inverter",
          "Inverter",
          "Inverter",
          "Inverter",
          "Inverter",
          "Inverter",
          "Inverter",
          "Inverter",
          "Inverter",
          "Inverter",
          "Inverter",
          "Inverter",
          "Inverter",
          "Inverter",
          "Inverter",
          "Inverter",
          "Inverter",
          "Inverter",
          "Inverter",
          "Inverter",
          "Inverter",
          "Inverter",
          "Inverter",
          "Inverter",
          "Inverter",
          "Inverter",
          "Inverter",
          "Inverter",
          "Inverter",
          "Inverter",
          "Inverter",
          "Inverter",
          "Inverter",
          "Inverter",
          "Inverter",
          "Inverter",
          "Inverter",
          "Inverter",
          "Inverter",
          "Inverter",
          "Inverter",
          "Inverter",
          "Inverter",
          "Inverter",
          "Inverter",
          "Inverter",
          "Inverter",
          "Inverter",
          "Inverter",
          "Inverter",
          "Inverter",
          "Inverter",
          "Inverter",
          "Inverter",
          "Inverter",
          "Inverter",
          "Inverter",
          "Inverter",
          "Inverter",
          "Inverter",
          "Inverter",
          "Inverter",
          "Inverter",
          "Inverter",
          "Inverter",
          "Inverter",
          "Inverter",
          "Inverter",
          "Inverter",
          "Inverter",
          "Inverter",
          "Inverter",
          "Inverter",
          "Inverter",
          "Inverter",
          "Inverter",
          "Inverter",
          "Inverter",
          "Inverter",
          "Inverter",
          "Inverter",
          "Inverter",
          "Inverter",
          "Inverter",
          "Inverter",
          "Inverter",
          "Inverter",
          "Inverter",
          "Inverter",
          "Inverter",
          "Inverter",
          "Inverter",
          "Inverter",
          "Inverter",
          "Inverter",
          "Inverter",
          "Inverter",
          "Inverter",
          "Inverter",
          "Inverter",
          "Inverter",
          "Inverter",
          "Inverter",
          "Inverter",
          "Inverter",
          "Inverter",
          "Inverter",
          "Inverter",
          "Inverter",
          "Inverter",
          "Inverter",
          "Inverter",
          "Inverter",
          "Inverter",
          "Inverter",
          "Inverter",
          "Inverter",
          "Inverter",
          "Inverter",
          "Inverter",
          "Inverter",
          "Inverter",
          "Inverter",
          "Inverter",
          "Inverter",
          "Inverter",
          "Inverter",
          "Inverter",
          "Inverter",
          "Inverter",
          "Inverter",
          "Inverter",
          "Inverter",
          "Inverter",
          "Inverter",
          "Inverter",
          "Inverter",
          "Inverter",
          "Inverter",
          "Inverter",
          "Inverter",
          "Inverter",
          "Inverter",
          "Inverter",
          "Inverter",
          "Inverter",
          "Inverter",
          "Inverter",
          "Inverter",
          "Inverter",
          "Inverter",
          "Inverter",
          "Inverter",
          "Inverter",
          "Inverter",
          "Inverter",
          "Inverter",
          "Inverter",
          "Inverter",
          "Inverter",
          "Inverter",
          "Inverter",
          "Inverter",
          "Inverter",
          "Inverter",
          "Inverter",
          "Inverter",
          "Inverter",
          "Inverter",
          "Inverter",
          "Inverter",
          "Inverter",
          "Inverter",
          "Inverter",
          "Inverter",
          "Inverter",
          "Inverter",
          "Inverter",
          "Inverter",
          "Inverter",
          "Inverter",
          "Inverter",
          "Inverter",
          "Inverter",
          "Inverter",
          "Inverter",
          "Inverter",
          "Inverter",
          "Inverter",
          "Inverter",
          "Inverter",
          "Inverter",
          "Inverter",
          "Inverter",
          "Inverter",
          "Inverter",
          "Inverter",
          "Inverter",
          "Inverter",
          "Inverter",
          "Inverter",
          "Inverter",
          "Inverter",
          "Inverter",
          "Inverter",
          "Inverter",
          "Inverter",
          "Inverter",
          "Inverter",
          "Inverter",
          "Inverter",
          "Inverter",
          "Inverter",
          "Inverter",
          "Inverter",
          "Inverter",
          "Inverter",
          "Inverter",
          "Inverter",
          "Inverter",
          "Inverter",
          "Inverter",
          "Inverter",
          "Inverter",
          "Inverter",
          "Inverter",
          "Inverter",
          "Inverter",
          "Inverter",
          "Inverter",
          "Inverter",
          "Inverter",
          "Inverter",
          "Inverter",
          "Inverter",
          "Inverter",
          "Inverter",
          "Inverter",
          "Inverter",
          "Inverter",
          "Inverter",
          "Inverter",
          "Inverter",
          "Inverter",
          "Inverter",
          "Inverter",
          "Inverter",
          "Inverter",
          "Inverter",
          "Inverter",
          "Inverter",
          "Inverter",
          "Inverter",
          "Inverter",
          "Inverter",
          "Inverter",
          "Inverter",
          "Inverter",
          "Inverter",
          "Inverter",
          "Inverter",
          "Inverter",
          "Inverter",
          "Inverter",
          "Inverter",
          "Inverter",
          "Inverter",
          "Inverter",
          "Inverter",
          "Inverter",
          "Inverter",
          "Inverter",
          "Inverter",
          "Inverter",
          "Inverter",
          "Inverter",
          "Inverter",
          "Inverter",
          "Inverter",
          "Inverter",
          "Inverter",
          "Inverter",
          "Inverter",
          "Inverter",
          "Inverter",
          "Inverter",
          "Inverter",
          "Inverter",
          "Inverter",
          "Inverter",
          "Inverter",
          "Inverter",
          "Inverter",
          "Inverter",
          "Inverter",
          "Inverter",
          "Inverter",
          "Inverter",
          "Inverter",
          "Inverter",
          "Inverter",
          "Inverter",
          "Inverter",
          "Inverter",
          "Inverter",
          "Inverter",
          "Inverter",
          "Inverter",
          "Inverter",
          "Inverter",
          "Inverter",
          "Inverter",
          "Inverter",
          "Inverter",
          "Inverter",
          "Inverter",
          "Inverter",
          "Inverter",
          "Inverter",
          "Inverter",
          "Inverter",
          "Inverter",
          "Inverter",
          "Inverter",
          "Inverter",
          "Inverter",
          "Inverter",
          "Inverter",
          "Inverter",
          "Inverter",
          "Inverter",
          "Inverter",
          "Inverter",
          "Inverter",
          "Inverter",
          "Inverter",
          "Inverter",
          "Inverter",
          "Inverter",
          "Inverter",
          "Inverter",
          "Inverter",
          "Inverter",
          "Inverter",
          "Inverter",
          "Inverter",
          "Inverter",
          "Inverter",
          "Inverter",
          "Inverter",
          "Inverter",
          "Inverter",
          "Inverter",
          "Inverter",
          "Inverter",
          "Inverter",
          "Inverter",
          "Inverter",
          "Inverter",
          "Inverter",
          "Inverter",
          "Inverter",
          "Inverter",
          "Inverter",
          "Inverter",
          "Inverter",
          "Inverter",
          "Inverter",
          "Inverter",
          "Inverter",
          "Inverter",
          "Inverter",
          "Inverter",
          "Inverter",
          "Inverter",
          "Inverter",
          "Inverter",
          "Inverter",
          "Inverter",
          "Inverter",
          "Inverter",
          "Inverter",
          "Inverter",
          "Inverter",
          "Inverter",
          "Inverter",
          "Inverter",
          "Inverter",
          "Inverter",
          "Inverter",
          "Inverter",
          "Inverter",
          "Inverter",
          "Inverter",
          "Inverter",
          "Inverter",
          "Inverter",
          "Inverter",
          "Inverter",
          "Inverter",
          "Inverter",
          "Inverter",
          "Inverter",
          "Inverter",
          "Inverter",
          "Inverter",
          "Inverter",
          "Inverter",
          "Inverter",
          "Inverter",
          "Inverter",
          "Inverter",
          "Inverter",
          "Inverter",
          "Inverter",
          "Inverter",
          "Inverter",
          "Inverter",
          "Inverter",
          "Inverter",
          "Inverter",
          "Inverter",
          "Inverter",
          "Inverter",
          "Inverter",
          "Inverter",
          "Inverter",
          "Inverter",
          "Inverter",
          "Inverter",
          "Inverter",
          "Inverter",
          "Inverter",
          "Inverter",
          "Inverter",
          "Inverter",
          "Inverter",
          "Inverter",
          "Inverter",
          "Inverter",
          "Inverter",
          "Inverter",
          "Inverter",
          "Inverter",
          "Inverter",
          "Inverter",
          "Inverter",
          "Inverter",
          "Inverter",
          "Inverter",
          "Inverter",
          "Inverter",
          "Inverter",
          "Inverter",
          "Inverter",
          "Inverter",
          "Inverter",
          "Inverter",
          "Inverter",
          "Inverter",
          "Inverter",
          "Inverter",
          "Inverter",
          "Inverter",
          "Inverter",
          "Inverter",
          "Inverter",
          "Inverter",
          "Inverter",
          "Inverter",
          "Inverter",
          "Inverter",
          "Inverter",
          "Inverter",
          "Inverter",
          "Inverter",
          "Inverter",
          "Inverter",
          "Inverter",
          "Inverter",
          "Inverter",
          "Inverter",
          "Inverter",
          "Inverter",
          "Inverter",
          "Inverter",
          "Inverter",
          "Inverter",
          "Inverter",
          "Inverter",
          "Inverter",
          "Inverter",
          "Inverter",
          "Inverter",
          "Inverter",
          "Inverter",
          "Inverter",
          "Inverter",
          "Inverter",
          "Inverter",
          "Inverter",
          "Inverter",
          "Inverter",
          "Inverter",
          "Inverter",
          "Inverter",
          "Inverter",
          "Inverter",
          "Inverter",
          "Inverter",
          "Inverter",
          "Inverter",
          "Inverter",
          "Inverter",
          "Inverter",
          "Inverter",
          "Inverter",
          "Inverter",
          "Inverter",
          "Inverter",
          "Inverter",
          "Inverter",
          "Inverter",
          "Inverter",
          "Inverter",
          "Inverter",
          "Inverter",
          "Inverter",
          "Inverter",
          "Inverter",
          "Inverter",
          "Inverter",
          "Inverter",
          "Inverter",
          "Inverter",
          "Inverter",
          "Inverter",
          "Inverter",
          "Inverter",
          "Inverter",
          "Inverter",
          "Inverter",
          "Inverter",
          "Inverter",
          "Inverter",
          "Inverter",
          "Inverter",
          "Inverter",
          "Inverter",
          "Inverter",
          "Inverter",
          "Inverter",
          "Inverter",
          "Inverter",
          "Inverter",
          "Inverter",
          "Inverter",
          "Inverter",
          "Inverter",
          "Inverter",
          "Inverter",
          "Inverter",
          "Inverter",
          "Inverter",
          "Inverter",
          "Inverter",
          "Inverter",
          "Inverter",
          "Inverter",
          "Inverter",
          "Inverter",
          "Inverter",
          "Inverter",
          "Inverter",
          "Inverter",
          "Inverter",
          "Inverter",
          "Inverter",
          "Inverter",
          "Inverter",
          "Inverter",
          "Inverter",
          "Inverter",
          "Inverter",
          "Inverter",
          "Inverter",
          "Inverter",
          "Inverter",
          "Inverter",
          "Inverter",
          "Inverter",
          "Inverter",
          "Inverter",
          "Inverter",
          "Inverter",
          "Inverter",
          "Inverter",
          "Inverter",
          "Inverter",
          "Inverter",
          "Inverter",
          "Inverter",
          "Inverter",
          "Inverter",
          "Inverter",
          "Inverter",
          "Inverter",
          "Inverter",
          "Inverter",
          "Inverter",
          "Inverter",
          "Inverter",
          "Inverter",
          "Inverter",
          "Inverter",
          "Inverter",
          "Inverter",
          "Inverter",
          "Inverter",
          "Inverter",
          "Inverter",
          "Inverter",
          "Inverter",
          "Inverter",
          "Inverter",
          "Inverter",
          "Inverter",
          "Inverter",
          "Inverter",
          "Inverter",
          "Inverter",
          "Inverter",
          "Inverter",
          "Inverter",
          "Inverter",
          "Inverter",
          "Inverter",
          "Inverter",
          "Inverter",
          "Inverter",
          "Inverter",
          "Inverter",
          "Inverter",
          "Inverter",
          "Inverter",
          "Inverter",
          "Inverter",
          "Inverter",
          "Inverter",
          "Inverter",
          "Inverter",
          "Inverter",
          "Inverter",
          "Inverter",
          "Inverter",
          "Inverter",
          "Inverter",
          "Inverter",
          "Inverter",
          "Inverter",
          "Inverter",
          "Inverter",
          "Inverter",
          "Inverter",
          "Inverter",
          "Inverter",
          "Inverter",
          "Inverter",
          "Inverter",
          "Inverter",
          "Inverter",
          "Inverter",
          "Inverter",
          "Inverter",
          "Inverter",
          "Inverter",
          "Inverter",
          "Inverter",
          "Inverter",
          "Inverter",
          "Inverter",
          "Inverter",
          "Inverter",
          "Inverter",
          "Inverter",
          "Inverter",
          "Inverter",
          "Inverter",
          "Inverter",
          "Inverter",
          "Inverter",
          "Inverter",
          "Inverter",
          "Inverter",
          "Inverter",
          "Inverter",
          "Inverter",
          "Inverter",
          "Inverter",
          "Inverter",
          "Inverter",
          "Inverter",
          "Inverter",
          "Inverter",
          "Inverter",
          "Inverter",
          "Inverter",
          "Inverter",
          "Inverter",
          "Inverter",
          "Inverter",
          "Inverter",
          "Inverter",
          "Inverter",
          "Inverter",
          "Inverter",
          "Inverter",
          "Inverter",
          "Inverter",
          "Inverter",
          "Inverter",
          "Inverter",
          "Inverter",
          "Inverter",
          "Inverter",
          "Inverter",
          "Inverter",
          "Inverter",
          "Inverter",
          "Inverter",
          "Inverter",
          "Inverter",
          "Inverter",
          "Inverter",
          "Inverter",
          "Inverter",
          "Inverter",
          "Inverter",
          "Inverter",
          "Inverter",
          "Inverter",
          "Inverter",
          "Inverter",
          "Inverter",
          "Inverter",
          "Inverter",
          "Inverter",
          "Inverter",
          "Inverter",
          "Inverter",
          "Inverter",
          "Inverter",
          "Inverter",
          "Inverter",
          "Inverter",
          "Inverter",
          "Inverter",
          "Inverter",
          "Inverter",
          "Inverter",
          "Inverter",
          "Inverter",
          "Inverter",
          "Inverter",
          "Inverter",
          "Inverter",
          "Inverter",
          "Inverter",
          "Inverter",
          "Inverter",
          "Inverter",
          "Inverter",
          "Inverter",
          "Inverter",
          "Inverter",
          "Inverter",
          "Inverter",
          "Inverter",
          "Inverter",
          "Inverter",
          "Inverter",
          "Inverter",
          "Inverter",
          "Inverter",
          "Inverter",
          "Inverter",
          "Inverter",
          "Inverter",
          "Inverter",
          "Inverter",
          "Inverter",
          "Inverter",
          "Inverter",
          "Inverter",
          "Inverter",
          "Inverter",
          "Inverter",
          "Inverter",
          "Inverter",
          "Inverter",
          "Inverter",
          "Inverter",
          "Inverter",
          "Inverter",
          "Inverter",
          "Inverter",
          "Inverter",
          "Inverter",
          "Inverter",
          "Inverter",
          "Inverter",
          "Inverter",
          "Inverter",
          "Inverter",
          "Inverter",
          "Inverter",
          "Inverter",
          "Inverter",
          "Inverter",
          "Inverter",
          "Inverter",
          "Inverter",
          "Inverter",
          "Inverter",
          "Inverter",
          "Inverter",
          "Inverter",
          "Inverter",
          "Inverter",
          "Inverter",
          "Inverter",
          "Inverter",
          "Inverter",
          "Inverter",
          "Inverter",
          "Inverter",
          "Inverter",
          "Inverter",
          "Inverter",
          "Inverter",
          "Inverter",
          "Inverter",
          "Inverter",
          "Inverter",
          "Inverter",
          "Inverter",
          "Inverter",
          "Inverter",
          "Inverter",
          "Inverter",
          "Inverter",
          "Inverter",
          "Inverter",
          "Inverter",
          "Inverter",
          "Inverter",
          "Inverter",
          "Inverter",
          "Inverter",
          "Inverter",
          "Inverter",
          "Inverter",
          "Inverter",
          "Inverter",
          "Inverter",
          "Inverter",
          "Inverter",
          "Inverter",
          "Inverter",
          "Inverter",
          "Inverter",
          "Inverter",
          "Inverter",
          "Inverter",
          "Inverter",
          "Inverter",
          "Inverter",
          "Inverter",
          "Inverter",
          "Inverter",
          "Inverter",
          "Inverter",
          "Inverter",
          "Inverter",
          "Inverter",
          "Inverter",
          "Inverter",
          "Inverter",
          "Inverter",
          "Inverter",
          "Inverter",
          "Inverter",
          "Inverter",
          "Inverter",
          "Inverter",
          "Inverter",
          "Inverter",
          "Inverter",
          "Inverter",
          "Inverter",
          "Inverter",
          "Inverter",
          "Inverter",
          "Inverter",
          "Inverter",
          "Inverter",
          "Inverter",
          "Inverter",
          "Inverter",
          "Inverter",
          "Inverter",
          "Inverter",
          "Inverter",
          "Inverter",
          "Inverter",
          "Inverter",
          "Inverter",
          "Inverter",
          "Inverter",
          "Inverter",
          "Inverter",
          "Inverter",
          "Inverter",
          "Inverter",
          "Inverter",
          "Inverter",
          "Inverter",
          "Inverter",
          "Inverter",
          "Inverter",
          "Inverter",
          "Inverter",
          "Inverter",
          "Inverter",
          "Inverter",
          "Inverter",
          "Inverter",
          "Inverter",
          "Inverter",
          "Inverter",
          "Inverter",
          "Inverter",
          "Inverter",
          "Inverter",
          "Inverter",
          "Inverter",
          "Inverter",
          "Inverter",
          "Inverter",
          "Inverter",
          "Inverter",
          "Inverter",
          "Inverter",
          "Inverter",
          "Inverter",
          "Inverter",
          "Inverter",
          "Inverter",
          "Inverter",
          "Inverter",
          "Inverter",
          "Inverter",
          "Inverter",
          "Inverter",
          "Inverter",
          "Inverter",
          "Inverter",
          "Inverter",
          "Inverter",
          "Inverter",
          "Inverter",
          "Inverter",
          "Inverter",
          "Inverter",
          "Inverter",
          "Inverter",
          "Inverter",
          "Inverter",
          "Inverter",
          "Inverter",
          "Inverter",
          "Inverter",
          "Inverter",
          "Inverter",
          "Inverter",
          "Inverter",
          "Inverter",
          "Inverter",
          "Inverter",
          "Inverter",
          "Inverter",
          "Inverter",
          "Inverter",
          "Inverter",
          "Inverter",
          "Inverter",
          "Inverter",
          "Inverter",
          "Inverter",
          "Inverter",
          "Inverter",
          "Storage",
          "Storage",
          "Storage",
          "Storage",
          "Storage",
          "Storage",
          "Storage",
          "Storage",
          "Storage",
          "Storage",
          "Storage",
          "Storage",
          "Storage",
          "Storage",
          "Storage",
          "Storage",
          "Storage",
          "Storage",
          "Storage",
          "Storage",
          "Storage",
          "Storage",
          "Storage",
          "Storage",
          "Storage",
          "Storage",
          "Storage",
          "Storage",
          "Storage",
          "Storage",
          "Storage",
          "Storage",
          "Storage",
          "Storage",
          "Storage",
          "Storage",
          "Storage",
          "Storage",
          "Storage",
          "Storage",
          "Storage",
          "Storage",
          "Storage",
          "Storage",
          "Storage",
          "Storage",
          "Storage",
          "Storage",
          "Storage",
          "Storage",
          "Storage",
          "Storage",
          "Storage",
          "Storage",
          "Storage",
          "Storage",
          "Storage",
          "Storage",
          "Storage",
          "Storage",
          "Storage",
          "Storage",
          "Storage",
          "Storage",
          "Storage",
          "Storage",
          "Storage",
          "Storage",
          "Storage",
          "Storage",
          "Storage",
          "Storage",
          "Storage",
          "Storage",
          "Storage",
          "Storage",
          "Storage",
          "Storage",
          "Storage",
          "Storage",
          "Storage",
          "Storage",
          "Storage",
          "Storage",
          "Storage",
          "Storage",
          "Storage",
          "Storage",
          "Storage",
          "Storage",
          "Storage",
          "Storage",
          "Storage",
          "Storage",
          "Storage",
          "Storage",
          "Storage",
          "Storage",
          "Storage",
          "Storage",
          "Storage",
          "Storage",
          "Storage",
          "Storage",
          "Storage",
          "Storage",
          "Storage",
          "Storage",
          "Storage",
          "Storage",
          "Storage",
          "Storage",
          "Storage",
          "Storage",
          "Storage",
          "Storage",
          "Storage",
          "Storage",
          "Storage",
          "Storage",
          "Storage",
          "Storage",
          "Storage",
          "Storage",
          "Storage",
          "Storage",
          "Storage",
          "Storage",
          "Storage",
          "Storage",
          "Storage",
          "Storage",
          "Storage",
          "Storage",
          "Storage",
          "Storage",
          "Storage",
          "Storage",
          "Storage",
          "Storage",
          "Storage",
          "Storage",
          "Storage",
          "Storage",
          "Storage",
          "Storage",
          "Storage",
          "Storage",
          "Storage",
          "Storage",
          "Storage",
          "Storage",
          "Storage",
          "Storage",
          "Storage",
          "Storage",
          "Storage",
          "Storage",
          "Storage",
          "Storage",
          "Storage",
          "Storage",
          "Storage",
          "Storage",
          "Storage",
          "Storage",
          "Storage",
          "Storage",
          "Storage",
          "Storage",
          "Storage",
          "Storage",
          "Storage",
          "Storage",
          "Storage",
          "Storage",
          "Storage",
          "Storage",
          "Storage",
          "Storage",
          "Storage",
          "Storage",
          "Storage",
          "Storage",
          "Storage",
          "Storage",
          "Storage",
          "Storage",
          "Storage",
          "Storage",
          "Storage",
          "Storage",
          "Storage",
          "Storage",
          "Storage",
          "Storage",
          "Storage",
          "Storage",
          "Storage",
          "Storage",
          "Storage",
          "Storage",
          "Storage",
          "Storage",
          "Storage",
          "Storage",
          "Storage",
          "Storage",
          "Storage",
          "Storage",
          "Storage",
          "Storage",
          "Storage",
          "Storage",
          "Storage",
          "Storage",
          "Storage",
          "Storage",
          "Storage",
          "Storage",
          "Storage",
          "Storage",
          "Storage",
          "Storage",
          "Storage",
          "Storage",
          "Storage",
          "Storage",
          "Storage",
          "Storage",
          "Storage",
          "Storage",
          "Storage",
          "Storage",
          "Storage",
          "Storage",
          "Storage",
          "Storage",
          "Storage",
          "Storage",
          "Storage",
          "Storage",
          "Storage",
          "Storage",
          "Storage",
          "Storage",
          "Storage",
          "Storage",
          "Storage",
          "Storage",
          "Storage",
          "Storage",
          "Storage",
          "Storage",
          "Storage",
          "Storage",
          "Storage",
          "Storage",
          "Storage",
          "Storage",
          "Storage",
          "Storage",
          "Storage",
          "Storage",
          "Storage",
          "Storage",
          "Storage",
          "Storage",
          "Storage",
          "Storage",
          "Storage",
          "Storage",
          "Storage",
          "Storage",
          "Storage",
          "Storage",
          "Storage",
          "Storage",
          "Storage",
          "Storage",
          "Storage",
          "Storage",
          "Storage",
          "Storage",
          "Storage",
          "Storage",
          "Storage",
          "Storage",
          "Storage",
          "Storage",
          "Storage",
          "Storage",
          "Storage",
          "Storage",
          "Storage",
          "Storage",
          "Storage",
          "Storage",
          "Storage",
          "Storage",
          "Storage",
          "Storage",
          "Storage",
          "Storage",
          "Storage",
          "Storage",
          "Storage",
          "Storage",
          "Storage",
          "Storage",
          "Storage",
          "Storage",
          "Storage",
          "Storage",
          "Storage",
          "Storage",
          "Storage",
          "Storage",
          "Storage",
          "Storage",
          "Storage",
          "Storage",
          "Storage",
          "Storage",
          "Storage",
          "Storage",
          "Storage",
          "Storage",
          "Storage",
          "Storage",
          "Storage",
          "Storage",
          "Storage",
          "Storage",
          "Storage",
          "Storage",
          "Storage",
          "Storage",
          "Storage",
          "Storage",
          "Storage",
          "Storage",
          "Storage",
          "Storage",
          "Storage",
          "Storage",
          "Storage",
          "Storage",
          "Storage",
          "Storage",
          "Storage",
          "Storage",
          "Storage",
          "Storage",
          "Storage",
          "Storage",
          "Storage",
          "Storage",
          "Storage",
          "Storage",
          "Storage",
          "Storage",
          "Storage",
          "Storage",
          "Storage",
          "Storage",
          "Storage",
          "Storage",
          "Storage",
          "Storage",
          "Storage",
          "Storage",
          "Storage",
          "Storage",
          "Storage",
          "Storage",
          "Storage",
          "Storage",
          "Storage",
          "Storage",
          "Storage",
          "Storage",
          "Storage",
          "Storage",
          "Storage",
          "Storage",
          "Storage",
          "Storage",
          "Storage",
          "Storage",
          "Storage",
          "Storage",
          "Storage",
          "Storage",
          "Storage",
          "Storage",
          "Storage",
          "Storage",
          "Storage",
          "Storage",
          "Storage",
          "Storage",
          "Storage",
          "Storage",
          "Storage",
          "Storage",
          "Storage",
          "Storage",
          "Storage",
          "Storage",
          "Storage",
          "Storage",
          "Storage",
          "Storage",
          "Storage",
          "Storage",
          "Storage",
          "Storage",
          "Storage",
          "Storage",
          "Storage",
          "Storage",
          "Storage",
          "Storage",
          "Storage",
          "Storage",
          "Storage",
          "Storage",
          "Storage",
          "Storage",
          "Storage",
          "Storage",
          "Storage",
          "Storage",
          "Storage",
          "Storage",
          "Storage",
          "Storage",
          "Storage",
          "Storage",
          "Storage",
          "Storage",
          "Storage",
          "Storage",
          "Storage",
          "Storage",
          "Storage",
          "Storage",
          "Storage",
          "Storage",
          "Storage",
          "Storage",
          "Storage",
          "Storage",
          "Storage",
          "Storage",
          "Storage",
          "Storage",
          "Storage",
          "Storage",
          "Storage",
          "Storage",
          "Storage",
          "Storage",
          "Storage",
          "Storage",
          "Storage",
          "Storage",
          "Storage",
          "Storage",
          "Storage",
          "Storage",
          "Storage",
          "Storage",
          "Storage",
          "Storage",
          "Storage",
          "Storage",
          "Storage",
          "Storage",
          "Storage",
          "Storage",
          "Storage",
          "Storage",
          "Storage",
          "Storage",
          "Storage",
          "Storage",
          "Storage",
          "Storage",
          "Storage",
          "Storage",
          "Storage",
          "Storage",
          "Storage",
          "Storage",
          "Storage",
          "Storage",
          "Storage",
          "Storage",
          "Storage",
          "Storage",
          "Storage",
          "Storage",
          "Storage",
          "Storage",
          "Storage",
          "Storage",
          "Storage",
          "Storage",
          "Storage",
          "Storage",
          "Storage",
          "Storage",
          "Storage",
          "Storage",
          "Storage",
          "Storage",
          "Storage",
          "Storage",
          "Storage",
          "Storage",
          "Storage",
          "Storage",
          "Storage",
          "Storage",
          "Storage",
          "Storage",
          "Storage",
          "Storage",
          "Storage",
          "Storage",
          "Storage",
          "Storage",
          "Storage",
          "Storage",
          "Storage",
          "Storage",
          "Storage",
          "Storage",
          "Storage",
          "Storage",
          "Storage",
          "Storage",
          "Storage",
          "Storage",
          "Storage",
          "Storage",
          "Storage",
          "Storage",
          "Storage",
          "Storage",
          "Storage",
          "Storage",
          "Storage",
          "Storage",
          "Storage",
          "Storage",
          "Storage",
          "Storage",
          "Storage",
          "Storage",
          "Storage",
          "Storage",
          "Storage",
          "Storage",
          "Storage",
          "Storage",
          "Storage",
          "Storage",
          "Storage",
          "Storage",
          "Storage",
          "Storage",
          "Storage",
          "Storage",
          "Storage",
          "Storage",
          "Storage",
          "Storage",
          "Storage",
          "Storage",
          "Storage",
          "Storage",
          "Storage",
          "Storage",
          "Storage",
          "Storage",
          "Storage",
          "Storage",
          "Storage",
          "Storage",
          "Storage",
          "Storage",
          "Storage",
          "Storage",
          "Storage",
          "Storage",
          "Storage",
          "Storage",
          "Storage",
          "Storage",
          "Storage",
          "Storage",
          "Storage",
          "Storage",
          "Storage",
          "Storage",
          "Storage",
          "Storage",
          "Storage",
          "Storage",
          "Storage",
          "Storage",
          "Storage",
          "Storage",
          "Storage",
          "Storage",
          "Storage",
          "Storage",
          "Storage",
          "Storage",
          "Storage",
          "Storage",
          "Storage",
          "Storage",
          "Storage",
          "Storage",
          "Storage",
          "Storage",
          "Storage",
          "Storage",
          "Storage",
          "Storage",
          "Storage",
          "Storage",
          "Storage",
          "Storage",
          "Storage",
          "Storage",
          "Storage",
          "Storage",
          "Storage",
          "Storage",
          "Storage",
          "Storage",
          "Storage",
          "Storage",
          "Storage",
          "Storage",
          "Storage",
          "Storage",
          "Storage",
          "Storage",
          "Storage",
          "Storage",
          "Storage",
          "Storage",
          "Storage",
          "Storage",
          "Storage",
          "Storage",
          "Storage",
          "Storage",
          "Storage",
          "Storage",
          "Storage",
          "Storage",
          "Storage",
          "Storage",
          "Storage",
          "Storage",
          "Storage",
          "Storage",
          "Storage",
          "Storage",
          "Storage",
          "Storage",
          "Storage",
          "Storage",
          "Storage",
          "Storage",
          "Storage",
          "Storage",
          "Storage",
          "Storage",
          "Storage",
          "Storage",
          "Storage",
          "Storage",
          "Storage",
          "Storage",
          "Storage",
          "Storage",
          "Storage",
          "Storage",
          "Storage",
          "Storage",
          "Storage",
          "Storage",
          "Storage",
          "Storage",
          "Storage",
          "Storage",
          "Storage",
          "Storage",
          "Storage",
          "Storage",
          "Storage",
          "Storage",
          "Storage",
          "Storage",
          "Storage",
          "Storage",
          "Storage",
          "Storage",
          "Storage",
          "Storage",
          "Storage",
          "Storage",
          "Storage",
          "Storage",
          "Storage",
          "Storage",
          "Storage",
          "Storage",
          "Storage",
          "Storage",
          "Storage",
          "Storage",
          "Storage",
          "Storage",
          "Storage",
          "Storage",
          "Storage",
          "Storage",
          "Storage",
          "Storage",
          "Storage",
          "Storage",
          "Storage",
          "Storage",
          "Storage",
          "Storage",
          "Storage",
          "Storage",
          "Storage",
          "Storage",
          "Storage",
          "Storage",
          "Storage",
          "Storage",
          "Storage",
          "Storage",
          "Storage",
          "Storage",
          "Storage",
          "Storage",
          "Storage",
          "Storage",
          "Storage",
          "Storage",
          "Storage",
          "Storage",
          "Storage",
          "Storage",
          "Storage",
          "Storage",
          "Storage",
          "Storage",
          "Storage",
          "Storage",
          "Storage",
          "Storage",
          "Storage",
          "Storage",
          "Storage",
          "Storage",
          "Storage",
          "Storage",
          "Storage",
          "Storage",
          "Storage",
          "Storage",
          "Storage",
          "Storage",
          "Storage",
          "Storage",
          "Storage",
          "Storage",
          "Storage",
          "Storage",
          "Storage",
          "Storage",
          "Storage",
          "Storage",
          "Storage",
          "Storage",
          "Storage",
          "Storage",
          "Storage",
          "Storage",
          "Storage",
          "Storage",
          "Storage",
          "Storage",
          "Storage",
          "Storage",
          "Storage",
          "Storage",
          "Storage",
          "Storage",
          "Storage",
          "Storage",
          "Storage",
          "Storage",
          "Storage",
          "Storage",
          "Storage",
          "Storage",
          "Storage",
          "Storage",
          "Storage",
          "Storage",
          "Storage",
          "Storage",
          "Storage",
          "Storage",
          "Storage",
          "Storage",
          "Storage",
          "Storage",
          "Storage",
          "Storage",
          "Storage",
          "Storage",
          "Storage",
          "Storage",
          "Storage",
          "Storage",
          "Storage",
          "Storage",
          "Storage",
          "Storage",
          "Storage",
          "Storage",
          "Storage",
          "Storage",
          "Storage",
          "Storage",
          "Storage",
          "Storage",
          "Storage",
          "Storage",
          "Storage",
          "Storage",
          "Storage",
          "Storage",
          "Storage",
          "Storage",
          "Storage",
          "Storage",
          "Storage",
          "Storage",
          "Storage",
          "Storage",
          "Storage",
          "Storage",
          "Storage",
          "Storage",
          "Storage",
          "Storage",
          "Storage",
          "Storage",
          "Storage",
          "Storage",
          "Storage",
          "Storage",
          "Storage",
          "Storage",
          "Storage",
          "Storage",
          "Storage",
          "Storage",
          "Storage",
          "Storage",
          "Storage",
          "Storage",
          "Storage",
          "Storage",
          "Storage",
          "Storage",
          "Storage",
          "Storage",
          "Storage",
          "Storage",
          "Storage",
          "Storage",
          "Storage",
          "Storage",
          "Storage",
          "Storage",
          "Storage",
          "Storage",
          "Storage",
          "Storage",
          "Storage",
          "Storage",
          "Storage",
          "Storage",
          "Storage",
          "Storage",
          "Storage",
          "Storage",
          "Storage",
          "Storage",
          "Storage",
          "Storage",
          "Storage",
          "Storage",
          "Storage",
          "Storage",
          "Storage",
          "Storage",
          "Storage",
          "Storage",
          "Storage",
          "Storage",
          "Storage",
          "Storage",
          "Storage",
          "Storage",
          "Storage",
          "Storage",
          "Storage",
          "Storage",
          "Storage",
          "Storage",
          "Storage",
          "Storage",
          "Storage",
          "Storage",
          "Storage",
          "Storage",
          "Storage",
          "Storage",
          "Storage",
          "Storage",
          "Storage",
          "Storage",
          "Storage",
          "Storage",
          "Storage",
          "Storage",
          "Storage",
          "Storage",
          "Storage",
          "Storage",
          "Storage",
          "Storage",
          "Storage",
          "Storage",
          "Storage",
          "Storage",
          "Storage",
          "Storage",
          "Storage",
          "Storage",
          "Storage",
          "Storage",
          "Storage",
          "Storage",
          "Storage",
          "Storage",
          "Storage",
          "Storage",
          "Storage",
          "Storage",
          "Storage",
          "Storage",
          "Storage",
          "Storage",
          "Storage",
          "Storage",
          "Storage",
          "Storage",
          "Storage",
          "Storage",
          "Storage",
          "Storage",
          "Storage",
          "Storage",
          "Storage",
          "Storage",
          "Storage",
          "Storage",
          "Storage",
          "Storage",
          "Storage",
          "Storage",
          "Storage",
          "Storage",
          "Storage",
          "Storage",
          "Storage",
          "Storage",
          "Storage",
          "Storage",
          "Storage",
          "Storage",
          "Storage",
          "Storage",
          "Storage",
          "Storage",
          "Storage",
          "Storage",
          "Storage",
          "Storage",
          "Storage",
          "Storage",
          "Storage",
          "Storage",
          "Storage",
          "Storage",
          "Storage",
          "Storage",
          "Storage",
          "Storage",
          "Storage",
          "Storage",
          "Storage",
          "Storage",
          "Storage",
          "Storage",
          "Storage",
          "Storage",
          "Storage",
          "Storage",
          "Storage",
          "Storage",
          "Storage",
          "Storage",
          "Storage",
          "Storage",
          "Storage",
          "Storage",
          "Storage",
          "Storage",
          "Storage",
          "Storage",
          "Storage",
          "Storage",
          "Storage",
          "Storage",
          "Storage",
          "Storage",
          "Storage",
          "Storage",
          "Storage",
          "Storage",
          "Storage",
          "Storage",
          "Storage",
          "Storage",
          "Storage",
          "Storage",
          "Storage",
          "Storage",
          "Storage",
          "Storage",
          "Storage",
          "Storage",
          "Storage",
          "Storage",
          "Storage",
          "Storage",
          "Storage",
          "Storage",
          "Storage",
          "Storage",
          "Storage",
          "Storage",
          "Storage",
          "Storage",
          "Storage",
          "Storage",
          "Storage",
          "Storage",
          "Storage",
          "Storage",
          "Storage",
          "Storage",
          "Storage",
          "Storage",
          "Storage",
          "Storage",
          "Storage",
          "Storage",
          "Storage",
          "Storage",
          "Storage",
          "Storage",
          "Storage",
          "Storage",
          "Storage",
          "Storage",
          "Storage",
          "Storage",
          "Storage",
          "Storage",
          "Storage",
          "Storage",
          "Storage",
          "Storage",
          "Storage",
          "Storage",
          "Storage",
          "Storage",
          "Storage",
          "Storage",
          "Storage",
          "Storage",
          "Storage",
          "Storage",
          "Storage",
          "Storage",
          "Storage",
          "Storage",
          "Storage",
          "Storage",
          "Storage",
          "Storage",
          "Storage",
          "Storage",
          "Storage",
          "Storage",
          "Storage",
          "Storage",
          "Storage",
          "Storage",
          "Storage",
          "Storage",
          "Storage",
          "Storage",
          "Storage",
          "Storage",
          "Storage",
          "Storage",
          "Storage",
          "Storage",
          "Storage",
          "Storage",
          "Storage",
          "Storage",
          "Storage",
          "Storage",
          "Storage",
          "Storage",
          "Storage",
          "Storage",
          "Storage",
          "Storage",
          "Storage",
          "Storage",
          "Storage",
          "Storage",
          "Storage",
          "Storage",
          "Storage",
          "Storage",
          "Storage",
          "Storage",
          "Storage",
          "Storage",
          "Storage",
          "Storage",
          "Storage",
          "Storage",
          "Storage",
          "Storage",
          "Storage",
          "Storage",
          "Storage",
          "Storage",
          "Storage",
          "Storage",
          "Storage",
          "Storage",
          "Storage",
          "Storage",
          "Storage",
          "Storage",
          "Storage",
          "Storage",
          "Storage",
          "Storage",
          "Storage",
          "Storage",
          "Storage",
          "Storage",
          "Storage",
          "Storage",
          "Storage",
          "Storage",
          "Storage",
          "Storage",
          "Storage",
          "Storage",
          "Storage",
          "Storage",
          "Storage",
          "Storage",
          "Storage",
          "Storage",
          "Storage",
          "Storage",
          "Storage",
          "Storage",
          "Storage",
          "Storage",
          "Storage",
          "Storage",
          "Storage",
          "Storage",
          "Storage",
          "Storage",
          "Storage",
          "Storage",
          "Storage",
          "Storage",
          "Storage",
          "Storage",
          "Storage",
          "Storage",
          "Storage",
          "Storage",
          "Storage",
          "Storage",
          "Storage",
          "Storage",
          "Storage",
          "Storage",
          "Storage",
          "Storage",
          "Storage",
          "Storage",
          "Storage",
          "Storage",
          "Storage",
          "Storage",
          "Storage",
          "Storage",
          "Storage",
          "Storage",
          "Storage",
          "Storage",
          "Storage",
          "Storage",
          "Storage",
          "Storage",
          "Storage",
          "Storage",
          "Storage",
          "Storage",
          "Storage",
          "Storage",
          "Storage",
          "Storage",
          "Storage",
          "Storage",
          "Storage",
          "Storage",
          "Storage",
          "Storage",
          "Storage",
          "Storage",
          "Storage",
          "Storage",
          "Storage",
          "Storage",
          "Storage",
          "Storage",
          "Storage",
          "Storage",
          "Storage",
          "Storage",
          "Storage",
          "Storage",
          "Storage",
          "Storage",
          "Storage",
          "Storage",
          "Storage",
          "Storage",
          "Storage",
          "Storage",
          "Storage",
          "Storage",
          "Storage",
          "Storage",
          "Storage",
          "Storage",
          "Storage",
          "Storage",
          "Storage",
          "Storage",
          "Storage",
          "Storage",
          "Storage",
          "Storage",
          "Storage",
          "Storage",
          "Storage",
          "Storage",
          "Storage",
          "Storage",
          "Storage",
          "Storage",
          "Storage",
          "Storage",
          "Storage",
          "Storage",
          "Storage",
          "Storage",
          "Storage",
          "Storage",
          "Storage",
          "Storage",
          "Storage",
          "Storage",
          "Storage",
          "Storage",
          "Storage",
          "Storage",
          "Storage",
          "Storage",
          "Storage",
          "Storage",
          "Storage",
          "Storage",
          "Storage",
          "Storage",
          "Storage",
          "Storage",
          "Storage",
          "Storage",
          "Storage",
          "Storage",
          "Storage",
          "Storage",
          "Storage",
          "Storage",
          "Storage",
          "Storage",
          "Storage",
          "Storage",
          "Storage",
          "Storage",
          "Storage",
          "Storage",
          "Storage",
          "Storage",
          "Storage",
          "Storage",
          "Storage",
          "Storage",
          "Storage",
          "Storage",
          "Storage",
          "Storage",
          "Storage",
          "Storage",
          "Storage",
          "Storage",
          "Storage",
          "Storage",
          "Storage",
          "Storage",
          "Storage",
          "Storage",
          "Storage",
          "Storage",
          "Storage",
          "Storage",
          "Storage",
          "Storage",
          "Storage",
          "Storage",
          "Storage",
          "Storage",
          "Storage",
          "Storage",
          "Storage",
          "Storage",
          "Storage",
          "Storage",
          "Storage",
          "Storage",
          "Storage",
          "Storage",
          "Storage",
          "Storage",
          "Storage",
          "Storage",
          "Storage",
          "Storage",
          "Storage",
          "Storage",
          "Storage",
          "Storage",
          "Storage",
          "Storage",
          "Storage",
          "Storage",
          "Storage",
          "Storage",
          "Storage",
          "Storage",
          "Storage",
          "Storage",
          "Storage",
          "Storage",
          "Storage",
          "Storage",
          "Storage",
          "Storage",
          "Storage",
          "Storage",
          "Storage",
          "Storage",
          "Storage",
          "Storage",
          "Storage",
          "Storage",
          "Storage",
          "Storage",
          "Storage",
          "Storage",
          "Storage",
          "Storage",
          "Storage",
          "Storage",
          "Storage",
          "Storage",
          "Storage",
          "Storage",
          "Storage",
          "Storage",
          "Storage",
          "Storage",
          "Storage",
          "Storage",
          "Storage",
          "Storage",
          "Storage",
          "Storage",
          "Storage",
          "Storage",
          "Storage",
          "Storage",
          "Storage",
          "Storage",
          "Storage",
          "Storage",
          "Storage",
          "Storage",
          "Storage",
          "Storage",
          "Storage",
          "Storage",
          "Storage",
          "Storage",
          "Storage",
          "Storage",
          "Storage",
          "Storage",
          "Storage",
          "Storage",
          "Storage",
          "Storage",
          "Storage",
          "Storage",
          "Storage",
          "Storage",
          "Storage",
          "Storage",
          "Storage",
          "Storage",
          "Storage",
          "Storage",
          "Storage",
          "Storage",
          "Storage",
          "Storage",
          "Storage",
          "Storage",
          "Storage",
          "Storage",
          "Storage",
          "Storage",
          "Storage",
          "Storage",
          "Storage",
          "Storage",
          "Storage",
          "Storage",
          "Storage",
          "Storage",
          "Storage",
          "Storage",
          "Storage",
          "Storage",
          "Storage",
          "Storage",
          "Storage",
          "Storage",
          "Storage",
          "Storage",
          "Storage",
          "Storage",
          "Storage",
          "Storage",
          "Storage",
          "Storage",
          "Storage",
          "Storage",
          "Storage",
          "Storage",
          "Storage",
          "Storage",
          "Storage",
          "Storage",
          "Storage",
          "Storage",
          "Storage",
          "Storage",
          "Storage",
          "Storage",
          "Storage",
          "Storage",
          "Storage",
          "Storage",
          "Storage",
          "Storage",
          "Storage",
          "Storage",
          "Storage",
          "Storage",
          "Storage",
          "Storage",
          "Storage",
          "Storage",
          "Storage",
          "Storage",
          "Storage",
          "Storage",
          "Storage",
          "Storage",
          "Storage",
          "Storage",
          "Storage",
          "Storage",
          "Storage",
          "Storage",
          "Storage",
          "Storage",
          "Storage",
          "Storage",
          "Storage",
          "Storage",
          "Storage",
          "Storage",
          "Storage",
          "Storage",
          "Storage",
          "Storage",
          "Storage",
          "Storage",
          "Storage",
          "Storage",
          "Storage",
          "Storage",
          "Storage",
          "Storage",
          "Storage",
          "Storage",
          "Storage",
          "Storage",
          "Storage",
          "Storage",
          "Storage",
          "Storage",
          "Storage",
          "Storage",
          "Storage",
          "Storage",
          "Storage",
          "Storage",
          "Storage",
          "Storage",
          "Storage",
          "Storage",
          "Storage",
          "Storage",
          "Storage",
          "Storage",
          "Storage",
          "Storage",
          "Storage",
          "Storage",
          "Storage",
          "Storage",
          "Storage",
          "Storage",
          "Storage",
          "Storage",
          "Storage",
          "Storage",
          "Storage",
          "Storage",
          "Storage",
          "Storage",
          "Storage",
          "Storage",
          "Storage",
          "Storage",
          "Storage",
          "Storage",
          "Storage",
          "Storage",
          "Storage",
          "Storage",
          "Storage",
          "Storage",
          "Storage",
          "Storage",
          "Storage",
          "Storage",
          "Storage",
          "Storage",
          "Storage",
          "Storage",
          "Storage",
          "Storage",
          "Storage",
          "Storage",
          "Storage",
          "Storage",
          "Storage",
          "Storage",
          "Storage",
          "Storage",
          "Storage",
          "Storage",
          "Storage",
          "Storage",
          "Storage",
          "Storage",
          "Storage",
          "Storage",
          "Storage",
          "Storage",
          "Storage",
          "Storage",
          "Storage",
          "Storage",
          "Storage",
          "Storage",
          "Storage",
          "Storage",
          "Storage",
          "Storage",
          "Storage",
          "Storage",
          "Storage",
          "Storage",
          "Storage",
          "Storage",
          "Storage",
          "Storage",
          "Storage",
          "Storage",
          "Storage",
          "Storage",
          "Storage",
          "Storage",
          "Storage",
          "Storage",
          "Storage",
          "Storage",
          "Storage",
          "Storage",
          "Storage",
          "Storage",
          "Storage",
          "Storage",
          "Storage",
          "Storage",
          "Storage",
          "Storage",
          "Storage",
          "Storage",
          "Storage",
          "Storage",
          "Storage",
          "Storage",
          "Storage",
          "Storage"
         ],
         "y0": " ",
         "yaxis": "y"
        }
       ],
       "layout": {
        "boxmode": "group",
        "legend": {
         "tracegroupgap": 0
        },
        "template": {
         "data": {
          "bar": [
           {
            "error_x": {
             "color": "#2a3f5f"
            },
            "error_y": {
             "color": "#2a3f5f"
            },
            "marker": {
             "line": {
              "color": "#E5ECF6",
              "width": 0.5
             },
             "pattern": {
              "fillmode": "overlay",
              "size": 10,
              "solidity": 0.2
             }
            },
            "type": "bar"
           }
          ],
          "barpolar": [
           {
            "marker": {
             "line": {
              "color": "#E5ECF6",
              "width": 0.5
             },
             "pattern": {
              "fillmode": "overlay",
              "size": 10,
              "solidity": 0.2
             }
            },
            "type": "barpolar"
           }
          ],
          "carpet": [
           {
            "aaxis": {
             "endlinecolor": "#2a3f5f",
             "gridcolor": "white",
             "linecolor": "white",
             "minorgridcolor": "white",
             "startlinecolor": "#2a3f5f"
            },
            "baxis": {
             "endlinecolor": "#2a3f5f",
             "gridcolor": "white",
             "linecolor": "white",
             "minorgridcolor": "white",
             "startlinecolor": "#2a3f5f"
            },
            "type": "carpet"
           }
          ],
          "choropleth": [
           {
            "colorbar": {
             "outlinewidth": 0,
             "ticks": ""
            },
            "type": "choropleth"
           }
          ],
          "contour": [
           {
            "colorbar": {
             "outlinewidth": 0,
             "ticks": ""
            },
            "colorscale": [
             [
              0,
              "#0d0887"
             ],
             [
              0.1111111111111111,
              "#46039f"
             ],
             [
              0.2222222222222222,
              "#7201a8"
             ],
             [
              0.3333333333333333,
              "#9c179e"
             ],
             [
              0.4444444444444444,
              "#bd3786"
             ],
             [
              0.5555555555555556,
              "#d8576b"
             ],
             [
              0.6666666666666666,
              "#ed7953"
             ],
             [
              0.7777777777777778,
              "#fb9f3a"
             ],
             [
              0.8888888888888888,
              "#fdca26"
             ],
             [
              1,
              "#f0f921"
             ]
            ],
            "type": "contour"
           }
          ],
          "contourcarpet": [
           {
            "colorbar": {
             "outlinewidth": 0,
             "ticks": ""
            },
            "type": "contourcarpet"
           }
          ],
          "heatmap": [
           {
            "colorbar": {
             "outlinewidth": 0,
             "ticks": ""
            },
            "colorscale": [
             [
              0,
              "#0d0887"
             ],
             [
              0.1111111111111111,
              "#46039f"
             ],
             [
              0.2222222222222222,
              "#7201a8"
             ],
             [
              0.3333333333333333,
              "#9c179e"
             ],
             [
              0.4444444444444444,
              "#bd3786"
             ],
             [
              0.5555555555555556,
              "#d8576b"
             ],
             [
              0.6666666666666666,
              "#ed7953"
             ],
             [
              0.7777777777777778,
              "#fb9f3a"
             ],
             [
              0.8888888888888888,
              "#fdca26"
             ],
             [
              1,
              "#f0f921"
             ]
            ],
            "type": "heatmap"
           }
          ],
          "histogram": [
           {
            "marker": {
             "pattern": {
              "fillmode": "overlay",
              "size": 10,
              "solidity": 0.2
             }
            },
            "type": "histogram"
           }
          ],
          "histogram2d": [
           {
            "colorbar": {
             "outlinewidth": 0,
             "ticks": ""
            },
            "colorscale": [
             [
              0,
              "#0d0887"
             ],
             [
              0.1111111111111111,
              "#46039f"
             ],
             [
              0.2222222222222222,
              "#7201a8"
             ],
             [
              0.3333333333333333,
              "#9c179e"
             ],
             [
              0.4444444444444444,
              "#bd3786"
             ],
             [
              0.5555555555555556,
              "#d8576b"
             ],
             [
              0.6666666666666666,
              "#ed7953"
             ],
             [
              0.7777777777777778,
              "#fb9f3a"
             ],
             [
              0.8888888888888888,
              "#fdca26"
             ],
             [
              1,
              "#f0f921"
             ]
            ],
            "type": "histogram2d"
           }
          ],
          "histogram2dcontour": [
           {
            "colorbar": {
             "outlinewidth": 0,
             "ticks": ""
            },
            "colorscale": [
             [
              0,
              "#0d0887"
             ],
             [
              0.1111111111111111,
              "#46039f"
             ],
             [
              0.2222222222222222,
              "#7201a8"
             ],
             [
              0.3333333333333333,
              "#9c179e"
             ],
             [
              0.4444444444444444,
              "#bd3786"
             ],
             [
              0.5555555555555556,
              "#d8576b"
             ],
             [
              0.6666666666666666,
              "#ed7953"
             ],
             [
              0.7777777777777778,
              "#fb9f3a"
             ],
             [
              0.8888888888888888,
              "#fdca26"
             ],
             [
              1,
              "#f0f921"
             ]
            ],
            "type": "histogram2dcontour"
           }
          ],
          "mesh3d": [
           {
            "colorbar": {
             "outlinewidth": 0,
             "ticks": ""
            },
            "type": "mesh3d"
           }
          ],
          "parcoords": [
           {
            "line": {
             "colorbar": {
              "outlinewidth": 0,
              "ticks": ""
             }
            },
            "type": "parcoords"
           }
          ],
          "pie": [
           {
            "automargin": true,
            "type": "pie"
           }
          ],
          "scatter": [
           {
            "fillpattern": {
             "fillmode": "overlay",
             "size": 10,
             "solidity": 0.2
            },
            "type": "scatter"
           }
          ],
          "scatter3d": [
           {
            "line": {
             "colorbar": {
              "outlinewidth": 0,
              "ticks": ""
             }
            },
            "marker": {
             "colorbar": {
              "outlinewidth": 0,
              "ticks": ""
             }
            },
            "type": "scatter3d"
           }
          ],
          "scattercarpet": [
           {
            "marker": {
             "colorbar": {
              "outlinewidth": 0,
              "ticks": ""
             }
            },
            "type": "scattercarpet"
           }
          ],
          "scattergeo": [
           {
            "marker": {
             "colorbar": {
              "outlinewidth": 0,
              "ticks": ""
             }
            },
            "type": "scattergeo"
           }
          ],
          "scattergl": [
           {
            "marker": {
             "colorbar": {
              "outlinewidth": 0,
              "ticks": ""
             }
            },
            "type": "scattergl"
           }
          ],
          "scattermap": [
           {
            "marker": {
             "colorbar": {
              "outlinewidth": 0,
              "ticks": ""
             }
            },
            "type": "scattermap"
           }
          ],
          "scattermapbox": [
           {
            "marker": {
             "colorbar": {
              "outlinewidth": 0,
              "ticks": ""
             }
            },
            "type": "scattermapbox"
           }
          ],
          "scatterpolar": [
           {
            "marker": {
             "colorbar": {
              "outlinewidth": 0,
              "ticks": ""
             }
            },
            "type": "scatterpolar"
           }
          ],
          "scatterpolargl": [
           {
            "marker": {
             "colorbar": {
              "outlinewidth": 0,
              "ticks": ""
             }
            },
            "type": "scatterpolargl"
           }
          ],
          "scatterternary": [
           {
            "marker": {
             "colorbar": {
              "outlinewidth": 0,
              "ticks": ""
             }
            },
            "type": "scatterternary"
           }
          ],
          "surface": [
           {
            "colorbar": {
             "outlinewidth": 0,
             "ticks": ""
            },
            "colorscale": [
             [
              0,
              "#0d0887"
             ],
             [
              0.1111111111111111,
              "#46039f"
             ],
             [
              0.2222222222222222,
              "#7201a8"
             ],
             [
              0.3333333333333333,
              "#9c179e"
             ],
             [
              0.4444444444444444,
              "#bd3786"
             ],
             [
              0.5555555555555556,
              "#d8576b"
             ],
             [
              0.6666666666666666,
              "#ed7953"
             ],
             [
              0.7777777777777778,
              "#fb9f3a"
             ],
             [
              0.8888888888888888,
              "#fdca26"
             ],
             [
              1,
              "#f0f921"
             ]
            ],
            "type": "surface"
           }
          ],
          "table": [
           {
            "cells": {
             "fill": {
              "color": "#EBF0F8"
             },
             "line": {
              "color": "white"
             }
            },
            "header": {
             "fill": {
              "color": "#C8D4E3"
             },
             "line": {
              "color": "white"
             }
            },
            "type": "table"
           }
          ]
         },
         "layout": {
          "annotationdefaults": {
           "arrowcolor": "#2a3f5f",
           "arrowhead": 0,
           "arrowwidth": 1
          },
          "autotypenumbers": "strict",
          "coloraxis": {
           "colorbar": {
            "outlinewidth": 0,
            "ticks": ""
           }
          },
          "colorscale": {
           "diverging": [
            [
             0,
             "#8e0152"
            ],
            [
             0.1,
             "#c51b7d"
            ],
            [
             0.2,
             "#de77ae"
            ],
            [
             0.3,
             "#f1b6da"
            ],
            [
             0.4,
             "#fde0ef"
            ],
            [
             0.5,
             "#f7f7f7"
            ],
            [
             0.6,
             "#e6f5d0"
            ],
            [
             0.7,
             "#b8e186"
            ],
            [
             0.8,
             "#7fbc41"
            ],
            [
             0.9,
             "#4d9221"
            ],
            [
             1,
             "#276419"
            ]
           ],
           "sequential": [
            [
             0,
             "#0d0887"
            ],
            [
             0.1111111111111111,
             "#46039f"
            ],
            [
             0.2222222222222222,
             "#7201a8"
            ],
            [
             0.3333333333333333,
             "#9c179e"
            ],
            [
             0.4444444444444444,
             "#bd3786"
            ],
            [
             0.5555555555555556,
             "#d8576b"
            ],
            [
             0.6666666666666666,
             "#ed7953"
            ],
            [
             0.7777777777777778,
             "#fb9f3a"
            ],
            [
             0.8888888888888888,
             "#fdca26"
            ],
            [
             1,
             "#f0f921"
            ]
           ],
           "sequentialminus": [
            [
             0,
             "#0d0887"
            ],
            [
             0.1111111111111111,
             "#46039f"
            ],
            [
             0.2222222222222222,
             "#7201a8"
            ],
            [
             0.3333333333333333,
             "#9c179e"
            ],
            [
             0.4444444444444444,
             "#bd3786"
            ],
            [
             0.5555555555555556,
             "#d8576b"
            ],
            [
             0.6666666666666666,
             "#ed7953"
            ],
            [
             0.7777777777777778,
             "#fb9f3a"
            ],
            [
             0.8888888888888888,
             "#fdca26"
            ],
            [
             1,
             "#f0f921"
            ]
           ]
          },
          "colorway": [
           "#636efa",
           "#EF553B",
           "#00cc96",
           "#ab63fa",
           "#FFA15A",
           "#19d3f3",
           "#FF6692",
           "#B6E880",
           "#FF97FF",
           "#FECB52"
          ],
          "font": {
           "color": "#2a3f5f"
          },
          "geo": {
           "bgcolor": "white",
           "lakecolor": "white",
           "landcolor": "#E5ECF6",
           "showlakes": true,
           "showland": true,
           "subunitcolor": "white"
          },
          "hoverlabel": {
           "align": "left"
          },
          "hovermode": "closest",
          "mapbox": {
           "style": "light"
          },
          "paper_bgcolor": "white",
          "plot_bgcolor": "#E5ECF6",
          "polar": {
           "angularaxis": {
            "gridcolor": "white",
            "linecolor": "white",
            "ticks": ""
           },
           "bgcolor": "#E5ECF6",
           "radialaxis": {
            "gridcolor": "white",
            "linecolor": "white",
            "ticks": ""
           }
          },
          "scene": {
           "xaxis": {
            "backgroundcolor": "#E5ECF6",
            "gridcolor": "white",
            "gridwidth": 2,
            "linecolor": "white",
            "showbackground": true,
            "ticks": "",
            "zerolinecolor": "white"
           },
           "yaxis": {
            "backgroundcolor": "#E5ECF6",
            "gridcolor": "white",
            "gridwidth": 2,
            "linecolor": "white",
            "showbackground": true,
            "ticks": "",
            "zerolinecolor": "white"
           },
           "zaxis": {
            "backgroundcolor": "#E5ECF6",
            "gridcolor": "white",
            "gridwidth": 2,
            "linecolor": "white",
            "showbackground": true,
            "ticks": "",
            "zerolinecolor": "white"
           }
          },
          "shapedefaults": {
           "line": {
            "color": "#2a3f5f"
           }
          },
          "ternary": {
           "aaxis": {
            "gridcolor": "white",
            "linecolor": "white",
            "ticks": ""
           },
           "baxis": {
            "gridcolor": "white",
            "linecolor": "white",
            "ticks": ""
           },
           "bgcolor": "#E5ECF6",
           "caxis": {
            "gridcolor": "white",
            "linecolor": "white",
            "ticks": ""
           }
          },
          "title": {
           "x": 0.05
          },
          "xaxis": {
           "automargin": true,
           "gridcolor": "white",
           "linecolor": "white",
           "ticks": "",
           "title": {
            "standoff": 15
           },
           "zerolinecolor": "white",
           "zerolinewidth": 2
          },
          "yaxis": {
           "automargin": true,
           "gridcolor": "white",
           "linecolor": "white",
           "ticks": "",
           "title": {
            "standoff": 15
           },
           "zerolinecolor": "white",
           "zerolinewidth": 2
          }
         }
        },
        "title": {
         "text": "Battery system sizes"
        },
        "xaxis": {
         "anchor": "y",
         "domain": [
          0,
          1
         ],
         "range": [
          0,
          300
         ],
         "title": {
          "text": "Capacity in kWh (storage) / kW (inverter)"
         }
        },
        "yaxis": {
         "anchor": "x",
         "domain": [
          0,
          1
         ],
         "title": {
          "text": ""
         }
        }
       }
      }
     },
     "metadata": {},
     "output_type": "display_data"
    }
   ],
   "source": [
    "storage_size = profiles_using_storage[\"storage_capacity_kwh\"].copy()\n",
    "storage_size.name = \"Storage capacity\"\n",
    "print(storage_size.describe().drop(\"count\").to_markdown())\n",
    "\n",
    "print(\"\")\n",
    "inverter_size = profiles_using_storage[\"inverter_capacity_kw\"].copy()\n",
    "inverter_size.name = \"Inverter capacity\"\n",
    "print(inverter_size.describe().drop(\"count\").to_markdown())\n",
    "\n",
    "\n",
    "fig_df = profiles_using_storage.copy()\n",
    "fig_df = fig_df.rename(columns={\n",
    "    \"storage_capacity_kwh\": \"Storage\",\n",
    "    \"inverter_capacity_kw\": \"Inverter\"})\n",
    "fig = px.box(\n",
    "    data_frame=fig_df,\n",
    "    x=[\"Inverter\", \"Storage\"],\n",
    "    title=\"Battery system sizes\")\n",
    "fig.update_layout(xaxis_title=\"Capacity in kWh (storage) / kW (inverter)\", yaxis_title=\"\")\n",
    "fig.update_xaxes(range=[0, 300])\n",
    "fig.show()"
   ]
  },
  {
   "cell_type": "markdown",
   "id": "3c0c0883",
   "metadata": {},
   "source": [
    "## System investments"
   ]
  },
  {
   "cell_type": "code",
   "execution_count": 93,
   "id": "00b3603a",
   "metadata": {},
   "outputs": [
    {
     "name": "stdout",
     "output_type": "stream",
     "text": [
      "|      |   Absolute storage investment |\n",
      "|:-----|------------------------------:|\n",
      "| mean |               35850.4         |\n",
      "| std  |              102135           |\n",
      "| min  |                   3.375       |\n",
      "| 25%  |                5349.35        |\n",
      "| 50%  |               13032.4         |\n",
      "| 75%  |               31887.1         |\n",
      "| max  |                   2.43364e+06 |\n",
      "\n",
      "|      |   Absolute inverter investment |\n",
      "|:-----|-------------------------------:|\n",
      "| mean |                18091.9         |\n",
      "| std  |               115301           |\n",
      "| min  |                    8.1         |\n",
      "| 25%  |                 3315.31        |\n",
      "| 50%  |                 6991.2         |\n",
      "| 75%  |                14775.4         |\n",
      "| max  |                    4.60554e+06 |\n"
     ]
    },
    {
     "data": {
      "application/vnd.plotly.v1+json": {
       "config": {
        "plotlyServerURL": "https://plot.ly"
       },
       "data": [
        {
         "alignmentgroup": "True",
         "hovertemplate": "value=%{x}<br>variable=%{y}<extra></extra>",
         "legendgroup": "",
         "marker": {
          "color": "#636efa"
         },
         "name": "",
         "notched": false,
         "offsetgroup": "",
         "orientation": "h",
         "showlegend": false,
         "type": "box",
         "x": {
          "bdata": "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",
          "dtype": "f8"
         },
         "x0": " ",
         "xaxis": "x",
         "y": [
          "Inverter",
          "Inverter",
          "Inverter",
          "Inverter",
          "Inverter",
          "Inverter",
          "Inverter",
          "Inverter",
          "Inverter",
          "Inverter",
          "Inverter",
          "Inverter",
          "Inverter",
          "Inverter",
          "Inverter",
          "Inverter",
          "Inverter",
          "Inverter",
          "Inverter",
          "Inverter",
          "Inverter",
          "Inverter",
          "Inverter",
          "Inverter",
          "Inverter",
          "Inverter",
          "Inverter",
          "Inverter",
          "Inverter",
          "Inverter",
          "Inverter",
          "Inverter",
          "Inverter",
          "Inverter",
          "Inverter",
          "Inverter",
          "Inverter",
          "Inverter",
          "Inverter",
          "Inverter",
          "Inverter",
          "Inverter",
          "Inverter",
          "Inverter",
          "Inverter",
          "Inverter",
          "Inverter",
          "Inverter",
          "Inverter",
          "Inverter",
          "Inverter",
          "Inverter",
          "Inverter",
          "Inverter",
          "Inverter",
          "Inverter",
          "Inverter",
          "Inverter",
          "Inverter",
          "Inverter",
          "Inverter",
          "Inverter",
          "Inverter",
          "Inverter",
          "Inverter",
          "Inverter",
          "Inverter",
          "Inverter",
          "Inverter",
          "Inverter",
          "Inverter",
          "Inverter",
          "Inverter",
          "Inverter",
          "Inverter",
          "Inverter",
          "Inverter",
          "Inverter",
          "Inverter",
          "Inverter",
          "Inverter",
          "Inverter",
          "Inverter",
          "Inverter",
          "Inverter",
          "Inverter",
          "Inverter",
          "Inverter",
          "Inverter",
          "Inverter",
          "Inverter",
          "Inverter",
          "Inverter",
          "Inverter",
          "Inverter",
          "Inverter",
          "Inverter",
          "Inverter",
          "Inverter",
          "Inverter",
          "Inverter",
          "Inverter",
          "Inverter",
          "Inverter",
          "Inverter",
          "Inverter",
          "Inverter",
          "Inverter",
          "Inverter",
          "Inverter",
          "Inverter",
          "Inverter",
          "Inverter",
          "Inverter",
          "Inverter",
          "Inverter",
          "Inverter",
          "Inverter",
          "Inverter",
          "Inverter",
          "Inverter",
          "Inverter",
          "Inverter",
          "Inverter",
          "Inverter",
          "Inverter",
          "Inverter",
          "Inverter",
          "Inverter",
          "Inverter",
          "Inverter",
          "Inverter",
          "Inverter",
          "Inverter",
          "Inverter",
          "Inverter",
          "Inverter",
          "Inverter",
          "Inverter",
          "Inverter",
          "Inverter",
          "Inverter",
          "Inverter",
          "Inverter",
          "Inverter",
          "Inverter",
          "Inverter",
          "Inverter",
          "Inverter",
          "Inverter",
          "Inverter",
          "Inverter",
          "Inverter",
          "Inverter",
          "Inverter",
          "Inverter",
          "Inverter",
          "Inverter",
          "Inverter",
          "Inverter",
          "Inverter",
          "Inverter",
          "Inverter",
          "Inverter",
          "Inverter",
          "Inverter",
          "Inverter",
          "Inverter",
          "Inverter",
          "Inverter",
          "Inverter",
          "Inverter",
          "Inverter",
          "Inverter",
          "Inverter",
          "Inverter",
          "Inverter",
          "Inverter",
          "Inverter",
          "Inverter",
          "Inverter",
          "Inverter",
          "Inverter",
          "Inverter",
          "Inverter",
          "Inverter",
          "Inverter",
          "Inverter",
          "Inverter",
          "Inverter",
          "Inverter",
          "Inverter",
          "Inverter",
          "Inverter",
          "Inverter",
          "Inverter",
          "Inverter",
          "Inverter",
          "Inverter",
          "Inverter",
          "Inverter",
          "Inverter",
          "Inverter",
          "Inverter",
          "Inverter",
          "Inverter",
          "Inverter",
          "Inverter",
          "Inverter",
          "Inverter",
          "Inverter",
          "Inverter",
          "Inverter",
          "Inverter",
          "Inverter",
          "Inverter",
          "Inverter",
          "Inverter",
          "Inverter",
          "Inverter",
          "Inverter",
          "Inverter",
          "Inverter",
          "Inverter",
          "Inverter",
          "Inverter",
          "Inverter",
          "Inverter",
          "Inverter",
          "Inverter",
          "Inverter",
          "Inverter",
          "Inverter",
          "Inverter",
          "Inverter",
          "Inverter",
          "Inverter",
          "Inverter",
          "Inverter",
          "Inverter",
          "Inverter",
          "Inverter",
          "Inverter",
          "Inverter",
          "Inverter",
          "Inverter",
          "Inverter",
          "Inverter",
          "Inverter",
          "Inverter",
          "Inverter",
          "Inverter",
          "Inverter",
          "Inverter",
          "Inverter",
          "Inverter",
          "Inverter",
          "Inverter",
          "Inverter",
          "Inverter",
          "Inverter",
          "Inverter",
          "Inverter",
          "Inverter",
          "Inverter",
          "Inverter",
          "Inverter",
          "Inverter",
          "Inverter",
          "Inverter",
          "Inverter",
          "Inverter",
          "Inverter",
          "Inverter",
          "Inverter",
          "Inverter",
          "Inverter",
          "Inverter",
          "Inverter",
          "Inverter",
          "Inverter",
          "Inverter",
          "Inverter",
          "Inverter",
          "Inverter",
          "Inverter",
          "Inverter",
          "Inverter",
          "Inverter",
          "Inverter",
          "Inverter",
          "Inverter",
          "Inverter",
          "Inverter",
          "Inverter",
          "Inverter",
          "Inverter",
          "Inverter",
          "Inverter",
          "Inverter",
          "Inverter",
          "Inverter",
          "Inverter",
          "Inverter",
          "Inverter",
          "Inverter",
          "Inverter",
          "Inverter",
          "Inverter",
          "Inverter",
          "Inverter",
          "Inverter",
          "Inverter",
          "Inverter",
          "Inverter",
          "Inverter",
          "Inverter",
          "Inverter",
          "Inverter",
          "Inverter",
          "Inverter",
          "Inverter",
          "Inverter",
          "Inverter",
          "Inverter",
          "Inverter",
          "Inverter",
          "Inverter",
          "Inverter",
          "Inverter",
          "Inverter",
          "Inverter",
          "Inverter",
          "Inverter",
          "Inverter",
          "Inverter",
          "Inverter",
          "Inverter",
          "Inverter",
          "Inverter",
          "Inverter",
          "Inverter",
          "Inverter",
          "Inverter",
          "Inverter",
          "Inverter",
          "Inverter",
          "Inverter",
          "Inverter",
          "Inverter",
          "Inverter",
          "Inverter",
          "Inverter",
          "Inverter",
          "Inverter",
          "Inverter",
          "Inverter",
          "Inverter",
          "Inverter",
          "Inverter",
          "Inverter",
          "Inverter",
          "Inverter",
          "Inverter",
          "Inverter",
          "Inverter",
          "Inverter",
          "Inverter",
          "Inverter",
          "Inverter",
          "Inverter",
          "Inverter",
          "Inverter",
          "Inverter",
          "Inverter",
          "Inverter",
          "Inverter",
          "Inverter",
          "Inverter",
          "Inverter",
          "Inverter",
          "Inverter",
          "Inverter",
          "Inverter",
          "Inverter",
          "Inverter",
          "Inverter",
          "Inverter",
          "Inverter",
          "Inverter",
          "Inverter",
          "Inverter",
          "Inverter",
          "Inverter",
          "Inverter",
          "Inverter",
          "Inverter",
          "Inverter",
          "Inverter",
          "Inverter",
          "Inverter",
          "Inverter",
          "Inverter",
          "Inverter",
          "Inverter",
          "Inverter",
          "Inverter",
          "Inverter",
          "Inverter",
          "Inverter",
          "Inverter",
          "Inverter",
          "Inverter",
          "Inverter",
          "Inverter",
          "Inverter",
          "Inverter",
          "Inverter",
          "Inverter",
          "Inverter",
          "Inverter",
          "Inverter",
          "Inverter",
          "Inverter",
          "Inverter",
          "Inverter",
          "Inverter",
          "Inverter",
          "Inverter",
          "Inverter",
          "Inverter",
          "Inverter",
          "Inverter",
          "Inverter",
          "Inverter",
          "Inverter",
          "Inverter",
          "Inverter",
          "Inverter",
          "Inverter",
          "Inverter",
          "Inverter",
          "Inverter",
          "Inverter",
          "Inverter",
          "Inverter",
          "Inverter",
          "Inverter",
          "Inverter",
          "Inverter",
          "Inverter",
          "Inverter",
          "Inverter",
          "Inverter",
          "Inverter",
          "Inverter",
          "Inverter",
          "Inverter",
          "Inverter",
          "Inverter",
          "Inverter",
          "Inverter",
          "Inverter",
          "Inverter",
          "Inverter",
          "Inverter",
          "Inverter",
          "Inverter",
          "Inverter",
          "Inverter",
          "Inverter",
          "Inverter",
          "Inverter",
          "Inverter",
          "Inverter",
          "Inverter",
          "Inverter",
          "Inverter",
          "Inverter",
          "Inverter",
          "Inverter",
          "Inverter",
          "Inverter",
          "Inverter",
          "Inverter",
          "Inverter",
          "Inverter",
          "Inverter",
          "Inverter",
          "Inverter",
          "Inverter",
          "Inverter",
          "Inverter",
          "Inverter",
          "Inverter",
          "Inverter",
          "Inverter",
          "Inverter",
          "Inverter",
          "Inverter",
          "Inverter",
          "Inverter",
          "Inverter",
          "Inverter",
          "Inverter",
          "Inverter",
          "Inverter",
          "Inverter",
          "Inverter",
          "Inverter",
          "Inverter",
          "Inverter",
          "Inverter",
          "Inverter",
          "Inverter",
          "Inverter",
          "Inverter",
          "Inverter",
          "Inverter",
          "Inverter",
          "Inverter",
          "Inverter",
          "Inverter",
          "Inverter",
          "Inverter",
          "Inverter",
          "Inverter",
          "Inverter",
          "Inverter",
          "Inverter",
          "Inverter",
          "Inverter",
          "Inverter",
          "Inverter",
          "Inverter",
          "Inverter",
          "Inverter",
          "Inverter",
          "Inverter",
          "Inverter",
          "Inverter",
          "Inverter",
          "Inverter",
          "Inverter",
          "Inverter",
          "Inverter",
          "Inverter",
          "Inverter",
          "Inverter",
          "Inverter",
          "Inverter",
          "Inverter",
          "Inverter",
          "Inverter",
          "Inverter",
          "Inverter",
          "Inverter",
          "Inverter",
          "Inverter",
          "Inverter",
          "Inverter",
          "Inverter",
          "Inverter",
          "Inverter",
          "Inverter",
          "Inverter",
          "Inverter",
          "Inverter",
          "Inverter",
          "Inverter",
          "Inverter",
          "Inverter",
          "Inverter",
          "Inverter",
          "Inverter",
          "Inverter",
          "Inverter",
          "Inverter",
          "Inverter",
          "Inverter",
          "Inverter",
          "Inverter",
          "Inverter",
          "Inverter",
          "Inverter",
          "Inverter",
          "Inverter",
          "Inverter",
          "Inverter",
          "Inverter",
          "Inverter",
          "Inverter",
          "Inverter",
          "Inverter",
          "Inverter",
          "Inverter",
          "Inverter",
          "Inverter",
          "Inverter",
          "Inverter",
          "Inverter",
          "Inverter",
          "Inverter",
          "Inverter",
          "Inverter",
          "Inverter",
          "Inverter",
          "Inverter",
          "Inverter",
          "Inverter",
          "Inverter",
          "Inverter",
          "Inverter",
          "Inverter",
          "Inverter",
          "Inverter",
          "Inverter",
          "Inverter",
          "Inverter",
          "Inverter",
          "Inverter",
          "Inverter",
          "Inverter",
          "Inverter",
          "Inverter",
          "Inverter",
          "Inverter",
          "Inverter",
          "Inverter",
          "Inverter",
          "Inverter",
          "Inverter",
          "Inverter",
          "Inverter",
          "Inverter",
          "Inverter",
          "Inverter",
          "Inverter",
          "Inverter",
          "Inverter",
          "Inverter",
          "Inverter",
          "Inverter",
          "Inverter",
          "Inverter",
          "Inverter",
          "Inverter",
          "Inverter",
          "Inverter",
          "Inverter",
          "Inverter",
          "Inverter",
          "Inverter",
          "Inverter",
          "Inverter",
          "Inverter",
          "Inverter",
          "Inverter",
          "Inverter",
          "Inverter",
          "Inverter",
          "Inverter",
          "Inverter",
          "Inverter",
          "Inverter",
          "Inverter",
          "Inverter",
          "Inverter",
          "Inverter",
          "Inverter",
          "Inverter",
          "Inverter",
          "Inverter",
          "Inverter",
          "Inverter",
          "Inverter",
          "Inverter",
          "Inverter",
          "Inverter",
          "Inverter",
          "Inverter",
          "Inverter",
          "Inverter",
          "Inverter",
          "Inverter",
          "Inverter",
          "Inverter",
          "Inverter",
          "Inverter",
          "Inverter",
          "Inverter",
          "Inverter",
          "Inverter",
          "Inverter",
          "Inverter",
          "Inverter",
          "Inverter",
          "Inverter",
          "Inverter",
          "Inverter",
          "Inverter",
          "Inverter",
          "Inverter",
          "Inverter",
          "Inverter",
          "Inverter",
          "Inverter",
          "Inverter",
          "Inverter",
          "Inverter",
          "Inverter",
          "Inverter",
          "Inverter",
          "Inverter",
          "Inverter",
          "Inverter",
          "Inverter",
          "Inverter",
          "Inverter",
          "Inverter",
          "Inverter",
          "Inverter",
          "Inverter",
          "Inverter",
          "Inverter",
          "Inverter",
          "Inverter",
          "Inverter",
          "Inverter",
          "Inverter",
          "Inverter",
          "Inverter",
          "Inverter",
          "Inverter",
          "Inverter",
          "Inverter",
          "Inverter",
          "Inverter",
          "Inverter",
          "Inverter",
          "Inverter",
          "Inverter",
          "Inverter",
          "Inverter",
          "Inverter",
          "Inverter",
          "Inverter",
          "Inverter",
          "Inverter",
          "Inverter",
          "Inverter",
          "Inverter",
          "Inverter",
          "Inverter",
          "Inverter",
          "Inverter",
          "Inverter",
          "Inverter",
          "Inverter",
          "Inverter",
          "Inverter",
          "Inverter",
          "Inverter",
          "Inverter",
          "Inverter",
          "Inverter",
          "Inverter",
          "Inverter",
          "Inverter",
          "Inverter",
          "Inverter",
          "Inverter",
          "Inverter",
          "Inverter",
          "Inverter",
          "Inverter",
          "Inverter",
          "Inverter",
          "Inverter",
          "Inverter",
          "Inverter",
          "Inverter",
          "Inverter",
          "Inverter",
          "Inverter",
          "Inverter",
          "Inverter",
          "Inverter",
          "Inverter",
          "Inverter",
          "Inverter",
          "Inverter",
          "Inverter",
          "Inverter",
          "Inverter",
          "Inverter",
          "Inverter",
          "Inverter",
          "Inverter",
          "Inverter",
          "Inverter",
          "Inverter",
          "Inverter",
          "Inverter",
          "Inverter",
          "Inverter",
          "Inverter",
          "Inverter",
          "Inverter",
          "Inverter",
          "Inverter",
          "Inverter",
          "Inverter",
          "Inverter",
          "Inverter",
          "Inverter",
          "Inverter",
          "Inverter",
          "Inverter",
          "Inverter",
          "Inverter",
          "Inverter",
          "Inverter",
          "Inverter",
          "Inverter",
          "Inverter",
          "Inverter",
          "Inverter",
          "Inverter",
          "Inverter",
          "Inverter",
          "Inverter",
          "Inverter",
          "Inverter",
          "Inverter",
          "Inverter",
          "Inverter",
          "Inverter",
          "Inverter",
          "Inverter",
          "Inverter",
          "Inverter",
          "Inverter",
          "Inverter",
          "Inverter",
          "Inverter",
          "Inverter",
          "Inverter",
          "Inverter",
          "Inverter",
          "Inverter",
          "Inverter",
          "Inverter",
          "Inverter",
          "Inverter",
          "Inverter",
          "Inverter",
          "Inverter",
          "Inverter",
          "Inverter",
          "Inverter",
          "Inverter",
          "Inverter",
          "Inverter",
          "Inverter",
          "Inverter",
          "Inverter",
          "Inverter",
          "Inverter",
          "Inverter",
          "Inverter",
          "Inverter",
          "Inverter",
          "Inverter",
          "Inverter",
          "Inverter",
          "Inverter",
          "Inverter",
          "Inverter",
          "Inverter",
          "Inverter",
          "Inverter",
          "Inverter",
          "Inverter",
          "Inverter",
          "Inverter",
          "Inverter",
          "Inverter",
          "Inverter",
          "Inverter",
          "Inverter",
          "Inverter",
          "Inverter",
          "Inverter",
          "Inverter",
          "Inverter",
          "Inverter",
          "Inverter",
          "Inverter",
          "Inverter",
          "Inverter",
          "Inverter",
          "Inverter",
          "Inverter",
          "Inverter",
          "Inverter",
          "Inverter",
          "Inverter",
          "Inverter",
          "Inverter",
          "Inverter",
          "Inverter",
          "Inverter",
          "Inverter",
          "Inverter",
          "Inverter",
          "Inverter",
          "Inverter",
          "Inverter",
          "Inverter",
          "Inverter",
          "Inverter",
          "Inverter",
          "Inverter",
          "Inverter",
          "Inverter",
          "Inverter",
          "Inverter",
          "Inverter",
          "Inverter",
          "Inverter",
          "Inverter",
          "Inverter",
          "Inverter",
          "Inverter",
          "Inverter",
          "Inverter",
          "Inverter",
          "Inverter",
          "Inverter",
          "Inverter",
          "Inverter",
          "Inverter",
          "Inverter",
          "Inverter",
          "Inverter",
          "Inverter",
          "Inverter",
          "Inverter",
          "Inverter",
          "Inverter",
          "Inverter",
          "Inverter",
          "Inverter",
          "Inverter",
          "Inverter",
          "Inverter",
          "Inverter",
          "Inverter",
          "Inverter",
          "Inverter",
          "Inverter",
          "Inverter",
          "Inverter",
          "Inverter",
          "Inverter",
          "Inverter",
          "Inverter",
          "Inverter",
          "Inverter",
          "Inverter",
          "Inverter",
          "Inverter",
          "Inverter",
          "Inverter",
          "Inverter",
          "Inverter",
          "Inverter",
          "Inverter",
          "Inverter",
          "Inverter",
          "Inverter",
          "Inverter",
          "Inverter",
          "Inverter",
          "Inverter",
          "Inverter",
          "Inverter",
          "Inverter",
          "Inverter",
          "Inverter",
          "Inverter",
          "Inverter",
          "Inverter",
          "Inverter",
          "Inverter",
          "Inverter",
          "Inverter",
          "Inverter",
          "Inverter",
          "Inverter",
          "Inverter",
          "Inverter",
          "Inverter",
          "Inverter",
          "Inverter",
          "Inverter",
          "Inverter",
          "Inverter",
          "Inverter",
          "Inverter",
          "Inverter",
          "Inverter",
          "Inverter",
          "Inverter",
          "Inverter",
          "Inverter",
          "Inverter",
          "Inverter",
          "Inverter",
          "Inverter",
          "Inverter",
          "Inverter",
          "Inverter",
          "Inverter",
          "Inverter",
          "Inverter",
          "Inverter",
          "Inverter",
          "Inverter",
          "Inverter",
          "Inverter",
          "Inverter",
          "Inverter",
          "Inverter",
          "Inverter",
          "Inverter",
          "Inverter",
          "Inverter",
          "Inverter",
          "Inverter",
          "Inverter",
          "Inverter",
          "Inverter",
          "Inverter",
          "Inverter",
          "Inverter",
          "Inverter",
          "Inverter",
          "Inverter",
          "Inverter",
          "Inverter",
          "Inverter",
          "Inverter",
          "Inverter",
          "Inverter",
          "Inverter",
          "Inverter",
          "Inverter",
          "Inverter",
          "Inverter",
          "Inverter",
          "Inverter",
          "Inverter",
          "Inverter",
          "Inverter",
          "Inverter",
          "Inverter",
          "Inverter",
          "Inverter",
          "Inverter",
          "Inverter",
          "Inverter",
          "Inverter",
          "Inverter",
          "Inverter",
          "Inverter",
          "Inverter",
          "Inverter",
          "Inverter",
          "Inverter",
          "Inverter",
          "Inverter",
          "Inverter",
          "Inverter",
          "Inverter",
          "Inverter",
          "Inverter",
          "Inverter",
          "Inverter",
          "Inverter",
          "Inverter",
          "Inverter",
          "Inverter",
          "Inverter",
          "Inverter",
          "Inverter",
          "Inverter",
          "Inverter",
          "Inverter",
          "Inverter",
          "Inverter",
          "Inverter",
          "Inverter",
          "Inverter",
          "Inverter",
          "Inverter",
          "Inverter",
          "Inverter",
          "Inverter",
          "Inverter",
          "Inverter",
          "Inverter",
          "Inverter",
          "Inverter",
          "Inverter",
          "Inverter",
          "Inverter",
          "Inverter",
          "Inverter",
          "Inverter",
          "Inverter",
          "Inverter",
          "Inverter",
          "Inverter",
          "Inverter",
          "Inverter",
          "Inverter",
          "Inverter",
          "Inverter",
          "Inverter",
          "Inverter",
          "Inverter",
          "Inverter",
          "Inverter",
          "Inverter",
          "Inverter",
          "Inverter",
          "Inverter",
          "Inverter",
          "Inverter",
          "Inverter",
          "Inverter",
          "Inverter",
          "Inverter",
          "Inverter",
          "Inverter",
          "Inverter",
          "Inverter",
          "Inverter",
          "Inverter",
          "Inverter",
          "Inverter",
          "Inverter",
          "Inverter",
          "Inverter",
          "Inverter",
          "Inverter",
          "Inverter",
          "Inverter",
          "Inverter",
          "Inverter",
          "Inverter",
          "Inverter",
          "Inverter",
          "Inverter",
          "Inverter",
          "Inverter",
          "Inverter",
          "Inverter",
          "Inverter",
          "Inverter",
          "Inverter",
          "Inverter",
          "Inverter",
          "Inverter",
          "Inverter",
          "Inverter",
          "Inverter",
          "Inverter",
          "Inverter",
          "Inverter",
          "Inverter",
          "Inverter",
          "Inverter",
          "Inverter",
          "Inverter",
          "Inverter",
          "Inverter",
          "Inverter",
          "Inverter",
          "Inverter",
          "Inverter",
          "Inverter",
          "Inverter",
          "Inverter",
          "Inverter",
          "Inverter",
          "Inverter",
          "Inverter",
          "Inverter",
          "Inverter",
          "Inverter",
          "Inverter",
          "Inverter",
          "Inverter",
          "Inverter",
          "Inverter",
          "Inverter",
          "Inverter",
          "Inverter",
          "Inverter",
          "Inverter",
          "Inverter",
          "Inverter",
          "Inverter",
          "Inverter",
          "Inverter",
          "Inverter",
          "Inverter",
          "Inverter",
          "Inverter",
          "Inverter",
          "Inverter",
          "Inverter",
          "Inverter",
          "Inverter",
          "Inverter",
          "Inverter",
          "Inverter",
          "Inverter",
          "Inverter",
          "Inverter",
          "Inverter",
          "Inverter",
          "Inverter",
          "Inverter",
          "Inverter",
          "Inverter",
          "Inverter",
          "Inverter",
          "Inverter",
          "Inverter",
          "Inverter",
          "Inverter",
          "Inverter",
          "Inverter",
          "Inverter",
          "Inverter",
          "Inverter",
          "Inverter",
          "Inverter",
          "Inverter",
          "Inverter",
          "Inverter",
          "Inverter",
          "Inverter",
          "Inverter",
          "Inverter",
          "Inverter",
          "Inverter",
          "Inverter",
          "Inverter",
          "Inverter",
          "Inverter",
          "Inverter",
          "Inverter",
          "Inverter",
          "Inverter",
          "Inverter",
          "Inverter",
          "Inverter",
          "Inverter",
          "Inverter",
          "Inverter",
          "Inverter",
          "Inverter",
          "Inverter",
          "Inverter",
          "Inverter",
          "Inverter",
          "Inverter",
          "Inverter",
          "Inverter",
          "Inverter",
          "Inverter",
          "Inverter",
          "Inverter",
          "Inverter",
          "Inverter",
          "Inverter",
          "Inverter",
          "Inverter",
          "Inverter",
          "Inverter",
          "Inverter",
          "Inverter",
          "Inverter",
          "Inverter",
          "Inverter",
          "Inverter",
          "Inverter",
          "Inverter",
          "Inverter",
          "Inverter",
          "Inverter",
          "Inverter",
          "Inverter",
          "Inverter",
          "Inverter",
          "Inverter",
          "Inverter",
          "Inverter",
          "Inverter",
          "Inverter",
          "Inverter",
          "Inverter",
          "Inverter",
          "Inverter",
          "Inverter",
          "Inverter",
          "Inverter",
          "Inverter",
          "Inverter",
          "Inverter",
          "Inverter",
          "Inverter",
          "Inverter",
          "Inverter",
          "Inverter",
          "Inverter",
          "Inverter",
          "Inverter",
          "Inverter",
          "Inverter",
          "Inverter",
          "Inverter",
          "Inverter",
          "Inverter",
          "Inverter",
          "Inverter",
          "Inverter",
          "Inverter",
          "Inverter",
          "Inverter",
          "Inverter",
          "Inverter",
          "Inverter",
          "Inverter",
          "Inverter",
          "Inverter",
          "Inverter",
          "Inverter",
          "Inverter",
          "Inverter",
          "Inverter",
          "Inverter",
          "Inverter",
          "Inverter",
          "Inverter",
          "Inverter",
          "Inverter",
          "Inverter",
          "Inverter",
          "Inverter",
          "Inverter",
          "Inverter",
          "Inverter",
          "Inverter",
          "Inverter",
          "Inverter",
          "Inverter",
          "Inverter",
          "Inverter",
          "Inverter",
          "Inverter",
          "Inverter",
          "Inverter",
          "Inverter",
          "Inverter",
          "Inverter",
          "Inverter",
          "Inverter",
          "Inverter",
          "Inverter",
          "Inverter",
          "Inverter",
          "Inverter",
          "Inverter",
          "Inverter",
          "Inverter",
          "Inverter",
          "Inverter",
          "Inverter",
          "Inverter",
          "Inverter",
          "Inverter",
          "Inverter",
          "Inverter",
          "Inverter",
          "Inverter",
          "Inverter",
          "Inverter",
          "Inverter",
          "Inverter",
          "Inverter",
          "Inverter",
          "Inverter",
          "Inverter",
          "Inverter",
          "Inverter",
          "Inverter",
          "Inverter",
          "Inverter",
          "Inverter",
          "Inverter",
          "Inverter",
          "Inverter",
          "Inverter",
          "Inverter",
          "Inverter",
          "Inverter",
          "Inverter",
          "Inverter",
          "Inverter",
          "Inverter",
          "Inverter",
          "Inverter",
          "Inverter",
          "Inverter",
          "Inverter",
          "Inverter",
          "Inverter",
          "Inverter",
          "Inverter",
          "Inverter",
          "Inverter",
          "Inverter",
          "Inverter",
          "Inverter",
          "Inverter",
          "Inverter",
          "Inverter",
          "Inverter",
          "Inverter",
          "Inverter",
          "Inverter",
          "Inverter",
          "Inverter",
          "Inverter",
          "Inverter",
          "Inverter",
          "Inverter",
          "Inverter",
          "Inverter",
          "Inverter",
          "Inverter",
          "Inverter",
          "Inverter",
          "Inverter",
          "Inverter",
          "Inverter",
          "Inverter",
          "Inverter",
          "Inverter",
          "Inverter",
          "Inverter",
          "Inverter",
          "Inverter",
          "Inverter",
          "Inverter",
          "Inverter",
          "Inverter",
          "Inverter",
          "Inverter",
          "Inverter",
          "Inverter",
          "Inverter",
          "Inverter",
          "Inverter",
          "Inverter",
          "Inverter",
          "Inverter",
          "Inverter",
          "Inverter",
          "Inverter",
          "Inverter",
          "Inverter",
          "Inverter",
          "Inverter",
          "Inverter",
          "Inverter",
          "Inverter",
          "Inverter",
          "Inverter",
          "Inverter",
          "Inverter",
          "Inverter",
          "Inverter",
          "Inverter",
          "Inverter",
          "Inverter",
          "Inverter",
          "Inverter",
          "Inverter",
          "Inverter",
          "Inverter",
          "Inverter",
          "Inverter",
          "Inverter",
          "Inverter",
          "Inverter",
          "Inverter",
          "Inverter",
          "Inverter",
          "Inverter",
          "Inverter",
          "Inverter",
          "Inverter",
          "Inverter",
          "Inverter",
          "Inverter",
          "Inverter",
          "Inverter",
          "Inverter",
          "Inverter",
          "Inverter",
          "Inverter",
          "Inverter",
          "Inverter",
          "Inverter",
          "Inverter",
          "Inverter",
          "Inverter",
          "Inverter",
          "Inverter",
          "Inverter",
          "Inverter",
          "Inverter",
          "Inverter",
          "Inverter",
          "Inverter",
          "Inverter",
          "Inverter",
          "Inverter",
          "Inverter",
          "Inverter",
          "Inverter",
          "Inverter",
          "Inverter",
          "Inverter",
          "Inverter",
          "Inverter",
          "Inverter",
          "Inverter",
          "Inverter",
          "Inverter",
          "Inverter",
          "Inverter",
          "Inverter",
          "Inverter",
          "Inverter",
          "Inverter",
          "Inverter",
          "Inverter",
          "Inverter",
          "Inverter",
          "Inverter",
          "Inverter",
          "Inverter",
          "Inverter",
          "Inverter",
          "Inverter",
          "Inverter",
          "Inverter",
          "Inverter",
          "Inverter",
          "Inverter",
          "Inverter",
          "Inverter",
          "Inverter",
          "Inverter",
          "Inverter",
          "Inverter",
          "Inverter",
          "Inverter",
          "Inverter",
          "Inverter",
          "Inverter",
          "Inverter",
          "Inverter",
          "Inverter",
          "Inverter",
          "Inverter",
          "Inverter",
          "Inverter",
          "Inverter",
          "Inverter",
          "Inverter",
          "Inverter",
          "Inverter",
          "Inverter",
          "Inverter",
          "Inverter",
          "Inverter",
          "Inverter",
          "Inverter",
          "Inverter",
          "Inverter",
          "Inverter",
          "Inverter",
          "Inverter",
          "Inverter",
          "Inverter",
          "Inverter",
          "Inverter",
          "Inverter",
          "Inverter",
          "Inverter",
          "Inverter",
          "Inverter",
          "Inverter",
          "Inverter",
          "Inverter",
          "Inverter",
          "Inverter",
          "Inverter",
          "Inverter",
          "Inverter",
          "Inverter",
          "Inverter",
          "Inverter",
          "Inverter",
          "Inverter",
          "Inverter",
          "Inverter",
          "Inverter",
          "Inverter",
          "Inverter",
          "Inverter",
          "Inverter",
          "Inverter",
          "Inverter",
          "Inverter",
          "Inverter",
          "Inverter",
          "Inverter",
          "Inverter",
          "Inverter",
          "Inverter",
          "Inverter",
          "Inverter",
          "Inverter",
          "Inverter",
          "Inverter",
          "Inverter",
          "Inverter",
          "Inverter",
          "Inverter",
          "Inverter",
          "Inverter",
          "Inverter",
          "Inverter",
          "Inverter",
          "Inverter",
          "Inverter",
          "Inverter",
          "Inverter",
          "Inverter",
          "Inverter",
          "Inverter",
          "Inverter",
          "Inverter",
          "Inverter",
          "Inverter",
          "Inverter",
          "Inverter",
          "Inverter",
          "Inverter",
          "Inverter",
          "Inverter",
          "Inverter",
          "Inverter",
          "Inverter",
          "Inverter",
          "Inverter",
          "Inverter",
          "Inverter",
          "Inverter",
          "Inverter",
          "Inverter",
          "Inverter",
          "Inverter",
          "Inverter",
          "Inverter",
          "Inverter",
          "Inverter",
          "Inverter",
          "Inverter",
          "Inverter",
          "Inverter",
          "Inverter",
          "Inverter",
          "Inverter",
          "Inverter",
          "Inverter",
          "Inverter",
          "Inverter",
          "Storage",
          "Storage",
          "Storage",
          "Storage",
          "Storage",
          "Storage",
          "Storage",
          "Storage",
          "Storage",
          "Storage",
          "Storage",
          "Storage",
          "Storage",
          "Storage",
          "Storage",
          "Storage",
          "Storage",
          "Storage",
          "Storage",
          "Storage",
          "Storage",
          "Storage",
          "Storage",
          "Storage",
          "Storage",
          "Storage",
          "Storage",
          "Storage",
          "Storage",
          "Storage",
          "Storage",
          "Storage",
          "Storage",
          "Storage",
          "Storage",
          "Storage",
          "Storage",
          "Storage",
          "Storage",
          "Storage",
          "Storage",
          "Storage",
          "Storage",
          "Storage",
          "Storage",
          "Storage",
          "Storage",
          "Storage",
          "Storage",
          "Storage",
          "Storage",
          "Storage",
          "Storage",
          "Storage",
          "Storage",
          "Storage",
          "Storage",
          "Storage",
          "Storage",
          "Storage",
          "Storage",
          "Storage",
          "Storage",
          "Storage",
          "Storage",
          "Storage",
          "Storage",
          "Storage",
          "Storage",
          "Storage",
          "Storage",
          "Storage",
          "Storage",
          "Storage",
          "Storage",
          "Storage",
          "Storage",
          "Storage",
          "Storage",
          "Storage",
          "Storage",
          "Storage",
          "Storage",
          "Storage",
          "Storage",
          "Storage",
          "Storage",
          "Storage",
          "Storage",
          "Storage",
          "Storage",
          "Storage",
          "Storage",
          "Storage",
          "Storage",
          "Storage",
          "Storage",
          "Storage",
          "Storage",
          "Storage",
          "Storage",
          "Storage",
          "Storage",
          "Storage",
          "Storage",
          "Storage",
          "Storage",
          "Storage",
          "Storage",
          "Storage",
          "Storage",
          "Storage",
          "Storage",
          "Storage",
          "Storage",
          "Storage",
          "Storage",
          "Storage",
          "Storage",
          "Storage",
          "Storage",
          "Storage",
          "Storage",
          "Storage",
          "Storage",
          "Storage",
          "Storage",
          "Storage",
          "Storage",
          "Storage",
          "Storage",
          "Storage",
          "Storage",
          "Storage",
          "Storage",
          "Storage",
          "Storage",
          "Storage",
          "Storage",
          "Storage",
          "Storage",
          "Storage",
          "Storage",
          "Storage",
          "Storage",
          "Storage",
          "Storage",
          "Storage",
          "Storage",
          "Storage",
          "Storage",
          "Storage",
          "Storage",
          "Storage",
          "Storage",
          "Storage",
          "Storage",
          "Storage",
          "Storage",
          "Storage",
          "Storage",
          "Storage",
          "Storage",
          "Storage",
          "Storage",
          "Storage",
          "Storage",
          "Storage",
          "Storage",
          "Storage",
          "Storage",
          "Storage",
          "Storage",
          "Storage",
          "Storage",
          "Storage",
          "Storage",
          "Storage",
          "Storage",
          "Storage",
          "Storage",
          "Storage",
          "Storage",
          "Storage",
          "Storage",
          "Storage",
          "Storage",
          "Storage",
          "Storage",
          "Storage",
          "Storage",
          "Storage",
          "Storage",
          "Storage",
          "Storage",
          "Storage",
          "Storage",
          "Storage",
          "Storage",
          "Storage",
          "Storage",
          "Storage",
          "Storage",
          "Storage",
          "Storage",
          "Storage",
          "Storage",
          "Storage",
          "Storage",
          "Storage",
          "Storage",
          "Storage",
          "Storage",
          "Storage",
          "Storage",
          "Storage",
          "Storage",
          "Storage",
          "Storage",
          "Storage",
          "Storage",
          "Storage",
          "Storage",
          "Storage",
          "Storage",
          "Storage",
          "Storage",
          "Storage",
          "Storage",
          "Storage",
          "Storage",
          "Storage",
          "Storage",
          "Storage",
          "Storage",
          "Storage",
          "Storage",
          "Storage",
          "Storage",
          "Storage",
          "Storage",
          "Storage",
          "Storage",
          "Storage",
          "Storage",
          "Storage",
          "Storage",
          "Storage",
          "Storage",
          "Storage",
          "Storage",
          "Storage",
          "Storage",
          "Storage",
          "Storage",
          "Storage",
          "Storage",
          "Storage",
          "Storage",
          "Storage",
          "Storage",
          "Storage",
          "Storage",
          "Storage",
          "Storage",
          "Storage",
          "Storage",
          "Storage",
          "Storage",
          "Storage",
          "Storage",
          "Storage",
          "Storage",
          "Storage",
          "Storage",
          "Storage",
          "Storage",
          "Storage",
          "Storage",
          "Storage",
          "Storage",
          "Storage",
          "Storage",
          "Storage",
          "Storage",
          "Storage",
          "Storage",
          "Storage",
          "Storage",
          "Storage",
          "Storage",
          "Storage",
          "Storage",
          "Storage",
          "Storage",
          "Storage",
          "Storage",
          "Storage",
          "Storage",
          "Storage",
          "Storage",
          "Storage",
          "Storage",
          "Storage",
          "Storage",
          "Storage",
          "Storage",
          "Storage",
          "Storage",
          "Storage",
          "Storage",
          "Storage",
          "Storage",
          "Storage",
          "Storage",
          "Storage",
          "Storage",
          "Storage",
          "Storage",
          "Storage",
          "Storage",
          "Storage",
          "Storage",
          "Storage",
          "Storage",
          "Storage",
          "Storage",
          "Storage",
          "Storage",
          "Storage",
          "Storage",
          "Storage",
          "Storage",
          "Storage",
          "Storage",
          "Storage",
          "Storage",
          "Storage",
          "Storage",
          "Storage",
          "Storage",
          "Storage",
          "Storage",
          "Storage",
          "Storage",
          "Storage",
          "Storage",
          "Storage",
          "Storage",
          "Storage",
          "Storage",
          "Storage",
          "Storage",
          "Storage",
          "Storage",
          "Storage",
          "Storage",
          "Storage",
          "Storage",
          "Storage",
          "Storage",
          "Storage",
          "Storage",
          "Storage",
          "Storage",
          "Storage",
          "Storage",
          "Storage",
          "Storage",
          "Storage",
          "Storage",
          "Storage",
          "Storage",
          "Storage",
          "Storage",
          "Storage",
          "Storage",
          "Storage",
          "Storage",
          "Storage",
          "Storage",
          "Storage",
          "Storage",
          "Storage",
          "Storage",
          "Storage",
          "Storage",
          "Storage",
          "Storage",
          "Storage",
          "Storage",
          "Storage",
          "Storage",
          "Storage",
          "Storage",
          "Storage",
          "Storage",
          "Storage",
          "Storage",
          "Storage",
          "Storage",
          "Storage",
          "Storage",
          "Storage",
          "Storage",
          "Storage",
          "Storage",
          "Storage",
          "Storage",
          "Storage",
          "Storage",
          "Storage",
          "Storage",
          "Storage",
          "Storage",
          "Storage",
          "Storage",
          "Storage",
          "Storage",
          "Storage",
          "Storage",
          "Storage",
          "Storage",
          "Storage",
          "Storage",
          "Storage",
          "Storage",
          "Storage",
          "Storage",
          "Storage",
          "Storage",
          "Storage",
          "Storage",
          "Storage",
          "Storage",
          "Storage",
          "Storage",
          "Storage",
          "Storage",
          "Storage",
          "Storage",
          "Storage",
          "Storage",
          "Storage",
          "Storage",
          "Storage",
          "Storage",
          "Storage",
          "Storage",
          "Storage",
          "Storage",
          "Storage",
          "Storage",
          "Storage",
          "Storage",
          "Storage",
          "Storage",
          "Storage",
          "Storage",
          "Storage",
          "Storage",
          "Storage",
          "Storage",
          "Storage",
          "Storage",
          "Storage",
          "Storage",
          "Storage",
          "Storage",
          "Storage",
          "Storage",
          "Storage",
          "Storage",
          "Storage",
          "Storage",
          "Storage",
          "Storage",
          "Storage",
          "Storage",
          "Storage",
          "Storage",
          "Storage",
          "Storage",
          "Storage",
          "Storage",
          "Storage",
          "Storage",
          "Storage",
          "Storage",
          "Storage",
          "Storage",
          "Storage",
          "Storage",
          "Storage",
          "Storage",
          "Storage",
          "Storage",
          "Storage",
          "Storage",
          "Storage",
          "Storage",
          "Storage",
          "Storage",
          "Storage",
          "Storage",
          "Storage",
          "Storage",
          "Storage",
          "Storage",
          "Storage",
          "Storage",
          "Storage",
          "Storage",
          "Storage",
          "Storage",
          "Storage",
          "Storage",
          "Storage",
          "Storage",
          "Storage",
          "Storage",
          "Storage",
          "Storage",
          "Storage",
          "Storage",
          "Storage",
          "Storage",
          "Storage",
          "Storage",
          "Storage",
          "Storage",
          "Storage",
          "Storage",
          "Storage",
          "Storage",
          "Storage",
          "Storage",
          "Storage",
          "Storage",
          "Storage",
          "Storage",
          "Storage",
          "Storage",
          "Storage",
          "Storage",
          "Storage",
          "Storage",
          "Storage",
          "Storage",
          "Storage",
          "Storage",
          "Storage",
          "Storage",
          "Storage",
          "Storage",
          "Storage",
          "Storage",
          "Storage",
          "Storage",
          "Storage",
          "Storage",
          "Storage",
          "Storage",
          "Storage",
          "Storage",
          "Storage",
          "Storage",
          "Storage",
          "Storage",
          "Storage",
          "Storage",
          "Storage",
          "Storage",
          "Storage",
          "Storage",
          "Storage",
          "Storage",
          "Storage",
          "Storage",
          "Storage",
          "Storage",
          "Storage",
          "Storage",
          "Storage",
          "Storage",
          "Storage",
          "Storage",
          "Storage",
          "Storage",
          "Storage",
          "Storage",
          "Storage",
          "Storage",
          "Storage",
          "Storage",
          "Storage",
          "Storage",
          "Storage",
          "Storage",
          "Storage",
          "Storage",
          "Storage",
          "Storage",
          "Storage",
          "Storage",
          "Storage",
          "Storage",
          "Storage",
          "Storage",
          "Storage",
          "Storage",
          "Storage",
          "Storage",
          "Storage",
          "Storage",
          "Storage",
          "Storage",
          "Storage",
          "Storage",
          "Storage",
          "Storage",
          "Storage",
          "Storage",
          "Storage",
          "Storage",
          "Storage",
          "Storage",
          "Storage",
          "Storage",
          "Storage",
          "Storage",
          "Storage",
          "Storage",
          "Storage",
          "Storage",
          "Storage",
          "Storage",
          "Storage",
          "Storage",
          "Storage",
          "Storage",
          "Storage",
          "Storage",
          "Storage",
          "Storage",
          "Storage",
          "Storage",
          "Storage",
          "Storage",
          "Storage",
          "Storage",
          "Storage",
          "Storage",
          "Storage",
          "Storage",
          "Storage",
          "Storage",
          "Storage",
          "Storage",
          "Storage",
          "Storage",
          "Storage",
          "Storage",
          "Storage",
          "Storage",
          "Storage",
          "Storage",
          "Storage",
          "Storage",
          "Storage",
          "Storage",
          "Storage",
          "Storage",
          "Storage",
          "Storage",
          "Storage",
          "Storage",
          "Storage",
          "Storage",
          "Storage",
          "Storage",
          "Storage",
          "Storage",
          "Storage",
          "Storage",
          "Storage",
          "Storage",
          "Storage",
          "Storage",
          "Storage",
          "Storage",
          "Storage",
          "Storage",
          "Storage",
          "Storage",
          "Storage",
          "Storage",
          "Storage",
          "Storage",
          "Storage",
          "Storage",
          "Storage",
          "Storage",
          "Storage",
          "Storage",
          "Storage",
          "Storage",
          "Storage",
          "Storage",
          "Storage",
          "Storage",
          "Storage",
          "Storage",
          "Storage",
          "Storage",
          "Storage",
          "Storage",
          "Storage",
          "Storage",
          "Storage",
          "Storage",
          "Storage",
          "Storage",
          "Storage",
          "Storage",
          "Storage",
          "Storage",
          "Storage",
          "Storage",
          "Storage",
          "Storage",
          "Storage",
          "Storage",
          "Storage",
          "Storage",
          "Storage",
          "Storage",
          "Storage",
          "Storage",
          "Storage",
          "Storage",
          "Storage",
          "Storage",
          "Storage",
          "Storage",
          "Storage",
          "Storage",
          "Storage",
          "Storage",
          "Storage",
          "Storage",
          "Storage",
          "Storage",
          "Storage",
          "Storage",
          "Storage",
          "Storage",
          "Storage",
          "Storage",
          "Storage",
          "Storage",
          "Storage",
          "Storage",
          "Storage",
          "Storage",
          "Storage",
          "Storage",
          "Storage",
          "Storage",
          "Storage",
          "Storage",
          "Storage",
          "Storage",
          "Storage",
          "Storage",
          "Storage",
          "Storage",
          "Storage",
          "Storage",
          "Storage",
          "Storage",
          "Storage",
          "Storage",
          "Storage",
          "Storage",
          "Storage",
          "Storage",
          "Storage",
          "Storage",
          "Storage",
          "Storage",
          "Storage",
          "Storage",
          "Storage",
          "Storage",
          "Storage",
          "Storage",
          "Storage",
          "Storage",
          "Storage",
          "Storage",
          "Storage",
          "Storage",
          "Storage",
          "Storage",
          "Storage",
          "Storage",
          "Storage",
          "Storage",
          "Storage",
          "Storage",
          "Storage",
          "Storage",
          "Storage",
          "Storage",
          "Storage",
          "Storage",
          "Storage",
          "Storage",
          "Storage",
          "Storage",
          "Storage",
          "Storage",
          "Storage",
          "Storage",
          "Storage",
          "Storage",
          "Storage",
          "Storage",
          "Storage",
          "Storage",
          "Storage",
          "Storage",
          "Storage",
          "Storage",
          "Storage",
          "Storage",
          "Storage",
          "Storage",
          "Storage",
          "Storage",
          "Storage",
          "Storage",
          "Storage",
          "Storage",
          "Storage",
          "Storage",
          "Storage",
          "Storage",
          "Storage",
          "Storage",
          "Storage",
          "Storage",
          "Storage",
          "Storage",
          "Storage",
          "Storage",
          "Storage",
          "Storage",
          "Storage",
          "Storage",
          "Storage",
          "Storage",
          "Storage",
          "Storage",
          "Storage",
          "Storage",
          "Storage",
          "Storage",
          "Storage",
          "Storage",
          "Storage",
          "Storage",
          "Storage",
          "Storage",
          "Storage",
          "Storage",
          "Storage",
          "Storage",
          "Storage",
          "Storage",
          "Storage",
          "Storage",
          "Storage",
          "Storage",
          "Storage",
          "Storage",
          "Storage",
          "Storage",
          "Storage",
          "Storage",
          "Storage",
          "Storage",
          "Storage",
          "Storage",
          "Storage",
          "Storage",
          "Storage",
          "Storage",
          "Storage",
          "Storage",
          "Storage",
          "Storage",
          "Storage",
          "Storage",
          "Storage",
          "Storage",
          "Storage",
          "Storage",
          "Storage",
          "Storage",
          "Storage",
          "Storage",
          "Storage",
          "Storage",
          "Storage",
          "Storage",
          "Storage",
          "Storage",
          "Storage",
          "Storage",
          "Storage",
          "Storage",
          "Storage",
          "Storage",
          "Storage",
          "Storage",
          "Storage",
          "Storage",
          "Storage",
          "Storage",
          "Storage",
          "Storage",
          "Storage",
          "Storage",
          "Storage",
          "Storage",
          "Storage",
          "Storage",
          "Storage",
          "Storage",
          "Storage",
          "Storage",
          "Storage",
          "Storage",
          "Storage",
          "Storage",
          "Storage",
          "Storage",
          "Storage",
          "Storage",
          "Storage",
          "Storage",
          "Storage",
          "Storage",
          "Storage",
          "Storage",
          "Storage",
          "Storage",
          "Storage",
          "Storage",
          "Storage",
          "Storage",
          "Storage",
          "Storage",
          "Storage",
          "Storage",
          "Storage",
          "Storage",
          "Storage",
          "Storage",
          "Storage",
          "Storage",
          "Storage",
          "Storage",
          "Storage",
          "Storage",
          "Storage",
          "Storage",
          "Storage",
          "Storage",
          "Storage",
          "Storage",
          "Storage",
          "Storage",
          "Storage",
          "Storage",
          "Storage",
          "Storage",
          "Storage",
          "Storage",
          "Storage",
          "Storage",
          "Storage",
          "Storage",
          "Storage",
          "Storage",
          "Storage",
          "Storage",
          "Storage",
          "Storage",
          "Storage",
          "Storage",
          "Storage",
          "Storage",
          "Storage",
          "Storage",
          "Storage",
          "Storage",
          "Storage",
          "Storage",
          "Storage",
          "Storage",
          "Storage",
          "Storage",
          "Storage",
          "Storage",
          "Storage",
          "Storage",
          "Storage",
          "Storage",
          "Storage",
          "Storage",
          "Storage",
          "Storage",
          "Storage",
          "Storage",
          "Storage",
          "Storage",
          "Storage",
          "Storage",
          "Storage",
          "Storage",
          "Storage",
          "Storage",
          "Storage",
          "Storage",
          "Storage",
          "Storage",
          "Storage",
          "Storage",
          "Storage",
          "Storage",
          "Storage",
          "Storage",
          "Storage",
          "Storage",
          "Storage",
          "Storage",
          "Storage",
          "Storage",
          "Storage",
          "Storage",
          "Storage",
          "Storage",
          "Storage",
          "Storage",
          "Storage",
          "Storage",
          "Storage",
          "Storage",
          "Storage",
          "Storage",
          "Storage",
          "Storage",
          "Storage",
          "Storage",
          "Storage",
          "Storage",
          "Storage",
          "Storage",
          "Storage",
          "Storage",
          "Storage",
          "Storage",
          "Storage",
          "Storage",
          "Storage",
          "Storage",
          "Storage",
          "Storage",
          "Storage",
          "Storage",
          "Storage",
          "Storage",
          "Storage",
          "Storage",
          "Storage",
          "Storage",
          "Storage",
          "Storage",
          "Storage",
          "Storage",
          "Storage",
          "Storage",
          "Storage",
          "Storage",
          "Storage",
          "Storage",
          "Storage",
          "Storage",
          "Storage",
          "Storage",
          "Storage",
          "Storage",
          "Storage",
          "Storage",
          "Storage",
          "Storage",
          "Storage",
          "Storage",
          "Storage",
          "Storage",
          "Storage",
          "Storage",
          "Storage",
          "Storage",
          "Storage",
          "Storage",
          "Storage",
          "Storage",
          "Storage",
          "Storage",
          "Storage",
          "Storage",
          "Storage",
          "Storage",
          "Storage",
          "Storage",
          "Storage",
          "Storage",
          "Storage",
          "Storage",
          "Storage",
          "Storage",
          "Storage",
          "Storage",
          "Storage",
          "Storage",
          "Storage",
          "Storage",
          "Storage",
          "Storage",
          "Storage",
          "Storage",
          "Storage",
          "Storage",
          "Storage",
          "Storage",
          "Storage",
          "Storage",
          "Storage",
          "Storage",
          "Storage",
          "Storage",
          "Storage",
          "Storage",
          "Storage",
          "Storage",
          "Storage",
          "Storage",
          "Storage",
          "Storage",
          "Storage",
          "Storage",
          "Storage",
          "Storage",
          "Storage",
          "Storage",
          "Storage",
          "Storage",
          "Storage",
          "Storage",
          "Storage",
          "Storage",
          "Storage",
          "Storage",
          "Storage",
          "Storage",
          "Storage",
          "Storage",
          "Storage",
          "Storage",
          "Storage",
          "Storage",
          "Storage",
          "Storage",
          "Storage",
          "Storage",
          "Storage",
          "Storage",
          "Storage",
          "Storage",
          "Storage",
          "Storage",
          "Storage",
          "Storage",
          "Storage",
          "Storage",
          "Storage",
          "Storage",
          "Storage",
          "Storage",
          "Storage",
          "Storage",
          "Storage",
          "Storage",
          "Storage",
          "Storage",
          "Storage",
          "Storage",
          "Storage",
          "Storage",
          "Storage",
          "Storage",
          "Storage",
          "Storage",
          "Storage",
          "Storage",
          "Storage",
          "Storage",
          "Storage",
          "Storage",
          "Storage",
          "Storage",
          "Storage",
          "Storage",
          "Storage",
          "Storage",
          "Storage",
          "Storage",
          "Storage",
          "Storage",
          "Storage",
          "Storage",
          "Storage",
          "Storage",
          "Storage",
          "Storage",
          "Storage",
          "Storage",
          "Storage",
          "Storage",
          "Storage",
          "Storage",
          "Storage",
          "Storage",
          "Storage",
          "Storage",
          "Storage",
          "Storage",
          "Storage",
          "Storage",
          "Storage",
          "Storage",
          "Storage",
          "Storage",
          "Storage",
          "Storage",
          "Storage",
          "Storage",
          "Storage",
          "Storage",
          "Storage",
          "Storage",
          "Storage",
          "Storage",
          "Storage",
          "Storage",
          "Storage",
          "Storage",
          "Storage",
          "Storage",
          "Storage",
          "Storage",
          "Storage",
          "Storage",
          "Storage",
          "Storage",
          "Storage",
          "Storage",
          "Storage",
          "Storage",
          "Storage",
          "Storage",
          "Storage",
          "Storage",
          "Storage",
          "Storage",
          "Storage",
          "Storage",
          "Storage",
          "Storage",
          "Storage",
          "Storage",
          "Storage",
          "Storage",
          "Storage",
          "Storage",
          "Storage",
          "Storage",
          "Storage",
          "Storage",
          "Storage",
          "Storage",
          "Storage",
          "Storage",
          "Storage",
          "Storage",
          "Storage",
          "Storage",
          "Storage",
          "Storage",
          "Storage",
          "Storage",
          "Storage",
          "Storage",
          "Storage",
          "Storage",
          "Storage",
          "Storage",
          "Storage",
          "Storage",
          "Storage",
          "Storage",
          "Storage",
          "Storage",
          "Storage",
          "Storage",
          "Storage",
          "Storage",
          "Storage",
          "Storage",
          "Storage",
          "Storage",
          "Storage",
          "Storage",
          "Storage",
          "Storage",
          "Storage",
          "Storage",
          "Storage",
          "Storage",
          "Storage",
          "Storage",
          "Storage",
          "Storage",
          "Storage",
          "Storage",
          "Storage",
          "Storage",
          "Storage",
          "Storage",
          "Storage",
          "Storage",
          "Storage",
          "Storage",
          "Storage",
          "Storage",
          "Storage",
          "Storage",
          "Storage",
          "Storage",
          "Storage",
          "Storage",
          "Storage",
          "Storage",
          "Storage",
          "Storage",
          "Storage",
          "Storage",
          "Storage",
          "Storage",
          "Storage",
          "Storage",
          "Storage",
          "Storage",
          "Storage",
          "Storage",
          "Storage",
          "Storage",
          "Storage",
          "Storage",
          "Storage",
          "Storage",
          "Storage",
          "Storage",
          "Storage",
          "Storage",
          "Storage",
          "Storage",
          "Storage",
          "Storage",
          "Storage",
          "Storage",
          "Storage",
          "Storage",
          "Storage",
          "Storage",
          "Storage",
          "Storage",
          "Storage",
          "Storage",
          "Storage",
          "Storage",
          "Storage",
          "Storage",
          "Storage",
          "Storage",
          "Storage",
          "Storage",
          "Storage",
          "Storage",
          "Storage",
          "Storage",
          "Storage",
          "Storage",
          "Storage",
          "Storage",
          "Storage",
          "Storage",
          "Storage",
          "Storage",
          "Storage",
          "Storage",
          "Storage",
          "Storage",
          "Storage",
          "Storage",
          "Storage",
          "Storage",
          "Storage",
          "Storage",
          "Storage",
          "Storage",
          "Storage",
          "Storage",
          "Storage",
          "Storage",
          "Storage",
          "Storage",
          "Storage",
          "Storage",
          "Storage",
          "Storage",
          "Storage",
          "Storage",
          "Storage",
          "Storage",
          "Storage",
          "Storage",
          "Storage",
          "Storage",
          "Storage",
          "Storage",
          "Storage",
          "Storage",
          "Storage",
          "Storage",
          "Storage",
          "Storage",
          "Storage",
          "Storage",
          "Storage",
          "Storage",
          "Storage",
          "Storage",
          "Storage",
          "Storage",
          "Storage",
          "Storage",
          "Storage",
          "Storage",
          "Storage",
          "Storage",
          "Storage",
          "Storage",
          "Storage",
          "Storage",
          "Storage",
          "Storage",
          "Storage",
          "Storage",
          "Storage",
          "Storage",
          "Storage",
          "Storage",
          "Storage",
          "Storage",
          "Storage",
          "Storage",
          "Storage",
          "Storage",
          "Storage",
          "Storage",
          "Storage",
          "Storage",
          "Storage",
          "Storage",
          "Storage",
          "Storage",
          "Storage",
          "Storage",
          "Storage",
          "Storage",
          "Storage",
          "Storage",
          "Storage",
          "Storage",
          "Storage",
          "Storage",
          "Storage",
          "Storage",
          "Storage",
          "Storage",
          "Storage",
          "Storage",
          "Storage",
          "Storage",
          "Storage",
          "Storage",
          "Storage",
          "Storage",
          "Storage",
          "Storage",
          "Storage",
          "Storage",
          "Storage",
          "Storage",
          "Storage",
          "Storage",
          "Storage",
          "Storage",
          "Storage",
          "Storage",
          "Storage",
          "Storage",
          "Storage",
          "Storage",
          "Storage",
          "Storage",
          "Storage",
          "Storage",
          "Storage",
          "Storage",
          "Storage",
          "Storage",
          "Storage",
          "Storage",
          "Storage",
          "Storage",
          "Storage",
          "Storage",
          "Storage",
          "Storage",
          "Storage",
          "Storage",
          "Storage",
          "Storage",
          "Storage",
          "Storage",
          "Storage",
          "Storage",
          "Storage",
          "Storage",
          "Storage",
          "Storage",
          "Storage",
          "Storage",
          "Storage",
          "Storage",
          "Storage",
          "Storage",
          "Storage",
          "Storage",
          "Storage",
          "Storage",
          "Storage",
          "Storage",
          "Storage",
          "Storage",
          "Storage",
          "Storage",
          "Storage",
          "Storage",
          "Storage",
          "Storage",
          "Storage",
          "Storage",
          "Storage",
          "Storage",
          "Storage",
          "Storage",
          "Storage",
          "Storage",
          "Storage",
          "Storage",
          "Storage",
          "Storage",
          "Storage",
          "Storage",
          "Storage",
          "Storage",
          "Storage",
          "Storage",
          "Storage",
          "Storage",
          "Storage",
          "Storage",
          "Storage",
          "Storage",
          "Storage",
          "Storage",
          "Storage",
          "Storage",
          "Storage",
          "Storage",
          "Storage",
          "Storage",
          "Storage",
          "Storage",
          "Storage",
          "Storage",
          "Storage",
          "Storage",
          "Storage",
          "Storage",
          "Storage",
          "Storage",
          "Storage",
          "Storage",
          "Storage",
          "Storage",
          "Storage",
          "Storage",
          "Storage",
          "Storage",
          "Storage",
          "Storage",
          "Storage",
          "Storage",
          "Storage",
          "Storage",
          "Storage",
          "Storage",
          "Storage",
          "Storage",
          "Storage",
          "Storage",
          "Storage",
          "Storage",
          "Storage",
          "Storage",
          "Storage",
          "Storage",
          "Storage",
          "Storage",
          "Storage",
          "Storage",
          "Storage",
          "Storage",
          "Storage",
          "Storage",
          "Storage",
          "Storage",
          "Storage",
          "Storage",
          "Storage",
          "Storage",
          "Storage",
          "Storage",
          "Storage",
          "Storage",
          "Storage",
          "Storage",
          "Storage",
          "Storage",
          "Storage",
          "Storage",
          "Storage",
          "Storage",
          "Storage",
          "Storage",
          "Storage",
          "Storage",
          "Storage",
          "Storage",
          "Storage",
          "Storage",
          "Storage",
          "Storage",
          "Storage",
          "Storage",
          "Storage",
          "Storage",
          "Storage",
          "Storage",
          "Storage",
          "Storage",
          "Storage",
          "Storage",
          "Storage",
          "Storage",
          "Storage",
          "Storage",
          "Storage",
          "Storage",
          "Storage"
         ],
         "y0": " ",
         "yaxis": "y"
        }
       ],
       "layout": {
        "boxmode": "group",
        "legend": {
         "tracegroupgap": 0
        },
        "template": {
         "data": {
          "bar": [
           {
            "error_x": {
             "color": "#2a3f5f"
            },
            "error_y": {
             "color": "#2a3f5f"
            },
            "marker": {
             "line": {
              "color": "#E5ECF6",
              "width": 0.5
             },
             "pattern": {
              "fillmode": "overlay",
              "size": 10,
              "solidity": 0.2
             }
            },
            "type": "bar"
           }
          ],
          "barpolar": [
           {
            "marker": {
             "line": {
              "color": "#E5ECF6",
              "width": 0.5
             },
             "pattern": {
              "fillmode": "overlay",
              "size": 10,
              "solidity": 0.2
             }
            },
            "type": "barpolar"
           }
          ],
          "carpet": [
           {
            "aaxis": {
             "endlinecolor": "#2a3f5f",
             "gridcolor": "white",
             "linecolor": "white",
             "minorgridcolor": "white",
             "startlinecolor": "#2a3f5f"
            },
            "baxis": {
             "endlinecolor": "#2a3f5f",
             "gridcolor": "white",
             "linecolor": "white",
             "minorgridcolor": "white",
             "startlinecolor": "#2a3f5f"
            },
            "type": "carpet"
           }
          ],
          "choropleth": [
           {
            "colorbar": {
             "outlinewidth": 0,
             "ticks": ""
            },
            "type": "choropleth"
           }
          ],
          "contour": [
           {
            "colorbar": {
             "outlinewidth": 0,
             "ticks": ""
            },
            "colorscale": [
             [
              0,
              "#0d0887"
             ],
             [
              0.1111111111111111,
              "#46039f"
             ],
             [
              0.2222222222222222,
              "#7201a8"
             ],
             [
              0.3333333333333333,
              "#9c179e"
             ],
             [
              0.4444444444444444,
              "#bd3786"
             ],
             [
              0.5555555555555556,
              "#d8576b"
             ],
             [
              0.6666666666666666,
              "#ed7953"
             ],
             [
              0.7777777777777778,
              "#fb9f3a"
             ],
             [
              0.8888888888888888,
              "#fdca26"
             ],
             [
              1,
              "#f0f921"
             ]
            ],
            "type": "contour"
           }
          ],
          "contourcarpet": [
           {
            "colorbar": {
             "outlinewidth": 0,
             "ticks": ""
            },
            "type": "contourcarpet"
           }
          ],
          "heatmap": [
           {
            "colorbar": {
             "outlinewidth": 0,
             "ticks": ""
            },
            "colorscale": [
             [
              0,
              "#0d0887"
             ],
             [
              0.1111111111111111,
              "#46039f"
             ],
             [
              0.2222222222222222,
              "#7201a8"
             ],
             [
              0.3333333333333333,
              "#9c179e"
             ],
             [
              0.4444444444444444,
              "#bd3786"
             ],
             [
              0.5555555555555556,
              "#d8576b"
             ],
             [
              0.6666666666666666,
              "#ed7953"
             ],
             [
              0.7777777777777778,
              "#fb9f3a"
             ],
             [
              0.8888888888888888,
              "#fdca26"
             ],
             [
              1,
              "#f0f921"
             ]
            ],
            "type": "heatmap"
           }
          ],
          "histogram": [
           {
            "marker": {
             "pattern": {
              "fillmode": "overlay",
              "size": 10,
              "solidity": 0.2
             }
            },
            "type": "histogram"
           }
          ],
          "histogram2d": [
           {
            "colorbar": {
             "outlinewidth": 0,
             "ticks": ""
            },
            "colorscale": [
             [
              0,
              "#0d0887"
             ],
             [
              0.1111111111111111,
              "#46039f"
             ],
             [
              0.2222222222222222,
              "#7201a8"
             ],
             [
              0.3333333333333333,
              "#9c179e"
             ],
             [
              0.4444444444444444,
              "#bd3786"
             ],
             [
              0.5555555555555556,
              "#d8576b"
             ],
             [
              0.6666666666666666,
              "#ed7953"
             ],
             [
              0.7777777777777778,
              "#fb9f3a"
             ],
             [
              0.8888888888888888,
              "#fdca26"
             ],
             [
              1,
              "#f0f921"
             ]
            ],
            "type": "histogram2d"
           }
          ],
          "histogram2dcontour": [
           {
            "colorbar": {
             "outlinewidth": 0,
             "ticks": ""
            },
            "colorscale": [
             [
              0,
              "#0d0887"
             ],
             [
              0.1111111111111111,
              "#46039f"
             ],
             [
              0.2222222222222222,
              "#7201a8"
             ],
             [
              0.3333333333333333,
              "#9c179e"
             ],
             [
              0.4444444444444444,
              "#bd3786"
             ],
             [
              0.5555555555555556,
              "#d8576b"
             ],
             [
              0.6666666666666666,
              "#ed7953"
             ],
             [
              0.7777777777777778,
              "#fb9f3a"
             ],
             [
              0.8888888888888888,
              "#fdca26"
             ],
             [
              1,
              "#f0f921"
             ]
            ],
            "type": "histogram2dcontour"
           }
          ],
          "mesh3d": [
           {
            "colorbar": {
             "outlinewidth": 0,
             "ticks": ""
            },
            "type": "mesh3d"
           }
          ],
          "parcoords": [
           {
            "line": {
             "colorbar": {
              "outlinewidth": 0,
              "ticks": ""
             }
            },
            "type": "parcoords"
           }
          ],
          "pie": [
           {
            "automargin": true,
            "type": "pie"
           }
          ],
          "scatter": [
           {
            "fillpattern": {
             "fillmode": "overlay",
             "size": 10,
             "solidity": 0.2
            },
            "type": "scatter"
           }
          ],
          "scatter3d": [
           {
            "line": {
             "colorbar": {
              "outlinewidth": 0,
              "ticks": ""
             }
            },
            "marker": {
             "colorbar": {
              "outlinewidth": 0,
              "ticks": ""
             }
            },
            "type": "scatter3d"
           }
          ],
          "scattercarpet": [
           {
            "marker": {
             "colorbar": {
              "outlinewidth": 0,
              "ticks": ""
             }
            },
            "type": "scattercarpet"
           }
          ],
          "scattergeo": [
           {
            "marker": {
             "colorbar": {
              "outlinewidth": 0,
              "ticks": ""
             }
            },
            "type": "scattergeo"
           }
          ],
          "scattergl": [
           {
            "marker": {
             "colorbar": {
              "outlinewidth": 0,
              "ticks": ""
             }
            },
            "type": "scattergl"
           }
          ],
          "scattermap": [
           {
            "marker": {
             "colorbar": {
              "outlinewidth": 0,
              "ticks": ""
             }
            },
            "type": "scattermap"
           }
          ],
          "scattermapbox": [
           {
            "marker": {
             "colorbar": {
              "outlinewidth": 0,
              "ticks": ""
             }
            },
            "type": "scattermapbox"
           }
          ],
          "scatterpolar": [
           {
            "marker": {
             "colorbar": {
              "outlinewidth": 0,
              "ticks": ""
             }
            },
            "type": "scatterpolar"
           }
          ],
          "scatterpolargl": [
           {
            "marker": {
             "colorbar": {
              "outlinewidth": 0,
              "ticks": ""
             }
            },
            "type": "scatterpolargl"
           }
          ],
          "scatterternary": [
           {
            "marker": {
             "colorbar": {
              "outlinewidth": 0,
              "ticks": ""
             }
            },
            "type": "scatterternary"
           }
          ],
          "surface": [
           {
            "colorbar": {
             "outlinewidth": 0,
             "ticks": ""
            },
            "colorscale": [
             [
              0,
              "#0d0887"
             ],
             [
              0.1111111111111111,
              "#46039f"
             ],
             [
              0.2222222222222222,
              "#7201a8"
             ],
             [
              0.3333333333333333,
              "#9c179e"
             ],
             [
              0.4444444444444444,
              "#bd3786"
             ],
             [
              0.5555555555555556,
              "#d8576b"
             ],
             [
              0.6666666666666666,
              "#ed7953"
             ],
             [
              0.7777777777777778,
              "#fb9f3a"
             ],
             [
              0.8888888888888888,
              "#fdca26"
             ],
             [
              1,
              "#f0f921"
             ]
            ],
            "type": "surface"
           }
          ],
          "table": [
           {
            "cells": {
             "fill": {
              "color": "#EBF0F8"
             },
             "line": {
              "color": "white"
             }
            },
            "header": {
             "fill": {
              "color": "#C8D4E3"
             },
             "line": {
              "color": "white"
             }
            },
            "type": "table"
           }
          ]
         },
         "layout": {
          "annotationdefaults": {
           "arrowcolor": "#2a3f5f",
           "arrowhead": 0,
           "arrowwidth": 1
          },
          "autotypenumbers": "strict",
          "coloraxis": {
           "colorbar": {
            "outlinewidth": 0,
            "ticks": ""
           }
          },
          "colorscale": {
           "diverging": [
            [
             0,
             "#8e0152"
            ],
            [
             0.1,
             "#c51b7d"
            ],
            [
             0.2,
             "#de77ae"
            ],
            [
             0.3,
             "#f1b6da"
            ],
            [
             0.4,
             "#fde0ef"
            ],
            [
             0.5,
             "#f7f7f7"
            ],
            [
             0.6,
             "#e6f5d0"
            ],
            [
             0.7,
             "#b8e186"
            ],
            [
             0.8,
             "#7fbc41"
            ],
            [
             0.9,
             "#4d9221"
            ],
            [
             1,
             "#276419"
            ]
           ],
           "sequential": [
            [
             0,
             "#0d0887"
            ],
            [
             0.1111111111111111,
             "#46039f"
            ],
            [
             0.2222222222222222,
             "#7201a8"
            ],
            [
             0.3333333333333333,
             "#9c179e"
            ],
            [
             0.4444444444444444,
             "#bd3786"
            ],
            [
             0.5555555555555556,
             "#d8576b"
            ],
            [
             0.6666666666666666,
             "#ed7953"
            ],
            [
             0.7777777777777778,
             "#fb9f3a"
            ],
            [
             0.8888888888888888,
             "#fdca26"
            ],
            [
             1,
             "#f0f921"
            ]
           ],
           "sequentialminus": [
            [
             0,
             "#0d0887"
            ],
            [
             0.1111111111111111,
             "#46039f"
            ],
            [
             0.2222222222222222,
             "#7201a8"
            ],
            [
             0.3333333333333333,
             "#9c179e"
            ],
            [
             0.4444444444444444,
             "#bd3786"
            ],
            [
             0.5555555555555556,
             "#d8576b"
            ],
            [
             0.6666666666666666,
             "#ed7953"
            ],
            [
             0.7777777777777778,
             "#fb9f3a"
            ],
            [
             0.8888888888888888,
             "#fdca26"
            ],
            [
             1,
             "#f0f921"
            ]
           ]
          },
          "colorway": [
           "#636efa",
           "#EF553B",
           "#00cc96",
           "#ab63fa",
           "#FFA15A",
           "#19d3f3",
           "#FF6692",
           "#B6E880",
           "#FF97FF",
           "#FECB52"
          ],
          "font": {
           "color": "#2a3f5f"
          },
          "geo": {
           "bgcolor": "white",
           "lakecolor": "white",
           "landcolor": "#E5ECF6",
           "showlakes": true,
           "showland": true,
           "subunitcolor": "white"
          },
          "hoverlabel": {
           "align": "left"
          },
          "hovermode": "closest",
          "mapbox": {
           "style": "light"
          },
          "paper_bgcolor": "white",
          "plot_bgcolor": "#E5ECF6",
          "polar": {
           "angularaxis": {
            "gridcolor": "white",
            "linecolor": "white",
            "ticks": ""
           },
           "bgcolor": "#E5ECF6",
           "radialaxis": {
            "gridcolor": "white",
            "linecolor": "white",
            "ticks": ""
           }
          },
          "scene": {
           "xaxis": {
            "backgroundcolor": "#E5ECF6",
            "gridcolor": "white",
            "gridwidth": 2,
            "linecolor": "white",
            "showbackground": true,
            "ticks": "",
            "zerolinecolor": "white"
           },
           "yaxis": {
            "backgroundcolor": "#E5ECF6",
            "gridcolor": "white",
            "gridwidth": 2,
            "linecolor": "white",
            "showbackground": true,
            "ticks": "",
            "zerolinecolor": "white"
           },
           "zaxis": {
            "backgroundcolor": "#E5ECF6",
            "gridcolor": "white",
            "gridwidth": 2,
            "linecolor": "white",
            "showbackground": true,
            "ticks": "",
            "zerolinecolor": "white"
           }
          },
          "shapedefaults": {
           "line": {
            "color": "#2a3f5f"
           }
          },
          "ternary": {
           "aaxis": {
            "gridcolor": "white",
            "linecolor": "white",
            "ticks": ""
           },
           "baxis": {
            "gridcolor": "white",
            "linecolor": "white",
            "ticks": ""
           },
           "bgcolor": "#E5ECF6",
           "caxis": {
            "gridcolor": "white",
            "linecolor": "white",
            "ticks": ""
           }
          },
          "title": {
           "x": 0.05
          },
          "xaxis": {
           "automargin": true,
           "gridcolor": "white",
           "linecolor": "white",
           "ticks": "",
           "title": {
            "standoff": 15
           },
           "zerolinecolor": "white",
           "zerolinewidth": 2
          },
          "yaxis": {
           "automargin": true,
           "gridcolor": "white",
           "linecolor": "white",
           "ticks": "",
           "title": {
            "standoff": 15
           },
           "zerolinecolor": "white",
           "zerolinewidth": 2
          }
         }
        },
        "title": {
         "text": "Battery system investments"
        },
        "xaxis": {
         "anchor": "y",
         "domain": [
          0,
          1
         ],
         "range": [
          0,
          75000
         ],
         "title": {
          "text": "Storage system investments in €"
         }
        },
        "yaxis": {
         "anchor": "x",
         "domain": [
          0,
          1
         ],
         "title": {
          "text": ""
         }
        }
       }
      }
     },
     "metadata": {},
     "output_type": "display_data"
    }
   ],
   "source": [
    "storage_invest = profiles_using_storage[\"storage_invest_eur\"].copy()\n",
    "storage_invest.name = \"Absolute storage investment\"\n",
    "print(storage_invest.describe().drop(\"count\").to_markdown())\n",
    "\n",
    "print(\"\")\n",
    "inverter_invest = profiles_using_storage[\"inverter_invest_eur\"].copy()\n",
    "inverter_invest.name = \"Absolute inverter investment\"\n",
    "print(inverter_invest.describe().drop(\"count\").to_markdown())\n",
    "\n",
    "\n",
    "fig_df = profiles_using_storage.copy()\n",
    "fig_df = fig_df.rename(columns={\n",
    "    \"storage_invest_eur\": \"Storage\",\n",
    "    \"inverter_invest_eur\": \"Inverter\"})\n",
    "fig = px.box(\n",
    "    data_frame=fig_df,\n",
    "    x=[\"Inverter\", \"Storage\"],\n",
    "    title=\"Battery system investments\")\n",
    "fig.update_layout(xaxis_title=\"Storage system investments in €\", yaxis_title=\"\")\n",
    "fig.update_xaxes(range=[0, 75000])\n",
    "fig.show()"
   ]
  },
  {
   "cell_type": "code",
   "execution_count": 125,
   "id": "c6e29466",
   "metadata": {},
   "outputs": [
    {
     "data": {
      "application/vnd.plotly.v1+json": {
       "config": {
        "plotlyServerURL": "https://plot.ly"
       },
       "data": [
        {
         "alignmentgroup": "True",
         "hovertemplate": "invest_per_tac=%{x}<extra></extra>",
         "legendgroup": "",
         "marker": {
          "color": "#636efa"
         },
         "name": "",
         "notched": false,
         "offsetgroup": "",
         "orientation": "h",
         "showlegend": false,
         "type": "box",
         "x": {
          "bdata": "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",
          "dtype": "f8"
         },
         "x0": " ",
         "xaxis": "x",
         "y0": " ",
         "yaxis": "y"
        }
       ],
       "layout": {
        "boxmode": "group",
        "legend": {
         "tracegroupgap": 0
        },
        "template": {
         "data": {
          "bar": [
           {
            "error_x": {
             "color": "#2a3f5f"
            },
            "error_y": {
             "color": "#2a3f5f"
            },
            "marker": {
             "line": {
              "color": "#E5ECF6",
              "width": 0.5
             },
             "pattern": {
              "fillmode": "overlay",
              "size": 10,
              "solidity": 0.2
             }
            },
            "type": "bar"
           }
          ],
          "barpolar": [
           {
            "marker": {
             "line": {
              "color": "#E5ECF6",
              "width": 0.5
             },
             "pattern": {
              "fillmode": "overlay",
              "size": 10,
              "solidity": 0.2
             }
            },
            "type": "barpolar"
           }
          ],
          "carpet": [
           {
            "aaxis": {
             "endlinecolor": "#2a3f5f",
             "gridcolor": "white",
             "linecolor": "white",
             "minorgridcolor": "white",
             "startlinecolor": "#2a3f5f"
            },
            "baxis": {
             "endlinecolor": "#2a3f5f",
             "gridcolor": "white",
             "linecolor": "white",
             "minorgridcolor": "white",
             "startlinecolor": "#2a3f5f"
            },
            "type": "carpet"
           }
          ],
          "choropleth": [
           {
            "colorbar": {
             "outlinewidth": 0,
             "ticks": ""
            },
            "type": "choropleth"
           }
          ],
          "contour": [
           {
            "colorbar": {
             "outlinewidth": 0,
             "ticks": ""
            },
            "colorscale": [
             [
              0,
              "#0d0887"
             ],
             [
              0.1111111111111111,
              "#46039f"
             ],
             [
              0.2222222222222222,
              "#7201a8"
             ],
             [
              0.3333333333333333,
              "#9c179e"
             ],
             [
              0.4444444444444444,
              "#bd3786"
             ],
             [
              0.5555555555555556,
              "#d8576b"
             ],
             [
              0.6666666666666666,
              "#ed7953"
             ],
             [
              0.7777777777777778,
              "#fb9f3a"
             ],
             [
              0.8888888888888888,
              "#fdca26"
             ],
             [
              1,
              "#f0f921"
             ]
            ],
            "type": "contour"
           }
          ],
          "contourcarpet": [
           {
            "colorbar": {
             "outlinewidth": 0,
             "ticks": ""
            },
            "type": "contourcarpet"
           }
          ],
          "heatmap": [
           {
            "colorbar": {
             "outlinewidth": 0,
             "ticks": ""
            },
            "colorscale": [
             [
              0,
              "#0d0887"
             ],
             [
              0.1111111111111111,
              "#46039f"
             ],
             [
              0.2222222222222222,
              "#7201a8"
             ],
             [
              0.3333333333333333,
              "#9c179e"
             ],
             [
              0.4444444444444444,
              "#bd3786"
             ],
             [
              0.5555555555555556,
              "#d8576b"
             ],
             [
              0.6666666666666666,
              "#ed7953"
             ],
             [
              0.7777777777777778,
              "#fb9f3a"
             ],
             [
              0.8888888888888888,
              "#fdca26"
             ],
             [
              1,
              "#f0f921"
             ]
            ],
            "type": "heatmap"
           }
          ],
          "histogram": [
           {
            "marker": {
             "pattern": {
              "fillmode": "overlay",
              "size": 10,
              "solidity": 0.2
             }
            },
            "type": "histogram"
           }
          ],
          "histogram2d": [
           {
            "colorbar": {
             "outlinewidth": 0,
             "ticks": ""
            },
            "colorscale": [
             [
              0,
              "#0d0887"
             ],
             [
              0.1111111111111111,
              "#46039f"
             ],
             [
              0.2222222222222222,
              "#7201a8"
             ],
             [
              0.3333333333333333,
              "#9c179e"
             ],
             [
              0.4444444444444444,
              "#bd3786"
             ],
             [
              0.5555555555555556,
              "#d8576b"
             ],
             [
              0.6666666666666666,
              "#ed7953"
             ],
             [
              0.7777777777777778,
              "#fb9f3a"
             ],
             [
              0.8888888888888888,
              "#fdca26"
             ],
             [
              1,
              "#f0f921"
             ]
            ],
            "type": "histogram2d"
           }
          ],
          "histogram2dcontour": [
           {
            "colorbar": {
             "outlinewidth": 0,
             "ticks": ""
            },
            "colorscale": [
             [
              0,
              "#0d0887"
             ],
             [
              0.1111111111111111,
              "#46039f"
             ],
             [
              0.2222222222222222,
              "#7201a8"
             ],
             [
              0.3333333333333333,
              "#9c179e"
             ],
             [
              0.4444444444444444,
              "#bd3786"
             ],
             [
              0.5555555555555556,
              "#d8576b"
             ],
             [
              0.6666666666666666,
              "#ed7953"
             ],
             [
              0.7777777777777778,
              "#fb9f3a"
             ],
             [
              0.8888888888888888,
              "#fdca26"
             ],
             [
              1,
              "#f0f921"
             ]
            ],
            "type": "histogram2dcontour"
           }
          ],
          "mesh3d": [
           {
            "colorbar": {
             "outlinewidth": 0,
             "ticks": ""
            },
            "type": "mesh3d"
           }
          ],
          "parcoords": [
           {
            "line": {
             "colorbar": {
              "outlinewidth": 0,
              "ticks": ""
             }
            },
            "type": "parcoords"
           }
          ],
          "pie": [
           {
            "automargin": true,
            "type": "pie"
           }
          ],
          "scatter": [
           {
            "fillpattern": {
             "fillmode": "overlay",
             "size": 10,
             "solidity": 0.2
            },
            "type": "scatter"
           }
          ],
          "scatter3d": [
           {
            "line": {
             "colorbar": {
              "outlinewidth": 0,
              "ticks": ""
             }
            },
            "marker": {
             "colorbar": {
              "outlinewidth": 0,
              "ticks": ""
             }
            },
            "type": "scatter3d"
           }
          ],
          "scattercarpet": [
           {
            "marker": {
             "colorbar": {
              "outlinewidth": 0,
              "ticks": ""
             }
            },
            "type": "scattercarpet"
           }
          ],
          "scattergeo": [
           {
            "marker": {
             "colorbar": {
              "outlinewidth": 0,
              "ticks": ""
             }
            },
            "type": "scattergeo"
           }
          ],
          "scattergl": [
           {
            "marker": {
             "colorbar": {
              "outlinewidth": 0,
              "ticks": ""
             }
            },
            "type": "scattergl"
           }
          ],
          "scattermap": [
           {
            "marker": {
             "colorbar": {
              "outlinewidth": 0,
              "ticks": ""
             }
            },
            "type": "scattermap"
           }
          ],
          "scattermapbox": [
           {
            "marker": {
             "colorbar": {
              "outlinewidth": 0,
              "ticks": ""
             }
            },
            "type": "scattermapbox"
           }
          ],
          "scatterpolar": [
           {
            "marker": {
             "colorbar": {
              "outlinewidth": 0,
              "ticks": ""
             }
            },
            "type": "scatterpolar"
           }
          ],
          "scatterpolargl": [
           {
            "marker": {
             "colorbar": {
              "outlinewidth": 0,
              "ticks": ""
             }
            },
            "type": "scatterpolargl"
           }
          ],
          "scatterternary": [
           {
            "marker": {
             "colorbar": {
              "outlinewidth": 0,
              "ticks": ""
             }
            },
            "type": "scatterternary"
           }
          ],
          "surface": [
           {
            "colorbar": {
             "outlinewidth": 0,
             "ticks": ""
            },
            "colorscale": [
             [
              0,
              "#0d0887"
             ],
             [
              0.1111111111111111,
              "#46039f"
             ],
             [
              0.2222222222222222,
              "#7201a8"
             ],
             [
              0.3333333333333333,
              "#9c179e"
             ],
             [
              0.4444444444444444,
              "#bd3786"
             ],
             [
              0.5555555555555556,
              "#d8576b"
             ],
             [
              0.6666666666666666,
              "#ed7953"
             ],
             [
              0.7777777777777778,
              "#fb9f3a"
             ],
             [
              0.8888888888888888,
              "#fdca26"
             ],
             [
              1,
              "#f0f921"
             ]
            ],
            "type": "surface"
           }
          ],
          "table": [
           {
            "cells": {
             "fill": {
              "color": "#EBF0F8"
             },
             "line": {
              "color": "white"
             }
            },
            "header": {
             "fill": {
              "color": "#C8D4E3"
             },
             "line": {
              "color": "white"
             }
            },
            "type": "table"
           }
          ]
         },
         "layout": {
          "annotationdefaults": {
           "arrowcolor": "#2a3f5f",
           "arrowhead": 0,
           "arrowwidth": 1
          },
          "autotypenumbers": "strict",
          "coloraxis": {
           "colorbar": {
            "outlinewidth": 0,
            "ticks": ""
           }
          },
          "colorscale": {
           "diverging": [
            [
             0,
             "#8e0152"
            ],
            [
             0.1,
             "#c51b7d"
            ],
            [
             0.2,
             "#de77ae"
            ],
            [
             0.3,
             "#f1b6da"
            ],
            [
             0.4,
             "#fde0ef"
            ],
            [
             0.5,
             "#f7f7f7"
            ],
            [
             0.6,
             "#e6f5d0"
            ],
            [
             0.7,
             "#b8e186"
            ],
            [
             0.8,
             "#7fbc41"
            ],
            [
             0.9,
             "#4d9221"
            ],
            [
             1,
             "#276419"
            ]
           ],
           "sequential": [
            [
             0,
             "#0d0887"
            ],
            [
             0.1111111111111111,
             "#46039f"
            ],
            [
             0.2222222222222222,
             "#7201a8"
            ],
            [
             0.3333333333333333,
             "#9c179e"
            ],
            [
             0.4444444444444444,
             "#bd3786"
            ],
            [
             0.5555555555555556,
             "#d8576b"
            ],
            [
             0.6666666666666666,
             "#ed7953"
            ],
            [
             0.7777777777777778,
             "#fb9f3a"
            ],
            [
             0.8888888888888888,
             "#fdca26"
            ],
            [
             1,
             "#f0f921"
            ]
           ],
           "sequentialminus": [
            [
             0,
             "#0d0887"
            ],
            [
             0.1111111111111111,
             "#46039f"
            ],
            [
             0.2222222222222222,
             "#7201a8"
            ],
            [
             0.3333333333333333,
             "#9c179e"
            ],
            [
             0.4444444444444444,
             "#bd3786"
            ],
            [
             0.5555555555555556,
             "#d8576b"
            ],
            [
             0.6666666666666666,
             "#ed7953"
            ],
            [
             0.7777777777777778,
             "#fb9f3a"
            ],
            [
             0.8888888888888888,
             "#fdca26"
            ],
            [
             1,
             "#f0f921"
            ]
           ]
          },
          "colorway": [
           "#636efa",
           "#EF553B",
           "#00cc96",
           "#ab63fa",
           "#FFA15A",
           "#19d3f3",
           "#FF6692",
           "#B6E880",
           "#FF97FF",
           "#FECB52"
          ],
          "font": {
           "color": "#2a3f5f"
          },
          "geo": {
           "bgcolor": "white",
           "lakecolor": "white",
           "landcolor": "#E5ECF6",
           "showlakes": true,
           "showland": true,
           "subunitcolor": "white"
          },
          "hoverlabel": {
           "align": "left"
          },
          "hovermode": "closest",
          "mapbox": {
           "style": "light"
          },
          "paper_bgcolor": "white",
          "plot_bgcolor": "#E5ECF6",
          "polar": {
           "angularaxis": {
            "gridcolor": "white",
            "linecolor": "white",
            "ticks": ""
           },
           "bgcolor": "#E5ECF6",
           "radialaxis": {
            "gridcolor": "white",
            "linecolor": "white",
            "ticks": ""
           }
          },
          "scene": {
           "xaxis": {
            "backgroundcolor": "#E5ECF6",
            "gridcolor": "white",
            "gridwidth": 2,
            "linecolor": "white",
            "showbackground": true,
            "ticks": "",
            "zerolinecolor": "white"
           },
           "yaxis": {
            "backgroundcolor": "#E5ECF6",
            "gridcolor": "white",
            "gridwidth": 2,
            "linecolor": "white",
            "showbackground": true,
            "ticks": "",
            "zerolinecolor": "white"
           },
           "zaxis": {
            "backgroundcolor": "#E5ECF6",
            "gridcolor": "white",
            "gridwidth": 2,
            "linecolor": "white",
            "showbackground": true,
            "ticks": "",
            "zerolinecolor": "white"
           }
          },
          "shapedefaults": {
           "line": {
            "color": "#2a3f5f"
           }
          },
          "ternary": {
           "aaxis": {
            "gridcolor": "white",
            "linecolor": "white",
            "ticks": ""
           },
           "baxis": {
            "gridcolor": "white",
            "linecolor": "white",
            "ticks": ""
           },
           "bgcolor": "#E5ECF6",
           "caxis": {
            "gridcolor": "white",
            "linecolor": "white",
            "ticks": ""
           }
          },
          "title": {
           "x": 0.05
          },
          "xaxis": {
           "automargin": true,
           "gridcolor": "white",
           "linecolor": "white",
           "ticks": "",
           "title": {
            "standoff": 15
           },
           "zerolinecolor": "white",
           "zerolinewidth": 2
          },
          "yaxis": {
           "automargin": true,
           "gridcolor": "white",
           "linecolor": "white",
           "ticks": "",
           "title": {
            "standoff": 15
           },
           "zerolinecolor": "white",
           "zerolinewidth": 2
          }
         }
        },
        "title": {
         "text": "Investment per total yearly energy costs"
        },
        "xaxis": {
         "anchor": "y",
         "domain": [
          0,
          1
         ],
         "range": [
          0,
          100
         ],
         "title": {
          "text": "Ratio in %"
         }
        },
        "yaxis": {
         "anchor": "x",
         "domain": [
          0,
          1
         ]
        }
       }
      }
     },
     "metadata": {},
     "output_type": "display_data"
    }
   ],
   "source": [
    "fig_df = storage.copy() * 100\n",
    "fig = px.box(fig_df, \"invest_per_tac\", title=\"Investment per total yearly energy costs\")\n",
    "fig.update_xaxes(range=[0, 100], title=\"Ratio in %\")"
   ]
  },
  {
   "cell_type": "markdown",
   "id": "f47c96ad",
   "metadata": {},
   "source": [
    "# Comparison"
   ]
  },
  {
   "cell_type": "code",
   "execution_count": 95,
   "id": "a7978fe8",
   "metadata": {},
   "outputs": [
    {
     "data": {
      "text/html": [
       "<div>\n",
       "<style scoped>\n",
       "    .dataframe tbody tr th:only-of-type {\n",
       "        vertical-align: middle;\n",
       "    }\n",
       "\n",
       "    .dataframe tbody tr th {\n",
       "        vertical-align: top;\n",
       "    }\n",
       "\n",
       "    .dataframe thead th {\n",
       "        text-align: right;\n",
       "    }\n",
       "</style>\n",
       "<table border=\"1\" class=\"dataframe\">\n",
       "  <thead>\n",
       "    <tr style=\"text-align: right;\">\n",
       "      <th></th>\n",
       "      <th>energy_costs_eur</th>\n",
       "      <th>grid_capacity_costs_eur</th>\n",
       "      <th>grid_capacity_kw</th>\n",
       "      <th>grid_energy_costs_eur</th>\n",
       "      <th>inverter_annuity_eur</th>\n",
       "      <th>inverter_capacity_kw</th>\n",
       "      <th>inverter_invest_eur</th>\n",
       "      <th>invest_per_tac</th>\n",
       "      <th>solar_annuity_eur</th>\n",
       "      <th>solar_capacity_kwp</th>\n",
       "      <th>solar_invest_eur</th>\n",
       "      <th>storage_annuity_eur</th>\n",
       "      <th>storage_capacity_kwh</th>\n",
       "      <th>storage_invest_eur</th>\n",
       "      <th>total_annuity_eur</th>\n",
       "      <th>total_invest_eur</th>\n",
       "      <th>total_yearly_costs_eur</th>\n",
       "    </tr>\n",
       "    <tr>\n",
       "      <th>id</th>\n",
       "      <th></th>\n",
       "      <th></th>\n",
       "      <th></th>\n",
       "      <th></th>\n",
       "      <th></th>\n",
       "      <th></th>\n",
       "      <th></th>\n",
       "      <th></th>\n",
       "      <th></th>\n",
       "      <th></th>\n",
       "      <th></th>\n",
       "      <th></th>\n",
       "      <th></th>\n",
       "      <th></th>\n",
       "      <th></th>\n",
       "      <th></th>\n",
       "      <th></th>\n",
       "    </tr>\n",
       "  </thead>\n",
       "  <tbody>\n",
       "    <tr>\n",
       "      <th>1</th>\n",
       "      <td>661.563319</td>\n",
       "      <td>20405.282301</td>\n",
       "      <td>168.181044</td>\n",
       "      <td>24.126773</td>\n",
       "      <td>-2355.978453</td>\n",
       "      <td>-168.181044</td>\n",
       "      <td>-30272.587940</td>\n",
       "      <td>NaN</td>\n",
       "      <td>0.0</td>\n",
       "      <td>0.0</td>\n",
       "      <td>0.0</td>\n",
       "      <td>-5658.350233</td>\n",
       "      <td>-255.107485</td>\n",
       "      <td>-72705.633117</td>\n",
       "      <td>-8014.328685</td>\n",
       "      <td>-102978.221057</td>\n",
       "      <td>13076.643708</td>\n",
       "    </tr>\n",
       "    <tr>\n",
       "      <th>2</th>\n",
       "      <td>293.422377</td>\n",
       "      <td>21564.787254</td>\n",
       "      <td>177.737724</td>\n",
       "      <td>10.700918</td>\n",
       "      <td>-2489.854017</td>\n",
       "      <td>-177.737724</td>\n",
       "      <td>-31992.790344</td>\n",
       "      <td>NaN</td>\n",
       "      <td>0.0</td>\n",
       "      <td>0.0</td>\n",
       "      <td>0.0</td>\n",
       "      <td>-5929.000763</td>\n",
       "      <td>-267.309800</td>\n",
       "      <td>-76183.293100</td>\n",
       "      <td>-8418.854780</td>\n",
       "      <td>-108176.083444</td>\n",
       "      <td>13450.055769</td>\n",
       "    </tr>\n",
       "    <tr>\n",
       "      <th>3</th>\n",
       "      <td>474.880156</td>\n",
       "      <td>9288.698668</td>\n",
       "      <td>76.557776</td>\n",
       "      <td>17.318563</td>\n",
       "      <td>-1072.466119</td>\n",
       "      <td>-76.557776</td>\n",
       "      <td>-13780.399758</td>\n",
       "      <td>NaN</td>\n",
       "      <td>0.0</td>\n",
       "      <td>0.0</td>\n",
       "      <td>0.0</td>\n",
       "      <td>-2119.043045</td>\n",
       "      <td>-95.537342</td>\n",
       "      <td>-27228.142451</td>\n",
       "      <td>-3191.509164</td>\n",
       "      <td>-41008.542208</td>\n",
       "      <td>6589.388223</td>\n",
       "    </tr>\n",
       "    <tr>\n",
       "      <th>11</th>\n",
       "      <td>1436.511679</td>\n",
       "      <td>101823.795360</td>\n",
       "      <td>558.000000</td>\n",
       "      <td>63.470832</td>\n",
       "      <td>-7816.790433</td>\n",
       "      <td>-558.000000</td>\n",
       "      <td>-100440.000000</td>\n",
       "      <td>NaN</td>\n",
       "      <td>0.0</td>\n",
       "      <td>0.0</td>\n",
       "      <td>0.0</td>\n",
       "      <td>-61976.314826</td>\n",
       "      <td>-2794.210526</td>\n",
       "      <td>-796350.000000</td>\n",
       "      <td>-69793.105259</td>\n",
       "      <td>-896790.000000</td>\n",
       "      <td>33530.672611</td>\n",
       "    </tr>\n",
       "    <tr>\n",
       "      <th>18</th>\n",
       "      <td>77.184397</td>\n",
       "      <td>2830.067465</td>\n",
       "      <td>32.929130</td>\n",
       "      <td>7.138386</td>\n",
       "      <td>-461.290516</td>\n",
       "      <td>-32.929130</td>\n",
       "      <td>-5927.243386</td>\n",
       "      <td>NaN</td>\n",
       "      <td>0.0</td>\n",
       "      <td>0.0</td>\n",
       "      <td>0.0</td>\n",
       "      <td>-581.585664</td>\n",
       "      <td>-26.220868</td>\n",
       "      <td>-7472.947443</td>\n",
       "      <td>-1042.876180</td>\n",
       "      <td>-13400.190829</td>\n",
       "      <td>1871.514068</td>\n",
       "    </tr>\n",
       "  </tbody>\n",
       "</table>\n",
       "</div>"
      ],
      "text/plain": [
       "    energy_costs_eur  grid_capacity_costs_eur  grid_capacity_kw  \\\n",
       "id                                                                \n",
       "1         661.563319             20405.282301        168.181044   \n",
       "2         293.422377             21564.787254        177.737724   \n",
       "3         474.880156              9288.698668         76.557776   \n",
       "11       1436.511679            101823.795360        558.000000   \n",
       "18         77.184397              2830.067465         32.929130   \n",
       "\n",
       "    grid_energy_costs_eur  inverter_annuity_eur  inverter_capacity_kw  \\\n",
       "id                                                                      \n",
       "1               24.126773          -2355.978453           -168.181044   \n",
       "2               10.700918          -2489.854017           -177.737724   \n",
       "3               17.318563          -1072.466119            -76.557776   \n",
       "11              63.470832          -7816.790433           -558.000000   \n",
       "18               7.138386           -461.290516            -32.929130   \n",
       "\n",
       "    inverter_invest_eur  invest_per_tac  solar_annuity_eur  \\\n",
       "id                                                           \n",
       "1         -30272.587940             NaN                0.0   \n",
       "2         -31992.790344             NaN                0.0   \n",
       "3         -13780.399758             NaN                0.0   \n",
       "11       -100440.000000             NaN                0.0   \n",
       "18         -5927.243386             NaN                0.0   \n",
       "\n",
       "    solar_capacity_kwp  solar_invest_eur  storage_annuity_eur  \\\n",
       "id                                                              \n",
       "1                  0.0               0.0         -5658.350233   \n",
       "2                  0.0               0.0         -5929.000763   \n",
       "3                  0.0               0.0         -2119.043045   \n",
       "11                 0.0               0.0        -61976.314826   \n",
       "18                 0.0               0.0          -581.585664   \n",
       "\n",
       "    storage_capacity_kwh  storage_invest_eur  total_annuity_eur  \\\n",
       "id                                                                \n",
       "1            -255.107485       -72705.633117       -8014.328685   \n",
       "2            -267.309800       -76183.293100       -8418.854780   \n",
       "3             -95.537342       -27228.142451       -3191.509164   \n",
       "11          -2794.210526      -796350.000000      -69793.105259   \n",
       "18            -26.220868        -7472.947443       -1042.876180   \n",
       "\n",
       "    total_invest_eur  total_yearly_costs_eur  \n",
       "id                                            \n",
       "1     -102978.221057            13076.643708  \n",
       "2     -108176.083444            13450.055769  \n",
       "3      -41008.542208             6589.388223  \n",
       "11    -896790.000000            33530.672611  \n",
       "18     -13400.190829             1871.514068  "
      ]
     },
     "execution_count": 95,
     "metadata": {},
     "output_type": "execute_result"
    }
   ],
   "source": [
    "abs_diff = baseline.drop(columns=\"name\") - storage.drop(columns=\"name\")\n",
    "\n",
    "# drop those that could not be optimized\n",
    "abs_diff.dropna(subset=\"total_yearly_costs_eur\", inplace=True)\n",
    "\n",
    "abs_diff.head()"
   ]
  },
  {
   "cell_type": "code",
   "execution_count": 96,
   "id": "4e240a74",
   "metadata": {},
   "outputs": [],
   "source": [
    "# merge savings onto master (with features)\n",
    "abs_diff_with_master = pd.merge(left=abs_diff, right=master, how=\"left\", left_index=True, right_index=True)\n",
    "abs_diff_with_master.head()\n",
    "\n",
    "abs_diff_with_master[\"std_by_mean\"] = abs_diff_with_master[\"std_kw\"] / abs_diff_with_master[\"mean_load_kw\"]\n",
    "abs_diff_with_master[\"std_by_peak\"] = abs_diff_with_master[\"std_kw\"] / abs_diff_with_master[\"peak_load_kw\"]\n",
    "abs_diff_with_master[\"peak_by_mean\"] = abs_diff_with_master[\"peak_load_kw\"] / abs_diff_with_master[\"mean_load_kw\"]"
   ]
  },
  {
   "cell_type": "code",
   "execution_count": 97,
   "id": "218800a1",
   "metadata": {},
   "outputs": [
    {
     "data": {
      "text/html": [
       "<div>\n",
       "<style scoped>\n",
       "    .dataframe tbody tr th:only-of-type {\n",
       "        vertical-align: middle;\n",
       "    }\n",
       "\n",
       "    .dataframe tbody tr th {\n",
       "        vertical-align: top;\n",
       "    }\n",
       "\n",
       "    .dataframe thead th {\n",
       "        text-align: right;\n",
       "    }\n",
       "</style>\n",
       "<table border=\"1\" class=\"dataframe\">\n",
       "  <thead>\n",
       "    <tr style=\"text-align: right;\">\n",
       "      <th></th>\n",
       "      <th>energy_costs_eur</th>\n",
       "      <th>grid_capacity_costs_eur</th>\n",
       "      <th>grid_capacity_kw</th>\n",
       "      <th>grid_energy_costs_eur</th>\n",
       "      <th>inverter_annuity_eur</th>\n",
       "      <th>inverter_capacity_kw</th>\n",
       "      <th>inverter_invest_eur</th>\n",
       "      <th>invest_per_tac</th>\n",
       "      <th>solar_annuity_eur</th>\n",
       "      <th>solar_capacity_kwp</th>\n",
       "      <th>solar_invest_eur</th>\n",
       "      <th>storage_annuity_eur</th>\n",
       "      <th>storage_capacity_kwh</th>\n",
       "      <th>storage_invest_eur</th>\n",
       "      <th>total_annuity_eur</th>\n",
       "      <th>total_invest_eur</th>\n",
       "      <th>total_yearly_costs_eur</th>\n",
       "    </tr>\n",
       "    <tr>\n",
       "      <th>id</th>\n",
       "      <th></th>\n",
       "      <th></th>\n",
       "      <th></th>\n",
       "      <th></th>\n",
       "      <th></th>\n",
       "      <th></th>\n",
       "      <th></th>\n",
       "      <th></th>\n",
       "      <th></th>\n",
       "      <th></th>\n",
       "      <th></th>\n",
       "      <th></th>\n",
       "      <th></th>\n",
       "      <th></th>\n",
       "      <th></th>\n",
       "      <th></th>\n",
       "      <th></th>\n",
       "    </tr>\n",
       "  </thead>\n",
       "  <tbody>\n",
       "    <tr>\n",
       "      <th>1</th>\n",
       "      <td>0.002005</td>\n",
       "      <td>0.153450</td>\n",
       "      <td>0.153450</td>\n",
       "      <td>0.002005</td>\n",
       "      <td>-inf</td>\n",
       "      <td>-inf</td>\n",
       "      <td>-inf</td>\n",
       "      <td>NaN</td>\n",
       "      <td>NaN</td>\n",
       "      <td>NaN</td>\n",
       "      <td>NaN</td>\n",
       "      <td>-inf</td>\n",
       "      <td>-inf</td>\n",
       "      <td>-inf</td>\n",
       "      <td>-inf</td>\n",
       "      <td>-inf</td>\n",
       "      <td>0.027531</td>\n",
       "    </tr>\n",
       "    <tr>\n",
       "      <th>2</th>\n",
       "      <td>0.001434</td>\n",
       "      <td>0.217816</td>\n",
       "      <td>0.217816</td>\n",
       "      <td>0.001434</td>\n",
       "      <td>-inf</td>\n",
       "      <td>-inf</td>\n",
       "      <td>-inf</td>\n",
       "      <td>NaN</td>\n",
       "      <td>NaN</td>\n",
       "      <td>NaN</td>\n",
       "      <td>NaN</td>\n",
       "      <td>-inf</td>\n",
       "      <td>-inf</td>\n",
       "      <td>-inf</td>\n",
       "      <td>-inf</td>\n",
       "      <td>-inf</td>\n",
       "      <td>0.043229</td>\n",
       "    </tr>\n",
       "    <tr>\n",
       "      <th>3</th>\n",
       "      <td>0.002630</td>\n",
       "      <td>0.109119</td>\n",
       "      <td>0.109119</td>\n",
       "      <td>0.002630</td>\n",
       "      <td>-inf</td>\n",
       "      <td>-inf</td>\n",
       "      <td>-inf</td>\n",
       "      <td>NaN</td>\n",
       "      <td>NaN</td>\n",
       "      <td>NaN</td>\n",
       "      <td>NaN</td>\n",
       "      <td>-inf</td>\n",
       "      <td>-inf</td>\n",
       "      <td>-inf</td>\n",
       "      <td>-inf</td>\n",
       "      <td>-inf</td>\n",
       "      <td>0.024201</td>\n",
       "    </tr>\n",
       "    <tr>\n",
       "      <th>11</th>\n",
       "      <td>0.001979</td>\n",
       "      <td>0.264455</td>\n",
       "      <td>0.264455</td>\n",
       "      <td>0.001979</td>\n",
       "      <td>-inf</td>\n",
       "      <td>-inf</td>\n",
       "      <td>-inf</td>\n",
       "      <td>NaN</td>\n",
       "      <td>NaN</td>\n",
       "      <td>NaN</td>\n",
       "      <td>NaN</td>\n",
       "      <td>-inf</td>\n",
       "      <td>-inf</td>\n",
       "      <td>-inf</td>\n",
       "      <td>-inf</td>\n",
       "      <td>-inf</td>\n",
       "      <td>0.029337</td>\n",
       "    </tr>\n",
       "    <tr>\n",
       "      <th>18</th>\n",
       "      <td>0.001926</td>\n",
       "      <td>0.368913</td>\n",
       "      <td>0.368913</td>\n",
       "      <td>0.001926</td>\n",
       "      <td>-inf</td>\n",
       "      <td>-inf</td>\n",
       "      <td>-inf</td>\n",
       "      <td>NaN</td>\n",
       "      <td>NaN</td>\n",
       "      <td>NaN</td>\n",
       "      <td>NaN</td>\n",
       "      <td>-inf</td>\n",
       "      <td>-inf</td>\n",
       "      <td>-inf</td>\n",
       "      <td>-inf</td>\n",
       "      <td>-inf</td>\n",
       "      <td>0.036380</td>\n",
       "    </tr>\n",
       "    <tr>\n",
       "      <th>...</th>\n",
       "      <td>...</td>\n",
       "      <td>...</td>\n",
       "      <td>...</td>\n",
       "      <td>...</td>\n",
       "      <td>...</td>\n",
       "      <td>...</td>\n",
       "      <td>...</td>\n",
       "      <td>...</td>\n",
       "      <td>...</td>\n",
       "      <td>...</td>\n",
       "      <td>...</td>\n",
       "      <td>...</td>\n",
       "      <td>...</td>\n",
       "      <td>...</td>\n",
       "      <td>...</td>\n",
       "      <td>...</td>\n",
       "      <td>...</td>\n",
       "    </tr>\n",
       "    <tr>\n",
       "      <th>5349</th>\n",
       "      <td>0.001966</td>\n",
       "      <td>0.336584</td>\n",
       "      <td>0.336584</td>\n",
       "      <td>0.001966</td>\n",
       "      <td>-inf</td>\n",
       "      <td>-inf</td>\n",
       "      <td>-inf</td>\n",
       "      <td>NaN</td>\n",
       "      <td>NaN</td>\n",
       "      <td>NaN</td>\n",
       "      <td>NaN</td>\n",
       "      <td>-inf</td>\n",
       "      <td>-inf</td>\n",
       "      <td>-inf</td>\n",
       "      <td>-inf</td>\n",
       "      <td>-inf</td>\n",
       "      <td>0.073225</td>\n",
       "    </tr>\n",
       "    <tr>\n",
       "      <th>5350</th>\n",
       "      <td>0.002545</td>\n",
       "      <td>0.163913</td>\n",
       "      <td>0.163913</td>\n",
       "      <td>0.002545</td>\n",
       "      <td>-inf</td>\n",
       "      <td>-inf</td>\n",
       "      <td>-inf</td>\n",
       "      <td>NaN</td>\n",
       "      <td>NaN</td>\n",
       "      <td>NaN</td>\n",
       "      <td>NaN</td>\n",
       "      <td>-inf</td>\n",
       "      <td>-inf</td>\n",
       "      <td>-inf</td>\n",
       "      <td>-inf</td>\n",
       "      <td>-inf</td>\n",
       "      <td>0.026960</td>\n",
       "    </tr>\n",
       "    <tr>\n",
       "      <th>5353</th>\n",
       "      <td>0.002452</td>\n",
       "      <td>0.184117</td>\n",
       "      <td>0.184117</td>\n",
       "      <td>0.002452</td>\n",
       "      <td>-inf</td>\n",
       "      <td>-inf</td>\n",
       "      <td>-inf</td>\n",
       "      <td>NaN</td>\n",
       "      <td>NaN</td>\n",
       "      <td>NaN</td>\n",
       "      <td>NaN</td>\n",
       "      <td>-inf</td>\n",
       "      <td>-inf</td>\n",
       "      <td>-inf</td>\n",
       "      <td>-inf</td>\n",
       "      <td>-inf</td>\n",
       "      <td>0.019726</td>\n",
       "    </tr>\n",
       "    <tr>\n",
       "      <th>5357</th>\n",
       "      <td>0.002540</td>\n",
       "      <td>0.181818</td>\n",
       "      <td>0.181818</td>\n",
       "      <td>0.002540</td>\n",
       "      <td>-inf</td>\n",
       "      <td>-inf</td>\n",
       "      <td>-inf</td>\n",
       "      <td>NaN</td>\n",
       "      <td>NaN</td>\n",
       "      <td>NaN</td>\n",
       "      <td>NaN</td>\n",
       "      <td>-inf</td>\n",
       "      <td>-inf</td>\n",
       "      <td>-inf</td>\n",
       "      <td>-inf</td>\n",
       "      <td>-inf</td>\n",
       "      <td>0.022003</td>\n",
       "    </tr>\n",
       "    <tr>\n",
       "      <th>5358</th>\n",
       "      <td>0.002652</td>\n",
       "      <td>0.171159</td>\n",
       "      <td>0.171159</td>\n",
       "      <td>0.002652</td>\n",
       "      <td>-inf</td>\n",
       "      <td>-inf</td>\n",
       "      <td>-inf</td>\n",
       "      <td>NaN</td>\n",
       "      <td>NaN</td>\n",
       "      <td>NaN</td>\n",
       "      <td>NaN</td>\n",
       "      <td>-inf</td>\n",
       "      <td>-inf</td>\n",
       "      <td>-inf</td>\n",
       "      <td>-inf</td>\n",
       "      <td>-inf</td>\n",
       "      <td>0.034521</td>\n",
       "    </tr>\n",
       "  </tbody>\n",
       "</table>\n",
       "<p>1708 rows × 17 columns</p>\n",
       "</div>"
      ],
      "text/plain": [
       "      energy_costs_eur  grid_capacity_costs_eur  grid_capacity_kw  \\\n",
       "id                                                                  \n",
       "1             0.002005                 0.153450          0.153450   \n",
       "2             0.001434                 0.217816          0.217816   \n",
       "3             0.002630                 0.109119          0.109119   \n",
       "11            0.001979                 0.264455          0.264455   \n",
       "18            0.001926                 0.368913          0.368913   \n",
       "...                ...                      ...               ...   \n",
       "5349          0.001966                 0.336584          0.336584   \n",
       "5350          0.002545                 0.163913          0.163913   \n",
       "5353          0.002452                 0.184117          0.184117   \n",
       "5357          0.002540                 0.181818          0.181818   \n",
       "5358          0.002652                 0.171159          0.171159   \n",
       "\n",
       "      grid_energy_costs_eur  inverter_annuity_eur  inverter_capacity_kw  \\\n",
       "id                                                                        \n",
       "1                  0.002005                  -inf                  -inf   \n",
       "2                  0.001434                  -inf                  -inf   \n",
       "3                  0.002630                  -inf                  -inf   \n",
       "11                 0.001979                  -inf                  -inf   \n",
       "18                 0.001926                  -inf                  -inf   \n",
       "...                     ...                   ...                   ...   \n",
       "5349               0.001966                  -inf                  -inf   \n",
       "5350               0.002545                  -inf                  -inf   \n",
       "5353               0.002452                  -inf                  -inf   \n",
       "5357               0.002540                  -inf                  -inf   \n",
       "5358               0.002652                  -inf                  -inf   \n",
       "\n",
       "      inverter_invest_eur  invest_per_tac  solar_annuity_eur  \\\n",
       "id                                                             \n",
       "1                    -inf             NaN                NaN   \n",
       "2                    -inf             NaN                NaN   \n",
       "3                    -inf             NaN                NaN   \n",
       "11                   -inf             NaN                NaN   \n",
       "18                   -inf             NaN                NaN   \n",
       "...                   ...             ...                ...   \n",
       "5349                 -inf             NaN                NaN   \n",
       "5350                 -inf             NaN                NaN   \n",
       "5353                 -inf             NaN                NaN   \n",
       "5357                 -inf             NaN                NaN   \n",
       "5358                 -inf             NaN                NaN   \n",
       "\n",
       "      solar_capacity_kwp  solar_invest_eur  storage_annuity_eur  \\\n",
       "id                                                                \n",
       "1                    NaN               NaN                 -inf   \n",
       "2                    NaN               NaN                 -inf   \n",
       "3                    NaN               NaN                 -inf   \n",
       "11                   NaN               NaN                 -inf   \n",
       "18                   NaN               NaN                 -inf   \n",
       "...                  ...               ...                  ...   \n",
       "5349                 NaN               NaN                 -inf   \n",
       "5350                 NaN               NaN                 -inf   \n",
       "5353                 NaN               NaN                 -inf   \n",
       "5357                 NaN               NaN                 -inf   \n",
       "5358                 NaN               NaN                 -inf   \n",
       "\n",
       "      storage_capacity_kwh  storage_invest_eur  total_annuity_eur  \\\n",
       "id                                                                  \n",
       "1                     -inf                -inf               -inf   \n",
       "2                     -inf                -inf               -inf   \n",
       "3                     -inf                -inf               -inf   \n",
       "11                    -inf                -inf               -inf   \n",
       "18                    -inf                -inf               -inf   \n",
       "...                    ...                 ...                ...   \n",
       "5349                  -inf                -inf               -inf   \n",
       "5350                  -inf                -inf               -inf   \n",
       "5353                  -inf                -inf               -inf   \n",
       "5357                  -inf                -inf               -inf   \n",
       "5358                  -inf                -inf               -inf   \n",
       "\n",
       "      total_invest_eur  total_yearly_costs_eur  \n",
       "id                                              \n",
       "1                 -inf                0.027531  \n",
       "2                 -inf                0.043229  \n",
       "3                 -inf                0.024201  \n",
       "11                -inf                0.029337  \n",
       "18                -inf                0.036380  \n",
       "...                ...                     ...  \n",
       "5349              -inf                0.073225  \n",
       "5350              -inf                0.026960  \n",
       "5353              -inf                0.019726  \n",
       "5357              -inf                0.022003  \n",
       "5358              -inf                0.034521  \n",
       "\n",
       "[1708 rows x 17 columns]"
      ]
     },
     "execution_count": 97,
     "metadata": {},
     "output_type": "execute_result"
    }
   ],
   "source": [
    "rel_diff = (baseline.drop(columns=\"name\") - storage.drop(columns=\"name\")) / baseline.drop(columns=\"name\")\n",
    "\n",
    "# drop those that could not be optimized\n",
    "rel_diff.dropna(subset=\"total_yearly_costs_eur\", inplace=True)\n",
    "\n",
    "rel_diff"
   ]
  },
  {
   "cell_type": "code",
   "execution_count": 98,
   "id": "407c5343",
   "metadata": {},
   "outputs": [],
   "source": [
    "# merge savings onto master (with features)\n",
    "rel_diff_with_master = pd.merge(left=rel_diff, right=master, how=\"left\", left_index=True, right_index=True)\n",
    "rel_diff_with_master.head()\n",
    "\n",
    "rel_diff_with_master[\"std_by_mean\"] = rel_diff_with_master[\"std_kw\"] / rel_diff_with_master[\"mean_load_kw\"]\n",
    "rel_diff_with_master[\"std_by_peak\"] = rel_diff_with_master[\"std_kw\"] / rel_diff_with_master[\"peak_load_kw\"]\n",
    "rel_diff_with_master[\"peak_by_mean\"] = rel_diff_with_master[\"peak_load_kw\"] / rel_diff_with_master[\"mean_load_kw\"]"
   ]
  },
  {
   "cell_type": "markdown",
   "id": "c69b0e26",
   "metadata": {},
   "source": [
    "## Total savings"
   ]
  },
  {
   "cell_type": "code",
   "execution_count": 99,
   "id": "a0440903",
   "metadata": {},
   "outputs": [
    {
     "name": "stdout",
     "output_type": "stream",
     "text": [
      "|      |   Total yearly savings in eur |\n",
      "|:-----|------------------------------:|\n",
      "| mean |                       5562.79 |\n",
      "| std  |                      16297.7  |\n",
      "| min  |                          0    |\n",
      "| 25%  |                       1051.1  |\n",
      "| 50%  |                       2468.1  |\n",
      "| 75%  |                       5465.09 |\n",
      "| max  |                     514178    |\n"
     ]
    },
    {
     "data": {
      "application/vnd.plotly.v1+json": {
       "config": {
        "plotlyServerURL": "https://plot.ly"
       },
       "data": [
        {
         "alignmentgroup": "True",
         "hovertemplate": "value=%{x}<br>variable=%{y}<extra></extra>",
         "legendgroup": "",
         "marker": {
          "color": "#636efa"
         },
         "name": "",
         "notched": false,
         "offsetgroup": "",
         "orientation": "h",
         "showlegend": false,
         "type": "box",
         "x": {
          "bdata": "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",
          "dtype": "f8"
         },
         "x0": " ",
         "xaxis": "x",
         "y": [
          "Savings",
          "Savings",
          "Savings",
          "Savings",
          "Savings",
          "Savings",
          "Savings",
          "Savings",
          "Savings",
          "Savings",
          "Savings",
          "Savings",
          "Savings",
          "Savings",
          "Savings",
          "Savings",
          "Savings",
          "Savings",
          "Savings",
          "Savings",
          "Savings",
          "Savings",
          "Savings",
          "Savings",
          "Savings",
          "Savings",
          "Savings",
          "Savings",
          "Savings",
          "Savings",
          "Savings",
          "Savings",
          "Savings",
          "Savings",
          "Savings",
          "Savings",
          "Savings",
          "Savings",
          "Savings",
          "Savings",
          "Savings",
          "Savings",
          "Savings",
          "Savings",
          "Savings",
          "Savings",
          "Savings",
          "Savings",
          "Savings",
          "Savings",
          "Savings",
          "Savings",
          "Savings",
          "Savings",
          "Savings",
          "Savings",
          "Savings",
          "Savings",
          "Savings",
          "Savings",
          "Savings",
          "Savings",
          "Savings",
          "Savings",
          "Savings",
          "Savings",
          "Savings",
          "Savings",
          "Savings",
          "Savings",
          "Savings",
          "Savings",
          "Savings",
          "Savings",
          "Savings",
          "Savings",
          "Savings",
          "Savings",
          "Savings",
          "Savings",
          "Savings",
          "Savings",
          "Savings",
          "Savings",
          "Savings",
          "Savings",
          "Savings",
          "Savings",
          "Savings",
          "Savings",
          "Savings",
          "Savings",
          "Savings",
          "Savings",
          "Savings",
          "Savings",
          "Savings",
          "Savings",
          "Savings",
          "Savings",
          "Savings",
          "Savings",
          "Savings",
          "Savings",
          "Savings",
          "Savings",
          "Savings",
          "Savings",
          "Savings",
          "Savings",
          "Savings",
          "Savings",
          "Savings",
          "Savings",
          "Savings",
          "Savings",
          "Savings",
          "Savings",
          "Savings",
          "Savings",
          "Savings",
          "Savings",
          "Savings",
          "Savings",
          "Savings",
          "Savings",
          "Savings",
          "Savings",
          "Savings",
          "Savings",
          "Savings",
          "Savings",
          "Savings",
          "Savings",
          "Savings",
          "Savings",
          "Savings",
          "Savings",
          "Savings",
          "Savings",
          "Savings",
          "Savings",
          "Savings",
          "Savings",
          "Savings",
          "Savings",
          "Savings",
          "Savings",
          "Savings",
          "Savings",
          "Savings",
          "Savings",
          "Savings",
          "Savings",
          "Savings",
          "Savings",
          "Savings",
          "Savings",
          "Savings",
          "Savings",
          "Savings",
          "Savings",
          "Savings",
          "Savings",
          "Savings",
          "Savings",
          "Savings",
          "Savings",
          "Savings",
          "Savings",
          "Savings",
          "Savings",
          "Savings",
          "Savings",
          "Savings",
          "Savings",
          "Savings",
          "Savings",
          "Savings",
          "Savings",
          "Savings",
          "Savings",
          "Savings",
          "Savings",
          "Savings",
          "Savings",
          "Savings",
          "Savings",
          "Savings",
          "Savings",
          "Savings",
          "Savings",
          "Savings",
          "Savings",
          "Savings",
          "Savings",
          "Savings",
          "Savings",
          "Savings",
          "Savings",
          "Savings",
          "Savings",
          "Savings",
          "Savings",
          "Savings",
          "Savings",
          "Savings",
          "Savings",
          "Savings",
          "Savings",
          "Savings",
          "Savings",
          "Savings",
          "Savings",
          "Savings",
          "Savings",
          "Savings",
          "Savings",
          "Savings",
          "Savings",
          "Savings",
          "Savings",
          "Savings",
          "Savings",
          "Savings",
          "Savings",
          "Savings",
          "Savings",
          "Savings",
          "Savings",
          "Savings",
          "Savings",
          "Savings",
          "Savings",
          "Savings",
          "Savings",
          "Savings",
          "Savings",
          "Savings",
          "Savings",
          "Savings",
          "Savings",
          "Savings",
          "Savings",
          "Savings",
          "Savings",
          "Savings",
          "Savings",
          "Savings",
          "Savings",
          "Savings",
          "Savings",
          "Savings",
          "Savings",
          "Savings",
          "Savings",
          "Savings",
          "Savings",
          "Savings",
          "Savings",
          "Savings",
          "Savings",
          "Savings",
          "Savings",
          "Savings",
          "Savings",
          "Savings",
          "Savings",
          "Savings",
          "Savings",
          "Savings",
          "Savings",
          "Savings",
          "Savings",
          "Savings",
          "Savings",
          "Savings",
          "Savings",
          "Savings",
          "Savings",
          "Savings",
          "Savings",
          "Savings",
          "Savings",
          "Savings",
          "Savings",
          "Savings",
          "Savings",
          "Savings",
          "Savings",
          "Savings",
          "Savings",
          "Savings",
          "Savings",
          "Savings",
          "Savings",
          "Savings",
          "Savings",
          "Savings",
          "Savings",
          "Savings",
          "Savings",
          "Savings",
          "Savings",
          "Savings",
          "Savings",
          "Savings",
          "Savings",
          "Savings",
          "Savings",
          "Savings",
          "Savings",
          "Savings",
          "Savings",
          "Savings",
          "Savings",
          "Savings",
          "Savings",
          "Savings",
          "Savings",
          "Savings",
          "Savings",
          "Savings",
          "Savings",
          "Savings",
          "Savings",
          "Savings",
          "Savings",
          "Savings",
          "Savings",
          "Savings",
          "Savings",
          "Savings",
          "Savings",
          "Savings",
          "Savings",
          "Savings",
          "Savings",
          "Savings",
          "Savings",
          "Savings",
          "Savings",
          "Savings",
          "Savings",
          "Savings",
          "Savings",
          "Savings",
          "Savings",
          "Savings",
          "Savings",
          "Savings",
          "Savings",
          "Savings",
          "Savings",
          "Savings",
          "Savings",
          "Savings",
          "Savings",
          "Savings",
          "Savings",
          "Savings",
          "Savings",
          "Savings",
          "Savings",
          "Savings",
          "Savings",
          "Savings",
          "Savings",
          "Savings",
          "Savings",
          "Savings",
          "Savings",
          "Savings",
          "Savings",
          "Savings",
          "Savings",
          "Savings",
          "Savings",
          "Savings",
          "Savings",
          "Savings",
          "Savings",
          "Savings",
          "Savings",
          "Savings",
          "Savings",
          "Savings",
          "Savings",
          "Savings",
          "Savings",
          "Savings",
          "Savings",
          "Savings",
          "Savings",
          "Savings",
          "Savings",
          "Savings",
          "Savings",
          "Savings",
          "Savings",
          "Savings",
          "Savings",
          "Savings",
          "Savings",
          "Savings",
          "Savings",
          "Savings",
          "Savings",
          "Savings",
          "Savings",
          "Savings",
          "Savings",
          "Savings",
          "Savings",
          "Savings",
          "Savings",
          "Savings",
          "Savings",
          "Savings",
          "Savings",
          "Savings",
          "Savings",
          "Savings",
          "Savings",
          "Savings",
          "Savings",
          "Savings",
          "Savings",
          "Savings",
          "Savings",
          "Savings",
          "Savings",
          "Savings",
          "Savings",
          "Savings",
          "Savings",
          "Savings",
          "Savings",
          "Savings",
          "Savings",
          "Savings",
          "Savings",
          "Savings",
          "Savings",
          "Savings",
          "Savings",
          "Savings",
          "Savings",
          "Savings",
          "Savings",
          "Savings",
          "Savings",
          "Savings",
          "Savings",
          "Savings",
          "Savings",
          "Savings",
          "Savings",
          "Savings",
          "Savings",
          "Savings",
          "Savings",
          "Savings",
          "Savings",
          "Savings",
          "Savings",
          "Savings",
          "Savings",
          "Savings",
          "Savings",
          "Savings",
          "Savings",
          "Savings",
          "Savings",
          "Savings",
          "Savings",
          "Savings",
          "Savings",
          "Savings",
          "Savings",
          "Savings",
          "Savings",
          "Savings",
          "Savings",
          "Savings",
          "Savings",
          "Savings",
          "Savings",
          "Savings",
          "Savings",
          "Savings",
          "Savings",
          "Savings",
          "Savings",
          "Savings",
          "Savings",
          "Savings",
          "Savings",
          "Savings",
          "Savings",
          "Savings",
          "Savings",
          "Savings",
          "Savings",
          "Savings",
          "Savings",
          "Savings",
          "Savings",
          "Savings",
          "Savings",
          "Savings",
          "Savings",
          "Savings",
          "Savings",
          "Savings",
          "Savings",
          "Savings",
          "Savings",
          "Savings",
          "Savings",
          "Savings",
          "Savings",
          "Savings",
          "Savings",
          "Savings",
          "Savings",
          "Savings",
          "Savings",
          "Savings",
          "Savings",
          "Savings",
          "Savings",
          "Savings",
          "Savings",
          "Savings",
          "Savings",
          "Savings",
          "Savings",
          "Savings",
          "Savings",
          "Savings",
          "Savings",
          "Savings",
          "Savings",
          "Savings",
          "Savings",
          "Savings",
          "Savings",
          "Savings",
          "Savings",
          "Savings",
          "Savings",
          "Savings",
          "Savings",
          "Savings",
          "Savings",
          "Savings",
          "Savings",
          "Savings",
          "Savings",
          "Savings",
          "Savings",
          "Savings",
          "Savings",
          "Savings",
          "Savings",
          "Savings",
          "Savings",
          "Savings",
          "Savings",
          "Savings",
          "Savings",
          "Savings",
          "Savings",
          "Savings",
          "Savings",
          "Savings",
          "Savings",
          "Savings",
          "Savings",
          "Savings",
          "Savings",
          "Savings",
          "Savings",
          "Savings",
          "Savings",
          "Savings",
          "Savings",
          "Savings",
          "Savings",
          "Savings",
          "Savings",
          "Savings",
          "Savings",
          "Savings",
          "Savings",
          "Savings",
          "Savings",
          "Savings",
          "Savings",
          "Savings",
          "Savings",
          "Savings",
          "Savings",
          "Savings",
          "Savings",
          "Savings",
          "Savings",
          "Savings",
          "Savings",
          "Savings",
          "Savings",
          "Savings",
          "Savings",
          "Savings",
          "Savings",
          "Savings",
          "Savings",
          "Savings",
          "Savings",
          "Savings",
          "Savings",
          "Savings",
          "Savings",
          "Savings",
          "Savings",
          "Savings",
          "Savings",
          "Savings",
          "Savings",
          "Savings",
          "Savings",
          "Savings",
          "Savings",
          "Savings",
          "Savings",
          "Savings",
          "Savings",
          "Savings",
          "Savings",
          "Savings",
          "Savings",
          "Savings",
          "Savings",
          "Savings",
          "Savings",
          "Savings",
          "Savings",
          "Savings",
          "Savings",
          "Savings",
          "Savings",
          "Savings",
          "Savings",
          "Savings",
          "Savings",
          "Savings",
          "Savings",
          "Savings",
          "Savings",
          "Savings",
          "Savings",
          "Savings",
          "Savings",
          "Savings",
          "Savings",
          "Savings",
          "Savings",
          "Savings",
          "Savings",
          "Savings",
          "Savings",
          "Savings",
          "Savings",
          "Savings",
          "Savings",
          "Savings",
          "Savings",
          "Savings",
          "Savings",
          "Savings",
          "Savings",
          "Savings",
          "Savings",
          "Savings",
          "Savings",
          "Savings",
          "Savings",
          "Savings",
          "Savings",
          "Savings",
          "Savings",
          "Savings",
          "Savings",
          "Savings",
          "Savings",
          "Savings",
          "Savings",
          "Savings",
          "Savings",
          "Savings",
          "Savings",
          "Savings",
          "Savings",
          "Savings",
          "Savings",
          "Savings",
          "Savings",
          "Savings",
          "Savings",
          "Savings",
          "Savings",
          "Savings",
          "Savings",
          "Savings",
          "Savings",
          "Savings",
          "Savings",
          "Savings",
          "Savings",
          "Savings",
          "Savings",
          "Savings",
          "Savings",
          "Savings",
          "Savings",
          "Savings",
          "Savings",
          "Savings",
          "Savings",
          "Savings",
          "Savings",
          "Savings",
          "Savings",
          "Savings",
          "Savings",
          "Savings",
          "Savings",
          "Savings",
          "Savings",
          "Savings",
          "Savings",
          "Savings",
          "Savings",
          "Savings",
          "Savings",
          "Savings",
          "Savings",
          "Savings",
          "Savings",
          "Savings",
          "Savings",
          "Savings",
          "Savings",
          "Savings",
          "Savings",
          "Savings",
          "Savings",
          "Savings",
          "Savings",
          "Savings",
          "Savings",
          "Savings",
          "Savings",
          "Savings",
          "Savings",
          "Savings",
          "Savings",
          "Savings",
          "Savings",
          "Savings",
          "Savings",
          "Savings",
          "Savings",
          "Savings",
          "Savings",
          "Savings",
          "Savings",
          "Savings",
          "Savings",
          "Savings",
          "Savings",
          "Savings",
          "Savings",
          "Savings",
          "Savings",
          "Savings",
          "Savings",
          "Savings",
          "Savings",
          "Savings",
          "Savings",
          "Savings",
          "Savings",
          "Savings",
          "Savings",
          "Savings",
          "Savings",
          "Savings",
          "Savings",
          "Savings",
          "Savings",
          "Savings",
          "Savings",
          "Savings",
          "Savings",
          "Savings",
          "Savings",
          "Savings",
          "Savings",
          "Savings",
          "Savings",
          "Savings",
          "Savings",
          "Savings",
          "Savings",
          "Savings",
          "Savings",
          "Savings",
          "Savings",
          "Savings",
          "Savings",
          "Savings",
          "Savings",
          "Savings",
          "Savings",
          "Savings",
          "Savings",
          "Savings",
          "Savings",
          "Savings",
          "Savings",
          "Savings",
          "Savings",
          "Savings",
          "Savings",
          "Savings",
          "Savings",
          "Savings",
          "Savings",
          "Savings",
          "Savings",
          "Savings",
          "Savings",
          "Savings",
          "Savings",
          "Savings",
          "Savings",
          "Savings",
          "Savings",
          "Savings",
          "Savings",
          "Savings",
          "Savings",
          "Savings",
          "Savings",
          "Savings",
          "Savings",
          "Savings",
          "Savings",
          "Savings",
          "Savings",
          "Savings",
          "Savings",
          "Savings",
          "Savings",
          "Savings",
          "Savings",
          "Savings",
          "Savings",
          "Savings",
          "Savings",
          "Savings",
          "Savings",
          "Savings",
          "Savings",
          "Savings",
          "Savings",
          "Savings",
          "Savings",
          "Savings",
          "Savings",
          "Savings",
          "Savings",
          "Savings",
          "Savings",
          "Savings",
          "Savings",
          "Savings",
          "Savings",
          "Savings",
          "Savings",
          "Savings",
          "Savings",
          "Savings",
          "Savings",
          "Savings",
          "Savings",
          "Savings",
          "Savings",
          "Savings",
          "Savings",
          "Savings",
          "Savings",
          "Savings",
          "Savings",
          "Savings",
          "Savings",
          "Savings",
          "Savings",
          "Savings",
          "Savings",
          "Savings",
          "Savings",
          "Savings",
          "Savings",
          "Savings",
          "Savings",
          "Savings",
          "Savings",
          "Savings",
          "Savings",
          "Savings",
          "Savings",
          "Savings",
          "Savings",
          "Savings",
          "Savings",
          "Savings",
          "Savings",
          "Savings",
          "Savings",
          "Savings",
          "Savings",
          "Savings",
          "Savings",
          "Savings",
          "Savings",
          "Savings",
          "Savings",
          "Savings",
          "Savings",
          "Savings",
          "Savings",
          "Savings",
          "Savings",
          "Savings",
          "Savings",
          "Savings",
          "Savings",
          "Savings",
          "Savings",
          "Savings",
          "Savings",
          "Savings",
          "Savings",
          "Savings",
          "Savings",
          "Savings",
          "Savings",
          "Savings",
          "Savings",
          "Savings",
          "Savings",
          "Savings",
          "Savings",
          "Savings",
          "Savings",
          "Savings",
          "Savings",
          "Savings",
          "Savings",
          "Savings",
          "Savings",
          "Savings",
          "Savings",
          "Savings",
          "Savings",
          "Savings",
          "Savings",
          "Savings",
          "Savings",
          "Savings",
          "Savings",
          "Savings",
          "Savings",
          "Savings",
          "Savings",
          "Savings",
          "Savings",
          "Savings",
          "Savings",
          "Savings",
          "Savings",
          "Savings",
          "Savings",
          "Savings",
          "Savings",
          "Savings",
          "Savings",
          "Savings",
          "Savings",
          "Savings",
          "Savings",
          "Savings",
          "Savings",
          "Savings",
          "Savings",
          "Savings",
          "Savings",
          "Savings",
          "Savings",
          "Savings",
          "Savings",
          "Savings",
          "Savings",
          "Savings",
          "Savings",
          "Savings",
          "Savings",
          "Savings",
          "Savings",
          "Savings",
          "Savings",
          "Savings",
          "Savings",
          "Savings",
          "Savings",
          "Savings",
          "Savings",
          "Savings",
          "Savings",
          "Savings",
          "Savings",
          "Savings",
          "Savings",
          "Savings",
          "Savings",
          "Savings",
          "Savings",
          "Savings",
          "Savings",
          "Savings",
          "Savings",
          "Savings",
          "Savings",
          "Savings",
          "Savings",
          "Savings",
          "Savings",
          "Savings",
          "Savings",
          "Savings",
          "Savings",
          "Savings",
          "Savings",
          "Savings",
          "Savings",
          "Savings",
          "Savings",
          "Savings",
          "Savings",
          "Savings",
          "Savings",
          "Savings",
          "Savings",
          "Savings",
          "Savings",
          "Savings",
          "Savings",
          "Savings",
          "Savings",
          "Savings",
          "Savings",
          "Savings",
          "Savings",
          "Savings",
          "Savings",
          "Savings",
          "Savings",
          "Savings",
          "Savings",
          "Savings",
          "Savings",
          "Savings",
          "Savings",
          "Savings",
          "Savings",
          "Savings",
          "Savings",
          "Savings",
          "Savings",
          "Savings",
          "Savings",
          "Savings",
          "Savings",
          "Savings",
          "Savings",
          "Savings",
          "Savings",
          "Savings",
          "Savings",
          "Savings",
          "Savings",
          "Savings",
          "Savings",
          "Savings",
          "Savings",
          "Savings",
          "Savings",
          "Savings",
          "Savings",
          "Savings",
          "Savings",
          "Savings",
          "Savings",
          "Savings",
          "Savings",
          "Savings",
          "Savings",
          "Savings",
          "Savings",
          "Savings",
          "Savings",
          "Savings",
          "Savings",
          "Savings",
          "Savings",
          "Savings",
          "Savings",
          "Savings",
          "Savings",
          "Savings",
          "Savings",
          "Savings",
          "Savings",
          "Savings",
          "Savings",
          "Savings",
          "Savings",
          "Savings",
          "Savings",
          "Savings",
          "Savings",
          "Savings",
          "Savings",
          "Savings",
          "Savings",
          "Savings",
          "Savings",
          "Savings",
          "Savings",
          "Savings",
          "Savings",
          "Savings",
          "Savings",
          "Savings",
          "Savings",
          "Savings",
          "Savings",
          "Savings",
          "Savings",
          "Savings",
          "Savings",
          "Savings",
          "Savings",
          "Savings",
          "Savings",
          "Savings",
          "Savings",
          "Savings",
          "Savings",
          "Savings",
          "Savings",
          "Savings",
          "Savings",
          "Savings",
          "Savings",
          "Savings",
          "Savings",
          "Savings",
          "Savings",
          "Savings",
          "Savings",
          "Savings",
          "Savings",
          "Savings",
          "Savings",
          "Savings",
          "Savings",
          "Savings",
          "Savings",
          "Savings",
          "Savings",
          "Savings",
          "Savings",
          "Savings",
          "Savings",
          "Savings",
          "Savings",
          "Savings",
          "Savings",
          "Savings",
          "Savings",
          "Savings",
          "Savings",
          "Savings",
          "Savings",
          "Savings",
          "Savings",
          "Savings",
          "Savings",
          "Savings",
          "Savings",
          "Savings",
          "Savings",
          "Savings",
          "Savings",
          "Savings",
          "Savings",
          "Savings",
          "Savings",
          "Savings",
          "Savings",
          "Savings",
          "Savings",
          "Savings",
          "Savings",
          "Savings",
          "Savings",
          "Savings",
          "Savings",
          "Savings",
          "Savings",
          "Savings",
          "Savings",
          "Savings",
          "Savings",
          "Savings",
          "Savings",
          "Savings",
          "Savings",
          "Savings",
          "Savings",
          "Savings",
          "Savings",
          "Savings",
          "Savings",
          "Savings",
          "Savings",
          "Savings",
          "Savings",
          "Savings",
          "Savings",
          "Savings",
          "Savings",
          "Savings",
          "Savings",
          "Savings",
          "Savings",
          "Savings",
          "Savings",
          "Savings",
          "Savings",
          "Savings",
          "Savings",
          "Savings",
          "Savings",
          "Savings",
          "Savings",
          "Savings",
          "Savings",
          "Savings",
          "Savings",
          "Savings",
          "Savings",
          "Savings",
          "Savings",
          "Savings",
          "Savings",
          "Savings",
          "Savings",
          "Savings",
          "Savings",
          "Savings",
          "Savings",
          "Savings",
          "Savings",
          "Savings",
          "Savings",
          "Savings",
          "Savings",
          "Savings",
          "Savings",
          "Savings",
          "Savings",
          "Savings",
          "Savings",
          "Savings",
          "Savings",
          "Savings",
          "Savings",
          "Savings",
          "Savings",
          "Savings",
          "Savings",
          "Savings",
          "Savings",
          "Savings",
          "Savings",
          "Savings",
          "Savings",
          "Savings",
          "Savings",
          "Savings",
          "Savings",
          "Savings",
          "Savings",
          "Savings",
          "Savings",
          "Savings",
          "Savings",
          "Savings",
          "Savings",
          "Savings",
          "Savings",
          "Savings",
          "Savings",
          "Savings",
          "Savings",
          "Savings",
          "Savings",
          "Savings",
          "Savings",
          "Savings",
          "Savings",
          "Savings",
          "Savings",
          "Savings",
          "Savings",
          "Savings",
          "Savings",
          "Savings",
          "Savings",
          "Savings",
          "Savings",
          "Savings",
          "Savings",
          "Savings",
          "Savings",
          "Savings",
          "Savings",
          "Savings",
          "Savings",
          "Savings",
          "Savings",
          "Savings",
          "Savings",
          "Savings",
          "Savings",
          "Savings",
          "Savings",
          "Savings",
          "Savings",
          "Savings",
          "Savings",
          "Savings",
          "Savings",
          "Savings",
          "Savings",
          "Savings",
          "Savings",
          "Savings",
          "Savings",
          "Savings",
          "Savings",
          "Savings",
          "Savings",
          "Savings",
          "Savings",
          "Savings",
          "Savings",
          "Savings",
          "Savings",
          "Savings",
          "Savings",
          "Savings",
          "Savings",
          "Savings",
          "Savings",
          "Savings",
          "Savings",
          "Savings",
          "Savings",
          "Savings",
          "Savings",
          "Savings",
          "Savings",
          "Savings",
          "Savings",
          "Savings",
          "Savings",
          "Savings",
          "Savings",
          "Savings",
          "Savings",
          "Savings",
          "Savings",
          "Savings",
          "Savings",
          "Savings",
          "Savings",
          "Savings",
          "Savings",
          "Savings",
          "Savings",
          "Savings",
          "Savings",
          "Savings",
          "Savings",
          "Savings",
          "Savings",
          "Savings",
          "Savings",
          "Savings",
          "Savings",
          "Savings",
          "Savings",
          "Savings",
          "Savings",
          "Savings",
          "Savings",
          "Savings",
          "Savings",
          "Savings",
          "Savings",
          "Savings",
          "Savings",
          "Savings",
          "Savings",
          "Savings",
          "Savings",
          "Savings",
          "Savings",
          "Savings",
          "Savings",
          "Savings",
          "Savings",
          "Savings",
          "Savings",
          "Savings",
          "Savings",
          "Savings",
          "Savings",
          "Savings",
          "Savings",
          "Savings",
          "Savings",
          "Savings",
          "Savings",
          "Savings",
          "Savings",
          "Savings",
          "Savings",
          "Savings",
          "Savings",
          "Savings",
          "Savings",
          "Savings",
          "Savings",
          "Savings",
          "Savings",
          "Savings",
          "Savings",
          "Savings",
          "Savings",
          "Savings",
          "Savings",
          "Savings",
          "Savings",
          "Savings",
          "Savings",
          "Savings",
          "Savings",
          "Savings",
          "Savings",
          "Savings",
          "Savings",
          "Savings",
          "Savings",
          "Savings",
          "Savings",
          "Savings",
          "Savings",
          "Savings",
          "Savings",
          "Savings",
          "Savings",
          "Savings",
          "Savings",
          "Savings",
          "Savings",
          "Savings",
          "Savings",
          "Savings",
          "Savings",
          "Savings",
          "Savings",
          "Savings",
          "Savings",
          "Savings",
          "Savings",
          "Savings",
          "Savings",
          "Savings",
          "Savings",
          "Savings",
          "Savings",
          "Savings",
          "Savings",
          "Savings",
          "Savings",
          "Savings",
          "Savings",
          "Savings",
          "Savings",
          "Savings",
          "Savings",
          "Savings",
          "Savings",
          "Savings",
          "Savings",
          "Savings",
          "Savings",
          "Savings",
          "Savings",
          "Savings",
          "Savings",
          "Savings",
          "Savings",
          "Savings",
          "Savings",
          "Savings",
          "Savings",
          "Savings",
          "Savings",
          "Savings",
          "Savings",
          "Savings",
          "Savings",
          "Savings",
          "Savings",
          "Savings",
          "Savings",
          "Savings",
          "Savings",
          "Savings",
          "Savings",
          "Savings",
          "Savings",
          "Savings",
          "Savings",
          "Savings",
          "Savings",
          "Savings",
          "Savings",
          "Savings",
          "Savings",
          "Savings",
          "Savings",
          "Savings",
          "Savings",
          "Savings",
          "Savings",
          "Savings",
          "Savings",
          "Savings",
          "Savings",
          "Savings",
          "Savings",
          "Savings",
          "Savings",
          "Savings",
          "Savings",
          "Savings",
          "Savings",
          "Savings",
          "Savings",
          "Savings",
          "Savings",
          "Savings",
          "Savings",
          "Savings",
          "Savings",
          "Savings",
          "Savings",
          "Savings",
          "Savings",
          "Savings",
          "Savings",
          "Savings",
          "Savings",
          "Savings",
          "Savings",
          "Savings",
          "Savings",
          "Savings",
          "Savings",
          "Savings",
          "Savings",
          "Savings",
          "Savings",
          "Savings",
          "Savings",
          "Savings",
          "Savings",
          "Savings",
          "Savings",
          "Savings",
          "Savings",
          "Savings",
          "Savings",
          "Savings",
          "Savings",
          "Savings",
          "Savings",
          "Savings",
          "Savings",
          "Savings",
          "Savings",
          "Savings",
          "Savings",
          "Savings",
          "Savings",
          "Savings",
          "Savings",
          "Savings",
          "Savings",
          "Savings",
          "Savings",
          "Savings",
          "Savings",
          "Savings",
          "Savings",
          "Savings",
          "Savings",
          "Savings",
          "Savings",
          "Savings",
          "Savings",
          "Savings",
          "Savings",
          "Savings",
          "Savings",
          "Savings",
          "Savings",
          "Savings",
          "Savings",
          "Savings",
          "Savings",
          "Savings",
          "Savings",
          "Savings",
          "Savings",
          "Savings",
          "Savings",
          "Savings",
          "Savings",
          "Savings",
          "Savings",
          "Savings",
          "Savings",
          "Savings",
          "Savings",
          "Savings",
          "Savings",
          "Savings",
          "Savings",
          "Savings",
          "Savings",
          "Savings",
          "Savings",
          "Savings",
          "Savings",
          "Savings",
          "Savings",
          "Savings",
          "Savings",
          "Savings",
          "Savings",
          "Savings",
          "Savings",
          "Savings",
          "Savings",
          "Savings",
          "Savings",
          "Savings",
          "Savings",
          "Savings",
          "Savings",
          "Savings",
          "Savings",
          "Savings",
          "Savings",
          "Savings",
          "Savings",
          "Savings",
          "Savings",
          "Savings"
         ],
         "y0": " ",
         "yaxis": "y"
        }
       ],
       "layout": {
        "boxmode": "group",
        "legend": {
         "tracegroupgap": 0
        },
        "template": {
         "data": {
          "bar": [
           {
            "error_x": {
             "color": "#2a3f5f"
            },
            "error_y": {
             "color": "#2a3f5f"
            },
            "marker": {
             "line": {
              "color": "#E5ECF6",
              "width": 0.5
             },
             "pattern": {
              "fillmode": "overlay",
              "size": 10,
              "solidity": 0.2
             }
            },
            "type": "bar"
           }
          ],
          "barpolar": [
           {
            "marker": {
             "line": {
              "color": "#E5ECF6",
              "width": 0.5
             },
             "pattern": {
              "fillmode": "overlay",
              "size": 10,
              "solidity": 0.2
             }
            },
            "type": "barpolar"
           }
          ],
          "carpet": [
           {
            "aaxis": {
             "endlinecolor": "#2a3f5f",
             "gridcolor": "white",
             "linecolor": "white",
             "minorgridcolor": "white",
             "startlinecolor": "#2a3f5f"
            },
            "baxis": {
             "endlinecolor": "#2a3f5f",
             "gridcolor": "white",
             "linecolor": "white",
             "minorgridcolor": "white",
             "startlinecolor": "#2a3f5f"
            },
            "type": "carpet"
           }
          ],
          "choropleth": [
           {
            "colorbar": {
             "outlinewidth": 0,
             "ticks": ""
            },
            "type": "choropleth"
           }
          ],
          "contour": [
           {
            "colorbar": {
             "outlinewidth": 0,
             "ticks": ""
            },
            "colorscale": [
             [
              0,
              "#0d0887"
             ],
             [
              0.1111111111111111,
              "#46039f"
             ],
             [
              0.2222222222222222,
              "#7201a8"
             ],
             [
              0.3333333333333333,
              "#9c179e"
             ],
             [
              0.4444444444444444,
              "#bd3786"
             ],
             [
              0.5555555555555556,
              "#d8576b"
             ],
             [
              0.6666666666666666,
              "#ed7953"
             ],
             [
              0.7777777777777778,
              "#fb9f3a"
             ],
             [
              0.8888888888888888,
              "#fdca26"
             ],
             [
              1,
              "#f0f921"
             ]
            ],
            "type": "contour"
           }
          ],
          "contourcarpet": [
           {
            "colorbar": {
             "outlinewidth": 0,
             "ticks": ""
            },
            "type": "contourcarpet"
           }
          ],
          "heatmap": [
           {
            "colorbar": {
             "outlinewidth": 0,
             "ticks": ""
            },
            "colorscale": [
             [
              0,
              "#0d0887"
             ],
             [
              0.1111111111111111,
              "#46039f"
             ],
             [
              0.2222222222222222,
              "#7201a8"
             ],
             [
              0.3333333333333333,
              "#9c179e"
             ],
             [
              0.4444444444444444,
              "#bd3786"
             ],
             [
              0.5555555555555556,
              "#d8576b"
             ],
             [
              0.6666666666666666,
              "#ed7953"
             ],
             [
              0.7777777777777778,
              "#fb9f3a"
             ],
             [
              0.8888888888888888,
              "#fdca26"
             ],
             [
              1,
              "#f0f921"
             ]
            ],
            "type": "heatmap"
           }
          ],
          "histogram": [
           {
            "marker": {
             "pattern": {
              "fillmode": "overlay",
              "size": 10,
              "solidity": 0.2
             }
            },
            "type": "histogram"
           }
          ],
          "histogram2d": [
           {
            "colorbar": {
             "outlinewidth": 0,
             "ticks": ""
            },
            "colorscale": [
             [
              0,
              "#0d0887"
             ],
             [
              0.1111111111111111,
              "#46039f"
             ],
             [
              0.2222222222222222,
              "#7201a8"
             ],
             [
              0.3333333333333333,
              "#9c179e"
             ],
             [
              0.4444444444444444,
              "#bd3786"
             ],
             [
              0.5555555555555556,
              "#d8576b"
             ],
             [
              0.6666666666666666,
              "#ed7953"
             ],
             [
              0.7777777777777778,
              "#fb9f3a"
             ],
             [
              0.8888888888888888,
              "#fdca26"
             ],
             [
              1,
              "#f0f921"
             ]
            ],
            "type": "histogram2d"
           }
          ],
          "histogram2dcontour": [
           {
            "colorbar": {
             "outlinewidth": 0,
             "ticks": ""
            },
            "colorscale": [
             [
              0,
              "#0d0887"
             ],
             [
              0.1111111111111111,
              "#46039f"
             ],
             [
              0.2222222222222222,
              "#7201a8"
             ],
             [
              0.3333333333333333,
              "#9c179e"
             ],
             [
              0.4444444444444444,
              "#bd3786"
             ],
             [
              0.5555555555555556,
              "#d8576b"
             ],
             [
              0.6666666666666666,
              "#ed7953"
             ],
             [
              0.7777777777777778,
              "#fb9f3a"
             ],
             [
              0.8888888888888888,
              "#fdca26"
             ],
             [
              1,
              "#f0f921"
             ]
            ],
            "type": "histogram2dcontour"
           }
          ],
          "mesh3d": [
           {
            "colorbar": {
             "outlinewidth": 0,
             "ticks": ""
            },
            "type": "mesh3d"
           }
          ],
          "parcoords": [
           {
            "line": {
             "colorbar": {
              "outlinewidth": 0,
              "ticks": ""
             }
            },
            "type": "parcoords"
           }
          ],
          "pie": [
           {
            "automargin": true,
            "type": "pie"
           }
          ],
          "scatter": [
           {
            "fillpattern": {
             "fillmode": "overlay",
             "size": 10,
             "solidity": 0.2
            },
            "type": "scatter"
           }
          ],
          "scatter3d": [
           {
            "line": {
             "colorbar": {
              "outlinewidth": 0,
              "ticks": ""
             }
            },
            "marker": {
             "colorbar": {
              "outlinewidth": 0,
              "ticks": ""
             }
            },
            "type": "scatter3d"
           }
          ],
          "scattercarpet": [
           {
            "marker": {
             "colorbar": {
              "outlinewidth": 0,
              "ticks": ""
             }
            },
            "type": "scattercarpet"
           }
          ],
          "scattergeo": [
           {
            "marker": {
             "colorbar": {
              "outlinewidth": 0,
              "ticks": ""
             }
            },
            "type": "scattergeo"
           }
          ],
          "scattergl": [
           {
            "marker": {
             "colorbar": {
              "outlinewidth": 0,
              "ticks": ""
             }
            },
            "type": "scattergl"
           }
          ],
          "scattermap": [
           {
            "marker": {
             "colorbar": {
              "outlinewidth": 0,
              "ticks": ""
             }
            },
            "type": "scattermap"
           }
          ],
          "scattermapbox": [
           {
            "marker": {
             "colorbar": {
              "outlinewidth": 0,
              "ticks": ""
             }
            },
            "type": "scattermapbox"
           }
          ],
          "scatterpolar": [
           {
            "marker": {
             "colorbar": {
              "outlinewidth": 0,
              "ticks": ""
             }
            },
            "type": "scatterpolar"
           }
          ],
          "scatterpolargl": [
           {
            "marker": {
             "colorbar": {
              "outlinewidth": 0,
              "ticks": ""
             }
            },
            "type": "scatterpolargl"
           }
          ],
          "scatterternary": [
           {
            "marker": {
             "colorbar": {
              "outlinewidth": 0,
              "ticks": ""
             }
            },
            "type": "scatterternary"
           }
          ],
          "surface": [
           {
            "colorbar": {
             "outlinewidth": 0,
             "ticks": ""
            },
            "colorscale": [
             [
              0,
              "#0d0887"
             ],
             [
              0.1111111111111111,
              "#46039f"
             ],
             [
              0.2222222222222222,
              "#7201a8"
             ],
             [
              0.3333333333333333,
              "#9c179e"
             ],
             [
              0.4444444444444444,
              "#bd3786"
             ],
             [
              0.5555555555555556,
              "#d8576b"
             ],
             [
              0.6666666666666666,
              "#ed7953"
             ],
             [
              0.7777777777777778,
              "#fb9f3a"
             ],
             [
              0.8888888888888888,
              "#fdca26"
             ],
             [
              1,
              "#f0f921"
             ]
            ],
            "type": "surface"
           }
          ],
          "table": [
           {
            "cells": {
             "fill": {
              "color": "#EBF0F8"
             },
             "line": {
              "color": "white"
             }
            },
            "header": {
             "fill": {
              "color": "#C8D4E3"
             },
             "line": {
              "color": "white"
             }
            },
            "type": "table"
           }
          ]
         },
         "layout": {
          "annotationdefaults": {
           "arrowcolor": "#2a3f5f",
           "arrowhead": 0,
           "arrowwidth": 1
          },
          "autotypenumbers": "strict",
          "coloraxis": {
           "colorbar": {
            "outlinewidth": 0,
            "ticks": ""
           }
          },
          "colorscale": {
           "diverging": [
            [
             0,
             "#8e0152"
            ],
            [
             0.1,
             "#c51b7d"
            ],
            [
             0.2,
             "#de77ae"
            ],
            [
             0.3,
             "#f1b6da"
            ],
            [
             0.4,
             "#fde0ef"
            ],
            [
             0.5,
             "#f7f7f7"
            ],
            [
             0.6,
             "#e6f5d0"
            ],
            [
             0.7,
             "#b8e186"
            ],
            [
             0.8,
             "#7fbc41"
            ],
            [
             0.9,
             "#4d9221"
            ],
            [
             1,
             "#276419"
            ]
           ],
           "sequential": [
            [
             0,
             "#0d0887"
            ],
            [
             0.1111111111111111,
             "#46039f"
            ],
            [
             0.2222222222222222,
             "#7201a8"
            ],
            [
             0.3333333333333333,
             "#9c179e"
            ],
            [
             0.4444444444444444,
             "#bd3786"
            ],
            [
             0.5555555555555556,
             "#d8576b"
            ],
            [
             0.6666666666666666,
             "#ed7953"
            ],
            [
             0.7777777777777778,
             "#fb9f3a"
            ],
            [
             0.8888888888888888,
             "#fdca26"
            ],
            [
             1,
             "#f0f921"
            ]
           ],
           "sequentialminus": [
            [
             0,
             "#0d0887"
            ],
            [
             0.1111111111111111,
             "#46039f"
            ],
            [
             0.2222222222222222,
             "#7201a8"
            ],
            [
             0.3333333333333333,
             "#9c179e"
            ],
            [
             0.4444444444444444,
             "#bd3786"
            ],
            [
             0.5555555555555556,
             "#d8576b"
            ],
            [
             0.6666666666666666,
             "#ed7953"
            ],
            [
             0.7777777777777778,
             "#fb9f3a"
            ],
            [
             0.8888888888888888,
             "#fdca26"
            ],
            [
             1,
             "#f0f921"
            ]
           ]
          },
          "colorway": [
           "#636efa",
           "#EF553B",
           "#00cc96",
           "#ab63fa",
           "#FFA15A",
           "#19d3f3",
           "#FF6692",
           "#B6E880",
           "#FF97FF",
           "#FECB52"
          ],
          "font": {
           "color": "#2a3f5f"
          },
          "geo": {
           "bgcolor": "white",
           "lakecolor": "white",
           "landcolor": "#E5ECF6",
           "showlakes": true,
           "showland": true,
           "subunitcolor": "white"
          },
          "hoverlabel": {
           "align": "left"
          },
          "hovermode": "closest",
          "mapbox": {
           "style": "light"
          },
          "paper_bgcolor": "white",
          "plot_bgcolor": "#E5ECF6",
          "polar": {
           "angularaxis": {
            "gridcolor": "white",
            "linecolor": "white",
            "ticks": ""
           },
           "bgcolor": "#E5ECF6",
           "radialaxis": {
            "gridcolor": "white",
            "linecolor": "white",
            "ticks": ""
           }
          },
          "scene": {
           "xaxis": {
            "backgroundcolor": "#E5ECF6",
            "gridcolor": "white",
            "gridwidth": 2,
            "linecolor": "white",
            "showbackground": true,
            "ticks": "",
            "zerolinecolor": "white"
           },
           "yaxis": {
            "backgroundcolor": "#E5ECF6",
            "gridcolor": "white",
            "gridwidth": 2,
            "linecolor": "white",
            "showbackground": true,
            "ticks": "",
            "zerolinecolor": "white"
           },
           "zaxis": {
            "backgroundcolor": "#E5ECF6",
            "gridcolor": "white",
            "gridwidth": 2,
            "linecolor": "white",
            "showbackground": true,
            "ticks": "",
            "zerolinecolor": "white"
           }
          },
          "shapedefaults": {
           "line": {
            "color": "#2a3f5f"
           }
          },
          "ternary": {
           "aaxis": {
            "gridcolor": "white",
            "linecolor": "white",
            "ticks": ""
           },
           "baxis": {
            "gridcolor": "white",
            "linecolor": "white",
            "ticks": ""
           },
           "bgcolor": "#E5ECF6",
           "caxis": {
            "gridcolor": "white",
            "linecolor": "white",
            "ticks": ""
           }
          },
          "title": {
           "x": 0.05
          },
          "xaxis": {
           "automargin": true,
           "gridcolor": "white",
           "linecolor": "white",
           "ticks": "",
           "title": {
            "standoff": 15
           },
           "zerolinecolor": "white",
           "zerolinewidth": 2
          },
          "yaxis": {
           "automargin": true,
           "gridcolor": "white",
           "linecolor": "white",
           "ticks": "",
           "title": {
            "standoff": 15
           },
           "zerolinecolor": "white",
           "zerolinewidth": 2
          }
         }
        },
        "title": {
         "text": "Total yearly savings"
        },
        "xaxis": {
         "anchor": "y",
         "domain": [
          0,
          1
         ],
         "range": [
          0,
          15000
         ],
         "title": {
          "text": "Total yearly savings in €"
         }
        },
        "yaxis": {
         "anchor": "x",
         "domain": [
          0,
          1
         ],
         "title": {
          "text": ""
         }
        }
       }
      }
     },
     "metadata": {},
     "output_type": "display_data"
    }
   ],
   "source": [
    "abs_yearly_savings = abs_diff[\"total_yearly_costs_eur\"].copy()\n",
    "abs_yearly_savings.name = \"Total yearly savings in eur\"\n",
    "print(abs_yearly_savings.describe().drop(\"count\").to_markdown())\n",
    "\n",
    "fig_df = abs_diff.copy()\n",
    "fig_df = fig_df.rename(columns={\"total_yearly_costs_eur\": \"Savings\"})\n",
    "fig = px.box(\n",
    "    data_frame=fig_df,\n",
    "    x=[\"Savings\"],\n",
    "    title=\"Total yearly savings\")\n",
    "fig.update_layout(xaxis_title=\"Total yearly savings in €\", yaxis_title=\"\")\n",
    "fig.update_xaxes(range=[0, 15e3])\n",
    "fig.show()"
   ]
  },
  {
   "cell_type": "code",
   "execution_count": 100,
   "id": "84f4bf5f",
   "metadata": {},
   "outputs": [
    {
     "name": "stdout",
     "output_type": "stream",
     "text": [
      "|      |   Relative yearly savings in % |\n",
      "|:-----|-------------------------------:|\n",
      "| mean |                       4.17191  |\n",
      "| std  |                       4.60534  |\n",
      "| min  |                       0.244344 |\n",
      "| 25%  |                       1.69312  |\n",
      "| 50%  |                       2.93126  |\n",
      "| 75%  |                       5.04405  |\n",
      "| max  |                      75.0611   |\n",
      "-----------------------\n",
      "Number of profiles with more than 1% yearly savings: 1548\n",
      "Percentage of profiles with more than 1% yearly savings: 90.63 %\n",
      "Number of profiles with more than 2% yearly savings: 1151\n",
      "Percentage of profiles with more than 2% yearly savings: 67.39 %\n",
      "Number of profiles with more than 3% yearly savings: 835\n",
      "Percentage of profiles with more than 3% yearly savings: 48.89 %\n"
     ]
    },
    {
     "data": {
      "application/vnd.plotly.v1+json": {
       "config": {
        "plotlyServerURL": "https://plot.ly"
       },
       "data": [
        {
         "alignmentgroup": "True",
         "hovertemplate": "Savings=%{x}<extra></extra>",
         "legendgroup": "",
         "marker": {
          "color": "#636efa"
         },
         "name": "",
         "notched": false,
         "offsetgroup": "",
         "orientation": "h",
         "showlegend": false,
         "type": "box",
         "x": {
          "bdata": "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",
          "dtype": "f8"
         },
         "x0": " ",
         "xaxis": "x",
         "y0": " ",
         "yaxis": "y"
        }
       ],
       "layout": {
        "boxmode": "group",
        "legend": {
         "tracegroupgap": 0
        },
        "template": {
         "data": {
          "bar": [
           {
            "error_x": {
             "color": "#2a3f5f"
            },
            "error_y": {
             "color": "#2a3f5f"
            },
            "marker": {
             "line": {
              "color": "#E5ECF6",
              "width": 0.5
             },
             "pattern": {
              "fillmode": "overlay",
              "size": 10,
              "solidity": 0.2
             }
            },
            "type": "bar"
           }
          ],
          "barpolar": [
           {
            "marker": {
             "line": {
              "color": "#E5ECF6",
              "width": 0.5
             },
             "pattern": {
              "fillmode": "overlay",
              "size": 10,
              "solidity": 0.2
             }
            },
            "type": "barpolar"
           }
          ],
          "carpet": [
           {
            "aaxis": {
             "endlinecolor": "#2a3f5f",
             "gridcolor": "white",
             "linecolor": "white",
             "minorgridcolor": "white",
             "startlinecolor": "#2a3f5f"
            },
            "baxis": {
             "endlinecolor": "#2a3f5f",
             "gridcolor": "white",
             "linecolor": "white",
             "minorgridcolor": "white",
             "startlinecolor": "#2a3f5f"
            },
            "type": "carpet"
           }
          ],
          "choropleth": [
           {
            "colorbar": {
             "outlinewidth": 0,
             "ticks": ""
            },
            "type": "choropleth"
           }
          ],
          "contour": [
           {
            "colorbar": {
             "outlinewidth": 0,
             "ticks": ""
            },
            "colorscale": [
             [
              0,
              "#0d0887"
             ],
             [
              0.1111111111111111,
              "#46039f"
             ],
             [
              0.2222222222222222,
              "#7201a8"
             ],
             [
              0.3333333333333333,
              "#9c179e"
             ],
             [
              0.4444444444444444,
              "#bd3786"
             ],
             [
              0.5555555555555556,
              "#d8576b"
             ],
             [
              0.6666666666666666,
              "#ed7953"
             ],
             [
              0.7777777777777778,
              "#fb9f3a"
             ],
             [
              0.8888888888888888,
              "#fdca26"
             ],
             [
              1,
              "#f0f921"
             ]
            ],
            "type": "contour"
           }
          ],
          "contourcarpet": [
           {
            "colorbar": {
             "outlinewidth": 0,
             "ticks": ""
            },
            "type": "contourcarpet"
           }
          ],
          "heatmap": [
           {
            "colorbar": {
             "outlinewidth": 0,
             "ticks": ""
            },
            "colorscale": [
             [
              0,
              "#0d0887"
             ],
             [
              0.1111111111111111,
              "#46039f"
             ],
             [
              0.2222222222222222,
              "#7201a8"
             ],
             [
              0.3333333333333333,
              "#9c179e"
             ],
             [
              0.4444444444444444,
              "#bd3786"
             ],
             [
              0.5555555555555556,
              "#d8576b"
             ],
             [
              0.6666666666666666,
              "#ed7953"
             ],
             [
              0.7777777777777778,
              "#fb9f3a"
             ],
             [
              0.8888888888888888,
              "#fdca26"
             ],
             [
              1,
              "#f0f921"
             ]
            ],
            "type": "heatmap"
           }
          ],
          "histogram": [
           {
            "marker": {
             "pattern": {
              "fillmode": "overlay",
              "size": 10,
              "solidity": 0.2
             }
            },
            "type": "histogram"
           }
          ],
          "histogram2d": [
           {
            "colorbar": {
             "outlinewidth": 0,
             "ticks": ""
            },
            "colorscale": [
             [
              0,
              "#0d0887"
             ],
             [
              0.1111111111111111,
              "#46039f"
             ],
             [
              0.2222222222222222,
              "#7201a8"
             ],
             [
              0.3333333333333333,
              "#9c179e"
             ],
             [
              0.4444444444444444,
              "#bd3786"
             ],
             [
              0.5555555555555556,
              "#d8576b"
             ],
             [
              0.6666666666666666,
              "#ed7953"
             ],
             [
              0.7777777777777778,
              "#fb9f3a"
             ],
             [
              0.8888888888888888,
              "#fdca26"
             ],
             [
              1,
              "#f0f921"
             ]
            ],
            "type": "histogram2d"
           }
          ],
          "histogram2dcontour": [
           {
            "colorbar": {
             "outlinewidth": 0,
             "ticks": ""
            },
            "colorscale": [
             [
              0,
              "#0d0887"
             ],
             [
              0.1111111111111111,
              "#46039f"
             ],
             [
              0.2222222222222222,
              "#7201a8"
             ],
             [
              0.3333333333333333,
              "#9c179e"
             ],
             [
              0.4444444444444444,
              "#bd3786"
             ],
             [
              0.5555555555555556,
              "#d8576b"
             ],
             [
              0.6666666666666666,
              "#ed7953"
             ],
             [
              0.7777777777777778,
              "#fb9f3a"
             ],
             [
              0.8888888888888888,
              "#fdca26"
             ],
             [
              1,
              "#f0f921"
             ]
            ],
            "type": "histogram2dcontour"
           }
          ],
          "mesh3d": [
           {
            "colorbar": {
             "outlinewidth": 0,
             "ticks": ""
            },
            "type": "mesh3d"
           }
          ],
          "parcoords": [
           {
            "line": {
             "colorbar": {
              "outlinewidth": 0,
              "ticks": ""
             }
            },
            "type": "parcoords"
           }
          ],
          "pie": [
           {
            "automargin": true,
            "type": "pie"
           }
          ],
          "scatter": [
           {
            "fillpattern": {
             "fillmode": "overlay",
             "size": 10,
             "solidity": 0.2
            },
            "type": "scatter"
           }
          ],
          "scatter3d": [
           {
            "line": {
             "colorbar": {
              "outlinewidth": 0,
              "ticks": ""
             }
            },
            "marker": {
             "colorbar": {
              "outlinewidth": 0,
              "ticks": ""
             }
            },
            "type": "scatter3d"
           }
          ],
          "scattercarpet": [
           {
            "marker": {
             "colorbar": {
              "outlinewidth": 0,
              "ticks": ""
             }
            },
            "type": "scattercarpet"
           }
          ],
          "scattergeo": [
           {
            "marker": {
             "colorbar": {
              "outlinewidth": 0,
              "ticks": ""
             }
            },
            "type": "scattergeo"
           }
          ],
          "scattergl": [
           {
            "marker": {
             "colorbar": {
              "outlinewidth": 0,
              "ticks": ""
             }
            },
            "type": "scattergl"
           }
          ],
          "scattermap": [
           {
            "marker": {
             "colorbar": {
              "outlinewidth": 0,
              "ticks": ""
             }
            },
            "type": "scattermap"
           }
          ],
          "scattermapbox": [
           {
            "marker": {
             "colorbar": {
              "outlinewidth": 0,
              "ticks": ""
             }
            },
            "type": "scattermapbox"
           }
          ],
          "scatterpolar": [
           {
            "marker": {
             "colorbar": {
              "outlinewidth": 0,
              "ticks": ""
             }
            },
            "type": "scatterpolar"
           }
          ],
          "scatterpolargl": [
           {
            "marker": {
             "colorbar": {
              "outlinewidth": 0,
              "ticks": ""
             }
            },
            "type": "scatterpolargl"
           }
          ],
          "scatterternary": [
           {
            "marker": {
             "colorbar": {
              "outlinewidth": 0,
              "ticks": ""
             }
            },
            "type": "scatterternary"
           }
          ],
          "surface": [
           {
            "colorbar": {
             "outlinewidth": 0,
             "ticks": ""
            },
            "colorscale": [
             [
              0,
              "#0d0887"
             ],
             [
              0.1111111111111111,
              "#46039f"
             ],
             [
              0.2222222222222222,
              "#7201a8"
             ],
             [
              0.3333333333333333,
              "#9c179e"
             ],
             [
              0.4444444444444444,
              "#bd3786"
             ],
             [
              0.5555555555555556,
              "#d8576b"
             ],
             [
              0.6666666666666666,
              "#ed7953"
             ],
             [
              0.7777777777777778,
              "#fb9f3a"
             ],
             [
              0.8888888888888888,
              "#fdca26"
             ],
             [
              1,
              "#f0f921"
             ]
            ],
            "type": "surface"
           }
          ],
          "table": [
           {
            "cells": {
             "fill": {
              "color": "#EBF0F8"
             },
             "line": {
              "color": "white"
             }
            },
            "header": {
             "fill": {
              "color": "#C8D4E3"
             },
             "line": {
              "color": "white"
             }
            },
            "type": "table"
           }
          ]
         },
         "layout": {
          "annotationdefaults": {
           "arrowcolor": "#2a3f5f",
           "arrowhead": 0,
           "arrowwidth": 1
          },
          "autotypenumbers": "strict",
          "coloraxis": {
           "colorbar": {
            "outlinewidth": 0,
            "ticks": ""
           }
          },
          "colorscale": {
           "diverging": [
            [
             0,
             "#8e0152"
            ],
            [
             0.1,
             "#c51b7d"
            ],
            [
             0.2,
             "#de77ae"
            ],
            [
             0.3,
             "#f1b6da"
            ],
            [
             0.4,
             "#fde0ef"
            ],
            [
             0.5,
             "#f7f7f7"
            ],
            [
             0.6,
             "#e6f5d0"
            ],
            [
             0.7,
             "#b8e186"
            ],
            [
             0.8,
             "#7fbc41"
            ],
            [
             0.9,
             "#4d9221"
            ],
            [
             1,
             "#276419"
            ]
           ],
           "sequential": [
            [
             0,
             "#0d0887"
            ],
            [
             0.1111111111111111,
             "#46039f"
            ],
            [
             0.2222222222222222,
             "#7201a8"
            ],
            [
             0.3333333333333333,
             "#9c179e"
            ],
            [
             0.4444444444444444,
             "#bd3786"
            ],
            [
             0.5555555555555556,
             "#d8576b"
            ],
            [
             0.6666666666666666,
             "#ed7953"
            ],
            [
             0.7777777777777778,
             "#fb9f3a"
            ],
            [
             0.8888888888888888,
             "#fdca26"
            ],
            [
             1,
             "#f0f921"
            ]
           ],
           "sequentialminus": [
            [
             0,
             "#0d0887"
            ],
            [
             0.1111111111111111,
             "#46039f"
            ],
            [
             0.2222222222222222,
             "#7201a8"
            ],
            [
             0.3333333333333333,
             "#9c179e"
            ],
            [
             0.4444444444444444,
             "#bd3786"
            ],
            [
             0.5555555555555556,
             "#d8576b"
            ],
            [
             0.6666666666666666,
             "#ed7953"
            ],
            [
             0.7777777777777778,
             "#fb9f3a"
            ],
            [
             0.8888888888888888,
             "#fdca26"
            ],
            [
             1,
             "#f0f921"
            ]
           ]
          },
          "colorway": [
           "#636efa",
           "#EF553B",
           "#00cc96",
           "#ab63fa",
           "#FFA15A",
           "#19d3f3",
           "#FF6692",
           "#B6E880",
           "#FF97FF",
           "#FECB52"
          ],
          "font": {
           "color": "#2a3f5f"
          },
          "geo": {
           "bgcolor": "white",
           "lakecolor": "white",
           "landcolor": "#E5ECF6",
           "showlakes": true,
           "showland": true,
           "subunitcolor": "white"
          },
          "hoverlabel": {
           "align": "left"
          },
          "hovermode": "closest",
          "mapbox": {
           "style": "light"
          },
          "paper_bgcolor": "white",
          "plot_bgcolor": "#E5ECF6",
          "polar": {
           "angularaxis": {
            "gridcolor": "white",
            "linecolor": "white",
            "ticks": ""
           },
           "bgcolor": "#E5ECF6",
           "radialaxis": {
            "gridcolor": "white",
            "linecolor": "white",
            "ticks": ""
           }
          },
          "scene": {
           "xaxis": {
            "backgroundcolor": "#E5ECF6",
            "gridcolor": "white",
            "gridwidth": 2,
            "linecolor": "white",
            "showbackground": true,
            "ticks": "",
            "zerolinecolor": "white"
           },
           "yaxis": {
            "backgroundcolor": "#E5ECF6",
            "gridcolor": "white",
            "gridwidth": 2,
            "linecolor": "white",
            "showbackground": true,
            "ticks": "",
            "zerolinecolor": "white"
           },
           "zaxis": {
            "backgroundcolor": "#E5ECF6",
            "gridcolor": "white",
            "gridwidth": 2,
            "linecolor": "white",
            "showbackground": true,
            "ticks": "",
            "zerolinecolor": "white"
           }
          },
          "shapedefaults": {
           "line": {
            "color": "#2a3f5f"
           }
          },
          "ternary": {
           "aaxis": {
            "gridcolor": "white",
            "linecolor": "white",
            "ticks": ""
           },
           "baxis": {
            "gridcolor": "white",
            "linecolor": "white",
            "ticks": ""
           },
           "bgcolor": "#E5ECF6",
           "caxis": {
            "gridcolor": "white",
            "linecolor": "white",
            "ticks": ""
           }
          },
          "title": {
           "x": 0.05
          },
          "xaxis": {
           "automargin": true,
           "gridcolor": "white",
           "linecolor": "white",
           "ticks": "",
           "title": {
            "standoff": 15
           },
           "zerolinecolor": "white",
           "zerolinewidth": 2
          },
          "yaxis": {
           "automargin": true,
           "gridcolor": "white",
           "linecolor": "white",
           "ticks": "",
           "title": {
            "standoff": 15
           },
           "zerolinecolor": "white",
           "zerolinewidth": 2
          }
         }
        },
        "title": {
         "text": "Relative yearly savings"
        },
        "xaxis": {
         "anchor": "y",
         "domain": [
          0,
          1
         ],
         "range": [
          0,
          15
         ],
         "title": {
          "text": "Relative yearly savings in %"
         }
        },
        "yaxis": {
         "anchor": "x",
         "domain": [
          0,
          1
         ],
         "title": {
          "text": ""
         }
        }
       }
      }
     },
     "metadata": {},
     "output_type": "display_data"
    }
   ],
   "source": [
    "rel_yearly_savings = 100 * rel_diff[\"total_yearly_costs_eur\"].copy()\n",
    "rel_yearly_savings.name = \"Relative yearly savings in %\"\n",
    "print(rel_yearly_savings.describe().drop(\"count\").to_markdown())\n",
    "print(\"-----------------------\")\n",
    "n_profiles_1pct_yearly_savings = len(rel_diff[rel_diff[\"total_yearly_costs_eur\"] > 0.01])\n",
    "print(f\"Number of profiles with more than 1% yearly savings: {n_profiles_1pct_yearly_savings}\")\n",
    "perc_profiles_1pct_yearly_savings = (n_profiles_1pct_yearly_savings / len(rel_diff)) * 100\n",
    "print(f\"Percentage of profiles with more than 1% yearly savings: {perc_profiles_1pct_yearly_savings:.2f} %\")\n",
    "n_profiles_2pct_yearly_savings = len(rel_diff[rel_diff[\"total_yearly_costs_eur\"] > 0.02])\n",
    "print(f\"Number of profiles with more than 2% yearly savings: {n_profiles_2pct_yearly_savings}\")\n",
    "perc_profiles_2pct_yearly_savings = (n_profiles_2pct_yearly_savings / len(rel_diff)) * 100\n",
    "print(f\"Percentage of profiles with more than 2% yearly savings: {perc_profiles_2pct_yearly_savings:.2f} %\")\n",
    "n_profiles_3pct_yearly_savings = len(rel_diff[rel_diff[\"total_yearly_costs_eur\"] > 0.03])\n",
    "print(f\"Number of profiles with more than 3% yearly savings: {n_profiles_3pct_yearly_savings}\")\n",
    "perc_profiles_3pct_yearly_savings = (n_profiles_3pct_yearly_savings / len(rel_diff)) * 100\n",
    "print(f\"Percentage of profiles with more than 3% yearly savings: {perc_profiles_3pct_yearly_savings:.2f} %\")\n",
    "\n",
    "fig_df = pd.DataFrame()\n",
    "fig_df = rel_diff.copy() * 100\n",
    "fig_df = fig_df.rename(columns={\"total_yearly_costs_eur\": \"Savings\"})\n",
    "fig = px.box(\n",
    "    data_frame=fig_df,\n",
    "    x=\"Savings\",\n",
    "    title=\"Relative yearly savings\")\n",
    "fig.update_layout(xaxis_title=\"Relative yearly savings in %\", yaxis_title=\"\")\n",
    "fig.update_xaxes(range=[0, 15])\n",
    "fig.show()"
   ]
  },
  {
   "cell_type": "markdown",
   "id": "20f60e08",
   "metadata": {},
   "source": [
    "## Capacity costs savings"
   ]
  },
  {
   "cell_type": "code",
   "execution_count": 101,
   "id": "734f53dd",
   "metadata": {},
   "outputs": [
    {
     "name": "stdout",
     "output_type": "stream",
     "text": [
      "|      |   Total yearly grid capacity costs savings in % |\n",
      "|:-----|------------------------------------------------:|\n",
      "| mean |                                  9489.26        |\n",
      "| std  |                                 31444.6         |\n",
      "| min  |                                     0           |\n",
      "| 25%  |                                  1822.06        |\n",
      "| 50%  |                                  3932.63        |\n",
      "| 75%  |                                  9154.88        |\n",
      "| max  |                                     1.06138e+06 |\n"
     ]
    },
    {
     "data": {
      "application/vnd.plotly.v1+json": {
       "config": {
        "plotlyServerURL": "https://plot.ly"
       },
       "data": [
        {
         "alignmentgroup": "True",
         "hovertemplate": "Savings=%{x}<extra></extra>",
         "legendgroup": "",
         "marker": {
          "color": "#636efa"
         },
         "name": "",
         "notched": false,
         "offsetgroup": "",
         "orientation": "h",
         "showlegend": false,
         "type": "box",
         "x": {
          "bdata": "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",
          "dtype": "f8"
         },
         "x0": " ",
         "xaxis": "x",
         "y0": " ",
         "yaxis": "y"
        }
       ],
       "layout": {
        "boxmode": "group",
        "legend": {
         "tracegroupgap": 0
        },
        "template": {
         "data": {
          "bar": [
           {
            "error_x": {
             "color": "#2a3f5f"
            },
            "error_y": {
             "color": "#2a3f5f"
            },
            "marker": {
             "line": {
              "color": "#E5ECF6",
              "width": 0.5
             },
             "pattern": {
              "fillmode": "overlay",
              "size": 10,
              "solidity": 0.2
             }
            },
            "type": "bar"
           }
          ],
          "barpolar": [
           {
            "marker": {
             "line": {
              "color": "#E5ECF6",
              "width": 0.5
             },
             "pattern": {
              "fillmode": "overlay",
              "size": 10,
              "solidity": 0.2
             }
            },
            "type": "barpolar"
           }
          ],
          "carpet": [
           {
            "aaxis": {
             "endlinecolor": "#2a3f5f",
             "gridcolor": "white",
             "linecolor": "white",
             "minorgridcolor": "white",
             "startlinecolor": "#2a3f5f"
            },
            "baxis": {
             "endlinecolor": "#2a3f5f",
             "gridcolor": "white",
             "linecolor": "white",
             "minorgridcolor": "white",
             "startlinecolor": "#2a3f5f"
            },
            "type": "carpet"
           }
          ],
          "choropleth": [
           {
            "colorbar": {
             "outlinewidth": 0,
             "ticks": ""
            },
            "type": "choropleth"
           }
          ],
          "contour": [
           {
            "colorbar": {
             "outlinewidth": 0,
             "ticks": ""
            },
            "colorscale": [
             [
              0,
              "#0d0887"
             ],
             [
              0.1111111111111111,
              "#46039f"
             ],
             [
              0.2222222222222222,
              "#7201a8"
             ],
             [
              0.3333333333333333,
              "#9c179e"
             ],
             [
              0.4444444444444444,
              "#bd3786"
             ],
             [
              0.5555555555555556,
              "#d8576b"
             ],
             [
              0.6666666666666666,
              "#ed7953"
             ],
             [
              0.7777777777777778,
              "#fb9f3a"
             ],
             [
              0.8888888888888888,
              "#fdca26"
             ],
             [
              1,
              "#f0f921"
             ]
            ],
            "type": "contour"
           }
          ],
          "contourcarpet": [
           {
            "colorbar": {
             "outlinewidth": 0,
             "ticks": ""
            },
            "type": "contourcarpet"
           }
          ],
          "heatmap": [
           {
            "colorbar": {
             "outlinewidth": 0,
             "ticks": ""
            },
            "colorscale": [
             [
              0,
              "#0d0887"
             ],
             [
              0.1111111111111111,
              "#46039f"
             ],
             [
              0.2222222222222222,
              "#7201a8"
             ],
             [
              0.3333333333333333,
              "#9c179e"
             ],
             [
              0.4444444444444444,
              "#bd3786"
             ],
             [
              0.5555555555555556,
              "#d8576b"
             ],
             [
              0.6666666666666666,
              "#ed7953"
             ],
             [
              0.7777777777777778,
              "#fb9f3a"
             ],
             [
              0.8888888888888888,
              "#fdca26"
             ],
             [
              1,
              "#f0f921"
             ]
            ],
            "type": "heatmap"
           }
          ],
          "histogram": [
           {
            "marker": {
             "pattern": {
              "fillmode": "overlay",
              "size": 10,
              "solidity": 0.2
             }
            },
            "type": "histogram"
           }
          ],
          "histogram2d": [
           {
            "colorbar": {
             "outlinewidth": 0,
             "ticks": ""
            },
            "colorscale": [
             [
              0,
              "#0d0887"
             ],
             [
              0.1111111111111111,
              "#46039f"
             ],
             [
              0.2222222222222222,
              "#7201a8"
             ],
             [
              0.3333333333333333,
              "#9c179e"
             ],
             [
              0.4444444444444444,
              "#bd3786"
             ],
             [
              0.5555555555555556,
              "#d8576b"
             ],
             [
              0.6666666666666666,
              "#ed7953"
             ],
             [
              0.7777777777777778,
              "#fb9f3a"
             ],
             [
              0.8888888888888888,
              "#fdca26"
             ],
             [
              1,
              "#f0f921"
             ]
            ],
            "type": "histogram2d"
           }
          ],
          "histogram2dcontour": [
           {
            "colorbar": {
             "outlinewidth": 0,
             "ticks": ""
            },
            "colorscale": [
             [
              0,
              "#0d0887"
             ],
             [
              0.1111111111111111,
              "#46039f"
             ],
             [
              0.2222222222222222,
              "#7201a8"
             ],
             [
              0.3333333333333333,
              "#9c179e"
             ],
             [
              0.4444444444444444,
              "#bd3786"
             ],
             [
              0.5555555555555556,
              "#d8576b"
             ],
             [
              0.6666666666666666,
              "#ed7953"
             ],
             [
              0.7777777777777778,
              "#fb9f3a"
             ],
             [
              0.8888888888888888,
              "#fdca26"
             ],
             [
              1,
              "#f0f921"
             ]
            ],
            "type": "histogram2dcontour"
           }
          ],
          "mesh3d": [
           {
            "colorbar": {
             "outlinewidth": 0,
             "ticks": ""
            },
            "type": "mesh3d"
           }
          ],
          "parcoords": [
           {
            "line": {
             "colorbar": {
              "outlinewidth": 0,
              "ticks": ""
             }
            },
            "type": "parcoords"
           }
          ],
          "pie": [
           {
            "automargin": true,
            "type": "pie"
           }
          ],
          "scatter": [
           {
            "fillpattern": {
             "fillmode": "overlay",
             "size": 10,
             "solidity": 0.2
            },
            "type": "scatter"
           }
          ],
          "scatter3d": [
           {
            "line": {
             "colorbar": {
              "outlinewidth": 0,
              "ticks": ""
             }
            },
            "marker": {
             "colorbar": {
              "outlinewidth": 0,
              "ticks": ""
             }
            },
            "type": "scatter3d"
           }
          ],
          "scattercarpet": [
           {
            "marker": {
             "colorbar": {
              "outlinewidth": 0,
              "ticks": ""
             }
            },
            "type": "scattercarpet"
           }
          ],
          "scattergeo": [
           {
            "marker": {
             "colorbar": {
              "outlinewidth": 0,
              "ticks": ""
             }
            },
            "type": "scattergeo"
           }
          ],
          "scattergl": [
           {
            "marker": {
             "colorbar": {
              "outlinewidth": 0,
              "ticks": ""
             }
            },
            "type": "scattergl"
           }
          ],
          "scattermap": [
           {
            "marker": {
             "colorbar": {
              "outlinewidth": 0,
              "ticks": ""
             }
            },
            "type": "scattermap"
           }
          ],
          "scattermapbox": [
           {
            "marker": {
             "colorbar": {
              "outlinewidth": 0,
              "ticks": ""
             }
            },
            "type": "scattermapbox"
           }
          ],
          "scatterpolar": [
           {
            "marker": {
             "colorbar": {
              "outlinewidth": 0,
              "ticks": ""
             }
            },
            "type": "scatterpolar"
           }
          ],
          "scatterpolargl": [
           {
            "marker": {
             "colorbar": {
              "outlinewidth": 0,
              "ticks": ""
             }
            },
            "type": "scatterpolargl"
           }
          ],
          "scatterternary": [
           {
            "marker": {
             "colorbar": {
              "outlinewidth": 0,
              "ticks": ""
             }
            },
            "type": "scatterternary"
           }
          ],
          "surface": [
           {
            "colorbar": {
             "outlinewidth": 0,
             "ticks": ""
            },
            "colorscale": [
             [
              0,
              "#0d0887"
             ],
             [
              0.1111111111111111,
              "#46039f"
             ],
             [
              0.2222222222222222,
              "#7201a8"
             ],
             [
              0.3333333333333333,
              "#9c179e"
             ],
             [
              0.4444444444444444,
              "#bd3786"
             ],
             [
              0.5555555555555556,
              "#d8576b"
             ],
             [
              0.6666666666666666,
              "#ed7953"
             ],
             [
              0.7777777777777778,
              "#fb9f3a"
             ],
             [
              0.8888888888888888,
              "#fdca26"
             ],
             [
              1,
              "#f0f921"
             ]
            ],
            "type": "surface"
           }
          ],
          "table": [
           {
            "cells": {
             "fill": {
              "color": "#EBF0F8"
             },
             "line": {
              "color": "white"
             }
            },
            "header": {
             "fill": {
              "color": "#C8D4E3"
             },
             "line": {
              "color": "white"
             }
            },
            "type": "table"
           }
          ]
         },
         "layout": {
          "annotationdefaults": {
           "arrowcolor": "#2a3f5f",
           "arrowhead": 0,
           "arrowwidth": 1
          },
          "autotypenumbers": "strict",
          "coloraxis": {
           "colorbar": {
            "outlinewidth": 0,
            "ticks": ""
           }
          },
          "colorscale": {
           "diverging": [
            [
             0,
             "#8e0152"
            ],
            [
             0.1,
             "#c51b7d"
            ],
            [
             0.2,
             "#de77ae"
            ],
            [
             0.3,
             "#f1b6da"
            ],
            [
             0.4,
             "#fde0ef"
            ],
            [
             0.5,
             "#f7f7f7"
            ],
            [
             0.6,
             "#e6f5d0"
            ],
            [
             0.7,
             "#b8e186"
            ],
            [
             0.8,
             "#7fbc41"
            ],
            [
             0.9,
             "#4d9221"
            ],
            [
             1,
             "#276419"
            ]
           ],
           "sequential": [
            [
             0,
             "#0d0887"
            ],
            [
             0.1111111111111111,
             "#46039f"
            ],
            [
             0.2222222222222222,
             "#7201a8"
            ],
            [
             0.3333333333333333,
             "#9c179e"
            ],
            [
             0.4444444444444444,
             "#bd3786"
            ],
            [
             0.5555555555555556,
             "#d8576b"
            ],
            [
             0.6666666666666666,
             "#ed7953"
            ],
            [
             0.7777777777777778,
             "#fb9f3a"
            ],
            [
             0.8888888888888888,
             "#fdca26"
            ],
            [
             1,
             "#f0f921"
            ]
           ],
           "sequentialminus": [
            [
             0,
             "#0d0887"
            ],
            [
             0.1111111111111111,
             "#46039f"
            ],
            [
             0.2222222222222222,
             "#7201a8"
            ],
            [
             0.3333333333333333,
             "#9c179e"
            ],
            [
             0.4444444444444444,
             "#bd3786"
            ],
            [
             0.5555555555555556,
             "#d8576b"
            ],
            [
             0.6666666666666666,
             "#ed7953"
            ],
            [
             0.7777777777777778,
             "#fb9f3a"
            ],
            [
             0.8888888888888888,
             "#fdca26"
            ],
            [
             1,
             "#f0f921"
            ]
           ]
          },
          "colorway": [
           "#636efa",
           "#EF553B",
           "#00cc96",
           "#ab63fa",
           "#FFA15A",
           "#19d3f3",
           "#FF6692",
           "#B6E880",
           "#FF97FF",
           "#FECB52"
          ],
          "font": {
           "color": "#2a3f5f"
          },
          "geo": {
           "bgcolor": "white",
           "lakecolor": "white",
           "landcolor": "#E5ECF6",
           "showlakes": true,
           "showland": true,
           "subunitcolor": "white"
          },
          "hoverlabel": {
           "align": "left"
          },
          "hovermode": "closest",
          "mapbox": {
           "style": "light"
          },
          "paper_bgcolor": "white",
          "plot_bgcolor": "#E5ECF6",
          "polar": {
           "angularaxis": {
            "gridcolor": "white",
            "linecolor": "white",
            "ticks": ""
           },
           "bgcolor": "#E5ECF6",
           "radialaxis": {
            "gridcolor": "white",
            "linecolor": "white",
            "ticks": ""
           }
          },
          "scene": {
           "xaxis": {
            "backgroundcolor": "#E5ECF6",
            "gridcolor": "white",
            "gridwidth": 2,
            "linecolor": "white",
            "showbackground": true,
            "ticks": "",
            "zerolinecolor": "white"
           },
           "yaxis": {
            "backgroundcolor": "#E5ECF6",
            "gridcolor": "white",
            "gridwidth": 2,
            "linecolor": "white",
            "showbackground": true,
            "ticks": "",
            "zerolinecolor": "white"
           },
           "zaxis": {
            "backgroundcolor": "#E5ECF6",
            "gridcolor": "white",
            "gridwidth": 2,
            "linecolor": "white",
            "showbackground": true,
            "ticks": "",
            "zerolinecolor": "white"
           }
          },
          "shapedefaults": {
           "line": {
            "color": "#2a3f5f"
           }
          },
          "ternary": {
           "aaxis": {
            "gridcolor": "white",
            "linecolor": "white",
            "ticks": ""
           },
           "baxis": {
            "gridcolor": "white",
            "linecolor": "white",
            "ticks": ""
           },
           "bgcolor": "#E5ECF6",
           "caxis": {
            "gridcolor": "white",
            "linecolor": "white",
            "ticks": ""
           }
          },
          "title": {
           "x": 0.05
          },
          "xaxis": {
           "automargin": true,
           "gridcolor": "white",
           "linecolor": "white",
           "ticks": "",
           "title": {
            "standoff": 15
           },
           "zerolinecolor": "white",
           "zerolinewidth": 2
          },
          "yaxis": {
           "automargin": true,
           "gridcolor": "white",
           "linecolor": "white",
           "ticks": "",
           "title": {
            "standoff": 15
           },
           "zerolinecolor": "white",
           "zerolinewidth": 2
          }
         }
        },
        "title": {
         "text": "Yearly capacity costs savings"
        },
        "xaxis": {
         "anchor": "y",
         "domain": [
          0,
          1
         ],
         "range": [
          0,
          10000
         ],
         "title": {
          "text": "Savings in €"
         }
        },
        "yaxis": {
         "anchor": "x",
         "domain": [
          0,
          1
         ],
         "title": {
          "text": ""
         }
        }
       }
      }
     },
     "metadata": {},
     "output_type": "display_data"
    }
   ],
   "source": [
    "abs_cap_costs_yearly_savings = abs_diff[\"grid_capacity_costs_eur\"].copy()\n",
    "abs_cap_costs_yearly_savings.name = \"Total yearly grid capacity costs savings in %\"\n",
    "print(abs_cap_costs_yearly_savings.describe().drop(\"count\").to_markdown())\n",
    "\n",
    "total_cap_saving_fig_df = abs_diff.copy()\n",
    "total_cap_saving_fig_df = total_cap_saving_fig_df.rename(columns={\"grid_capacity_costs_eur\": \"Savings\"})\n",
    "total_cap_savings_fig = px.box(\n",
    "    data_frame=total_cap_saving_fig_df,\n",
    "    x=\"Savings\",\n",
    "    title=\"Yearly capacity costs savings\")\n",
    "total_cap_savings_fig.update_layout(xaxis_title=\"Savings in €\", yaxis_title=\"\")\n",
    "total_cap_savings_fig.update_xaxes(range=[0, 10e3])\n",
    "total_cap_savings_fig.show()"
   ]
  },
  {
   "cell_type": "code",
   "execution_count": 102,
   "id": "93739546",
   "metadata": {},
   "outputs": [
    {
     "name": "stdout",
     "output_type": "stream",
     "text": [
      "|      |   Relative yearly grid capacity costs savings in % |\n",
      "|:-----|---------------------------------------------------:|\n",
      "| mean |                                           24.8865  |\n",
      "| std  |                                           14.5741  |\n",
      "| min  |                                            0.12364 |\n",
      "| 25%  |                                           14.1304  |\n",
      "| 50%  |                                           22.3893  |\n",
      "| 75%  |                                           33.1419  |\n",
      "| max  |                                           99.9732  |\n"
     ]
    },
    {
     "data": {
      "application/vnd.plotly.v1+json": {
       "config": {
        "plotlyServerURL": "https://plot.ly"
       },
       "data": [
        {
         "alignmentgroup": "True",
         "hovertemplate": "Savings=%{x}<extra></extra>",
         "legendgroup": "",
         "marker": {
          "color": "#636efa"
         },
         "name": "",
         "notched": false,
         "offsetgroup": "",
         "orientation": "h",
         "showlegend": false,
         "type": "box",
         "x": {
          "bdata": "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",
          "dtype": "f8"
         },
         "x0": " ",
         "xaxis": "x",
         "y0": " ",
         "yaxis": "y"
        }
       ],
       "layout": {
        "boxmode": "group",
        "legend": {
         "tracegroupgap": 0
        },
        "template": {
         "data": {
          "bar": [
           {
            "error_x": {
             "color": "#2a3f5f"
            },
            "error_y": {
             "color": "#2a3f5f"
            },
            "marker": {
             "line": {
              "color": "#E5ECF6",
              "width": 0.5
             },
             "pattern": {
              "fillmode": "overlay",
              "size": 10,
              "solidity": 0.2
             }
            },
            "type": "bar"
           }
          ],
          "barpolar": [
           {
            "marker": {
             "line": {
              "color": "#E5ECF6",
              "width": 0.5
             },
             "pattern": {
              "fillmode": "overlay",
              "size": 10,
              "solidity": 0.2
             }
            },
            "type": "barpolar"
           }
          ],
          "carpet": [
           {
            "aaxis": {
             "endlinecolor": "#2a3f5f",
             "gridcolor": "white",
             "linecolor": "white",
             "minorgridcolor": "white",
             "startlinecolor": "#2a3f5f"
            },
            "baxis": {
             "endlinecolor": "#2a3f5f",
             "gridcolor": "white",
             "linecolor": "white",
             "minorgridcolor": "white",
             "startlinecolor": "#2a3f5f"
            },
            "type": "carpet"
           }
          ],
          "choropleth": [
           {
            "colorbar": {
             "outlinewidth": 0,
             "ticks": ""
            },
            "type": "choropleth"
           }
          ],
          "contour": [
           {
            "colorbar": {
             "outlinewidth": 0,
             "ticks": ""
            },
            "colorscale": [
             [
              0,
              "#0d0887"
             ],
             [
              0.1111111111111111,
              "#46039f"
             ],
             [
              0.2222222222222222,
              "#7201a8"
             ],
             [
              0.3333333333333333,
              "#9c179e"
             ],
             [
              0.4444444444444444,
              "#bd3786"
             ],
             [
              0.5555555555555556,
              "#d8576b"
             ],
             [
              0.6666666666666666,
              "#ed7953"
             ],
             [
              0.7777777777777778,
              "#fb9f3a"
             ],
             [
              0.8888888888888888,
              "#fdca26"
             ],
             [
              1,
              "#f0f921"
             ]
            ],
            "type": "contour"
           }
          ],
          "contourcarpet": [
           {
            "colorbar": {
             "outlinewidth": 0,
             "ticks": ""
            },
            "type": "contourcarpet"
           }
          ],
          "heatmap": [
           {
            "colorbar": {
             "outlinewidth": 0,
             "ticks": ""
            },
            "colorscale": [
             [
              0,
              "#0d0887"
             ],
             [
              0.1111111111111111,
              "#46039f"
             ],
             [
              0.2222222222222222,
              "#7201a8"
             ],
             [
              0.3333333333333333,
              "#9c179e"
             ],
             [
              0.4444444444444444,
              "#bd3786"
             ],
             [
              0.5555555555555556,
              "#d8576b"
             ],
             [
              0.6666666666666666,
              "#ed7953"
             ],
             [
              0.7777777777777778,
              "#fb9f3a"
             ],
             [
              0.8888888888888888,
              "#fdca26"
             ],
             [
              1,
              "#f0f921"
             ]
            ],
            "type": "heatmap"
           }
          ],
          "histogram": [
           {
            "marker": {
             "pattern": {
              "fillmode": "overlay",
              "size": 10,
              "solidity": 0.2
             }
            },
            "type": "histogram"
           }
          ],
          "histogram2d": [
           {
            "colorbar": {
             "outlinewidth": 0,
             "ticks": ""
            },
            "colorscale": [
             [
              0,
              "#0d0887"
             ],
             [
              0.1111111111111111,
              "#46039f"
             ],
             [
              0.2222222222222222,
              "#7201a8"
             ],
             [
              0.3333333333333333,
              "#9c179e"
             ],
             [
              0.4444444444444444,
              "#bd3786"
             ],
             [
              0.5555555555555556,
              "#d8576b"
             ],
             [
              0.6666666666666666,
              "#ed7953"
             ],
             [
              0.7777777777777778,
              "#fb9f3a"
             ],
             [
              0.8888888888888888,
              "#fdca26"
             ],
             [
              1,
              "#f0f921"
             ]
            ],
            "type": "histogram2d"
           }
          ],
          "histogram2dcontour": [
           {
            "colorbar": {
             "outlinewidth": 0,
             "ticks": ""
            },
            "colorscale": [
             [
              0,
              "#0d0887"
             ],
             [
              0.1111111111111111,
              "#46039f"
             ],
             [
              0.2222222222222222,
              "#7201a8"
             ],
             [
              0.3333333333333333,
              "#9c179e"
             ],
             [
              0.4444444444444444,
              "#bd3786"
             ],
             [
              0.5555555555555556,
              "#d8576b"
             ],
             [
              0.6666666666666666,
              "#ed7953"
             ],
             [
              0.7777777777777778,
              "#fb9f3a"
             ],
             [
              0.8888888888888888,
              "#fdca26"
             ],
             [
              1,
              "#f0f921"
             ]
            ],
            "type": "histogram2dcontour"
           }
          ],
          "mesh3d": [
           {
            "colorbar": {
             "outlinewidth": 0,
             "ticks": ""
            },
            "type": "mesh3d"
           }
          ],
          "parcoords": [
           {
            "line": {
             "colorbar": {
              "outlinewidth": 0,
              "ticks": ""
             }
            },
            "type": "parcoords"
           }
          ],
          "pie": [
           {
            "automargin": true,
            "type": "pie"
           }
          ],
          "scatter": [
           {
            "fillpattern": {
             "fillmode": "overlay",
             "size": 10,
             "solidity": 0.2
            },
            "type": "scatter"
           }
          ],
          "scatter3d": [
           {
            "line": {
             "colorbar": {
              "outlinewidth": 0,
              "ticks": ""
             }
            },
            "marker": {
             "colorbar": {
              "outlinewidth": 0,
              "ticks": ""
             }
            },
            "type": "scatter3d"
           }
          ],
          "scattercarpet": [
           {
            "marker": {
             "colorbar": {
              "outlinewidth": 0,
              "ticks": ""
             }
            },
            "type": "scattercarpet"
           }
          ],
          "scattergeo": [
           {
            "marker": {
             "colorbar": {
              "outlinewidth": 0,
              "ticks": ""
             }
            },
            "type": "scattergeo"
           }
          ],
          "scattergl": [
           {
            "marker": {
             "colorbar": {
              "outlinewidth": 0,
              "ticks": ""
             }
            },
            "type": "scattergl"
           }
          ],
          "scattermap": [
           {
            "marker": {
             "colorbar": {
              "outlinewidth": 0,
              "ticks": ""
             }
            },
            "type": "scattermap"
           }
          ],
          "scattermapbox": [
           {
            "marker": {
             "colorbar": {
              "outlinewidth": 0,
              "ticks": ""
             }
            },
            "type": "scattermapbox"
           }
          ],
          "scatterpolar": [
           {
            "marker": {
             "colorbar": {
              "outlinewidth": 0,
              "ticks": ""
             }
            },
            "type": "scatterpolar"
           }
          ],
          "scatterpolargl": [
           {
            "marker": {
             "colorbar": {
              "outlinewidth": 0,
              "ticks": ""
             }
            },
            "type": "scatterpolargl"
           }
          ],
          "scatterternary": [
           {
            "marker": {
             "colorbar": {
              "outlinewidth": 0,
              "ticks": ""
             }
            },
            "type": "scatterternary"
           }
          ],
          "surface": [
           {
            "colorbar": {
             "outlinewidth": 0,
             "ticks": ""
            },
            "colorscale": [
             [
              0,
              "#0d0887"
             ],
             [
              0.1111111111111111,
              "#46039f"
             ],
             [
              0.2222222222222222,
              "#7201a8"
             ],
             [
              0.3333333333333333,
              "#9c179e"
             ],
             [
              0.4444444444444444,
              "#bd3786"
             ],
             [
              0.5555555555555556,
              "#d8576b"
             ],
             [
              0.6666666666666666,
              "#ed7953"
             ],
             [
              0.7777777777777778,
              "#fb9f3a"
             ],
             [
              0.8888888888888888,
              "#fdca26"
             ],
             [
              1,
              "#f0f921"
             ]
            ],
            "type": "surface"
           }
          ],
          "table": [
           {
            "cells": {
             "fill": {
              "color": "#EBF0F8"
             },
             "line": {
              "color": "white"
             }
            },
            "header": {
             "fill": {
              "color": "#C8D4E3"
             },
             "line": {
              "color": "white"
             }
            },
            "type": "table"
           }
          ]
         },
         "layout": {
          "annotationdefaults": {
           "arrowcolor": "#2a3f5f",
           "arrowhead": 0,
           "arrowwidth": 1
          },
          "autotypenumbers": "strict",
          "coloraxis": {
           "colorbar": {
            "outlinewidth": 0,
            "ticks": ""
           }
          },
          "colorscale": {
           "diverging": [
            [
             0,
             "#8e0152"
            ],
            [
             0.1,
             "#c51b7d"
            ],
            [
             0.2,
             "#de77ae"
            ],
            [
             0.3,
             "#f1b6da"
            ],
            [
             0.4,
             "#fde0ef"
            ],
            [
             0.5,
             "#f7f7f7"
            ],
            [
             0.6,
             "#e6f5d0"
            ],
            [
             0.7,
             "#b8e186"
            ],
            [
             0.8,
             "#7fbc41"
            ],
            [
             0.9,
             "#4d9221"
            ],
            [
             1,
             "#276419"
            ]
           ],
           "sequential": [
            [
             0,
             "#0d0887"
            ],
            [
             0.1111111111111111,
             "#46039f"
            ],
            [
             0.2222222222222222,
             "#7201a8"
            ],
            [
             0.3333333333333333,
             "#9c179e"
            ],
            [
             0.4444444444444444,
             "#bd3786"
            ],
            [
             0.5555555555555556,
             "#d8576b"
            ],
            [
             0.6666666666666666,
             "#ed7953"
            ],
            [
             0.7777777777777778,
             "#fb9f3a"
            ],
            [
             0.8888888888888888,
             "#fdca26"
            ],
            [
             1,
             "#f0f921"
            ]
           ],
           "sequentialminus": [
            [
             0,
             "#0d0887"
            ],
            [
             0.1111111111111111,
             "#46039f"
            ],
            [
             0.2222222222222222,
             "#7201a8"
            ],
            [
             0.3333333333333333,
             "#9c179e"
            ],
            [
             0.4444444444444444,
             "#bd3786"
            ],
            [
             0.5555555555555556,
             "#d8576b"
            ],
            [
             0.6666666666666666,
             "#ed7953"
            ],
            [
             0.7777777777777778,
             "#fb9f3a"
            ],
            [
             0.8888888888888888,
             "#fdca26"
            ],
            [
             1,
             "#f0f921"
            ]
           ]
          },
          "colorway": [
           "#636efa",
           "#EF553B",
           "#00cc96",
           "#ab63fa",
           "#FFA15A",
           "#19d3f3",
           "#FF6692",
           "#B6E880",
           "#FF97FF",
           "#FECB52"
          ],
          "font": {
           "color": "#2a3f5f"
          },
          "geo": {
           "bgcolor": "white",
           "lakecolor": "white",
           "landcolor": "#E5ECF6",
           "showlakes": true,
           "showland": true,
           "subunitcolor": "white"
          },
          "hoverlabel": {
           "align": "left"
          },
          "hovermode": "closest",
          "mapbox": {
           "style": "light"
          },
          "paper_bgcolor": "white",
          "plot_bgcolor": "#E5ECF6",
          "polar": {
           "angularaxis": {
            "gridcolor": "white",
            "linecolor": "white",
            "ticks": ""
           },
           "bgcolor": "#E5ECF6",
           "radialaxis": {
            "gridcolor": "white",
            "linecolor": "white",
            "ticks": ""
           }
          },
          "scene": {
           "xaxis": {
            "backgroundcolor": "#E5ECF6",
            "gridcolor": "white",
            "gridwidth": 2,
            "linecolor": "white",
            "showbackground": true,
            "ticks": "",
            "zerolinecolor": "white"
           },
           "yaxis": {
            "backgroundcolor": "#E5ECF6",
            "gridcolor": "white",
            "gridwidth": 2,
            "linecolor": "white",
            "showbackground": true,
            "ticks": "",
            "zerolinecolor": "white"
           },
           "zaxis": {
            "backgroundcolor": "#E5ECF6",
            "gridcolor": "white",
            "gridwidth": 2,
            "linecolor": "white",
            "showbackground": true,
            "ticks": "",
            "zerolinecolor": "white"
           }
          },
          "shapedefaults": {
           "line": {
            "color": "#2a3f5f"
           }
          },
          "ternary": {
           "aaxis": {
            "gridcolor": "white",
            "linecolor": "white",
            "ticks": ""
           },
           "baxis": {
            "gridcolor": "white",
            "linecolor": "white",
            "ticks": ""
           },
           "bgcolor": "#E5ECF6",
           "caxis": {
            "gridcolor": "white",
            "linecolor": "white",
            "ticks": ""
           }
          },
          "title": {
           "x": 0.05
          },
          "xaxis": {
           "automargin": true,
           "gridcolor": "white",
           "linecolor": "white",
           "ticks": "",
           "title": {
            "standoff": 15
           },
           "zerolinecolor": "white",
           "zerolinewidth": 2
          },
          "yaxis": {
           "automargin": true,
           "gridcolor": "white",
           "linecolor": "white",
           "ticks": "",
           "title": {
            "standoff": 15
           },
           "zerolinecolor": "white",
           "zerolinewidth": 2
          }
         }
        },
        "title": {
         "text": "Relative yearly capacity cost savings"
        },
        "xaxis": {
         "anchor": "y",
         "domain": [
          0,
          1
         ],
         "range": [
          0,
          75
         ],
         "title": {
          "text": "Savings in %"
         }
        },
        "yaxis": {
         "anchor": "x",
         "domain": [
          0,
          1
         ],
         "title": {
          "text": ""
         }
        }
       }
      }
     },
     "metadata": {},
     "output_type": "display_data"
    }
   ],
   "source": [
    "rel_cap_costs_yearly_savings = 100 * rel_diff[\"grid_capacity_costs_eur\"].copy()\n",
    "rel_cap_costs_yearly_savings.name = \"Relative yearly grid capacity costs savings in %\"\n",
    "print(rel_cap_costs_yearly_savings.describe().drop(\"count\").to_markdown())\n",
    "\n",
    "rel_cap_savings_fig_df = pd.DataFrame()\n",
    "rel_cap_savings_fig_df = rel_diff.copy() * 100\n",
    "rel_cap_savings_fig_df.rename(columns={\"grid_capacity_costs_eur\": \"Savings\"}, inplace=True)\n",
    "rel_cap_savings_fig = px.box(\n",
    "    data_frame=rel_cap_savings_fig_df,\n",
    "    x=\"Savings\",\n",
    "    title=\"Relative yearly capacity cost savings\")\n",
    "rel_cap_savings_fig.update_layout(xaxis_title=\"Savings in %\", yaxis_title=\"\")\n",
    "rel_cap_savings_fig.update_xaxes(range=[0, 75])\n",
    "rel_cap_savings_fig.show()"
   ]
  },
  {
   "cell_type": "markdown",
   "id": "2ab4034b",
   "metadata": {},
   "source": [
    "# Correlations"
   ]
  },
  {
   "cell_type": "markdown",
   "id": "2692cef2",
   "metadata": {},
   "source": [
    "## On absolute savings"
   ]
  },
  {
   "cell_type": "code",
   "execution_count": 103,
   "id": "a523fdde",
   "metadata": {},
   "outputs": [
    {
     "data": {
      "application/vnd.plotly.v1+json": {
       "config": {
        "plotlyServerURL": "https://plot.ly"
       },
       "data": [
        {
         "coloraxis": "coloraxis",
         "hovertemplate": "x: %{x}<br>y: %{y}<br>color: %{z}<extra></extra>",
         "name": "0",
         "type": "heatmap",
         "x": [
          "energy_costs_eur",
          "grid_capacity_costs_eur",
          "grid_capacity_kw",
          "grid_energy_costs_eur",
          "inverter_annuity_eur",
          "inverter_capacity_kw",
          "inverter_invest_eur",
          "invest_per_tac",
          "storage_annuity_eur",
          "storage_capacity_kwh",
          "storage_invest_eur",
          "total_annuity_eur",
          "total_invest_eur",
          "total_yearly_costs_eur",
          "capacity_price_over_2500h_eur_per_kw",
          "energy_price_over_2500h_eur_per_kwh",
          "capacity_price_under_2500h_eur_per_kw",
          "energy_price_under_2500h_eur_per_kwh",
          "number_of_peak_load",
          "peak_load_kw",
          "mean_load_kw",
          "variance_kw",
          "total_energy_kwh",
          "full_load_hours_h",
          "is_over_2500h",
          "std_kw",
          "std_by_mean",
          "std_by_peak",
          "peak_by_mean"
         ],
         "xaxis": "x",
         "y": [
          "energy_costs_eur",
          "grid_capacity_costs_eur",
          "grid_capacity_kw",
          "grid_energy_costs_eur",
          "inverter_annuity_eur",
          "inverter_capacity_kw",
          "inverter_invest_eur",
          "invest_per_tac",
          "storage_annuity_eur",
          "storage_capacity_kwh",
          "storage_invest_eur",
          "total_annuity_eur",
          "total_invest_eur",
          "total_yearly_costs_eur",
          "capacity_price_over_2500h_eur_per_kw",
          "energy_price_over_2500h_eur_per_kwh",
          "capacity_price_under_2500h_eur_per_kw",
          "energy_price_under_2500h_eur_per_kwh",
          "number_of_peak_load",
          "peak_load_kw",
          "mean_load_kw",
          "variance_kw",
          "total_energy_kwh",
          "full_load_hours_h",
          "is_over_2500h",
          "std_kw",
          "std_by_mean",
          "std_by_peak",
          "peak_by_mean"
         ],
         "yaxis": "y",
         "z": {
          "bdata": "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",
          "dtype": "f8",
          "shape": "29, 29"
         }
        }
       ],
       "layout": {
        "coloraxis": {
         "colorscale": [
          [
           0,
           "#0d0887"
          ],
          [
           0.1111111111111111,
           "#46039f"
          ],
          [
           0.2222222222222222,
           "#7201a8"
          ],
          [
           0.3333333333333333,
           "#9c179e"
          ],
          [
           0.4444444444444444,
           "#bd3786"
          ],
          [
           0.5555555555555556,
           "#d8576b"
          ],
          [
           0.6666666666666666,
           "#ed7953"
          ],
          [
           0.7777777777777778,
           "#fb9f3a"
          ],
          [
           0.8888888888888888,
           "#fdca26"
          ],
          [
           1,
           "#f0f921"
          ]
         ]
        },
        "template": {
         "data": {
          "bar": [
           {
            "error_x": {
             "color": "#2a3f5f"
            },
            "error_y": {
             "color": "#2a3f5f"
            },
            "marker": {
             "line": {
              "color": "#E5ECF6",
              "width": 0.5
             },
             "pattern": {
              "fillmode": "overlay",
              "size": 10,
              "solidity": 0.2
             }
            },
            "type": "bar"
           }
          ],
          "barpolar": [
           {
            "marker": {
             "line": {
              "color": "#E5ECF6",
              "width": 0.5
             },
             "pattern": {
              "fillmode": "overlay",
              "size": 10,
              "solidity": 0.2
             }
            },
            "type": "barpolar"
           }
          ],
          "carpet": [
           {
            "aaxis": {
             "endlinecolor": "#2a3f5f",
             "gridcolor": "white",
             "linecolor": "white",
             "minorgridcolor": "white",
             "startlinecolor": "#2a3f5f"
            },
            "baxis": {
             "endlinecolor": "#2a3f5f",
             "gridcolor": "white",
             "linecolor": "white",
             "minorgridcolor": "white",
             "startlinecolor": "#2a3f5f"
            },
            "type": "carpet"
           }
          ],
          "choropleth": [
           {
            "colorbar": {
             "outlinewidth": 0,
             "ticks": ""
            },
            "type": "choropleth"
           }
          ],
          "contour": [
           {
            "colorbar": {
             "outlinewidth": 0,
             "ticks": ""
            },
            "colorscale": [
             [
              0,
              "#0d0887"
             ],
             [
              0.1111111111111111,
              "#46039f"
             ],
             [
              0.2222222222222222,
              "#7201a8"
             ],
             [
              0.3333333333333333,
              "#9c179e"
             ],
             [
              0.4444444444444444,
              "#bd3786"
             ],
             [
              0.5555555555555556,
              "#d8576b"
             ],
             [
              0.6666666666666666,
              "#ed7953"
             ],
             [
              0.7777777777777778,
              "#fb9f3a"
             ],
             [
              0.8888888888888888,
              "#fdca26"
             ],
             [
              1,
              "#f0f921"
             ]
            ],
            "type": "contour"
           }
          ],
          "contourcarpet": [
           {
            "colorbar": {
             "outlinewidth": 0,
             "ticks": ""
            },
            "type": "contourcarpet"
           }
          ],
          "heatmap": [
           {
            "colorbar": {
             "outlinewidth": 0,
             "ticks": ""
            },
            "colorscale": [
             [
              0,
              "#0d0887"
             ],
             [
              0.1111111111111111,
              "#46039f"
             ],
             [
              0.2222222222222222,
              "#7201a8"
             ],
             [
              0.3333333333333333,
              "#9c179e"
             ],
             [
              0.4444444444444444,
              "#bd3786"
             ],
             [
              0.5555555555555556,
              "#d8576b"
             ],
             [
              0.6666666666666666,
              "#ed7953"
             ],
             [
              0.7777777777777778,
              "#fb9f3a"
             ],
             [
              0.8888888888888888,
              "#fdca26"
             ],
             [
              1,
              "#f0f921"
             ]
            ],
            "type": "heatmap"
           }
          ],
          "histogram": [
           {
            "marker": {
             "pattern": {
              "fillmode": "overlay",
              "size": 10,
              "solidity": 0.2
             }
            },
            "type": "histogram"
           }
          ],
          "histogram2d": [
           {
            "colorbar": {
             "outlinewidth": 0,
             "ticks": ""
            },
            "colorscale": [
             [
              0,
              "#0d0887"
             ],
             [
              0.1111111111111111,
              "#46039f"
             ],
             [
              0.2222222222222222,
              "#7201a8"
             ],
             [
              0.3333333333333333,
              "#9c179e"
             ],
             [
              0.4444444444444444,
              "#bd3786"
             ],
             [
              0.5555555555555556,
              "#d8576b"
             ],
             [
              0.6666666666666666,
              "#ed7953"
             ],
             [
              0.7777777777777778,
              "#fb9f3a"
             ],
             [
              0.8888888888888888,
              "#fdca26"
             ],
             [
              1,
              "#f0f921"
             ]
            ],
            "type": "histogram2d"
           }
          ],
          "histogram2dcontour": [
           {
            "colorbar": {
             "outlinewidth": 0,
             "ticks": ""
            },
            "colorscale": [
             [
              0,
              "#0d0887"
             ],
             [
              0.1111111111111111,
              "#46039f"
             ],
             [
              0.2222222222222222,
              "#7201a8"
             ],
             [
              0.3333333333333333,
              "#9c179e"
             ],
             [
              0.4444444444444444,
              "#bd3786"
             ],
             [
              0.5555555555555556,
              "#d8576b"
             ],
             [
              0.6666666666666666,
              "#ed7953"
             ],
             [
              0.7777777777777778,
              "#fb9f3a"
             ],
             [
              0.8888888888888888,
              "#fdca26"
             ],
             [
              1,
              "#f0f921"
             ]
            ],
            "type": "histogram2dcontour"
           }
          ],
          "mesh3d": [
           {
            "colorbar": {
             "outlinewidth": 0,
             "ticks": ""
            },
            "type": "mesh3d"
           }
          ],
          "parcoords": [
           {
            "line": {
             "colorbar": {
              "outlinewidth": 0,
              "ticks": ""
             }
            },
            "type": "parcoords"
           }
          ],
          "pie": [
           {
            "automargin": true,
            "type": "pie"
           }
          ],
          "scatter": [
           {
            "fillpattern": {
             "fillmode": "overlay",
             "size": 10,
             "solidity": 0.2
            },
            "type": "scatter"
           }
          ],
          "scatter3d": [
           {
            "line": {
             "colorbar": {
              "outlinewidth": 0,
              "ticks": ""
             }
            },
            "marker": {
             "colorbar": {
              "outlinewidth": 0,
              "ticks": ""
             }
            },
            "type": "scatter3d"
           }
          ],
          "scattercarpet": [
           {
            "marker": {
             "colorbar": {
              "outlinewidth": 0,
              "ticks": ""
             }
            },
            "type": "scattercarpet"
           }
          ],
          "scattergeo": [
           {
            "marker": {
             "colorbar": {
              "outlinewidth": 0,
              "ticks": ""
             }
            },
            "type": "scattergeo"
           }
          ],
          "scattergl": [
           {
            "marker": {
             "colorbar": {
              "outlinewidth": 0,
              "ticks": ""
             }
            },
            "type": "scattergl"
           }
          ],
          "scattermap": [
           {
            "marker": {
             "colorbar": {
              "outlinewidth": 0,
              "ticks": ""
             }
            },
            "type": "scattermap"
           }
          ],
          "scattermapbox": [
           {
            "marker": {
             "colorbar": {
              "outlinewidth": 0,
              "ticks": ""
             }
            },
            "type": "scattermapbox"
           }
          ],
          "scatterpolar": [
           {
            "marker": {
             "colorbar": {
              "outlinewidth": 0,
              "ticks": ""
             }
            },
            "type": "scatterpolar"
           }
          ],
          "scatterpolargl": [
           {
            "marker": {
             "colorbar": {
              "outlinewidth": 0,
              "ticks": ""
             }
            },
            "type": "scatterpolargl"
           }
          ],
          "scatterternary": [
           {
            "marker": {
             "colorbar": {
              "outlinewidth": 0,
              "ticks": ""
             }
            },
            "type": "scatterternary"
           }
          ],
          "surface": [
           {
            "colorbar": {
             "outlinewidth": 0,
             "ticks": ""
            },
            "colorscale": [
             [
              0,
              "#0d0887"
             ],
             [
              0.1111111111111111,
              "#46039f"
             ],
             [
              0.2222222222222222,
              "#7201a8"
             ],
             [
              0.3333333333333333,
              "#9c179e"
             ],
             [
              0.4444444444444444,
              "#bd3786"
             ],
             [
              0.5555555555555556,
              "#d8576b"
             ],
             [
              0.6666666666666666,
              "#ed7953"
             ],
             [
              0.7777777777777778,
              "#fb9f3a"
             ],
             [
              0.8888888888888888,
              "#fdca26"
             ],
             [
              1,
              "#f0f921"
             ]
            ],
            "type": "surface"
           }
          ],
          "table": [
           {
            "cells": {
             "fill": {
              "color": "#EBF0F8"
             },
             "line": {
              "color": "white"
             }
            },
            "header": {
             "fill": {
              "color": "#C8D4E3"
             },
             "line": {
              "color": "white"
             }
            },
            "type": "table"
           }
          ]
         },
         "layout": {
          "annotationdefaults": {
           "arrowcolor": "#2a3f5f",
           "arrowhead": 0,
           "arrowwidth": 1
          },
          "autotypenumbers": "strict",
          "coloraxis": {
           "colorbar": {
            "outlinewidth": 0,
            "ticks": ""
           }
          },
          "colorscale": {
           "diverging": [
            [
             0,
             "#8e0152"
            ],
            [
             0.1,
             "#c51b7d"
            ],
            [
             0.2,
             "#de77ae"
            ],
            [
             0.3,
             "#f1b6da"
            ],
            [
             0.4,
             "#fde0ef"
            ],
            [
             0.5,
             "#f7f7f7"
            ],
            [
             0.6,
             "#e6f5d0"
            ],
            [
             0.7,
             "#b8e186"
            ],
            [
             0.8,
             "#7fbc41"
            ],
            [
             0.9,
             "#4d9221"
            ],
            [
             1,
             "#276419"
            ]
           ],
           "sequential": [
            [
             0,
             "#0d0887"
            ],
            [
             0.1111111111111111,
             "#46039f"
            ],
            [
             0.2222222222222222,
             "#7201a8"
            ],
            [
             0.3333333333333333,
             "#9c179e"
            ],
            [
             0.4444444444444444,
             "#bd3786"
            ],
            [
             0.5555555555555556,
             "#d8576b"
            ],
            [
             0.6666666666666666,
             "#ed7953"
            ],
            [
             0.7777777777777778,
             "#fb9f3a"
            ],
            [
             0.8888888888888888,
             "#fdca26"
            ],
            [
             1,
             "#f0f921"
            ]
           ],
           "sequentialminus": [
            [
             0,
             "#0d0887"
            ],
            [
             0.1111111111111111,
             "#46039f"
            ],
            [
             0.2222222222222222,
             "#7201a8"
            ],
            [
             0.3333333333333333,
             "#9c179e"
            ],
            [
             0.4444444444444444,
             "#bd3786"
            ],
            [
             0.5555555555555556,
             "#d8576b"
            ],
            [
             0.6666666666666666,
             "#ed7953"
            ],
            [
             0.7777777777777778,
             "#fb9f3a"
            ],
            [
             0.8888888888888888,
             "#fdca26"
            ],
            [
             1,
             "#f0f921"
            ]
           ]
          },
          "colorway": [
           "#636efa",
           "#EF553B",
           "#00cc96",
           "#ab63fa",
           "#FFA15A",
           "#19d3f3",
           "#FF6692",
           "#B6E880",
           "#FF97FF",
           "#FECB52"
          ],
          "font": {
           "color": "#2a3f5f"
          },
          "geo": {
           "bgcolor": "white",
           "lakecolor": "white",
           "landcolor": "#E5ECF6",
           "showlakes": true,
           "showland": true,
           "subunitcolor": "white"
          },
          "hoverlabel": {
           "align": "left"
          },
          "hovermode": "closest",
          "mapbox": {
           "style": "light"
          },
          "paper_bgcolor": "white",
          "plot_bgcolor": "#E5ECF6",
          "polar": {
           "angularaxis": {
            "gridcolor": "white",
            "linecolor": "white",
            "ticks": ""
           },
           "bgcolor": "#E5ECF6",
           "radialaxis": {
            "gridcolor": "white",
            "linecolor": "white",
            "ticks": ""
           }
          },
          "scene": {
           "xaxis": {
            "backgroundcolor": "#E5ECF6",
            "gridcolor": "white",
            "gridwidth": 2,
            "linecolor": "white",
            "showbackground": true,
            "ticks": "",
            "zerolinecolor": "white"
           },
           "yaxis": {
            "backgroundcolor": "#E5ECF6",
            "gridcolor": "white",
            "gridwidth": 2,
            "linecolor": "white",
            "showbackground": true,
            "ticks": "",
            "zerolinecolor": "white"
           },
           "zaxis": {
            "backgroundcolor": "#E5ECF6",
            "gridcolor": "white",
            "gridwidth": 2,
            "linecolor": "white",
            "showbackground": true,
            "ticks": "",
            "zerolinecolor": "white"
           }
          },
          "shapedefaults": {
           "line": {
            "color": "#2a3f5f"
           }
          },
          "ternary": {
           "aaxis": {
            "gridcolor": "white",
            "linecolor": "white",
            "ticks": ""
           },
           "baxis": {
            "gridcolor": "white",
            "linecolor": "white",
            "ticks": ""
           },
           "bgcolor": "#E5ECF6",
           "caxis": {
            "gridcolor": "white",
            "linecolor": "white",
            "ticks": ""
           }
          },
          "title": {
           "x": 0.05
          },
          "xaxis": {
           "automargin": true,
           "gridcolor": "white",
           "linecolor": "white",
           "ticks": "",
           "title": {
            "standoff": 15
           },
           "zerolinecolor": "white",
           "zerolinewidth": 2
          },
          "yaxis": {
           "automargin": true,
           "gridcolor": "white",
           "linecolor": "white",
           "ticks": "",
           "title": {
            "standoff": 15
           },
           "zerolinecolor": "white",
           "zerolinewidth": 2
          }
         }
        },
        "title": {
         "text": "Correlation coefficients for total yearly savings"
        },
        "xaxis": {
         "anchor": "y",
         "constrain": "domain",
         "domain": [
          0,
          1
         ],
         "scaleanchor": "y"
        },
        "yaxis": {
         "anchor": "x",
         "autorange": "reversed",
         "constrain": "domain",
         "domain": [
          0,
          1
         ]
        }
       }
      }
     },
     "metadata": {},
     "output_type": "display_data"
    }
   ],
   "source": [
    "cols_to_drop = [\n",
    "    \"grid_level\",\n",
    "    \"zip_code\",\n",
    "    \"sector_group_id\",\n",
    "    \"sector_group\",\n",
    "    \"solar_invest_eur\",\n",
    "    \"solar_annuity_eur\",\n",
    "    \"solar_capacity_kwp\"]\n",
    "abs_correlations_df = abs_diff_with_master.drop(columns=cols_to_drop).corr()\n",
    "px.imshow(abs_correlations_df, title=\"Correlation coefficients for total yearly savings\")"
   ]
  },
  {
   "cell_type": "code",
   "execution_count": 104,
   "id": "c89f34ee",
   "metadata": {},
   "outputs": [
    {
     "data": {
      "application/vnd.plotly.v1+json": {
       "config": {
        "plotlyServerURL": "https://plot.ly"
       },
       "data": [
        {
         "hovertemplate": "index=%{x}<br>total_yearly_costs_eur=%{y}<extra></extra>",
         "legendgroup": "",
         "marker": {
          "color": "#636efa",
          "pattern": {
           "shape": ""
          }
         },
         "name": "",
         "orientation": "v",
         "showlegend": false,
         "textposition": "auto",
         "texttemplate": "%{y}",
         "type": "bar",
         "x": [
          "total_yearly_costs_eur",
          "grid_capacity_costs_eur",
          "grid_capacity_kw",
          "peak_load_kw",
          "std_kw",
          "mean_load_kw",
          "total_energy_kwh",
          "variance_kw",
          "energy_costs_eur",
          "grid_energy_costs_eur",
          "capacity_price_over_2500h_eur_per_kw",
          "std_by_mean",
          "peak_by_mean",
          "number_of_peak_load",
          "capacity_price_under_2500h_eur_per_kw",
          "energy_price_under_2500h_eur_per_kwh",
          "full_load_hours_h",
          "std_by_peak",
          "energy_price_over_2500h_eur_per_kwh",
          "storage_annuity_eur",
          "storage_capacity_kwh",
          "storage_invest_eur",
          "inverter_invest_eur",
          "inverter_capacity_kw",
          "inverter_annuity_eur",
          "total_annuity_eur",
          "total_invest_eur",
          "invest_per_tac",
          "is_over_2500h"
         ],
         "xaxis": "x",
         "y": {
          "bdata": "AAAAAAAA8D9cj8L1KFzvP3sUrkfheuw/SOF6FK5H6T/NzMzMzMzcP4XrUbgehds/hetRuB6F2z8AAAAAAADQP7gehetRuL4/mpmZmZmZqT97FK5H4XqkPwAAAAAAAACAAAAAAAAAAAB7FK5H4XqEv3sUrkfheqS/mpmZmZmZqb/sUbgeheuxvwrXo3A9Cre/7FG4HoXrwb/hehSuR+Hqv+F6FK5H4eq/4XoUrkfh6r97FK5H4Xrsv3sUrkfheuy/exSuR+F67L/D9Shcj8Ltv8P1KFyPwu2/AAAAAAAA+H8AAAAAAAD4fw==",
          "dtype": "f8"
         },
         "yaxis": "y"
        }
       ],
       "layout": {
        "barmode": "relative",
        "legend": {
         "tracegroupgap": 0
        },
        "template": {
         "data": {
          "bar": [
           {
            "error_x": {
             "color": "#2a3f5f"
            },
            "error_y": {
             "color": "#2a3f5f"
            },
            "marker": {
             "line": {
              "color": "#E5ECF6",
              "width": 0.5
             },
             "pattern": {
              "fillmode": "overlay",
              "size": 10,
              "solidity": 0.2
             }
            },
            "type": "bar"
           }
          ],
          "barpolar": [
           {
            "marker": {
             "line": {
              "color": "#E5ECF6",
              "width": 0.5
             },
             "pattern": {
              "fillmode": "overlay",
              "size": 10,
              "solidity": 0.2
             }
            },
            "type": "barpolar"
           }
          ],
          "carpet": [
           {
            "aaxis": {
             "endlinecolor": "#2a3f5f",
             "gridcolor": "white",
             "linecolor": "white",
             "minorgridcolor": "white",
             "startlinecolor": "#2a3f5f"
            },
            "baxis": {
             "endlinecolor": "#2a3f5f",
             "gridcolor": "white",
             "linecolor": "white",
             "minorgridcolor": "white",
             "startlinecolor": "#2a3f5f"
            },
            "type": "carpet"
           }
          ],
          "choropleth": [
           {
            "colorbar": {
             "outlinewidth": 0,
             "ticks": ""
            },
            "type": "choropleth"
           }
          ],
          "contour": [
           {
            "colorbar": {
             "outlinewidth": 0,
             "ticks": ""
            },
            "colorscale": [
             [
              0,
              "#0d0887"
             ],
             [
              0.1111111111111111,
              "#46039f"
             ],
             [
              0.2222222222222222,
              "#7201a8"
             ],
             [
              0.3333333333333333,
              "#9c179e"
             ],
             [
              0.4444444444444444,
              "#bd3786"
             ],
             [
              0.5555555555555556,
              "#d8576b"
             ],
             [
              0.6666666666666666,
              "#ed7953"
             ],
             [
              0.7777777777777778,
              "#fb9f3a"
             ],
             [
              0.8888888888888888,
              "#fdca26"
             ],
             [
              1,
              "#f0f921"
             ]
            ],
            "type": "contour"
           }
          ],
          "contourcarpet": [
           {
            "colorbar": {
             "outlinewidth": 0,
             "ticks": ""
            },
            "type": "contourcarpet"
           }
          ],
          "heatmap": [
           {
            "colorbar": {
             "outlinewidth": 0,
             "ticks": ""
            },
            "colorscale": [
             [
              0,
              "#0d0887"
             ],
             [
              0.1111111111111111,
              "#46039f"
             ],
             [
              0.2222222222222222,
              "#7201a8"
             ],
             [
              0.3333333333333333,
              "#9c179e"
             ],
             [
              0.4444444444444444,
              "#bd3786"
             ],
             [
              0.5555555555555556,
              "#d8576b"
             ],
             [
              0.6666666666666666,
              "#ed7953"
             ],
             [
              0.7777777777777778,
              "#fb9f3a"
             ],
             [
              0.8888888888888888,
              "#fdca26"
             ],
             [
              1,
              "#f0f921"
             ]
            ],
            "type": "heatmap"
           }
          ],
          "histogram": [
           {
            "marker": {
             "pattern": {
              "fillmode": "overlay",
              "size": 10,
              "solidity": 0.2
             }
            },
            "type": "histogram"
           }
          ],
          "histogram2d": [
           {
            "colorbar": {
             "outlinewidth": 0,
             "ticks": ""
            },
            "colorscale": [
             [
              0,
              "#0d0887"
             ],
             [
              0.1111111111111111,
              "#46039f"
             ],
             [
              0.2222222222222222,
              "#7201a8"
             ],
             [
              0.3333333333333333,
              "#9c179e"
             ],
             [
              0.4444444444444444,
              "#bd3786"
             ],
             [
              0.5555555555555556,
              "#d8576b"
             ],
             [
              0.6666666666666666,
              "#ed7953"
             ],
             [
              0.7777777777777778,
              "#fb9f3a"
             ],
             [
              0.8888888888888888,
              "#fdca26"
             ],
             [
              1,
              "#f0f921"
             ]
            ],
            "type": "histogram2d"
           }
          ],
          "histogram2dcontour": [
           {
            "colorbar": {
             "outlinewidth": 0,
             "ticks": ""
            },
            "colorscale": [
             [
              0,
              "#0d0887"
             ],
             [
              0.1111111111111111,
              "#46039f"
             ],
             [
              0.2222222222222222,
              "#7201a8"
             ],
             [
              0.3333333333333333,
              "#9c179e"
             ],
             [
              0.4444444444444444,
              "#bd3786"
             ],
             [
              0.5555555555555556,
              "#d8576b"
             ],
             [
              0.6666666666666666,
              "#ed7953"
             ],
             [
              0.7777777777777778,
              "#fb9f3a"
             ],
             [
              0.8888888888888888,
              "#fdca26"
             ],
             [
              1,
              "#f0f921"
             ]
            ],
            "type": "histogram2dcontour"
           }
          ],
          "mesh3d": [
           {
            "colorbar": {
             "outlinewidth": 0,
             "ticks": ""
            },
            "type": "mesh3d"
           }
          ],
          "parcoords": [
           {
            "line": {
             "colorbar": {
              "outlinewidth": 0,
              "ticks": ""
             }
            },
            "type": "parcoords"
           }
          ],
          "pie": [
           {
            "automargin": true,
            "type": "pie"
           }
          ],
          "scatter": [
           {
            "fillpattern": {
             "fillmode": "overlay",
             "size": 10,
             "solidity": 0.2
            },
            "type": "scatter"
           }
          ],
          "scatter3d": [
           {
            "line": {
             "colorbar": {
              "outlinewidth": 0,
              "ticks": ""
             }
            },
            "marker": {
             "colorbar": {
              "outlinewidth": 0,
              "ticks": ""
             }
            },
            "type": "scatter3d"
           }
          ],
          "scattercarpet": [
           {
            "marker": {
             "colorbar": {
              "outlinewidth": 0,
              "ticks": ""
             }
            },
            "type": "scattercarpet"
           }
          ],
          "scattergeo": [
           {
            "marker": {
             "colorbar": {
              "outlinewidth": 0,
              "ticks": ""
             }
            },
            "type": "scattergeo"
           }
          ],
          "scattergl": [
           {
            "marker": {
             "colorbar": {
              "outlinewidth": 0,
              "ticks": ""
             }
            },
            "type": "scattergl"
           }
          ],
          "scattermap": [
           {
            "marker": {
             "colorbar": {
              "outlinewidth": 0,
              "ticks": ""
             }
            },
            "type": "scattermap"
           }
          ],
          "scattermapbox": [
           {
            "marker": {
             "colorbar": {
              "outlinewidth": 0,
              "ticks": ""
             }
            },
            "type": "scattermapbox"
           }
          ],
          "scatterpolar": [
           {
            "marker": {
             "colorbar": {
              "outlinewidth": 0,
              "ticks": ""
             }
            },
            "type": "scatterpolar"
           }
          ],
          "scatterpolargl": [
           {
            "marker": {
             "colorbar": {
              "outlinewidth": 0,
              "ticks": ""
             }
            },
            "type": "scatterpolargl"
           }
          ],
          "scatterternary": [
           {
            "marker": {
             "colorbar": {
              "outlinewidth": 0,
              "ticks": ""
             }
            },
            "type": "scatterternary"
           }
          ],
          "surface": [
           {
            "colorbar": {
             "outlinewidth": 0,
             "ticks": ""
            },
            "colorscale": [
             [
              0,
              "#0d0887"
             ],
             [
              0.1111111111111111,
              "#46039f"
             ],
             [
              0.2222222222222222,
              "#7201a8"
             ],
             [
              0.3333333333333333,
              "#9c179e"
             ],
             [
              0.4444444444444444,
              "#bd3786"
             ],
             [
              0.5555555555555556,
              "#d8576b"
             ],
             [
              0.6666666666666666,
              "#ed7953"
             ],
             [
              0.7777777777777778,
              "#fb9f3a"
             ],
             [
              0.8888888888888888,
              "#fdca26"
             ],
             [
              1,
              "#f0f921"
             ]
            ],
            "type": "surface"
           }
          ],
          "table": [
           {
            "cells": {
             "fill": {
              "color": "#EBF0F8"
             },
             "line": {
              "color": "white"
             }
            },
            "header": {
             "fill": {
              "color": "#C8D4E3"
             },
             "line": {
              "color": "white"
             }
            },
            "type": "table"
           }
          ]
         },
         "layout": {
          "annotationdefaults": {
           "arrowcolor": "#2a3f5f",
           "arrowhead": 0,
           "arrowwidth": 1
          },
          "autotypenumbers": "strict",
          "coloraxis": {
           "colorbar": {
            "outlinewidth": 0,
            "ticks": ""
           }
          },
          "colorscale": {
           "diverging": [
            [
             0,
             "#8e0152"
            ],
            [
             0.1,
             "#c51b7d"
            ],
            [
             0.2,
             "#de77ae"
            ],
            [
             0.3,
             "#f1b6da"
            ],
            [
             0.4,
             "#fde0ef"
            ],
            [
             0.5,
             "#f7f7f7"
            ],
            [
             0.6,
             "#e6f5d0"
            ],
            [
             0.7,
             "#b8e186"
            ],
            [
             0.8,
             "#7fbc41"
            ],
            [
             0.9,
             "#4d9221"
            ],
            [
             1,
             "#276419"
            ]
           ],
           "sequential": [
            [
             0,
             "#0d0887"
            ],
            [
             0.1111111111111111,
             "#46039f"
            ],
            [
             0.2222222222222222,
             "#7201a8"
            ],
            [
             0.3333333333333333,
             "#9c179e"
            ],
            [
             0.4444444444444444,
             "#bd3786"
            ],
            [
             0.5555555555555556,
             "#d8576b"
            ],
            [
             0.6666666666666666,
             "#ed7953"
            ],
            [
             0.7777777777777778,
             "#fb9f3a"
            ],
            [
             0.8888888888888888,
             "#fdca26"
            ],
            [
             1,
             "#f0f921"
            ]
           ],
           "sequentialminus": [
            [
             0,
             "#0d0887"
            ],
            [
             0.1111111111111111,
             "#46039f"
            ],
            [
             0.2222222222222222,
             "#7201a8"
            ],
            [
             0.3333333333333333,
             "#9c179e"
            ],
            [
             0.4444444444444444,
             "#bd3786"
            ],
            [
             0.5555555555555556,
             "#d8576b"
            ],
            [
             0.6666666666666666,
             "#ed7953"
            ],
            [
             0.7777777777777778,
             "#fb9f3a"
            ],
            [
             0.8888888888888888,
             "#fdca26"
            ],
            [
             1,
             "#f0f921"
            ]
           ]
          },
          "colorway": [
           "#636efa",
           "#EF553B",
           "#00cc96",
           "#ab63fa",
           "#FFA15A",
           "#19d3f3",
           "#FF6692",
           "#B6E880",
           "#FF97FF",
           "#FECB52"
          ],
          "font": {
           "color": "#2a3f5f"
          },
          "geo": {
           "bgcolor": "white",
           "lakecolor": "white",
           "landcolor": "#E5ECF6",
           "showlakes": true,
           "showland": true,
           "subunitcolor": "white"
          },
          "hoverlabel": {
           "align": "left"
          },
          "hovermode": "closest",
          "mapbox": {
           "style": "light"
          },
          "paper_bgcolor": "white",
          "plot_bgcolor": "#E5ECF6",
          "polar": {
           "angularaxis": {
            "gridcolor": "white",
            "linecolor": "white",
            "ticks": ""
           },
           "bgcolor": "#E5ECF6",
           "radialaxis": {
            "gridcolor": "white",
            "linecolor": "white",
            "ticks": ""
           }
          },
          "scene": {
           "xaxis": {
            "backgroundcolor": "#E5ECF6",
            "gridcolor": "white",
            "gridwidth": 2,
            "linecolor": "white",
            "showbackground": true,
            "ticks": "",
            "zerolinecolor": "white"
           },
           "yaxis": {
            "backgroundcolor": "#E5ECF6",
            "gridcolor": "white",
            "gridwidth": 2,
            "linecolor": "white",
            "showbackground": true,
            "ticks": "",
            "zerolinecolor": "white"
           },
           "zaxis": {
            "backgroundcolor": "#E5ECF6",
            "gridcolor": "white",
            "gridwidth": 2,
            "linecolor": "white",
            "showbackground": true,
            "ticks": "",
            "zerolinecolor": "white"
           }
          },
          "shapedefaults": {
           "line": {
            "color": "#2a3f5f"
           }
          },
          "ternary": {
           "aaxis": {
            "gridcolor": "white",
            "linecolor": "white",
            "ticks": ""
           },
           "baxis": {
            "gridcolor": "white",
            "linecolor": "white",
            "ticks": ""
           },
           "bgcolor": "#E5ECF6",
           "caxis": {
            "gridcolor": "white",
            "linecolor": "white",
            "ticks": ""
           }
          },
          "title": {
           "x": 0.05
          },
          "xaxis": {
           "automargin": true,
           "gridcolor": "white",
           "linecolor": "white",
           "ticks": "",
           "title": {
            "standoff": 15
           },
           "zerolinecolor": "white",
           "zerolinewidth": 2
          },
          "yaxis": {
           "automargin": true,
           "gridcolor": "white",
           "linecolor": "white",
           "ticks": "",
           "title": {
            "standoff": 15
           },
           "zerolinecolor": "white",
           "zerolinewidth": 2
          }
         }
        },
        "title": {
         "text": "Correlation between different load profile characteristics and total yearly savings"
        },
        "xaxis": {
         "anchor": "y",
         "domain": [
          0,
          1
         ],
         "title": {
          "text": "Variable"
         }
        },
        "yaxis": {
         "anchor": "x",
         "domain": [
          0,
          1
         ],
         "title": {
          "text": "Correlation coefficient"
         }
        }
       }
      }
     },
     "metadata": {},
     "output_type": "display_data"
    }
   ],
   "source": [
    "fig_df = abs_correlations_df[[\"total_yearly_costs_eur\"]].round(2)\n",
    "fig_df.sort_values(\"total_yearly_costs_eur\", inplace=True, ascending=False)\n",
    "fig = px.bar(\n",
    "    data_frame=fig_df,\n",
    "    y=\"total_yearly_costs_eur\",\n",
    "    text_auto=True,\n",
    "    title=\"Correlation between different load profile characteristics and total yearly savings\")\n",
    "fig.update_layout(yaxis_title=\"Correlation coefficient\", xaxis_title=\"Variable\")"
   ]
  },
  {
   "cell_type": "markdown",
   "id": "71669e2f",
   "metadata": {},
   "source": [
    "## On relative savings"
   ]
  },
  {
   "cell_type": "code",
   "execution_count": 108,
   "id": "56fdc12f",
   "metadata": {},
   "outputs": [
    {
     "data": {
      "application/vnd.plotly.v1+json": {
       "config": {
        "plotlyServerURL": "https://plot.ly"
       },
       "data": [
        {
         "coloraxis": "coloraxis",
         "hovertemplate": "x: %{x}<br>y: %{y}<br>color: %{z}<extra></extra>",
         "name": "0",
         "type": "heatmap",
         "x": [
          "energy_costs_eur",
          "grid_capacity_costs_eur",
          "grid_capacity_kw",
          "grid_energy_costs_eur",
          "inverter_annuity_eur",
          "inverter_capacity_kw",
          "inverter_invest_eur",
          "invest_per_tac",
          "storage_annuity_eur",
          "storage_capacity_kwh",
          "storage_invest_eur",
          "total_annuity_eur",
          "total_invest_eur",
          "total_yearly_costs_eur",
          "capacity_price_over_2500h_eur_per_kw",
          "energy_price_over_2500h_eur_per_kwh",
          "capacity_price_under_2500h_eur_per_kw",
          "energy_price_under_2500h_eur_per_kwh",
          "number_of_peak_load",
          "peak_load_kw",
          "mean_load_kw",
          "variance_kw",
          "total_energy_kwh",
          "full_load_hours_h",
          "is_over_2500h",
          "std_kw",
          "std_by_mean",
          "std_by_peak",
          "peak_by_mean"
         ],
         "xaxis": "x",
         "y": [
          "energy_costs_eur",
          "grid_capacity_costs_eur",
          "grid_capacity_kw",
          "grid_energy_costs_eur",
          "inverter_annuity_eur",
          "inverter_capacity_kw",
          "inverter_invest_eur",
          "invest_per_tac",
          "storage_annuity_eur",
          "storage_capacity_kwh",
          "storage_invest_eur",
          "total_annuity_eur",
          "total_invest_eur",
          "total_yearly_costs_eur",
          "capacity_price_over_2500h_eur_per_kw",
          "energy_price_over_2500h_eur_per_kwh",
          "capacity_price_under_2500h_eur_per_kw",
          "energy_price_under_2500h_eur_per_kwh",
          "number_of_peak_load",
          "peak_load_kw",
          "mean_load_kw",
          "variance_kw",
          "total_energy_kwh",
          "full_load_hours_h",
          "is_over_2500h",
          "std_kw",
          "std_by_mean",
          "std_by_peak",
          "peak_by_mean"
         ],
         "yaxis": "y",
         "z": {
          "bdata": "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",
          "dtype": "f8",
          "shape": "29, 29"
         }
        }
       ],
       "layout": {
        "coloraxis": {
         "colorscale": [
          [
           0,
           "#0d0887"
          ],
          [
           0.1111111111111111,
           "#46039f"
          ],
          [
           0.2222222222222222,
           "#7201a8"
          ],
          [
           0.3333333333333333,
           "#9c179e"
          ],
          [
           0.4444444444444444,
           "#bd3786"
          ],
          [
           0.5555555555555556,
           "#d8576b"
          ],
          [
           0.6666666666666666,
           "#ed7953"
          ],
          [
           0.7777777777777778,
           "#fb9f3a"
          ],
          [
           0.8888888888888888,
           "#fdca26"
          ],
          [
           1,
           "#f0f921"
          ]
         ]
        },
        "template": {
         "data": {
          "bar": [
           {
            "error_x": {
             "color": "#2a3f5f"
            },
            "error_y": {
             "color": "#2a3f5f"
            },
            "marker": {
             "line": {
              "color": "#E5ECF6",
              "width": 0.5
             },
             "pattern": {
              "fillmode": "overlay",
              "size": 10,
              "solidity": 0.2
             }
            },
            "type": "bar"
           }
          ],
          "barpolar": [
           {
            "marker": {
             "line": {
              "color": "#E5ECF6",
              "width": 0.5
             },
             "pattern": {
              "fillmode": "overlay",
              "size": 10,
              "solidity": 0.2
             }
            },
            "type": "barpolar"
           }
          ],
          "carpet": [
           {
            "aaxis": {
             "endlinecolor": "#2a3f5f",
             "gridcolor": "white",
             "linecolor": "white",
             "minorgridcolor": "white",
             "startlinecolor": "#2a3f5f"
            },
            "baxis": {
             "endlinecolor": "#2a3f5f",
             "gridcolor": "white",
             "linecolor": "white",
             "minorgridcolor": "white",
             "startlinecolor": "#2a3f5f"
            },
            "type": "carpet"
           }
          ],
          "choropleth": [
           {
            "colorbar": {
             "outlinewidth": 0,
             "ticks": ""
            },
            "type": "choropleth"
           }
          ],
          "contour": [
           {
            "colorbar": {
             "outlinewidth": 0,
             "ticks": ""
            },
            "colorscale": [
             [
              0,
              "#0d0887"
             ],
             [
              0.1111111111111111,
              "#46039f"
             ],
             [
              0.2222222222222222,
              "#7201a8"
             ],
             [
              0.3333333333333333,
              "#9c179e"
             ],
             [
              0.4444444444444444,
              "#bd3786"
             ],
             [
              0.5555555555555556,
              "#d8576b"
             ],
             [
              0.6666666666666666,
              "#ed7953"
             ],
             [
              0.7777777777777778,
              "#fb9f3a"
             ],
             [
              0.8888888888888888,
              "#fdca26"
             ],
             [
              1,
              "#f0f921"
             ]
            ],
            "type": "contour"
           }
          ],
          "contourcarpet": [
           {
            "colorbar": {
             "outlinewidth": 0,
             "ticks": ""
            },
            "type": "contourcarpet"
           }
          ],
          "heatmap": [
           {
            "colorbar": {
             "outlinewidth": 0,
             "ticks": ""
            },
            "colorscale": [
             [
              0,
              "#0d0887"
             ],
             [
              0.1111111111111111,
              "#46039f"
             ],
             [
              0.2222222222222222,
              "#7201a8"
             ],
             [
              0.3333333333333333,
              "#9c179e"
             ],
             [
              0.4444444444444444,
              "#bd3786"
             ],
             [
              0.5555555555555556,
              "#d8576b"
             ],
             [
              0.6666666666666666,
              "#ed7953"
             ],
             [
              0.7777777777777778,
              "#fb9f3a"
             ],
             [
              0.8888888888888888,
              "#fdca26"
             ],
             [
              1,
              "#f0f921"
             ]
            ],
            "type": "heatmap"
           }
          ],
          "histogram": [
           {
            "marker": {
             "pattern": {
              "fillmode": "overlay",
              "size": 10,
              "solidity": 0.2
             }
            },
            "type": "histogram"
           }
          ],
          "histogram2d": [
           {
            "colorbar": {
             "outlinewidth": 0,
             "ticks": ""
            },
            "colorscale": [
             [
              0,
              "#0d0887"
             ],
             [
              0.1111111111111111,
              "#46039f"
             ],
             [
              0.2222222222222222,
              "#7201a8"
             ],
             [
              0.3333333333333333,
              "#9c179e"
             ],
             [
              0.4444444444444444,
              "#bd3786"
             ],
             [
              0.5555555555555556,
              "#d8576b"
             ],
             [
              0.6666666666666666,
              "#ed7953"
             ],
             [
              0.7777777777777778,
              "#fb9f3a"
             ],
             [
              0.8888888888888888,
              "#fdca26"
             ],
             [
              1,
              "#f0f921"
             ]
            ],
            "type": "histogram2d"
           }
          ],
          "histogram2dcontour": [
           {
            "colorbar": {
             "outlinewidth": 0,
             "ticks": ""
            },
            "colorscale": [
             [
              0,
              "#0d0887"
             ],
             [
              0.1111111111111111,
              "#46039f"
             ],
             [
              0.2222222222222222,
              "#7201a8"
             ],
             [
              0.3333333333333333,
              "#9c179e"
             ],
             [
              0.4444444444444444,
              "#bd3786"
             ],
             [
              0.5555555555555556,
              "#d8576b"
             ],
             [
              0.6666666666666666,
              "#ed7953"
             ],
             [
              0.7777777777777778,
              "#fb9f3a"
             ],
             [
              0.8888888888888888,
              "#fdca26"
             ],
             [
              1,
              "#f0f921"
             ]
            ],
            "type": "histogram2dcontour"
           }
          ],
          "mesh3d": [
           {
            "colorbar": {
             "outlinewidth": 0,
             "ticks": ""
            },
            "type": "mesh3d"
           }
          ],
          "parcoords": [
           {
            "line": {
             "colorbar": {
              "outlinewidth": 0,
              "ticks": ""
             }
            },
            "type": "parcoords"
           }
          ],
          "pie": [
           {
            "automargin": true,
            "type": "pie"
           }
          ],
          "scatter": [
           {
            "fillpattern": {
             "fillmode": "overlay",
             "size": 10,
             "solidity": 0.2
            },
            "type": "scatter"
           }
          ],
          "scatter3d": [
           {
            "line": {
             "colorbar": {
              "outlinewidth": 0,
              "ticks": ""
             }
            },
            "marker": {
             "colorbar": {
              "outlinewidth": 0,
              "ticks": ""
             }
            },
            "type": "scatter3d"
           }
          ],
          "scattercarpet": [
           {
            "marker": {
             "colorbar": {
              "outlinewidth": 0,
              "ticks": ""
             }
            },
            "type": "scattercarpet"
           }
          ],
          "scattergeo": [
           {
            "marker": {
             "colorbar": {
              "outlinewidth": 0,
              "ticks": ""
             }
            },
            "type": "scattergeo"
           }
          ],
          "scattergl": [
           {
            "marker": {
             "colorbar": {
              "outlinewidth": 0,
              "ticks": ""
             }
            },
            "type": "scattergl"
           }
          ],
          "scattermap": [
           {
            "marker": {
             "colorbar": {
              "outlinewidth": 0,
              "ticks": ""
             }
            },
            "type": "scattermap"
           }
          ],
          "scattermapbox": [
           {
            "marker": {
             "colorbar": {
              "outlinewidth": 0,
              "ticks": ""
             }
            },
            "type": "scattermapbox"
           }
          ],
          "scatterpolar": [
           {
            "marker": {
             "colorbar": {
              "outlinewidth": 0,
              "ticks": ""
             }
            },
            "type": "scatterpolar"
           }
          ],
          "scatterpolargl": [
           {
            "marker": {
             "colorbar": {
              "outlinewidth": 0,
              "ticks": ""
             }
            },
            "type": "scatterpolargl"
           }
          ],
          "scatterternary": [
           {
            "marker": {
             "colorbar": {
              "outlinewidth": 0,
              "ticks": ""
             }
            },
            "type": "scatterternary"
           }
          ],
          "surface": [
           {
            "colorbar": {
             "outlinewidth": 0,
             "ticks": ""
            },
            "colorscale": [
             [
              0,
              "#0d0887"
             ],
             [
              0.1111111111111111,
              "#46039f"
             ],
             [
              0.2222222222222222,
              "#7201a8"
             ],
             [
              0.3333333333333333,
              "#9c179e"
             ],
             [
              0.4444444444444444,
              "#bd3786"
             ],
             [
              0.5555555555555556,
              "#d8576b"
             ],
             [
              0.6666666666666666,
              "#ed7953"
             ],
             [
              0.7777777777777778,
              "#fb9f3a"
             ],
             [
              0.8888888888888888,
              "#fdca26"
             ],
             [
              1,
              "#f0f921"
             ]
            ],
            "type": "surface"
           }
          ],
          "table": [
           {
            "cells": {
             "fill": {
              "color": "#EBF0F8"
             },
             "line": {
              "color": "white"
             }
            },
            "header": {
             "fill": {
              "color": "#C8D4E3"
             },
             "line": {
              "color": "white"
             }
            },
            "type": "table"
           }
          ]
         },
         "layout": {
          "annotationdefaults": {
           "arrowcolor": "#2a3f5f",
           "arrowhead": 0,
           "arrowwidth": 1
          },
          "autotypenumbers": "strict",
          "coloraxis": {
           "colorbar": {
            "outlinewidth": 0,
            "ticks": ""
           }
          },
          "colorscale": {
           "diverging": [
            [
             0,
             "#8e0152"
            ],
            [
             0.1,
             "#c51b7d"
            ],
            [
             0.2,
             "#de77ae"
            ],
            [
             0.3,
             "#f1b6da"
            ],
            [
             0.4,
             "#fde0ef"
            ],
            [
             0.5,
             "#f7f7f7"
            ],
            [
             0.6,
             "#e6f5d0"
            ],
            [
             0.7,
             "#b8e186"
            ],
            [
             0.8,
             "#7fbc41"
            ],
            [
             0.9,
             "#4d9221"
            ],
            [
             1,
             "#276419"
            ]
           ],
           "sequential": [
            [
             0,
             "#0d0887"
            ],
            [
             0.1111111111111111,
             "#46039f"
            ],
            [
             0.2222222222222222,
             "#7201a8"
            ],
            [
             0.3333333333333333,
             "#9c179e"
            ],
            [
             0.4444444444444444,
             "#bd3786"
            ],
            [
             0.5555555555555556,
             "#d8576b"
            ],
            [
             0.6666666666666666,
             "#ed7953"
            ],
            [
             0.7777777777777778,
             "#fb9f3a"
            ],
            [
             0.8888888888888888,
             "#fdca26"
            ],
            [
             1,
             "#f0f921"
            ]
           ],
           "sequentialminus": [
            [
             0,
             "#0d0887"
            ],
            [
             0.1111111111111111,
             "#46039f"
            ],
            [
             0.2222222222222222,
             "#7201a8"
            ],
            [
             0.3333333333333333,
             "#9c179e"
            ],
            [
             0.4444444444444444,
             "#bd3786"
            ],
            [
             0.5555555555555556,
             "#d8576b"
            ],
            [
             0.6666666666666666,
             "#ed7953"
            ],
            [
             0.7777777777777778,
             "#fb9f3a"
            ],
            [
             0.8888888888888888,
             "#fdca26"
            ],
            [
             1,
             "#f0f921"
            ]
           ]
          },
          "colorway": [
           "#636efa",
           "#EF553B",
           "#00cc96",
           "#ab63fa",
           "#FFA15A",
           "#19d3f3",
           "#FF6692",
           "#B6E880",
           "#FF97FF",
           "#FECB52"
          ],
          "font": {
           "color": "#2a3f5f"
          },
          "geo": {
           "bgcolor": "white",
           "lakecolor": "white",
           "landcolor": "#E5ECF6",
           "showlakes": true,
           "showland": true,
           "subunitcolor": "white"
          },
          "hoverlabel": {
           "align": "left"
          },
          "hovermode": "closest",
          "mapbox": {
           "style": "light"
          },
          "paper_bgcolor": "white",
          "plot_bgcolor": "#E5ECF6",
          "polar": {
           "angularaxis": {
            "gridcolor": "white",
            "linecolor": "white",
            "ticks": ""
           },
           "bgcolor": "#E5ECF6",
           "radialaxis": {
            "gridcolor": "white",
            "linecolor": "white",
            "ticks": ""
           }
          },
          "scene": {
           "xaxis": {
            "backgroundcolor": "#E5ECF6",
            "gridcolor": "white",
            "gridwidth": 2,
            "linecolor": "white",
            "showbackground": true,
            "ticks": "",
            "zerolinecolor": "white"
           },
           "yaxis": {
            "backgroundcolor": "#E5ECF6",
            "gridcolor": "white",
            "gridwidth": 2,
            "linecolor": "white",
            "showbackground": true,
            "ticks": "",
            "zerolinecolor": "white"
           },
           "zaxis": {
            "backgroundcolor": "#E5ECF6",
            "gridcolor": "white",
            "gridwidth": 2,
            "linecolor": "white",
            "showbackground": true,
            "ticks": "",
            "zerolinecolor": "white"
           }
          },
          "shapedefaults": {
           "line": {
            "color": "#2a3f5f"
           }
          },
          "ternary": {
           "aaxis": {
            "gridcolor": "white",
            "linecolor": "white",
            "ticks": ""
           },
           "baxis": {
            "gridcolor": "white",
            "linecolor": "white",
            "ticks": ""
           },
           "bgcolor": "#E5ECF6",
           "caxis": {
            "gridcolor": "white",
            "linecolor": "white",
            "ticks": ""
           }
          },
          "title": {
           "x": 0.05
          },
          "xaxis": {
           "automargin": true,
           "gridcolor": "white",
           "linecolor": "white",
           "ticks": "",
           "title": {
            "standoff": 15
           },
           "zerolinecolor": "white",
           "zerolinewidth": 2
          },
          "yaxis": {
           "automargin": true,
           "gridcolor": "white",
           "linecolor": "white",
           "ticks": "",
           "title": {
            "standoff": 15
           },
           "zerolinecolor": "white",
           "zerolinewidth": 2
          }
         }
        },
        "title": {
         "text": "Correlation coefficients for relative yearly savings"
        },
        "xaxis": {
         "anchor": "y",
         "constrain": "domain",
         "domain": [
          0,
          1
         ],
         "scaleanchor": "y"
        },
        "yaxis": {
         "anchor": "x",
         "autorange": "reversed",
         "constrain": "domain",
         "domain": [
          0,
          1
         ]
        }
       }
      }
     },
     "metadata": {},
     "output_type": "display_data"
    }
   ],
   "source": [
    "cols_to_drop = [\n",
    "    \"grid_level\",\n",
    "    \"zip_code\",\n",
    "    \"sector_group_id\",\n",
    "    \"sector_group\",\n",
    "    \"solar_invest_eur\",\n",
    "    \"solar_annuity_eur\",\n",
    "    \"solar_capacity_kwp\"]\n",
    "rel_correlations_df = rel_diff_with_master.drop(columns=cols_to_drop).corr()\n",
    "px.imshow(rel_correlations_df, title=\"Correlation coefficients for relative yearly savings\")"
   ]
  },
  {
   "cell_type": "code",
   "execution_count": 109,
   "id": "155988d3",
   "metadata": {},
   "outputs": [
    {
     "data": {
      "application/vnd.plotly.v1+json": {
       "config": {
        "plotlyServerURL": "https://plot.ly"
       },
       "data": [
        {
         "hovertemplate": "index=%{x}<br>total_yearly_costs_eur=%{y}<extra></extra>",
         "legendgroup": "",
         "marker": {
          "color": "#636efa",
          "pattern": {
           "shape": ""
          }
         },
         "name": "",
         "orientation": "v",
         "showlegend": false,
         "textposition": "auto",
         "texttemplate": "%{y}",
         "type": "bar",
         "x": [
          "total_yearly_costs_eur",
          "grid_capacity_kw",
          "grid_capacity_costs_eur",
          "std_by_mean",
          "peak_by_mean",
          "capacity_price_over_2500h_eur_per_kw",
          "energy_price_under_2500h_eur_per_kwh",
          "capacity_price_under_2500h_eur_per_kw",
          "energy_price_over_2500h_eur_per_kwh",
          "peak_load_kw",
          "number_of_peak_load",
          "variance_kw",
          "total_energy_kwh",
          "std_kw",
          "mean_load_kw",
          "full_load_hours_h",
          "std_by_peak",
          "energy_costs_eur",
          "grid_energy_costs_eur"
         ],
         "xaxis": "x",
         "y": {
          "bdata": "AAAAAAAA8D+kcD0K16PoP6RwPQrXo+g/FK5H4XoU3j8pXI/C9SjcP3sUrkfhetQ/MzMzMzMz0z/sUbgehevBP5qZmZmZmak/uB6F61G4nr+4HoXrUbiev7gehetRuK6/pHA9CtejwL+kcD0K16PAv6RwPQrXo8C/cT0K16Nw3b8UrkfhehTev+F6FK5H4eK/4XoUrkfh4r8=",
          "dtype": "f8"
         },
         "yaxis": "y"
        }
       ],
       "layout": {
        "barmode": "relative",
        "legend": {
         "tracegroupgap": 0
        },
        "template": {
         "data": {
          "bar": [
           {
            "error_x": {
             "color": "#2a3f5f"
            },
            "error_y": {
             "color": "#2a3f5f"
            },
            "marker": {
             "line": {
              "color": "#E5ECF6",
              "width": 0.5
             },
             "pattern": {
              "fillmode": "overlay",
              "size": 10,
              "solidity": 0.2
             }
            },
            "type": "bar"
           }
          ],
          "barpolar": [
           {
            "marker": {
             "line": {
              "color": "#E5ECF6",
              "width": 0.5
             },
             "pattern": {
              "fillmode": "overlay",
              "size": 10,
              "solidity": 0.2
             }
            },
            "type": "barpolar"
           }
          ],
          "carpet": [
           {
            "aaxis": {
             "endlinecolor": "#2a3f5f",
             "gridcolor": "white",
             "linecolor": "white",
             "minorgridcolor": "white",
             "startlinecolor": "#2a3f5f"
            },
            "baxis": {
             "endlinecolor": "#2a3f5f",
             "gridcolor": "white",
             "linecolor": "white",
             "minorgridcolor": "white",
             "startlinecolor": "#2a3f5f"
            },
            "type": "carpet"
           }
          ],
          "choropleth": [
           {
            "colorbar": {
             "outlinewidth": 0,
             "ticks": ""
            },
            "type": "choropleth"
           }
          ],
          "contour": [
           {
            "colorbar": {
             "outlinewidth": 0,
             "ticks": ""
            },
            "colorscale": [
             [
              0,
              "#0d0887"
             ],
             [
              0.1111111111111111,
              "#46039f"
             ],
             [
              0.2222222222222222,
              "#7201a8"
             ],
             [
              0.3333333333333333,
              "#9c179e"
             ],
             [
              0.4444444444444444,
              "#bd3786"
             ],
             [
              0.5555555555555556,
              "#d8576b"
             ],
             [
              0.6666666666666666,
              "#ed7953"
             ],
             [
              0.7777777777777778,
              "#fb9f3a"
             ],
             [
              0.8888888888888888,
              "#fdca26"
             ],
             [
              1,
              "#f0f921"
             ]
            ],
            "type": "contour"
           }
          ],
          "contourcarpet": [
           {
            "colorbar": {
             "outlinewidth": 0,
             "ticks": ""
            },
            "type": "contourcarpet"
           }
          ],
          "heatmap": [
           {
            "colorbar": {
             "outlinewidth": 0,
             "ticks": ""
            },
            "colorscale": [
             [
              0,
              "#0d0887"
             ],
             [
              0.1111111111111111,
              "#46039f"
             ],
             [
              0.2222222222222222,
              "#7201a8"
             ],
             [
              0.3333333333333333,
              "#9c179e"
             ],
             [
              0.4444444444444444,
              "#bd3786"
             ],
             [
              0.5555555555555556,
              "#d8576b"
             ],
             [
              0.6666666666666666,
              "#ed7953"
             ],
             [
              0.7777777777777778,
              "#fb9f3a"
             ],
             [
              0.8888888888888888,
              "#fdca26"
             ],
             [
              1,
              "#f0f921"
             ]
            ],
            "type": "heatmap"
           }
          ],
          "histogram": [
           {
            "marker": {
             "pattern": {
              "fillmode": "overlay",
              "size": 10,
              "solidity": 0.2
             }
            },
            "type": "histogram"
           }
          ],
          "histogram2d": [
           {
            "colorbar": {
             "outlinewidth": 0,
             "ticks": ""
            },
            "colorscale": [
             [
              0,
              "#0d0887"
             ],
             [
              0.1111111111111111,
              "#46039f"
             ],
             [
              0.2222222222222222,
              "#7201a8"
             ],
             [
              0.3333333333333333,
              "#9c179e"
             ],
             [
              0.4444444444444444,
              "#bd3786"
             ],
             [
              0.5555555555555556,
              "#d8576b"
             ],
             [
              0.6666666666666666,
              "#ed7953"
             ],
             [
              0.7777777777777778,
              "#fb9f3a"
             ],
             [
              0.8888888888888888,
              "#fdca26"
             ],
             [
              1,
              "#f0f921"
             ]
            ],
            "type": "histogram2d"
           }
          ],
          "histogram2dcontour": [
           {
            "colorbar": {
             "outlinewidth": 0,
             "ticks": ""
            },
            "colorscale": [
             [
              0,
              "#0d0887"
             ],
             [
              0.1111111111111111,
              "#46039f"
             ],
             [
              0.2222222222222222,
              "#7201a8"
             ],
             [
              0.3333333333333333,
              "#9c179e"
             ],
             [
              0.4444444444444444,
              "#bd3786"
             ],
             [
              0.5555555555555556,
              "#d8576b"
             ],
             [
              0.6666666666666666,
              "#ed7953"
             ],
             [
              0.7777777777777778,
              "#fb9f3a"
             ],
             [
              0.8888888888888888,
              "#fdca26"
             ],
             [
              1,
              "#f0f921"
             ]
            ],
            "type": "histogram2dcontour"
           }
          ],
          "mesh3d": [
           {
            "colorbar": {
             "outlinewidth": 0,
             "ticks": ""
            },
            "type": "mesh3d"
           }
          ],
          "parcoords": [
           {
            "line": {
             "colorbar": {
              "outlinewidth": 0,
              "ticks": ""
             }
            },
            "type": "parcoords"
           }
          ],
          "pie": [
           {
            "automargin": true,
            "type": "pie"
           }
          ],
          "scatter": [
           {
            "fillpattern": {
             "fillmode": "overlay",
             "size": 10,
             "solidity": 0.2
            },
            "type": "scatter"
           }
          ],
          "scatter3d": [
           {
            "line": {
             "colorbar": {
              "outlinewidth": 0,
              "ticks": ""
             }
            },
            "marker": {
             "colorbar": {
              "outlinewidth": 0,
              "ticks": ""
             }
            },
            "type": "scatter3d"
           }
          ],
          "scattercarpet": [
           {
            "marker": {
             "colorbar": {
              "outlinewidth": 0,
              "ticks": ""
             }
            },
            "type": "scattercarpet"
           }
          ],
          "scattergeo": [
           {
            "marker": {
             "colorbar": {
              "outlinewidth": 0,
              "ticks": ""
             }
            },
            "type": "scattergeo"
           }
          ],
          "scattergl": [
           {
            "marker": {
             "colorbar": {
              "outlinewidth": 0,
              "ticks": ""
             }
            },
            "type": "scattergl"
           }
          ],
          "scattermap": [
           {
            "marker": {
             "colorbar": {
              "outlinewidth": 0,
              "ticks": ""
             }
            },
            "type": "scattermap"
           }
          ],
          "scattermapbox": [
           {
            "marker": {
             "colorbar": {
              "outlinewidth": 0,
              "ticks": ""
             }
            },
            "type": "scattermapbox"
           }
          ],
          "scatterpolar": [
           {
            "marker": {
             "colorbar": {
              "outlinewidth": 0,
              "ticks": ""
             }
            },
            "type": "scatterpolar"
           }
          ],
          "scatterpolargl": [
           {
            "marker": {
             "colorbar": {
              "outlinewidth": 0,
              "ticks": ""
             }
            },
            "type": "scatterpolargl"
           }
          ],
          "scatterternary": [
           {
            "marker": {
             "colorbar": {
              "outlinewidth": 0,
              "ticks": ""
             }
            },
            "type": "scatterternary"
           }
          ],
          "surface": [
           {
            "colorbar": {
             "outlinewidth": 0,
             "ticks": ""
            },
            "colorscale": [
             [
              0,
              "#0d0887"
             ],
             [
              0.1111111111111111,
              "#46039f"
             ],
             [
              0.2222222222222222,
              "#7201a8"
             ],
             [
              0.3333333333333333,
              "#9c179e"
             ],
             [
              0.4444444444444444,
              "#bd3786"
             ],
             [
              0.5555555555555556,
              "#d8576b"
             ],
             [
              0.6666666666666666,
              "#ed7953"
             ],
             [
              0.7777777777777778,
              "#fb9f3a"
             ],
             [
              0.8888888888888888,
              "#fdca26"
             ],
             [
              1,
              "#f0f921"
             ]
            ],
            "type": "surface"
           }
          ],
          "table": [
           {
            "cells": {
             "fill": {
              "color": "#EBF0F8"
             },
             "line": {
              "color": "white"
             }
            },
            "header": {
             "fill": {
              "color": "#C8D4E3"
             },
             "line": {
              "color": "white"
             }
            },
            "type": "table"
           }
          ]
         },
         "layout": {
          "annotationdefaults": {
           "arrowcolor": "#2a3f5f",
           "arrowhead": 0,
           "arrowwidth": 1
          },
          "autotypenumbers": "strict",
          "coloraxis": {
           "colorbar": {
            "outlinewidth": 0,
            "ticks": ""
           }
          },
          "colorscale": {
           "diverging": [
            [
             0,
             "#8e0152"
            ],
            [
             0.1,
             "#c51b7d"
            ],
            [
             0.2,
             "#de77ae"
            ],
            [
             0.3,
             "#f1b6da"
            ],
            [
             0.4,
             "#fde0ef"
            ],
            [
             0.5,
             "#f7f7f7"
            ],
            [
             0.6,
             "#e6f5d0"
            ],
            [
             0.7,
             "#b8e186"
            ],
            [
             0.8,
             "#7fbc41"
            ],
            [
             0.9,
             "#4d9221"
            ],
            [
             1,
             "#276419"
            ]
           ],
           "sequential": [
            [
             0,
             "#0d0887"
            ],
            [
             0.1111111111111111,
             "#46039f"
            ],
            [
             0.2222222222222222,
             "#7201a8"
            ],
            [
             0.3333333333333333,
             "#9c179e"
            ],
            [
             0.4444444444444444,
             "#bd3786"
            ],
            [
             0.5555555555555556,
             "#d8576b"
            ],
            [
             0.6666666666666666,
             "#ed7953"
            ],
            [
             0.7777777777777778,
             "#fb9f3a"
            ],
            [
             0.8888888888888888,
             "#fdca26"
            ],
            [
             1,
             "#f0f921"
            ]
           ],
           "sequentialminus": [
            [
             0,
             "#0d0887"
            ],
            [
             0.1111111111111111,
             "#46039f"
            ],
            [
             0.2222222222222222,
             "#7201a8"
            ],
            [
             0.3333333333333333,
             "#9c179e"
            ],
            [
             0.4444444444444444,
             "#bd3786"
            ],
            [
             0.5555555555555556,
             "#d8576b"
            ],
            [
             0.6666666666666666,
             "#ed7953"
            ],
            [
             0.7777777777777778,
             "#fb9f3a"
            ],
            [
             0.8888888888888888,
             "#fdca26"
            ],
            [
             1,
             "#f0f921"
            ]
           ]
          },
          "colorway": [
           "#636efa",
           "#EF553B",
           "#00cc96",
           "#ab63fa",
           "#FFA15A",
           "#19d3f3",
           "#FF6692",
           "#B6E880",
           "#FF97FF",
           "#FECB52"
          ],
          "font": {
           "color": "#2a3f5f"
          },
          "geo": {
           "bgcolor": "white",
           "lakecolor": "white",
           "landcolor": "#E5ECF6",
           "showlakes": true,
           "showland": true,
           "subunitcolor": "white"
          },
          "hoverlabel": {
           "align": "left"
          },
          "hovermode": "closest",
          "mapbox": {
           "style": "light"
          },
          "paper_bgcolor": "white",
          "plot_bgcolor": "#E5ECF6",
          "polar": {
           "angularaxis": {
            "gridcolor": "white",
            "linecolor": "white",
            "ticks": ""
           },
           "bgcolor": "#E5ECF6",
           "radialaxis": {
            "gridcolor": "white",
            "linecolor": "white",
            "ticks": ""
           }
          },
          "scene": {
           "xaxis": {
            "backgroundcolor": "#E5ECF6",
            "gridcolor": "white",
            "gridwidth": 2,
            "linecolor": "white",
            "showbackground": true,
            "ticks": "",
            "zerolinecolor": "white"
           },
           "yaxis": {
            "backgroundcolor": "#E5ECF6",
            "gridcolor": "white",
            "gridwidth": 2,
            "linecolor": "white",
            "showbackground": true,
            "ticks": "",
            "zerolinecolor": "white"
           },
           "zaxis": {
            "backgroundcolor": "#E5ECF6",
            "gridcolor": "white",
            "gridwidth": 2,
            "linecolor": "white",
            "showbackground": true,
            "ticks": "",
            "zerolinecolor": "white"
           }
          },
          "shapedefaults": {
           "line": {
            "color": "#2a3f5f"
           }
          },
          "ternary": {
           "aaxis": {
            "gridcolor": "white",
            "linecolor": "white",
            "ticks": ""
           },
           "baxis": {
            "gridcolor": "white",
            "linecolor": "white",
            "ticks": ""
           },
           "bgcolor": "#E5ECF6",
           "caxis": {
            "gridcolor": "white",
            "linecolor": "white",
            "ticks": ""
           }
          },
          "title": {
           "x": 0.05
          },
          "xaxis": {
           "automargin": true,
           "gridcolor": "white",
           "linecolor": "white",
           "ticks": "",
           "title": {
            "standoff": 15
           },
           "zerolinecolor": "white",
           "zerolinewidth": 2
          },
          "yaxis": {
           "automargin": true,
           "gridcolor": "white",
           "linecolor": "white",
           "ticks": "",
           "title": {
            "standoff": 15
           },
           "zerolinecolor": "white",
           "zerolinewidth": 2
          }
         }
        },
        "title": {
         "text": "Correlation between different load profile characteristics and relative yearly savings"
        },
        "xaxis": {
         "anchor": "y",
         "domain": [
          0,
          1
         ],
         "title": {
          "text": "Variable"
         }
        },
        "yaxis": {
         "anchor": "x",
         "domain": [
          0,
          1
         ],
         "title": {
          "text": "Correlation coefficient"
         }
        }
       }
      }
     },
     "metadata": {},
     "output_type": "display_data"
    }
   ],
   "source": [
    "fig_df = rel_correlations_df[[\"total_yearly_costs_eur\"]].round(2)\n",
    "fig_df.sort_values(\"total_yearly_costs_eur\", inplace=True, ascending=False)\n",
    "fig_df.dropna(inplace=True)\n",
    "fig = px.bar(\n",
    "    data_frame=fig_df,\n",
    "    y=\"total_yearly_costs_eur\",\n",
    "    text_auto=True,\n",
    "    title=\"Correlation between different load profile characteristics and relative yearly savings\")\n",
    "fig.update_layout(yaxis_title=\"Correlation coefficient\", xaxis_title=\"Variable\")"
   ]
  },
  {
   "cell_type": "code",
   "execution_count": 110,
   "id": "1c3fdd9f",
   "metadata": {},
   "outputs": [
    {
     "name": "stderr",
     "output_type": "stream",
     "text": [
      "/tmp/ipykernel_39281/2488967782.py:15: ConstantInputWarning:\n",
      "\n",
      "An input array is constant; the correlation coefficient is not defined.\n",
      "\n"
     ]
    },
    {
     "data": {
      "text/html": [
       "<div>\n",
       "<style scoped>\n",
       "    .dataframe tbody tr th:only-of-type {\n",
       "        vertical-align: middle;\n",
       "    }\n",
       "\n",
       "    .dataframe tbody tr th {\n",
       "        vertical-align: top;\n",
       "    }\n",
       "\n",
       "    .dataframe thead th {\n",
       "        text-align: right;\n",
       "    }\n",
       "</style>\n",
       "<table border=\"1\" class=\"dataframe\">\n",
       "  <thead>\n",
       "    <tr style=\"text-align: right;\">\n",
       "      <th></th>\n",
       "      <th>var</th>\n",
       "      <th>corr</th>\n",
       "      <th>p_value</th>\n",
       "    </tr>\n",
       "  </thead>\n",
       "  <tbody>\n",
       "    <tr>\n",
       "      <th>0</th>\n",
       "      <td>total_yearly_costs_eur</td>\n",
       "      <td>1.000000</td>\n",
       "      <td>0.000000e+00</td>\n",
       "    </tr>\n",
       "    <tr>\n",
       "      <th>1</th>\n",
       "      <td>grid_capacity_costs_eur</td>\n",
       "      <td>0.770037</td>\n",
       "      <td>0.000000e+00</td>\n",
       "    </tr>\n",
       "    <tr>\n",
       "      <th>2</th>\n",
       "      <td>grid_capacity_kw</td>\n",
       "      <td>0.770037</td>\n",
       "      <td>0.000000e+00</td>\n",
       "    </tr>\n",
       "    <tr>\n",
       "      <th>3</th>\n",
       "      <td>std_by_mean</td>\n",
       "      <td>0.469840</td>\n",
       "      <td>1.634740e-94</td>\n",
       "    </tr>\n",
       "    <tr>\n",
       "      <th>4</th>\n",
       "      <td>peak_by_mean</td>\n",
       "      <td>0.435124</td>\n",
       "      <td>7.742472e-80</td>\n",
       "    </tr>\n",
       "    <tr>\n",
       "      <th>5</th>\n",
       "      <td>capacity_price_over_2500h_eur_per_kw</td>\n",
       "      <td>0.321727</td>\n",
       "      <td>1.986941e-42</td>\n",
       "    </tr>\n",
       "    <tr>\n",
       "      <th>6</th>\n",
       "      <td>energy_price_under_2500h_eur_per_kwh</td>\n",
       "      <td>0.301869</td>\n",
       "      <td>2.556074e-37</td>\n",
       "    </tr>\n",
       "    <tr>\n",
       "      <th>7</th>\n",
       "      <td>capacity_price_under_2500h_eur_per_kw</td>\n",
       "      <td>0.137331</td>\n",
       "      <td>1.208779e-08</td>\n",
       "    </tr>\n",
       "    <tr>\n",
       "      <th>8</th>\n",
       "      <td>energy_price_over_2500h_eur_per_kwh</td>\n",
       "      <td>0.046163</td>\n",
       "      <td>5.646211e-02</td>\n",
       "    </tr>\n",
       "    <tr>\n",
       "      <th>9</th>\n",
       "      <td>number_of_peak_load</td>\n",
       "      <td>-0.030318</td>\n",
       "      <td>2.104443e-01</td>\n",
       "    </tr>\n",
       "    <tr>\n",
       "      <th>10</th>\n",
       "      <td>peak_load_kw</td>\n",
       "      <td>-0.031088</td>\n",
       "      <td>1.990743e-01</td>\n",
       "    </tr>\n",
       "    <tr>\n",
       "      <th>11</th>\n",
       "      <td>variance_kw</td>\n",
       "      <td>-0.056616</td>\n",
       "      <td>1.928350e-02</td>\n",
       "    </tr>\n",
       "    <tr>\n",
       "      <th>12</th>\n",
       "      <td>std_kw</td>\n",
       "      <td>-0.128394</td>\n",
       "      <td>1.012647e-07</td>\n",
       "    </tr>\n",
       "    <tr>\n",
       "      <th>13</th>\n",
       "      <td>total_energy_kwh</td>\n",
       "      <td>-0.132888</td>\n",
       "      <td>3.539090e-08</td>\n",
       "    </tr>\n",
       "    <tr>\n",
       "      <th>14</th>\n",
       "      <td>mean_load_kw</td>\n",
       "      <td>-0.132888</td>\n",
       "      <td>3.539090e-08</td>\n",
       "    </tr>\n",
       "    <tr>\n",
       "      <th>15</th>\n",
       "      <td>full_load_hours_h</td>\n",
       "      <td>-0.462528</td>\n",
       "      <td>2.799815e-91</td>\n",
       "    </tr>\n",
       "    <tr>\n",
       "      <th>16</th>\n",
       "      <td>std_by_peak</td>\n",
       "      <td>-0.469301</td>\n",
       "      <td>2.848039e-94</td>\n",
       "    </tr>\n",
       "    <tr>\n",
       "      <th>17</th>\n",
       "      <td>grid_energy_costs_eur</td>\n",
       "      <td>-0.586109</td>\n",
       "      <td>4.026764e-158</td>\n",
       "    </tr>\n",
       "    <tr>\n",
       "      <th>18</th>\n",
       "      <td>energy_costs_eur</td>\n",
       "      <td>-0.586109</td>\n",
       "      <td>4.026764e-158</td>\n",
       "    </tr>\n",
       "    <tr>\n",
       "      <th>19</th>\n",
       "      <td>is_over_2500h</td>\n",
       "      <td>NaN</td>\n",
       "      <td>NaN</td>\n",
       "    </tr>\n",
       "  </tbody>\n",
       "</table>\n",
       "</div>"
      ],
      "text/plain": [
       "                                      var      corr        p_value\n",
       "0                  total_yearly_costs_eur  1.000000   0.000000e+00\n",
       "1                 grid_capacity_costs_eur  0.770037   0.000000e+00\n",
       "2                        grid_capacity_kw  0.770037   0.000000e+00\n",
       "3                             std_by_mean  0.469840   1.634740e-94\n",
       "4                            peak_by_mean  0.435124   7.742472e-80\n",
       "5    capacity_price_over_2500h_eur_per_kw  0.321727   1.986941e-42\n",
       "6    energy_price_under_2500h_eur_per_kwh  0.301869   2.556074e-37\n",
       "7   capacity_price_under_2500h_eur_per_kw  0.137331   1.208779e-08\n",
       "8     energy_price_over_2500h_eur_per_kwh  0.046163   5.646211e-02\n",
       "9                     number_of_peak_load -0.030318   2.104443e-01\n",
       "10                           peak_load_kw -0.031088   1.990743e-01\n",
       "11                            variance_kw -0.056616   1.928350e-02\n",
       "12                                 std_kw -0.128394   1.012647e-07\n",
       "13                       total_energy_kwh -0.132888   3.539090e-08\n",
       "14                           mean_load_kw -0.132888   3.539090e-08\n",
       "15                      full_load_hours_h -0.462528   2.799815e-91\n",
       "16                            std_by_peak -0.469301   2.848039e-94\n",
       "17                  grid_energy_costs_eur -0.586109  4.026764e-158\n",
       "18                       energy_costs_eur -0.586109  4.026764e-158\n",
       "19                          is_over_2500h       NaN            NaN"
      ]
     },
     "execution_count": 110,
     "metadata": {},
     "output_type": "execute_result"
    }
   ],
   "source": [
    "df = pd.DataFrame()\n",
    "i = 0\n",
    "for var in rel_correlations_df.index:\n",
    "    if np.inf in rel_diff_with_master[var]:\n",
    "        continue\n",
    "    elif -np.inf in rel_diff_with_master[var]:\n",
    "        continue\n",
    "    elif np.nan in rel_diff_with_master[var]:\n",
    "        continue\n",
    "    elif rel_diff_with_master[var].isin([np.nan, np.inf, -np.inf]).any():\n",
    "        continue\n",
    "    if \"storage\" in var or \"inverter\" in var:\n",
    "        continue\n",
    "\n",
    "    corr, p_value = pearsonr(y=rel_diff_with_master[\"total_yearly_costs_eur\"], x=rel_diff_with_master[var])\n",
    "    df.loc[i, \"var\"] = var\n",
    "    df.loc[i, \"corr\"] = corr\n",
    "    df.loc[i, \"p_value\"] = p_value\n",
    "    i += 1\n",
    "\n",
    "df.sort_values(\"corr\", ascending=False, ignore_index=True)"
   ]
  },
  {
   "cell_type": "markdown",
   "id": "d45d6481",
   "metadata": {},
   "source": [
    "## Scatterplots"
   ]
  },
  {
   "cell_type": "code",
   "execution_count": null,
   "id": "9de8331f",
   "metadata": {},
   "outputs": [
    {
     "data": {
      "application/vnd.plotly.v1+json": {
       "config": {
        "plotlyServerURL": "https://plot.ly"
       },
       "data": [
        {
         "hovertemplate": "is_over_2500h=False<br>std_by_mean=%{x}<br>total_yearly_costs_eur=%{y}<extra></extra>",
         "legendgroup": "False",
         "marker": {
          "color": "#636efa",
          "symbol": "circle"
         },
         "mode": "markers",
         "name": "False",
         "showlegend": true,
         "type": "scattergl",
         "x": {
          "bdata": "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",
          "dtype": "f8"
         },
         "xaxis": "x",
         "y": {
          "bdata": "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",
          "dtype": "f8"
         },
         "yaxis": "y"
        },
        {
         "hovertemplate": "<b>OLS trendline</b><br>total_yearly_costs_eur = 0.202717 * std_by_mean + 3.65978<br>R<sup>2</sup>=0.000311<br><br>is_over_2500h=False<br>std_by_mean=%{x}<br>total_yearly_costs_eur=%{y} <b>(trend)</b><extra></extra>",
         "legendgroup": "False",
         "line": {
          "color": "black"
         },
         "marker": {
          "color": "#636efa",
          "symbol": "circle"
         },
         "mode": "lines",
         "name": "False",
         "showlegend": false,
         "type": "scattergl",
         "x": {
          "bdata": "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",
          "dtype": "f8"
         },
         "xaxis": "x",
         "y": {
          "bdata": "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",
          "dtype": "f8"
         },
         "yaxis": "y"
        }
       ],
       "layout": {
        "legend": {
         "title": {
          "text": "is_over_2500h"
         },
         "tracegroupgap": 0
        },
        "showlegend": false,
        "template": {
         "data": {
          "bar": [
           {
            "error_x": {
             "color": "#2a3f5f"
            },
            "error_y": {
             "color": "#2a3f5f"
            },
            "marker": {
             "line": {
              "color": "#E5ECF6",
              "width": 0.5
             },
             "pattern": {
              "fillmode": "overlay",
              "size": 10,
              "solidity": 0.2
             }
            },
            "type": "bar"
           }
          ],
          "barpolar": [
           {
            "marker": {
             "line": {
              "color": "#E5ECF6",
              "width": 0.5
             },
             "pattern": {
              "fillmode": "overlay",
              "size": 10,
              "solidity": 0.2
             }
            },
            "type": "barpolar"
           }
          ],
          "carpet": [
           {
            "aaxis": {
             "endlinecolor": "#2a3f5f",
             "gridcolor": "white",
             "linecolor": "white",
             "minorgridcolor": "white",
             "startlinecolor": "#2a3f5f"
            },
            "baxis": {
             "endlinecolor": "#2a3f5f",
             "gridcolor": "white",
             "linecolor": "white",
             "minorgridcolor": "white",
             "startlinecolor": "#2a3f5f"
            },
            "type": "carpet"
           }
          ],
          "choropleth": [
           {
            "colorbar": {
             "outlinewidth": 0,
             "ticks": ""
            },
            "type": "choropleth"
           }
          ],
          "contour": [
           {
            "colorbar": {
             "outlinewidth": 0,
             "ticks": ""
            },
            "colorscale": [
             [
              0,
              "#0d0887"
             ],
             [
              0.1111111111111111,
              "#46039f"
             ],
             [
              0.2222222222222222,
              "#7201a8"
             ],
             [
              0.3333333333333333,
              "#9c179e"
             ],
             [
              0.4444444444444444,
              "#bd3786"
             ],
             [
              0.5555555555555556,
              "#d8576b"
             ],
             [
              0.6666666666666666,
              "#ed7953"
             ],
             [
              0.7777777777777778,
              "#fb9f3a"
             ],
             [
              0.8888888888888888,
              "#fdca26"
             ],
             [
              1,
              "#f0f921"
             ]
            ],
            "type": "contour"
           }
          ],
          "contourcarpet": [
           {
            "colorbar": {
             "outlinewidth": 0,
             "ticks": ""
            },
            "type": "contourcarpet"
           }
          ],
          "heatmap": [
           {
            "colorbar": {
             "outlinewidth": 0,
             "ticks": ""
            },
            "colorscale": [
             [
              0,
              "#0d0887"
             ],
             [
              0.1111111111111111,
              "#46039f"
             ],
             [
              0.2222222222222222,
              "#7201a8"
             ],
             [
              0.3333333333333333,
              "#9c179e"
             ],
             [
              0.4444444444444444,
              "#bd3786"
             ],
             [
              0.5555555555555556,
              "#d8576b"
             ],
             [
              0.6666666666666666,
              "#ed7953"
             ],
             [
              0.7777777777777778,
              "#fb9f3a"
             ],
             [
              0.8888888888888888,
              "#fdca26"
             ],
             [
              1,
              "#f0f921"
             ]
            ],
            "type": "heatmap"
           }
          ],
          "histogram": [
           {
            "marker": {
             "pattern": {
              "fillmode": "overlay",
              "size": 10,
              "solidity": 0.2
             }
            },
            "type": "histogram"
           }
          ],
          "histogram2d": [
           {
            "colorbar": {
             "outlinewidth": 0,
             "ticks": ""
            },
            "colorscale": [
             [
              0,
              "#0d0887"
             ],
             [
              0.1111111111111111,
              "#46039f"
             ],
             [
              0.2222222222222222,
              "#7201a8"
             ],
             [
              0.3333333333333333,
              "#9c179e"
             ],
             [
              0.4444444444444444,
              "#bd3786"
             ],
             [
              0.5555555555555556,
              "#d8576b"
             ],
             [
              0.6666666666666666,
              "#ed7953"
             ],
             [
              0.7777777777777778,
              "#fb9f3a"
             ],
             [
              0.8888888888888888,
              "#fdca26"
             ],
             [
              1,
              "#f0f921"
             ]
            ],
            "type": "histogram2d"
           }
          ],
          "histogram2dcontour": [
           {
            "colorbar": {
             "outlinewidth": 0,
             "ticks": ""
            },
            "colorscale": [
             [
              0,
              "#0d0887"
             ],
             [
              0.1111111111111111,
              "#46039f"
             ],
             [
              0.2222222222222222,
              "#7201a8"
             ],
             [
              0.3333333333333333,
              "#9c179e"
             ],
             [
              0.4444444444444444,
              "#bd3786"
             ],
             [
              0.5555555555555556,
              "#d8576b"
             ],
             [
              0.6666666666666666,
              "#ed7953"
             ],
             [
              0.7777777777777778,
              "#fb9f3a"
             ],
             [
              0.8888888888888888,
              "#fdca26"
             ],
             [
              1,
              "#f0f921"
             ]
            ],
            "type": "histogram2dcontour"
           }
          ],
          "mesh3d": [
           {
            "colorbar": {
             "outlinewidth": 0,
             "ticks": ""
            },
            "type": "mesh3d"
           }
          ],
          "parcoords": [
           {
            "line": {
             "colorbar": {
              "outlinewidth": 0,
              "ticks": ""
             }
            },
            "type": "parcoords"
           }
          ],
          "pie": [
           {
            "automargin": true,
            "type": "pie"
           }
          ],
          "scatter": [
           {
            "fillpattern": {
             "fillmode": "overlay",
             "size": 10,
             "solidity": 0.2
            },
            "type": "scatter"
           }
          ],
          "scatter3d": [
           {
            "line": {
             "colorbar": {
              "outlinewidth": 0,
              "ticks": ""
             }
            },
            "marker": {
             "colorbar": {
              "outlinewidth": 0,
              "ticks": ""
             }
            },
            "type": "scatter3d"
           }
          ],
          "scattercarpet": [
           {
            "marker": {
             "colorbar": {
              "outlinewidth": 0,
              "ticks": ""
             }
            },
            "type": "scattercarpet"
           }
          ],
          "scattergeo": [
           {
            "marker": {
             "colorbar": {
              "outlinewidth": 0,
              "ticks": ""
             }
            },
            "type": "scattergeo"
           }
          ],
          "scattergl": [
           {
            "marker": {
             "colorbar": {
              "outlinewidth": 0,
              "ticks": ""
             }
            },
            "type": "scattergl"
           }
          ],
          "scattermap": [
           {
            "marker": {
             "colorbar": {
              "outlinewidth": 0,
              "ticks": ""
             }
            },
            "type": "scattermap"
           }
          ],
          "scattermapbox": [
           {
            "marker": {
             "colorbar": {
              "outlinewidth": 0,
              "ticks": ""
             }
            },
            "type": "scattermapbox"
           }
          ],
          "scatterpolar": [
           {
            "marker": {
             "colorbar": {
              "outlinewidth": 0,
              "ticks": ""
             }
            },
            "type": "scatterpolar"
           }
          ],
          "scatterpolargl": [
           {
            "marker": {
             "colorbar": {
              "outlinewidth": 0,
              "ticks": ""
             }
            },
            "type": "scatterpolargl"
           }
          ],
          "scatterternary": [
           {
            "marker": {
             "colorbar": {
              "outlinewidth": 0,
              "ticks": ""
             }
            },
            "type": "scatterternary"
           }
          ],
          "surface": [
           {
            "colorbar": {
             "outlinewidth": 0,
             "ticks": ""
            },
            "colorscale": [
             [
              0,
              "#0d0887"
             ],
             [
              0.1111111111111111,
              "#46039f"
             ],
             [
              0.2222222222222222,
              "#7201a8"
             ],
             [
              0.3333333333333333,
              "#9c179e"
             ],
             [
              0.4444444444444444,
              "#bd3786"
             ],
             [
              0.5555555555555556,
              "#d8576b"
             ],
             [
              0.6666666666666666,
              "#ed7953"
             ],
             [
              0.7777777777777778,
              "#fb9f3a"
             ],
             [
              0.8888888888888888,
              "#fdca26"
             ],
             [
              1,
              "#f0f921"
             ]
            ],
            "type": "surface"
           }
          ],
          "table": [
           {
            "cells": {
             "fill": {
              "color": "#EBF0F8"
             },
             "line": {
              "color": "white"
             }
            },
            "header": {
             "fill": {
              "color": "#C8D4E3"
             },
             "line": {
              "color": "white"
             }
            },
            "type": "table"
           }
          ]
         },
         "layout": {
          "annotationdefaults": {
           "arrowcolor": "#2a3f5f",
           "arrowhead": 0,
           "arrowwidth": 1
          },
          "autotypenumbers": "strict",
          "coloraxis": {
           "colorbar": {
            "outlinewidth": 0,
            "ticks": ""
           }
          },
          "colorscale": {
           "diverging": [
            [
             0,
             "#8e0152"
            ],
            [
             0.1,
             "#c51b7d"
            ],
            [
             0.2,
             "#de77ae"
            ],
            [
             0.3,
             "#f1b6da"
            ],
            [
             0.4,
             "#fde0ef"
            ],
            [
             0.5,
             "#f7f7f7"
            ],
            [
             0.6,
             "#e6f5d0"
            ],
            [
             0.7,
             "#b8e186"
            ],
            [
             0.8,
             "#7fbc41"
            ],
            [
             0.9,
             "#4d9221"
            ],
            [
             1,
             "#276419"
            ]
           ],
           "sequential": [
            [
             0,
             "#0d0887"
            ],
            [
             0.1111111111111111,
             "#46039f"
            ],
            [
             0.2222222222222222,
             "#7201a8"
            ],
            [
             0.3333333333333333,
             "#9c179e"
            ],
            [
             0.4444444444444444,
             "#bd3786"
            ],
            [
             0.5555555555555556,
             "#d8576b"
            ],
            [
             0.6666666666666666,
             "#ed7953"
            ],
            [
             0.7777777777777778,
             "#fb9f3a"
            ],
            [
             0.8888888888888888,
             "#fdca26"
            ],
            [
             1,
             "#f0f921"
            ]
           ],
           "sequentialminus": [
            [
             0,
             "#0d0887"
            ],
            [
             0.1111111111111111,
             "#46039f"
            ],
            [
             0.2222222222222222,
             "#7201a8"
            ],
            [
             0.3333333333333333,
             "#9c179e"
            ],
            [
             0.4444444444444444,
             "#bd3786"
            ],
            [
             0.5555555555555556,
             "#d8576b"
            ],
            [
             0.6666666666666666,
             "#ed7953"
            ],
            [
             0.7777777777777778,
             "#fb9f3a"
            ],
            [
             0.8888888888888888,
             "#fdca26"
            ],
            [
             1,
             "#f0f921"
            ]
           ]
          },
          "colorway": [
           "#636efa",
           "#EF553B",
           "#00cc96",
           "#ab63fa",
           "#FFA15A",
           "#19d3f3",
           "#FF6692",
           "#B6E880",
           "#FF97FF",
           "#FECB52"
          ],
          "font": {
           "color": "#2a3f5f"
          },
          "geo": {
           "bgcolor": "white",
           "lakecolor": "white",
           "landcolor": "#E5ECF6",
           "showlakes": true,
           "showland": true,
           "subunitcolor": "white"
          },
          "hoverlabel": {
           "align": "left"
          },
          "hovermode": "closest",
          "mapbox": {
           "style": "light"
          },
          "paper_bgcolor": "white",
          "plot_bgcolor": "#E5ECF6",
          "polar": {
           "angularaxis": {
            "gridcolor": "white",
            "linecolor": "white",
            "ticks": ""
           },
           "bgcolor": "#E5ECF6",
           "radialaxis": {
            "gridcolor": "white",
            "linecolor": "white",
            "ticks": ""
           }
          },
          "scene": {
           "xaxis": {
            "backgroundcolor": "#E5ECF6",
            "gridcolor": "white",
            "gridwidth": 2,
            "linecolor": "white",
            "showbackground": true,
            "ticks": "",
            "zerolinecolor": "white"
           },
           "yaxis": {
            "backgroundcolor": "#E5ECF6",
            "gridcolor": "white",
            "gridwidth": 2,
            "linecolor": "white",
            "showbackground": true,
            "ticks": "",
            "zerolinecolor": "white"
           },
           "zaxis": {
            "backgroundcolor": "#E5ECF6",
            "gridcolor": "white",
            "gridwidth": 2,
            "linecolor": "white",
            "showbackground": true,
            "ticks": "",
            "zerolinecolor": "white"
           }
          },
          "shapedefaults": {
           "line": {
            "color": "#2a3f5f"
           }
          },
          "ternary": {
           "aaxis": {
            "gridcolor": "white",
            "linecolor": "white",
            "ticks": ""
           },
           "baxis": {
            "gridcolor": "white",
            "linecolor": "white",
            "ticks": ""
           },
           "bgcolor": "#E5ECF6",
           "caxis": {
            "gridcolor": "white",
            "linecolor": "white",
            "ticks": ""
           }
          },
          "title": {
           "x": 0.05
          },
          "xaxis": {
           "automargin": true,
           "gridcolor": "white",
           "linecolor": "white",
           "ticks": "",
           "title": {
            "standoff": 15
           },
           "zerolinecolor": "white",
           "zerolinewidth": 2
          },
          "yaxis": {
           "automargin": true,
           "gridcolor": "white",
           "linecolor": "white",
           "ticks": "",
           "title": {
            "standoff": 15
           },
           "zerolinecolor": "white",
           "zerolinewidth": 2
          }
         }
        },
        "title": {
         "text": "Grid capacity prices vs relative yearly savings"
        },
        "xaxis": {
         "anchor": "y",
         "domain": [
          0,
          1
         ],
         "title": {
          "text": "Grid capacity costs in eur / kW"
         }
        },
        "yaxis": {
         "anchor": "x",
         "domain": [
          0,
          1
         ],
         "title": {
          "text": "Relative yearly savings in %"
         }
        }
       }
      }
     },
     "metadata": {},
     "output_type": "display_data"
    }
   ],
   "source": [
    "cap_vs_savings_fig_df = rel_diff_with_master.copy()\n",
    "cap_vs_savings_fig_df.loc[cap_vs_savings_fig_df[\"is_over_2500h\"], \"capacity_price_eur\"] = cap_vs_savings_fig_df.loc[cap_vs_savings_fig_df[\"is_over_2500h\"], \"capacity_price_over_2500h_eur_per_kw\"].copy()\n",
    "cap_vs_savings_fig_df.loc[~cap_vs_savings_fig_df[\"is_over_2500h\"], \"capacity_price_eur\"] = cap_vs_savings_fig_df.loc[~cap_vs_savings_fig_df[\"is_over_2500h\"], \"capacity_price_under_2500h_eur_per_kw\"].copy()\n",
    "cap_vs_savings_fig_df[\"total_yearly_costs_eur\"] *= 100\n",
    "cap_vs_savings_fig_df = cap_vs_savings_fig_df[cap_vs_savings_fig_df.index.isin(profiles_using_storage.index)]\n",
    "cap_vs_savings_fig_df = cap_vs_savings_fig_df[cap_vs_savings_fig_df[\"std_by_mean\"] < 2]\n",
    "# cap_vs_savings_fig_df = cap_vs_savings_fig_df[cap_vs_savings_fig_df[\"capacity_price_eur\"] < 200]\n",
    "\n",
    "cap_vs_savings_fig = px.scatter(\n",
    "    data_frame=cap_vs_savings_fig_df,\n",
    "    x=\"std_by_mean\",\n",
    "    y=\"total_yearly_costs_eur\",\n",
    "    title=\"Grid capacity prices vs relative yearly savings\",\n",
    "    color=\"is_over_2500h\",\n",
    "    trendline=\"ols\",\n",
    "    trendline_color_override=\"black\")\n",
    "cap_vs_savings_fig.update_xaxes(title=\"Grid capacity costs in eur / kW\")\n",
    "cap_vs_savings_fig.update_yaxes(title=\"Relative yearly savings in %\")\n",
    "cap_vs_savings_fig.update_layout(showlegend=False)\n",
    "cap_vs_savings_fig.show()"
   ]
  }
 ],
 "metadata": {
  "kernelspec": {
   "display_name": "env",
   "language": "python",
   "name": "python3"
  },
  "language_info": {
   "codemirror_mode": {
    "name": "ipython",
    "version": 3
   },
   "file_extension": ".py",
   "mimetype": "text/x-python",
   "name": "python",
   "nbconvert_exporter": "python",
   "pygments_lexer": "ipython3",
   "version": "3.12.3"
  }
 },
 "nbformat": 4,
 "nbformat_minor": 5
}
